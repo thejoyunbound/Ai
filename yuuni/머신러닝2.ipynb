{
 "cells": [
  {
   "cell_type": "code",
   "execution_count": 2,
   "id": "e6ca83db-28e4-4fcd-9ac1-b0d053b11f58",
   "metadata": {
    "tags": []
   },
   "outputs": [],
   "source": [
    "# 모듈임포트\n",
    "import numpy as np\n",
    "import pandas as pd\n",
    "import matplotlib.pyplot as plt\n",
    "import seaborn as sns\n",
    "\n",
    "from sklearn.model_selection import train_test_split\n",
    "from sklearn.linear_model import LinearRegression\n",
    "from sklearn.tree import DecisionTreeClassifier\n",
    "from sklearn.metrics import accuracy_score\n",
    "from sklearn.preprocessing import MinMaxScaler"
   ]
  },
  {
   "cell_type": "code",
   "execution_count": 3,
   "id": "e8770fd4-6f99-4aa8-a98c-777941335dcd",
   "metadata": {
    "tags": []
   },
   "outputs": [],
   "source": [
    "# 데이터 셋\n",
    "from sklearn.datasets import load_iris\n",
    "\n",
    "# 데이터 셋 불러오기\n",
    "X = load_iris().data\n",
    "y = load_iris().target\n",
    "\n",
    "# EdA\n",
    "# graph\n",
    "# pandas value_counts\n",
    "# train test set 분리\n",
    "X_train , X_test , y_train, y_test = train_test_split(X,y,test_size=.2)"
   ]
  },
  {
   "cell_type": "code",
   "execution_count": 4,
   "id": "4772ac6b-7cb4-4725-ae4f-cefb00c4557a",
   "metadata": {
    "tags": []
   },
   "outputs": [],
   "source": [
    "#  모델 설정\n",
    "data_split = train_test_split\n",
    "tree_clf = DecisionTreeClassifier()"
   ]
  },
  {
   "cell_type": "code",
   "execution_count": 5,
   "id": "7056fc22-5e35-4462-9973-266d360de205",
   "metadata": {
    "tags": []
   },
   "outputs": [
    {
     "data": {
      "text/plain": [
       "DecisionTreeClassifier()"
      ]
     },
     "execution_count": 5,
     "metadata": {},
     "output_type": "execute_result"
    }
   ],
   "source": [
    "tree_clf.fit(X_train,y_train)"
   ]
  },
  {
   "cell_type": "code",
   "execution_count": 6,
   "id": "ff5f9f37-73a4-4b83-b8e5-d842bf05db46",
   "metadata": {
    "tags": []
   },
   "outputs": [
    {
     "data": {
      "text/plain": [
       "0.9666666666666667"
      ]
     },
     "execution_count": 6,
     "metadata": {},
     "output_type": "execute_result"
    }
   ],
   "source": [
    "# 모델평가\n",
    "# test 데이터 사용\n",
    "pred_result = tree_clf.predict(X_test)\n",
    "np.sum(pred_result == y_test)/y_test.size\n",
    "# 모델 메소드 사용하여 score\n",
    "tree_clf.score(X_test,y_test)\n",
    "# sklearn제공하는 score함수를 사용 score 계산\n",
    "accuracy_score(tree_clf.predict(X_test),y_test)"
   ]
  },
  {
   "cell_type": "code",
   "execution_count": 7,
   "id": "82e94968-3404-45f6-820d-83ec1e1324e3",
   "metadata": {
    "tags": []
   },
   "outputs": [
    {
     "data": {
      "text/plain": [
       "array([[6.2, 2.7, 3.2, 0.7]])"
      ]
     },
     "execution_count": 7,
     "metadata": {},
     "output_type": "execute_result"
    }
   ],
   "source": [
    "# 모델활용\n",
    "new_data = np.array([6.2,2.7,3.2,0.7]).reshape(1,-1)\n",
    "new_data"
   ]
  },
  {
   "cell_type": "code",
   "execution_count": 8,
   "id": "d066123f-97d8-417d-b791-0931e1c2a400",
   "metadata": {
    "tags": []
   },
   "outputs": [
    {
     "data": {
      "text/plain": [
       "(120, 4)"
      ]
     },
     "execution_count": 8,
     "metadata": {},
     "output_type": "execute_result"
    }
   ],
   "source": [
    "X_train.shape"
   ]
  },
  {
   "cell_type": "code",
   "execution_count": 9,
   "id": "25963cb7-af30-49f2-b7a1-4fd67a399102",
   "metadata": {
    "tags": []
   },
   "outputs": [
    {
     "data": {
      "text/plain": [
       "array([0])"
      ]
     },
     "execution_count": 9,
     "metadata": {},
     "output_type": "execute_result"
    }
   ],
   "source": [
    "tree_clf.predict(new_data)"
   ]
  },
  {
   "cell_type": "code",
   "execution_count": 10,
   "id": "e83d523d-1219-476c-92d4-f142ba48ca32",
   "metadata": {
    "tags": []
   },
   "outputs": [
    {
     "data": {
      "text/plain": [
       "['__abstractmethods__',\n",
       " '__class__',\n",
       " '__delattr__',\n",
       " '__dict__',\n",
       " '__dir__',\n",
       " '__doc__',\n",
       " '__eq__',\n",
       " '__format__',\n",
       " '__ge__',\n",
       " '__getattribute__',\n",
       " '__getstate__',\n",
       " '__gt__',\n",
       " '__hash__',\n",
       " '__init__',\n",
       " '__init_subclass__',\n",
       " '__le__',\n",
       " '__lt__',\n",
       " '__module__',\n",
       " '__ne__',\n",
       " '__new__',\n",
       " '__reduce__',\n",
       " '__reduce_ex__',\n",
       " '__repr__',\n",
       " '__setattr__',\n",
       " '__setstate__',\n",
       " '__sizeof__',\n",
       " '__str__',\n",
       " '__subclasshook__',\n",
       " '__weakref__',\n",
       " '_abc_impl',\n",
       " '_check_feature_names',\n",
       " '_check_n_features',\n",
       " '_estimator_type',\n",
       " '_get_param_names',\n",
       " '_get_tags',\n",
       " '_more_tags',\n",
       " '_prune_tree',\n",
       " '_repr_html_',\n",
       " '_repr_html_inner',\n",
       " '_repr_mimebundle_',\n",
       " '_validate_X_predict',\n",
       " '_validate_data',\n",
       " 'apply',\n",
       " 'ccp_alpha',\n",
       " 'class_weight',\n",
       " 'classes_',\n",
       " 'cost_complexity_pruning_path',\n",
       " 'criterion',\n",
       " 'decision_path',\n",
       " 'feature_importances_',\n",
       " 'fit',\n",
       " 'get_depth',\n",
       " 'get_n_leaves',\n",
       " 'get_params',\n",
       " 'max_depth',\n",
       " 'max_features',\n",
       " 'max_features_',\n",
       " 'max_leaf_nodes',\n",
       " 'min_impurity_decrease',\n",
       " 'min_samples_leaf',\n",
       " 'min_samples_split',\n",
       " 'min_weight_fraction_leaf',\n",
       " 'n_classes_',\n",
       " 'n_features_',\n",
       " 'n_features_in_',\n",
       " 'n_outputs_',\n",
       " 'predict',\n",
       " 'predict_log_proba',\n",
       " 'predict_proba',\n",
       " 'random_state',\n",
       " 'score',\n",
       " 'set_params',\n",
       " 'splitter',\n",
       " 'tree_']"
      ]
     },
     "execution_count": 10,
     "metadata": {},
     "output_type": "execute_result"
    }
   ],
   "source": [
    "dir(tree_clf)"
   ]
  },
  {
   "cell_type": "code",
   "execution_count": 11,
   "id": "37355e21-3f7a-44ce-9944-c77c164f3c37",
   "metadata": {
    "tags": []
   },
   "outputs": [
    {
     "data": {
      "text/plain": [
       "{'ccp_alpha': 0.0,\n",
       " 'class_weight': None,\n",
       " 'criterion': 'gini',\n",
       " 'max_depth': None,\n",
       " 'max_features': None,\n",
       " 'max_leaf_nodes': None,\n",
       " 'min_impurity_decrease': 0.0,\n",
       " 'min_samples_leaf': 1,\n",
       " 'min_samples_split': 2,\n",
       " 'min_weight_fraction_leaf': 0.0,\n",
       " 'random_state': None,\n",
       " 'splitter': 'best'}"
      ]
     },
     "execution_count": 11,
     "metadata": {},
     "output_type": "execute_result"
    }
   ],
   "source": [
    "tree_clf.get_params()"
   ]
  },
  {
   "cell_type": "code",
   "execution_count": 12,
   "id": "53996b75-5e2f-4795-981e-c7ef859d97fa",
   "metadata": {
    "tags": []
   },
   "outputs": [],
   "source": [
    "from sklearn.tree import plot_tree"
   ]
  },
  {
   "cell_type": "code",
   "execution_count": 13,
   "id": "4ef03039-f1da-4e91-8880-405a8de8c124",
   "metadata": {
    "tags": []
   },
   "outputs": [],
   "source": [
    "tree_model = DecisionTreeClassifier(criterion = 'entropy')"
   ]
  },
  {
   "cell_type": "code",
   "execution_count": 14,
   "id": "f14c73f8-1528-4a6d-8684-9bd92e51272e",
   "metadata": {
    "tags": []
   },
   "outputs": [
    {
     "data": {
      "text/plain": [
       "{'ccp_alpha': 0.0,\n",
       " 'class_weight': None,\n",
       " 'criterion': 'entropy',\n",
       " 'max_depth': None,\n",
       " 'max_features': None,\n",
       " 'max_leaf_nodes': None,\n",
       " 'min_impurity_decrease': 0.0,\n",
       " 'min_samples_leaf': 1,\n",
       " 'min_samples_split': 2,\n",
       " 'min_weight_fraction_leaf': 0.0,\n",
       " 'random_state': None,\n",
       " 'splitter': 'best'}"
      ]
     },
     "execution_count": 14,
     "metadata": {},
     "output_type": "execute_result"
    }
   ],
   "source": [
    "tree_model.get_params()"
   ]
  },
  {
   "cell_type": "code",
   "execution_count": 15,
   "id": "57d155eb-91c2-4e70-abb1-b62f12d988c7",
   "metadata": {
    "tags": []
   },
   "outputs": [],
   "source": [
    "params = {\n",
    "    'criterion':'gini',\n",
    "    'max_depth':4,\n",
    "}\n",
    "tree_model = DecisionTreeClassifier(**params)"
   ]
  },
  {
   "cell_type": "code",
   "execution_count": 16,
   "id": "f020b431-6b7a-4e06-84b3-d2b745e33c76",
   "metadata": {
    "tags": []
   },
   "outputs": [
    {
     "data": {
      "text/plain": [
       "{'ccp_alpha': 0.0,\n",
       " 'class_weight': None,\n",
       " 'criterion': 'gini',\n",
       " 'max_depth': 4,\n",
       " 'max_features': None,\n",
       " 'max_leaf_nodes': None,\n",
       " 'min_impurity_decrease': 0.0,\n",
       " 'min_samples_leaf': 1,\n",
       " 'min_samples_split': 2,\n",
       " 'min_weight_fraction_leaf': 0.0,\n",
       " 'random_state': None,\n",
       " 'splitter': 'best'}"
      ]
     },
     "execution_count": 16,
     "metadata": {},
     "output_type": "execute_result"
    }
   ],
   "source": [
    "tree_model.get_params()"
   ]
  },
  {
   "cell_type": "code",
   "execution_count": 17,
   "id": "637089aa-9e51-4f35-9e1d-3e09a2c5500e",
   "metadata": {
    "tags": []
   },
   "outputs": [],
   "source": [
    "X = np.random.randn(1000,3)\n",
    "y = np.array([1]*999 + [0])"
   ]
  },
  {
   "cell_type": "code",
   "execution_count": 18,
   "id": "38372a15-9f0f-462f-ad7c-27bd4ae8cb45",
   "metadata": {
    "tags": []
   },
   "outputs": [
    {
     "data": {
      "text/plain": [
       "DecisionTreeClassifier()"
      ]
     },
     "execution_count": 18,
     "metadata": {},
     "output_type": "execute_result"
    }
   ],
   "source": [
    "tree_clf = DecisionTreeClassifier()\n",
    "tree_clf.fit(X,y)"
   ]
  },
  {
   "cell_type": "code",
   "execution_count": 19,
   "id": "a1bb7e32-a195-443b-8a3b-28354eb7a013",
   "metadata": {
    "tags": []
   },
   "outputs": [],
   "source": [
    "linear_model = LinearRegression()"
   ]
  },
  {
   "cell_type": "code",
   "execution_count": 20,
   "id": "65ea3d87-8331-47f7-9661-0ee9410d62ac",
   "metadata": {
    "tags": []
   },
   "outputs": [
    {
     "data": {
      "text/plain": [
       "LinearRegression()"
      ]
     },
     "execution_count": 20,
     "metadata": {},
     "output_type": "execute_result"
    }
   ],
   "source": [
    "linear_model.fit(X,y)"
   ]
  },
  {
   "cell_type": "code",
   "execution_count": 25,
   "id": "62c44fe0-4485-4c35-a004-74003933c58f",
   "metadata": {
    "tags": []
   },
   "outputs": [
    {
     "data": {
      "text/plain": [
       "0.0"
      ]
     },
     "execution_count": 25,
     "metadata": {},
     "output_type": "execute_result"
    }
   ],
   "source": [
    "accuracy_score(np.where(linear_model.predict(X) > 0,5,1),y)"
   ]
  },
  {
   "cell_type": "code",
   "execution_count": 28,
   "id": "bb7c8be8-3eea-43e9-93a4-26ee7aef2644",
   "metadata": {
    "tags": []
   },
   "outputs": [],
   "source": [
    "def prob(x):\n",
    "    returnx/np.sum(x)"
   ]
  },
  {
   "cell_type": "code",
   "execution_count": 30,
   "id": "7ed21dc9-3779-458d-aed5-a4525deb2c82",
   "metadata": {
    "tags": []
   },
   "outputs": [],
   "source": [
    "def entropy(x):\n",
    "    return np.sum\n",
    "# 중간에 날아가버림 구글 드라이브에서 꺼내서 보자"
   ]
  },
  {
   "cell_type": "code",
   "execution_count": 51,
   "id": "d0b6b9bf-ce5f-49f0-8aa6-6fedf5115b62",
   "metadata": {
    "tags": []
   },
   "outputs": [],
   "source": [
    "def monti(epoch, method):\n",
    "    prize = 0\n",
    "    for i in range(epoch):\n",
    "        sample = np.random.choice([1,2,3],1)\n",
    "        select = np.random.choice([1,2,3],1)\n",
    "        data = np.array([1,2,3])\n",
    "        show = data[(data != sample) & (data != select)][0]\n",
    "        if method == 'switch':\n",
    "            choice = data[(data != select[0]) & (data != show)]\n",
    "            prize += (choice == sample)\n",
    "        elif method == 'fix':\n",
    "            choice = select\n",
    "            prize += (choice == sample)\n",
    "        elif method == 'random':\n",
    "            choice = np.random.choice(data[data != show],1)\n",
    "            prize += (choice == sample)\n",
    "        win = np.around(prize/epoch,2)[0]*100\n",
    "    return f'{method}가 일 경우 승리 확률은 {win}%입니다.'"
   ]
  },
  {
   "cell_type": "code",
   "execution_count": 55,
   "id": "5d72517b-70ce-4a9c-b73a-907c4e125d7a",
   "metadata": {
    "tags": []
   },
   "outputs": [
    {
     "data": {
      "text/plain": [
       "'fix가 일 경우 승리 확률은 33.0%입니다.'"
      ]
     },
     "execution_count": 55,
     "metadata": {},
     "output_type": "execute_result"
    }
   ],
   "source": [
    "monti(100000,'fix')"
   ]
  },
  {
   "cell_type": "code",
   "execution_count": 54,
   "id": "8d902031-fe8c-4ca1-88fa-27898feec320",
   "metadata": {
    "tags": []
   },
   "outputs": [
    {
     "name": "stdout",
     "output_type": "stream",
     "text": [
      "지선생은 신이야\n"
     ]
    }
   ],
   "source": [
    "print('지선생은 신이야')"
   ]
  },
  {
   "cell_type": "code",
   "execution_count": 66,
   "id": "476ea4dd-e296-4fe3-b5d2-5418b0e38e65",
   "metadata": {
    "tags": []
   },
   "outputs": [],
   "source": [
    "##1\n",
    "import numpy as np\n",
    "import pandas as pd\n",
    "\n",
    "from sklearn.svm import SVC, SVR\n",
    "from sklearn.datasets import load_wine\n",
    "from sklearn.model_selection import train_test_split"
   ]
  },
  {
   "cell_type": "code",
   "execution_count": 67,
   "id": "2cfef151-913b-4a2e-ada8-65313b5ede97",
   "metadata": {
    "tags": []
   },
   "outputs": [],
   "source": [
    "##2\n",
    "X = load_wine().data\n",
    "y = load_wine().target\n",
    "X_train, X_test, y_train, y_test = train_test_split(X,y,test_size=.2)\n"
   ]
  },
  {
   "cell_type": "code",
   "execution_count": 73,
   "id": "628592bf-95c0-4491-a37f-8d828b69c8f9",
   "metadata": {
    "tags": []
   },
   "outputs": [
    {
     "data": {
      "text/plain": [
       "{'C': 1.0,\n",
       " 'break_ties': False,\n",
       " 'cache_size': 200,\n",
       " 'class_weight': None,\n",
       " 'coef0': 0.0,\n",
       " 'decision_function_shape': 'ovr',\n",
       " 'degree': 3,\n",
       " 'gamma': 'scale',\n",
       " 'kernel': 'rbf',\n",
       " 'max_iter': -1,\n",
       " 'probability': False,\n",
       " 'random_state': None,\n",
       " 'shrinking': True,\n",
       " 'tol': 0.001,\n",
       " 'verbose': False}"
      ]
     },
     "execution_count": 73,
     "metadata": {},
     "output_type": "execute_result"
    }
   ],
   "source": [
    "##3\n",
    "svm_model = SVC()\n",
    "svm_model.get_params()"
   ]
  },
  {
   "cell_type": "code",
   "execution_count": 74,
   "id": "d17455b7-d6a3-4413-a45a-b886ad63b046",
   "metadata": {
    "tags": []
   },
   "outputs": [
    {
     "data": {
      "text/plain": [
       "SVC()"
      ]
     },
     "execution_count": 74,
     "metadata": {},
     "output_type": "execute_result"
    }
   ],
   "source": [
    "##4\n",
    "svm_model.fit(X_train,y_train)"
   ]
  },
  {
   "cell_type": "code",
   "execution_count": 75,
   "id": "738d032d-cbd7-48df-91f8-0e45437a8f95",
   "metadata": {
    "tags": []
   },
   "outputs": [],
   "source": [
    "from sklearn.tree import DecisionTreeClassifier"
   ]
  },
  {
   "cell_type": "code",
   "execution_count": 76,
   "id": "ba99d471-4739-40f4-9be4-4458814fb78d",
   "metadata": {
    "tags": []
   },
   "outputs": [],
   "source": [
    "tree_model = DecisionTreeClassifier()"
   ]
  },
  {
   "cell_type": "code",
   "execution_count": 77,
   "id": "e496bbac-e28b-4459-8806-f48d780f4988",
   "metadata": {
    "tags": []
   },
   "outputs": [
    {
     "data": {
      "text/plain": [
       "DecisionTreeClassifier()"
      ]
     },
     "execution_count": 77,
     "metadata": {},
     "output_type": "execute_result"
    }
   ],
   "source": [
    "tree_model.fit(X_train,y_train)"
   ]
  },
  {
   "cell_type": "code",
   "execution_count": 78,
   "id": "5ac0ac23-6216-406c-a2d0-51df1d99f3df",
   "metadata": {
    "tags": []
   },
   "outputs": [
    {
     "data": {
      "text/plain": [
       "0.9444444444444444"
      ]
     },
     "execution_count": 78,
     "metadata": {},
     "output_type": "execute_result"
    }
   ],
   "source": [
    "tree_model.score(X_test,y_test)"
   ]
  },
  {
   "cell_type": "code",
   "execution_count": 79,
   "id": "d17ba8d7-4583-427e-9389-4b410d60d739",
   "metadata": {
    "tags": []
   },
   "outputs": [
    {
     "data": {
      "text/plain": [
       "SVC()"
      ]
     },
     "execution_count": 79,
     "metadata": {},
     "output_type": "execute_result"
    }
   ],
   "source": [
    "svm_model.fit(X_train,y_train)"
   ]
  },
  {
   "cell_type": "code",
   "execution_count": 80,
   "id": "fd6d7ed3-9ddf-49a7-a75e-ef2c44ba4d12",
   "metadata": {
    "tags": []
   },
   "outputs": [
    {
     "data": {
      "text/plain": [
       "0.9444444444444444"
      ]
     },
     "execution_count": 80,
     "metadata": {},
     "output_type": "execute_result"
    }
   ],
   "source": [
    "tree_model.score(X_test,y_test)"
   ]
  },
  {
   "cell_type": "code",
   "execution_count": 81,
   "id": "4ab142cd-7522-474a-8add-da91337887d5",
   "metadata": {
    "tags": []
   },
   "outputs": [],
   "source": [
    "svm_model = SVC(kernel='linear')"
   ]
  },
  {
   "cell_type": "code",
   "execution_count": 82,
   "id": "b909985c-efa8-45e5-90a7-c35e8e4bbd2a",
   "metadata": {
    "tags": []
   },
   "outputs": [
    {
     "ename": "SyntaxError",
     "evalue": "invalid syntax (4079339489.py, line 2)",
     "output_type": "error",
     "traceback": [
      "\u001b[1;36m  File \u001b[1;32m\"C:\\Users\\bjlov\\AppData\\Local\\Temp\\ipykernel_17560\\4079339489.py\"\u001b[1;36m, line \u001b[1;32m2\u001b[0m\n\u001b[1;33m    svm_model =\u001b[0m\n\u001b[1;37m                ^\u001b[0m\n\u001b[1;31mSyntaxError\u001b[0m\u001b[1;31m:\u001b[0m invalid syntax\n"
     ]
    }
   ],
   "source": [
    "svm_model = fit(X_train,y_train)\n",
    "svm_model = "
   ]
  },
  {
   "cell_type": "code",
   "execution_count": null,
   "id": "d4532577-becf-4bdd-981d-8cb7b344c3ba",
   "metadata": {},
   "outputs": [],
   "source": [
    "for i ['linear', 'rbf','sigmoid']:\n",
    "    svm_model = SVC(kernel)"
   ]
  }
 ],
 "metadata": {
  "kernelspec": {
   "display_name": "Python 3 (ipykernel)",
   "language": "python",
   "name": "python3"
  },
  "language_info": {
   "codemirror_mode": {
    "name": "ipython",
    "version": 3
   },
   "file_extension": ".py",
   "mimetype": "text/x-python",
   "name": "python",
   "nbconvert_exporter": "python",
   "pygments_lexer": "ipython3",
   "version": "3.9.13"
  }
 },
 "nbformat": 4,
 "nbformat_minor": 5
}
