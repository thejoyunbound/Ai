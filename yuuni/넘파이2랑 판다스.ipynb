{
 "cells": [
  {
   "cell_type": "code",
   "execution_count": null,
   "id": "dc4474c6-4d98-444b-8dcc-8003b38da809",
   "metadata": {},
   "outputs": [],
   "source": [
    "import numpy as np\n",
    "arr = np.arange(1,7).reshape(2,3)"
   ]
  },
  {
   "cell_type": "code",
   "execution_count": null,
   "id": "1316f064-4a47-4dbc-9c89-460b99de35d8",
   "metadata": {},
   "outputs": [
    {
     "data": {
      "text/plain": [
       "21"
      ]
     },
     "execution_count": 457,
     "metadata": {},
     "output_type": "execute_result"
    }
   ],
   "source": [
    "arr.sum()"
   ]
  },
  {
   "cell_type": "code",
   "execution_count": null,
   "id": "5f20ebec-1e83-4b7a-9c76-e7820ca6196f",
   "metadata": {},
   "outputs": [
    {
     "name": "stdout",
     "output_type": "stream",
     "text": [
      "위메이드 떡상\n"
     ]
    }
   ],
   "source": [
    "print('위메이드 떡상')"
   ]
  },
  {
   "cell_type": "code",
   "execution_count": null,
   "id": "f3b56e43-c24d-4ebc-acd8-36b0d9bf70bc",
   "metadata": {},
   "outputs": [
    {
     "data": {
      "text/plain": [
       "array([5, 7, 9])"
      ]
     },
     "execution_count": 459,
     "metadata": {},
     "output_type": "execute_result"
    }
   ],
   "source": [
    "arr.sum(axis=0)\n",
    "np.sum(arr,axis=0)"
   ]
  },
  {
   "cell_type": "code",
   "execution_count": null,
   "id": "accfa4ab-a619-420f-bf56-a77228d8e063",
   "metadata": {},
   "outputs": [
    {
     "data": {
      "text/plain": [
       "array([ 6, 15])"
      ]
     },
     "execution_count": 460,
     "metadata": {},
     "output_type": "execute_result"
    }
   ],
   "source": [
    "arr.sum(axis=1)"
   ]
  },
  {
   "cell_type": "code",
   "execution_count": null,
   "id": "5bad587b-4238-4df4-9a2e-54b02c3b616b",
   "metadata": {},
   "outputs": [
    {
     "name": "stdout",
     "output_type": "stream",
     "text": [
      "[[1 2 3]\n",
      " [4 5 6]]\n",
      "(2, 3)\n"
     ]
    },
    {
     "data": {
      "text/plain": [
       "21"
      ]
     },
     "execution_count": 461,
     "metadata": {},
     "output_type": "execute_result"
    }
   ],
   "source": [
    "print(arr)\n",
    "print(arr.shape)\n",
    "arr.sum()"
   ]
  },
  {
   "cell_type": "code",
   "execution_count": null,
   "id": "5c62a8f2-a1bf-4013-b2ac-15077994e36c",
   "metadata": {},
   "outputs": [
    {
     "data": {
      "text/plain": [
       "array([5, 7, 9])"
      ]
     },
     "execution_count": 462,
     "metadata": {},
     "output_type": "execute_result"
    }
   ],
   "source": [
    "arr.sum(axis=0)\n",
    "np.sum(arr,axis=0)"
   ]
  },
  {
   "cell_type": "code",
   "execution_count": null,
   "id": "b3c89a5c-5019-4139-b2e8-c1d1d54347d2",
   "metadata": {},
   "outputs": [
    {
     "data": {
      "text/plain": [
       "array([ 6, 15])"
      ]
     },
     "execution_count": 463,
     "metadata": {},
     "output_type": "execute_result"
    }
   ],
   "source": [
    "arr.sum(axis=1)\n",
    "np.sum(arr,axis=1)"
   ]
  },
  {
   "cell_type": "code",
   "execution_count": null,
   "id": "2917630e-099e-4821-b64e-0a8c850984c5",
   "metadata": {},
   "outputs": [],
   "source": [
    "arr = np.arange(1,19).reshape(3,2,3)"
   ]
  },
  {
   "cell_type": "code",
   "execution_count": null,
   "id": "dd81cd7a-237b-49b7-81df-fc27ab29c53e",
   "metadata": {},
   "outputs": [
    {
     "data": {
      "text/plain": [
       "(2, 3)"
      ]
     },
     "execution_count": 465,
     "metadata": {},
     "output_type": "execute_result"
    }
   ],
   "source": [
    "arr.sum(axis=0).shape"
   ]
  },
  {
   "cell_type": "code",
   "execution_count": null,
   "id": "4f98f258-0249-4262-a6b7-f88a9f3fcf48",
   "metadata": {},
   "outputs": [
    {
     "ename": "AxisError",
     "evalue": "axis 3 is out of bounds for array of dimension 3",
     "output_type": "error",
     "traceback": [
      "\u001b[1;31m---------------------------------------------------------------------------\u001b[0m",
      "\u001b[1;31mAxisError\u001b[0m                                 Traceback (most recent call last)",
      "\u001b[1;32m~\\AppData\\Local\\Temp\\ipykernel_18000\\2690691504.py\u001b[0m in \u001b[0;36m<module>\u001b[1;34m\u001b[0m\n\u001b[1;32m----> 1\u001b[1;33m \u001b[0marr\u001b[0m\u001b[1;33m.\u001b[0m\u001b[0msum\u001b[0m\u001b[1;33m(\u001b[0m\u001b[0maxis\u001b[0m\u001b[1;33m=\u001b[0m\u001b[1;36m3\u001b[0m\u001b[1;33m)\u001b[0m\u001b[1;33m\u001b[0m\u001b[1;33m\u001b[0m\u001b[0m\n\u001b[0m",
      "\u001b[1;32m~\\anaconda3\\lib\\site-packages\\numpy\\core\\_methods.py\u001b[0m in \u001b[0;36m_sum\u001b[1;34m(a, axis, dtype, out, keepdims, initial, where)\u001b[0m\n\u001b[0;32m     46\u001b[0m def _sum(a, axis=None, dtype=None, out=None, keepdims=False,\n\u001b[0;32m     47\u001b[0m          initial=_NoValue, where=True):\n\u001b[1;32m---> 48\u001b[1;33m     \u001b[1;32mreturn\u001b[0m \u001b[0mumr_sum\u001b[0m\u001b[1;33m(\u001b[0m\u001b[0ma\u001b[0m\u001b[1;33m,\u001b[0m \u001b[0maxis\u001b[0m\u001b[1;33m,\u001b[0m \u001b[0mdtype\u001b[0m\u001b[1;33m,\u001b[0m \u001b[0mout\u001b[0m\u001b[1;33m,\u001b[0m \u001b[0mkeepdims\u001b[0m\u001b[1;33m,\u001b[0m \u001b[0minitial\u001b[0m\u001b[1;33m,\u001b[0m \u001b[0mwhere\u001b[0m\u001b[1;33m)\u001b[0m\u001b[1;33m\u001b[0m\u001b[1;33m\u001b[0m\u001b[0m\n\u001b[0m\u001b[0;32m     49\u001b[0m \u001b[1;33m\u001b[0m\u001b[0m\n\u001b[0;32m     50\u001b[0m def _prod(a, axis=None, dtype=None, out=None, keepdims=False,\n",
      "\u001b[1;31mAxisError\u001b[0m: axis 3 is out of bounds for array of dimension 3"
     ]
    }
   ],
   "source": [
    "arr.sum(axis=3)"
   ]
  },
  {
   "cell_type": "code",
   "execution_count": null,
   "id": "4fc04033-b0b6-4cfa-be2f-928fbe21830f",
   "metadata": {},
   "outputs": [],
   "source": [
    "arr = np.arange(1,7).reshape(2,3)"
   ]
  },
  {
   "cell_type": "code",
   "execution_count": null,
   "id": "7b8bd758-b66e-4e3d-8f15-4230d6da3ad2",
   "metadata": {},
   "outputs": [
    {
     "data": {
      "text/plain": [
       "array([[1.5, 1.5, 1.5],\n",
       "       [1.5, 1.5, 1.5],\n",
       "       [1.5, 1.5, 1.5]])"
      ]
     },
     "execution_count": 467,
     "metadata": {},
     "output_type": "execute_result"
    }
   ],
   "source": [
    "arr.mean(axis=0)\n",
    "np.around(arr.std(axis=1),2)"
   ]
  },
  {
   "cell_type": "code",
   "execution_count": null,
   "id": "b808f2bf-1ba5-4171-ba47-64e636e2fee9",
   "metadata": {},
   "outputs": [
    {
     "data": {
      "text/plain": [
       "array([[1.5, 1.5, 1.5],\n",
       "       [1.5, 1.5, 1.5],\n",
       "       [1.5, 1.5, 1.5]])"
      ]
     },
     "execution_count": 468,
     "metadata": {},
     "output_type": "execute_result"
    }
   ],
   "source": [
    "np.std(arr,axis=1)"
   ]
  },
  {
   "cell_type": "code",
   "execution_count": null,
   "id": "7c471949-61e1-47d1-ba76-04f3ed4cf105",
   "metadata": {},
   "outputs": [
    {
     "ename": "AttributeError",
     "evalue": "'numpy.ndarray' object has no attribute 'around'",
     "output_type": "error",
     "traceback": [
      "\u001b[1;31m---------------------------------------------------------------------------\u001b[0m",
      "\u001b[1;31mAttributeError\u001b[0m                            Traceback (most recent call last)",
      "\u001b[1;32m~\\AppData\\Local\\Temp\\ipykernel_18000\\2671422531.py\u001b[0m in \u001b[0;36m<module>\u001b[1;34m\u001b[0m\n\u001b[1;32m----> 1\u001b[1;33m \u001b[0marr\u001b[0m\u001b[1;33m.\u001b[0m\u001b[0mstd\u001b[0m\u001b[1;33m(\u001b[0m\u001b[0maxis\u001b[0m\u001b[1;33m=\u001b[0m\u001b[1;36m1\u001b[0m\u001b[1;33m)\u001b[0m\u001b[1;33m.\u001b[0m\u001b[0maround\u001b[0m\u001b[1;33m(\u001b[0m\u001b[1;36m2\u001b[0m\u001b[1;33m)\u001b[0m\u001b[1;33m\u001b[0m\u001b[1;33m\u001b[0m\u001b[0m\n\u001b[0m",
      "\u001b[1;31mAttributeError\u001b[0m: 'numpy.ndarray' object has no attribute 'around'"
     ]
    }
   ],
   "source": [
    "arr.std(axis=1).around(2)"
   ]
  },
  {
   "cell_type": "code",
   "execution_count": null,
   "id": "0f7e0aa8-c37a-4ac8-8133-9ab7987ac0c0",
   "metadata": {},
   "outputs": [
    {
     "data": {
      "text/plain": [
       "array([[[2.71828183e+00, 7.38905610e+00, 2.00855369e+01],\n",
       "        [5.45981500e+01, 1.48413159e+02, 4.03428793e+02]],\n",
       "\n",
       "       [[1.09663316e+03, 2.98095799e+03, 8.10308393e+03],\n",
       "        [2.20264658e+04, 5.98741417e+04, 1.62754791e+05]],\n",
       "\n",
       "       [[4.42413392e+05, 1.20260428e+06, 3.26901737e+06],\n",
       "        [8.88611052e+06, 2.41549528e+07, 6.56599691e+07]]])"
      ]
     },
     "execution_count": 470,
     "metadata": {},
     "output_type": "execute_result"
    }
   ],
   "source": [
    "np.exp(arr)\n",
    "# np.exp(arr,axis=0)"
   ]
  },
  {
   "cell_type": "code",
   "execution_count": null,
   "id": "0b675eb5-17dc-4cef-9e62-62eecf30264b",
   "metadata": {},
   "outputs": [
    {
     "data": {
      "text/plain": [
       "array([[[0.        , 0.69314718, 1.09861229],\n",
       "        [1.38629436, 1.60943791, 1.79175947]],\n",
       "\n",
       "       [[1.94591015, 2.07944154, 2.19722458],\n",
       "        [2.30258509, 2.39789527, 2.48490665]],\n",
       "\n",
       "       [[2.56494936, 2.63905733, 2.7080502 ],\n",
       "        [2.77258872, 2.83321334, 2.89037176]]])"
      ]
     },
     "execution_count": 471,
     "metadata": {},
     "output_type": "execute_result"
    }
   ],
   "source": [
    "np.log(arr)"
   ]
  },
  {
   "cell_type": "code",
   "execution_count": null,
   "id": "911f48da-2b6c-440d-b010-ab7760fc1d30",
   "metadata": {},
   "outputs": [
    {
     "data": {
      "text/plain": [
       "array([[[ 1.,  2.,  3.],\n",
       "        [ 4.,  5.,  6.]],\n",
       "\n",
       "       [[ 7.,  8.,  9.],\n",
       "        [10., 11., 12.]],\n",
       "\n",
       "       [[13., 14., 15.],\n",
       "        [16., 17., 18.]]])"
      ]
     },
     "execution_count": 472,
     "metadata": {},
     "output_type": "execute_result"
    }
   ],
   "source": [
    "np.log(np.exp(arr))"
   ]
  },
  {
   "cell_type": "code",
   "execution_count": null,
   "id": "8b357327-9f83-4ede-a935-a8b9d7f95e65",
   "metadata": {},
   "outputs": [],
   "source": [
    "arr1 = np.arange(1,5).reshape(4,1)\n",
    "arr2 = np.arange(5,9).reshape(4,1) "
   ]
  },
  {
   "cell_type": "code",
   "execution_count": null,
   "id": "69e04375-d639-472f-85bc-a8745f867a36",
   "metadata": {},
   "outputs": [
    {
     "name": "stdout",
     "output_type": "stream",
     "text": [
      "[[1]\n",
      " [2]\n",
      " [3]\n",
      " [4]]\n",
      "[[5]\n",
      " [6]\n",
      " [7]\n",
      " [8]]\n"
     ]
    }
   ],
   "source": [
    "print(arr1)\n",
    "print(arr2)"
   ]
  },
  {
   "cell_type": "code",
   "execution_count": null,
   "id": "01954249-e3ee-40b9-9d1d-1a74957b7419",
   "metadata": {},
   "outputs": [
    {
     "data": {
      "text/plain": [
       "array([[4.],\n",
       "       [4.],\n",
       "       [4.],\n",
       "       [4.]])"
      ]
     },
     "execution_count": 475,
     "metadata": {},
     "output_type": "execute_result"
    }
   ],
   "source": [
    "np.sqrt((arr1 - arr2)**2)"
   ]
  },
  {
   "cell_type": "code",
   "execution_count": null,
   "id": "38c81f9f-2a36-4836-93fa-e89e02de6c33",
   "metadata": {},
   "outputs": [],
   "source": [
    "arr = np.random.randint(1,100,5)"
   ]
  },
  {
   "cell_type": "code",
   "execution_count": null,
   "id": "e848e9fe-9ecd-4e0a-9e91-6cb5b59bb026",
   "metadata": {},
   "outputs": [],
   "source": [
    "arr.sort()"
   ]
  },
  {
   "cell_type": "code",
   "execution_count": null,
   "id": "d70278f7-2fa1-41a2-a7d6-144b9ea80398",
   "metadata": {},
   "outputs": [
    {
     "data": {
      "text/plain": [
       "array([ 9, 13, 31, 54, 98])"
      ]
     },
     "execution_count": 478,
     "metadata": {},
     "output_type": "execute_result"
    }
   ],
   "source": [
    "arr"
   ]
  },
  {
   "cell_type": "code",
   "execution_count": null,
   "id": "25226627-bded-4a36-b908-e772a55cb0a2",
   "metadata": {},
   "outputs": [
    {
     "data": {
      "text/plain": [
       "array([ 9, 13, 31, 54, 98])"
      ]
     },
     "execution_count": 479,
     "metadata": {},
     "output_type": "execute_result"
    }
   ],
   "source": [
    "np.sort(arr)"
   ]
  },
  {
   "cell_type": "code",
   "execution_count": null,
   "id": "4b6ce30b-3fd7-42b3-a684-43ab59c6cc3d",
   "metadata": {},
   "outputs": [
    {
     "data": {
      "text/plain": [
       "array([ 9, 13, 31, 54, 98])"
      ]
     },
     "execution_count": 480,
     "metadata": {},
     "output_type": "execute_result"
    }
   ],
   "source": [
    "np.sort(arr)"
   ]
  },
  {
   "cell_type": "code",
   "execution_count": null,
   "id": "42037d9b-42ac-4830-aca9-0f03fe10bd24",
   "metadata": {},
   "outputs": [
    {
     "data": {
      "text/plain": [
       "array([ 9, 13, 31, 54, 98])"
      ]
     },
     "execution_count": 481,
     "metadata": {},
     "output_type": "execute_result"
    }
   ],
   "source": [
    "arr[np.argsort(arr)]"
   ]
  },
  {
   "cell_type": "code",
   "execution_count": null,
   "id": "7b0f7c79-a74b-429f-9f66-fdf8580f6bb8",
   "metadata": {},
   "outputs": [],
   "source": [
    "arr = np.random.randint(1,5,10).reshape(5,2)"
   ]
  },
  {
   "cell_type": "code",
   "execution_count": null,
   "id": "20af2eaa-3d45-4b2c-8132-88df06ea904c",
   "metadata": {},
   "outputs": [
    {
     "data": {
      "text/plain": [
       "array([[3, 4],\n",
       "       [2, 1]])"
      ]
     },
     "execution_count": 483,
     "metadata": {},
     "output_type": "execute_result"
    }
   ],
   "source": [
    "arr[np.argsort(arr[0]),:]"
   ]
  },
  {
   "cell_type": "code",
   "execution_count": null,
   "id": "076c6254-6c2d-4e0c-9e33-4e8ef4f83e6f",
   "metadata": {},
   "outputs": [
    {
     "data": {
      "text/plain": [
       "array([[1, 1],\n",
       "       [2, 1],\n",
       "       [2, 3],\n",
       "       [2, 2],\n",
       "       [3, 4]])"
      ]
     },
     "execution_count": 484,
     "metadata": {},
     "output_type": "execute_result"
    }
   ],
   "source": [
    "arr[np.argsort(arr[:,0]),:]"
   ]
  },
  {
   "cell_type": "code",
   "execution_count": null,
   "id": "6f89849a-7b07-44ba-aca3-9b832daaf502",
   "metadata": {},
   "outputs": [
    {
     "data": {
      "text/plain": [
       "array([[1, 1],\n",
       "       [2, 1],\n",
       "       [2, 3],\n",
       "       [2, 2],\n",
       "       [3, 4]])"
      ]
     },
     "execution_count": 485,
     "metadata": {},
     "output_type": "execute_result"
    }
   ],
   "source": [
    "arr[np.argsort(arr[:,0]),:]"
   ]
  },
  {
   "cell_type": "code",
   "execution_count": null,
   "id": "c0d75ef8-dbf9-4a98-9d1c-8bc045b0808a",
   "metadata": {},
   "outputs": [
    {
     "data": {
      "text/plain": [
       "array([[2, 1],\n",
       "       [2, 3],\n",
       "       [1, 1],\n",
       "       [2, 2],\n",
       "       [3, 4]])"
      ]
     },
     "execution_count": 486,
     "metadata": {},
     "output_type": "execute_result"
    }
   ],
   "source": [
    "arr[[1,2,4,3,0],:]"
   ]
  },
  {
   "cell_type": "code",
   "execution_count": null,
   "id": "d7eaa721-0599-4d6d-b4bd-18c233c461ce",
   "metadata": {},
   "outputs": [
    {
     "data": {
      "text/plain": [
       "array([[3, 4],\n",
       "       [2, 2],\n",
       "       [2, 3],\n",
       "       [2, 1],\n",
       "       [1, 1]])"
      ]
     },
     "execution_count": 487,
     "metadata": {},
     "output_type": "execute_result"
    }
   ],
   "source": [
    "arr[np.argsort(arr[:,0]),:]\n",
    "arr[np.argsort(arr[:,0])[::-1],:]"
   ]
  },
  {
   "cell_type": "code",
   "execution_count": null,
   "id": "e70d7b11-9d1d-427d-a703-144c38226940",
   "metadata": {},
   "outputs": [
    {
     "name": "stdout",
     "output_type": "stream",
     "text": [
      "[1 2 3]\n",
      "(3,)\n",
      "[4 5 6]\n",
      "(3,)\n"
     ]
    }
   ],
   "source": [
    "arr1 = np.array([1,2,3])\n",
    "arr2 = np.array([4,5,6])\n",
    "print(arr1)\n",
    "print(arr1.shape)\n",
    "print(arr2)\n",
    "print(arr2.shape)"
   ]
  },
  {
   "cell_type": "code",
   "execution_count": null,
   "id": "175bed81-0d12-4f5c-b326-2983a2d2dc26",
   "metadata": {},
   "outputs": [
    {
     "name": "stdout",
     "output_type": "stream",
     "text": [
      "[[1 2 3]\n",
      " [4 5 6]]\n",
      "(2, 3)\n"
     ]
    }
   ],
   "source": [
    "arr3 = np.vstack((arr1,arr2))\n",
    "print(arr3)\n",
    "print(arr3.shape)"
   ]
  },
  {
   "cell_type": "code",
   "execution_count": null,
   "id": "c0c7c86b-40d5-4bd3-aa1e-418d6f57631e",
   "metadata": {},
   "outputs": [],
   "source": [
    "## 2차원의 vstack\n",
    "arr1 = np.array([1,2,3]).reshape(1,3)\n",
    "arr2 = np.array([[4,5,6],\n",
    "                [7,8,9]])"
   ]
  },
  {
   "cell_type": "code",
   "execution_count": null,
   "id": "0ea7d693-2f4a-4323-9f5d-6a9fbb0fd8ba",
   "metadata": {},
   "outputs": [
    {
     "name": "stdout",
     "output_type": "stream",
     "text": [
      "(1, 3)\n",
      "(2, 3)\n"
     ]
    }
   ],
   "source": [
    "print(arr1.shape)\n",
    "print(arr2.shape)"
   ]
  },
  {
   "cell_type": "code",
   "execution_count": null,
   "id": "bf28bc35-2303-4733-9dc9-ec2d92abdbe0",
   "metadata": {},
   "outputs": [],
   "source": [
    "arr1 = np.array([1,2,3]).reshape(3,1)\n",
    "arr2 = np.array([4,5,6]).reshape(3,1)"
   ]
  },
  {
   "cell_type": "code",
   "execution_count": null,
   "id": "f97e6c89-e5fd-47cc-ab02-0bc7e64b84f9",
   "metadata": {},
   "outputs": [],
   "source": [
    "arr3 = np.hstack((arr1,arr2))"
   ]
  },
  {
   "cell_type": "code",
   "execution_count": null,
   "id": "666cc0bc-8130-4e69-ade5-3252fc6da606",
   "metadata": {},
   "outputs": [
    {
     "data": {
      "text/plain": [
       "array([[1, 4],\n",
       "       [2, 5],\n",
       "       [3, 6]])"
      ]
     },
     "execution_count": 494,
     "metadata": {},
     "output_type": "execute_result"
    }
   ],
   "source": [
    "arr3"
   ]
  },
  {
   "cell_type": "code",
   "execution_count": null,
   "id": "9b15ca4b-38f5-4056-8080-44d4bc9b7339",
   "metadata": {},
   "outputs": [],
   "source": [
    "arr4 = np.hstack((arr3,arr1))"
   ]
  },
  {
   "cell_type": "code",
   "execution_count": null,
   "id": "e16df40c-e8fb-45ba-82e4-044bf0e7e07a",
   "metadata": {},
   "outputs": [
    {
     "data": {
      "text/plain": [
       "array([[1, 4, 1],\n",
       "       [2, 5, 2],\n",
       "       [3, 6, 3]])"
      ]
     },
     "execution_count": 496,
     "metadata": {},
     "output_type": "execute_result"
    }
   ],
   "source": [
    "arr4"
   ]
  },
  {
   "cell_type": "code",
   "execution_count": null,
   "id": "a988ac21-7cf3-4511-9696-0f8b4a35bead",
   "metadata": {},
   "outputs": [],
   "source": [
    "arr1 = np.array([1,2,3])\n",
    "arr2 = np.array([4,5,6])"
   ]
  },
  {
   "cell_type": "code",
   "execution_count": null,
   "id": "67480ead-e597-4bc4-88ff-b62b4419e0b4",
   "metadata": {},
   "outputs": [
    {
     "data": {
      "text/plain": [
       "array([[1, 2, 3],\n",
       "       [4, 5, 6]])"
      ]
     },
     "execution_count": 498,
     "metadata": {},
     "output_type": "execute_result"
    }
   ],
   "source": [
    "np.vstack((arr1,arr2))"
   ]
  },
  {
   "cell_type": "code",
   "execution_count": null,
   "id": "36a2a838-b9c7-40f6-85d6-7f34ae3787de",
   "metadata": {},
   "outputs": [
    {
     "data": {
      "text/plain": [
       "array([1, 2, 3, 4, 5, 6])"
      ]
     },
     "execution_count": 499,
     "metadata": {},
     "output_type": "execute_result"
    }
   ],
   "source": [
    "np.hstack((arr1,arr2))"
   ]
  },
  {
   "cell_type": "code",
   "execution_count": null,
   "id": "677e22d9-9d6b-45f7-bbc2-3f09b932e0c7",
   "metadata": {},
   "outputs": [],
   "source": [
    "arr1 = np.array([1,2,3]).reshape(3,1)\n",
    "arr2 = np.array([4,5,6])"
   ]
  },
  {
   "cell_type": "code",
   "execution_count": null,
   "id": "653538a7-c901-4055-a94b-aa2c507a4311",
   "metadata": {},
   "outputs": [
    {
     "ename": "ValueError",
     "evalue": "all the input arrays must have same number of dimensions, but the array at index 0 has 2 dimension(s) and the array at index 1 has 1 dimension(s)",
     "output_type": "error",
     "traceback": [
      "\u001b[1;31m---------------------------------------------------------------------------\u001b[0m",
      "\u001b[1;31mValueError\u001b[0m                                Traceback (most recent call last)",
      "\u001b[1;32m~\\AppData\\Local\\Temp\\ipykernel_18000\\2190662806.py\u001b[0m in \u001b[0;36m<module>\u001b[1;34m\u001b[0m\n\u001b[1;32m----> 1\u001b[1;33m \u001b[0mnp\u001b[0m\u001b[1;33m.\u001b[0m\u001b[0mhstack\u001b[0m\u001b[1;33m(\u001b[0m\u001b[1;33m(\u001b[0m\u001b[0marr1\u001b[0m\u001b[1;33m,\u001b[0m\u001b[0marr2\u001b[0m\u001b[1;33m)\u001b[0m\u001b[1;33m)\u001b[0m\u001b[1;33m\u001b[0m\u001b[1;33m\u001b[0m\u001b[0m\n\u001b[0m",
      "\u001b[1;32m<__array_function__ internals>\u001b[0m in \u001b[0;36mhstack\u001b[1;34m(*args, **kwargs)\u001b[0m\n",
      "\u001b[1;32m~\\anaconda3\\lib\\site-packages\\numpy\\core\\shape_base.py\u001b[0m in \u001b[0;36mhstack\u001b[1;34m(tup)\u001b[0m\n\u001b[0;32m    343\u001b[0m         \u001b[1;32mreturn\u001b[0m \u001b[0m_nx\u001b[0m\u001b[1;33m.\u001b[0m\u001b[0mconcatenate\u001b[0m\u001b[1;33m(\u001b[0m\u001b[0marrs\u001b[0m\u001b[1;33m,\u001b[0m \u001b[1;36m0\u001b[0m\u001b[1;33m)\u001b[0m\u001b[1;33m\u001b[0m\u001b[1;33m\u001b[0m\u001b[0m\n\u001b[0;32m    344\u001b[0m     \u001b[1;32melse\u001b[0m\u001b[1;33m:\u001b[0m\u001b[1;33m\u001b[0m\u001b[1;33m\u001b[0m\u001b[0m\n\u001b[1;32m--> 345\u001b[1;33m         \u001b[1;32mreturn\u001b[0m \u001b[0m_nx\u001b[0m\u001b[1;33m.\u001b[0m\u001b[0mconcatenate\u001b[0m\u001b[1;33m(\u001b[0m\u001b[0marrs\u001b[0m\u001b[1;33m,\u001b[0m \u001b[1;36m1\u001b[0m\u001b[1;33m)\u001b[0m\u001b[1;33m\u001b[0m\u001b[1;33m\u001b[0m\u001b[0m\n\u001b[0m\u001b[0;32m    346\u001b[0m \u001b[1;33m\u001b[0m\u001b[0m\n\u001b[0;32m    347\u001b[0m \u001b[1;33m\u001b[0m\u001b[0m\n",
      "\u001b[1;32m<__array_function__ internals>\u001b[0m in \u001b[0;36mconcatenate\u001b[1;34m(*args, **kwargs)\u001b[0m\n",
      "\u001b[1;31mValueError\u001b[0m: all the input arrays must have same number of dimensions, but the array at index 0 has 2 dimension(s) and the array at index 1 has 1 dimension(s)"
     ]
    }
   ],
   "source": [
    "np.hstack((arr1,arr2))"
   ]
  },
  {
   "cell_type": "code",
   "execution_count": null,
   "id": "5151f792-224d-4a96-89b8-3dff7a337c18",
   "metadata": {},
   "outputs": [],
   "source": [
    "arr1 = np.array([1,2,3])\n",
    "arr2 = np.array([4,5,6])\n",
    "np.concatenate((arr1,arr2))\n",
    "# shape -target(1차원과,2차원 정의), target2(1차원, 2차원) \n",
    "arr1 = np.array([1,2,3]).reshape(1,3)\n",
    "arr2 = np.array([4,5,6]).reshape(1,3)\n",
    "np.concatenate((arr1,arr2),axis=0)\n",
    "np.concatenate((arr1,arr2),axis=1)\n",
    "# np.concatenate((arr1,arr2),axis=0)"
   ]
  },
  {
   "cell_type": "code",
   "execution_count": null,
   "id": "a7148e51-c89e-4541-bb3d-0cc4bb606f31",
   "metadata": {},
   "outputs": [],
   "source": [
    "arr1 = np.array([[1,2],\n",
    "                [3,4]])\n",
    "arr2 = np.array([[5,6]])"
   ]
  },
  {
   "cell_type": "code",
   "execution_count": null,
   "id": "193d9c96-343f-4b70-a8c4-ec63e6ceeaaa",
   "metadata": {},
   "outputs": [
    {
     "data": {
      "text/plain": [
       "array([[1],\n",
       "       [2],\n",
       "       [3]])"
      ]
     },
     "execution_count": 502,
     "metadata": {},
     "output_type": "execute_result"
    }
   ],
   "source": [
    "arr1"
   ]
  },
  {
   "cell_type": "code",
   "execution_count": null,
   "id": "351ae597-9fbc-46ee-90a6-019af7b56b7c",
   "metadata": {},
   "outputs": [
    {
     "data": {
      "text/plain": [
       "array([4, 5, 6])"
      ]
     },
     "execution_count": 503,
     "metadata": {},
     "output_type": "execute_result"
    }
   ],
   "source": [
    "arr2"
   ]
  },
  {
   "cell_type": "code",
   "execution_count": null,
   "id": "f3c5d8a9-b0b0-4172-b237-b8395a2811ab",
   "metadata": {},
   "outputs": [
    {
     "ename": "ValueError",
     "evalue": "all the input arrays must have same number of dimensions, but the array at index 0 has 2 dimension(s) and the array at index 1 has 1 dimension(s)",
     "output_type": "error",
     "traceback": [
      "\u001b[1;31m---------------------------------------------------------------------------\u001b[0m",
      "\u001b[1;31mValueError\u001b[0m                                Traceback (most recent call last)",
      "\u001b[1;32m~\\AppData\\Local\\Temp\\ipykernel_18000\\2376028575.py\u001b[0m in \u001b[0;36m<module>\u001b[1;34m\u001b[0m\n\u001b[1;32m----> 1\u001b[1;33m \u001b[0marr3\u001b[0m \u001b[1;33m=\u001b[0m \u001b[0mnp\u001b[0m\u001b[1;33m.\u001b[0m\u001b[0mconcatenate\u001b[0m\u001b[1;33m(\u001b[0m\u001b[1;33m(\u001b[0m\u001b[0marr1\u001b[0m\u001b[1;33m,\u001b[0m\u001b[0marr2\u001b[0m\u001b[1;33m)\u001b[0m\u001b[1;33m,\u001b[0m\u001b[0maxis\u001b[0m\u001b[1;33m=\u001b[0m\u001b[1;36m0\u001b[0m\u001b[1;33m)\u001b[0m\u001b[1;33m\u001b[0m\u001b[1;33m\u001b[0m\u001b[0m\n\u001b[0m",
      "\u001b[1;32m<__array_function__ internals>\u001b[0m in \u001b[0;36mconcatenate\u001b[1;34m(*args, **kwargs)\u001b[0m\n",
      "\u001b[1;31mValueError\u001b[0m: all the input arrays must have same number of dimensions, but the array at index 0 has 2 dimension(s) and the array at index 1 has 1 dimension(s)"
     ]
    }
   ],
   "source": [
    "arr3 = np.concatenate((arr1,arr2),axis=0)"
   ]
  },
  {
   "cell_type": "code",
   "execution_count": null,
   "id": "634865c5-5caa-4fe9-aa1e-bb0dee031f34",
   "metadata": {},
   "outputs": [],
   "source": [
    "arr2.transpose()"
   ]
  },
  {
   "cell_type": "code",
   "execution_count": null,
   "id": "bfda913f-422c-44f3-821c-d1f43387b28b",
   "metadata": {},
   "outputs": [
    {
     "ename": "ValueError",
     "evalue": "all the input arrays must have same number of dimensions, but the array at index 0 has 2 dimension(s) and the array at index 1 has 1 dimension(s)",
     "output_type": "error",
     "traceback": [
      "\u001b[1;31m---------------------------------------------------------------------------\u001b[0m",
      "\u001b[1;31mValueError\u001b[0m                                Traceback (most recent call last)",
      "\u001b[1;32m~\\AppData\\Local\\Temp\\ipykernel_18000\\764402006.py\u001b[0m in \u001b[0;36m<module>\u001b[1;34m\u001b[0m\n\u001b[1;32m----> 1\u001b[1;33m \u001b[0marr4\u001b[0m \u001b[1;33m=\u001b[0m \u001b[0mnp\u001b[0m\u001b[1;33m.\u001b[0m\u001b[0mconcatenate\u001b[0m\u001b[1;33m(\u001b[0m\u001b[1;33m(\u001b[0m\u001b[0marr1\u001b[0m\u001b[1;33m,\u001b[0m\u001b[0marr2\u001b[0m\u001b[1;33m.\u001b[0m\u001b[0mtranspose\u001b[0m\u001b[1;33m(\u001b[0m\u001b[1;33m)\u001b[0m\u001b[1;33m)\u001b[0m\u001b[1;33m,\u001b[0m\u001b[0maxis\u001b[0m\u001b[1;33m=\u001b[0m\u001b[1;36m1\u001b[0m\u001b[1;33m)\u001b[0m\u001b[1;33m\u001b[0m\u001b[1;33m\u001b[0m\u001b[0m\n\u001b[0m",
      "\u001b[1;32m<__array_function__ internals>\u001b[0m in \u001b[0;36mconcatenate\u001b[1;34m(*args, **kwargs)\u001b[0m\n",
      "\u001b[1;31mValueError\u001b[0m: all the input arrays must have same number of dimensions, but the array at index 0 has 2 dimension(s) and the array at index 1 has 1 dimension(s)"
     ]
    }
   ],
   "source": [
    "arr4 = np.concatenate((arr1,arr2.transpose()),axis=1)"
   ]
  },
  {
   "cell_type": "code",
   "execution_count": null,
   "id": "da496c7d-7c54-4637-9c4b-5a0971385b30",
   "metadata": {},
   "outputs": [],
   "source": [
    "arr5 = np.concatenate((arr1,arr2.T),axis=1)"
   ]
  },
  {
   "cell_type": "code",
   "execution_count": null,
   "id": "28cc0d9d-e8f2-4132-9ab6-0c168e770336",
   "metadata": {},
   "outputs": [
    {
     "name": "stdout",
     "output_type": "stream",
     "text": [
      "[[1 4 1]\n",
      " [2 5 2]\n",
      " [3 6 3]]\n",
      "[[1 2 3]]\n"
     ]
    }
   ],
   "source": [
    "print(arr4)\n",
    "print(arr5)"
   ]
  },
  {
   "cell_type": "code",
   "execution_count": null,
   "id": "2c21c666-9e35-4d9a-b58a-de34e5b9574e",
   "metadata": {},
   "outputs": [],
   "source": [
    "## broadcast\n",
    "arr1 = np.arange(1,7).reshape(2,3)\n",
    "arr2 = np.arange(11,17).reshape(2,3)"
   ]
  },
  {
   "cell_type": "code",
   "execution_count": null,
   "id": "438287e7-6cc9-4a1d-84c9-df9cc752c394",
   "metadata": {},
   "outputs": [
    {
     "name": "stdout",
     "output_type": "stream",
     "text": [
      "err\n",
      "[[11 24 39]\n",
      " [56 75 96]]\n",
      "[[ 74  92]\n",
      " [182 227]]\n",
      "[[ 74  92]\n",
      " [182 227]]\n"
     ]
    }
   ],
   "source": [
    "# # broadcast scalar\n",
    "# arr1 + 1\n",
    "# arr < 4\n",
    "# # broadcast element\n",
    "# arr3 = np.array([1,2]).reshape(2,-1)\n",
    "# arr1 + arr3\n",
    "# arr4 = np.array([1,2]).reshape(-1,2)\n",
    "# arr1 + arr3\n",
    "# arr4 = np.array([1,2]).reshape(-1,2)\n",
    "# try:\n",
    "#     arr1 + arr4\n",
    "# except:\n",
    "#     print('err')\n",
    "# arr5 = np.array([1,2,3]).reshape(1,3)\n",
    "\n",
    "# arr1 + arr5 \n",
    "# # element-wise\n",
    "# arr1 + arr2\n",
    "# # brodacast-element\n",
    "# arr1.reshape(-1,6)+arr2.reshape(6,-1)\n",
    "# # dot --martix multiply\n",
    "# # element multiply\n",
    "# arr1 * arr2\n",
    "# np.dot(arr1,arr2.T)\n",
    "# ## matrix\n",
    "# m1 = np.matrix(arr1)\n",
    "# m2 = np.matirx(arr2)\n",
    "# tprint(np.dot(arr1,arr2.T))\n",
    "# print(m1*m2.T)\n",
    "\n",
    "# broadcast scalar\n",
    "arr1 + 1 \n",
    "arr1 < 4\n",
    "# broadcast element\n",
    "arr3 = np.array([1,2]).reshape(2,-1)\n",
    "arr1 + arr3\n",
    "arr4 = np.array([1,2]).reshape(-1,2)\n",
    "try:\n",
    "    arr1 + arr4\n",
    "except:\n",
    "    print('err')\n",
    "arr5 = np.array([1,2,3]).reshape(1,3)\n",
    "arr1 + arr5\n",
    "# element-wise\n",
    "arr1 + arr2\n",
    "# broadcast-element\n",
    "arr1.reshape(-1,6)+arr2.reshape(6,-1)\n",
    "## dot -- matrix multiply\n",
    "# element multiply\n",
    "arr1 * arr2\n",
    "np.dot(arr1,arr2.T)\n",
    "## matrix\n",
    "m1 = np.matrix(arr1)\n",
    "m2 = np.matrix(arr2)\n",
    "print(arr1*arr2)\n",
    "print(np.dot(arr1,arr2.T))\n",
    "print(m1*m2.T)"
   ]
  },
  {
   "cell_type": "code",
   "execution_count": null,
   "id": "e495bcee-1e70-4016-8a6b-6fdf5a3711d9",
   "metadata": {},
   "outputs": [],
   "source": [
    "import numpy as np"
   ]
  },
  {
   "cell_type": "code",
   "execution_count": null,
   "id": "ee430adb-348e-4bd2-ab12-b3c1a022a672",
   "metadata": {},
   "outputs": [],
   "source": [
    "def dot(m1,m2):\n",
    "    if m1.shape[1] !=m2.shape[0]:\n",
    "        return 'shape 이 맞지 않습니다'\n",
    "    m3 = np.zeros((m1.shape[0],m2.shape[1]))\n",
    "    for i in range(m1.shape[0]):\n",
    "        for j in range(m2.shape[1]):\n",
    "            m3[i,j] = m1[i,:]*m2[:,j]\n",
    "    return m3"
   ]
  },
  {
   "cell_type": "code",
   "execution_count": null,
   "id": "9b35450e-5f85-49fb-af40-31000e0fff0f",
   "metadata": {},
   "outputs": [
    {
     "data": {
      "text/plain": [
       "True"
      ]
     },
     "execution_count": 511,
     "metadata": {},
     "output_type": "execute_result"
    }
   ],
   "source": [
    "arr = np.arange(1,11)\n",
    "np.any(arr < 10)"
   ]
  },
  {
   "cell_type": "code",
   "execution_count": null,
   "id": "4da3c3af-bd96-443e-85e8-81d824e93752",
   "metadata": {},
   "outputs": [
    {
     "data": {
      "text/plain": [
       "True"
      ]
     },
     "execution_count": 512,
     "metadata": {},
     "output_type": "execute_result"
    }
   ],
   "source": [
    "arr = np.arange(1,11)\n",
    "np.any(arr < 10)\n",
    "np.all(arr < 12)"
   ]
  },
  {
   "cell_type": "code",
   "execution_count": null,
   "id": "35977fef-16e7-4e0b-ac6e-a027a32e6903",
   "metadata": {},
   "outputs": [
    {
     "data": {
      "text/plain": [
       "True"
      ]
     },
     "execution_count": 513,
     "metadata": {},
     "output_type": "execute_result"
    }
   ],
   "source": [
    "# any의 의미\n",
    "sum(arr < 10) >= 1"
   ]
  },
  {
   "cell_type": "code",
   "execution_count": null,
   "id": "d1a60d94-e7de-42f3-9926-f6675d17937f",
   "metadata": {},
   "outputs": [
    {
     "data": {
      "text/plain": [
       "True"
      ]
     },
     "execution_count": 514,
     "metadata": {},
     "output_type": "execute_result"
    }
   ],
   "source": [
    "#all의 의미\n",
    "sum(arr < 11)/arr.size == 1"
   ]
  },
  {
   "cell_type": "code",
   "execution_count": null,
   "id": "58228364-b8e1-4d7d-b9c9-872c0348b4dc",
   "metadata": {},
   "outputs": [],
   "source": [
    "a = np.array([1,2,3])\n",
    "b = np.array([3,2,1])"
   ]
  },
  {
   "cell_type": "code",
   "execution_count": null,
   "id": "bdb08818-0749-42a1-b7f9-339a6788f905",
   "metadata": {},
   "outputs": [
    {
     "data": {
      "text/plain": [
       "array([False,  True, False])"
      ]
     },
     "execution_count": 516,
     "metadata": {},
     "output_type": "execute_result"
    }
   ],
   "source": [
    "a == b"
   ]
  },
  {
   "cell_type": "code",
   "execution_count": null,
   "id": "e0e21f69-1d23-4eaf-9a87-57fec60054d4",
   "metadata": {},
   "outputs": [
    {
     "data": {
      "text/plain": [
       "array([2])"
      ]
     },
     "execution_count": 517,
     "metadata": {},
     "output_type": "execute_result"
    }
   ],
   "source": [
    "a[[False,True,False]]"
   ]
  },
  {
   "cell_type": "code",
   "execution_count": null,
   "id": "e06519e3-2481-42be-b681-b9a29880c536",
   "metadata": {},
   "outputs": [
    {
     "data": {
      "text/plain": [
       "array([2])"
      ]
     },
     "execution_count": 518,
     "metadata": {},
     "output_type": "execute_result"
    }
   ],
   "source": [
    "a[(a<3) & (a>1)]"
   ]
  },
  {
   "cell_type": "code",
   "execution_count": null,
   "id": "bdc372ab-acb8-4fce-90c2-a887e816a81f",
   "metadata": {},
   "outputs": [
    {
     "data": {
      "text/plain": [
       "array([2])"
      ]
     },
     "execution_count": 519,
     "metadata": {},
     "output_type": "execute_result"
    }
   ],
   "source": [
    "a[np.logical_and(a < 3 , a >1)]\n",
    "## np.logical_or, np.logical_not"
   ]
  },
  {
   "cell_type": "code",
   "execution_count": null,
   "id": "afc19fad-dd2f-4292-a8b2-b40c9d1d6061",
   "metadata": {},
   "outputs": [
    {
     "data": {
      "text/plain": [
       "array([ 1.        ,  1.09090909,  1.18181818,  1.27272727,  1.36363636,\n",
       "        1.45454545,  1.54545455,  1.63636364,  1.72727273,  1.81818182,\n",
       "        1.90909091,  2.        ,  2.09090909,  2.18181818,  2.27272727,\n",
       "        2.36363636,  2.45454545,  2.54545455,  2.63636364,  2.72727273,\n",
       "        2.81818182,  2.90909091,  3.        ,  3.09090909,  3.18181818,\n",
       "        3.27272727,  3.36363636,  3.45454545,  3.54545455,  3.63636364,\n",
       "        3.72727273,  3.81818182,  3.90909091,  4.        ,  4.09090909,\n",
       "        4.18181818,  4.27272727,  4.36363636,  4.45454545,  4.54545455,\n",
       "        4.63636364,  4.72727273,  4.81818182,  4.90909091,  5.        ,\n",
       "        5.09090909,  5.18181818,  5.27272727,  5.36363636,  5.45454545,\n",
       "        5.54545455,  5.63636364,  5.72727273,  5.81818182,  5.90909091,\n",
       "        6.        ,  6.09090909,  6.18181818,  6.27272727,  6.36363636,\n",
       "        6.45454545,  6.54545455,  6.63636364,  6.72727273,  6.81818182,\n",
       "        6.90909091,  7.        ,  7.09090909,  7.18181818,  7.27272727,\n",
       "        7.36363636,  7.45454545,  7.54545455,  7.63636364,  7.72727273,\n",
       "        7.81818182,  7.90909091,  8.        ,  8.09090909,  8.18181818,\n",
       "        8.27272727,  8.36363636,  8.45454545,  8.54545455,  8.63636364,\n",
       "        8.72727273,  8.81818182,  8.90909091,  9.        ,  9.09090909,\n",
       "        9.18181818,  9.27272727,  9.36363636,  9.45454545,  9.54545455,\n",
       "        9.63636364,  9.72727273,  9.81818182,  9.90909091, 10.        ])"
      ]
     },
     "execution_count": 520,
     "metadata": {},
     "output_type": "execute_result"
    }
   ],
   "source": [
    "np.linspace(1,10,100)"
   ]
  },
  {
   "cell_type": "code",
   "execution_count": null,
   "id": "a3ab6962-0dab-4bf4-8956-425da4870c91",
   "metadata": {},
   "outputs": [
    {
     "data": {
      "text/plain": [
       "\u001b[1;31mDocstring:\u001b[0m\n",
       "where(condition, [x, y])\n",
       "\n",
       "Return elements chosen from `x` or `y` depending on `condition`.\n",
       "\n",
       ".. note::\n",
       "    When only `condition` is provided, this function is a shorthand for\n",
       "    ``np.asarray(condition).nonzero()``. Using `nonzero` directly should be\n",
       "    preferred, as it behaves correctly for subclasses. The rest of this\n",
       "    documentation covers only the case where all three arguments are\n",
       "    provided.\n",
       "\n",
       "Parameters\n",
       "----------\n",
       "condition : array_like, bool\n",
       "    Where True, yield `x`, otherwise yield `y`.\n",
       "x, y : array_like\n",
       "    Values from which to choose. `x`, `y` and `condition` need to be\n",
       "    broadcastable to some shape.\n",
       "\n",
       "Returns\n",
       "-------\n",
       "out : ndarray\n",
       "    An array with elements from `x` where `condition` is True, and elements\n",
       "    from `y` elsewhere.\n",
       "\n",
       "See Also\n",
       "--------\n",
       "choose\n",
       "nonzero : The function that is called when x and y are omitted\n",
       "\n",
       "Notes\n",
       "-----\n",
       "If all the arrays are 1-D, `where` is equivalent to::\n",
       "\n",
       "    [xv if c else yv\n",
       "     for c, xv, yv in zip(condition, x, y)]\n",
       "\n",
       "Examples\n",
       "--------\n",
       ">>> a = np.arange(10)\n",
       ">>> a\n",
       "array([0, 1, 2, 3, 4, 5, 6, 7, 8, 9])\n",
       ">>> np.where(a < 5, a, 10*a)\n",
       "array([ 0,  1,  2,  3,  4, 50, 60, 70, 80, 90])\n",
       "\n",
       "This can be used on multidimensional arrays too:\n",
       "\n",
       ">>> np.where([[True, False], [True, True]],\n",
       "...          [[1, 2], [3, 4]],\n",
       "...          [[9, 8], [7, 6]])\n",
       "array([[1, 8],\n",
       "       [3, 4]])\n",
       "\n",
       "The shapes of x, y, and the condition are broadcast together:\n",
       "\n",
       ">>> x, y = np.ogrid[:3, :4]\n",
       ">>> np.where(x < y, x, 10 + y)  # both x and 10+y are broadcast\n",
       "array([[10,  0,  0,  0],\n",
       "       [10, 11,  1,  1],\n",
       "       [10, 11, 12,  2]])\n",
       "\n",
       ">>> a = np.array([[0, 1, 2],\n",
       "...               [0, 2, 4],\n",
       "...               [0, 3, 6]])\n",
       ">>> np.where(a < 4, a, -1)  # -1 is broadcast\n",
       "array([[ 0,  1,  2],\n",
       "       [ 0,  2, -1],\n",
       "       [ 0,  3, -1]])\n",
       "\u001b[1;31mType:\u001b[0m      function\n"
      ]
     },
     "metadata": {},
     "output_type": "display_data"
    }
   ],
   "source": [
    "np.where??"
   ]
  },
  {
   "cell_type": "code",
   "execution_count": null,
   "id": "4981672f-a216-484e-8ce4-caebee70c8d3",
   "metadata": {},
   "outputs": [],
   "source": [
    "# np.where\n",
    "np.random.seed(3)\n",
    "korea = np.random.randint(60,100,100)"
   ]
  },
  {
   "cell_type": "code",
   "execution_count": null,
   "id": "c16348ae-94fb-4069-844f-343390f35136",
   "metadata": {},
   "outputs": [
    {
     "data": {
      "text/plain": [
       "['pass',\n",
       " 'fail',\n",
       " 'fail',\n",
       " 'fail',\n",
       " 'pass',\n",
       " 'pass',\n",
       " 'fail',\n",
       " 'fail',\n",
       " 'pass',\n",
       " 'pass',\n",
       " 'pass',\n",
       " 'pass',\n",
       " 'pass',\n",
       " 'pass',\n",
       " 'pass',\n",
       " 'pass',\n",
       " 'pass',\n",
       " 'pass',\n",
       " 'pass',\n",
       " 'fail',\n",
       " 'fail',\n",
       " 'fail',\n",
       " 'pass',\n",
       " 'fail',\n",
       " 'pass',\n",
       " 'pass',\n",
       " 'pass',\n",
       " 'fail',\n",
       " 'pass',\n",
       " 'pass',\n",
       " 'pass',\n",
       " 'pass',\n",
       " 'pass',\n",
       " 'pass',\n",
       " 'pass',\n",
       " 'pass',\n",
       " 'fail',\n",
       " 'fail',\n",
       " 'pass',\n",
       " 'pass',\n",
       " 'fail',\n",
       " 'pass',\n",
       " 'pass',\n",
       " 'fail',\n",
       " 'pass',\n",
       " 'fail',\n",
       " 'pass',\n",
       " 'pass',\n",
       " 'pass',\n",
       " 'pass',\n",
       " 'pass',\n",
       " 'pass',\n",
       " 'pass',\n",
       " 'pass',\n",
       " 'pass',\n",
       " 'pass',\n",
       " 'pass',\n",
       " 'pass',\n",
       " 'pass',\n",
       " 'pass',\n",
       " 'pass',\n",
       " 'fail',\n",
       " 'pass',\n",
       " 'pass',\n",
       " 'pass',\n",
       " 'fail',\n",
       " 'pass',\n",
       " 'pass',\n",
       " 'pass',\n",
       " 'pass',\n",
       " 'pass',\n",
       " 'pass',\n",
       " 'fail',\n",
       " 'pass',\n",
       " 'pass',\n",
       " 'pass',\n",
       " 'pass',\n",
       " 'fail',\n",
       " 'pass',\n",
       " 'pass',\n",
       " 'fail',\n",
       " 'pass',\n",
       " 'pass',\n",
       " 'pass',\n",
       " 'pass',\n",
       " 'fail',\n",
       " 'pass',\n",
       " 'fail',\n",
       " 'pass',\n",
       " 'fail',\n",
       " 'pass',\n",
       " 'pass',\n",
       " 'pass',\n",
       " 'pass',\n",
       " 'pass',\n",
       " 'pass',\n",
       " 'fail',\n",
       " 'pass',\n",
       " 'pass',\n",
       " 'pass']"
      ]
     },
     "execution_count": 523,
     "metadata": {},
     "output_type": "execute_result"
    }
   ],
   "source": [
    "result = []\n",
    "for i in korea:\n",
    "    if i > 70:\n",
    "        result.append('pass')\n",
    "    else:\n",
    "        result.append('fail')\n",
    "result"
   ]
  },
  {
   "cell_type": "code",
   "execution_count": null,
   "id": "7602e7d8-feca-437f-b51f-05276e4177cd",
   "metadata": {},
   "outputs": [],
   "source": [
    "result = np.where(korea>70,'pass','fail')"
   ]
  },
  {
   "cell_type": "code",
   "execution_count": null,
   "id": "b4cb6110-ed10-4ec5-9d48-5d2b334bebf1",
   "metadata": {},
   "outputs": [
    {
     "data": {
      "text/plain": [
       "array(['pass', 'fail', 'fail', 'fail', 'pass', 'pass', 'fail', 'fail',\n",
       "       'pass', 'pass', 'pass', 'pass', 'pass', 'pass', 'pass', 'pass',\n",
       "       'pass', 'pass', 'pass', 'fail', 'fail', 'fail', 'pass', 'fail',\n",
       "       'pass', 'pass', 'pass', 'fail', 'pass', 'pass', 'pass', 'pass',\n",
       "       'pass', 'pass', 'pass', 'pass', 'fail', 'fail', 'pass', 'pass',\n",
       "       'fail', 'pass', 'pass', 'fail', 'pass', 'fail', 'pass', 'pass',\n",
       "       'pass', 'pass', 'pass', 'pass', 'pass', 'pass', 'pass', 'pass',\n",
       "       'pass', 'pass', 'pass', 'pass', 'pass', 'fail', 'pass', 'pass',\n",
       "       'pass', 'fail', 'pass', 'pass', 'pass', 'pass', 'pass', 'pass',\n",
       "       'fail', 'pass', 'pass', 'pass', 'pass', 'fail', 'pass', 'pass',\n",
       "       'fail', 'pass', 'pass', 'pass', 'pass', 'fail', 'pass', 'fail',\n",
       "       'pass', 'fail', 'pass', 'pass', 'pass', 'pass', 'pass', 'pass',\n",
       "       'fail', 'pass', 'pass', 'pass'], dtype='<U4')"
      ]
     },
     "execution_count": 525,
     "metadata": {},
     "output_type": "execute_result"
    }
   ],
   "source": [
    "result"
   ]
  },
  {
   "cell_type": "code",
   "execution_count": null,
   "id": "b2395dbc-97fb-44cc-9fa3-8d383e1bca4e",
   "metadata": {},
   "outputs": [
    {
     "data": {
      "text/plain": [
       "array([ 1. ,  1.9,  2.8,  3.7,  4.6,  5.5,  6.4,  7.3,  8.2,  9.1, 10. ])"
      ]
     },
     "execution_count": 526,
     "metadata": {},
     "output_type": "execute_result"
    }
   ],
   "source": [
    "np.linspace(1,10,11)"
   ]
  },
  {
   "cell_type": "code",
   "execution_count": null,
   "id": "dd27dc12-cad6-4a8c-a2f6-359dc1eb3e86",
   "metadata": {},
   "outputs": [],
   "source": [
    "np.random.seed(3)\n",
    "korea = np.random.randint(60,100,1_000_000)"
   ]
  },
  {
   "cell_type": "code",
   "execution_count": null,
   "id": "0f9a08b9-5275-441c-a6ac-ecd27609733a",
   "metadata": {},
   "outputs": [
    {
     "name": "stdout",
     "output_type": "stream",
     "text": [
      "Wall time: 308 ms\n"
     ]
    }
   ],
   "source": [
    "%%time\n",
    "## \n",
    "result = []\n",
    "for i in korea:\n",
    "    if i > 70:\n",
    "        result.append('pass')\n",
    "    else:\n",
    "        result.append('fail')"
   ]
  },
  {
   "cell_type": "code",
   "execution_count": null,
   "id": "f4c05dc3-d31d-41c7-81a1-a1ce7520ebba",
   "metadata": {},
   "outputs": [
    {
     "name": "stdout",
     "output_type": "stream",
     "text": [
      "Wall time: 10.1 ms\n"
     ]
    }
   ],
   "source": [
    "%%time\n",
    "result = np.where(korea>70,'pass','fail')"
   ]
  },
  {
   "cell_type": "code",
   "execution_count": null,
   "id": "441e799f-db50-4086-9fb0-9d4aa870653e",
   "metadata": {},
   "outputs": [],
   "source": [
    "np.random.seed(3)\n",
    "korea = np.random.randint(60,100,1_000_000)"
   ]
  },
  {
   "cell_type": "code",
   "execution_count": 567,
   "id": "0af7443f-7d62-4606-a63d-fbc423b7637d",
   "metadata": {},
   "outputs": [
    {
     "name": "stdout",
     "output_type": "stream",
     "text": [
      "Wall time: 498 ms\n"
     ]
    }
   ],
   "source": [
    "%%time\n",
    "## 90 이상이면 A, 80 B, 70 C, 나머지D\n",
    "result = []\n",
    "for i in korea:\n",
    "    if i >= 90:\n",
    "        result.append('A')\n",
    "    elif i >= 80:\n",
    "        result.append('B')\n",
    "    elif i >=70:\n",
    "        result.append('C')\n",
    "    else:\n",
    "        result.append('D')"
   ]
  },
  {
   "cell_type": "code",
   "execution_count": 568,
   "id": "7800ee45-097b-41b6-aa01-9af5bcf63d33",
   "metadata": {},
   "outputs": [
    {
     "name": "stdout",
     "output_type": "stream",
     "text": [
      "Wall time: 15.4 ms\n"
     ]
    }
   ],
   "source": [
    "%%time\n",
    "result = np.where(korea >= 90,'A',\n",
    "                  np.where(korea >= 80,'B',\n",
    "                          np.where(korea >=70,'C','D')))"
   ]
  },
  {
   "cell_type": "code",
   "execution_count": 569,
   "id": "8fe5ef18-aa4e-469c-828b-ef4b2e2a85f4",
   "metadata": {},
   "outputs": [],
   "source": [
    "np.random.seed(3)\n",
    "arr = np.random.randint(60,100,3000).reshape(1000,-1)"
   ]
  },
  {
   "cell_type": "code",
   "execution_count": 570,
   "id": "de6b9b4d-5988-4597-8036-c3bbdb561153",
   "metadata": {},
   "outputs": [
    {
     "data": {
      "text/plain": [
       "array([[84, 63, 68],\n",
       "       [60, 81, 79],\n",
       "       [70, 70, 81],\n",
       "       ...,\n",
       "       [73, 99, 63],\n",
       "       [74, 63, 62],\n",
       "       [96, 74, 64]])"
      ]
     },
     "execution_count": 570,
     "metadata": {},
     "output_type": "execute_result"
    }
   ],
   "source": [
    "arr"
   ]
  },
  {
   "cell_type": "code",
   "execution_count": 571,
   "id": "5bcb2aed-e11d-442a-9042-0b8418b49515",
   "metadata": {},
   "outputs": [],
   "source": [
    "arr1 = np.hstack((arr,np.argmax(arr,axis=1).reshape(1000,1)))"
   ]
  },
  {
   "cell_type": "code",
   "execution_count": 572,
   "id": "42de77fb-bb15-4c98-bbd2-5fb45beb89f6",
   "metadata": {},
   "outputs": [
    {
     "data": {
      "text/plain": [
       "(array([1, 2, 3]), array([2, 1, 2], dtype=int64))"
      ]
     },
     "execution_count": 572,
     "metadata": {},
     "output_type": "execute_result"
    }
   ],
   "source": [
    "np.unique([1,1,2,3,3],return_counts=True)"
   ]
  },
  {
   "cell_type": "code",
   "execution_count": 573,
   "id": "ca163e8c-0539-4302-badd-c92f05ab9fdc",
   "metadata": {},
   "outputs": [
    {
     "data": {
      "text/plain": [
       "(array([1, 2, 3]), array([2, 1, 2], dtype=int64))"
      ]
     },
     "execution_count": 573,
     "metadata": {},
     "output_type": "execute_result"
    }
   ],
   "source": [
    "np.unique([1,1,2,3,3],return_counts=True)"
   ]
  },
  {
   "cell_type": "code",
   "execution_count": 574,
   "id": "37e933db-a9be-4251-972b-3dda1408fe2e",
   "metadata": {},
   "outputs": [
    {
     "data": {
      "text/plain": [
       "array('국어', dtype='<U2')"
      ]
     },
     "execution_count": 574,
     "metadata": {},
     "output_type": "execute_result"
    }
   ],
   "source": [
    "np.where(np.unique(arr1[:,3],return_counts=True)[1].argmax()==0,'국어',\n",
    "         np.where(np.unique(arr1[:,3],return_counts=True)[1].argmax()==1,'수학','영어'))"
   ]
  },
  {
   "cell_type": "code",
   "execution_count": 575,
   "id": "1d8457aa-a659-4034-809a-73a7727bdd27",
   "metadata": {},
   "outputs": [],
   "source": [
    "np.save('arr.npy',arr1)"
   ]
  },
  {
   "cell_type": "code",
   "execution_count": 576,
   "id": "900caf0a-faa7-4616-8008-e16d75eb767c",
   "metadata": {},
   "outputs": [],
   "source": [
    "# arr = np.load('arr.npy')"
   ]
  },
  {
   "cell_type": "code",
   "execution_count": null,
   "id": "4adb486e-f8a5-4e5d-8cc4-1bc03b4c9c8c",
   "metadata": {},
   "outputs": [
    {
     "data": {
      "text/plain": [
       "nan"
      ]
     },
     "execution_count": 14,
     "metadata": {},
     "output_type": "execute_result"
    }
   ],
   "source": [
    "dir(np)\n",
    "np.NAN"
   ]
  },
  {
   "cell_type": "code",
   "execution_count": null,
   "id": "5436dee0-6009-4636-b503-ffb419f68049",
   "metadata": {},
   "outputs": [
    {
     "data": {
      "text/plain": [
       "array([[ 1.,  2.,  3.],\n",
       "       [ 2.,  3., nan]])"
      ]
     },
     "execution_count": 15,
     "metadata": {},
     "output_type": "execute_result"
    }
   ],
   "source": [
    "np.array([[1,2,3],[2,3,np.nan]])"
   ]
  },
  {
   "cell_type": "code",
   "execution_count": null,
   "id": "01e810cb-d2ac-4528-9a44-e73da690236e",
   "metadata": {},
   "outputs": [
    {
     "data": {
      "text/plain": [
       "array([[1.35290936, 2.01118456, 0.        ],\n",
       "       [0.83893581, 0.        , 2.19510893],\n",
       "       [0.        , 1.63588347, 1.10764965],\n",
       "       [1.48039655, 0.93270734, 0.        ]])"
      ]
     },
     "execution_count": 16,
     "metadata": {},
     "output_type": "execute_result"
    },
    {
     "data": {
      "text/plain": [
       "\u001b[1;31mSignature:\u001b[0m \u001b[0mnp\u001b[0m\u001b[1;33m.\u001b[0m\u001b[0mapply_along_axis\u001b[0m\u001b[1;33m(\u001b[0m\u001b[0mfunc1d\u001b[0m\u001b[1;33m,\u001b[0m \u001b[0maxis\u001b[0m\u001b[1;33m,\u001b[0m \u001b[0marr\u001b[0m\u001b[1;33m,\u001b[0m \u001b[1;33m*\u001b[0m\u001b[0margs\u001b[0m\u001b[1;33m,\u001b[0m \u001b[1;33m**\u001b[0m\u001b[0mkwargs\u001b[0m\u001b[1;33m)\u001b[0m\u001b[1;33m\u001b[0m\u001b[1;33m\u001b[0m\u001b[0m\n",
       "\u001b[1;31mSource:\u001b[0m   \n",
       "\u001b[1;33m@\u001b[0m\u001b[0marray_function_dispatch\u001b[0m\u001b[1;33m(\u001b[0m\u001b[0m_apply_along_axis_dispatcher\u001b[0m\u001b[1;33m)\u001b[0m\u001b[1;33m\n",
       "\u001b[0m\u001b[1;32mdef\u001b[0m \u001b[0mapply_along_axis\u001b[0m\u001b[1;33m(\u001b[0m\u001b[0mfunc1d\u001b[0m\u001b[1;33m,\u001b[0m \u001b[0maxis\u001b[0m\u001b[1;33m,\u001b[0m \u001b[0marr\u001b[0m\u001b[1;33m,\u001b[0m \u001b[1;33m*\u001b[0m\u001b[0margs\u001b[0m\u001b[1;33m,\u001b[0m \u001b[1;33m**\u001b[0m\u001b[0mkwargs\u001b[0m\u001b[1;33m)\u001b[0m\u001b[1;33m:\u001b[0m\u001b[1;33m\n",
       "\u001b[0m    \u001b[1;34m\"\"\"\n",
       "    Apply a function to 1-D slices along the given axis.\n",
       "\n",
       "    Execute `func1d(a, *args, **kwargs)` where `func1d` operates on 1-D arrays\n",
       "    and `a` is a 1-D slice of `arr` along `axis`.\n",
       "\n",
       "    This is equivalent to (but faster than) the following use of `ndindex` and\n",
       "    `s_`, which sets each of ``ii``, ``jj``, and ``kk`` to a tuple of indices::\n",
       "\n",
       "        Ni, Nk = a.shape[:axis], a.shape[axis+1:]\n",
       "        for ii in ndindex(Ni):\n",
       "            for kk in ndindex(Nk):\n",
       "                f = func1d(arr[ii + s_[:,] + kk])\n",
       "                Nj = f.shape\n",
       "                for jj in ndindex(Nj):\n",
       "                    out[ii + jj + kk] = f[jj]\n",
       "\n",
       "    Equivalently, eliminating the inner loop, this can be expressed as::\n",
       "\n",
       "        Ni, Nk = a.shape[:axis], a.shape[axis+1:]\n",
       "        for ii in ndindex(Ni):\n",
       "            for kk in ndindex(Nk):\n",
       "                out[ii + s_[...,] + kk] = func1d(arr[ii + s_[:,] + kk])\n",
       "\n",
       "    Parameters\n",
       "    ----------\n",
       "    func1d : function (M,) -> (Nj...)\n",
       "        This function should accept 1-D arrays. It is applied to 1-D\n",
       "        slices of `arr` along the specified axis.\n",
       "    axis : integer\n",
       "        Axis along which `arr` is sliced.\n",
       "    arr : ndarray (Ni..., M, Nk...)\n",
       "        Input array.\n",
       "    args : any\n",
       "        Additional arguments to `func1d`.\n",
       "    kwargs : any\n",
       "        Additional named arguments to `func1d`.\n",
       "\n",
       "        .. versionadded:: 1.9.0\n",
       "\n",
       "\n",
       "    Returns\n",
       "    -------\n",
       "    out : ndarray  (Ni..., Nj..., Nk...)\n",
       "        The output array. The shape of `out` is identical to the shape of\n",
       "        `arr`, except along the `axis` dimension. This axis is removed, and\n",
       "        replaced with new dimensions equal to the shape of the return value\n",
       "        of `func1d`. So if `func1d` returns a scalar `out` will have one\n",
       "        fewer dimensions than `arr`.\n",
       "\n",
       "    See Also\n",
       "    --------\n",
       "    apply_over_axes : Apply a function repeatedly over multiple axes.\n",
       "\n",
       "    Examples\n",
       "    --------\n",
       "    >>> def my_func(a):\n",
       "    ...     \\\"\\\"\\\"Average first and last element of a 1-D array\\\"\\\"\\\"\n",
       "    ...     return (a[0] + a[-1]) * 0.5\n",
       "    >>> b = np.array([[1,2,3], [4,5,6], [7,8,9]])\n",
       "    >>> np.apply_along_axis(my_func, 0, b)\n",
       "    array([4., 5., 6.])\n",
       "    >>> np.apply_along_axis(my_func, 1, b)\n",
       "    array([2.,  5.,  8.])\n",
       "\n",
       "    For a function that returns a 1D array, the number of dimensions in\n",
       "    `outarr` is the same as `arr`.\n",
       "\n",
       "    >>> b = np.array([[8,1,7], [4,3,9], [5,2,6]])\n",
       "    >>> np.apply_along_axis(sorted, 1, b)\n",
       "    array([[1, 7, 8],\n",
       "           [3, 4, 9],\n",
       "           [2, 5, 6]])\n",
       "\n",
       "    For a function that returns a higher dimensional array, those dimensions\n",
       "    are inserted in place of the `axis` dimension.\n",
       "\n",
       "    >>> b = np.array([[1,2,3], [4,5,6], [7,8,9]])\n",
       "    >>> np.apply_along_axis(np.diag, -1, b)\n",
       "    array([[[1, 0, 0],\n",
       "            [0, 2, 0],\n",
       "            [0, 0, 3]],\n",
       "           [[4, 0, 0],\n",
       "            [0, 5, 0],\n",
       "            [0, 0, 6]],\n",
       "           [[7, 0, 0],\n",
       "            [0, 8, 0],\n",
       "            [0, 0, 9]]])\n",
       "    \"\"\"\u001b[0m\u001b[1;33m\n",
       "\u001b[0m    \u001b[1;31m# handle negative axes\u001b[0m\u001b[1;33m\n",
       "\u001b[0m    \u001b[0marr\u001b[0m \u001b[1;33m=\u001b[0m \u001b[0masanyarray\u001b[0m\u001b[1;33m(\u001b[0m\u001b[0marr\u001b[0m\u001b[1;33m)\u001b[0m\u001b[1;33m\n",
       "\u001b[0m    \u001b[0mnd\u001b[0m \u001b[1;33m=\u001b[0m \u001b[0marr\u001b[0m\u001b[1;33m.\u001b[0m\u001b[0mndim\u001b[0m\u001b[1;33m\n",
       "\u001b[0m    \u001b[0maxis\u001b[0m \u001b[1;33m=\u001b[0m \u001b[0mnormalize_axis_index\u001b[0m\u001b[1;33m(\u001b[0m\u001b[0maxis\u001b[0m\u001b[1;33m,\u001b[0m \u001b[0mnd\u001b[0m\u001b[1;33m)\u001b[0m\u001b[1;33m\n",
       "\u001b[0m\u001b[1;33m\n",
       "\u001b[0m    \u001b[1;31m# arr, with the iteration axis at the end\u001b[0m\u001b[1;33m\n",
       "\u001b[0m    \u001b[0min_dims\u001b[0m \u001b[1;33m=\u001b[0m \u001b[0mlist\u001b[0m\u001b[1;33m(\u001b[0m\u001b[0mrange\u001b[0m\u001b[1;33m(\u001b[0m\u001b[0mnd\u001b[0m\u001b[1;33m)\u001b[0m\u001b[1;33m)\u001b[0m\u001b[1;33m\n",
       "\u001b[0m    \u001b[0minarr_view\u001b[0m \u001b[1;33m=\u001b[0m \u001b[0mtranspose\u001b[0m\u001b[1;33m(\u001b[0m\u001b[0marr\u001b[0m\u001b[1;33m,\u001b[0m \u001b[0min_dims\u001b[0m\u001b[1;33m[\u001b[0m\u001b[1;33m:\u001b[0m\u001b[0maxis\u001b[0m\u001b[1;33m]\u001b[0m \u001b[1;33m+\u001b[0m \u001b[0min_dims\u001b[0m\u001b[1;33m[\u001b[0m\u001b[0maxis\u001b[0m\u001b[1;33m+\u001b[0m\u001b[1;36m1\u001b[0m\u001b[1;33m:\u001b[0m\u001b[1;33m]\u001b[0m \u001b[1;33m+\u001b[0m \u001b[1;33m[\u001b[0m\u001b[0maxis\u001b[0m\u001b[1;33m]\u001b[0m\u001b[1;33m)\u001b[0m\u001b[1;33m\n",
       "\u001b[0m\u001b[1;33m\n",
       "\u001b[0m    \u001b[1;31m# compute indices for the iteration axes, and append a trailing ellipsis to\u001b[0m\u001b[1;33m\n",
       "\u001b[0m    \u001b[1;31m# prevent 0d arrays decaying to scalars, which fixes gh-8642\u001b[0m\u001b[1;33m\n",
       "\u001b[0m    \u001b[0minds\u001b[0m \u001b[1;33m=\u001b[0m \u001b[0mndindex\u001b[0m\u001b[1;33m(\u001b[0m\u001b[0minarr_view\u001b[0m\u001b[1;33m.\u001b[0m\u001b[0mshape\u001b[0m\u001b[1;33m[\u001b[0m\u001b[1;33m:\u001b[0m\u001b[1;33m-\u001b[0m\u001b[1;36m1\u001b[0m\u001b[1;33m]\u001b[0m\u001b[1;33m)\u001b[0m\u001b[1;33m\n",
       "\u001b[0m    \u001b[0minds\u001b[0m \u001b[1;33m=\u001b[0m \u001b[1;33m(\u001b[0m\u001b[0mind\u001b[0m \u001b[1;33m+\u001b[0m \u001b[1;33m(\u001b[0m\u001b[0mEllipsis\u001b[0m\u001b[1;33m,\u001b[0m\u001b[1;33m)\u001b[0m \u001b[1;32mfor\u001b[0m \u001b[0mind\u001b[0m \u001b[1;32min\u001b[0m \u001b[0minds\u001b[0m\u001b[1;33m)\u001b[0m\u001b[1;33m\n",
       "\u001b[0m\u001b[1;33m\n",
       "\u001b[0m    \u001b[1;31m# invoke the function on the first item\u001b[0m\u001b[1;33m\n",
       "\u001b[0m    \u001b[1;32mtry\u001b[0m\u001b[1;33m:\u001b[0m\u001b[1;33m\n",
       "\u001b[0m        \u001b[0mind0\u001b[0m \u001b[1;33m=\u001b[0m \u001b[0mnext\u001b[0m\u001b[1;33m(\u001b[0m\u001b[0minds\u001b[0m\u001b[1;33m)\u001b[0m\u001b[1;33m\n",
       "\u001b[0m    \u001b[1;32mexcept\u001b[0m \u001b[0mStopIteration\u001b[0m \u001b[1;32mas\u001b[0m \u001b[0me\u001b[0m\u001b[1;33m:\u001b[0m\u001b[1;33m\n",
       "\u001b[0m        \u001b[1;32mraise\u001b[0m \u001b[0mValueError\u001b[0m\u001b[1;33m(\u001b[0m\u001b[1;33m\n",
       "\u001b[0m            \u001b[1;34m'Cannot apply_along_axis when any iteration dimensions are 0'\u001b[0m\u001b[1;33m\n",
       "\u001b[0m        \u001b[1;33m)\u001b[0m \u001b[1;32mfrom\u001b[0m \u001b[1;32mNone\u001b[0m\u001b[1;33m\n",
       "\u001b[0m    \u001b[0mres\u001b[0m \u001b[1;33m=\u001b[0m \u001b[0masanyarray\u001b[0m\u001b[1;33m(\u001b[0m\u001b[0mfunc1d\u001b[0m\u001b[1;33m(\u001b[0m\u001b[0minarr_view\u001b[0m\u001b[1;33m[\u001b[0m\u001b[0mind0\u001b[0m\u001b[1;33m]\u001b[0m\u001b[1;33m,\u001b[0m \u001b[1;33m*\u001b[0m\u001b[0margs\u001b[0m\u001b[1;33m,\u001b[0m \u001b[1;33m**\u001b[0m\u001b[0mkwargs\u001b[0m\u001b[1;33m)\u001b[0m\u001b[1;33m)\u001b[0m\u001b[1;33m\n",
       "\u001b[0m\u001b[1;33m\n",
       "\u001b[0m    \u001b[1;31m# build a buffer for storing evaluations of func1d.\u001b[0m\u001b[1;33m\n",
       "\u001b[0m    \u001b[1;31m# remove the requested axis, and add the new ones on the end.\u001b[0m\u001b[1;33m\n",
       "\u001b[0m    \u001b[1;31m# laid out so that each write is contiguous.\u001b[0m\u001b[1;33m\n",
       "\u001b[0m    \u001b[1;31m# for a tuple index inds, buff[inds] = func1d(inarr_view[inds])\u001b[0m\u001b[1;33m\n",
       "\u001b[0m    \u001b[0mbuff\u001b[0m \u001b[1;33m=\u001b[0m \u001b[0mzeros\u001b[0m\u001b[1;33m(\u001b[0m\u001b[0minarr_view\u001b[0m\u001b[1;33m.\u001b[0m\u001b[0mshape\u001b[0m\u001b[1;33m[\u001b[0m\u001b[1;33m:\u001b[0m\u001b[1;33m-\u001b[0m\u001b[1;36m1\u001b[0m\u001b[1;33m]\u001b[0m \u001b[1;33m+\u001b[0m \u001b[0mres\u001b[0m\u001b[1;33m.\u001b[0m\u001b[0mshape\u001b[0m\u001b[1;33m,\u001b[0m \u001b[0mres\u001b[0m\u001b[1;33m.\u001b[0m\u001b[0mdtype\u001b[0m\u001b[1;33m)\u001b[0m\u001b[1;33m\n",
       "\u001b[0m\u001b[1;33m\n",
       "\u001b[0m    \u001b[1;31m# permutation of axes such that out = buff.transpose(buff_permute)\u001b[0m\u001b[1;33m\n",
       "\u001b[0m    \u001b[0mbuff_dims\u001b[0m \u001b[1;33m=\u001b[0m \u001b[0mlist\u001b[0m\u001b[1;33m(\u001b[0m\u001b[0mrange\u001b[0m\u001b[1;33m(\u001b[0m\u001b[0mbuff\u001b[0m\u001b[1;33m.\u001b[0m\u001b[0mndim\u001b[0m\u001b[1;33m)\u001b[0m\u001b[1;33m)\u001b[0m\u001b[1;33m\n",
       "\u001b[0m    \u001b[0mbuff_permute\u001b[0m \u001b[1;33m=\u001b[0m \u001b[1;33m(\u001b[0m\u001b[1;33m\n",
       "\u001b[0m        \u001b[0mbuff_dims\u001b[0m\u001b[1;33m[\u001b[0m\u001b[1;36m0\u001b[0m \u001b[1;33m:\u001b[0m \u001b[0maxis\u001b[0m\u001b[1;33m]\u001b[0m \u001b[1;33m+\u001b[0m\u001b[1;33m\n",
       "\u001b[0m        \u001b[0mbuff_dims\u001b[0m\u001b[1;33m[\u001b[0m\u001b[0mbuff\u001b[0m\u001b[1;33m.\u001b[0m\u001b[0mndim\u001b[0m\u001b[1;33m-\u001b[0m\u001b[0mres\u001b[0m\u001b[1;33m.\u001b[0m\u001b[0mndim\u001b[0m \u001b[1;33m:\u001b[0m \u001b[0mbuff\u001b[0m\u001b[1;33m.\u001b[0m\u001b[0mndim\u001b[0m\u001b[1;33m]\u001b[0m \u001b[1;33m+\u001b[0m\u001b[1;33m\n",
       "\u001b[0m        \u001b[0mbuff_dims\u001b[0m\u001b[1;33m[\u001b[0m\u001b[0maxis\u001b[0m \u001b[1;33m:\u001b[0m \u001b[0mbuff\u001b[0m\u001b[1;33m.\u001b[0m\u001b[0mndim\u001b[0m\u001b[1;33m-\u001b[0m\u001b[0mres\u001b[0m\u001b[1;33m.\u001b[0m\u001b[0mndim\u001b[0m\u001b[1;33m]\u001b[0m\u001b[1;33m\n",
       "\u001b[0m    \u001b[1;33m)\u001b[0m\u001b[1;33m\n",
       "\u001b[0m\u001b[1;33m\n",
       "\u001b[0m    \u001b[1;31m# matrices have a nasty __array_prepare__ and __array_wrap__\u001b[0m\u001b[1;33m\n",
       "\u001b[0m    \u001b[1;32mif\u001b[0m \u001b[1;32mnot\u001b[0m \u001b[0misinstance\u001b[0m\u001b[1;33m(\u001b[0m\u001b[0mres\u001b[0m\u001b[1;33m,\u001b[0m \u001b[0mmatrix\u001b[0m\u001b[1;33m)\u001b[0m\u001b[1;33m:\u001b[0m\u001b[1;33m\n",
       "\u001b[0m        \u001b[0mbuff\u001b[0m \u001b[1;33m=\u001b[0m \u001b[0mres\u001b[0m\u001b[1;33m.\u001b[0m\u001b[0m__array_prepare__\u001b[0m\u001b[1;33m(\u001b[0m\u001b[0mbuff\u001b[0m\u001b[1;33m)\u001b[0m\u001b[1;33m\n",
       "\u001b[0m\u001b[1;33m\n",
       "\u001b[0m    \u001b[1;31m# save the first result, then compute and save all remaining results\u001b[0m\u001b[1;33m\n",
       "\u001b[0m    \u001b[0mbuff\u001b[0m\u001b[1;33m[\u001b[0m\u001b[0mind0\u001b[0m\u001b[1;33m]\u001b[0m \u001b[1;33m=\u001b[0m \u001b[0mres\u001b[0m\u001b[1;33m\n",
       "\u001b[0m    \u001b[1;32mfor\u001b[0m \u001b[0mind\u001b[0m \u001b[1;32min\u001b[0m \u001b[0minds\u001b[0m\u001b[1;33m:\u001b[0m\u001b[1;33m\n",
       "\u001b[0m        \u001b[0mbuff\u001b[0m\u001b[1;33m[\u001b[0m\u001b[0mind\u001b[0m\u001b[1;33m]\u001b[0m \u001b[1;33m=\u001b[0m \u001b[0masanyarray\u001b[0m\u001b[1;33m(\u001b[0m\u001b[0mfunc1d\u001b[0m\u001b[1;33m(\u001b[0m\u001b[0minarr_view\u001b[0m\u001b[1;33m[\u001b[0m\u001b[0mind\u001b[0m\u001b[1;33m]\u001b[0m\u001b[1;33m,\u001b[0m \u001b[1;33m*\u001b[0m\u001b[0margs\u001b[0m\u001b[1;33m,\u001b[0m \u001b[1;33m**\u001b[0m\u001b[0mkwargs\u001b[0m\u001b[1;33m)\u001b[0m\u001b[1;33m)\u001b[0m\u001b[1;33m\n",
       "\u001b[0m\u001b[1;33m\n",
       "\u001b[0m    \u001b[1;32mif\u001b[0m \u001b[1;32mnot\u001b[0m \u001b[0misinstance\u001b[0m\u001b[1;33m(\u001b[0m\u001b[0mres\u001b[0m\u001b[1;33m,\u001b[0m \u001b[0mmatrix\u001b[0m\u001b[1;33m)\u001b[0m\u001b[1;33m:\u001b[0m\u001b[1;33m\n",
       "\u001b[0m        \u001b[1;31m# wrap the array, to preserve subclasses\u001b[0m\u001b[1;33m\n",
       "\u001b[0m        \u001b[0mbuff\u001b[0m \u001b[1;33m=\u001b[0m \u001b[0mres\u001b[0m\u001b[1;33m.\u001b[0m\u001b[0m__array_wrap__\u001b[0m\u001b[1;33m(\u001b[0m\u001b[0mbuff\u001b[0m\u001b[1;33m)\u001b[0m\u001b[1;33m\n",
       "\u001b[0m\u001b[1;33m\n",
       "\u001b[0m        \u001b[1;31m# finally, rotate the inserted axes back to where they belong\u001b[0m\u001b[1;33m\n",
       "\u001b[0m        \u001b[1;32mreturn\u001b[0m \u001b[0mtranspose\u001b[0m\u001b[1;33m(\u001b[0m\u001b[0mbuff\u001b[0m\u001b[1;33m,\u001b[0m \u001b[0mbuff_permute\u001b[0m\u001b[1;33m)\u001b[0m\u001b[1;33m\n",
       "\u001b[0m\u001b[1;33m\n",
       "\u001b[0m    \u001b[1;32melse\u001b[0m\u001b[1;33m:\u001b[0m\u001b[1;33m\n",
       "\u001b[0m        \u001b[1;31m# matrices have to be transposed first, because they collapse dimensions!\u001b[0m\u001b[1;33m\n",
       "\u001b[0m        \u001b[0mout_arr\u001b[0m \u001b[1;33m=\u001b[0m \u001b[0mtranspose\u001b[0m\u001b[1;33m(\u001b[0m\u001b[0mbuff\u001b[0m\u001b[1;33m,\u001b[0m \u001b[0mbuff_permute\u001b[0m\u001b[1;33m)\u001b[0m\u001b[1;33m\n",
       "\u001b[0m        \u001b[1;32mreturn\u001b[0m \u001b[0mres\u001b[0m\u001b[1;33m.\u001b[0m\u001b[0m__array_wrap__\u001b[0m\u001b[1;33m(\u001b[0m\u001b[0mout_arr\u001b[0m\u001b[1;33m)\u001b[0m\u001b[1;33m\u001b[0m\u001b[1;33m\u001b[0m\u001b[0m\n",
       "\u001b[1;31mFile:\u001b[0m      c:\\users\\bjlov\\anaconda3\\lib\\site-packages\\numpy\\lib\\shape_base.py\n",
       "\u001b[1;31mType:\u001b[0m      function\n"
      ]
     },
     "metadata": {},
     "output_type": "display_data"
    }
   ],
   "source": [
    "dir(np)\n",
    "# l = np.array([1,2,3])\n",
    "# np.append(l,4)\n",
    "# l\n",
    "# arr1 = np.arange(1,7)\n",
    "# arr2 = np.arange(11,17)\n",
    "# arr3 = np.arange(21,27)\n",
    "# np.c_[arr1,arr2,arr3]\n",
    "# arr1 = np.random.randint(3,10,7)\n",
    "# print(arr1)\n",
    "# print(np.cumsum(arr1))\n",
    "# print(np.cumprod(arr1))\n",
    "np.apply_along_axis??\n",
    "arr1 = np.random.randn(4,3)\n",
    "def min_minus(x):\n",
    "    return x - np.min(x)\n",
    "np.apply_along_axis(min_minus,1, arr1)\n",
    "np.apply_along_axis(lambda x:x-np.min(x),1,arr1)"
   ]
  },
  {
   "cell_type": "code",
   "execution_count": 10,
   "id": "f8b88d0b-d2c5-401d-a165-4dc96bd988da",
   "metadata": {},
   "outputs": [
    {
     "data": {
      "text/plain": [
       "array([[[1]],\n",
       "\n",
       "       [[2]],\n",
       "\n",
       "       [[3]]])"
      ]
     },
     "execution_count": 17,
     "metadata": {},
     "output_type": "execute_result"
    }
   ],
   "source": [
    "arr = np.array([1,2,3])\n",
    "arr.reshape(-1,1)\n",
    "arr[:,np.newaxis,np.newaxis]"
   ]
  },
  {
   "cell_type": "code",
   "execution_count": 11,
   "id": "dc0dd976-890b-4340-8b01-983a374d84a0",
   "metadata": {},
   "outputs": [
    {
     "data": {
      "text/plain": [
       "array([[ 1.,  2.,  3.],\n",
       "       [ 2.,  3., nan]])"
      ]
     },
     "execution_count": 18,
     "metadata": {},
     "output_type": "execute_result"
    }
   ],
   "source": [
    "np.array([[1,2,3,],[2,3,np.nan]])"
   ]
  },
  {
   "cell_type": "code",
   "execution_count": null,
   "id": "31d062ce-2168-4bdb-aadf-509d48db8795",
   "metadata": {},
   "outputs": [],
   "source": [
    "import numpy as np\n",
    "import pandas as pd"
   ]
  },
  {
   "cell_type": "code",
   "execution_count": null,
   "id": "d01270bb-8fea-4854-8a5e-2d2c6fca6092",
   "metadata": {},
   "outputs": [
    {
     "ename": "SyntaxError",
     "evalue": "invalid syntax (2697394987.py, line 5)",
     "output_type": "error",
     "traceback": [
      "\u001b[1;36m  File \u001b[1;32m\"C:\\Users\\bjlov\\AppData\\Local\\Temp\\ipykernel_4196\\2697394987.py\"\u001b[1;36m, line \u001b[1;32m5\u001b[0m\n\u001b[1;33m    dic = {\u001b[0m\n\u001b[1;37m    ^\u001b[0m\n\u001b[1;31mSyntaxError\u001b[0m\u001b[1;31m:\u001b[0m invalid syntax\n"
     ]
    }
   ],
   "source": [
    "# series\n",
    "# dataframe\n",
    "# np. array([1,2,3],dtype='int')\n",
    "pd.Series([1,2,3],index=([1,2,3])\n",
    "dic = {\n",
    "    1:1\n",
    "    2:2\n",
    "    3:3\n",
    "}\n",
    "pd.Series(dic)"
   ]
  },
  {
   "cell_type": "code",
   "execution_count": null,
   "id": "24e618a5-6262-49cc-bf66-7c96c862f3ee",
   "metadata": {},
   "outputs": [],
   "source": [
    "pd.Series([1,2,3],index=[1,2,3])"
   ]
  },
  {
   "cell_type": "code",
   "execution_count": null,
   "id": "b9c213fd-c86e-44e8-adf9-407b47379d7d",
   "metadata": {},
   "outputs": [],
   "source": [
    "dic = {\n",
    "    'one':1,\n",
    "    'two':2,\n",
    "    'three':3\n",
    "}\n",
    "s1 = pd.Series(dic)"
   ]
  },
  {
   "cell_type": "code",
   "execution_count": null,
   "id": "12c83df6-4f3b-4683-b14b-9ae9b715c932",
   "metadata": {},
   "outputs": [
    {
     "data": {
      "text/plain": [
       "Index(['one', 'two', 'three'], dtype='object')"
      ]
     },
     "execution_count": 22,
     "metadata": {},
     "output_type": "execute_result"
    }
   ],
   "source": [
    "s1.index"
   ]
  },
  {
   "cell_type": "code",
   "execution_count": null,
   "id": "ad1e0870-164d-4e10-ab08-c0e47a677974",
   "metadata": {},
   "outputs": [
    {
     "data": {
      "text/plain": [
       "one      1\n",
       "two      2\n",
       "three    3\n",
       "dtype: int64"
      ]
     },
     "execution_count": 23,
     "metadata": {},
     "output_type": "execute_result"
    }
   ],
   "source": [
    "pd.Series([1,2,3],index=['one','two','three'])"
   ]
  },
  {
   "cell_type": "code",
   "execution_count": null,
   "id": "d7e6c1cd-da95-470d-b3fe-56fdd7c56e61",
   "metadata": {},
   "outputs": [],
   "source": [
    "s2 = pd.Series(['2019-01-02',3.14,'ABC',100,True])"
   ]
  },
  {
   "cell_type": "code",
   "execution_count": null,
   "id": "877e5f0d-b154-4234-83c8-2ad0060e2f08",
   "metadata": {},
   "outputs": [
    {
     "data": {
      "text/plain": [
       "dtype('O')"
      ]
     },
     "execution_count": 25,
     "metadata": {},
     "output_type": "execute_result"
    }
   ],
   "source": [
    "s2.dtype"
   ]
  },
  {
   "cell_type": "code",
   "execution_count": null,
   "id": "569ccf86-a65f-43dd-9f6a-5bbf881aca96",
   "metadata": {},
   "outputs": [
    {
     "data": {
      "text/plain": [
       "one      1\n",
       "three    3\n",
       "dtype: int64"
      ]
     },
     "execution_count": 26,
     "metadata": {},
     "output_type": "execute_result"
    }
   ],
   "source": [
    "s1[['one','three']]"
   ]
  },
  {
   "cell_type": "code",
   "execution_count": null,
   "id": "865615f9-63ae-4b25-b8a1-8ceffb52147a",
   "metadata": {},
   "outputs": [
    {
     "data": {
      "text/html": [
       "<div>\n",
       "<style scoped>\n",
       "    .dataframe tbody tr th:only-of-type {\n",
       "        vertical-align: middle;\n",
       "    }\n",
       "\n",
       "    .dataframe tbody tr th {\n",
       "        vertical-align: top;\n",
       "    }\n",
       "\n",
       "    .dataframe thead th {\n",
       "        text-align: right;\n",
       "    }\n",
       "</style>\n",
       "<table border=\"1\" class=\"dataframe\">\n",
       "  <thead>\n",
       "    <tr style=\"text-align: right;\">\n",
       "      <th></th>\n",
       "      <th>korean</th>\n",
       "      <th>eng</th>\n",
       "      <th>math</th>\n",
       "    </tr>\n",
       "  </thead>\n",
       "  <tbody>\n",
       "    <tr>\n",
       "      <th>1</th>\n",
       "      <td>1</td>\n",
       "      <td>4</td>\n",
       "      <td>7</td>\n",
       "    </tr>\n",
       "    <tr>\n",
       "      <th>2</th>\n",
       "      <td>2</td>\n",
       "      <td>5</td>\n",
       "      <td>8</td>\n",
       "    </tr>\n",
       "    <tr>\n",
       "      <th>3</th>\n",
       "      <td>3</td>\n",
       "      <td>6</td>\n",
       "      <td>9</td>\n",
       "    </tr>\n",
       "  </tbody>\n",
       "</table>\n",
       "</div>"
      ],
      "text/plain": [
       "   korean  eng  math\n",
       "1       1    4     7\n",
       "2       2    5     8\n",
       "3       3    6     9"
      ]
     },
     "execution_count": 27,
     "metadata": {},
     "output_type": "execute_result"
    }
   ],
   "source": [
    "dic = {\n",
    "    'korean':[1,2,3],\n",
    "    'eng':[4,5,6],\n",
    "    'math':[7,8,9]\n",
    "}\n",
    "pd.DataFrame(dic,index=[1,2,3])"
   ]
  },
  {
   "cell_type": "code",
   "execution_count": null,
   "id": "67dd004e-825f-4bc2-833d-df566bc64745",
   "metadata": {},
   "outputs": [],
   "source": [
    "kor = [1,2,3]\n",
    "eng = [4,5,6]\n",
    "math = [7,8,9]\n",
    "dt = np.c_[kor,eng,math].T"
   ]
  },
  {
   "cell_type": "code",
   "execution_count": null,
   "id": "ef5aec18-fa19-49d9-958e-ad87469a101b",
   "metadata": {},
   "outputs": [
    {
     "data": {
      "text/html": [
       "<div>\n",
       "<style scoped>\n",
       "    .dataframe tbody tr th:only-of-type {\n",
       "        vertical-align: middle;\n",
       "    }\n",
       "\n",
       "    .dataframe tbody tr th {\n",
       "        vertical-align: top;\n",
       "    }\n",
       "\n",
       "    .dataframe thead th {\n",
       "        text-align: right;\n",
       "    }\n",
       "</style>\n",
       "<table border=\"1\" class=\"dataframe\">\n",
       "  <thead>\n",
       "    <tr style=\"text-align: right;\">\n",
       "      <th></th>\n",
       "      <th>kor</th>\n",
       "      <th>eng</th>\n",
       "      <th>math</th>\n",
       "    </tr>\n",
       "  </thead>\n",
       "  <tbody>\n",
       "    <tr>\n",
       "      <th>1</th>\n",
       "      <td>1</td>\n",
       "      <td>2</td>\n",
       "      <td>3</td>\n",
       "    </tr>\n",
       "    <tr>\n",
       "      <th>2</th>\n",
       "      <td>4</td>\n",
       "      <td>5</td>\n",
       "      <td>6</td>\n",
       "    </tr>\n",
       "    <tr>\n",
       "      <th>3</th>\n",
       "      <td>7</td>\n",
       "      <td>8</td>\n",
       "      <td>9</td>\n",
       "    </tr>\n",
       "  </tbody>\n",
       "</table>\n",
       "</div>"
      ],
      "text/plain": [
       "   kor  eng  math\n",
       "1    1    2     3\n",
       "2    4    5     6\n",
       "3    7    8     9"
      ]
     },
     "execution_count": 29,
     "metadata": {},
     "output_type": "execute_result"
    }
   ],
   "source": [
    "pd.DataFrame(dt,index=[1,2,3],\n",
    "             columns=['kor','eng','math'])"
   ]
  },
  {
   "cell_type": "code",
   "execution_count": null,
   "id": "c3a6b2a1-78da-41f4-beef-114654cbd537",
   "metadata": {},
   "outputs": [],
   "source": [
    "df = pd.DataFrame(dt)"
   ]
  },
  {
   "cell_type": "code",
   "execution_count": null,
   "id": "b8bf990c-8f67-403b-b4f1-d889cd60e8ed",
   "metadata": {},
   "outputs": [],
   "source": [
    "df.index = [1,2,3]\n",
    "df.columns = ['kor','eng','math']"
   ]
  },
  {
   "cell_type": "code",
   "execution_count": null,
   "id": "fe372002-8c83-4ee6-a79d-7429947e5372",
   "metadata": {},
   "outputs": [
    {
     "data": {
      "text/plain": [
       "Int64Index([1, 2, 3], dtype='int64')"
      ]
     },
     "execution_count": 32,
     "metadata": {},
     "output_type": "execute_result"
    }
   ],
   "source": [
    "df.index"
   ]
  },
  {
   "cell_type": "code",
   "execution_count": null,
   "id": "373567b2-1d1b-49e0-b596-f6bb197bc0cb",
   "metadata": {},
   "outputs": [
    {
     "data": {
      "text/plain": [
       "Index(['kor', 'eng', 'math'], dtype='object')"
      ]
     },
     "execution_count": 33,
     "metadata": {},
     "output_type": "execute_result"
    }
   ],
   "source": [
    "df.columns"
   ]
  },
  {
   "cell_type": "code",
   "execution_count": null,
   "id": "01a8077e-caab-4cd8-9139-97ab2471a8d4",
   "metadata": {},
   "outputs": [
    {
     "data": {
      "text/plain": [
       "Index(['kor', 'eng', 'math'], dtype='object')"
      ]
     },
     "execution_count": 34,
     "metadata": {},
     "output_type": "execute_result"
    }
   ],
   "source": [
    "df.columns"
   ]
  },
  {
   "cell_type": "code",
   "execution_count": null,
   "id": "51e3173b-72c6-45dc-b1ce-637101eb8a9e",
   "metadata": {},
   "outputs": [
    {
     "data": {
      "text/plain": [
       "array([[1, 2, 3],\n",
       "       [4, 5, 6],\n",
       "       [7, 8, 9]])"
      ]
     },
     "execution_count": 35,
     "metadata": {},
     "output_type": "execute_result"
    }
   ],
   "source": [
    "df.values"
   ]
  },
  {
   "cell_type": "code",
   "execution_count": null,
   "id": "fe1e61e1-da6c-4ec8-b111-8c047ad6b9e4",
   "metadata": {},
   "outputs": [],
   "source": [
    "df.rename(columns={'kor':'korean'},inplace=True)"
   ]
  },
  {
   "cell_type": "code",
   "execution_count": null,
   "id": "37c2b153-8782-4e47-af83-22dba6bd6133",
   "metadata": {},
   "outputs": [
    {
     "data": {
      "text/html": [
       "<div>\n",
       "<style scoped>\n",
       "    .dataframe tbody tr th:only-of-type {\n",
       "        vertical-align: middle;\n",
       "    }\n",
       "\n",
       "    .dataframe tbody tr th {\n",
       "        vertical-align: top;\n",
       "    }\n",
       "\n",
       "    .dataframe thead th {\n",
       "        text-align: right;\n",
       "    }\n",
       "</style>\n",
       "<table border=\"1\" class=\"dataframe\">\n",
       "  <thead>\n",
       "    <tr style=\"text-align: right;\">\n",
       "      <th></th>\n",
       "      <th>korean</th>\n",
       "      <th>eng</th>\n",
       "      <th>math</th>\n",
       "    </tr>\n",
       "  </thead>\n",
       "  <tbody>\n",
       "    <tr>\n",
       "      <th>10</th>\n",
       "      <td>1</td>\n",
       "      <td>2</td>\n",
       "      <td>3</td>\n",
       "    </tr>\n",
       "    <tr>\n",
       "      <th>2</th>\n",
       "      <td>4</td>\n",
       "      <td>5</td>\n",
       "      <td>6</td>\n",
       "    </tr>\n",
       "    <tr>\n",
       "      <th>3</th>\n",
       "      <td>7</td>\n",
       "      <td>8</td>\n",
       "      <td>9</td>\n",
       "    </tr>\n",
       "  </tbody>\n",
       "</table>\n",
       "</div>"
      ],
      "text/plain": [
       "    korean  eng  math\n",
       "10       1    2     3\n",
       "2        4    5     6\n",
       "3        7    8     9"
      ]
     },
     "execution_count": 37,
     "metadata": {},
     "output_type": "execute_result"
    }
   ],
   "source": [
    "df.rename(index={1:10})"
   ]
  },
  {
   "cell_type": "code",
   "execution_count": 6,
   "id": "b23c49b7-930e-469c-a189-ca288e364378",
   "metadata": {},
   "outputs": [],
   "source": [
    "df.columns = [0,1,2]"
   ]
  },
  {
   "cell_type": "code",
   "execution_count": 229,
   "id": "b4797be1-fba1-413d-8913-9c5d87d465d4",
   "metadata": {},
   "outputs": [],
   "source": [
    "dic = {\n",
    "    1:np.random.randint(60,100,100),\n",
    "    2:np.random.randint(60,100,100),\n",
    "    3:np.random.randint(60,100,100),\n",
    "    4:np.random.randint(60,100,100),\n",
    "    5:np.random.randint(60,100,100),\n",
    "    6:np.random.randint(60,100,100),\n",
    "    7:np.random.randint(60,100,100),\n",
    "    8:np.random.randint(60,100,100),\n",
    "    9:np.random.randint(60,100,100),\n",
    "    10:np.random.randint(60,100,100),\n",
    "    11:np.random.randint(60,100,100),\n",
    "    12:np.random.randint(60,100,100),\n",
    "}"
   ]
  },
  {
   "cell_type": "code",
   "execution_count": 230,
   "id": "40c710b8-0777-4f18-ada4-ebef245a282a",
   "metadata": {},
   "outputs": [],
   "source": [
    "df = pd.DataFrame(dic)"
   ]
  },
  {
   "cell_type": "code",
   "execution_count": 231,
   "id": "e41b90f2-55bf-4c3b-9cac-945a29f7c804",
   "metadata": {},
   "outputs": [],
   "source": [
    "df.columns = [ str(i)+'월' for i in df.columns ]"
   ]
  },
  {
   "cell_type": "code",
   "execution_count": 232,
   "id": "0d9c4584-6ec2-4556-9427-38213e0142b6",
   "metadata": {},
   "outputs": [
    {
     "data": {
      "text/html": [
       "<div>\n",
       "<style scoped>\n",
       "    .dataframe tbody tr th:only-of-type {\n",
       "        vertical-align: middle;\n",
       "    }\n",
       "\n",
       "    .dataframe tbody tr th {\n",
       "        vertical-align: top;\n",
       "    }\n",
       "\n",
       "    .dataframe thead th {\n",
       "        text-align: right;\n",
       "    }\n",
       "</style>\n",
       "<table border=\"1\" class=\"dataframe\">\n",
       "  <thead>\n",
       "    <tr style=\"text-align: right;\">\n",
       "      <th></th>\n",
       "      <th>1월</th>\n",
       "      <th>2월</th>\n",
       "      <th>3월</th>\n",
       "      <th>4월</th>\n",
       "      <th>5월</th>\n",
       "      <th>6월</th>\n",
       "      <th>7월</th>\n",
       "      <th>8월</th>\n",
       "      <th>9월</th>\n",
       "      <th>10월</th>\n",
       "      <th>11월</th>\n",
       "      <th>12월</th>\n",
       "    </tr>\n",
       "  </thead>\n",
       "  <tbody>\n",
       "    <tr>\n",
       "      <th>0</th>\n",
       "      <td>98</td>\n",
       "      <td>70</td>\n",
       "      <td>88</td>\n",
       "      <td>77</td>\n",
       "      <td>62</td>\n",
       "      <td>62</td>\n",
       "      <td>60</td>\n",
       "      <td>61</td>\n",
       "      <td>89</td>\n",
       "      <td>81</td>\n",
       "      <td>80</td>\n",
       "      <td>68</td>\n",
       "    </tr>\n",
       "    <tr>\n",
       "      <th>1</th>\n",
       "      <td>77</td>\n",
       "      <td>83</td>\n",
       "      <td>61</td>\n",
       "      <td>73</td>\n",
       "      <td>68</td>\n",
       "      <td>82</td>\n",
       "      <td>86</td>\n",
       "      <td>81</td>\n",
       "      <td>73</td>\n",
       "      <td>66</td>\n",
       "      <td>69</td>\n",
       "      <td>95</td>\n",
       "    </tr>\n",
       "    <tr>\n",
       "      <th>2</th>\n",
       "      <td>83</td>\n",
       "      <td>76</td>\n",
       "      <td>68</td>\n",
       "      <td>66</td>\n",
       "      <td>79</td>\n",
       "      <td>68</td>\n",
       "      <td>69</td>\n",
       "      <td>82</td>\n",
       "      <td>94</td>\n",
       "      <td>68</td>\n",
       "      <td>94</td>\n",
       "      <td>90</td>\n",
       "    </tr>\n",
       "    <tr>\n",
       "      <th>3</th>\n",
       "      <td>76</td>\n",
       "      <td>81</td>\n",
       "      <td>83</td>\n",
       "      <td>60</td>\n",
       "      <td>99</td>\n",
       "      <td>60</td>\n",
       "      <td>66</td>\n",
       "      <td>70</td>\n",
       "      <td>82</td>\n",
       "      <td>82</td>\n",
       "      <td>76</td>\n",
       "      <td>87</td>\n",
       "    </tr>\n",
       "    <tr>\n",
       "      <th>4</th>\n",
       "      <td>67</td>\n",
       "      <td>64</td>\n",
       "      <td>74</td>\n",
       "      <td>60</td>\n",
       "      <td>94</td>\n",
       "      <td>84</td>\n",
       "      <td>94</td>\n",
       "      <td>98</td>\n",
       "      <td>66</td>\n",
       "      <td>64</td>\n",
       "      <td>77</td>\n",
       "      <td>94</td>\n",
       "    </tr>\n",
       "    <tr>\n",
       "      <th>...</th>\n",
       "      <td>...</td>\n",
       "      <td>...</td>\n",
       "      <td>...</td>\n",
       "      <td>...</td>\n",
       "      <td>...</td>\n",
       "      <td>...</td>\n",
       "      <td>...</td>\n",
       "      <td>...</td>\n",
       "      <td>...</td>\n",
       "      <td>...</td>\n",
       "      <td>...</td>\n",
       "      <td>...</td>\n",
       "    </tr>\n",
       "    <tr>\n",
       "      <th>95</th>\n",
       "      <td>97</td>\n",
       "      <td>78</td>\n",
       "      <td>89</td>\n",
       "      <td>64</td>\n",
       "      <td>86</td>\n",
       "      <td>67</td>\n",
       "      <td>63</td>\n",
       "      <td>68</td>\n",
       "      <td>96</td>\n",
       "      <td>78</td>\n",
       "      <td>91</td>\n",
       "      <td>60</td>\n",
       "    </tr>\n",
       "    <tr>\n",
       "      <th>96</th>\n",
       "      <td>63</td>\n",
       "      <td>82</td>\n",
       "      <td>82</td>\n",
       "      <td>90</td>\n",
       "      <td>82</td>\n",
       "      <td>60</td>\n",
       "      <td>91</td>\n",
       "      <td>78</td>\n",
       "      <td>91</td>\n",
       "      <td>82</td>\n",
       "      <td>67</td>\n",
       "      <td>75</td>\n",
       "    </tr>\n",
       "    <tr>\n",
       "      <th>97</th>\n",
       "      <td>75</td>\n",
       "      <td>64</td>\n",
       "      <td>63</td>\n",
       "      <td>86</td>\n",
       "      <td>67</td>\n",
       "      <td>69</td>\n",
       "      <td>80</td>\n",
       "      <td>86</td>\n",
       "      <td>75</td>\n",
       "      <td>77</td>\n",
       "      <td>85</td>\n",
       "      <td>73</td>\n",
       "    </tr>\n",
       "    <tr>\n",
       "      <th>98</th>\n",
       "      <td>81</td>\n",
       "      <td>72</td>\n",
       "      <td>65</td>\n",
       "      <td>70</td>\n",
       "      <td>90</td>\n",
       "      <td>67</td>\n",
       "      <td>81</td>\n",
       "      <td>71</td>\n",
       "      <td>62</td>\n",
       "      <td>94</td>\n",
       "      <td>91</td>\n",
       "      <td>98</td>\n",
       "    </tr>\n",
       "    <tr>\n",
       "      <th>99</th>\n",
       "      <td>80</td>\n",
       "      <td>94</td>\n",
       "      <td>99</td>\n",
       "      <td>93</td>\n",
       "      <td>86</td>\n",
       "      <td>75</td>\n",
       "      <td>66</td>\n",
       "      <td>62</td>\n",
       "      <td>88</td>\n",
       "      <td>89</td>\n",
       "      <td>68</td>\n",
       "      <td>82</td>\n",
       "    </tr>\n",
       "  </tbody>\n",
       "</table>\n",
       "<p>100 rows × 12 columns</p>\n",
       "</div>"
      ],
      "text/plain": [
       "    1월  2월  3월  4월  5월  6월  7월  8월  9월  10월  11월  12월\n",
       "0   98  70  88  77  62  62  60  61  89   81   80   68\n",
       "1   77  83  61  73  68  82  86  81  73   66   69   95\n",
       "2   83  76  68  66  79  68  69  82  94   68   94   90\n",
       "3   76  81  83  60  99  60  66  70  82   82   76   87\n",
       "4   67  64  74  60  94  84  94  98  66   64   77   94\n",
       "..  ..  ..  ..  ..  ..  ..  ..  ..  ..  ...  ...  ...\n",
       "95  97  78  89  64  86  67  63  68  96   78   91   60\n",
       "96  63  82  82  90  82  60  91  78  91   82   67   75\n",
       "97  75  64  63  86  67  69  80  86  75   77   85   73\n",
       "98  81  72  65  70  90  67  81  71  62   94   91   98\n",
       "99  80  94  99  93  86  75  66  62  88   89   68   82\n",
       "\n",
       "[100 rows x 12 columns]"
      ]
     },
     "execution_count": 232,
     "metadata": {},
     "output_type": "execute_result"
    }
   ],
   "source": [
    "df.rename(columns={}) "
   ]
  },
  {
   "cell_type": "code",
   "execution_count": 233,
   "id": "d6a75d0d-9c33-472f-99c5-3b74e30dc0e6",
   "metadata": {},
   "outputs": [
    {
     "data": {
      "text/plain": [
       "{'1월': '01월',\n",
       " '2월': '02월',\n",
       " '3월': '03월',\n",
       " '4월': '04월',\n",
       " '5월': '05월',\n",
       " '6월': '06월',\n",
       " '7월': '07월',\n",
       " '8월': '08월',\n",
       " '9월': '09월'}"
      ]
     },
     "execution_count": 233,
     "metadata": {},
     "output_type": "execute_result"
    }
   ],
   "source": [
    "{ i:'0'+i for i in df.columns[df.columns.str.len() <3]}"
   ]
  },
  {
   "cell_type": "code",
   "execution_count": 234,
   "id": "d78421de-e046-45ef-a868-fe9af6c5528a",
   "metadata": {},
   "outputs": [],
   "source": [
    "cols = df.columns[df.columns.str.len() <3]\n",
    "col_dic = { i:'0'+i for i in cols }\n",
    "df.rename(columns=col_dic,\n",
    "          inplace=True) "
   ]
  },
  {
   "cell_type": "code",
   "execution_count": 235,
   "id": "5e6c8d36-da68-4053-9913-7962a862996a",
   "metadata": {},
   "outputs": [],
   "source": [
    "df.set_index(df['01월'],inplace=True)"
   ]
  },
  {
   "cell_type": "code",
   "execution_count": null,
   "id": "7293c4e9-b50e-4480-935c-18c77943e566",
   "metadata": {},
   "outputs": [],
   "source": []
  },
  {
   "cell_type": "code",
   "execution_count": 236,
   "id": "581425be-ef51-464e-8246-b2b2f19398bb",
   "metadata": {},
   "outputs": [],
   "source": [
    "df.drop(columns=['01월'],inplace=True)"
   ]
  },
  {
   "cell_type": "code",
   "execution_count": 237,
   "id": "66ca2f49-ae8a-49c9-a583-1e76dd031b7b",
   "metadata": {},
   "outputs": [
    {
     "data": {
      "text/html": [
       "<div>\n",
       "<style scoped>\n",
       "    .dataframe tbody tr th:only-of-type {\n",
       "        vertical-align: middle;\n",
       "    }\n",
       "\n",
       "    .dataframe tbody tr th {\n",
       "        vertical-align: top;\n",
       "    }\n",
       "\n",
       "    .dataframe thead th {\n",
       "        text-align: right;\n",
       "    }\n",
       "</style>\n",
       "<table border=\"1\" class=\"dataframe\">\n",
       "  <thead>\n",
       "    <tr style=\"text-align: right;\">\n",
       "      <th></th>\n",
       "      <th>02월</th>\n",
       "      <th>03월</th>\n",
       "      <th>04월</th>\n",
       "      <th>05월</th>\n",
       "      <th>06월</th>\n",
       "      <th>07월</th>\n",
       "      <th>08월</th>\n",
       "      <th>09월</th>\n",
       "      <th>10월</th>\n",
       "      <th>11월</th>\n",
       "      <th>12월</th>\n",
       "    </tr>\n",
       "    <tr>\n",
       "      <th>01월</th>\n",
       "      <th></th>\n",
       "      <th></th>\n",
       "      <th></th>\n",
       "      <th></th>\n",
       "      <th></th>\n",
       "      <th></th>\n",
       "      <th></th>\n",
       "      <th></th>\n",
       "      <th></th>\n",
       "      <th></th>\n",
       "      <th></th>\n",
       "    </tr>\n",
       "  </thead>\n",
       "  <tbody>\n",
       "    <tr>\n",
       "      <th>98</th>\n",
       "      <td>70</td>\n",
       "      <td>88</td>\n",
       "      <td>77</td>\n",
       "      <td>62</td>\n",
       "      <td>62</td>\n",
       "      <td>60</td>\n",
       "      <td>61</td>\n",
       "      <td>89</td>\n",
       "      <td>81</td>\n",
       "      <td>80</td>\n",
       "      <td>68</td>\n",
       "    </tr>\n",
       "    <tr>\n",
       "      <th>77</th>\n",
       "      <td>83</td>\n",
       "      <td>61</td>\n",
       "      <td>73</td>\n",
       "      <td>68</td>\n",
       "      <td>82</td>\n",
       "      <td>86</td>\n",
       "      <td>81</td>\n",
       "      <td>73</td>\n",
       "      <td>66</td>\n",
       "      <td>69</td>\n",
       "      <td>95</td>\n",
       "    </tr>\n",
       "    <tr>\n",
       "      <th>83</th>\n",
       "      <td>76</td>\n",
       "      <td>68</td>\n",
       "      <td>66</td>\n",
       "      <td>79</td>\n",
       "      <td>68</td>\n",
       "      <td>69</td>\n",
       "      <td>82</td>\n",
       "      <td>94</td>\n",
       "      <td>68</td>\n",
       "      <td>94</td>\n",
       "      <td>90</td>\n",
       "    </tr>\n",
       "    <tr>\n",
       "      <th>76</th>\n",
       "      <td>81</td>\n",
       "      <td>83</td>\n",
       "      <td>60</td>\n",
       "      <td>99</td>\n",
       "      <td>60</td>\n",
       "      <td>66</td>\n",
       "      <td>70</td>\n",
       "      <td>82</td>\n",
       "      <td>82</td>\n",
       "      <td>76</td>\n",
       "      <td>87</td>\n",
       "    </tr>\n",
       "    <tr>\n",
       "      <th>67</th>\n",
       "      <td>64</td>\n",
       "      <td>74</td>\n",
       "      <td>60</td>\n",
       "      <td>94</td>\n",
       "      <td>84</td>\n",
       "      <td>94</td>\n",
       "      <td>98</td>\n",
       "      <td>66</td>\n",
       "      <td>64</td>\n",
       "      <td>77</td>\n",
       "      <td>94</td>\n",
       "    </tr>\n",
       "    <tr>\n",
       "      <th>...</th>\n",
       "      <td>...</td>\n",
       "      <td>...</td>\n",
       "      <td>...</td>\n",
       "      <td>...</td>\n",
       "      <td>...</td>\n",
       "      <td>...</td>\n",
       "      <td>...</td>\n",
       "      <td>...</td>\n",
       "      <td>...</td>\n",
       "      <td>...</td>\n",
       "      <td>...</td>\n",
       "    </tr>\n",
       "    <tr>\n",
       "      <th>97</th>\n",
       "      <td>78</td>\n",
       "      <td>89</td>\n",
       "      <td>64</td>\n",
       "      <td>86</td>\n",
       "      <td>67</td>\n",
       "      <td>63</td>\n",
       "      <td>68</td>\n",
       "      <td>96</td>\n",
       "      <td>78</td>\n",
       "      <td>91</td>\n",
       "      <td>60</td>\n",
       "    </tr>\n",
       "    <tr>\n",
       "      <th>63</th>\n",
       "      <td>82</td>\n",
       "      <td>82</td>\n",
       "      <td>90</td>\n",
       "      <td>82</td>\n",
       "      <td>60</td>\n",
       "      <td>91</td>\n",
       "      <td>78</td>\n",
       "      <td>91</td>\n",
       "      <td>82</td>\n",
       "      <td>67</td>\n",
       "      <td>75</td>\n",
       "    </tr>\n",
       "    <tr>\n",
       "      <th>75</th>\n",
       "      <td>64</td>\n",
       "      <td>63</td>\n",
       "      <td>86</td>\n",
       "      <td>67</td>\n",
       "      <td>69</td>\n",
       "      <td>80</td>\n",
       "      <td>86</td>\n",
       "      <td>75</td>\n",
       "      <td>77</td>\n",
       "      <td>85</td>\n",
       "      <td>73</td>\n",
       "    </tr>\n",
       "    <tr>\n",
       "      <th>81</th>\n",
       "      <td>72</td>\n",
       "      <td>65</td>\n",
       "      <td>70</td>\n",
       "      <td>90</td>\n",
       "      <td>67</td>\n",
       "      <td>81</td>\n",
       "      <td>71</td>\n",
       "      <td>62</td>\n",
       "      <td>94</td>\n",
       "      <td>91</td>\n",
       "      <td>98</td>\n",
       "    </tr>\n",
       "    <tr>\n",
       "      <th>80</th>\n",
       "      <td>94</td>\n",
       "      <td>99</td>\n",
       "      <td>93</td>\n",
       "      <td>86</td>\n",
       "      <td>75</td>\n",
       "      <td>66</td>\n",
       "      <td>62</td>\n",
       "      <td>88</td>\n",
       "      <td>89</td>\n",
       "      <td>68</td>\n",
       "      <td>82</td>\n",
       "    </tr>\n",
       "  </tbody>\n",
       "</table>\n",
       "<p>100 rows × 11 columns</p>\n",
       "</div>"
      ],
      "text/plain": [
       "     02월  03월  04월  05월  06월  07월  08월  09월  10월  11월  12월\n",
       "01월                                                       \n",
       "98    70   88   77   62   62   60   61   89   81   80   68\n",
       "77    83   61   73   68   82   86   81   73   66   69   95\n",
       "83    76   68   66   79   68   69   82   94   68   94   90\n",
       "76    81   83   60   99   60   66   70   82   82   76   87\n",
       "67    64   74   60   94   84   94   98   66   64   77   94\n",
       "..   ...  ...  ...  ...  ...  ...  ...  ...  ...  ...  ...\n",
       "97    78   89   64   86   67   63   68   96   78   91   60\n",
       "63    82   82   90   82   60   91   78   91   82   67   75\n",
       "75    64   63   86   67   69   80   86   75   77   85   73\n",
       "81    72   65   70   90   67   81   71   62   94   91   98\n",
       "80    94   99   93   86   75   66   62   88   89   68   82\n",
       "\n",
       "[100 rows x 11 columns]"
      ]
     },
     "execution_count": 237,
     "metadata": {},
     "output_type": "execute_result"
    }
   ],
   "source": [
    "df"
   ]
  },
  {
   "cell_type": "code",
   "execution_count": 238,
   "id": "0eddf1a6-cf61-4606-8346-4e0531f9dcdf",
   "metadata": {},
   "outputs": [],
   "source": [
    "df.reset_index(inplace=True)"
   ]
  },
  {
   "cell_type": "code",
   "execution_count": 239,
   "id": "41de949f-9f9e-468f-ab90-7c0ab6cfbaee",
   "metadata": {},
   "outputs": [
    {
     "data": {
      "text/html": [
       "<div>\n",
       "<style scoped>\n",
       "    .dataframe tbody tr th:only-of-type {\n",
       "        vertical-align: middle;\n",
       "    }\n",
       "\n",
       "    .dataframe tbody tr th {\n",
       "        vertical-align: top;\n",
       "    }\n",
       "\n",
       "    .dataframe thead th {\n",
       "        text-align: right;\n",
       "    }\n",
       "</style>\n",
       "<table border=\"1\" class=\"dataframe\">\n",
       "  <thead>\n",
       "    <tr style=\"text-align: right;\">\n",
       "      <th></th>\n",
       "      <th>01월</th>\n",
       "      <th>02월</th>\n",
       "      <th>03월</th>\n",
       "      <th>04월</th>\n",
       "      <th>05월</th>\n",
       "      <th>06월</th>\n",
       "      <th>07월</th>\n",
       "      <th>08월</th>\n",
       "      <th>09월</th>\n",
       "      <th>10월</th>\n",
       "      <th>11월</th>\n",
       "      <th>12월</th>\n",
       "    </tr>\n",
       "  </thead>\n",
       "  <tbody>\n",
       "    <tr>\n",
       "      <th>1</th>\n",
       "      <td>77</td>\n",
       "      <td>83</td>\n",
       "      <td>61</td>\n",
       "      <td>73</td>\n",
       "      <td>68</td>\n",
       "      <td>82</td>\n",
       "      <td>86</td>\n",
       "      <td>81</td>\n",
       "      <td>73</td>\n",
       "      <td>66</td>\n",
       "      <td>69</td>\n",
       "      <td>95</td>\n",
       "    </tr>\n",
       "    <tr>\n",
       "      <th>2</th>\n",
       "      <td>83</td>\n",
       "      <td>76</td>\n",
       "      <td>68</td>\n",
       "      <td>66</td>\n",
       "      <td>79</td>\n",
       "      <td>68</td>\n",
       "      <td>69</td>\n",
       "      <td>82</td>\n",
       "      <td>94</td>\n",
       "      <td>68</td>\n",
       "      <td>94</td>\n",
       "      <td>90</td>\n",
       "    </tr>\n",
       "    <tr>\n",
       "      <th>3</th>\n",
       "      <td>76</td>\n",
       "      <td>81</td>\n",
       "      <td>83</td>\n",
       "      <td>60</td>\n",
       "      <td>99</td>\n",
       "      <td>60</td>\n",
       "      <td>66</td>\n",
       "      <td>70</td>\n",
       "      <td>82</td>\n",
       "      <td>82</td>\n",
       "      <td>76</td>\n",
       "      <td>87</td>\n",
       "    </tr>\n",
       "    <tr>\n",
       "      <th>4</th>\n",
       "      <td>67</td>\n",
       "      <td>64</td>\n",
       "      <td>74</td>\n",
       "      <td>60</td>\n",
       "      <td>94</td>\n",
       "      <td>84</td>\n",
       "      <td>94</td>\n",
       "      <td>98</td>\n",
       "      <td>66</td>\n",
       "      <td>64</td>\n",
       "      <td>77</td>\n",
       "      <td>94</td>\n",
       "    </tr>\n",
       "    <tr>\n",
       "      <th>5</th>\n",
       "      <td>62</td>\n",
       "      <td>69</td>\n",
       "      <td>83</td>\n",
       "      <td>68</td>\n",
       "      <td>96</td>\n",
       "      <td>82</td>\n",
       "      <td>85</td>\n",
       "      <td>99</td>\n",
       "      <td>90</td>\n",
       "      <td>69</td>\n",
       "      <td>70</td>\n",
       "      <td>91</td>\n",
       "    </tr>\n",
       "    <tr>\n",
       "      <th>...</th>\n",
       "      <td>...</td>\n",
       "      <td>...</td>\n",
       "      <td>...</td>\n",
       "      <td>...</td>\n",
       "      <td>...</td>\n",
       "      <td>...</td>\n",
       "      <td>...</td>\n",
       "      <td>...</td>\n",
       "      <td>...</td>\n",
       "      <td>...</td>\n",
       "      <td>...</td>\n",
       "      <td>...</td>\n",
       "    </tr>\n",
       "    <tr>\n",
       "      <th>95</th>\n",
       "      <td>97</td>\n",
       "      <td>78</td>\n",
       "      <td>89</td>\n",
       "      <td>64</td>\n",
       "      <td>86</td>\n",
       "      <td>67</td>\n",
       "      <td>63</td>\n",
       "      <td>68</td>\n",
       "      <td>96</td>\n",
       "      <td>78</td>\n",
       "      <td>91</td>\n",
       "      <td>60</td>\n",
       "    </tr>\n",
       "    <tr>\n",
       "      <th>96</th>\n",
       "      <td>63</td>\n",
       "      <td>82</td>\n",
       "      <td>82</td>\n",
       "      <td>90</td>\n",
       "      <td>82</td>\n",
       "      <td>60</td>\n",
       "      <td>91</td>\n",
       "      <td>78</td>\n",
       "      <td>91</td>\n",
       "      <td>82</td>\n",
       "      <td>67</td>\n",
       "      <td>75</td>\n",
       "    </tr>\n",
       "    <tr>\n",
       "      <th>97</th>\n",
       "      <td>75</td>\n",
       "      <td>64</td>\n",
       "      <td>63</td>\n",
       "      <td>86</td>\n",
       "      <td>67</td>\n",
       "      <td>69</td>\n",
       "      <td>80</td>\n",
       "      <td>86</td>\n",
       "      <td>75</td>\n",
       "      <td>77</td>\n",
       "      <td>85</td>\n",
       "      <td>73</td>\n",
       "    </tr>\n",
       "    <tr>\n",
       "      <th>98</th>\n",
       "      <td>81</td>\n",
       "      <td>72</td>\n",
       "      <td>65</td>\n",
       "      <td>70</td>\n",
       "      <td>90</td>\n",
       "      <td>67</td>\n",
       "      <td>81</td>\n",
       "      <td>71</td>\n",
       "      <td>62</td>\n",
       "      <td>94</td>\n",
       "      <td>91</td>\n",
       "      <td>98</td>\n",
       "    </tr>\n",
       "    <tr>\n",
       "      <th>99</th>\n",
       "      <td>80</td>\n",
       "      <td>94</td>\n",
       "      <td>99</td>\n",
       "      <td>93</td>\n",
       "      <td>86</td>\n",
       "      <td>75</td>\n",
       "      <td>66</td>\n",
       "      <td>62</td>\n",
       "      <td>88</td>\n",
       "      <td>89</td>\n",
       "      <td>68</td>\n",
       "      <td>82</td>\n",
       "    </tr>\n",
       "  </tbody>\n",
       "</table>\n",
       "<p>99 rows × 12 columns</p>\n",
       "</div>"
      ],
      "text/plain": [
       "    01월  02월  03월  04월  05월  06월  07월  08월  09월  10월  11월  12월\n",
       "1    77   83   61   73   68   82   86   81   73   66   69   95\n",
       "2    83   76   68   66   79   68   69   82   94   68   94   90\n",
       "3    76   81   83   60   99   60   66   70   82   82   76   87\n",
       "4    67   64   74   60   94   84   94   98   66   64   77   94\n",
       "5    62   69   83   68   96   82   85   99   90   69   70   91\n",
       "..  ...  ...  ...  ...  ...  ...  ...  ...  ...  ...  ...  ...\n",
       "95   97   78   89   64   86   67   63   68   96   78   91   60\n",
       "96   63   82   82   90   82   60   91   78   91   82   67   75\n",
       "97   75   64   63   86   67   69   80   86   75   77   85   73\n",
       "98   81   72   65   70   90   67   81   71   62   94   91   98\n",
       "99   80   94   99   93   86   75   66   62   88   89   68   82\n",
       "\n",
       "[99 rows x 12 columns]"
      ]
     },
     "execution_count": 239,
     "metadata": {},
     "output_type": "execute_result"
    }
   ],
   "source": [
    "df.drop(index=[0],axis=1)"
   ]
  },
  {
   "cell_type": "code",
   "execution_count": 240,
   "id": "50a8c73c-e4d2-4610-91be-61e5be02b036",
   "metadata": {},
   "outputs": [
    {
     "data": {
      "text/html": [
       "<div>\n",
       "<style scoped>\n",
       "    .dataframe tbody tr th:only-of-type {\n",
       "        vertical-align: middle;\n",
       "    }\n",
       "\n",
       "    .dataframe tbody tr th {\n",
       "        vertical-align: top;\n",
       "    }\n",
       "\n",
       "    .dataframe thead th {\n",
       "        text-align: right;\n",
       "    }\n",
       "</style>\n",
       "<table border=\"1\" class=\"dataframe\">\n",
       "  <thead>\n",
       "    <tr style=\"text-align: right;\">\n",
       "      <th></th>\n",
       "      <th>02월</th>\n",
       "      <th>04월</th>\n",
       "      <th>05월</th>\n",
       "      <th>06월</th>\n",
       "      <th>07월</th>\n",
       "      <th>08월</th>\n",
       "      <th>09월</th>\n",
       "      <th>10월</th>\n",
       "      <th>11월</th>\n",
       "      <th>12월</th>\n",
       "    </tr>\n",
       "  </thead>\n",
       "  <tbody>\n",
       "    <tr>\n",
       "      <th>0</th>\n",
       "      <td>70</td>\n",
       "      <td>77</td>\n",
       "      <td>62</td>\n",
       "      <td>62</td>\n",
       "      <td>60</td>\n",
       "      <td>61</td>\n",
       "      <td>89</td>\n",
       "      <td>81</td>\n",
       "      <td>80</td>\n",
       "      <td>68</td>\n",
       "    </tr>\n",
       "    <tr>\n",
       "      <th>1</th>\n",
       "      <td>83</td>\n",
       "      <td>73</td>\n",
       "      <td>68</td>\n",
       "      <td>82</td>\n",
       "      <td>86</td>\n",
       "      <td>81</td>\n",
       "      <td>73</td>\n",
       "      <td>66</td>\n",
       "      <td>69</td>\n",
       "      <td>95</td>\n",
       "    </tr>\n",
       "    <tr>\n",
       "      <th>2</th>\n",
       "      <td>76</td>\n",
       "      <td>66</td>\n",
       "      <td>79</td>\n",
       "      <td>68</td>\n",
       "      <td>69</td>\n",
       "      <td>82</td>\n",
       "      <td>94</td>\n",
       "      <td>68</td>\n",
       "      <td>94</td>\n",
       "      <td>90</td>\n",
       "    </tr>\n",
       "    <tr>\n",
       "      <th>3</th>\n",
       "      <td>81</td>\n",
       "      <td>60</td>\n",
       "      <td>99</td>\n",
       "      <td>60</td>\n",
       "      <td>66</td>\n",
       "      <td>70</td>\n",
       "      <td>82</td>\n",
       "      <td>82</td>\n",
       "      <td>76</td>\n",
       "      <td>87</td>\n",
       "    </tr>\n",
       "    <tr>\n",
       "      <th>4</th>\n",
       "      <td>64</td>\n",
       "      <td>60</td>\n",
       "      <td>94</td>\n",
       "      <td>84</td>\n",
       "      <td>94</td>\n",
       "      <td>98</td>\n",
       "      <td>66</td>\n",
       "      <td>64</td>\n",
       "      <td>77</td>\n",
       "      <td>94</td>\n",
       "    </tr>\n",
       "    <tr>\n",
       "      <th>...</th>\n",
       "      <td>...</td>\n",
       "      <td>...</td>\n",
       "      <td>...</td>\n",
       "      <td>...</td>\n",
       "      <td>...</td>\n",
       "      <td>...</td>\n",
       "      <td>...</td>\n",
       "      <td>...</td>\n",
       "      <td>...</td>\n",
       "      <td>...</td>\n",
       "    </tr>\n",
       "    <tr>\n",
       "      <th>95</th>\n",
       "      <td>78</td>\n",
       "      <td>64</td>\n",
       "      <td>86</td>\n",
       "      <td>67</td>\n",
       "      <td>63</td>\n",
       "      <td>68</td>\n",
       "      <td>96</td>\n",
       "      <td>78</td>\n",
       "      <td>91</td>\n",
       "      <td>60</td>\n",
       "    </tr>\n",
       "    <tr>\n",
       "      <th>96</th>\n",
       "      <td>82</td>\n",
       "      <td>90</td>\n",
       "      <td>82</td>\n",
       "      <td>60</td>\n",
       "      <td>91</td>\n",
       "      <td>78</td>\n",
       "      <td>91</td>\n",
       "      <td>82</td>\n",
       "      <td>67</td>\n",
       "      <td>75</td>\n",
       "    </tr>\n",
       "    <tr>\n",
       "      <th>97</th>\n",
       "      <td>64</td>\n",
       "      <td>86</td>\n",
       "      <td>67</td>\n",
       "      <td>69</td>\n",
       "      <td>80</td>\n",
       "      <td>86</td>\n",
       "      <td>75</td>\n",
       "      <td>77</td>\n",
       "      <td>85</td>\n",
       "      <td>73</td>\n",
       "    </tr>\n",
       "    <tr>\n",
       "      <th>98</th>\n",
       "      <td>72</td>\n",
       "      <td>70</td>\n",
       "      <td>90</td>\n",
       "      <td>67</td>\n",
       "      <td>81</td>\n",
       "      <td>71</td>\n",
       "      <td>62</td>\n",
       "      <td>94</td>\n",
       "      <td>91</td>\n",
       "      <td>98</td>\n",
       "    </tr>\n",
       "    <tr>\n",
       "      <th>99</th>\n",
       "      <td>94</td>\n",
       "      <td>93</td>\n",
       "      <td>86</td>\n",
       "      <td>75</td>\n",
       "      <td>66</td>\n",
       "      <td>62</td>\n",
       "      <td>88</td>\n",
       "      <td>89</td>\n",
       "      <td>68</td>\n",
       "      <td>82</td>\n",
       "    </tr>\n",
       "  </tbody>\n",
       "</table>\n",
       "<p>100 rows × 10 columns</p>\n",
       "</div>"
      ],
      "text/plain": [
       "    02월  04월  05월  06월  07월  08월  09월  10월  11월  12월\n",
       "0    70   77   62   62   60   61   89   81   80   68\n",
       "1    83   73   68   82   86   81   73   66   69   95\n",
       "2    76   66   79   68   69   82   94   68   94   90\n",
       "3    81   60   99   60   66   70   82   82   76   87\n",
       "4    64   60   94   84   94   98   66   64   77   94\n",
       "..  ...  ...  ...  ...  ...  ...  ...  ...  ...  ...\n",
       "95   78   64   86   67   63   68   96   78   91   60\n",
       "96   82   90   82   60   91   78   91   82   67   75\n",
       "97   64   86   67   69   80   86   75   77   85   73\n",
       "98   72   70   90   67   81   71   62   94   91   98\n",
       "99   94   93   86   75   66   62   88   89   68   82\n",
       "\n",
       "[100 rows x 10 columns]"
      ]
     },
     "execution_count": 240,
     "metadata": {},
     "output_type": "execute_result"
    }
   ],
   "source": [
    "df.drop(columns=['01월','03월'],axis=0)"
   ]
  },
  {
   "cell_type": "code",
   "execution_count": 241,
   "id": "819edb72-281f-4f06-889c-61950e24db29",
   "metadata": {},
   "outputs": [
    {
     "data": {
      "text/plain": [
       "Int64Index([19], dtype='int64')"
      ]
     },
     "execution_count": 241,
     "metadata": {},
     "output_type": "execute_result"
    }
   ],
   "source": [
    "df['02월'][df['02월'] == 99].index"
   ]
  },
  {
   "cell_type": "code",
   "execution_count": 242,
   "id": "62b1200e-7242-4abe-91a3-ca0245e71b7a",
   "metadata": {},
   "outputs": [
    {
     "data": {
      "text/plain": [
       "0     False\n",
       "1     False\n",
       "2     False\n",
       "3     False\n",
       "4     False\n",
       "      ...  \n",
       "95    False\n",
       "96    False\n",
       "97    False\n",
       "98    False\n",
       "99    False\n",
       "Name: 02월, Length: 100, dtype: bool"
      ]
     },
     "execution_count": 242,
     "metadata": {},
     "output_type": "execute_result"
    }
   ],
   "source": [
    "df['02월'] == 99"
   ]
  },
  {
   "cell_type": "code",
   "execution_count": 243,
   "id": "751ac08e-a916-47d1-8c9c-668787a04f01",
   "metadata": {},
   "outputs": [
    {
     "name": "stdout",
     "output_type": "stream",
     "text": [
      "집중력이 바닥입니다 쉬세요\n"
     ]
    }
   ],
   "source": [
    "print('집중력이 바닥입니다 쉬세요')"
   ]
  },
  {
   "cell_type": "code",
   "execution_count": 244,
   "id": "43936fce-1ab7-4dcf-ba31-f8c0c3dcdab1",
   "metadata": {},
   "outputs": [
    {
     "data": {
      "text/html": [
       "<div>\n",
       "<style scoped>\n",
       "    .dataframe tbody tr th:only-of-type {\n",
       "        vertical-align: middle;\n",
       "    }\n",
       "\n",
       "    .dataframe tbody tr th {\n",
       "        vertical-align: top;\n",
       "    }\n",
       "\n",
       "    .dataframe thead th {\n",
       "        text-align: right;\n",
       "    }\n",
       "</style>\n",
       "<table border=\"1\" class=\"dataframe\">\n",
       "  <thead>\n",
       "    <tr style=\"text-align: right;\">\n",
       "      <th></th>\n",
       "      <th>01월</th>\n",
       "      <th>02월</th>\n",
       "    </tr>\n",
       "  </thead>\n",
       "  <tbody>\n",
       "    <tr>\n",
       "      <th>0</th>\n",
       "      <td>98</td>\n",
       "      <td>70</td>\n",
       "    </tr>\n",
       "    <tr>\n",
       "      <th>2</th>\n",
       "      <td>83</td>\n",
       "      <td>76</td>\n",
       "    </tr>\n",
       "    <tr>\n",
       "      <th>4</th>\n",
       "      <td>67</td>\n",
       "      <td>64</td>\n",
       "    </tr>\n",
       "  </tbody>\n",
       "</table>\n",
       "</div>"
      ],
      "text/plain": [
       "   01월  02월\n",
       "0   98   70\n",
       "2   83   76\n",
       "4   67   64"
      ]
     },
     "execution_count": 244,
     "metadata": {},
     "output_type": "execute_result"
    }
   ],
   "source": [
    "df.loc[[0,2,4],['01월','02월']]"
   ]
  },
  {
   "cell_type": "code",
   "execution_count": 245,
   "id": "7ee2e9e6-0058-4bb3-b83a-bc15f14510ad",
   "metadata": {},
   "outputs": [
    {
     "data": {
      "text/html": [
       "<div>\n",
       "<style scoped>\n",
       "    .dataframe tbody tr th:only-of-type {\n",
       "        vertical-align: middle;\n",
       "    }\n",
       "\n",
       "    .dataframe tbody tr th {\n",
       "        vertical-align: top;\n",
       "    }\n",
       "\n",
       "    .dataframe thead th {\n",
       "        text-align: right;\n",
       "    }\n",
       "</style>\n",
       "<table border=\"1\" class=\"dataframe\">\n",
       "  <thead>\n",
       "    <tr style=\"text-align: right;\">\n",
       "      <th></th>\n",
       "      <th>12월</th>\n",
       "    </tr>\n",
       "  </thead>\n",
       "  <tbody>\n",
       "    <tr>\n",
       "      <th>0</th>\n",
       "      <td>68</td>\n",
       "    </tr>\n",
       "    <tr>\n",
       "      <th>2</th>\n",
       "      <td>90</td>\n",
       "    </tr>\n",
       "    <tr>\n",
       "      <th>4</th>\n",
       "      <td>94</td>\n",
       "    </tr>\n",
       "  </tbody>\n",
       "</table>\n",
       "</div>"
      ],
      "text/plain": [
       "   12월\n",
       "0   68\n",
       "2   90\n",
       "4   94"
      ]
     },
     "execution_count": 245,
     "metadata": {},
     "output_type": "execute_result"
    }
   ],
   "source": [
    "df.iloc[[0,2,4],[-1]]"
   ]
  },
  {
   "cell_type": "code",
   "execution_count": 246,
   "id": "a7b2109a-50b3-4a76-afce-99fce5868887",
   "metadata": {},
   "outputs": [
    {
     "data": {
      "text/html": [
       "<div>\n",
       "<style scoped>\n",
       "    .dataframe tbody tr th:only-of-type {\n",
       "        vertical-align: middle;\n",
       "    }\n",
       "\n",
       "    .dataframe tbody tr th {\n",
       "        vertical-align: top;\n",
       "    }\n",
       "\n",
       "    .dataframe thead th {\n",
       "        text-align: right;\n",
       "    }\n",
       "</style>\n",
       "<table border=\"1\" class=\"dataframe\">\n",
       "  <thead>\n",
       "    <tr style=\"text-align: right;\">\n",
       "      <th></th>\n",
       "      <th>01월</th>\n",
       "      <th>02월</th>\n",
       "    </tr>\n",
       "  </thead>\n",
       "  <tbody>\n",
       "    <tr>\n",
       "      <th>0</th>\n",
       "      <td>98</td>\n",
       "      <td>70</td>\n",
       "    </tr>\n",
       "    <tr>\n",
       "      <th>2</th>\n",
       "      <td>83</td>\n",
       "      <td>76</td>\n",
       "    </tr>\n",
       "    <tr>\n",
       "      <th>4</th>\n",
       "      <td>67</td>\n",
       "      <td>64</td>\n",
       "    </tr>\n",
       "    <tr>\n",
       "      <th>6</th>\n",
       "      <td>91</td>\n",
       "      <td>78</td>\n",
       "    </tr>\n",
       "    <tr>\n",
       "      <th>8</th>\n",
       "      <td>77</td>\n",
       "      <td>68</td>\n",
       "    </tr>\n",
       "    <tr>\n",
       "      <th>10</th>\n",
       "      <td>71</td>\n",
       "      <td>71</td>\n",
       "    </tr>\n",
       "  </tbody>\n",
       "</table>\n",
       "</div>"
      ],
      "text/plain": [
       "    01월  02월\n",
       "0    98   70\n",
       "2    83   76\n",
       "4    67   64\n",
       "6    91   78\n",
       "8    77   68\n",
       "10   71   71"
      ]
     },
     "execution_count": 246,
     "metadata": {},
     "output_type": "execute_result"
    }
   ],
   "source": [
    "# 짝수번째 데이터만 가져오기\n",
    "df.loc[[0,2,4,6,8,10],['01월','02월']]"
   ]
  },
  {
   "cell_type": "code",
   "execution_count": 247,
   "id": "a4037f0c-531b-47c4-8a47-51d7499143e2",
   "metadata": {},
   "outputs": [
    {
     "data": {
      "text/html": [
       "<div>\n",
       "<style scoped>\n",
       "    .dataframe tbody tr th:only-of-type {\n",
       "        vertical-align: middle;\n",
       "    }\n",
       "\n",
       "    .dataframe tbody tr th {\n",
       "        vertical-align: top;\n",
       "    }\n",
       "\n",
       "    .dataframe thead th {\n",
       "        text-align: right;\n",
       "    }\n",
       "</style>\n",
       "<table border=\"1\" class=\"dataframe\">\n",
       "  <thead>\n",
       "    <tr style=\"text-align: right;\">\n",
       "      <th></th>\n",
       "      <th>01월</th>\n",
       "      <th>02월</th>\n",
       "    </tr>\n",
       "  </thead>\n",
       "  <tbody>\n",
       "    <tr>\n",
       "      <th>0</th>\n",
       "      <td>98</td>\n",
       "      <td>70</td>\n",
       "    </tr>\n",
       "    <tr>\n",
       "      <th>2</th>\n",
       "      <td>83</td>\n",
       "      <td>76</td>\n",
       "    </tr>\n",
       "    <tr>\n",
       "      <th>4</th>\n",
       "      <td>67</td>\n",
       "      <td>64</td>\n",
       "    </tr>\n",
       "    <tr>\n",
       "      <th>6</th>\n",
       "      <td>91</td>\n",
       "      <td>78</td>\n",
       "    </tr>\n",
       "    <tr>\n",
       "      <th>8</th>\n",
       "      <td>77</td>\n",
       "      <td>68</td>\n",
       "    </tr>\n",
       "    <tr>\n",
       "      <th>10</th>\n",
       "      <td>71</td>\n",
       "      <td>71</td>\n",
       "    </tr>\n",
       "    <tr>\n",
       "      <th>12</th>\n",
       "      <td>62</td>\n",
       "      <td>97</td>\n",
       "    </tr>\n",
       "    <tr>\n",
       "      <th>14</th>\n",
       "      <td>73</td>\n",
       "      <td>93</td>\n",
       "    </tr>\n",
       "    <tr>\n",
       "      <th>16</th>\n",
       "      <td>96</td>\n",
       "      <td>95</td>\n",
       "    </tr>\n",
       "    <tr>\n",
       "      <th>18</th>\n",
       "      <td>99</td>\n",
       "      <td>75</td>\n",
       "    </tr>\n",
       "    <tr>\n",
       "      <th>20</th>\n",
       "      <td>61</td>\n",
       "      <td>78</td>\n",
       "    </tr>\n",
       "    <tr>\n",
       "      <th>22</th>\n",
       "      <td>68</td>\n",
       "      <td>84</td>\n",
       "    </tr>\n",
       "    <tr>\n",
       "      <th>24</th>\n",
       "      <td>84</td>\n",
       "      <td>72</td>\n",
       "    </tr>\n",
       "    <tr>\n",
       "      <th>26</th>\n",
       "      <td>67</td>\n",
       "      <td>66</td>\n",
       "    </tr>\n",
       "    <tr>\n",
       "      <th>28</th>\n",
       "      <td>98</td>\n",
       "      <td>92</td>\n",
       "    </tr>\n",
       "    <tr>\n",
       "      <th>30</th>\n",
       "      <td>89</td>\n",
       "      <td>88</td>\n",
       "    </tr>\n",
       "    <tr>\n",
       "      <th>32</th>\n",
       "      <td>72</td>\n",
       "      <td>83</td>\n",
       "    </tr>\n",
       "    <tr>\n",
       "      <th>34</th>\n",
       "      <td>89</td>\n",
       "      <td>60</td>\n",
       "    </tr>\n",
       "    <tr>\n",
       "      <th>36</th>\n",
       "      <td>77</td>\n",
       "      <td>81</td>\n",
       "    </tr>\n",
       "    <tr>\n",
       "      <th>38</th>\n",
       "      <td>69</td>\n",
       "      <td>64</td>\n",
       "    </tr>\n",
       "    <tr>\n",
       "      <th>40</th>\n",
       "      <td>81</td>\n",
       "      <td>77</td>\n",
       "    </tr>\n",
       "    <tr>\n",
       "      <th>42</th>\n",
       "      <td>61</td>\n",
       "      <td>73</td>\n",
       "    </tr>\n",
       "    <tr>\n",
       "      <th>44</th>\n",
       "      <td>84</td>\n",
       "      <td>71</td>\n",
       "    </tr>\n",
       "    <tr>\n",
       "      <th>46</th>\n",
       "      <td>94</td>\n",
       "      <td>67</td>\n",
       "    </tr>\n",
       "    <tr>\n",
       "      <th>48</th>\n",
       "      <td>77</td>\n",
       "      <td>71</td>\n",
       "    </tr>\n",
       "    <tr>\n",
       "      <th>50</th>\n",
       "      <td>85</td>\n",
       "      <td>69</td>\n",
       "    </tr>\n",
       "    <tr>\n",
       "      <th>52</th>\n",
       "      <td>60</td>\n",
       "      <td>76</td>\n",
       "    </tr>\n",
       "    <tr>\n",
       "      <th>54</th>\n",
       "      <td>97</td>\n",
       "      <td>94</td>\n",
       "    </tr>\n",
       "    <tr>\n",
       "      <th>56</th>\n",
       "      <td>78</td>\n",
       "      <td>76</td>\n",
       "    </tr>\n",
       "    <tr>\n",
       "      <th>58</th>\n",
       "      <td>60</td>\n",
       "      <td>82</td>\n",
       "    </tr>\n",
       "    <tr>\n",
       "      <th>60</th>\n",
       "      <td>93</td>\n",
       "      <td>79</td>\n",
       "    </tr>\n",
       "    <tr>\n",
       "      <th>62</th>\n",
       "      <td>76</td>\n",
       "      <td>70</td>\n",
       "    </tr>\n",
       "    <tr>\n",
       "      <th>64</th>\n",
       "      <td>83</td>\n",
       "      <td>61</td>\n",
       "    </tr>\n",
       "    <tr>\n",
       "      <th>66</th>\n",
       "      <td>69</td>\n",
       "      <td>76</td>\n",
       "    </tr>\n",
       "    <tr>\n",
       "      <th>68</th>\n",
       "      <td>65</td>\n",
       "      <td>80</td>\n",
       "    </tr>\n",
       "    <tr>\n",
       "      <th>70</th>\n",
       "      <td>95</td>\n",
       "      <td>98</td>\n",
       "    </tr>\n",
       "    <tr>\n",
       "      <th>72</th>\n",
       "      <td>86</td>\n",
       "      <td>98</td>\n",
       "    </tr>\n",
       "    <tr>\n",
       "      <th>74</th>\n",
       "      <td>87</td>\n",
       "      <td>66</td>\n",
       "    </tr>\n",
       "    <tr>\n",
       "      <th>76</th>\n",
       "      <td>70</td>\n",
       "      <td>71</td>\n",
       "    </tr>\n",
       "    <tr>\n",
       "      <th>78</th>\n",
       "      <td>83</td>\n",
       "      <td>79</td>\n",
       "    </tr>\n",
       "    <tr>\n",
       "      <th>80</th>\n",
       "      <td>87</td>\n",
       "      <td>95</td>\n",
       "    </tr>\n",
       "    <tr>\n",
       "      <th>82</th>\n",
       "      <td>84</td>\n",
       "      <td>85</td>\n",
       "    </tr>\n",
       "    <tr>\n",
       "      <th>84</th>\n",
       "      <td>63</td>\n",
       "      <td>67</td>\n",
       "    </tr>\n",
       "    <tr>\n",
       "      <th>86</th>\n",
       "      <td>73</td>\n",
       "      <td>79</td>\n",
       "    </tr>\n",
       "    <tr>\n",
       "      <th>88</th>\n",
       "      <td>92</td>\n",
       "      <td>97</td>\n",
       "    </tr>\n",
       "    <tr>\n",
       "      <th>90</th>\n",
       "      <td>85</td>\n",
       "      <td>98</td>\n",
       "    </tr>\n",
       "    <tr>\n",
       "      <th>92</th>\n",
       "      <td>65</td>\n",
       "      <td>79</td>\n",
       "    </tr>\n",
       "    <tr>\n",
       "      <th>94</th>\n",
       "      <td>96</td>\n",
       "      <td>61</td>\n",
       "    </tr>\n",
       "    <tr>\n",
       "      <th>96</th>\n",
       "      <td>63</td>\n",
       "      <td>82</td>\n",
       "    </tr>\n",
       "    <tr>\n",
       "      <th>98</th>\n",
       "      <td>81</td>\n",
       "      <td>72</td>\n",
       "    </tr>\n",
       "  </tbody>\n",
       "</table>\n",
       "</div>"
      ],
      "text/plain": [
       "    01월  02월\n",
       "0    98   70\n",
       "2    83   76\n",
       "4    67   64\n",
       "6    91   78\n",
       "8    77   68\n",
       "10   71   71\n",
       "12   62   97\n",
       "14   73   93\n",
       "16   96   95\n",
       "18   99   75\n",
       "20   61   78\n",
       "22   68   84\n",
       "24   84   72\n",
       "26   67   66\n",
       "28   98   92\n",
       "30   89   88\n",
       "32   72   83\n",
       "34   89   60\n",
       "36   77   81\n",
       "38   69   64\n",
       "40   81   77\n",
       "42   61   73\n",
       "44   84   71\n",
       "46   94   67\n",
       "48   77   71\n",
       "50   85   69\n",
       "52   60   76\n",
       "54   97   94\n",
       "56   78   76\n",
       "58   60   82\n",
       "60   93   79\n",
       "62   76   70\n",
       "64   83   61\n",
       "66   69   76\n",
       "68   65   80\n",
       "70   95   98\n",
       "72   86   98\n",
       "74   87   66\n",
       "76   70   71\n",
       "78   83   79\n",
       "80   87   95\n",
       "82   84   85\n",
       "84   63   67\n",
       "86   73   79\n",
       "88   92   97\n",
       "90   85   98\n",
       "92   65   79\n",
       "94   96   61\n",
       "96   63   82\n",
       "98   81   72"
      ]
     },
     "execution_count": 247,
     "metadata": {},
     "output_type": "execute_result"
    }
   ],
   "source": [
    "df.loc[df.index %2 == 0 ,['01월','02월']]"
   ]
  },
  {
   "cell_type": "code",
   "execution_count": 248,
   "id": "fc906dfc-d169-431e-b8f6-e6030886d128",
   "metadata": {},
   "outputs": [
    {
     "data": {
      "text/html": [
       "<div>\n",
       "<style scoped>\n",
       "    .dataframe tbody tr th:only-of-type {\n",
       "        vertical-align: middle;\n",
       "    }\n",
       "\n",
       "    .dataframe tbody tr th {\n",
       "        vertical-align: top;\n",
       "    }\n",
       "\n",
       "    .dataframe thead th {\n",
       "        text-align: right;\n",
       "    }\n",
       "</style>\n",
       "<table border=\"1\" class=\"dataframe\">\n",
       "  <thead>\n",
       "    <tr style=\"text-align: right;\">\n",
       "      <th></th>\n",
       "      <th>02월</th>\n",
       "      <th>04월</th>\n",
       "      <th>06월</th>\n",
       "      <th>08월</th>\n",
       "      <th>10월</th>\n",
       "      <th>12월</th>\n",
       "    </tr>\n",
       "  </thead>\n",
       "  <tbody>\n",
       "    <tr>\n",
       "      <th>0</th>\n",
       "      <td>70</td>\n",
       "      <td>77</td>\n",
       "      <td>62</td>\n",
       "      <td>61</td>\n",
       "      <td>81</td>\n",
       "      <td>68</td>\n",
       "    </tr>\n",
       "    <tr>\n",
       "      <th>2</th>\n",
       "      <td>76</td>\n",
       "      <td>66</td>\n",
       "      <td>68</td>\n",
       "      <td>82</td>\n",
       "      <td>68</td>\n",
       "      <td>90</td>\n",
       "    </tr>\n",
       "    <tr>\n",
       "      <th>4</th>\n",
       "      <td>64</td>\n",
       "      <td>60</td>\n",
       "      <td>84</td>\n",
       "      <td>98</td>\n",
       "      <td>64</td>\n",
       "      <td>94</td>\n",
       "    </tr>\n",
       "    <tr>\n",
       "      <th>6</th>\n",
       "      <td>78</td>\n",
       "      <td>97</td>\n",
       "      <td>79</td>\n",
       "      <td>95</td>\n",
       "      <td>70</td>\n",
       "      <td>69</td>\n",
       "    </tr>\n",
       "    <tr>\n",
       "      <th>8</th>\n",
       "      <td>68</td>\n",
       "      <td>62</td>\n",
       "      <td>90</td>\n",
       "      <td>65</td>\n",
       "      <td>81</td>\n",
       "      <td>79</td>\n",
       "    </tr>\n",
       "    <tr>\n",
       "      <th>10</th>\n",
       "      <td>71</td>\n",
       "      <td>72</td>\n",
       "      <td>95</td>\n",
       "      <td>62</td>\n",
       "      <td>65</td>\n",
       "      <td>80</td>\n",
       "    </tr>\n",
       "    <tr>\n",
       "      <th>12</th>\n",
       "      <td>97</td>\n",
       "      <td>66</td>\n",
       "      <td>96</td>\n",
       "      <td>67</td>\n",
       "      <td>95</td>\n",
       "      <td>70</td>\n",
       "    </tr>\n",
       "    <tr>\n",
       "      <th>14</th>\n",
       "      <td>93</td>\n",
       "      <td>78</td>\n",
       "      <td>91</td>\n",
       "      <td>95</td>\n",
       "      <td>70</td>\n",
       "      <td>79</td>\n",
       "    </tr>\n",
       "    <tr>\n",
       "      <th>16</th>\n",
       "      <td>95</td>\n",
       "      <td>64</td>\n",
       "      <td>77</td>\n",
       "      <td>92</td>\n",
       "      <td>71</td>\n",
       "      <td>84</td>\n",
       "    </tr>\n",
       "    <tr>\n",
       "      <th>18</th>\n",
       "      <td>75</td>\n",
       "      <td>82</td>\n",
       "      <td>83</td>\n",
       "      <td>81</td>\n",
       "      <td>92</td>\n",
       "      <td>86</td>\n",
       "    </tr>\n",
       "    <tr>\n",
       "      <th>20</th>\n",
       "      <td>78</td>\n",
       "      <td>74</td>\n",
       "      <td>67</td>\n",
       "      <td>77</td>\n",
       "      <td>81</td>\n",
       "      <td>81</td>\n",
       "    </tr>\n",
       "    <tr>\n",
       "      <th>22</th>\n",
       "      <td>84</td>\n",
       "      <td>81</td>\n",
       "      <td>97</td>\n",
       "      <td>94</td>\n",
       "      <td>68</td>\n",
       "      <td>65</td>\n",
       "    </tr>\n",
       "    <tr>\n",
       "      <th>24</th>\n",
       "      <td>72</td>\n",
       "      <td>81</td>\n",
       "      <td>84</td>\n",
       "      <td>91</td>\n",
       "      <td>77</td>\n",
       "      <td>78</td>\n",
       "    </tr>\n",
       "    <tr>\n",
       "      <th>26</th>\n",
       "      <td>66</td>\n",
       "      <td>84</td>\n",
       "      <td>66</td>\n",
       "      <td>82</td>\n",
       "      <td>76</td>\n",
       "      <td>88</td>\n",
       "    </tr>\n",
       "    <tr>\n",
       "      <th>28</th>\n",
       "      <td>92</td>\n",
       "      <td>60</td>\n",
       "      <td>96</td>\n",
       "      <td>71</td>\n",
       "      <td>76</td>\n",
       "      <td>61</td>\n",
       "    </tr>\n",
       "    <tr>\n",
       "      <th>30</th>\n",
       "      <td>88</td>\n",
       "      <td>68</td>\n",
       "      <td>70</td>\n",
       "      <td>90</td>\n",
       "      <td>89</td>\n",
       "      <td>88</td>\n",
       "    </tr>\n",
       "    <tr>\n",
       "      <th>32</th>\n",
       "      <td>83</td>\n",
       "      <td>99</td>\n",
       "      <td>96</td>\n",
       "      <td>92</td>\n",
       "      <td>68</td>\n",
       "      <td>64</td>\n",
       "    </tr>\n",
       "    <tr>\n",
       "      <th>34</th>\n",
       "      <td>60</td>\n",
       "      <td>64</td>\n",
       "      <td>94</td>\n",
       "      <td>74</td>\n",
       "      <td>82</td>\n",
       "      <td>90</td>\n",
       "    </tr>\n",
       "    <tr>\n",
       "      <th>36</th>\n",
       "      <td>81</td>\n",
       "      <td>81</td>\n",
       "      <td>99</td>\n",
       "      <td>98</td>\n",
       "      <td>95</td>\n",
       "      <td>88</td>\n",
       "    </tr>\n",
       "    <tr>\n",
       "      <th>38</th>\n",
       "      <td>64</td>\n",
       "      <td>92</td>\n",
       "      <td>89</td>\n",
       "      <td>97</td>\n",
       "      <td>85</td>\n",
       "      <td>73</td>\n",
       "    </tr>\n",
       "    <tr>\n",
       "      <th>40</th>\n",
       "      <td>77</td>\n",
       "      <td>95</td>\n",
       "      <td>60</td>\n",
       "      <td>87</td>\n",
       "      <td>80</td>\n",
       "      <td>99</td>\n",
       "    </tr>\n",
       "    <tr>\n",
       "      <th>42</th>\n",
       "      <td>73</td>\n",
       "      <td>68</td>\n",
       "      <td>97</td>\n",
       "      <td>77</td>\n",
       "      <td>63</td>\n",
       "      <td>70</td>\n",
       "    </tr>\n",
       "    <tr>\n",
       "      <th>44</th>\n",
       "      <td>71</td>\n",
       "      <td>93</td>\n",
       "      <td>76</td>\n",
       "      <td>87</td>\n",
       "      <td>79</td>\n",
       "      <td>78</td>\n",
       "    </tr>\n",
       "    <tr>\n",
       "      <th>46</th>\n",
       "      <td>67</td>\n",
       "      <td>61</td>\n",
       "      <td>97</td>\n",
       "      <td>96</td>\n",
       "      <td>66</td>\n",
       "      <td>91</td>\n",
       "    </tr>\n",
       "    <tr>\n",
       "      <th>48</th>\n",
       "      <td>71</td>\n",
       "      <td>93</td>\n",
       "      <td>93</td>\n",
       "      <td>89</td>\n",
       "      <td>64</td>\n",
       "      <td>96</td>\n",
       "    </tr>\n",
       "    <tr>\n",
       "      <th>50</th>\n",
       "      <td>69</td>\n",
       "      <td>97</td>\n",
       "      <td>89</td>\n",
       "      <td>79</td>\n",
       "      <td>97</td>\n",
       "      <td>87</td>\n",
       "    </tr>\n",
       "    <tr>\n",
       "      <th>52</th>\n",
       "      <td>76</td>\n",
       "      <td>73</td>\n",
       "      <td>73</td>\n",
       "      <td>68</td>\n",
       "      <td>82</td>\n",
       "      <td>92</td>\n",
       "    </tr>\n",
       "    <tr>\n",
       "      <th>54</th>\n",
       "      <td>94</td>\n",
       "      <td>61</td>\n",
       "      <td>97</td>\n",
       "      <td>89</td>\n",
       "      <td>84</td>\n",
       "      <td>98</td>\n",
       "    </tr>\n",
       "    <tr>\n",
       "      <th>56</th>\n",
       "      <td>76</td>\n",
       "      <td>91</td>\n",
       "      <td>96</td>\n",
       "      <td>67</td>\n",
       "      <td>95</td>\n",
       "      <td>94</td>\n",
       "    </tr>\n",
       "    <tr>\n",
       "      <th>58</th>\n",
       "      <td>82</td>\n",
       "      <td>81</td>\n",
       "      <td>98</td>\n",
       "      <td>66</td>\n",
       "      <td>87</td>\n",
       "      <td>72</td>\n",
       "    </tr>\n",
       "    <tr>\n",
       "      <th>60</th>\n",
       "      <td>79</td>\n",
       "      <td>97</td>\n",
       "      <td>97</td>\n",
       "      <td>91</td>\n",
       "      <td>69</td>\n",
       "      <td>73</td>\n",
       "    </tr>\n",
       "    <tr>\n",
       "      <th>62</th>\n",
       "      <td>70</td>\n",
       "      <td>98</td>\n",
       "      <td>92</td>\n",
       "      <td>68</td>\n",
       "      <td>69</td>\n",
       "      <td>63</td>\n",
       "    </tr>\n",
       "    <tr>\n",
       "      <th>64</th>\n",
       "      <td>61</td>\n",
       "      <td>99</td>\n",
       "      <td>95</td>\n",
       "      <td>95</td>\n",
       "      <td>74</td>\n",
       "      <td>82</td>\n",
       "    </tr>\n",
       "    <tr>\n",
       "      <th>66</th>\n",
       "      <td>76</td>\n",
       "      <td>65</td>\n",
       "      <td>79</td>\n",
       "      <td>95</td>\n",
       "      <td>81</td>\n",
       "      <td>94</td>\n",
       "    </tr>\n",
       "    <tr>\n",
       "      <th>68</th>\n",
       "      <td>80</td>\n",
       "      <td>80</td>\n",
       "      <td>92</td>\n",
       "      <td>84</td>\n",
       "      <td>92</td>\n",
       "      <td>86</td>\n",
       "    </tr>\n",
       "    <tr>\n",
       "      <th>70</th>\n",
       "      <td>98</td>\n",
       "      <td>82</td>\n",
       "      <td>97</td>\n",
       "      <td>90</td>\n",
       "      <td>80</td>\n",
       "      <td>65</td>\n",
       "    </tr>\n",
       "    <tr>\n",
       "      <th>72</th>\n",
       "      <td>98</td>\n",
       "      <td>91</td>\n",
       "      <td>87</td>\n",
       "      <td>81</td>\n",
       "      <td>67</td>\n",
       "      <td>75</td>\n",
       "    </tr>\n",
       "    <tr>\n",
       "      <th>74</th>\n",
       "      <td>66</td>\n",
       "      <td>66</td>\n",
       "      <td>84</td>\n",
       "      <td>73</td>\n",
       "      <td>71</td>\n",
       "      <td>68</td>\n",
       "    </tr>\n",
       "    <tr>\n",
       "      <th>76</th>\n",
       "      <td>71</td>\n",
       "      <td>66</td>\n",
       "      <td>62</td>\n",
       "      <td>96</td>\n",
       "      <td>74</td>\n",
       "      <td>76</td>\n",
       "    </tr>\n",
       "    <tr>\n",
       "      <th>78</th>\n",
       "      <td>79</td>\n",
       "      <td>62</td>\n",
       "      <td>89</td>\n",
       "      <td>98</td>\n",
       "      <td>92</td>\n",
       "      <td>78</td>\n",
       "    </tr>\n",
       "    <tr>\n",
       "      <th>80</th>\n",
       "      <td>95</td>\n",
       "      <td>77</td>\n",
       "      <td>78</td>\n",
       "      <td>66</td>\n",
       "      <td>70</td>\n",
       "      <td>91</td>\n",
       "    </tr>\n",
       "    <tr>\n",
       "      <th>82</th>\n",
       "      <td>85</td>\n",
       "      <td>68</td>\n",
       "      <td>72</td>\n",
       "      <td>83</td>\n",
       "      <td>75</td>\n",
       "      <td>99</td>\n",
       "    </tr>\n",
       "    <tr>\n",
       "      <th>84</th>\n",
       "      <td>67</td>\n",
       "      <td>91</td>\n",
       "      <td>63</td>\n",
       "      <td>98</td>\n",
       "      <td>92</td>\n",
       "      <td>69</td>\n",
       "    </tr>\n",
       "    <tr>\n",
       "      <th>86</th>\n",
       "      <td>79</td>\n",
       "      <td>66</td>\n",
       "      <td>75</td>\n",
       "      <td>94</td>\n",
       "      <td>98</td>\n",
       "      <td>71</td>\n",
       "    </tr>\n",
       "    <tr>\n",
       "      <th>88</th>\n",
       "      <td>97</td>\n",
       "      <td>68</td>\n",
       "      <td>61</td>\n",
       "      <td>69</td>\n",
       "      <td>96</td>\n",
       "      <td>70</td>\n",
       "    </tr>\n",
       "    <tr>\n",
       "      <th>90</th>\n",
       "      <td>98</td>\n",
       "      <td>65</td>\n",
       "      <td>90</td>\n",
       "      <td>81</td>\n",
       "      <td>95</td>\n",
       "      <td>80</td>\n",
       "    </tr>\n",
       "    <tr>\n",
       "      <th>92</th>\n",
       "      <td>79</td>\n",
       "      <td>98</td>\n",
       "      <td>61</td>\n",
       "      <td>67</td>\n",
       "      <td>81</td>\n",
       "      <td>95</td>\n",
       "    </tr>\n",
       "    <tr>\n",
       "      <th>94</th>\n",
       "      <td>61</td>\n",
       "      <td>86</td>\n",
       "      <td>62</td>\n",
       "      <td>74</td>\n",
       "      <td>60</td>\n",
       "      <td>93</td>\n",
       "    </tr>\n",
       "    <tr>\n",
       "      <th>96</th>\n",
       "      <td>82</td>\n",
       "      <td>90</td>\n",
       "      <td>60</td>\n",
       "      <td>78</td>\n",
       "      <td>82</td>\n",
       "      <td>75</td>\n",
       "    </tr>\n",
       "    <tr>\n",
       "      <th>98</th>\n",
       "      <td>72</td>\n",
       "      <td>70</td>\n",
       "      <td>67</td>\n",
       "      <td>71</td>\n",
       "      <td>94</td>\n",
       "      <td>98</td>\n",
       "    </tr>\n",
       "  </tbody>\n",
       "</table>\n",
       "</div>"
      ],
      "text/plain": [
       "    02월  04월  06월  08월  10월  12월\n",
       "0    70   77   62   61   81   68\n",
       "2    76   66   68   82   68   90\n",
       "4    64   60   84   98   64   94\n",
       "6    78   97   79   95   70   69\n",
       "8    68   62   90   65   81   79\n",
       "10   71   72   95   62   65   80\n",
       "12   97   66   96   67   95   70\n",
       "14   93   78   91   95   70   79\n",
       "16   95   64   77   92   71   84\n",
       "18   75   82   83   81   92   86\n",
       "20   78   74   67   77   81   81\n",
       "22   84   81   97   94   68   65\n",
       "24   72   81   84   91   77   78\n",
       "26   66   84   66   82   76   88\n",
       "28   92   60   96   71   76   61\n",
       "30   88   68   70   90   89   88\n",
       "32   83   99   96   92   68   64\n",
       "34   60   64   94   74   82   90\n",
       "36   81   81   99   98   95   88\n",
       "38   64   92   89   97   85   73\n",
       "40   77   95   60   87   80   99\n",
       "42   73   68   97   77   63   70\n",
       "44   71   93   76   87   79   78\n",
       "46   67   61   97   96   66   91\n",
       "48   71   93   93   89   64   96\n",
       "50   69   97   89   79   97   87\n",
       "52   76   73   73   68   82   92\n",
       "54   94   61   97   89   84   98\n",
       "56   76   91   96   67   95   94\n",
       "58   82   81   98   66   87   72\n",
       "60   79   97   97   91   69   73\n",
       "62   70   98   92   68   69   63\n",
       "64   61   99   95   95   74   82\n",
       "66   76   65   79   95   81   94\n",
       "68   80   80   92   84   92   86\n",
       "70   98   82   97   90   80   65\n",
       "72   98   91   87   81   67   75\n",
       "74   66   66   84   73   71   68\n",
       "76   71   66   62   96   74   76\n",
       "78   79   62   89   98   92   78\n",
       "80   95   77   78   66   70   91\n",
       "82   85   68   72   83   75   99\n",
       "84   67   91   63   98   92   69\n",
       "86   79   66   75   94   98   71\n",
       "88   97   68   61   69   96   70\n",
       "90   98   65   90   81   95   80\n",
       "92   79   98   61   67   81   95\n",
       "94   61   86   62   74   60   93\n",
       "96   82   90   60   78   82   75\n",
       "98   72   70   67   71   94   98"
      ]
     },
     "execution_count": 248,
     "metadata": {},
     "output_type": "execute_result"
    }
   ],
   "source": [
    "# # 짝수데이터의 짝수월만 가져오기\n",
    "# df.loc[df.index % 2 ==0, ['02월','04월','06월','08월','10월','12월']]\n",
    "# df.loc[df.index % 2 ==0,[1,3,5,7,9,11]]\n",
    "# clos = (pd.Series(df.colums).index % 2 == 1)\n",
    "# df.iloc[df.index % 2 ==0,cols]\n",
    "# cols = np.arange(1,df.columns.size+1,2)\n",
    "# df.iloc[df.index %2 ==0, cols]\n",
    "\n",
    "# 짝수번째 데이터만 가져오기\n",
    "df.iloc[df.index % 2 == 0,:]\n",
    "# 짝수데이터의 짝수월만 가져오기\n",
    "df.iloc[df.index % 2 ==0,[1,3,5,7,9,11]]\n",
    "cols = (pd.Series(df.columns).index % 2 == 1)\n",
    "df.iloc[df.index % 2 ==0,cols]\n",
    "cols = np.arange(1,df.columns.size+1,2)\n",
    "df.iloc[df.index %2 ==0, cols]"
   ]
  },
  {
   "cell_type": "code",
   "execution_count": 249,
   "id": "5017a92c-3582-4067-a8a5-5a8ce4880e09",
   "metadata": {},
   "outputs": [],
   "source": [
    "df['total'] = df.values.sum(axis=1)"
   ]
  },
  {
   "cell_type": "code",
   "execution_count": 250,
   "id": "f21a0e93-ab9f-4e98-a352-540e4b6f762b",
   "metadata": {},
   "outputs": [
    {
     "data": {
      "text/plain": [
       "0     74.666667\n",
       "1     76.166667\n",
       "2     78.083333\n",
       "3     76.833333\n",
       "4     78.000000\n",
       "        ...    \n",
       "95    78.083333\n",
       "96    78.583333\n",
       "97    75.000000\n",
       "98    78.500000\n",
       "99    81.833333\n",
       "Length: 100, dtype: float64"
      ]
     },
     "execution_count": 250,
     "metadata": {},
     "output_type": "execute_result"
    }
   ],
   "source": [
    "df.iloc[:,:-1].mean(axis=1)"
   ]
  },
  {
   "cell_type": "code",
   "execution_count": 251,
   "id": "55456fbc-6696-4618-86d0-47b1fc06fe14",
   "metadata": {},
   "outputs": [],
   "source": [
    "df['avg'] = df.iloc[:,:-1].mean(axis=1)"
   ]
  },
  {
   "cell_type": "code",
   "execution_count": 252,
   "id": "3b1e94e2-bca9-42cf-b50c-0c8d8fc5c8c0",
   "metadata": {},
   "outputs": [],
   "source": [
    "df['best_month'] = df.columns[np.argmax(df.iloc[:,:-2].values,axis=1)]"
   ]
  },
  {
   "cell_type": "code",
   "execution_count": 253,
   "id": "b50eb83e-e289-434d-a24a-9503fad592bc",
   "metadata": {},
   "outputs": [
    {
     "data": {
      "text/html": [
       "<div>\n",
       "<style scoped>\n",
       "    .dataframe tbody tr th:only-of-type {\n",
       "        vertical-align: middle;\n",
       "    }\n",
       "\n",
       "    .dataframe tbody tr th {\n",
       "        vertical-align: top;\n",
       "    }\n",
       "\n",
       "    .dataframe thead th {\n",
       "        text-align: right;\n",
       "    }\n",
       "</style>\n",
       "<table border=\"1\" class=\"dataframe\">\n",
       "  <thead>\n",
       "    <tr style=\"text-align: right;\">\n",
       "      <th></th>\n",
       "      <th>01월</th>\n",
       "      <th>02월</th>\n",
       "      <th>03월</th>\n",
       "      <th>04월</th>\n",
       "      <th>05월</th>\n",
       "      <th>06월</th>\n",
       "      <th>07월</th>\n",
       "      <th>08월</th>\n",
       "      <th>09월</th>\n",
       "      <th>10월</th>\n",
       "      <th>11월</th>\n",
       "      <th>12월</th>\n",
       "      <th>total</th>\n",
       "      <th>avg</th>\n",
       "      <th>best_month</th>\n",
       "    </tr>\n",
       "  </thead>\n",
       "  <tbody>\n",
       "    <tr>\n",
       "      <th>0</th>\n",
       "      <td>98</td>\n",
       "      <td>70</td>\n",
       "      <td>88</td>\n",
       "      <td>77</td>\n",
       "      <td>62</td>\n",
       "      <td>62</td>\n",
       "      <td>60</td>\n",
       "      <td>61</td>\n",
       "      <td>89</td>\n",
       "      <td>81</td>\n",
       "      <td>80</td>\n",
       "      <td>68</td>\n",
       "      <td>896</td>\n",
       "      <td>74.666667</td>\n",
       "      <td>01월</td>\n",
       "    </tr>\n",
       "    <tr>\n",
       "      <th>1</th>\n",
       "      <td>77</td>\n",
       "      <td>83</td>\n",
       "      <td>61</td>\n",
       "      <td>73</td>\n",
       "      <td>68</td>\n",
       "      <td>82</td>\n",
       "      <td>86</td>\n",
       "      <td>81</td>\n",
       "      <td>73</td>\n",
       "      <td>66</td>\n",
       "      <td>69</td>\n",
       "      <td>95</td>\n",
       "      <td>914</td>\n",
       "      <td>76.166667</td>\n",
       "      <td>12월</td>\n",
       "    </tr>\n",
       "    <tr>\n",
       "      <th>2</th>\n",
       "      <td>83</td>\n",
       "      <td>76</td>\n",
       "      <td>68</td>\n",
       "      <td>66</td>\n",
       "      <td>79</td>\n",
       "      <td>68</td>\n",
       "      <td>69</td>\n",
       "      <td>82</td>\n",
       "      <td>94</td>\n",
       "      <td>68</td>\n",
       "      <td>94</td>\n",
       "      <td>90</td>\n",
       "      <td>937</td>\n",
       "      <td>78.083333</td>\n",
       "      <td>09월</td>\n",
       "    </tr>\n",
       "    <tr>\n",
       "      <th>3</th>\n",
       "      <td>76</td>\n",
       "      <td>81</td>\n",
       "      <td>83</td>\n",
       "      <td>60</td>\n",
       "      <td>99</td>\n",
       "      <td>60</td>\n",
       "      <td>66</td>\n",
       "      <td>70</td>\n",
       "      <td>82</td>\n",
       "      <td>82</td>\n",
       "      <td>76</td>\n",
       "      <td>87</td>\n",
       "      <td>922</td>\n",
       "      <td>76.833333</td>\n",
       "      <td>05월</td>\n",
       "    </tr>\n",
       "    <tr>\n",
       "      <th>4</th>\n",
       "      <td>67</td>\n",
       "      <td>64</td>\n",
       "      <td>74</td>\n",
       "      <td>60</td>\n",
       "      <td>94</td>\n",
       "      <td>84</td>\n",
       "      <td>94</td>\n",
       "      <td>98</td>\n",
       "      <td>66</td>\n",
       "      <td>64</td>\n",
       "      <td>77</td>\n",
       "      <td>94</td>\n",
       "      <td>936</td>\n",
       "      <td>78.000000</td>\n",
       "      <td>08월</td>\n",
       "    </tr>\n",
       "    <tr>\n",
       "      <th>...</th>\n",
       "      <td>...</td>\n",
       "      <td>...</td>\n",
       "      <td>...</td>\n",
       "      <td>...</td>\n",
       "      <td>...</td>\n",
       "      <td>...</td>\n",
       "      <td>...</td>\n",
       "      <td>...</td>\n",
       "      <td>...</td>\n",
       "      <td>...</td>\n",
       "      <td>...</td>\n",
       "      <td>...</td>\n",
       "      <td>...</td>\n",
       "      <td>...</td>\n",
       "      <td>...</td>\n",
       "    </tr>\n",
       "    <tr>\n",
       "      <th>95</th>\n",
       "      <td>97</td>\n",
       "      <td>78</td>\n",
       "      <td>89</td>\n",
       "      <td>64</td>\n",
       "      <td>86</td>\n",
       "      <td>67</td>\n",
       "      <td>63</td>\n",
       "      <td>68</td>\n",
       "      <td>96</td>\n",
       "      <td>78</td>\n",
       "      <td>91</td>\n",
       "      <td>60</td>\n",
       "      <td>937</td>\n",
       "      <td>78.083333</td>\n",
       "      <td>01월</td>\n",
       "    </tr>\n",
       "    <tr>\n",
       "      <th>96</th>\n",
       "      <td>63</td>\n",
       "      <td>82</td>\n",
       "      <td>82</td>\n",
       "      <td>90</td>\n",
       "      <td>82</td>\n",
       "      <td>60</td>\n",
       "      <td>91</td>\n",
       "      <td>78</td>\n",
       "      <td>91</td>\n",
       "      <td>82</td>\n",
       "      <td>67</td>\n",
       "      <td>75</td>\n",
       "      <td>943</td>\n",
       "      <td>78.583333</td>\n",
       "      <td>07월</td>\n",
       "    </tr>\n",
       "    <tr>\n",
       "      <th>97</th>\n",
       "      <td>75</td>\n",
       "      <td>64</td>\n",
       "      <td>63</td>\n",
       "      <td>86</td>\n",
       "      <td>67</td>\n",
       "      <td>69</td>\n",
       "      <td>80</td>\n",
       "      <td>86</td>\n",
       "      <td>75</td>\n",
       "      <td>77</td>\n",
       "      <td>85</td>\n",
       "      <td>73</td>\n",
       "      <td>900</td>\n",
       "      <td>75.000000</td>\n",
       "      <td>04월</td>\n",
       "    </tr>\n",
       "    <tr>\n",
       "      <th>98</th>\n",
       "      <td>81</td>\n",
       "      <td>72</td>\n",
       "      <td>65</td>\n",
       "      <td>70</td>\n",
       "      <td>90</td>\n",
       "      <td>67</td>\n",
       "      <td>81</td>\n",
       "      <td>71</td>\n",
       "      <td>62</td>\n",
       "      <td>94</td>\n",
       "      <td>91</td>\n",
       "      <td>98</td>\n",
       "      <td>942</td>\n",
       "      <td>78.500000</td>\n",
       "      <td>12월</td>\n",
       "    </tr>\n",
       "    <tr>\n",
       "      <th>99</th>\n",
       "      <td>80</td>\n",
       "      <td>94</td>\n",
       "      <td>99</td>\n",
       "      <td>93</td>\n",
       "      <td>86</td>\n",
       "      <td>75</td>\n",
       "      <td>66</td>\n",
       "      <td>62</td>\n",
       "      <td>88</td>\n",
       "      <td>89</td>\n",
       "      <td>68</td>\n",
       "      <td>82</td>\n",
       "      <td>982</td>\n",
       "      <td>81.833333</td>\n",
       "      <td>03월</td>\n",
       "    </tr>\n",
       "  </tbody>\n",
       "</table>\n",
       "<p>100 rows × 15 columns</p>\n",
       "</div>"
      ],
      "text/plain": [
       "    01월  02월  03월  04월  05월  06월  07월  08월  09월  10월  11월  12월  total  \\\n",
       "0    98   70   88   77   62   62   60   61   89   81   80   68    896   \n",
       "1    77   83   61   73   68   82   86   81   73   66   69   95    914   \n",
       "2    83   76   68   66   79   68   69   82   94   68   94   90    937   \n",
       "3    76   81   83   60   99   60   66   70   82   82   76   87    922   \n",
       "4    67   64   74   60   94   84   94   98   66   64   77   94    936   \n",
       "..  ...  ...  ...  ...  ...  ...  ...  ...  ...  ...  ...  ...    ...   \n",
       "95   97   78   89   64   86   67   63   68   96   78   91   60    937   \n",
       "96   63   82   82   90   82   60   91   78   91   82   67   75    943   \n",
       "97   75   64   63   86   67   69   80   86   75   77   85   73    900   \n",
       "98   81   72   65   70   90   67   81   71   62   94   91   98    942   \n",
       "99   80   94   99   93   86   75   66   62   88   89   68   82    982   \n",
       "\n",
       "          avg best_month  \n",
       "0   74.666667        01월  \n",
       "1   76.166667        12월  \n",
       "2   78.083333        09월  \n",
       "3   76.833333        05월  \n",
       "4   78.000000        08월  \n",
       "..        ...        ...  \n",
       "95  78.083333        01월  \n",
       "96  78.583333        07월  \n",
       "97  75.000000        04월  \n",
       "98  78.500000        12월  \n",
       "99  81.833333        03월  \n",
       "\n",
       "[100 rows x 15 columns]"
      ]
     },
     "execution_count": 253,
     "metadata": {},
     "output_type": "execute_result"
    }
   ],
   "source": [
    "df"
   ]
  },
  {
   "cell_type": "code",
   "execution_count": 254,
   "id": "9e7ab64c-dcca-4554-853c-6c8953faee58",
   "metadata": {},
   "outputs": [],
   "source": [
    "df['worst_month'] = df.columns[np.argmin(df.iloc[:,:-2].values,axis=1)]"
   ]
  },
  {
   "cell_type": "code",
   "execution_count": 255,
   "id": "175ac5e9-25fc-4b5c-a8ce-588b47bd2ad5",
   "metadata": {},
   "outputs": [
    {
     "data": {
      "text/html": [
       "<div>\n",
       "<style scoped>\n",
       "    .dataframe tbody tr th:only-of-type {\n",
       "        vertical-align: middle;\n",
       "    }\n",
       "\n",
       "    .dataframe tbody tr th {\n",
       "        vertical-align: top;\n",
       "    }\n",
       "\n",
       "    .dataframe thead th {\n",
       "        text-align: right;\n",
       "    }\n",
       "</style>\n",
       "<table border=\"1\" class=\"dataframe\">\n",
       "  <thead>\n",
       "    <tr style=\"text-align: right;\">\n",
       "      <th></th>\n",
       "      <th>01월</th>\n",
       "      <th>02월</th>\n",
       "      <th>03월</th>\n",
       "      <th>04월</th>\n",
       "      <th>05월</th>\n",
       "      <th>06월</th>\n",
       "      <th>07월</th>\n",
       "      <th>08월</th>\n",
       "      <th>09월</th>\n",
       "      <th>10월</th>\n",
       "      <th>11월</th>\n",
       "      <th>12월</th>\n",
       "      <th>total</th>\n",
       "      <th>avg</th>\n",
       "      <th>best_month</th>\n",
       "      <th>worst_month</th>\n",
       "    </tr>\n",
       "  </thead>\n",
       "  <tbody>\n",
       "    <tr>\n",
       "      <th>0</th>\n",
       "      <td>98</td>\n",
       "      <td>70</td>\n",
       "      <td>88</td>\n",
       "      <td>77</td>\n",
       "      <td>62</td>\n",
       "      <td>62</td>\n",
       "      <td>60</td>\n",
       "      <td>61</td>\n",
       "      <td>89</td>\n",
       "      <td>81</td>\n",
       "      <td>80</td>\n",
       "      <td>68</td>\n",
       "      <td>896</td>\n",
       "      <td>74.666667</td>\n",
       "      <td>01월</td>\n",
       "      <td>07월</td>\n",
       "    </tr>\n",
       "    <tr>\n",
       "      <th>1</th>\n",
       "      <td>77</td>\n",
       "      <td>83</td>\n",
       "      <td>61</td>\n",
       "      <td>73</td>\n",
       "      <td>68</td>\n",
       "      <td>82</td>\n",
       "      <td>86</td>\n",
       "      <td>81</td>\n",
       "      <td>73</td>\n",
       "      <td>66</td>\n",
       "      <td>69</td>\n",
       "      <td>95</td>\n",
       "      <td>914</td>\n",
       "      <td>76.166667</td>\n",
       "      <td>12월</td>\n",
       "      <td>03월</td>\n",
       "    </tr>\n",
       "    <tr>\n",
       "      <th>2</th>\n",
       "      <td>83</td>\n",
       "      <td>76</td>\n",
       "      <td>68</td>\n",
       "      <td>66</td>\n",
       "      <td>79</td>\n",
       "      <td>68</td>\n",
       "      <td>69</td>\n",
       "      <td>82</td>\n",
       "      <td>94</td>\n",
       "      <td>68</td>\n",
       "      <td>94</td>\n",
       "      <td>90</td>\n",
       "      <td>937</td>\n",
       "      <td>78.083333</td>\n",
       "      <td>09월</td>\n",
       "      <td>04월</td>\n",
       "    </tr>\n",
       "    <tr>\n",
       "      <th>3</th>\n",
       "      <td>76</td>\n",
       "      <td>81</td>\n",
       "      <td>83</td>\n",
       "      <td>60</td>\n",
       "      <td>99</td>\n",
       "      <td>60</td>\n",
       "      <td>66</td>\n",
       "      <td>70</td>\n",
       "      <td>82</td>\n",
       "      <td>82</td>\n",
       "      <td>76</td>\n",
       "      <td>87</td>\n",
       "      <td>922</td>\n",
       "      <td>76.833333</td>\n",
       "      <td>05월</td>\n",
       "      <td>04월</td>\n",
       "    </tr>\n",
       "    <tr>\n",
       "      <th>4</th>\n",
       "      <td>67</td>\n",
       "      <td>64</td>\n",
       "      <td>74</td>\n",
       "      <td>60</td>\n",
       "      <td>94</td>\n",
       "      <td>84</td>\n",
       "      <td>94</td>\n",
       "      <td>98</td>\n",
       "      <td>66</td>\n",
       "      <td>64</td>\n",
       "      <td>77</td>\n",
       "      <td>94</td>\n",
       "      <td>936</td>\n",
       "      <td>78.000000</td>\n",
       "      <td>08월</td>\n",
       "      <td>04월</td>\n",
       "    </tr>\n",
       "    <tr>\n",
       "      <th>...</th>\n",
       "      <td>...</td>\n",
       "      <td>...</td>\n",
       "      <td>...</td>\n",
       "      <td>...</td>\n",
       "      <td>...</td>\n",
       "      <td>...</td>\n",
       "      <td>...</td>\n",
       "      <td>...</td>\n",
       "      <td>...</td>\n",
       "      <td>...</td>\n",
       "      <td>...</td>\n",
       "      <td>...</td>\n",
       "      <td>...</td>\n",
       "      <td>...</td>\n",
       "      <td>...</td>\n",
       "      <td>...</td>\n",
       "    </tr>\n",
       "    <tr>\n",
       "      <th>95</th>\n",
       "      <td>97</td>\n",
       "      <td>78</td>\n",
       "      <td>89</td>\n",
       "      <td>64</td>\n",
       "      <td>86</td>\n",
       "      <td>67</td>\n",
       "      <td>63</td>\n",
       "      <td>68</td>\n",
       "      <td>96</td>\n",
       "      <td>78</td>\n",
       "      <td>91</td>\n",
       "      <td>60</td>\n",
       "      <td>937</td>\n",
       "      <td>78.083333</td>\n",
       "      <td>01월</td>\n",
       "      <td>12월</td>\n",
       "    </tr>\n",
       "    <tr>\n",
       "      <th>96</th>\n",
       "      <td>63</td>\n",
       "      <td>82</td>\n",
       "      <td>82</td>\n",
       "      <td>90</td>\n",
       "      <td>82</td>\n",
       "      <td>60</td>\n",
       "      <td>91</td>\n",
       "      <td>78</td>\n",
       "      <td>91</td>\n",
       "      <td>82</td>\n",
       "      <td>67</td>\n",
       "      <td>75</td>\n",
       "      <td>943</td>\n",
       "      <td>78.583333</td>\n",
       "      <td>07월</td>\n",
       "      <td>06월</td>\n",
       "    </tr>\n",
       "    <tr>\n",
       "      <th>97</th>\n",
       "      <td>75</td>\n",
       "      <td>64</td>\n",
       "      <td>63</td>\n",
       "      <td>86</td>\n",
       "      <td>67</td>\n",
       "      <td>69</td>\n",
       "      <td>80</td>\n",
       "      <td>86</td>\n",
       "      <td>75</td>\n",
       "      <td>77</td>\n",
       "      <td>85</td>\n",
       "      <td>73</td>\n",
       "      <td>900</td>\n",
       "      <td>75.000000</td>\n",
       "      <td>04월</td>\n",
       "      <td>03월</td>\n",
       "    </tr>\n",
       "    <tr>\n",
       "      <th>98</th>\n",
       "      <td>81</td>\n",
       "      <td>72</td>\n",
       "      <td>65</td>\n",
       "      <td>70</td>\n",
       "      <td>90</td>\n",
       "      <td>67</td>\n",
       "      <td>81</td>\n",
       "      <td>71</td>\n",
       "      <td>62</td>\n",
       "      <td>94</td>\n",
       "      <td>91</td>\n",
       "      <td>98</td>\n",
       "      <td>942</td>\n",
       "      <td>78.500000</td>\n",
       "      <td>12월</td>\n",
       "      <td>09월</td>\n",
       "    </tr>\n",
       "    <tr>\n",
       "      <th>99</th>\n",
       "      <td>80</td>\n",
       "      <td>94</td>\n",
       "      <td>99</td>\n",
       "      <td>93</td>\n",
       "      <td>86</td>\n",
       "      <td>75</td>\n",
       "      <td>66</td>\n",
       "      <td>62</td>\n",
       "      <td>88</td>\n",
       "      <td>89</td>\n",
       "      <td>68</td>\n",
       "      <td>82</td>\n",
       "      <td>982</td>\n",
       "      <td>81.833333</td>\n",
       "      <td>03월</td>\n",
       "      <td>08월</td>\n",
       "    </tr>\n",
       "  </tbody>\n",
       "</table>\n",
       "<p>100 rows × 16 columns</p>\n",
       "</div>"
      ],
      "text/plain": [
       "    01월  02월  03월  04월  05월  06월  07월  08월  09월  10월  11월  12월  total  \\\n",
       "0    98   70   88   77   62   62   60   61   89   81   80   68    896   \n",
       "1    77   83   61   73   68   82   86   81   73   66   69   95    914   \n",
       "2    83   76   68   66   79   68   69   82   94   68   94   90    937   \n",
       "3    76   81   83   60   99   60   66   70   82   82   76   87    922   \n",
       "4    67   64   74   60   94   84   94   98   66   64   77   94    936   \n",
       "..  ...  ...  ...  ...  ...  ...  ...  ...  ...  ...  ...  ...    ...   \n",
       "95   97   78   89   64   86   67   63   68   96   78   91   60    937   \n",
       "96   63   82   82   90   82   60   91   78   91   82   67   75    943   \n",
       "97   75   64   63   86   67   69   80   86   75   77   85   73    900   \n",
       "98   81   72   65   70   90   67   81   71   62   94   91   98    942   \n",
       "99   80   94   99   93   86   75   66   62   88   89   68   82    982   \n",
       "\n",
       "          avg best_month worst_month  \n",
       "0   74.666667        01월         07월  \n",
       "1   76.166667        12월         03월  \n",
       "2   78.083333        09월         04월  \n",
       "3   76.833333        05월         04월  \n",
       "4   78.000000        08월         04월  \n",
       "..        ...        ...         ...  \n",
       "95  78.083333        01월         12월  \n",
       "96  78.583333        07월         06월  \n",
       "97  75.000000        04월         03월  \n",
       "98  78.500000        12월         09월  \n",
       "99  81.833333        03월         08월  \n",
       "\n",
       "[100 rows x 16 columns]"
      ]
     },
     "execution_count": 255,
     "metadata": {},
     "output_type": "execute_result"
    }
   ],
   "source": [
    "df"
   ]
  },
  {
   "cell_type": "code",
   "execution_count": 256,
   "id": "7e444af4-e588-4080-8579-5a5c79ea1e7c",
   "metadata": {},
   "outputs": [
    {
     "data": {
      "text/html": [
       "<div>\n",
       "<style scoped>\n",
       "    .dataframe tbody tr th:only-of-type {\n",
       "        vertical-align: middle;\n",
       "    }\n",
       "\n",
       "    .dataframe tbody tr th {\n",
       "        vertical-align: top;\n",
       "    }\n",
       "\n",
       "    .dataframe thead th {\n",
       "        text-align: right;\n",
       "    }\n",
       "</style>\n",
       "<table border=\"1\" class=\"dataframe\">\n",
       "  <thead>\n",
       "    <tr style=\"text-align: right;\">\n",
       "      <th></th>\n",
       "      <th>01월</th>\n",
       "      <th>02월</th>\n",
       "      <th>03월</th>\n",
       "      <th>04월</th>\n",
       "      <th>05월</th>\n",
       "      <th>06월</th>\n",
       "      <th>07월</th>\n",
       "      <th>08월</th>\n",
       "      <th>09월</th>\n",
       "      <th>10월</th>\n",
       "      <th>11월</th>\n",
       "      <th>12월</th>\n",
       "      <th>total</th>\n",
       "      <th>avg</th>\n",
       "      <th>best_month</th>\n",
       "      <th>worst_month</th>\n",
       "    </tr>\n",
       "  </thead>\n",
       "  <tbody>\n",
       "    <tr>\n",
       "      <th>73</th>\n",
       "      <td>95</td>\n",
       "      <td>80</td>\n",
       "      <td>94</td>\n",
       "      <td>99</td>\n",
       "      <td>99</td>\n",
       "      <td>88</td>\n",
       "      <td>83</td>\n",
       "      <td>96</td>\n",
       "      <td>94</td>\n",
       "      <td>62</td>\n",
       "      <td>87</td>\n",
       "      <td>70</td>\n",
       "      <td>1047</td>\n",
       "      <td>87.250000</td>\n",
       "      <td>04월</td>\n",
       "      <td>10월</td>\n",
       "    </tr>\n",
       "    <tr>\n",
       "      <th>23</th>\n",
       "      <td>83</td>\n",
       "      <td>97</td>\n",
       "      <td>84</td>\n",
       "      <td>99</td>\n",
       "      <td>95</td>\n",
       "      <td>90</td>\n",
       "      <td>72</td>\n",
       "      <td>92</td>\n",
       "      <td>83</td>\n",
       "      <td>78</td>\n",
       "      <td>89</td>\n",
       "      <td>85</td>\n",
       "      <td>1047</td>\n",
       "      <td>87.250000</td>\n",
       "      <td>04월</td>\n",
       "      <td>07월</td>\n",
       "    </tr>\n",
       "    <tr>\n",
       "      <th>45</th>\n",
       "      <td>88</td>\n",
       "      <td>90</td>\n",
       "      <td>94</td>\n",
       "      <td>61</td>\n",
       "      <td>86</td>\n",
       "      <td>95</td>\n",
       "      <td>98</td>\n",
       "      <td>99</td>\n",
       "      <td>68</td>\n",
       "      <td>97</td>\n",
       "      <td>98</td>\n",
       "      <td>70</td>\n",
       "      <td>1044</td>\n",
       "      <td>87.000000</td>\n",
       "      <td>08월</td>\n",
       "      <td>04월</td>\n",
       "    </tr>\n",
       "    <tr>\n",
       "      <th>14</th>\n",
       "      <td>73</td>\n",
       "      <td>93</td>\n",
       "      <td>99</td>\n",
       "      <td>78</td>\n",
       "      <td>95</td>\n",
       "      <td>91</td>\n",
       "      <td>90</td>\n",
       "      <td>95</td>\n",
       "      <td>76</td>\n",
       "      <td>70</td>\n",
       "      <td>87</td>\n",
       "      <td>79</td>\n",
       "      <td>1026</td>\n",
       "      <td>85.500000</td>\n",
       "      <td>03월</td>\n",
       "      <td>10월</td>\n",
       "    </tr>\n",
       "    <tr>\n",
       "      <th>55</th>\n",
       "      <td>97</td>\n",
       "      <td>72</td>\n",
       "      <td>64</td>\n",
       "      <td>93</td>\n",
       "      <td>99</td>\n",
       "      <td>96</td>\n",
       "      <td>93</td>\n",
       "      <td>69</td>\n",
       "      <td>87</td>\n",
       "      <td>69</td>\n",
       "      <td>85</td>\n",
       "      <td>97</td>\n",
       "      <td>1021</td>\n",
       "      <td>85.083333</td>\n",
       "      <td>05월</td>\n",
       "      <td>03월</td>\n",
       "    </tr>\n",
       "    <tr>\n",
       "      <th>...</th>\n",
       "      <td>...</td>\n",
       "      <td>...</td>\n",
       "      <td>...</td>\n",
       "      <td>...</td>\n",
       "      <td>...</td>\n",
       "      <td>...</td>\n",
       "      <td>...</td>\n",
       "      <td>...</td>\n",
       "      <td>...</td>\n",
       "      <td>...</td>\n",
       "      <td>...</td>\n",
       "      <td>...</td>\n",
       "      <td>...</td>\n",
       "      <td>...</td>\n",
       "      <td>...</td>\n",
       "      <td>...</td>\n",
       "    </tr>\n",
       "    <tr>\n",
       "      <th>29</th>\n",
       "      <td>75</td>\n",
       "      <td>60</td>\n",
       "      <td>90</td>\n",
       "      <td>84</td>\n",
       "      <td>65</td>\n",
       "      <td>81</td>\n",
       "      <td>80</td>\n",
       "      <td>77</td>\n",
       "      <td>61</td>\n",
       "      <td>74</td>\n",
       "      <td>76</td>\n",
       "      <td>70</td>\n",
       "      <td>893</td>\n",
       "      <td>74.416667</td>\n",
       "      <td>03월</td>\n",
       "      <td>02월</td>\n",
       "    </tr>\n",
       "    <tr>\n",
       "      <th>76</th>\n",
       "      <td>70</td>\n",
       "      <td>71</td>\n",
       "      <td>84</td>\n",
       "      <td>66</td>\n",
       "      <td>65</td>\n",
       "      <td>62</td>\n",
       "      <td>63</td>\n",
       "      <td>96</td>\n",
       "      <td>94</td>\n",
       "      <td>74</td>\n",
       "      <td>70</td>\n",
       "      <td>76</td>\n",
       "      <td>891</td>\n",
       "      <td>74.250000</td>\n",
       "      <td>08월</td>\n",
       "      <td>06월</td>\n",
       "    </tr>\n",
       "    <tr>\n",
       "      <th>47</th>\n",
       "      <td>68</td>\n",
       "      <td>61</td>\n",
       "      <td>82</td>\n",
       "      <td>91</td>\n",
       "      <td>80</td>\n",
       "      <td>99</td>\n",
       "      <td>75</td>\n",
       "      <td>65</td>\n",
       "      <td>68</td>\n",
       "      <td>66</td>\n",
       "      <td>73</td>\n",
       "      <td>61</td>\n",
       "      <td>889</td>\n",
       "      <td>74.083333</td>\n",
       "      <td>06월</td>\n",
       "      <td>02월</td>\n",
       "    </tr>\n",
       "    <tr>\n",
       "      <th>20</th>\n",
       "      <td>61</td>\n",
       "      <td>78</td>\n",
       "      <td>72</td>\n",
       "      <td>74</td>\n",
       "      <td>64</td>\n",
       "      <td>67</td>\n",
       "      <td>89</td>\n",
       "      <td>77</td>\n",
       "      <td>66</td>\n",
       "      <td>81</td>\n",
       "      <td>63</td>\n",
       "      <td>81</td>\n",
       "      <td>873</td>\n",
       "      <td>72.750000</td>\n",
       "      <td>07월</td>\n",
       "      <td>01월</td>\n",
       "    </tr>\n",
       "    <tr>\n",
       "      <th>77</th>\n",
       "      <td>71</td>\n",
       "      <td>67</td>\n",
       "      <td>71</td>\n",
       "      <td>89</td>\n",
       "      <td>73</td>\n",
       "      <td>75</td>\n",
       "      <td>60</td>\n",
       "      <td>72</td>\n",
       "      <td>65</td>\n",
       "      <td>82</td>\n",
       "      <td>60</td>\n",
       "      <td>73</td>\n",
       "      <td>858</td>\n",
       "      <td>71.500000</td>\n",
       "      <td>04월</td>\n",
       "      <td>07월</td>\n",
       "    </tr>\n",
       "  </tbody>\n",
       "</table>\n",
       "<p>100 rows × 16 columns</p>\n",
       "</div>"
      ],
      "text/plain": [
       "    01월  02월  03월  04월  05월  06월  07월  08월  09월  10월  11월  12월  total  \\\n",
       "73   95   80   94   99   99   88   83   96   94   62   87   70   1047   \n",
       "23   83   97   84   99   95   90   72   92   83   78   89   85   1047   \n",
       "45   88   90   94   61   86   95   98   99   68   97   98   70   1044   \n",
       "14   73   93   99   78   95   91   90   95   76   70   87   79   1026   \n",
       "55   97   72   64   93   99   96   93   69   87   69   85   97   1021   \n",
       "..  ...  ...  ...  ...  ...  ...  ...  ...  ...  ...  ...  ...    ...   \n",
       "29   75   60   90   84   65   81   80   77   61   74   76   70    893   \n",
       "76   70   71   84   66   65   62   63   96   94   74   70   76    891   \n",
       "47   68   61   82   91   80   99   75   65   68   66   73   61    889   \n",
       "20   61   78   72   74   64   67   89   77   66   81   63   81    873   \n",
       "77   71   67   71   89   73   75   60   72   65   82   60   73    858   \n",
       "\n",
       "          avg best_month worst_month  \n",
       "73  87.250000        04월         10월  \n",
       "23  87.250000        04월         07월  \n",
       "45  87.000000        08월         04월  \n",
       "14  85.500000        03월         10월  \n",
       "55  85.083333        05월         03월  \n",
       "..        ...        ...         ...  \n",
       "29  74.416667        03월         02월  \n",
       "76  74.250000        08월         06월  \n",
       "47  74.083333        06월         02월  \n",
       "20  72.750000        07월         01월  \n",
       "77  71.500000        04월         07월  \n",
       "\n",
       "[100 rows x 16 columns]"
      ]
     },
     "execution_count": 256,
     "metadata": {},
     "output_type": "execute_result"
    }
   ],
   "source": [
    "df.iloc[np.argsort(df.total.values)[::-1],:]"
   ]
  },
  {
   "cell_type": "code",
   "execution_count": 257,
   "id": "cc9caee6-11ed-46a5-b580-0d34a6ff5f9f",
   "metadata": {},
   "outputs": [],
   "source": [
    "df = df.iloc[np.argsort(df.total.values)[::-1],:]\n",
    "df.index = np.arange(1,df.shape[0]+1)"
   ]
  },
  {
   "cell_type": "code",
   "execution_count": 258,
   "id": "69be7183-4d55-4a2f-b723-845739824696",
   "metadata": {},
   "outputs": [
    {
     "data": {
      "text/html": [
       "<div>\n",
       "<style scoped>\n",
       "    .dataframe tbody tr th:only-of-type {\n",
       "        vertical-align: middle;\n",
       "    }\n",
       "\n",
       "    .dataframe tbody tr th {\n",
       "        vertical-align: top;\n",
       "    }\n",
       "\n",
       "    .dataframe thead th {\n",
       "        text-align: right;\n",
       "    }\n",
       "</style>\n",
       "<table border=\"1\" class=\"dataframe\">\n",
       "  <thead>\n",
       "    <tr style=\"text-align: right;\">\n",
       "      <th></th>\n",
       "      <th>01월</th>\n",
       "      <th>02월</th>\n",
       "      <th>03월</th>\n",
       "      <th>04월</th>\n",
       "      <th>05월</th>\n",
       "      <th>06월</th>\n",
       "      <th>07월</th>\n",
       "      <th>08월</th>\n",
       "      <th>09월</th>\n",
       "      <th>10월</th>\n",
       "      <th>11월</th>\n",
       "      <th>12월</th>\n",
       "      <th>total</th>\n",
       "      <th>avg</th>\n",
       "      <th>best_month</th>\n",
       "      <th>worst_month</th>\n",
       "    </tr>\n",
       "  </thead>\n",
       "  <tbody>\n",
       "    <tr>\n",
       "      <th>1</th>\n",
       "      <td>95</td>\n",
       "      <td>80</td>\n",
       "      <td>94</td>\n",
       "      <td>99</td>\n",
       "      <td>99</td>\n",
       "      <td>88</td>\n",
       "      <td>83</td>\n",
       "      <td>96</td>\n",
       "      <td>94</td>\n",
       "      <td>62</td>\n",
       "      <td>87</td>\n",
       "      <td>70</td>\n",
       "      <td>1047</td>\n",
       "      <td>87.250000</td>\n",
       "      <td>04월</td>\n",
       "      <td>10월</td>\n",
       "    </tr>\n",
       "    <tr>\n",
       "      <th>2</th>\n",
       "      <td>83</td>\n",
       "      <td>97</td>\n",
       "      <td>84</td>\n",
       "      <td>99</td>\n",
       "      <td>95</td>\n",
       "      <td>90</td>\n",
       "      <td>72</td>\n",
       "      <td>92</td>\n",
       "      <td>83</td>\n",
       "      <td>78</td>\n",
       "      <td>89</td>\n",
       "      <td>85</td>\n",
       "      <td>1047</td>\n",
       "      <td>87.250000</td>\n",
       "      <td>04월</td>\n",
       "      <td>07월</td>\n",
       "    </tr>\n",
       "    <tr>\n",
       "      <th>3</th>\n",
       "      <td>88</td>\n",
       "      <td>90</td>\n",
       "      <td>94</td>\n",
       "      <td>61</td>\n",
       "      <td>86</td>\n",
       "      <td>95</td>\n",
       "      <td>98</td>\n",
       "      <td>99</td>\n",
       "      <td>68</td>\n",
       "      <td>97</td>\n",
       "      <td>98</td>\n",
       "      <td>70</td>\n",
       "      <td>1044</td>\n",
       "      <td>87.000000</td>\n",
       "      <td>08월</td>\n",
       "      <td>04월</td>\n",
       "    </tr>\n",
       "    <tr>\n",
       "      <th>4</th>\n",
       "      <td>73</td>\n",
       "      <td>93</td>\n",
       "      <td>99</td>\n",
       "      <td>78</td>\n",
       "      <td>95</td>\n",
       "      <td>91</td>\n",
       "      <td>90</td>\n",
       "      <td>95</td>\n",
       "      <td>76</td>\n",
       "      <td>70</td>\n",
       "      <td>87</td>\n",
       "      <td>79</td>\n",
       "      <td>1026</td>\n",
       "      <td>85.500000</td>\n",
       "      <td>03월</td>\n",
       "      <td>10월</td>\n",
       "    </tr>\n",
       "    <tr>\n",
       "      <th>5</th>\n",
       "      <td>97</td>\n",
       "      <td>72</td>\n",
       "      <td>64</td>\n",
       "      <td>93</td>\n",
       "      <td>99</td>\n",
       "      <td>96</td>\n",
       "      <td>93</td>\n",
       "      <td>69</td>\n",
       "      <td>87</td>\n",
       "      <td>69</td>\n",
       "      <td>85</td>\n",
       "      <td>97</td>\n",
       "      <td>1021</td>\n",
       "      <td>85.083333</td>\n",
       "      <td>05월</td>\n",
       "      <td>03월</td>\n",
       "    </tr>\n",
       "    <tr>\n",
       "      <th>...</th>\n",
       "      <td>...</td>\n",
       "      <td>...</td>\n",
       "      <td>...</td>\n",
       "      <td>...</td>\n",
       "      <td>...</td>\n",
       "      <td>...</td>\n",
       "      <td>...</td>\n",
       "      <td>...</td>\n",
       "      <td>...</td>\n",
       "      <td>...</td>\n",
       "      <td>...</td>\n",
       "      <td>...</td>\n",
       "      <td>...</td>\n",
       "      <td>...</td>\n",
       "      <td>...</td>\n",
       "      <td>...</td>\n",
       "    </tr>\n",
       "    <tr>\n",
       "      <th>96</th>\n",
       "      <td>75</td>\n",
       "      <td>60</td>\n",
       "      <td>90</td>\n",
       "      <td>84</td>\n",
       "      <td>65</td>\n",
       "      <td>81</td>\n",
       "      <td>80</td>\n",
       "      <td>77</td>\n",
       "      <td>61</td>\n",
       "      <td>74</td>\n",
       "      <td>76</td>\n",
       "      <td>70</td>\n",
       "      <td>893</td>\n",
       "      <td>74.416667</td>\n",
       "      <td>03월</td>\n",
       "      <td>02월</td>\n",
       "    </tr>\n",
       "    <tr>\n",
       "      <th>97</th>\n",
       "      <td>70</td>\n",
       "      <td>71</td>\n",
       "      <td>84</td>\n",
       "      <td>66</td>\n",
       "      <td>65</td>\n",
       "      <td>62</td>\n",
       "      <td>63</td>\n",
       "      <td>96</td>\n",
       "      <td>94</td>\n",
       "      <td>74</td>\n",
       "      <td>70</td>\n",
       "      <td>76</td>\n",
       "      <td>891</td>\n",
       "      <td>74.250000</td>\n",
       "      <td>08월</td>\n",
       "      <td>06월</td>\n",
       "    </tr>\n",
       "    <tr>\n",
       "      <th>98</th>\n",
       "      <td>68</td>\n",
       "      <td>61</td>\n",
       "      <td>82</td>\n",
       "      <td>91</td>\n",
       "      <td>80</td>\n",
       "      <td>99</td>\n",
       "      <td>75</td>\n",
       "      <td>65</td>\n",
       "      <td>68</td>\n",
       "      <td>66</td>\n",
       "      <td>73</td>\n",
       "      <td>61</td>\n",
       "      <td>889</td>\n",
       "      <td>74.083333</td>\n",
       "      <td>06월</td>\n",
       "      <td>02월</td>\n",
       "    </tr>\n",
       "    <tr>\n",
       "      <th>99</th>\n",
       "      <td>61</td>\n",
       "      <td>78</td>\n",
       "      <td>72</td>\n",
       "      <td>74</td>\n",
       "      <td>64</td>\n",
       "      <td>67</td>\n",
       "      <td>89</td>\n",
       "      <td>77</td>\n",
       "      <td>66</td>\n",
       "      <td>81</td>\n",
       "      <td>63</td>\n",
       "      <td>81</td>\n",
       "      <td>873</td>\n",
       "      <td>72.750000</td>\n",
       "      <td>07월</td>\n",
       "      <td>01월</td>\n",
       "    </tr>\n",
       "    <tr>\n",
       "      <th>100</th>\n",
       "      <td>71</td>\n",
       "      <td>67</td>\n",
       "      <td>71</td>\n",
       "      <td>89</td>\n",
       "      <td>73</td>\n",
       "      <td>75</td>\n",
       "      <td>60</td>\n",
       "      <td>72</td>\n",
       "      <td>65</td>\n",
       "      <td>82</td>\n",
       "      <td>60</td>\n",
       "      <td>73</td>\n",
       "      <td>858</td>\n",
       "      <td>71.500000</td>\n",
       "      <td>04월</td>\n",
       "      <td>07월</td>\n",
       "    </tr>\n",
       "  </tbody>\n",
       "</table>\n",
       "<p>100 rows × 16 columns</p>\n",
       "</div>"
      ],
      "text/plain": [
       "     01월  02월  03월  04월  05월  06월  07월  08월  09월  10월  11월  12월  total  \\\n",
       "1     95   80   94   99   99   88   83   96   94   62   87   70   1047   \n",
       "2     83   97   84   99   95   90   72   92   83   78   89   85   1047   \n",
       "3     88   90   94   61   86   95   98   99   68   97   98   70   1044   \n",
       "4     73   93   99   78   95   91   90   95   76   70   87   79   1026   \n",
       "5     97   72   64   93   99   96   93   69   87   69   85   97   1021   \n",
       "..   ...  ...  ...  ...  ...  ...  ...  ...  ...  ...  ...  ...    ...   \n",
       "96    75   60   90   84   65   81   80   77   61   74   76   70    893   \n",
       "97    70   71   84   66   65   62   63   96   94   74   70   76    891   \n",
       "98    68   61   82   91   80   99   75   65   68   66   73   61    889   \n",
       "99    61   78   72   74   64   67   89   77   66   81   63   81    873   \n",
       "100   71   67   71   89   73   75   60   72   65   82   60   73    858   \n",
       "\n",
       "           avg best_month worst_month  \n",
       "1    87.250000        04월         10월  \n",
       "2    87.250000        04월         07월  \n",
       "3    87.000000        08월         04월  \n",
       "4    85.500000        03월         10월  \n",
       "5    85.083333        05월         03월  \n",
       "..         ...        ...         ...  \n",
       "96   74.416667        03월         02월  \n",
       "97   74.250000        08월         06월  \n",
       "98   74.083333        06월         02월  \n",
       "99   72.750000        07월         01월  \n",
       "100  71.500000        04월         07월  \n",
       "\n",
       "[100 rows x 16 columns]"
      ]
     },
     "execution_count": 258,
     "metadata": {},
     "output_type": "execute_result"
    }
   ],
   "source": [
    "df"
   ]
  },
  {
   "cell_type": "code",
   "execution_count": 259,
   "id": "51474217-e29e-41df-aff6-d7faf9ba28a5",
   "metadata": {},
   "outputs": [],
   "source": [
    "#70이하인 값을 1개이하 가지고 있는 사람은 없으면 우수\n",
    "#70이하인 값 3개 이하인 사람은 보통\n",
    "#70이하인 값이 5개 이하인 사람은 저조\n",
    "#70이하인 갑시 5개보다 큰 사람은 아주저조\n",
    "arr = np.sum(df.iloc[:,:-2] <= 70,axis=1)\n",
    "score = np.where(arr <= 1,'우수', \n",
    "         np.where(arr<=3,'보통',\n",
    "                np.where(arr<=5,'저조','아주저조')))\n",
    "df['score'] = score "
   ]
  },
  {
   "cell_type": "code",
   "execution_count": 260,
   "id": "e9dd126b-ad9c-45e5-b5f9-46065e8adea9",
   "metadata": {},
   "outputs": [],
   "source": [
    "# 판다스 2일차"
   ]
  },
  {
   "cell_type": "code",
   "execution_count": 261,
   "id": "5d122f1e-c152-44b8-b8dd-cfbb793e57c3",
   "metadata": {},
   "outputs": [
    {
     "data": {
      "text/html": [
       "<div>\n",
       "<style scoped>\n",
       "    .dataframe tbody tr th:only-of-type {\n",
       "        vertical-align: middle;\n",
       "    }\n",
       "\n",
       "    .dataframe tbody tr th {\n",
       "        vertical-align: top;\n",
       "    }\n",
       "\n",
       "    .dataframe thead th {\n",
       "        text-align: right;\n",
       "    }\n",
       "</style>\n",
       "<table border=\"1\" class=\"dataframe\">\n",
       "  <thead>\n",
       "    <tr style=\"text-align: right;\">\n",
       "      <th></th>\n",
       "      <th>01월</th>\n",
       "      <th>02월</th>\n",
       "      <th>03월</th>\n",
       "      <th>04월</th>\n",
       "      <th>05월</th>\n",
       "      <th>06월</th>\n",
       "      <th>07월</th>\n",
       "      <th>08월</th>\n",
       "      <th>09월</th>\n",
       "      <th>10월</th>\n",
       "      <th>11월</th>\n",
       "      <th>12월</th>\n",
       "      <th>total</th>\n",
       "      <th>avg</th>\n",
       "      <th>best_month</th>\n",
       "      <th>worst_month</th>\n",
       "      <th>score</th>\n",
       "    </tr>\n",
       "  </thead>\n",
       "  <tbody>\n",
       "    <tr>\n",
       "      <th>98</th>\n",
       "      <td>68</td>\n",
       "      <td>61</td>\n",
       "      <td>82</td>\n",
       "      <td>91</td>\n",
       "      <td>80</td>\n",
       "      <td>99</td>\n",
       "      <td>75</td>\n",
       "      <td>65</td>\n",
       "      <td>68</td>\n",
       "      <td>66</td>\n",
       "      <td>73</td>\n",
       "      <td>61</td>\n",
       "      <td>889</td>\n",
       "      <td>74.083333</td>\n",
       "      <td>06월</td>\n",
       "      <td>02월</td>\n",
       "      <td>아주저조</td>\n",
       "    </tr>\n",
       "    <tr>\n",
       "      <th>99</th>\n",
       "      <td>61</td>\n",
       "      <td>78</td>\n",
       "      <td>72</td>\n",
       "      <td>74</td>\n",
       "      <td>64</td>\n",
       "      <td>67</td>\n",
       "      <td>89</td>\n",
       "      <td>77</td>\n",
       "      <td>66</td>\n",
       "      <td>81</td>\n",
       "      <td>63</td>\n",
       "      <td>81</td>\n",
       "      <td>873</td>\n",
       "      <td>72.750000</td>\n",
       "      <td>07월</td>\n",
       "      <td>01월</td>\n",
       "      <td>저조</td>\n",
       "    </tr>\n",
       "    <tr>\n",
       "      <th>100</th>\n",
       "      <td>71</td>\n",
       "      <td>67</td>\n",
       "      <td>71</td>\n",
       "      <td>89</td>\n",
       "      <td>73</td>\n",
       "      <td>75</td>\n",
       "      <td>60</td>\n",
       "      <td>72</td>\n",
       "      <td>65</td>\n",
       "      <td>82</td>\n",
       "      <td>60</td>\n",
       "      <td>73</td>\n",
       "      <td>858</td>\n",
       "      <td>71.500000</td>\n",
       "      <td>04월</td>\n",
       "      <td>07월</td>\n",
       "      <td>저조</td>\n",
       "    </tr>\n",
       "  </tbody>\n",
       "</table>\n",
       "</div>"
      ],
      "text/plain": [
       "     01월  02월  03월  04월  05월  06월  07월  08월  09월  10월  11월  12월  total  \\\n",
       "98    68   61   82   91   80   99   75   65   68   66   73   61    889   \n",
       "99    61   78   72   74   64   67   89   77   66   81   63   81    873   \n",
       "100   71   67   71   89   73   75   60   72   65   82   60   73    858   \n",
       "\n",
       "           avg best_month worst_month score  \n",
       "98   74.083333        06월         02월  아주저조  \n",
       "99   72.750000        07월         01월    저조  \n",
       "100  71.500000        04월         07월    저조  "
      ]
     },
     "execution_count": 261,
     "metadata": {},
     "output_type": "execute_result"
    }
   ],
   "source": [
    "df.head(3)\n",
    "df.tail(3)"
   ]
  },
  {
   "cell_type": "code",
   "execution_count": 262,
   "id": "eb174224-91e1-4629-afd5-4731279feb19",
   "metadata": {},
   "outputs": [],
   "source": [
    "# 인덱스 재설정\n",
    "df.reset_index(inplace=True)"
   ]
  },
  {
   "cell_type": "code",
   "execution_count": 263,
   "id": "a53e7311-d9d0-4bcf-b9f9-8cc662fb1a8e",
   "metadata": {},
   "outputs": [
    {
     "data": {
      "text/html": [
       "<div>\n",
       "<style scoped>\n",
       "    .dataframe tbody tr th:only-of-type {\n",
       "        vertical-align: middle;\n",
       "    }\n",
       "\n",
       "    .dataframe tbody tr th {\n",
       "        vertical-align: top;\n",
       "    }\n",
       "\n",
       "    .dataframe thead th {\n",
       "        text-align: right;\n",
       "    }\n",
       "</style>\n",
       "<table border=\"1\" class=\"dataframe\">\n",
       "  <thead>\n",
       "    <tr style=\"text-align: right;\">\n",
       "      <th></th>\n",
       "      <th>01월</th>\n",
       "      <th>02월</th>\n",
       "      <th>03월</th>\n",
       "      <th>04월</th>\n",
       "      <th>05월</th>\n",
       "      <th>06월</th>\n",
       "      <th>07월</th>\n",
       "      <th>08월</th>\n",
       "      <th>09월</th>\n",
       "      <th>10월</th>\n",
       "      <th>11월</th>\n",
       "      <th>12월</th>\n",
       "      <th>total</th>\n",
       "      <th>avg</th>\n",
       "      <th>best_month</th>\n",
       "      <th>worst_month</th>\n",
       "      <th>score</th>\n",
       "    </tr>\n",
       "  </thead>\n",
       "  <tbody>\n",
       "    <tr>\n",
       "      <th>0</th>\n",
       "      <td>95</td>\n",
       "      <td>80</td>\n",
       "      <td>94</td>\n",
       "      <td>99</td>\n",
       "      <td>99</td>\n",
       "      <td>88</td>\n",
       "      <td>83</td>\n",
       "      <td>96</td>\n",
       "      <td>94</td>\n",
       "      <td>62</td>\n",
       "      <td>87</td>\n",
       "      <td>70</td>\n",
       "      <td>1047</td>\n",
       "      <td>87.250000</td>\n",
       "      <td>04월</td>\n",
       "      <td>10월</td>\n",
       "      <td>보통</td>\n",
       "    </tr>\n",
       "    <tr>\n",
       "      <th>1</th>\n",
       "      <td>83</td>\n",
       "      <td>97</td>\n",
       "      <td>84</td>\n",
       "      <td>99</td>\n",
       "      <td>95</td>\n",
       "      <td>90</td>\n",
       "      <td>72</td>\n",
       "      <td>92</td>\n",
       "      <td>83</td>\n",
       "      <td>78</td>\n",
       "      <td>89</td>\n",
       "      <td>85</td>\n",
       "      <td>1047</td>\n",
       "      <td>87.250000</td>\n",
       "      <td>04월</td>\n",
       "      <td>07월</td>\n",
       "      <td>우수</td>\n",
       "    </tr>\n",
       "    <tr>\n",
       "      <th>2</th>\n",
       "      <td>88</td>\n",
       "      <td>90</td>\n",
       "      <td>94</td>\n",
       "      <td>61</td>\n",
       "      <td>86</td>\n",
       "      <td>95</td>\n",
       "      <td>98</td>\n",
       "      <td>99</td>\n",
       "      <td>68</td>\n",
       "      <td>97</td>\n",
       "      <td>98</td>\n",
       "      <td>70</td>\n",
       "      <td>1044</td>\n",
       "      <td>87.000000</td>\n",
       "      <td>08월</td>\n",
       "      <td>04월</td>\n",
       "      <td>보통</td>\n",
       "    </tr>\n",
       "    <tr>\n",
       "      <th>3</th>\n",
       "      <td>73</td>\n",
       "      <td>93</td>\n",
       "      <td>99</td>\n",
       "      <td>78</td>\n",
       "      <td>95</td>\n",
       "      <td>91</td>\n",
       "      <td>90</td>\n",
       "      <td>95</td>\n",
       "      <td>76</td>\n",
       "      <td>70</td>\n",
       "      <td>87</td>\n",
       "      <td>79</td>\n",
       "      <td>1026</td>\n",
       "      <td>85.500000</td>\n",
       "      <td>03월</td>\n",
       "      <td>10월</td>\n",
       "      <td>우수</td>\n",
       "    </tr>\n",
       "    <tr>\n",
       "      <th>4</th>\n",
       "      <td>97</td>\n",
       "      <td>72</td>\n",
       "      <td>64</td>\n",
       "      <td>93</td>\n",
       "      <td>99</td>\n",
       "      <td>96</td>\n",
       "      <td>93</td>\n",
       "      <td>69</td>\n",
       "      <td>87</td>\n",
       "      <td>69</td>\n",
       "      <td>85</td>\n",
       "      <td>97</td>\n",
       "      <td>1021</td>\n",
       "      <td>85.083333</td>\n",
       "      <td>05월</td>\n",
       "      <td>03월</td>\n",
       "      <td>보통</td>\n",
       "    </tr>\n",
       "  </tbody>\n",
       "</table>\n",
       "</div>"
      ],
      "text/plain": [
       "   01월  02월  03월  04월  05월  06월  07월  08월  09월  10월  11월  12월  total  \\\n",
       "0   95   80   94   99   99   88   83   96   94   62   87   70   1047   \n",
       "1   83   97   84   99   95   90   72   92   83   78   89   85   1047   \n",
       "2   88   90   94   61   86   95   98   99   68   97   98   70   1044   \n",
       "3   73   93   99   78   95   91   90   95   76   70   87   79   1026   \n",
       "4   97   72   64   93   99   96   93   69   87   69   85   97   1021   \n",
       "\n",
       "         avg best_month worst_month score  \n",
       "0  87.250000        04월         10월    보통  \n",
       "1  87.250000        04월         07월    우수  \n",
       "2  87.000000        08월         04월    보통  \n",
       "3  85.500000        03월         10월    우수  \n",
       "4  85.083333        05월         03월    보통  "
      ]
     },
     "execution_count": 263,
     "metadata": {},
     "output_type": "execute_result"
    }
   ],
   "source": [
    "# index 컬럼을 제거\n",
    "df.drop(columns=['index'],inplace=True)\n",
    "df.head()"
   ]
  },
  {
   "cell_type": "code",
   "execution_count": 273,
   "id": "0e900349-b81d-4de7-9449-5ffd7ec5e309",
   "metadata": {},
   "outputs": [],
   "source": [
    "import warnings\n",
    "warnings.filterwarnings(action='ignore')"
   ]
  },
  {
   "cell_type": "code",
   "execution_count": null,
   "id": "cfc7b89a-bb56-438b-afba-421398d5702d",
   "metadata": {},
   "outputs": [],
   "source": [
    "total = df.iloc[:,:13].sum(axis=0)"
   ]
  },
  {
   "cell_type": "code",
   "execution_count": 265,
   "id": "e7fb32c7-884d-4630-8ae5-847326e7177f",
   "metadata": {},
   "outputs": [
    {
     "data": {
      "text/plain": [
       "01월       8040\n",
       "02월       7856\n",
       "03월       8147\n",
       "04월       7961\n",
       "05월       8065\n",
       "06월       8165\n",
       "07월       7987\n",
       "08월       8063\n",
       "09월       7885\n",
       "10월       7859\n",
       "11월       7987\n",
       "12월       8049\n",
       "total    96064\n",
       "dtype: int64"
      ]
     },
     "execution_count": 275,
     "metadata": {},
     "output_type": "execute_result"
    }
   ],
   "source": [
    "df.iloc[:,:13].sum(axis=0)"
   ]
  },
  {
   "cell_type": "code",
   "execution_count": 266,
   "id": "c9c41680-e28c-4904-9e74-1998979cf5c0",
   "metadata": {},
   "outputs": [],
   "source": [
    "avg = df.avg.mean()"
   ]
  },
  {
   "cell_type": "code",
   "execution_count": 267,
   "id": "aaef723c-2bc9-4fc2-83b8-dd67b1f725a9",
   "metadata": {},
   "outputs": [],
   "source": [
    "best_month = np.unique(df.best_month.values)[np.argmax(np.unique(df.best_month.values,return_counts=True)[1])]"
   ]
  },
  {
   "cell_type": "code",
   "execution_count": 268,
   "id": "a461144d-1836-42d7-b6c9-7f26fc265356",
   "metadata": {},
   "outputs": [],
   "source": [
    "worst_month = np.unique(df.worst_month.values)[np.argmax(np.unique(df.worst_month.values,return_counts=True)[1])]"
   ]
  },
  {
   "cell_type": "code",
   "execution_count": 269,
   "id": "5348992a-6913-4b97-9bbc-137172ed8d50",
   "metadata": {},
   "outputs": [],
   "source": [
    "unique_name = np.unique(df.score,return_counts=True)[0]\n",
    "unique_cnt = np.unique(df.score,return_counts=True)[1]\n",
    "best_index = np.argmax(unique_cnt)\n",
    "freq_score = unique_name[best_index]"
   ]
  },
  {
   "cell_type": "code",
   "execution_count": 270,
   "id": "d5e4cc63-8ce1-46ba-ba85-4e8e94415108",
   "metadata": {},
   "outputs": [
    {
     "name": "stdout",
     "output_type": "stream",
     "text": [
      "['보통' '아주저조' '우수' '저조']\n",
      "[43  9 12 36]\n",
      "보통\n"
     ]
    }
   ],
   "source": [
    "print(unique_name)\n",
    "print(unique_cnt)\n",
    "print(freq_score)"
   ]
  },
  {
   "cell_type": "code",
   "execution_count": 271,
   "id": "d3866117-01fb-4a0a-aac8-aec214c542cc",
   "metadata": {},
   "outputs": [],
   "source": [
    "# total,avg,best_month,worst_month,freq_score\n",
    "# 토탈이 어디로 갔을까\n"
   ]
  },
  {
   "cell_type": "code",
   "execution_count": 272,
   "id": "85f0cce4-a99e-4827-ae2e-517134c6ba74",
   "metadata": {},
   "outputs": [],
   "source": [
    "new_data = pd.concat([total,\n",
    "          pd.Series(avg),\n",
    "          pd.Series(best_month),\n",
    "          pd.Series(worst_month),\n",
    "          pd.Series(freq_score)])"
   ]
  },
  {
   "cell_type": "code",
   "execution_count": 284,
   "id": "aad103c7-1ce5-47e6-ae8c-8b3cc8c4823f",
   "metadata": {},
   "outputs": [
    {
     "data": {
      "text/plain": [
       "17"
      ]
     },
     "execution_count": 284,
     "metadata": {},
     "output_type": "execute_result"
    }
   ],
   "source": [
    "df.columns.size"
   ]
  },
  {
   "cell_type": "code",
   "execution_count": 285,
   "id": "200e1503-aa70-4cca-9f5b-5fbce3f50a53",
   "metadata": {},
   "outputs": [],
   "source": [
    "df.loc[100] = new_data.values"
   ]
  },
  {
   "cell_type": "code",
   "execution_count": 286,
   "id": "98a97124-87f4-46b0-98f7-7ccca766684d",
   "metadata": {},
   "outputs": [
    {
     "data": {
      "text/html": [
       "<div>\n",
       "<style scoped>\n",
       "    .dataframe tbody tr th:only-of-type {\n",
       "        vertical-align: middle;\n",
       "    }\n",
       "\n",
       "    .dataframe tbody tr th {\n",
       "        vertical-align: top;\n",
       "    }\n",
       "\n",
       "    .dataframe thead th {\n",
       "        text-align: right;\n",
       "    }\n",
       "</style>\n",
       "<table border=\"1\" class=\"dataframe\">\n",
       "  <thead>\n",
       "    <tr style=\"text-align: right;\">\n",
       "      <th></th>\n",
       "      <th>08월</th>\n",
       "      <th>09월</th>\n",
       "      <th>10월</th>\n",
       "      <th>11월</th>\n",
       "      <th>12월</th>\n",
       "      <th>total</th>\n",
       "      <th>avg</th>\n",
       "      <th>best_month</th>\n",
       "      <th>worst_month</th>\n",
       "      <th>score</th>\n",
       "    </tr>\n",
       "  </thead>\n",
       "  <tbody>\n",
       "    <tr>\n",
       "      <th>0</th>\n",
       "      <td>96</td>\n",
       "      <td>94</td>\n",
       "      <td>62</td>\n",
       "      <td>87</td>\n",
       "      <td>70</td>\n",
       "      <td>1047</td>\n",
       "      <td>87.250000</td>\n",
       "      <td>04월</td>\n",
       "      <td>10월</td>\n",
       "      <td>보통</td>\n",
       "    </tr>\n",
       "    <tr>\n",
       "      <th>1</th>\n",
       "      <td>92</td>\n",
       "      <td>83</td>\n",
       "      <td>78</td>\n",
       "      <td>89</td>\n",
       "      <td>85</td>\n",
       "      <td>1047</td>\n",
       "      <td>87.250000</td>\n",
       "      <td>04월</td>\n",
       "      <td>07월</td>\n",
       "      <td>우수</td>\n",
       "    </tr>\n",
       "    <tr>\n",
       "      <th>2</th>\n",
       "      <td>99</td>\n",
       "      <td>68</td>\n",
       "      <td>97</td>\n",
       "      <td>98</td>\n",
       "      <td>70</td>\n",
       "      <td>1044</td>\n",
       "      <td>87.000000</td>\n",
       "      <td>08월</td>\n",
       "      <td>04월</td>\n",
       "      <td>보통</td>\n",
       "    </tr>\n",
       "    <tr>\n",
       "      <th>3</th>\n",
       "      <td>95</td>\n",
       "      <td>76</td>\n",
       "      <td>70</td>\n",
       "      <td>87</td>\n",
       "      <td>79</td>\n",
       "      <td>1026</td>\n",
       "      <td>85.500000</td>\n",
       "      <td>03월</td>\n",
       "      <td>10월</td>\n",
       "      <td>우수</td>\n",
       "    </tr>\n",
       "    <tr>\n",
       "      <th>4</th>\n",
       "      <td>69</td>\n",
       "      <td>87</td>\n",
       "      <td>69</td>\n",
       "      <td>85</td>\n",
       "      <td>97</td>\n",
       "      <td>1021</td>\n",
       "      <td>85.083333</td>\n",
       "      <td>05월</td>\n",
       "      <td>03월</td>\n",
       "      <td>보통</td>\n",
       "    </tr>\n",
       "  </tbody>\n",
       "</table>\n",
       "</div>"
      ],
      "text/plain": [
       "   08월  09월  10월  11월  12월  total        avg best_month worst_month score\n",
       "0   96   94   62   87   70   1047  87.250000        04월         10월    보통\n",
       "1   92   83   78   89   85   1047  87.250000        04월         07월    우수\n",
       "2   99   68   97   98   70   1044  87.000000        08월         04월    보통\n",
       "3   95   76   70   87   79   1026  85.500000        03월         10월    우수\n",
       "4   69   87   69   85   97   1021  85.083333        05월         03월    보통"
      ]
     },
     "execution_count": 286,
     "metadata": {},
     "output_type": "execute_result"
    }
   ],
   "source": [
    "df.iloc[:,7:].head()"
   ]
  },
  {
   "cell_type": "code",
   "execution_count": 292,
   "id": "1ed1ddc9-f32f-49ef-a449-8073208c6834",
   "metadata": {},
   "outputs": [],
   "source": [
    "def unique_cnt(x):\n",
    "    unique_name = np.unique(x,return_counts=True)[0]\n",
    "    unique_cnt = np.unique(x,return_counts=True)[1]\n",
    "    freq_cnt_index = np.argmax(unique_cnt)\n",
    "    result = unique_name[freq_cnt_index]\n",
    "    return result"
   ]
  },
  {
   "cell_type": "code",
   "execution_count": 294,
   "id": "a391db86-6645-4d32-94d4-14b7d158777b",
   "metadata": {},
   "outputs": [],
   "source": [
    "f = lambda x: np.unique(x,return_count=True)[0][np.argmax(np.unique(x,return_counts=True)[1])]"
   ]
  },
  {
   "cell_type": "code",
   "execution_count": 290,
   "id": "247bb7d4-acc5-4d16-87bd-607d1ee6d92e",
   "metadata": {},
   "outputs": [
    {
     "data": {
      "text/plain": [
       "'보통'"
      ]
     },
     "execution_count": 290,
     "metadata": {},
     "output_type": "execute_result"
    }
   ],
   "source": [
    "unique_cnt(df.score)"
   ]
  },
  {
   "cell_type": "code",
   "execution_count": 291,
   "id": "51853438-f467-4e9e-8b8b-e4f6f1a804eb",
   "metadata": {},
   "outputs": [
    {
     "data": {
      "text/plain": [
       "best_month     04월\n",
       "worst_month    04월\n",
       "score           보통\n",
       "dtype: object"
      ]
     },
     "execution_count": 291,
     "metadata": {},
     "output_type": "execute_result"
    }
   ],
   "source": [
    "df.loc[:,['best_month','worst_month','score']].apply(unique_cnt,axis=0)"
   ]
  },
  {
   "cell_type": "code",
   "execution_count": 296,
   "id": "14ca9e88-080f-4735-98ef-9754a3944a07",
   "metadata": {},
   "outputs": [],
   "source": [
    "np.random.seed(3)\n",
    "dic = {\n",
    "    'a':np.random.randint(1,10,5),\n",
    "    'b':np.random.randint(1,10,5)\n",
    "}\n",
    "df1 = pd.DataFrame(dic)"
   ]
  },
  {
   "cell_type": "code",
   "execution_count": 297,
   "id": "c4038fc3-104f-4ff9-a93b-db0f6437756f",
   "metadata": {},
   "outputs": [
    {
     "data": {
      "text/html": [
       "<div>\n",
       "<style scoped>\n",
       "    .dataframe tbody tr th:only-of-type {\n",
       "        vertical-align: middle;\n",
       "    }\n",
       "\n",
       "    .dataframe tbody tr th {\n",
       "        vertical-align: top;\n",
       "    }\n",
       "\n",
       "    .dataframe thead th {\n",
       "        text-align: right;\n",
       "    }\n",
       "</style>\n",
       "<table border=\"1\" class=\"dataframe\">\n",
       "  <thead>\n",
       "    <tr style=\"text-align: right;\">\n",
       "      <th></th>\n",
       "      <th>a</th>\n",
       "      <th>b</th>\n",
       "    </tr>\n",
       "  </thead>\n",
       "  <tbody>\n",
       "    <tr>\n",
       "      <th>0</th>\n",
       "      <td>9</td>\n",
       "      <td>6</td>\n",
       "    </tr>\n",
       "    <tr>\n",
       "      <th>1</th>\n",
       "      <td>4</td>\n",
       "      <td>4</td>\n",
       "    </tr>\n",
       "    <tr>\n",
       "      <th>2</th>\n",
       "      <td>9</td>\n",
       "      <td>6</td>\n",
       "    </tr>\n",
       "    <tr>\n",
       "      <th>3</th>\n",
       "      <td>9</td>\n",
       "      <td>8</td>\n",
       "    </tr>\n",
       "    <tr>\n",
       "      <th>4</th>\n",
       "      <td>1</td>\n",
       "      <td>7</td>\n",
       "    </tr>\n",
       "  </tbody>\n",
       "</table>\n",
       "</div>"
      ],
      "text/plain": [
       "   a  b\n",
       "0  9  6\n",
       "1  4  4\n",
       "2  9  6\n",
       "3  9  8\n",
       "4  1  7"
      ]
     },
     "execution_count": 297,
     "metadata": {},
     "output_type": "execute_result"
    }
   ],
   "source": [
    "df1"
   ]
  },
  {
   "cell_type": "code",
   "execution_count": 298,
   "id": "acaea3a4-5159-49d4-97f6-0c48fed4b53e",
   "metadata": {},
   "outputs": [],
   "source": [
    "#df1의 컬럼중\n",
    "# a>b 이면 a//3\n",
    "# b>a 이면 b//2\n",
    "# a == b 이면 a*b\n",
    "def xx(x):\n",
    "    if x[0] > x[1]:\n",
    "        result = x[0] // 3\n",
    "    elif x[0] < x[1]:\n",
    "        result = x[1] // 2\n",
    "    else:\n",
    "        result = x[0] * x[1]\n",
    "    return result"
   ]
  },
  {
   "cell_type": "code",
   "execution_count": 301,
   "id": "5ddaa536-4995-4e4f-b2a0-9498ede8d0de",
   "metadata": {},
   "outputs": [],
   "source": [
    "df1['result'] = df1.apply(xx,axis=1)"
   ]
  },
  {
   "cell_type": "code",
   "execution_count": 302,
   "id": "b3b326e0-d27c-4c1b-ac77-98c9dcd8ea67",
   "metadata": {},
   "outputs": [],
   "source": [
    "df1.loc[4,'result'] = 7"
   ]
  },
  {
   "cell_type": "code",
   "execution_count": 303,
   "id": "d91a1f74-a463-4102-af9b-30314117b05b",
   "metadata": {},
   "outputs": [],
   "source": [
    "df1.iloc[4,2] = 3"
   ]
  },
  {
   "cell_type": "code",
   "execution_count": 304,
   "id": "dfcff220-07c9-485e-b108-4bb8c4fd8a35",
   "metadata": {},
   "outputs": [
    {
     "data": {
      "text/html": [
       "<div>\n",
       "<style scoped>\n",
       "    .dataframe tbody tr th:only-of-type {\n",
       "        vertical-align: middle;\n",
       "    }\n",
       "\n",
       "    .dataframe tbody tr th {\n",
       "        vertical-align: top;\n",
       "    }\n",
       "\n",
       "    .dataframe thead th {\n",
       "        text-align: right;\n",
       "    }\n",
       "</style>\n",
       "<table border=\"1\" class=\"dataframe\">\n",
       "  <thead>\n",
       "    <tr style=\"text-align: right;\">\n",
       "      <th></th>\n",
       "      <th>a</th>\n",
       "      <th>b</th>\n",
       "      <th>result</th>\n",
       "    </tr>\n",
       "  </thead>\n",
       "  <tbody>\n",
       "    <tr>\n",
       "      <th>0</th>\n",
       "      <td>9</td>\n",
       "      <td>6</td>\n",
       "      <td>3</td>\n",
       "    </tr>\n",
       "    <tr>\n",
       "      <th>1</th>\n",
       "      <td>4</td>\n",
       "      <td>4</td>\n",
       "      <td>16</td>\n",
       "    </tr>\n",
       "    <tr>\n",
       "      <th>2</th>\n",
       "      <td>9</td>\n",
       "      <td>6</td>\n",
       "      <td>3</td>\n",
       "    </tr>\n",
       "    <tr>\n",
       "      <th>3</th>\n",
       "      <td>9</td>\n",
       "      <td>8</td>\n",
       "      <td>3</td>\n",
       "    </tr>\n",
       "    <tr>\n",
       "      <th>4</th>\n",
       "      <td>1</td>\n",
       "      <td>7</td>\n",
       "      <td>3</td>\n",
       "    </tr>\n",
       "  </tbody>\n",
       "</table>\n",
       "</div>"
      ],
      "text/plain": [
       "   a  b  result\n",
       "0  9  6       3\n",
       "1  4  4      16\n",
       "2  9  6       3\n",
       "3  9  8       3\n",
       "4  1  7       3"
      ]
     },
     "execution_count": 304,
     "metadata": {},
     "output_type": "execute_result"
    }
   ],
   "source": [
    "df1.loc[0,['b','result']] = 3\n",
    "df1.iloc[0,[1,2]] = 6,3\n",
    "df1"
   ]
  },
  {
   "cell_type": "code",
   "execution_count": 319,
   "id": "d40f773b-604d-430c-8dc8-f386df808a1a",
   "metadata": {},
   "outputs": [
    {
     "data": {
      "text/html": [
       "<div>\n",
       "<style scoped>\n",
       "    .dataframe tbody tr th:only-of-type {\n",
       "        vertical-align: middle;\n",
       "    }\n",
       "\n",
       "    .dataframe tbody tr th {\n",
       "        vertical-align: top;\n",
       "    }\n",
       "\n",
       "    .dataframe thead th {\n",
       "        text-align: right;\n",
       "    }\n",
       "</style>\n",
       "<table border=\"1\" class=\"dataframe\">\n",
       "  <thead>\n",
       "    <tr style=\"text-align: right;\">\n",
       "      <th></th>\n",
       "      <th>이름</th>\n",
       "      <th>수학</th>\n",
       "      <th>영어</th>\n",
       "      <th>음악</th>\n",
       "    </tr>\n",
       "  </thead>\n",
       "  <tbody>\n",
       "    <tr>\n",
       "      <th>0</th>\n",
       "      <td>서준</td>\n",
       "      <td>80</td>\n",
       "      <td>98</td>\n",
       "      <td>85</td>\n",
       "    </tr>\n",
       "    <tr>\n",
       "      <th>1</th>\n",
       "      <td>우현</td>\n",
       "      <td>80</td>\n",
       "      <td>89</td>\n",
       "      <td>95</td>\n",
       "    </tr>\n",
       "    <tr>\n",
       "      <th>2</th>\n",
       "      <td>인아</td>\n",
       "      <td>70</td>\n",
       "      <td>95</td>\n",
       "      <td>100</td>\n",
       "    </tr>\n",
       "  </tbody>\n",
       "</table>\n",
       "</div>"
      ],
      "text/plain": [
       "   이름  수학  영어   음악\n",
       "0  서준  80  98   85\n",
       "1  우현  80  89   95\n",
       "2  인아  70  95  100"
      ]
     },
     "execution_count": 319,
     "metadata": {},
     "output_type": "execute_result"
    }
   ],
   "source": [
    "dic = {\n",
    "    '이름':['서준','우현','인아'],\n",
    "    '수학':[80,80,70],\n",
    "    '영어':[98,89,95],\n",
    "    '음악':[85,95,100],\n",
    "}\n",
    "df2 = pd.DataFrame(dic)\n",
    "df2"
   ]
  },
  {
   "cell_type": "code",
   "execution_count": 320,
   "id": "565002de-7c88-4e9d-80f2-61f7dd2489ef",
   "metadata": {},
   "outputs": [
    {
     "data": {
      "text/html": [
       "<div>\n",
       "<style scoped>\n",
       "    .dataframe tbody tr th:only-of-type {\n",
       "        vertical-align: middle;\n",
       "    }\n",
       "\n",
       "    .dataframe tbody tr th {\n",
       "        vertical-align: top;\n",
       "    }\n",
       "\n",
       "    .dataframe thead th {\n",
       "        text-align: right;\n",
       "    }\n",
       "</style>\n",
       "<table border=\"1\" class=\"dataframe\">\n",
       "  <thead>\n",
       "    <tr style=\"text-align: right;\">\n",
       "      <th></th>\n",
       "      <th>이름</th>\n",
       "      <th>수학</th>\n",
       "      <th>영어</th>\n",
       "      <th>음악</th>\n",
       "    </tr>\n",
       "  </thead>\n",
       "  <tbody>\n",
       "    <tr>\n",
       "      <th>0</th>\n",
       "      <td>서준</td>\n",
       "      <td>80</td>\n",
       "      <td>98</td>\n",
       "      <td>85</td>\n",
       "    </tr>\n",
       "    <tr>\n",
       "      <th>1</th>\n",
       "      <td>우현</td>\n",
       "      <td>80</td>\n",
       "      <td>89</td>\n",
       "      <td>95</td>\n",
       "    </tr>\n",
       "    <tr>\n",
       "      <th>2</th>\n",
       "      <td>인아</td>\n",
       "      <td>70</td>\n",
       "      <td>95</td>\n",
       "      <td>100</td>\n",
       "    </tr>\n",
       "  </tbody>\n",
       "</table>\n",
       "</div>"
      ],
      "text/plain": [
       "   이름  수학  영어   음악\n",
       "0  서준  80  98   85\n",
       "1  우현  80  89   95\n",
       "2  인아  70  95  100"
      ]
     },
     "execution_count": 320,
     "metadata": {},
     "output_type": "execute_result"
    }
   ],
   "source": [
    "df2.transpose().T"
   ]
  },
  {
   "cell_type": "code",
   "execution_count": 321,
   "id": "7d86bffc-22fd-4312-ae91-0e1fe9337a03",
   "metadata": {},
   "outputs": [
    {
     "data": {
      "text/plain": [
       "0    80\n",
       "Name: 수학, dtype: int64"
      ]
     },
     "execution_count": 321,
     "metadata": {},
     "output_type": "execute_result"
    }
   ],
   "source": [
    "df2.loc[df2.이름 == '서준','수학']"
   ]
  },
  {
   "cell_type": "code",
   "execution_count": 322,
   "id": "dc2ec762-2583-4ecf-b68a-5db633b95f12",
   "metadata": {},
   "outputs": [],
   "source": [
    "df2.loc[3] = ['서준',90,80,70]"
   ]
  },
  {
   "cell_type": "code",
   "execution_count": 323,
   "id": "5498242d-2d61-41f6-a47e-33aba4ad415a",
   "metadata": {},
   "outputs": [
    {
     "data": {
      "text/plain": [
       "이름\n",
       "서준    80\n",
       "서준    90\n",
       "Name: 수학, dtype: int64"
      ]
     },
     "execution_count": 323,
     "metadata": {},
     "output_type": "execute_result"
    }
   ],
   "source": [
    "df2.set_index('이름').loc['서준','수학']"
   ]
  },
  {
   "cell_type": "code",
   "execution_count": 324,
   "id": "a87a7068-48dd-4836-a0b2-b1bbaff8d3ff",
   "metadata": {},
   "outputs": [
    {
     "data": {
      "text/html": [
       "<div>\n",
       "<style scoped>\n",
       "    .dataframe tbody tr th:only-of-type {\n",
       "        vertical-align: middle;\n",
       "    }\n",
       "\n",
       "    .dataframe tbody tr th {\n",
       "        vertical-align: top;\n",
       "    }\n",
       "\n",
       "    .dataframe thead th {\n",
       "        text-align: right;\n",
       "    }\n",
       "</style>\n",
       "<table border=\"1\" class=\"dataframe\">\n",
       "  <thead>\n",
       "    <tr style=\"text-align: right;\">\n",
       "      <th></th>\n",
       "      <th>이름</th>\n",
       "      <th>수학</th>\n",
       "      <th>영어</th>\n",
       "      <th>음악</th>\n",
       "    </tr>\n",
       "  </thead>\n",
       "  <tbody>\n",
       "    <tr>\n",
       "      <th>0</th>\n",
       "      <td>서준</td>\n",
       "      <td>80</td>\n",
       "      <td>98</td>\n",
       "      <td>85</td>\n",
       "    </tr>\n",
       "    <tr>\n",
       "      <th>1</th>\n",
       "      <td>우현</td>\n",
       "      <td>80</td>\n",
       "      <td>89</td>\n",
       "      <td>95</td>\n",
       "    </tr>\n",
       "    <tr>\n",
       "      <th>2</th>\n",
       "      <td>인아</td>\n",
       "      <td>70</td>\n",
       "      <td>95</td>\n",
       "      <td>100</td>\n",
       "    </tr>\n",
       "    <tr>\n",
       "      <th>3</th>\n",
       "      <td>서준</td>\n",
       "      <td>90</td>\n",
       "      <td>80</td>\n",
       "      <td>70</td>\n",
       "    </tr>\n",
       "  </tbody>\n",
       "</table>\n",
       "</div>"
      ],
      "text/plain": [
       "   이름  수학  영어   음악\n",
       "0  서준  80  98   85\n",
       "1  우현  80  89   95\n",
       "2  인아  70  95  100\n",
       "3  서준  90  80   70"
      ]
     },
     "execution_count": 324,
     "metadata": {},
     "output_type": "execute_result"
    }
   ],
   "source": [
    "df2"
   ]
  },
  {
   "cell_type": "code",
   "execution_count": 327,
   "id": "84ecf3d2-acaf-4de1-9ce8-25d0c3bc24c3",
   "metadata": {},
   "outputs": [
    {
     "data": {
      "text/html": [
       "<div>\n",
       "<style scoped>\n",
       "    .dataframe tbody tr th:only-of-type {\n",
       "        vertical-align: middle;\n",
       "    }\n",
       "\n",
       "    .dataframe tbody tr th {\n",
       "        vertical-align: top;\n",
       "    }\n",
       "\n",
       "    .dataframe thead th {\n",
       "        text-align: right;\n",
       "    }\n",
       "</style>\n",
       "<table border=\"1\" class=\"dataframe\">\n",
       "  <thead>\n",
       "    <tr style=\"text-align: right;\">\n",
       "      <th></th>\n",
       "      <th>이름</th>\n",
       "      <th>수학</th>\n",
       "      <th>영어</th>\n",
       "      <th>음악</th>\n",
       "    </tr>\n",
       "  </thead>\n",
       "  <tbody>\n",
       "    <tr>\n",
       "      <th>0</th>\n",
       "      <td>서준</td>\n",
       "      <td>80</td>\n",
       "      <td>98</td>\n",
       "      <td>85</td>\n",
       "    </tr>\n",
       "    <tr>\n",
       "      <th>3</th>\n",
       "      <td>서준</td>\n",
       "      <td>90</td>\n",
       "      <td>80</td>\n",
       "      <td>70</td>\n",
       "    </tr>\n",
       "  </tbody>\n",
       "</table>\n",
       "</div>"
      ],
      "text/plain": [
       "   이름  수학  영어  음악\n",
       "0  서준  80  98  85\n",
       "3  서준  90  80  70"
      ]
     },
     "execution_count": 327,
     "metadata": {},
     "output_type": "execute_result"
    }
   ],
   "source": [
    "df2.loc[df2.이름 == '서준',:]"
   ]
  },
  {
   "cell_type": "code",
   "execution_count": 316,
   "id": "912fbb8f-ae1d-4411-9ad2-e457e4051bf1",
   "metadata": {},
   "outputs": [
    {
     "data": {
      "text/plain": [
       "'1.21.5'"
      ]
     },
     "execution_count": 316,
     "metadata": {},
     "output_type": "execute_result"
    }
   ],
   "source": [
    "pd.__version__\n",
    "np.__version__"
   ]
  },
  {
   "cell_type": "code",
   "execution_count": 317,
   "id": "7dfac56e-0172-49f7-bcc1-79fb023dd701",
   "metadata": {},
   "outputs": [
    {
     "data": {
      "text/plain": [
       "'1.21.5'"
      ]
     },
     "execution_count": 317,
     "metadata": {},
     "output_type": "execute_result"
    }
   ],
   "source": [
    "np.__version__"
   ]
  },
  {
   "cell_type": "code",
   "execution_count": 328,
   "id": "680a66a7-b70a-48bd-a4bc-fcc7107c4c9d",
   "metadata": {},
   "outputs": [],
   "source": [
    "#set_index(내가가기고 있는 컬럼) \n",
    "#reset_index(인덱스컬럼을재변경) --> 인덱스 --> df컬럼변경\n",
    "#reindex(인덱스) => 재할당\n",
    "#df.index = 인덱스 ==>재할당\n",
    "#pd.__version__\n",
    "#np.__version__"
   ]
  },
  {
   "cell_type": "code",
   "execution_count": 330,
   "id": "45de3d4f-fe43-4a7c-b32d-0481e8dc5922",
   "metadata": {},
   "outputs": [
    {
     "data": {
      "text/html": [
       "<div>\n",
       "<style scoped>\n",
       "    .dataframe tbody tr th:only-of-type {\n",
       "        vertical-align: middle;\n",
       "    }\n",
       "\n",
       "    .dataframe tbody tr th {\n",
       "        vertical-align: top;\n",
       "    }\n",
       "\n",
       "    .dataframe thead th {\n",
       "        text-align: right;\n",
       "    }\n",
       "</style>\n",
       "<table border=\"1\" class=\"dataframe\">\n",
       "  <thead>\n",
       "    <tr style=\"text-align: right;\">\n",
       "      <th></th>\n",
       "      <th>01월</th>\n",
       "      <th>02월</th>\n",
       "      <th>03월</th>\n",
       "      <th>04월</th>\n",
       "      <th>05월</th>\n",
       "      <th>06월</th>\n",
       "      <th>07월</th>\n",
       "      <th>08월</th>\n",
       "      <th>09월</th>\n",
       "      <th>10월</th>\n",
       "      <th>11월</th>\n",
       "      <th>12월</th>\n",
       "      <th>total</th>\n",
       "      <th>avg</th>\n",
       "      <th>best_month</th>\n",
       "      <th>worst_month</th>\n",
       "      <th>score</th>\n",
       "    </tr>\n",
       "  </thead>\n",
       "  <tbody>\n",
       "    <tr>\n",
       "      <th>0</th>\n",
       "      <td>95</td>\n",
       "      <td>80</td>\n",
       "      <td>94</td>\n",
       "      <td>99</td>\n",
       "      <td>99</td>\n",
       "      <td>88</td>\n",
       "      <td>83</td>\n",
       "      <td>96</td>\n",
       "      <td>94</td>\n",
       "      <td>62</td>\n",
       "      <td>87</td>\n",
       "      <td>70</td>\n",
       "      <td>1047</td>\n",
       "      <td>87.250000</td>\n",
       "      <td>04월</td>\n",
       "      <td>10월</td>\n",
       "      <td>보통</td>\n",
       "    </tr>\n",
       "    <tr>\n",
       "      <th>1</th>\n",
       "      <td>83</td>\n",
       "      <td>97</td>\n",
       "      <td>84</td>\n",
       "      <td>99</td>\n",
       "      <td>95</td>\n",
       "      <td>90</td>\n",
       "      <td>72</td>\n",
       "      <td>92</td>\n",
       "      <td>83</td>\n",
       "      <td>78</td>\n",
       "      <td>89</td>\n",
       "      <td>85</td>\n",
       "      <td>1047</td>\n",
       "      <td>87.250000</td>\n",
       "      <td>04월</td>\n",
       "      <td>07월</td>\n",
       "      <td>우수</td>\n",
       "    </tr>\n",
       "    <tr>\n",
       "      <th>2</th>\n",
       "      <td>88</td>\n",
       "      <td>90</td>\n",
       "      <td>94</td>\n",
       "      <td>61</td>\n",
       "      <td>86</td>\n",
       "      <td>95</td>\n",
       "      <td>98</td>\n",
       "      <td>99</td>\n",
       "      <td>68</td>\n",
       "      <td>97</td>\n",
       "      <td>98</td>\n",
       "      <td>70</td>\n",
       "      <td>1044</td>\n",
       "      <td>87.000000</td>\n",
       "      <td>08월</td>\n",
       "      <td>04월</td>\n",
       "      <td>보통</td>\n",
       "    </tr>\n",
       "    <tr>\n",
       "      <th>3</th>\n",
       "      <td>73</td>\n",
       "      <td>93</td>\n",
       "      <td>99</td>\n",
       "      <td>78</td>\n",
       "      <td>95</td>\n",
       "      <td>91</td>\n",
       "      <td>90</td>\n",
       "      <td>95</td>\n",
       "      <td>76</td>\n",
       "      <td>70</td>\n",
       "      <td>87</td>\n",
       "      <td>79</td>\n",
       "      <td>1026</td>\n",
       "      <td>85.500000</td>\n",
       "      <td>03월</td>\n",
       "      <td>10월</td>\n",
       "      <td>우수</td>\n",
       "    </tr>\n",
       "    <tr>\n",
       "      <th>4</th>\n",
       "      <td>97</td>\n",
       "      <td>72</td>\n",
       "      <td>64</td>\n",
       "      <td>93</td>\n",
       "      <td>99</td>\n",
       "      <td>96</td>\n",
       "      <td>93</td>\n",
       "      <td>69</td>\n",
       "      <td>87</td>\n",
       "      <td>69</td>\n",
       "      <td>85</td>\n",
       "      <td>97</td>\n",
       "      <td>1021</td>\n",
       "      <td>85.083333</td>\n",
       "      <td>05월</td>\n",
       "      <td>03월</td>\n",
       "      <td>보통</td>\n",
       "    </tr>\n",
       "    <tr>\n",
       "      <th>...</th>\n",
       "      <td>...</td>\n",
       "      <td>...</td>\n",
       "      <td>...</td>\n",
       "      <td>...</td>\n",
       "      <td>...</td>\n",
       "      <td>...</td>\n",
       "      <td>...</td>\n",
       "      <td>...</td>\n",
       "      <td>...</td>\n",
       "      <td>...</td>\n",
       "      <td>...</td>\n",
       "      <td>...</td>\n",
       "      <td>...</td>\n",
       "      <td>...</td>\n",
       "      <td>...</td>\n",
       "      <td>...</td>\n",
       "      <td>...</td>\n",
       "    </tr>\n",
       "    <tr>\n",
       "      <th>96</th>\n",
       "      <td>70</td>\n",
       "      <td>71</td>\n",
       "      <td>84</td>\n",
       "      <td>66</td>\n",
       "      <td>65</td>\n",
       "      <td>62</td>\n",
       "      <td>63</td>\n",
       "      <td>96</td>\n",
       "      <td>94</td>\n",
       "      <td>74</td>\n",
       "      <td>70</td>\n",
       "      <td>76</td>\n",
       "      <td>891</td>\n",
       "      <td>74.250000</td>\n",
       "      <td>08월</td>\n",
       "      <td>06월</td>\n",
       "      <td>아주저조</td>\n",
       "    </tr>\n",
       "    <tr>\n",
       "      <th>97</th>\n",
       "      <td>68</td>\n",
       "      <td>61</td>\n",
       "      <td>82</td>\n",
       "      <td>91</td>\n",
       "      <td>80</td>\n",
       "      <td>99</td>\n",
       "      <td>75</td>\n",
       "      <td>65</td>\n",
       "      <td>68</td>\n",
       "      <td>66</td>\n",
       "      <td>73</td>\n",
       "      <td>61</td>\n",
       "      <td>889</td>\n",
       "      <td>74.083333</td>\n",
       "      <td>06월</td>\n",
       "      <td>02월</td>\n",
       "      <td>아주저조</td>\n",
       "    </tr>\n",
       "    <tr>\n",
       "      <th>98</th>\n",
       "      <td>61</td>\n",
       "      <td>78</td>\n",
       "      <td>72</td>\n",
       "      <td>74</td>\n",
       "      <td>64</td>\n",
       "      <td>67</td>\n",
       "      <td>89</td>\n",
       "      <td>77</td>\n",
       "      <td>66</td>\n",
       "      <td>81</td>\n",
       "      <td>63</td>\n",
       "      <td>81</td>\n",
       "      <td>873</td>\n",
       "      <td>72.750000</td>\n",
       "      <td>07월</td>\n",
       "      <td>01월</td>\n",
       "      <td>저조</td>\n",
       "    </tr>\n",
       "    <tr>\n",
       "      <th>99</th>\n",
       "      <td>71</td>\n",
       "      <td>67</td>\n",
       "      <td>71</td>\n",
       "      <td>89</td>\n",
       "      <td>73</td>\n",
       "      <td>75</td>\n",
       "      <td>60</td>\n",
       "      <td>72</td>\n",
       "      <td>65</td>\n",
       "      <td>82</td>\n",
       "      <td>60</td>\n",
       "      <td>73</td>\n",
       "      <td>858</td>\n",
       "      <td>71.500000</td>\n",
       "      <td>04월</td>\n",
       "      <td>07월</td>\n",
       "      <td>저조</td>\n",
       "    </tr>\n",
       "    <tr>\n",
       "      <th>100</th>\n",
       "      <td>8040</td>\n",
       "      <td>7856</td>\n",
       "      <td>8147</td>\n",
       "      <td>7961</td>\n",
       "      <td>8065</td>\n",
       "      <td>8165</td>\n",
       "      <td>7987</td>\n",
       "      <td>8063</td>\n",
       "      <td>7885</td>\n",
       "      <td>7859</td>\n",
       "      <td>7987</td>\n",
       "      <td>8049</td>\n",
       "      <td>96064</td>\n",
       "      <td>80.053333</td>\n",
       "      <td>04월</td>\n",
       "      <td>04월</td>\n",
       "      <td>보통</td>\n",
       "    </tr>\n",
       "  </tbody>\n",
       "</table>\n",
       "<p>101 rows × 17 columns</p>\n",
       "</div>"
      ],
      "text/plain": [
       "      01월   02월   03월   04월   05월   06월   07월   08월   09월   10월   11월   12월  \\\n",
       "0      95    80    94    99    99    88    83    96    94    62    87    70   \n",
       "1      83    97    84    99    95    90    72    92    83    78    89    85   \n",
       "2      88    90    94    61    86    95    98    99    68    97    98    70   \n",
       "3      73    93    99    78    95    91    90    95    76    70    87    79   \n",
       "4      97    72    64    93    99    96    93    69    87    69    85    97   \n",
       "..    ...   ...   ...   ...   ...   ...   ...   ...   ...   ...   ...   ...   \n",
       "96     70    71    84    66    65    62    63    96    94    74    70    76   \n",
       "97     68    61    82    91    80    99    75    65    68    66    73    61   \n",
       "98     61    78    72    74    64    67    89    77    66    81    63    81   \n",
       "99     71    67    71    89    73    75    60    72    65    82    60    73   \n",
       "100  8040  7856  8147  7961  8065  8165  7987  8063  7885  7859  7987  8049   \n",
       "\n",
       "     total        avg best_month worst_month score  \n",
       "0     1047  87.250000        04월         10월    보통  \n",
       "1     1047  87.250000        04월         07월    우수  \n",
       "2     1044  87.000000        08월         04월    보통  \n",
       "3     1026  85.500000        03월         10월    우수  \n",
       "4     1021  85.083333        05월         03월    보통  \n",
       "..     ...        ...        ...         ...   ...  \n",
       "96     891  74.250000        08월         06월  아주저조  \n",
       "97     889  74.083333        06월         02월  아주저조  \n",
       "98     873  72.750000        07월         01월    저조  \n",
       "99     858  71.500000        04월         07월    저조  \n",
       "100  96064  80.053333        04월         04월    보통  \n",
       "\n",
       "[101 rows x 17 columns]"
      ]
     },
     "execution_count": 330,
     "metadata": {},
     "output_type": "execute_result"
    }
   ],
   "source": [
    "df.reindex()"
   ]
  },
  {
   "cell_type": "code",
   "execution_count": 331,
   "id": "8e0fb3b6-82b7-494c-b0d0-0462b1cf728e",
   "metadata": {},
   "outputs": [],
   "source": [
    "df = df.iloc[np.random.choice(df.index,df.index.size,replace=False),:]"
   ]
  },
  {
   "cell_type": "code",
   "execution_count": 345,
   "id": "c21ef9e4-1f3d-474e-bd9a-5149fe0c294d",
   "metadata": {},
   "outputs": [
    {
     "data": {
      "text/html": [
       "<div>\n",
       "<style scoped>\n",
       "    .dataframe tbody tr th:only-of-type {\n",
       "        vertical-align: middle;\n",
       "    }\n",
       "\n",
       "    .dataframe tbody tr th {\n",
       "        vertical-align: top;\n",
       "    }\n",
       "\n",
       "    .dataframe thead th {\n",
       "        text-align: right;\n",
       "    }\n",
       "</style>\n",
       "<table border=\"1\" class=\"dataframe\">\n",
       "  <thead>\n",
       "    <tr style=\"text-align: right;\">\n",
       "      <th></th>\n",
       "      <th>01월</th>\n",
       "      <th>02월</th>\n",
       "      <th>03월</th>\n",
       "      <th>04월</th>\n",
       "      <th>05월</th>\n",
       "      <th>06월</th>\n",
       "      <th>07월</th>\n",
       "      <th>08월</th>\n",
       "      <th>09월</th>\n",
       "      <th>10월</th>\n",
       "      <th>11월</th>\n",
       "      <th>12월</th>\n",
       "      <th>total</th>\n",
       "      <th>avg</th>\n",
       "      <th>best_month</th>\n",
       "      <th>worst_month</th>\n",
       "      <th>score</th>\n",
       "    </tr>\n",
       "  </thead>\n",
       "  <tbody>\n",
       "    <tr>\n",
       "      <th>0</th>\n",
       "      <td>95</td>\n",
       "      <td>80</td>\n",
       "      <td>94</td>\n",
       "      <td>99</td>\n",
       "      <td>99</td>\n",
       "      <td>88</td>\n",
       "      <td>83</td>\n",
       "      <td>96</td>\n",
       "      <td>94</td>\n",
       "      <td>62</td>\n",
       "      <td>87</td>\n",
       "      <td>70</td>\n",
       "      <td>1047</td>\n",
       "      <td>87.250000</td>\n",
       "      <td>04월</td>\n",
       "      <td>10월</td>\n",
       "      <td>보통</td>\n",
       "    </tr>\n",
       "    <tr>\n",
       "      <th>1</th>\n",
       "      <td>83</td>\n",
       "      <td>97</td>\n",
       "      <td>84</td>\n",
       "      <td>99</td>\n",
       "      <td>95</td>\n",
       "      <td>90</td>\n",
       "      <td>72</td>\n",
       "      <td>92</td>\n",
       "      <td>83</td>\n",
       "      <td>78</td>\n",
       "      <td>89</td>\n",
       "      <td>85</td>\n",
       "      <td>1047</td>\n",
       "      <td>87.250000</td>\n",
       "      <td>04월</td>\n",
       "      <td>07월</td>\n",
       "      <td>우수</td>\n",
       "    </tr>\n",
       "    <tr>\n",
       "      <th>2</th>\n",
       "      <td>88</td>\n",
       "      <td>90</td>\n",
       "      <td>94</td>\n",
       "      <td>61</td>\n",
       "      <td>86</td>\n",
       "      <td>95</td>\n",
       "      <td>98</td>\n",
       "      <td>99</td>\n",
       "      <td>68</td>\n",
       "      <td>97</td>\n",
       "      <td>98</td>\n",
       "      <td>70</td>\n",
       "      <td>1044</td>\n",
       "      <td>87.000000</td>\n",
       "      <td>08월</td>\n",
       "      <td>04월</td>\n",
       "      <td>보통</td>\n",
       "    </tr>\n",
       "    <tr>\n",
       "      <th>3</th>\n",
       "      <td>73</td>\n",
       "      <td>93</td>\n",
       "      <td>99</td>\n",
       "      <td>78</td>\n",
       "      <td>95</td>\n",
       "      <td>91</td>\n",
       "      <td>90</td>\n",
       "      <td>95</td>\n",
       "      <td>76</td>\n",
       "      <td>70</td>\n",
       "      <td>87</td>\n",
       "      <td>79</td>\n",
       "      <td>1026</td>\n",
       "      <td>85.500000</td>\n",
       "      <td>03월</td>\n",
       "      <td>10월</td>\n",
       "      <td>우수</td>\n",
       "    </tr>\n",
       "    <tr>\n",
       "      <th>4</th>\n",
       "      <td>97</td>\n",
       "      <td>72</td>\n",
       "      <td>64</td>\n",
       "      <td>93</td>\n",
       "      <td>99</td>\n",
       "      <td>96</td>\n",
       "      <td>93</td>\n",
       "      <td>69</td>\n",
       "      <td>87</td>\n",
       "      <td>69</td>\n",
       "      <td>85</td>\n",
       "      <td>97</td>\n",
       "      <td>1021</td>\n",
       "      <td>85.083333</td>\n",
       "      <td>05월</td>\n",
       "      <td>03월</td>\n",
       "      <td>보통</td>\n",
       "    </tr>\n",
       "    <tr>\n",
       "      <th>...</th>\n",
       "      <td>...</td>\n",
       "      <td>...</td>\n",
       "      <td>...</td>\n",
       "      <td>...</td>\n",
       "      <td>...</td>\n",
       "      <td>...</td>\n",
       "      <td>...</td>\n",
       "      <td>...</td>\n",
       "      <td>...</td>\n",
       "      <td>...</td>\n",
       "      <td>...</td>\n",
       "      <td>...</td>\n",
       "      <td>...</td>\n",
       "      <td>...</td>\n",
       "      <td>...</td>\n",
       "      <td>...</td>\n",
       "      <td>...</td>\n",
       "    </tr>\n",
       "    <tr>\n",
       "      <th>96</th>\n",
       "      <td>70</td>\n",
       "      <td>71</td>\n",
       "      <td>84</td>\n",
       "      <td>66</td>\n",
       "      <td>65</td>\n",
       "      <td>62</td>\n",
       "      <td>63</td>\n",
       "      <td>96</td>\n",
       "      <td>94</td>\n",
       "      <td>74</td>\n",
       "      <td>70</td>\n",
       "      <td>76</td>\n",
       "      <td>891</td>\n",
       "      <td>74.250000</td>\n",
       "      <td>08월</td>\n",
       "      <td>06월</td>\n",
       "      <td>아주저조</td>\n",
       "    </tr>\n",
       "    <tr>\n",
       "      <th>97</th>\n",
       "      <td>68</td>\n",
       "      <td>61</td>\n",
       "      <td>82</td>\n",
       "      <td>91</td>\n",
       "      <td>80</td>\n",
       "      <td>99</td>\n",
       "      <td>75</td>\n",
       "      <td>65</td>\n",
       "      <td>68</td>\n",
       "      <td>66</td>\n",
       "      <td>73</td>\n",
       "      <td>61</td>\n",
       "      <td>889</td>\n",
       "      <td>74.083333</td>\n",
       "      <td>06월</td>\n",
       "      <td>02월</td>\n",
       "      <td>아주저조</td>\n",
       "    </tr>\n",
       "    <tr>\n",
       "      <th>98</th>\n",
       "      <td>61</td>\n",
       "      <td>78</td>\n",
       "      <td>72</td>\n",
       "      <td>74</td>\n",
       "      <td>64</td>\n",
       "      <td>67</td>\n",
       "      <td>89</td>\n",
       "      <td>77</td>\n",
       "      <td>66</td>\n",
       "      <td>81</td>\n",
       "      <td>63</td>\n",
       "      <td>81</td>\n",
       "      <td>873</td>\n",
       "      <td>72.750000</td>\n",
       "      <td>07월</td>\n",
       "      <td>01월</td>\n",
       "      <td>저조</td>\n",
       "    </tr>\n",
       "    <tr>\n",
       "      <th>99</th>\n",
       "      <td>71</td>\n",
       "      <td>67</td>\n",
       "      <td>71</td>\n",
       "      <td>89</td>\n",
       "      <td>73</td>\n",
       "      <td>75</td>\n",
       "      <td>60</td>\n",
       "      <td>72</td>\n",
       "      <td>65</td>\n",
       "      <td>82</td>\n",
       "      <td>60</td>\n",
       "      <td>73</td>\n",
       "      <td>858</td>\n",
       "      <td>71.500000</td>\n",
       "      <td>04월</td>\n",
       "      <td>07월</td>\n",
       "      <td>저조</td>\n",
       "    </tr>\n",
       "    <tr>\n",
       "      <th>100</th>\n",
       "      <td>8040</td>\n",
       "      <td>7856</td>\n",
       "      <td>8147</td>\n",
       "      <td>7961</td>\n",
       "      <td>8065</td>\n",
       "      <td>8165</td>\n",
       "      <td>7987</td>\n",
       "      <td>8063</td>\n",
       "      <td>7885</td>\n",
       "      <td>7859</td>\n",
       "      <td>7987</td>\n",
       "      <td>8049</td>\n",
       "      <td>96064</td>\n",
       "      <td>80.053333</td>\n",
       "      <td>04월</td>\n",
       "      <td>04월</td>\n",
       "      <td>보통</td>\n",
       "    </tr>\n",
       "  </tbody>\n",
       "</table>\n",
       "<p>101 rows × 17 columns</p>\n",
       "</div>"
      ],
      "text/plain": [
       "      01월   02월   03월   04월   05월   06월   07월   08월   09월   10월   11월   12월  \\\n",
       "0      95    80    94    99    99    88    83    96    94    62    87    70   \n",
       "1      83    97    84    99    95    90    72    92    83    78    89    85   \n",
       "2      88    90    94    61    86    95    98    99    68    97    98    70   \n",
       "3      73    93    99    78    95    91    90    95    76    70    87    79   \n",
       "4      97    72    64    93    99    96    93    69    87    69    85    97   \n",
       "..    ...   ...   ...   ...   ...   ...   ...   ...   ...   ...   ...   ...   \n",
       "96     70    71    84    66    65    62    63    96    94    74    70    76   \n",
       "97     68    61    82    91    80    99    75    65    68    66    73    61   \n",
       "98     61    78    72    74    64    67    89    77    66    81    63    81   \n",
       "99     71    67    71    89    73    75    60    72    65    82    60    73   \n",
       "100  8040  7856  8147  7961  8065  8165  7987  8063  7885  7859  7987  8049   \n",
       "\n",
       "     total        avg best_month worst_month score  \n",
       "0     1047  87.250000        04월         10월    보통  \n",
       "1     1047  87.250000        04월         07월    우수  \n",
       "2     1044  87.000000        08월         04월    보통  \n",
       "3     1026  85.500000        03월         10월    우수  \n",
       "4     1021  85.083333        05월         03월    보통  \n",
       "..     ...        ...        ...         ...   ...  \n",
       "96     891  74.250000        08월         06월  아주저조  \n",
       "97     889  74.083333        06월         02월  아주저조  \n",
       "98     873  72.750000        07월         01월    저조  \n",
       "99     858  71.500000        04월         07월    저조  \n",
       "100  96064  80.053333        04월         04월    보통  \n",
       "\n",
       "[101 rows x 17 columns]"
      ]
     },
     "execution_count": 345,
     "metadata": {},
     "output_type": "execute_result"
    }
   ],
   "source": [
    "df.sort_index()"
   ]
  },
  {
   "cell_type": "markdown",
   "id": "aa658d8d-2c89-4903-a6a2-9177fb37527b",
   "metadata": {},
   "source": [
    "# 판다스 산술연산 시리즈연산"
   ]
  },
  {
   "cell_type": "code",
   "execution_count": 18,
   "id": "b6c59410-8377-4a61-967c-5d87f2d29557",
   "metadata": {},
   "outputs": [],
   "source": [
    "import numpy as np\n",
    "import pandas as pd"
   ]
  },
  {
   "cell_type": "code",
   "execution_count": 19,
   "id": "9d092c67-eae2-450d-b043-02ba037c968e",
   "metadata": {},
   "outputs": [],
   "source": [
    "dic = {\n",
    "    0:1,\n",
    "    1:2,\n",
    "    2:3,\n",
    "}\n",
    "s1 = pd.Series(dic)"
   ]
  },
  {
   "cell_type": "code",
   "execution_count": 20,
   "id": "d516406d-2509-4611-b977-ce70743c5bcf",
   "metadata": {},
   "outputs": [
    {
     "data": {
      "text/plain": [
       "2    1\n",
       "3    2\n",
       "4    3\n",
       "dtype: int64"
      ]
     },
     "execution_count": 20,
     "metadata": {},
     "output_type": "execute_result"
    }
   ],
   "source": [
    "s2 = s1.copy()\n",
    "s2.index = [2,3,4]\n",
    "s2"
   ]
  },
  {
   "cell_type": "code",
   "execution_count": 21,
   "id": "e19c9690-d491-4fe9-b86c-092f2eaf8491",
   "metadata": {},
   "outputs": [
    {
     "data": {
      "text/plain": [
       "array([1, 2, 3], dtype=int64)"
      ]
     },
     "execution_count": 21,
     "metadata": {},
     "output_type": "execute_result"
    }
   ],
   "source": [
    "s1.values"
   ]
  },
  {
   "cell_type": "code",
   "execution_count": 22,
   "id": "f69e4a9d-2aaf-4129-8204-87936c43a47f",
   "metadata": {},
   "outputs": [
    {
     "data": {
      "text/plain": [
       "array([2, 4, 6], dtype=int64)"
      ]
     },
     "execution_count": 22,
     "metadata": {},
     "output_type": "execute_result"
    }
   ],
   "source": [
    "s1.values + s2.values"
   ]
  },
  {
   "cell_type": "code",
   "execution_count": 23,
   "id": "7527fd39-70ff-49df-883d-b77e9d86eed6",
   "metadata": {},
   "outputs": [
    {
     "data": {
      "text/plain": [
       "0    NaN\n",
       "1    NaN\n",
       "2    4.0\n",
       "3    NaN\n",
       "4    NaN\n",
       "dtype: float64"
      ]
     },
     "execution_count": 23,
     "metadata": {},
     "output_type": "execute_result"
    }
   ],
   "source": [
    "s1 + s2"
   ]
  },
  {
   "cell_type": "code",
   "execution_count": 24,
   "id": "0e969d26-1346-4095-80f8-d4fa8b1c4d0d",
   "metadata": {},
   "outputs": [],
   "source": [
    "df1 = pd.DataFrame(np.arange(1,5).reshape(2,2))\n",
    "df2 = pd.DataFrame(np.arange(5,9).reshape(2,2))"
   ]
  },
  {
   "cell_type": "code",
   "execution_count": 26,
   "id": "5021b548-e0ea-4aca-9aec-21ad4eb19a29",
   "metadata": {},
   "outputs": [
    {
     "name": "stdout",
     "output_type": "stream",
     "text": [
      "   0  1\n",
      "0  1  2\n",
      "1  3  4\n",
      "=====\n",
      "   0  1\n",
      "0  5  6\n",
      "1  7  8\n"
     ]
    },
    {
     "data": {
      "text/html": [
       "<div>\n",
       "<style scoped>\n",
       "    .dataframe tbody tr th:only-of-type {\n",
       "        vertical-align: middle;\n",
       "    }\n",
       "\n",
       "    .dataframe tbody tr th {\n",
       "        vertical-align: top;\n",
       "    }\n",
       "\n",
       "    .dataframe thead th {\n",
       "        text-align: right;\n",
       "    }\n",
       "</style>\n",
       "<table border=\"1\" class=\"dataframe\">\n",
       "  <thead>\n",
       "    <tr style=\"text-align: right;\">\n",
       "      <th></th>\n",
       "      <th>0</th>\n",
       "      <th>1</th>\n",
       "    </tr>\n",
       "  </thead>\n",
       "  <tbody>\n",
       "    <tr>\n",
       "      <th>0</th>\n",
       "      <td>6</td>\n",
       "      <td>8</td>\n",
       "    </tr>\n",
       "    <tr>\n",
       "      <th>1</th>\n",
       "      <td>10</td>\n",
       "      <td>12</td>\n",
       "    </tr>\n",
       "  </tbody>\n",
       "</table>\n",
       "</div>"
      ],
      "text/plain": [
       "    0   1\n",
       "0   6   8\n",
       "1  10  12"
      ]
     },
     "execution_count": 26,
     "metadata": {},
     "output_type": "execute_result"
    }
   ],
   "source": [
    "print(df1)\n",
    "print('=====')\n",
    "print(df2)\n",
    "df1+df2"
   ]
  },
  {
   "cell_type": "code",
   "execution_count": 27,
   "id": "f603b39c-d130-4580-b451-505851845758",
   "metadata": {},
   "outputs": [],
   "source": [
    "df1.columns = ['a','b']\n",
    "df2.columns = ['b','a']"
   ]
  },
  {
   "cell_type": "code",
   "execution_count": 28,
   "id": "63c2451d-3071-4152-af2a-447555d21f9a",
   "metadata": {},
   "outputs": [
    {
     "name": "stdout",
     "output_type": "stream",
     "text": [
      "   a  b\n",
      "0  1  2\n",
      "1  3  4\n",
      "=======\n",
      "   b  a\n",
      "0  5  6\n",
      "1  7  8\n"
     ]
    },
    {
     "data": {
      "text/html": [
       "<div>\n",
       "<style scoped>\n",
       "    .dataframe tbody tr th:only-of-type {\n",
       "        vertical-align: middle;\n",
       "    }\n",
       "\n",
       "    .dataframe tbody tr th {\n",
       "        vertical-align: top;\n",
       "    }\n",
       "\n",
       "    .dataframe thead th {\n",
       "        text-align: right;\n",
       "    }\n",
       "</style>\n",
       "<table border=\"1\" class=\"dataframe\">\n",
       "  <thead>\n",
       "    <tr style=\"text-align: right;\">\n",
       "      <th></th>\n",
       "      <th>a</th>\n",
       "      <th>b</th>\n",
       "    </tr>\n",
       "  </thead>\n",
       "  <tbody>\n",
       "    <tr>\n",
       "      <th>0</th>\n",
       "      <td>7</td>\n",
       "      <td>7</td>\n",
       "    </tr>\n",
       "    <tr>\n",
       "      <th>1</th>\n",
       "      <td>11</td>\n",
       "      <td>11</td>\n",
       "    </tr>\n",
       "  </tbody>\n",
       "</table>\n",
       "</div>"
      ],
      "text/plain": [
       "    a   b\n",
       "0   7   7\n",
       "1  11  11"
      ]
     },
     "execution_count": 28,
     "metadata": {},
     "output_type": "execute_result"
    }
   ],
   "source": [
    "print(df1)\n",
    "print(\"=======\")\n",
    "print(df2)\n",
    "df1+df2"
   ]
  },
  {
   "cell_type": "code",
   "execution_count": 29,
   "id": "94bcd796-b4e0-43bb-b086-dd90bd15d2e9",
   "metadata": {},
   "outputs": [
    {
     "data": {
      "text/html": [
       "<div>\n",
       "<style scoped>\n",
       "    .dataframe tbody tr th:only-of-type {\n",
       "        vertical-align: middle;\n",
       "    }\n",
       "\n",
       "    .dataframe tbody tr th {\n",
       "        vertical-align: top;\n",
       "    }\n",
       "\n",
       "    .dataframe thead th {\n",
       "        text-align: right;\n",
       "    }\n",
       "</style>\n",
       "<table border=\"1\" class=\"dataframe\">\n",
       "  <thead>\n",
       "    <tr style=\"text-align: right;\">\n",
       "      <th></th>\n",
       "      <th>a</th>\n",
       "      <th>b</th>\n",
       "      <th>c</th>\n",
       "      <th>d</th>\n",
       "    </tr>\n",
       "  </thead>\n",
       "  <tbody>\n",
       "    <tr>\n",
       "      <th>0</th>\n",
       "      <td>NaN</td>\n",
       "      <td>NaN</td>\n",
       "      <td>NaN</td>\n",
       "      <td>NaN</td>\n",
       "    </tr>\n",
       "    <tr>\n",
       "      <th>1</th>\n",
       "      <td>NaN</td>\n",
       "      <td>NaN</td>\n",
       "      <td>NaN</td>\n",
       "      <td>NaN</td>\n",
       "    </tr>\n",
       "  </tbody>\n",
       "</table>\n",
       "</div>"
      ],
      "text/plain": [
       "    a   b   c   d\n",
       "0 NaN NaN NaN NaN\n",
       "1 NaN NaN NaN NaN"
      ]
     },
     "execution_count": 29,
     "metadata": {},
     "output_type": "execute_result"
    }
   ],
   "source": [
    "df2.columns = ['c','d']\n",
    "(df1 + df2).shape\n",
    "df1+df2"
   ]
  },
  {
   "cell_type": "code",
   "execution_count": 30,
   "id": "7d425b8b-dd63-467b-86aa-c6626530430c",
   "metadata": {},
   "outputs": [
    {
     "data": {
      "text/html": [
       "<div>\n",
       "<style scoped>\n",
       "    .dataframe tbody tr th:only-of-type {\n",
       "        vertical-align: middle;\n",
       "    }\n",
       "\n",
       "    .dataframe tbody tr th {\n",
       "        vertical-align: top;\n",
       "    }\n",
       "\n",
       "    .dataframe thead th {\n",
       "        text-align: right;\n",
       "    }\n",
       "</style>\n",
       "<table border=\"1\" class=\"dataframe\">\n",
       "  <thead>\n",
       "    <tr style=\"text-align: right;\">\n",
       "      <th></th>\n",
       "      <th>a</th>\n",
       "      <th>b</th>\n",
       "      <th>c</th>\n",
       "      <th>d</th>\n",
       "    </tr>\n",
       "  </thead>\n",
       "  <tbody>\n",
       "    <tr>\n",
       "      <th>0</th>\n",
       "      <td>NaN</td>\n",
       "      <td>NaN</td>\n",
       "      <td>NaN</td>\n",
       "      <td>NaN</td>\n",
       "    </tr>\n",
       "    <tr>\n",
       "      <th>1</th>\n",
       "      <td>NaN</td>\n",
       "      <td>NaN</td>\n",
       "      <td>NaN</td>\n",
       "      <td>NaN</td>\n",
       "    </tr>\n",
       "    <tr>\n",
       "      <th>2</th>\n",
       "      <td>NaN</td>\n",
       "      <td>NaN</td>\n",
       "      <td>NaN</td>\n",
       "      <td>NaN</td>\n",
       "    </tr>\n",
       "    <tr>\n",
       "      <th>3</th>\n",
       "      <td>NaN</td>\n",
       "      <td>NaN</td>\n",
       "      <td>NaN</td>\n",
       "      <td>NaN</td>\n",
       "    </tr>\n",
       "  </tbody>\n",
       "</table>\n",
       "</div>"
      ],
      "text/plain": [
       "    a   b   c   d\n",
       "0 NaN NaN NaN NaN\n",
       "1 NaN NaN NaN NaN\n",
       "2 NaN NaN NaN NaN\n",
       "3 NaN NaN NaN NaN"
      ]
     },
     "execution_count": 30,
     "metadata": {},
     "output_type": "execute_result"
    }
   ],
   "source": [
    "df2.index = [2,3]\n",
    "(df1+df2).shape\n",
    "df1+df2"
   ]
  },
  {
   "cell_type": "code",
   "execution_count": 31,
   "id": "5d02fba9-c0a9-4346-bdeb-bb8380390652",
   "metadata": {},
   "outputs": [
    {
     "data": {
      "text/plain": [
       "0    0.0\n",
       "1    0.0\n",
       "2    4.0\n",
       "3    0.0\n",
       "4    0.0\n",
       "dtype: float64"
      ]
     },
     "execution_count": 31,
     "metadata": {},
     "output_type": "execute_result"
    }
   ],
   "source": [
    "(s1+s2).fillna(0)"
   ]
  },
  {
   "cell_type": "code",
   "execution_count": 32,
   "id": "5b71e8fe-9abe-44e5-a1a3-6d9d682a58ef",
   "metadata": {},
   "outputs": [
    {
     "data": {
      "text/plain": [
       "0    1.0\n",
       "1    2.0\n",
       "2    4.0\n",
       "3    2.0\n",
       "4    3.0\n",
       "dtype: float64"
      ]
     },
     "execution_count": 32,
     "metadata": {},
     "output_type": "execute_result"
    }
   ],
   "source": [
    "s1.add(s2,fill_value=0)"
   ]
  },
  {
   "cell_type": "code",
   "execution_count": 33,
   "id": "04372f29-28ae-4ef6-b9ec-820c9bda170b",
   "metadata": {},
   "outputs": [
    {
     "data": {
      "text/plain": [
       "0    0.0\n",
       "1    0.0\n",
       "2    4.0\n",
       "3    0.0\n",
       "4    0.0\n",
       "dtype: float64"
      ]
     },
     "execution_count": 33,
     "metadata": {},
     "output_type": "execute_result"
    }
   ],
   "source": [
    "(s1+s2).fillna(0)"
   ]
  },
  {
   "cell_type": "code",
   "execution_count": 36,
   "id": "f76a7ab0-5f5f-4c5a-b346-d25926fe93e0",
   "metadata": {},
   "outputs": [],
   "source": [
    "df = pd.read_csv('train.csv')"
   ]
  },
  {
   "cell_type": "code",
   "execution_count": 37,
   "id": "e4709d4f-3351-4789-90ff-26b9e716242a",
   "metadata": {},
   "outputs": [],
   "source": [
    "df.to_csv('titanic.csv')"
   ]
  },
  {
   "cell_type": "code",
   "execution_count": 1,
   "id": "0c5d445d-b73c-454b-9a58-7b9f805be514",
   "metadata": {},
   "outputs": [],
   "source": [
    "import openpyxl"
   ]
  },
  {
   "cell_type": "code",
   "execution_count": 2,
   "id": "c6bb02dd-00a9-45d7-afad-8ac06d702eb9",
   "metadata": {},
   "outputs": [
    {
     "ename": "FileNotFoundError",
     "evalue": "[Errno 2] No such file or directory: 'test.xlsx'",
     "output_type": "error",
     "traceback": [
      "\u001b[1;31m---------------------------------------------------------------------------\u001b[0m",
      "\u001b[1;31mFileNotFoundError\u001b[0m                         Traceback (most recent call last)",
      "\u001b[1;32m~\\AppData\\Local\\Temp\\ipykernel_9052\\102240881.py\u001b[0m in \u001b[0;36m<module>\u001b[1;34m\u001b[0m\n\u001b[1;32m----> 1\u001b[1;33m \u001b[0mwb\u001b[0m \u001b[1;33m=\u001b[0m \u001b[0mopenpyxl\u001b[0m\u001b[1;33m.\u001b[0m\u001b[0mload_workbook\u001b[0m\u001b[1;33m(\u001b[0m\u001b[1;34m'test.xlsx'\u001b[0m\u001b[1;33m)\u001b[0m\u001b[1;33m\u001b[0m\u001b[1;33m\u001b[0m\u001b[0m\n\u001b[0m",
      "\u001b[1;32m~\\anaconda3\\lib\\site-packages\\openpyxl\\reader\\excel.py\u001b[0m in \u001b[0;36mload_workbook\u001b[1;34m(filename, read_only, keep_vba, data_only, keep_links)\u001b[0m\n\u001b[0;32m    313\u001b[0m \u001b[1;33m\u001b[0m\u001b[0m\n\u001b[0;32m    314\u001b[0m     \"\"\"\n\u001b[1;32m--> 315\u001b[1;33m     reader = ExcelReader(filename, read_only, keep_vba,\n\u001b[0m\u001b[0;32m    316\u001b[0m                         data_only, keep_links)\n\u001b[0;32m    317\u001b[0m     \u001b[0mreader\u001b[0m\u001b[1;33m.\u001b[0m\u001b[0mread\u001b[0m\u001b[1;33m(\u001b[0m\u001b[1;33m)\u001b[0m\u001b[1;33m\u001b[0m\u001b[1;33m\u001b[0m\u001b[0m\n",
      "\u001b[1;32m~\\anaconda3\\lib\\site-packages\\openpyxl\\reader\\excel.py\u001b[0m in \u001b[0;36m__init__\u001b[1;34m(self, fn, read_only, keep_vba, data_only, keep_links)\u001b[0m\n\u001b[0;32m    122\u001b[0m     def __init__(self,  fn, read_only=False, keep_vba=KEEP_VBA,\n\u001b[0;32m    123\u001b[0m                   data_only=False, keep_links=True):\n\u001b[1;32m--> 124\u001b[1;33m         \u001b[0mself\u001b[0m\u001b[1;33m.\u001b[0m\u001b[0marchive\u001b[0m \u001b[1;33m=\u001b[0m \u001b[0m_validate_archive\u001b[0m\u001b[1;33m(\u001b[0m\u001b[0mfn\u001b[0m\u001b[1;33m)\u001b[0m\u001b[1;33m\u001b[0m\u001b[1;33m\u001b[0m\u001b[0m\n\u001b[0m\u001b[0;32m    125\u001b[0m         \u001b[0mself\u001b[0m\u001b[1;33m.\u001b[0m\u001b[0mvalid_files\u001b[0m \u001b[1;33m=\u001b[0m \u001b[0mself\u001b[0m\u001b[1;33m.\u001b[0m\u001b[0marchive\u001b[0m\u001b[1;33m.\u001b[0m\u001b[0mnamelist\u001b[0m\u001b[1;33m(\u001b[0m\u001b[1;33m)\u001b[0m\u001b[1;33m\u001b[0m\u001b[1;33m\u001b[0m\u001b[0m\n\u001b[0;32m    126\u001b[0m         \u001b[0mself\u001b[0m\u001b[1;33m.\u001b[0m\u001b[0mread_only\u001b[0m \u001b[1;33m=\u001b[0m \u001b[0mread_only\u001b[0m\u001b[1;33m\u001b[0m\u001b[1;33m\u001b[0m\u001b[0m\n",
      "\u001b[1;32m~\\anaconda3\\lib\\site-packages\\openpyxl\\reader\\excel.py\u001b[0m in \u001b[0;36m_validate_archive\u001b[1;34m(filename)\u001b[0m\n\u001b[0;32m     94\u001b[0m             \u001b[1;32mraise\u001b[0m \u001b[0mInvalidFileException\u001b[0m\u001b[1;33m(\u001b[0m\u001b[0mmsg\u001b[0m\u001b[1;33m)\u001b[0m\u001b[1;33m\u001b[0m\u001b[1;33m\u001b[0m\u001b[0m\n\u001b[0;32m     95\u001b[0m \u001b[1;33m\u001b[0m\u001b[0m\n\u001b[1;32m---> 96\u001b[1;33m     \u001b[0marchive\u001b[0m \u001b[1;33m=\u001b[0m \u001b[0mZipFile\u001b[0m\u001b[1;33m(\u001b[0m\u001b[0mfilename\u001b[0m\u001b[1;33m,\u001b[0m \u001b[1;34m'r'\u001b[0m\u001b[1;33m)\u001b[0m\u001b[1;33m\u001b[0m\u001b[1;33m\u001b[0m\u001b[0m\n\u001b[0m\u001b[0;32m     97\u001b[0m     \u001b[1;32mreturn\u001b[0m \u001b[0marchive\u001b[0m\u001b[1;33m\u001b[0m\u001b[1;33m\u001b[0m\u001b[0m\n\u001b[0;32m     98\u001b[0m \u001b[1;33m\u001b[0m\u001b[0m\n",
      "\u001b[1;32m~\\anaconda3\\lib\\zipfile.py\u001b[0m in \u001b[0;36m__init__\u001b[1;34m(self, file, mode, compression, allowZip64, compresslevel, strict_timestamps)\u001b[0m\n\u001b[0;32m   1246\u001b[0m             \u001b[1;32mwhile\u001b[0m \u001b[1;32mTrue\u001b[0m\u001b[1;33m:\u001b[0m\u001b[1;33m\u001b[0m\u001b[1;33m\u001b[0m\u001b[0m\n\u001b[0;32m   1247\u001b[0m                 \u001b[1;32mtry\u001b[0m\u001b[1;33m:\u001b[0m\u001b[1;33m\u001b[0m\u001b[1;33m\u001b[0m\u001b[0m\n\u001b[1;32m-> 1248\u001b[1;33m                     \u001b[0mself\u001b[0m\u001b[1;33m.\u001b[0m\u001b[0mfp\u001b[0m \u001b[1;33m=\u001b[0m \u001b[0mio\u001b[0m\u001b[1;33m.\u001b[0m\u001b[0mopen\u001b[0m\u001b[1;33m(\u001b[0m\u001b[0mfile\u001b[0m\u001b[1;33m,\u001b[0m \u001b[0mfilemode\u001b[0m\u001b[1;33m)\u001b[0m\u001b[1;33m\u001b[0m\u001b[1;33m\u001b[0m\u001b[0m\n\u001b[0m\u001b[0;32m   1249\u001b[0m                 \u001b[1;32mexcept\u001b[0m \u001b[0mOSError\u001b[0m\u001b[1;33m:\u001b[0m\u001b[1;33m\u001b[0m\u001b[1;33m\u001b[0m\u001b[0m\n\u001b[0;32m   1250\u001b[0m                     \u001b[1;32mif\u001b[0m \u001b[0mfilemode\u001b[0m \u001b[1;32min\u001b[0m \u001b[0mmodeDict\u001b[0m\u001b[1;33m:\u001b[0m\u001b[1;33m\u001b[0m\u001b[1;33m\u001b[0m\u001b[0m\n",
      "\u001b[1;31mFileNotFoundError\u001b[0m: [Errno 2] No such file or directory: 'test.xlsx'"
     ]
    }
   ],
   "source": [
    "wb = openpyxl.load_workbook('test.xlsx')"
   ]
  },
  {
   "cell_type": "markdown",
   "id": "4a662319-8c03-4cf1-ac09-91d6d09e7399",
   "metadata": {},
   "source": [
    "import sys\""
   ]
  },
  {
   "cell_type": "code",
   "execution_count": 4,
   "id": "f2845116-1059-46b6-a53a-903a20e41f66",
   "metadata": {},
   "outputs": [],
   "source": [
    "# 다른파일 불러 오는거 나중에 해보죠"
   ]
  },
  {
   "cell_type": "code",
   "execution_count": 5,
   "id": "85325143-44f6-4bce-a28d-6d6c2db53315",
   "metadata": {},
   "outputs": [
    {
     "ename": "NameError",
     "evalue": "name 'df' is not defined",
     "output_type": "error",
     "traceback": [
      "\u001b[1;31m---------------------------------------------------------------------------\u001b[0m",
      "\u001b[1;31mNameError\u001b[0m                                 Traceback (most recent call last)",
      "\u001b[1;32m~\\AppData\\Local\\Temp\\ipykernel_9052\\3627053830.py\u001b[0m in \u001b[0;36m<module>\u001b[1;34m\u001b[0m\n\u001b[1;32m----> 1\u001b[1;33m \u001b[0mdf\u001b[0m\u001b[1;33m.\u001b[0m\u001b[0mdescribe\u001b[0m\u001b[1;33m(\u001b[0m\u001b[1;33m)\u001b[0m\u001b[1;33m\u001b[0m\u001b[1;33m\u001b[0m\u001b[0m\n\u001b[0m",
      "\u001b[1;31mNameError\u001b[0m: name 'df' is not defined"
     ]
    }
   ],
   "source": [
    "df.describe()"
   ]
  },
  {
   "cell_type": "code",
   "execution_count": null,
   "id": "90d5dfac-d74a-4954-b780-518ea00e573d",
   "metadata": {},
   "outputs": [],
   "source": [
    "import"
   ]
  }
 ],
 "metadata": {
  "kernelspec": {
   "display_name": "yuuni",
   "language": "python",
   "name": "yuuni"
  },
  "language_info": {
   "codemirror_mode": {
    "name": "ipython",
    "version": 3
   },
   "file_extension": ".py",
   "mimetype": "text/x-python",
   "name": "python",
   "nbconvert_exporter": "python",
   "pygments_lexer": "ipython3",
   "version": "3.9.13"
  }
 },
 "nbformat": 4,
 "nbformat_minor": 5
}
