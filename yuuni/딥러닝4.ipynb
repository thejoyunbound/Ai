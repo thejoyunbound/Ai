{
 "cells": [
  {
   "cell_type": "code",
   "execution_count": 1,
   "id": "cdaccc78-b413-47b9-8210-3393beb55a75",
   "metadata": {},
   "outputs": [
    {
     "name": "stdout",
     "output_type": "stream",
     "text": [
      "Model: \"sequential\"\n",
      "_________________________________________________________________\n",
      " Layer (type)                Output Shape              Param #   \n",
      "=================================================================\n",
      " embedding (Embedding)       (None, 21, 200)           3341200   \n",
      "                                                                 \n",
      " lstm (LSTM)                 (None, 21, 32)            29824     \n",
      "                                                                 \n",
      " batch_normalization (BatchN  (None, 21, 32)           128       \n",
      " ormalization)                                                   \n",
      "                                                                 \n",
      " lstm_1 (LSTM)               (None, 21, 64)            24832     \n",
      "                                                                 \n",
      " batch_normalization_1 (Batc  (None, 21, 64)           256       \n",
      " hNormalization)                                                 \n",
      "                                                                 \n",
      " flatten (Flatten)           (None, 1344)              0         \n",
      "                                                                 \n",
      " dense (Dense)               (None, 256)               344320    \n",
      "                                                                 \n",
      " dense_1 (Dense)             (None, 117)               30069     \n",
      "                                                                 \n",
      "=================================================================\n",
      "Total params: 3,770,629\n",
      "Trainable params: 3,770,437\n",
      "Non-trainable params: 192\n",
      "_________________________________________________________________\n",
      "Epoch 1/10\n",
      "3130/3130 [==============================] - 144s 44ms/step - loss: 1.5566 - accuracy: 0.6570 - val_loss: 1.2599 - val_accuracy: 0.7221\n",
      "Epoch 2/10\n",
      "3130/3130 [==============================] - 152s 49ms/step - loss: 1.0252 - accuracy: 0.7625 - val_loss: 1.0604 - val_accuracy: 0.7596\n",
      "Epoch 3/10\n",
      "3130/3130 [==============================] - 153s 49ms/step - loss: 0.8786 - accuracy: 0.7916 - val_loss: 1.0507 - val_accuracy: 0.7696\n",
      "Epoch 4/10\n",
      "3130/3130 [==============================] - 154s 49ms/step - loss: 0.7797 - accuracy: 0.8109 - val_loss: 1.0018 - val_accuracy: 0.7725\n",
      "Epoch 5/10\n",
      "3130/3130 [==============================] - 152s 49ms/step - loss: 0.7043 - accuracy: 0.8259 - val_loss: 0.9474 - val_accuracy: 0.7837\n",
      "Epoch 6/10\n",
      "3130/3130 [==============================] - 154s 49ms/step - loss: 0.6471 - accuracy: 0.8382 - val_loss: 0.9665 - val_accuracy: 0.7805\n",
      "Epoch 7/10\n",
      "3130/3130 [==============================] - 158s 51ms/step - loss: 0.6074 - accuracy: 0.8463 - val_loss: 0.9118 - val_accuracy: 0.7894\n",
      "Epoch 8/10\n",
      "3130/3130 [==============================] - 153s 49ms/step - loss: 0.5782 - accuracy: 0.8527 - val_loss: 0.9497 - val_accuracy: 0.7899\n",
      "Epoch 9/10\n",
      "3130/3130 [==============================] - 156s 50ms/step - loss: 0.5569 - accuracy: 0.8570 - val_loss: 1.0214 - val_accuracy: 0.7896\n",
      "Epoch 10/10\n",
      "3130/3130 [==============================] - 144s 46ms/step - loss: 0.5426 - accuracy: 0.8619 - val_loss: 1.0323 - val_accuracy: 0.7799\n"
     ]
    },
    {
     "data": {
      "text/plain": [
       "<keras.callbacks.History at 0x17315dba130>"
      ]
     },
     "execution_count": 1,
     "metadata": {},
     "output_type": "execute_result"
    }
   ],
   "source": [
    "import numpy as np\n",
    "import pandas as pd\n",
    "from konlpy.tag import Okt, Kkma, Komoran\n",
    "from tensorflow.keras.utils import pad_sequences, to_categorical\n",
    "\n",
    "df = pd.read_csv('kedi.csv',encoding='cp949')\n",
    "\n",
    "#독립변수, 종속변수\n",
    "X = df.프로그램명\n",
    "y = df.소분류\n",
    "\n",
    "# 형태소 분석기 \n",
    "okt = Okt()\n",
    "\n",
    "X = X.apply(okt.nouns)\n",
    "\n",
    "## 문자를 숫자로 바꾸는 작업\n",
    "# 1. 유니크한 값을 정리\n",
    "word_list_x = []\n",
    "for x in X:\n",
    "    word_list_x.extend(x)\n",
    "word_list_x = list(set(word_list_x))\n",
    "# 2. index_word 구성된 딕셔너리 작성 (dictionary comprehention)\n",
    "index_word_x = { i+1:v for i,v in enumerate(word_list_x)}\n",
    "# 3. word_index 구성된 딕셔너리 작성\n",
    "word_index_x = { v:i for i,v in index_word_x.items()}\n",
    "\n",
    "# word들을 정수로 변환\n",
    "def trans_word_index(x):\n",
    "    tmp = []\n",
    "    for i in x:\n",
    "        tmp.append(word_index_x[i])\n",
    "    return tmp\n",
    "def trans_index_word(x):\n",
    "    tmp = []\n",
    "    for i in x:\n",
    "        tmp.append(index_word_x[i])\n",
    "        return tmp\n",
    "\n",
    "X_ = X.apply(trans_word_index)\n",
    "\n",
    "maxlen = X_.apply(len).max()\n",
    "X_ = X_.values\n",
    "\n",
    "X_ = pad_sequences(X_,maxlen=maxlen)\n",
    "\n",
    "word_list_y = []\n",
    "for i in y:\n",
    "    word_list_y.extend([i])\n",
    "word_list_y = list(set(word_list_y))\n",
    "\n",
    "index_word_y = { i:v for i, v in enumerate(word_list_y)}\n",
    "word_index_y = { v:i for i,v in index_word_y.items()}\n",
    "\n",
    "def trans_y(x):\n",
    "    return word_index_y[x]\n",
    "y_ = y.apply(trans_y)\n",
    "\n",
    "y_ = to_categorical(y_)\n",
    "\n",
    "X_.shape, y_.shape\n",
    "\n",
    "### 모델 생성을 위한 모듈 import\n",
    "from tensorflow.keras.models import Sequential\n",
    "from tensorflow.keras.layers import Embedding, Flatten\n",
    "from tensorflow.keras.layers import Dense, LSTM, BatchNormalization, Dropout\n",
    "\n",
    "## input dimension 계산\n",
    "input_dim = max(word_index_x.values())+1\n",
    "## 벡터의 길이 계산\n",
    "maxlen\n",
    "\n",
    "## 모델 생성\n",
    "model = Sequential(\n",
    "    [\n",
    "        Embedding(input_dim,200,input_length=maxlen),\n",
    "        LSTM(32,return_sequences=True),\n",
    "        BatchNormalization(),\n",
    "        LSTM(64,return_sequences=True),\n",
    "        BatchNormalization(),\n",
    "        Flatten(),\n",
    "        Dense(256,activation='relu'),\n",
    "        Dense(117,activation='softmax'),\n",
    "    ]\n",
    ")\n",
    "\n",
    "model.summary()\n",
    "\n",
    "from sklearn.model_selection import train_test_split\n",
    "\n",
    "X_train, X_test, y_train, y_test = train_test_split(X_,y_,test_size=.2)\n",
    "\n",
    "model.compile(optimizer='rmsprop',\n",
    "             loss='categorical_crossentropy',\n",
    "             metrics=['accuracy'])\n",
    "\n",
    "model.fit(X_train,\n",
    "          y_train,\n",
    "          epochs=10,\n",
    "         validation_data=(X_test,y_test))"
   ]
  },
  {
   "cell_type": "code",
   "execution_count": 5,
   "id": "5040fe3b-4931-4610-b47f-80a8cedaf729",
   "metadata": {},
   "outputs": [
    {
     "name": "stdout",
     "output_type": "stream",
     "text": [
      "Epoch 1/10\n",
      "3912/3912 [==============================] - 181s 46ms/step - loss: 0.6286 - accuracy: 0.8458\n",
      "Epoch 2/10\n",
      "3912/3912 [==============================] - 169s 43ms/step - loss: 0.5985 - accuracy: 0.8503\n",
      "Epoch 3/10\n",
      "3912/3912 [==============================] - 156s 40ms/step - loss: 0.5812 - accuracy: 0.8542\n",
      "Epoch 4/10\n",
      "3912/3912 [==============================] - 159s 41ms/step - loss: 0.5728 - accuracy: 0.8553\n",
      "Epoch 5/10\n",
      "3912/3912 [==============================] - 178s 46ms/step - loss: 0.5645 - accuracy: 0.8585\n",
      "Epoch 6/10\n",
      "3912/3912 [==============================] - 171s 44ms/step - loss: 0.5581 - accuracy: 0.8599\n",
      "Epoch 7/10\n",
      "3912/3912 [==============================] - 180s 46ms/step - loss: 0.5560 - accuracy: 0.8607\n",
      "Epoch 8/10\n",
      "3912/3912 [==============================] - 183s 47ms/step - loss: 0.5484 - accuracy: 0.8631\n",
      "Epoch 9/10\n",
      "3912/3912 [==============================] - 187s 48ms/step - loss: 0.5453 - accuracy: 0.8636\n",
      "Epoch 10/10\n",
      "3912/3912 [==============================] - 179s 46ms/step - loss: 0.5376 - accuracy: 0.8656\n"
     ]
    },
    {
     "data": {
      "text/plain": [
       "<keras.callbacks.History at 0x17355b56490>"
      ]
     },
     "execution_count": 5,
     "metadata": {},
     "output_type": "execute_result"
    }
   ],
   "source": [
    "model.fit(X_,\n",
    "          y_,\n",
    "          epochs=10)"
   ]
  },
  {
   "cell_type": "code",
   "execution_count": 9,
   "id": "d781d321-2432-4fb5-bade-9d9d8a224b55",
   "metadata": {},
   "outputs": [],
   "source": [
    "from tensorflow.keras.models import load_model"
   ]
  },
  {
   "cell_type": "code",
   "execution_count": 10,
   "id": "f706ec75-40cb-4558-90d2-303a2ba5517b",
   "metadata": {},
   "outputs": [
    {
     "name": "stderr",
     "output_type": "stream",
     "text": [
      "WARNING:absl:Found untraced functions such as lstm_cell_layer_call_fn, lstm_cell_layer_call_and_return_conditional_losses, lstm_cell_1_layer_call_fn, lstm_cell_1_layer_call_and_return_conditional_losses while saving (showing 4 of 4). These functions will not be directly callable after loading.\n"
     ]
    },
    {
     "name": "stdout",
     "output_type": "stream",
     "text": [
      "INFO:tensorflow:Assets written to: kedi_model.h6\\assets\n"
     ]
    },
    {
     "name": "stderr",
     "output_type": "stream",
     "text": [
      "INFO:tensorflow:Assets written to: kedi_model.h6\\assets\n"
     ]
    }
   ],
   "source": [
    "model.save('kedi_model.h6')"
   ]
  },
  {
   "cell_type": "code",
   "execution_count": 14,
   "id": "c59ebb28-815b-4ca6-b429-dcddff8505b5",
   "metadata": {},
   "outputs": [
    {
     "name": "stdout",
     "output_type": "stream",
     "text": [
      "1/1 [==============================] - 1s 754ms/step\n"
     ]
    },
    {
     "data": {
      "text/plain": [
       "'역사'"
      ]
     },
     "execution_count": 14,
     "metadata": {},
     "output_type": "execute_result"
    }
   ],
   "source": [
    "np.argmax(kedi_model.predict(X_test[[0]]))\n",
    "index_word_y[37]"
   ]
  },
  {
   "cell_type": "code",
   "execution_count": 13,
   "id": "2994e7ba-6b4e-4452-a54a-e9930dfd22b4",
   "metadata": {},
   "outputs": [],
   "source": [
    "kedi_model = load_model('kedi_model.h6')"
   ]
  },
  {
   "cell_type": "code",
   "execution_count": 23,
   "id": "e123d70a-97cf-4e9b-9ebc-49d1fa340822",
   "metadata": {},
   "outputs": [],
   "source": [
    "def subject_predict(subject):\n",
    "    word = okt.nouns(subject)\n",
    "    sub = []\n",
    "    for w in word:\n",
    "        if word_index_x.get(w) == None:\n",
    "            pass\n",
    "        else:\n",
    "            sub.append(word_index_x.get(w))\n",
    "    sub = np.array(sub).reshape(1,-1)\n",
    "    sub = pad_sequences(sub,21)\n",
    "    result = kedi_model.predict(sub)\n",
    "    result = np.argmax(result)\n",
    "    return index_word_y[result]"
   ]
  },
  {
   "cell_type": "code",
   "execution_count": 24,
   "id": "cb801613-3100-4ee1-b020-35cbe69357ef",
   "metadata": {},
   "outputs": [
    {
     "name": "stdout",
     "output_type": "stream",
     "text": [
      "1/1 [==============================] - 0s 35ms/step\n"
     ]
    },
    {
     "data": {
      "text/plain": [
       "'서예·서화'"
      ]
     },
     "execution_count": 24,
     "metadata": {},
     "output_type": "execute_result"
    }
   ],
   "source": [
    "subject_predict('엄준식의 약탈교실')"
   ]
  },
  {
   "cell_type": "code",
   "execution_count": null,
   "id": "48093b87-f6e9-46b4-9019-5d6deac6944c",
   "metadata": {},
   "outputs": [],
   "source": []
  },
  {
   "cell_type": "code",
   "execution_count": 12,
   "id": "24e09e59-e1ad-444d-a0e4-9567d71bcdee",
   "metadata": {},
   "outputs": [
    {
     "name": "stdout",
     "output_type": "stream",
     "text": [
      "1/1 [==============================] - 1s 784ms/step\n"
     ]
    },
    {
     "data": {
      "text/plain": [
       "53"
      ]
     },
     "execution_count": 12,
     "metadata": {},
     "output_type": "execute_result"
    }
   ],
   "source": [
    "np.argmax(kedi_model.predict(X_test[[17]]))"
   ]
  },
  {
   "cell_type": "code",
   "execution_count": 2,
   "id": "0e6901c5-bb09-4320-b3dd-9f6b5bf01b25",
   "metadata": {},
   "outputs": [
    {
     "name": "stdout",
     "output_type": "stream",
     "text": [
      "1/1 [==============================] - 2s 2s/step\n"
     ]
    },
    {
     "data": {
      "text/plain": [
       "'영어'"
      ]
     },
     "execution_count": 2,
     "metadata": {},
     "output_type": "execute_result"
    }
   ],
   "source": [
    "index_word_y[np.argmax(model.predict(X_test[[17]]))]"
   ]
  },
  {
   "cell_type": "code",
   "execution_count": 3,
   "id": "16280745-722d-4f3f-8dd4-d96f9dc7fbf3",
   "metadata": {},
   "outputs": [
    {
     "data": {
      "text/plain": [
       "'영어'"
      ]
     },
     "execution_count": 3,
     "metadata": {},
     "output_type": "execute_result"
    }
   ],
   "source": [
    "index_word_y[np.argmax(y_test,axis=1)[17]]"
   ]
  },
  {
   "cell_type": "code",
   "execution_count": 4,
   "id": "05a95a66-1bc5-4e52-8b4f-b2c31d7e3f72",
   "metadata": {},
   "outputs": [
    {
     "data": {
      "text/plain": [
       "'영어'"
      ]
     },
     "execution_count": 4,
     "metadata": {},
     "output_type": "execute_result"
    }
   ],
   "source": [
    "index_word_y[np.argmax(y_test,axis=1)[17]]"
   ]
  },
  {
   "cell_type": "code",
   "execution_count": null,
   "id": "08346023-984a-447f-8a24-458d2b320796",
   "metadata": {},
   "outputs": [],
   "source": []
  }
 ],
 "metadata": {
  "kernelspec": {
   "display_name": "yuuni",
   "language": "python",
   "name": "yuuni"
  },
  "language_info": {
   "codemirror_mode": {
    "name": "ipython",
    "version": 3
   },
   "file_extension": ".py",
   "mimetype": "text/x-python",
   "name": "python",
   "nbconvert_exporter": "python",
   "pygments_lexer": "ipython3",
   "version": "3.9.13"
  }
 },
 "nbformat": 4,
 "nbformat_minor": 5
}
