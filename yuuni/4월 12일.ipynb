{
 "cells": [
  {
   "cell_type": "code",
   "execution_count": 1,
   "id": "b6262ac9-6957-4299-b9ee-320e10d8e9d6",
   "metadata": {},
   "outputs": [],
   "source": [
    "import numpy as np\n",
    "import pandas as pd\n",
    "from tensorflow.keras.datasets import imdb"
   ]
  },
  {
   "cell_type": "code",
   "execution_count": 2,
   "id": "c30a799b-00f6-483d-9bac-a2af547a5845",
   "metadata": {},
   "outputs": [],
   "source": [
    "sentence1 = \"\"\"\n",
    "(강릉=연합뉴스) 강태현 기자 = 강원 강릉에서 11일 발생한 대형산불이 8시간 만에 주불 진화가 완료된 가운데 재발화 위험을 완전히 차단하기 위해 산림 당국이 12일 일출과 동시에 헬기와 인력을 투입했다.\n",
    "\"\"\"\n",
    "sentence2 = \"\"\"\n",
    "산림 당국은 이날 오전 6시께 임차 헬기 1대를 투입해 산불 현장 전반을 살피고 있다.\n",
    "\"\"\""
   ]
  },
  {
   "cell_type": "code",
   "execution_count": 3,
   "id": "d9ca7c44-8bb1-429d-8f03-295b059e94af",
   "metadata": {},
   "outputs": [],
   "source": [
    "(X_train, y_train), (X_test, y_test) = imdb.load_data(num_words = 100)"
   ]
  },
  {
   "cell_type": "code",
   "execution_count": 4,
   "id": "5b61ca61-9891-491d-8175-4979cf8e7c67",
   "metadata": {
    "tags": []
   },
   "outputs": [
    {
     "name": "stdout",
     "output_type": "stream",
     "text": [
      "Downloading data from https://storage.googleapis.com/tensorflow/tf-keras-datasets/imdb_word_index.json\n",
      "1641221/1641221 [==============================] - 1s 0us/step\n"
     ]
    },
    {
     "data": {
      "text/plain": [
       "{34701: 'fawn',\n",
       " 52006: 'tsukino',\n",
       " 52007: 'nunnery',\n",
       " 16816: 'sonja',\n",
       " 63951: 'vani',\n",
       " 1408: 'woods',\n",
       " 16115: 'spiders',\n",
       " 2345: 'hanging',\n",
       " 2289: 'woody',\n",
       " 52008: 'trawling',\n",
       " 52009: \"hold's\",\n",
       " 11307: 'comically',\n",
       " 40830: 'localized',\n",
       " 30568: 'disobeying',\n",
       " 52010: \"'royale\",\n",
       " 40831: \"harpo's\",\n",
       " 52011: 'canet',\n",
       " 19313: 'aileen',\n",
       " 52012: 'acurately',\n",
       " 52013: \"diplomat's\",\n",
       " 25242: 'rickman',\n",
       " 6746: 'arranged',\n",
       " 52014: 'rumbustious',\n",
       " 52015: 'familiarness',\n",
       " 52016: \"spider'\",\n",
       " 68804: 'hahahah',\n",
       " 52017: \"wood'\",\n",
       " 40833: 'transvestism',\n",
       " 34702: \"hangin'\",\n",
       " 2338: 'bringing',\n",
       " 40834: 'seamier',\n",
       " 34703: 'wooded',\n",
       " 52018: 'bravora',\n",
       " 16817: 'grueling',\n",
       " 1636: 'wooden',\n",
       " 16818: 'wednesday',\n",
       " 52019: \"'prix\",\n",
       " 34704: 'altagracia',\n",
       " 52020: 'circuitry',\n",
       " 11585: 'crotch',\n",
       " 57766: 'busybody',\n",
       " 52021: \"tart'n'tangy\",\n",
       " 14129: 'burgade',\n",
       " 52023: 'thrace',\n",
       " 11038: \"tom's\",\n",
       " 52025: 'snuggles',\n",
       " 29114: 'francesco',\n",
       " 52027: 'complainers',\n",
       " 52125: 'templarios',\n",
       " 40835: '272',\n",
       " 52028: '273',\n",
       " 52130: 'zaniacs',\n",
       " 34706: '275',\n",
       " 27631: 'consenting',\n",
       " 40836: 'snuggled',\n",
       " 15492: 'inanimate',\n",
       " 52030: 'uality',\n",
       " 11926: 'bronte',\n",
       " 4010: 'errors',\n",
       " 3230: 'dialogs',\n",
       " 52031: \"yomada's\",\n",
       " 34707: \"madman's\",\n",
       " 30585: 'dialoge',\n",
       " 52033: 'usenet',\n",
       " 40837: 'videodrome',\n",
       " 26338: \"kid'\",\n",
       " 52034: 'pawed',\n",
       " 30569: \"'girlfriend'\",\n",
       " 52035: \"'pleasure\",\n",
       " 52036: \"'reloaded'\",\n",
       " 40839: \"kazakos'\",\n",
       " 52037: 'rocque',\n",
       " 52038: 'mailings',\n",
       " 11927: 'brainwashed',\n",
       " 16819: 'mcanally',\n",
       " 52039: \"tom''\",\n",
       " 25243: 'kurupt',\n",
       " 21905: 'affiliated',\n",
       " 52040: 'babaganoosh',\n",
       " 40840: \"noe's\",\n",
       " 40841: 'quart',\n",
       " 359: 'kids',\n",
       " 5034: 'uplifting',\n",
       " 7093: 'controversy',\n",
       " 21906: 'kida',\n",
       " 23379: 'kidd',\n",
       " 52041: \"error'\",\n",
       " 52042: 'neurologist',\n",
       " 18510: 'spotty',\n",
       " 30570: 'cobblers',\n",
       " 9878: 'projection',\n",
       " 40842: 'fastforwarding',\n",
       " 52043: 'sters',\n",
       " 52044: \"eggar's\",\n",
       " 52045: 'etherything',\n",
       " 40843: 'gateshead',\n",
       " 34708: 'airball',\n",
       " 25244: 'unsinkable',\n",
       " 7180: 'stern',\n",
       " 52046: \"cervi's\",\n",
       " 40844: 'dnd',\n",
       " 11586: 'dna',\n",
       " 20598: 'insecurity',\n",
       " 52047: \"'reboot'\",\n",
       " 11037: 'trelkovsky',\n",
       " 52048: 'jaekel',\n",
       " 52049: 'sidebars',\n",
       " 52050: \"sforza's\",\n",
       " 17633: 'distortions',\n",
       " 52051: 'mutinies',\n",
       " 30602: 'sermons',\n",
       " 40846: '7ft',\n",
       " 52052: 'boobage',\n",
       " 52053: \"o'bannon's\",\n",
       " 23380: 'populations',\n",
       " 52054: 'chulak',\n",
       " 27633: 'mesmerize',\n",
       " 52055: 'quinnell',\n",
       " 10307: 'yahoo',\n",
       " 52057: 'meteorologist',\n",
       " 42577: 'beswick',\n",
       " 15493: 'boorman',\n",
       " 40847: 'voicework',\n",
       " 52058: \"ster'\",\n",
       " 22922: 'blustering',\n",
       " 52059: 'hj',\n",
       " 27634: 'intake',\n",
       " 5621: 'morally',\n",
       " 40849: 'jumbling',\n",
       " 52060: 'bowersock',\n",
       " 52061: \"'porky's'\",\n",
       " 16821: 'gershon',\n",
       " 40850: 'ludicrosity',\n",
       " 52062: 'coprophilia',\n",
       " 40851: 'expressively',\n",
       " 19500: \"india's\",\n",
       " 34710: \"post's\",\n",
       " 52063: 'wana',\n",
       " 5283: 'wang',\n",
       " 30571: 'wand',\n",
       " 25245: 'wane',\n",
       " 52321: 'edgeways',\n",
       " 34711: 'titanium',\n",
       " 40852: 'pinta',\n",
       " 178: 'want',\n",
       " 30572: 'pinto',\n",
       " 52065: 'whoopdedoodles',\n",
       " 21908: 'tchaikovsky',\n",
       " 2103: 'travel',\n",
       " 52066: \"'victory'\",\n",
       " 11928: 'copious',\n",
       " 22433: 'gouge',\n",
       " 52067: \"chapters'\",\n",
       " 6702: 'barbra',\n",
       " 30573: 'uselessness',\n",
       " 52068: \"wan'\",\n",
       " 27635: 'assimilated',\n",
       " 16116: 'petiot',\n",
       " 52069: 'most\\x85and',\n",
       " 3930: 'dinosaurs',\n",
       " 352: 'wrong',\n",
       " 52070: 'seda',\n",
       " 52071: 'stollen',\n",
       " 34712: 'sentencing',\n",
       " 40853: 'ouroboros',\n",
       " 40854: 'assimilates',\n",
       " 40855: 'colorfully',\n",
       " 27636: 'glenne',\n",
       " 52072: 'dongen',\n",
       " 4760: 'subplots',\n",
       " 52073: 'kiloton',\n",
       " 23381: 'chandon',\n",
       " 34713: \"effect'\",\n",
       " 27637: 'snugly',\n",
       " 40856: 'kuei',\n",
       " 9092: 'welcomed',\n",
       " 30071: 'dishonor',\n",
       " 52075: 'concurrence',\n",
       " 23382: 'stoicism',\n",
       " 14896: \"guys'\",\n",
       " 52077: \"beroemd'\",\n",
       " 6703: 'butcher',\n",
       " 40857: \"melfi's\",\n",
       " 30623: 'aargh',\n",
       " 20599: 'playhouse',\n",
       " 11308: 'wickedly',\n",
       " 1180: 'fit',\n",
       " 52078: 'labratory',\n",
       " 40859: 'lifeline',\n",
       " 1927: 'screaming',\n",
       " 4287: 'fix',\n",
       " 52079: 'cineliterate',\n",
       " 52080: 'fic',\n",
       " 52081: 'fia',\n",
       " 34714: 'fig',\n",
       " 52082: 'fmvs',\n",
       " 52083: 'fie',\n",
       " 52084: 'reentered',\n",
       " 30574: 'fin',\n",
       " 52085: 'doctresses',\n",
       " 52086: 'fil',\n",
       " 12606: 'zucker',\n",
       " 31931: 'ached',\n",
       " 52088: 'counsil',\n",
       " 52089: 'paterfamilias',\n",
       " 13885: 'songwriter',\n",
       " 34715: 'shivam',\n",
       " 9654: 'hurting',\n",
       " 299: 'effects',\n",
       " 52090: 'slauther',\n",
       " 52091: \"'flame'\",\n",
       " 52092: 'sommerset',\n",
       " 52093: 'interwhined',\n",
       " 27638: 'whacking',\n",
       " 52094: 'bartok',\n",
       " 8775: 'barton',\n",
       " 21909: 'frewer',\n",
       " 52095: \"fi'\",\n",
       " 6192: 'ingrid',\n",
       " 30575: 'stribor',\n",
       " 52096: 'approporiately',\n",
       " 52097: 'wobblyhand',\n",
       " 52098: 'tantalisingly',\n",
       " 52099: 'ankylosaurus',\n",
       " 17634: 'parasites',\n",
       " 52100: 'childen',\n",
       " 52101: \"jenkins'\",\n",
       " 52102: 'metafiction',\n",
       " 17635: 'golem',\n",
       " 40860: 'indiscretion',\n",
       " 23383: \"reeves'\",\n",
       " 57781: \"inamorata's\",\n",
       " 52104: 'brittannica',\n",
       " 7916: 'adapt',\n",
       " 30576: \"russo's\",\n",
       " 48246: 'guitarists',\n",
       " 10553: 'abbott',\n",
       " 40861: 'abbots',\n",
       " 17649: 'lanisha',\n",
       " 40863: 'magickal',\n",
       " 52105: 'mattter',\n",
       " 52106: \"'willy\",\n",
       " 34716: 'pumpkins',\n",
       " 52107: 'stuntpeople',\n",
       " 30577: 'estimate',\n",
       " 40864: 'ugghhh',\n",
       " 11309: 'gameplay',\n",
       " 52108: \"wern't\",\n",
       " 40865: \"n'sync\",\n",
       " 16117: 'sickeningly',\n",
       " 40866: 'chiara',\n",
       " 4011: 'disturbed',\n",
       " 40867: 'portmanteau',\n",
       " 52109: 'ineffectively',\n",
       " 82143: \"duchonvey's\",\n",
       " 37519: \"nasty'\",\n",
       " 1285: 'purpose',\n",
       " 52112: 'lazers',\n",
       " 28105: 'lightened',\n",
       " 52113: 'kaliganj',\n",
       " 52114: 'popularism',\n",
       " 18511: \"damme's\",\n",
       " 30578: 'stylistics',\n",
       " 52115: 'mindgaming',\n",
       " 46449: 'spoilerish',\n",
       " 52117: \"'corny'\",\n",
       " 34718: 'boerner',\n",
       " 6792: 'olds',\n",
       " 52118: 'bakelite',\n",
       " 27639: 'renovated',\n",
       " 27640: 'forrester',\n",
       " 52119: \"lumiere's\",\n",
       " 52024: 'gaskets',\n",
       " 884: 'needed',\n",
       " 34719: 'smight',\n",
       " 1297: 'master',\n",
       " 25905: \"edie's\",\n",
       " 40868: 'seeber',\n",
       " 52120: 'hiya',\n",
       " 52121: 'fuzziness',\n",
       " 14897: 'genesis',\n",
       " 12607: 'rewards',\n",
       " 30579: 'enthrall',\n",
       " 40869: \"'about\",\n",
       " 52122: \"recollection's\",\n",
       " 11039: 'mutilated',\n",
       " 52123: 'fatherlands',\n",
       " 52124: \"fischer's\",\n",
       " 5399: 'positively',\n",
       " 34705: '270',\n",
       " 34720: 'ahmed',\n",
       " 9836: 'zatoichi',\n",
       " 13886: 'bannister',\n",
       " 52127: 'anniversaries',\n",
       " 30580: \"helm's\",\n",
       " 52128: \"'work'\",\n",
       " 34721: 'exclaimed',\n",
       " 52129: \"'unfunny'\",\n",
       " 52029: '274',\n",
       " 544: 'feeling',\n",
       " 52131: \"wanda's\",\n",
       " 33266: 'dolan',\n",
       " 52133: '278',\n",
       " 52134: 'peacoat',\n",
       " 40870: 'brawny',\n",
       " 40871: 'mishra',\n",
       " 40872: 'worlders',\n",
       " 52135: 'protags',\n",
       " 52136: 'skullcap',\n",
       " 57596: 'dastagir',\n",
       " 5622: 'affairs',\n",
       " 7799: 'wholesome',\n",
       " 52137: 'hymen',\n",
       " 25246: 'paramedics',\n",
       " 52138: 'unpersons',\n",
       " 52139: 'heavyarms',\n",
       " 52140: 'affaire',\n",
       " 52141: 'coulisses',\n",
       " 40873: 'hymer',\n",
       " 52142: 'kremlin',\n",
       " 30581: 'shipments',\n",
       " 52143: 'pixilated',\n",
       " 30582: \"'00s\",\n",
       " 18512: 'diminishing',\n",
       " 1357: 'cinematic',\n",
       " 14898: 'resonates',\n",
       " 40874: 'simplify',\n",
       " 40875: \"nature'\",\n",
       " 40876: 'temptresses',\n",
       " 16822: 'reverence',\n",
       " 19502: 'resonated',\n",
       " 34722: 'dailey',\n",
       " 52144: '2\\x85',\n",
       " 27641: 'treize',\n",
       " 52145: 'majo',\n",
       " 21910: 'kiya',\n",
       " 52146: 'woolnough',\n",
       " 39797: 'thanatos',\n",
       " 35731: 'sandoval',\n",
       " 40879: 'dorama',\n",
       " 52147: \"o'shaughnessy\",\n",
       " 4988: 'tech',\n",
       " 32018: 'fugitives',\n",
       " 30583: 'teck',\n",
       " 76125: \"'e'\",\n",
       " 40881: 'doesn’t',\n",
       " 52149: 'purged',\n",
       " 657: 'saying',\n",
       " 41095: \"martians'\",\n",
       " 23418: 'norliss',\n",
       " 27642: 'dickey',\n",
       " 52152: 'dicker',\n",
       " 52153: \"'sependipity\",\n",
       " 8422: 'padded',\n",
       " 57792: 'ordell',\n",
       " 40882: \"sturges'\",\n",
       " 52154: 'independentcritics',\n",
       " 5745: 'tempted',\n",
       " 34724: \"atkinson's\",\n",
       " 25247: 'hounded',\n",
       " 52155: 'apace',\n",
       " 15494: 'clicked',\n",
       " 30584: \"'humor'\",\n",
       " 17177: \"martino's\",\n",
       " 52156: \"'supporting\",\n",
       " 52032: 'warmongering',\n",
       " 34725: \"zemeckis's\",\n",
       " 21911: 'lube',\n",
       " 52157: 'shocky',\n",
       " 7476: 'plate',\n",
       " 40883: 'plata',\n",
       " 40884: 'sturgess',\n",
       " 40885: \"nerds'\",\n",
       " 20600: 'plato',\n",
       " 34726: 'plath',\n",
       " 40886: 'platt',\n",
       " 52159: 'mcnab',\n",
       " 27643: 'clumsiness',\n",
       " 3899: 'altogether',\n",
       " 42584: 'massacring',\n",
       " 52160: 'bicenntinial',\n",
       " 40887: 'skaal',\n",
       " 14360: 'droning',\n",
       " 8776: 'lds',\n",
       " 21912: 'jaguar',\n",
       " 34727: \"cale's\",\n",
       " 1777: 'nicely',\n",
       " 4588: 'mummy',\n",
       " 18513: \"lot's\",\n",
       " 10086: 'patch',\n",
       " 50202: 'kerkhof',\n",
       " 52161: \"leader's\",\n",
       " 27644: \"'movie\",\n",
       " 52162: 'uncomfirmed',\n",
       " 40888: 'heirloom',\n",
       " 47360: 'wrangle',\n",
       " 52163: 'emotion\\x85',\n",
       " 52164: \"'stargate'\",\n",
       " 40889: 'pinoy',\n",
       " 40890: 'conchatta',\n",
       " 41128: 'broeke',\n",
       " 40891: 'advisedly',\n",
       " 17636: \"barker's\",\n",
       " 52166: 'descours',\n",
       " 772: 'lots',\n",
       " 9259: 'lotr',\n",
       " 9879: 'irs',\n",
       " 52167: 'lott',\n",
       " 40892: 'xvi',\n",
       " 34728: 'irk',\n",
       " 52168: 'irl',\n",
       " 6887: 'ira',\n",
       " 21913: 'belzer',\n",
       " 52169: 'irc',\n",
       " 27645: 'ire',\n",
       " 40893: 'requisites',\n",
       " 7693: 'discipline',\n",
       " 52961: 'lyoko',\n",
       " 11310: 'extend',\n",
       " 873: 'nature',\n",
       " 52170: \"'dickie'\",\n",
       " 40894: 'optimist',\n",
       " 30586: 'lapping',\n",
       " 3900: 'superficial',\n",
       " 52171: 'vestment',\n",
       " 2823: 'extent',\n",
       " 52172: 'tendons',\n",
       " 52173: \"heller's\",\n",
       " 52174: 'quagmires',\n",
       " 52175: 'miyako',\n",
       " 20601: 'moocow',\n",
       " 52176: \"coles'\",\n",
       " 40895: 'lookit',\n",
       " 52177: 'ravenously',\n",
       " 40896: 'levitating',\n",
       " 52178: 'perfunctorily',\n",
       " 30587: 'lookin',\n",
       " 40898: \"lot'\",\n",
       " 52179: 'lookie',\n",
       " 34870: 'fearlessly',\n",
       " 52181: 'libyan',\n",
       " 40899: 'fondles',\n",
       " 35714: 'gopher',\n",
       " 40901: 'wearying',\n",
       " 52182: \"nz's\",\n",
       " 27646: 'minuses',\n",
       " 52183: 'puposelessly',\n",
       " 52184: 'shandling',\n",
       " 31268: 'decapitates',\n",
       " 11929: 'humming',\n",
       " 40902: \"'nother\",\n",
       " 21914: 'smackdown',\n",
       " 30588: 'underdone',\n",
       " 40903: 'frf',\n",
       " 52185: 'triviality',\n",
       " 25248: 'fro',\n",
       " 8777: 'bothers',\n",
       " 52186: \"'kensington\",\n",
       " 73: 'much',\n",
       " 34730: 'muco',\n",
       " 22615: 'wiseguy',\n",
       " 27648: \"richie's\",\n",
       " 40904: 'tonino',\n",
       " 52187: 'unleavened',\n",
       " 11587: 'fry',\n",
       " 40905: \"'tv'\",\n",
       " 40906: 'toning',\n",
       " 14361: 'obese',\n",
       " 30589: 'sensationalized',\n",
       " 40907: 'spiv',\n",
       " 6259: 'spit',\n",
       " 7364: 'arkin',\n",
       " 21915: 'charleton',\n",
       " 16823: 'jeon',\n",
       " 21916: 'boardroom',\n",
       " 4989: 'doubts',\n",
       " 3084: 'spin',\n",
       " 53083: 'hepo',\n",
       " 27649: 'wildcat',\n",
       " 10584: 'venoms',\n",
       " 52191: 'misconstrues',\n",
       " 18514: 'mesmerising',\n",
       " 40908: 'misconstrued',\n",
       " 52192: 'rescinds',\n",
       " 52193: 'prostrate',\n",
       " 40909: 'majid',\n",
       " 16479: 'climbed',\n",
       " 34731: 'canoeing',\n",
       " 52195: 'majin',\n",
       " 57804: 'animie',\n",
       " 40910: 'sylke',\n",
       " 14899: 'conditioned',\n",
       " 40911: 'waddell',\n",
       " 52196: '3\\x85',\n",
       " 41188: 'hyperdrive',\n",
       " 34732: 'conditioner',\n",
       " 53153: 'bricklayer',\n",
       " 2576: 'hong',\n",
       " 52198: 'memoriam',\n",
       " 30592: 'inventively',\n",
       " 25249: \"levant's\",\n",
       " 20638: 'portobello',\n",
       " 52200: 'remand',\n",
       " 19504: 'mummified',\n",
       " 27650: 'honk',\n",
       " 19505: 'spews',\n",
       " 40912: 'visitations',\n",
       " 52201: 'mummifies',\n",
       " 25250: 'cavanaugh',\n",
       " 23385: 'zeon',\n",
       " 40913: \"jungle's\",\n",
       " 34733: 'viertel',\n",
       " 27651: 'frenchmen',\n",
       " 52202: 'torpedoes',\n",
       " 52203: 'schlessinger',\n",
       " 34734: 'torpedoed',\n",
       " 69876: 'blister',\n",
       " 52204: 'cinefest',\n",
       " 34735: 'furlough',\n",
       " 52205: 'mainsequence',\n",
       " 40914: 'mentors',\n",
       " 9094: 'academic',\n",
       " 20602: 'stillness',\n",
       " 40915: 'academia',\n",
       " 52206: 'lonelier',\n",
       " 52207: 'nibby',\n",
       " 52208: \"losers'\",\n",
       " 40916: 'cineastes',\n",
       " 4449: 'corporate',\n",
       " 40917: 'massaging',\n",
       " 30593: 'bellow',\n",
       " 19506: 'absurdities',\n",
       " 53241: 'expetations',\n",
       " 40918: 'nyfiken',\n",
       " 75638: 'mehras',\n",
       " 52209: 'lasse',\n",
       " 52210: 'visability',\n",
       " 33946: 'militarily',\n",
       " 52211: \"elder'\",\n",
       " 19023: 'gainsbourg',\n",
       " 20603: 'hah',\n",
       " 13420: 'hai',\n",
       " 34736: 'haj',\n",
       " 25251: 'hak',\n",
       " 4311: 'hal',\n",
       " 4892: 'ham',\n",
       " 53259: 'duffer',\n",
       " 52213: 'haa',\n",
       " 66: 'had',\n",
       " 11930: 'advancement',\n",
       " 16825: 'hag',\n",
       " 25252: \"hand'\",\n",
       " 13421: 'hay',\n",
       " 20604: 'mcnamara',\n",
       " 52214: \"mozart's\",\n",
       " 30731: 'duffel',\n",
       " 30594: 'haq',\n",
       " 13887: 'har',\n",
       " 44: 'has',\n",
       " 2401: 'hat',\n",
       " 40919: 'hav',\n",
       " 30595: 'haw',\n",
       " 52215: 'figtings',\n",
       " 15495: 'elders',\n",
       " 52216: 'underpanted',\n",
       " 52217: 'pninson',\n",
       " 27652: 'unequivocally',\n",
       " 23673: \"barbara's\",\n",
       " 52219: \"bello'\",\n",
       " 12997: 'indicative',\n",
       " 40920: 'yawnfest',\n",
       " 52220: 'hexploitation',\n",
       " 52221: \"loder's\",\n",
       " 27653: 'sleuthing',\n",
       " 32622: \"justin's\",\n",
       " 52222: \"'ball\",\n",
       " 52223: \"'summer\",\n",
       " 34935: \"'demons'\",\n",
       " 52225: \"mormon's\",\n",
       " 34737: \"laughton's\",\n",
       " 52226: 'debell',\n",
       " 39724: 'shipyard',\n",
       " 30597: 'unabashedly',\n",
       " 40401: 'disks',\n",
       " 2290: 'crowd',\n",
       " 10087: 'crowe',\n",
       " 56434: \"vancouver's\",\n",
       " 34738: 'mosques',\n",
       " 6627: 'crown',\n",
       " 52227: 'culpas',\n",
       " 27654: 'crows',\n",
       " 53344: 'surrell',\n",
       " 52229: 'flowless',\n",
       " 52230: 'sheirk',\n",
       " 40923: \"'three\",\n",
       " 52231: \"peterson'\",\n",
       " 52232: 'ooverall',\n",
       " 40924: 'perchance',\n",
       " 1321: 'bottom',\n",
       " 53363: 'chabert',\n",
       " 52233: 'sneha',\n",
       " 13888: 'inhuman',\n",
       " 52234: 'ichii',\n",
       " 52235: 'ursla',\n",
       " 30598: 'completly',\n",
       " 40925: 'moviedom',\n",
       " 52236: 'raddick',\n",
       " 51995: 'brundage',\n",
       " 40926: 'brigades',\n",
       " 1181: 'starring',\n",
       " 52237: \"'goal'\",\n",
       " 52238: 'caskets',\n",
       " 52239: 'willcock',\n",
       " 52240: \"threesome's\",\n",
       " 52241: \"mosque'\",\n",
       " 52242: \"cover's\",\n",
       " 17637: 'spaceships',\n",
       " 40927: 'anomalous',\n",
       " 27655: 'ptsd',\n",
       " 52243: 'shirdan',\n",
       " 21962: 'obscenity',\n",
       " 30599: 'lemmings',\n",
       " 30600: 'duccio',\n",
       " 52244: \"levene's\",\n",
       " 52245: \"'gorby'\",\n",
       " 25255: \"teenager's\",\n",
       " 5340: 'marshall',\n",
       " 9095: 'honeymoon',\n",
       " 3231: 'shoots',\n",
       " 12258: 'despised',\n",
       " 52246: 'okabasho',\n",
       " 8289: 'fabric',\n",
       " 18515: 'cannavale',\n",
       " 3537: 'raped',\n",
       " 52247: \"tutt's\",\n",
       " 17638: 'grasping',\n",
       " 18516: 'despises',\n",
       " 40928: \"thief's\",\n",
       " 8926: 'rapes',\n",
       " 52248: 'raper',\n",
       " 27656: \"eyre'\",\n",
       " 52249: 'walchek',\n",
       " 23386: \"elmo's\",\n",
       " 40929: 'perfumes',\n",
       " 21918: 'spurting',\n",
       " 52250: \"exposition'\\x85\",\n",
       " 52251: 'denoting',\n",
       " 34740: 'thesaurus',\n",
       " 40930: \"shoot'\",\n",
       " 49759: 'bonejack',\n",
       " 52253: 'simpsonian',\n",
       " 30601: 'hebetude',\n",
       " 34741: \"hallow's\",\n",
       " 52254: 'desperation\\x85',\n",
       " 34742: 'incinerator',\n",
       " 10308: 'congratulations',\n",
       " 52255: 'humbled',\n",
       " 5924: \"else's\",\n",
       " 40845: 'trelkovski',\n",
       " 52256: \"rape'\",\n",
       " 59386: \"'chapters'\",\n",
       " 52257: '1600s',\n",
       " 7253: 'martian',\n",
       " 25256: 'nicest',\n",
       " 52259: 'eyred',\n",
       " 9457: 'passenger',\n",
       " 6041: 'disgrace',\n",
       " 52260: 'moderne',\n",
       " 5120: 'barrymore',\n",
       " 52261: 'yankovich',\n",
       " 40931: 'moderns',\n",
       " 52262: 'studliest',\n",
       " 52263: 'bedsheet',\n",
       " 14900: 'decapitation',\n",
       " 52264: 'slurring',\n",
       " 52265: \"'nunsploitation'\",\n",
       " 34743: \"'character'\",\n",
       " 9880: 'cambodia',\n",
       " 52266: 'rebelious',\n",
       " 27657: 'pasadena',\n",
       " 40932: 'crowne',\n",
       " 52267: \"'bedchamber\",\n",
       " 52268: 'conjectural',\n",
       " 52269: 'appologize',\n",
       " 52270: 'halfassing',\n",
       " 57816: 'paycheque',\n",
       " 20606: 'palms',\n",
       " 52271: \"'islands\",\n",
       " 40933: 'hawked',\n",
       " 21919: 'palme',\n",
       " 40934: 'conservatively',\n",
       " 64007: 'larp',\n",
       " 5558: 'palma',\n",
       " 21920: 'smelling',\n",
       " 12998: 'aragorn',\n",
       " 52272: 'hawker',\n",
       " 52273: 'hawkes',\n",
       " 3975: 'explosions',\n",
       " 8059: 'loren',\n",
       " 52274: \"pyle's\",\n",
       " 6704: 'shootout',\n",
       " 18517: \"mike's\",\n",
       " 52275: \"driscoll's\",\n",
       " 40935: 'cogsworth',\n",
       " 52276: \"britian's\",\n",
       " 34744: 'childs',\n",
       " 52277: \"portrait's\",\n",
       " 3626: 'chain',\n",
       " 2497: 'whoever',\n",
       " 52278: 'puttered',\n",
       " 52279: 'childe',\n",
       " 52280: 'maywether',\n",
       " 3036: 'chair',\n",
       " 52281: \"rance's\",\n",
       " 34745: 'machu',\n",
       " 4517: 'ballet',\n",
       " 34746: 'grapples',\n",
       " 76152: 'summerize',\n",
       " 30603: 'freelance',\n",
       " 52283: \"andrea's\",\n",
       " 52284: '\\x91very',\n",
       " 45879: 'coolidge',\n",
       " 18518: 'mache',\n",
       " 52285: 'balled',\n",
       " 40937: 'grappled',\n",
       " 18519: 'macha',\n",
       " 21921: 'underlining',\n",
       " 5623: 'macho',\n",
       " 19507: 'oversight',\n",
       " 25257: 'machi',\n",
       " 11311: 'verbally',\n",
       " 21922: 'tenacious',\n",
       " 40938: 'windshields',\n",
       " 18557: 'paychecks',\n",
       " 3396: 'jerk',\n",
       " 11931: \"good'\",\n",
       " 34748: 'prancer',\n",
       " 21923: 'prances',\n",
       " 52286: 'olympus',\n",
       " 21924: 'lark',\n",
       " 10785: 'embark',\n",
       " 7365: 'gloomy',\n",
       " 52287: 'jehaan',\n",
       " 52288: 'turaqui',\n",
       " 20607: \"child'\",\n",
       " 2894: 'locked',\n",
       " 52289: 'pranced',\n",
       " 2588: 'exact',\n",
       " 52290: 'unattuned',\n",
       " 783: 'minute',\n",
       " 16118: 'skewed',\n",
       " 40940: 'hodgins',\n",
       " 34749: 'skewer',\n",
       " 52291: 'think\\x85',\n",
       " 38765: 'rosenstein',\n",
       " 52292: 'helmit',\n",
       " 34750: 'wrestlemanias',\n",
       " 16826: 'hindered',\n",
       " 30604: \"martha's\",\n",
       " 52293: 'cheree',\n",
       " 52294: \"pluckin'\",\n",
       " 40941: 'ogles',\n",
       " 11932: 'heavyweight',\n",
       " 82190: 'aada',\n",
       " 11312: 'chopping',\n",
       " 61534: 'strongboy',\n",
       " 41342: 'hegemonic',\n",
       " 40942: 'adorns',\n",
       " 41346: 'xxth',\n",
       " 34751: 'nobuhiro',\n",
       " 52298: 'capitães',\n",
       " 52299: 'kavogianni',\n",
       " 13422: 'antwerp',\n",
       " 6538: 'celebrated',\n",
       " 52300: 'roarke',\n",
       " 40943: 'baggins',\n",
       " 31270: 'cheeseburgers',\n",
       " 52301: 'matras',\n",
       " 52302: \"nineties'\",\n",
       " 52303: \"'craig'\",\n",
       " 12999: 'celebrates',\n",
       " 3383: 'unintentionally',\n",
       " 14362: 'drafted',\n",
       " 52304: 'climby',\n",
       " 52305: '303',\n",
       " 18520: 'oldies',\n",
       " 9096: 'climbs',\n",
       " 9655: 'honour',\n",
       " 34752: 'plucking',\n",
       " 30074: '305',\n",
       " 5514: 'address',\n",
       " 40944: 'menjou',\n",
       " 42592: \"'freak'\",\n",
       " 19508: 'dwindling',\n",
       " 9458: 'benson',\n",
       " 52307: 'white’s',\n",
       " 40945: 'shamelessness',\n",
       " 21925: 'impacted',\n",
       " 52308: 'upatz',\n",
       " 3840: 'cusack',\n",
       " 37567: \"flavia's\",\n",
       " 52309: 'effette',\n",
       " 34753: 'influx',\n",
       " 52310: 'boooooooo',\n",
       " 52311: 'dimitrova',\n",
       " 13423: 'houseman',\n",
       " 25259: 'bigas',\n",
       " 52312: 'boylen',\n",
       " 52313: 'phillipenes',\n",
       " 40946: 'fakery',\n",
       " 27658: \"grandpa's\",\n",
       " 27659: 'darnell',\n",
       " 19509: 'undergone',\n",
       " 52315: 'handbags',\n",
       " 21926: 'perished',\n",
       " 37778: 'pooped',\n",
       " 27660: 'vigour',\n",
       " 3627: 'opposed',\n",
       " 52316: 'etude',\n",
       " 11799: \"caine's\",\n",
       " 52317: 'doozers',\n",
       " 34754: 'photojournals',\n",
       " 52318: 'perishes',\n",
       " 34755: 'constrains',\n",
       " 40948: 'migenes',\n",
       " 30605: 'consoled',\n",
       " 16827: 'alastair',\n",
       " 52319: 'wvs',\n",
       " 52320: 'ooooooh',\n",
       " 34756: 'approving',\n",
       " 40949: 'consoles',\n",
       " 52064: 'disparagement',\n",
       " 52322: 'futureistic',\n",
       " 52323: 'rebounding',\n",
       " 52324: \"'date\",\n",
       " 52325: 'gregoire',\n",
       " 21927: 'rutherford',\n",
       " 34757: 'americanised',\n",
       " 82196: 'novikov',\n",
       " 1042: 'following',\n",
       " 34758: 'munroe',\n",
       " 52326: \"morita'\",\n",
       " 52327: 'christenssen',\n",
       " 23106: 'oatmeal',\n",
       " 25260: 'fossey',\n",
       " 40950: 'livered',\n",
       " 13000: 'listens',\n",
       " 76164: \"'marci\",\n",
       " 52330: \"otis's\",\n",
       " 23387: 'thanking',\n",
       " 16019: 'maude',\n",
       " 34759: 'extensions',\n",
       " 52332: 'ameteurish',\n",
       " 52333: \"commender's\",\n",
       " 27661: 'agricultural',\n",
       " 4518: 'convincingly',\n",
       " 17639: 'fueled',\n",
       " 54014: 'mahattan',\n",
       " 40952: \"paris's\",\n",
       " 52336: 'vulkan',\n",
       " 52337: 'stapes',\n",
       " 52338: 'odysessy',\n",
       " 12259: 'harmon',\n",
       " 4252: 'surfing',\n",
       " 23494: 'halloran',\n",
       " 49580: 'unbelieveably',\n",
       " 52339: \"'offed'\",\n",
       " 30607: 'quadrant',\n",
       " 19510: 'inhabiting',\n",
       " 34760: 'nebbish',\n",
       " 40953: 'forebears',\n",
       " 34761: 'skirmish',\n",
       " 52340: 'ocassionally',\n",
       " 52341: \"'resist\",\n",
       " 21928: 'impactful',\n",
       " 52342: 'spicier',\n",
       " 40954: 'touristy',\n",
       " 52343: \"'football'\",\n",
       " 40955: 'webpage',\n",
       " 52345: 'exurbia',\n",
       " 52346: 'jucier',\n",
       " 14901: 'professors',\n",
       " 34762: 'structuring',\n",
       " 30608: 'jig',\n",
       " 40956: 'overlord',\n",
       " 25261: 'disconnect',\n",
       " 82201: 'sniffle',\n",
       " 40957: 'slimeball',\n",
       " 40958: 'jia',\n",
       " 16828: 'milked',\n",
       " 40959: 'banjoes',\n",
       " 1237: 'jim',\n",
       " 52348: 'workforces',\n",
       " 52349: 'jip',\n",
       " 52350: 'rotweiller',\n",
       " 34763: 'mundaneness',\n",
       " 52351: \"'ninja'\",\n",
       " 11040: \"dead'\",\n",
       " 40960: \"cipriani's\",\n",
       " 20608: 'modestly',\n",
       " 52352: \"professor'\",\n",
       " 40961: 'shacked',\n",
       " 34764: 'bashful',\n",
       " 23388: 'sorter',\n",
       " 16120: 'overpowering',\n",
       " 18521: 'workmanlike',\n",
       " 27662: 'henpecked',\n",
       " 18522: 'sorted',\n",
       " 52354: \"jōb's\",\n",
       " 52355: \"'always\",\n",
       " 34765: \"'baptists\",\n",
       " 52356: 'dreamcatchers',\n",
       " 52357: \"'silence'\",\n",
       " 21929: 'hickory',\n",
       " 52358: 'fun\\x97yet',\n",
       " 52359: 'breakumentary',\n",
       " 15496: 'didn',\n",
       " 52360: 'didi',\n",
       " 52361: 'pealing',\n",
       " 40962: 'dispite',\n",
       " 25262: \"italy's\",\n",
       " 21930: 'instability',\n",
       " 6539: 'quarter',\n",
       " 12608: 'quartet',\n",
       " 52362: 'padmé',\n",
       " 52363: \"'bleedmedry\",\n",
       " 52364: 'pahalniuk',\n",
       " 52365: 'honduras',\n",
       " 10786: 'bursting',\n",
       " 41465: \"pablo's\",\n",
       " 52367: 'irremediably',\n",
       " 40963: 'presages',\n",
       " 57832: 'bowlegged',\n",
       " 65183: 'dalip',\n",
       " 6260: 'entering',\n",
       " 76172: 'newsradio',\n",
       " 54150: 'presaged',\n",
       " 27663: \"giallo's\",\n",
       " 40964: 'bouyant',\n",
       " 52368: 'amerterish',\n",
       " 18523: 'rajni',\n",
       " 30610: 'leeves',\n",
       " 34767: 'macauley',\n",
       " 612: 'seriously',\n",
       " 52369: 'sugercoma',\n",
       " 52370: 'grimstead',\n",
       " 52371: \"'fairy'\",\n",
       " 30611: 'zenda',\n",
       " 52372: \"'twins'\",\n",
       " 17640: 'realisation',\n",
       " 27664: 'highsmith',\n",
       " 7817: 'raunchy',\n",
       " 40965: 'incentives',\n",
       " 52374: 'flatson',\n",
       " 35097: 'snooker',\n",
       " 16829: 'crazies',\n",
       " 14902: 'crazier',\n",
       " 7094: 'grandma',\n",
       " 52375: 'napunsaktha',\n",
       " 30612: 'workmanship',\n",
       " 52376: 'reisner',\n",
       " 61306: \"sanford's\",\n",
       " 52377: '\\x91doña',\n",
       " 6108: 'modest',\n",
       " 19153: \"everything's\",\n",
       " 40966: 'hamer',\n",
       " 52379: \"couldn't'\",\n",
       " 13001: 'quibble',\n",
       " 52380: 'socking',\n",
       " 21931: 'tingler',\n",
       " 52381: 'gutman',\n",
       " 40967: 'lachlan',\n",
       " 52382: 'tableaus',\n",
       " 52383: 'headbanger',\n",
       " 2847: 'spoken',\n",
       " 34768: 'cerebrally',\n",
       " 23490: \"'road\",\n",
       " 21932: 'tableaux',\n",
       " 40968: \"proust's\",\n",
       " 40969: 'periodical',\n",
       " 52385: \"shoveller's\",\n",
       " 25263: 'tamara',\n",
       " 17641: 'affords',\n",
       " 3249: 'concert',\n",
       " 87955: \"yara's\",\n",
       " 52386: 'someome',\n",
       " 8424: 'lingering',\n",
       " 41511: \"abraham's\",\n",
       " 34769: 'beesley',\n",
       " 34770: 'cherbourg',\n",
       " 28624: 'kagan',\n",
       " 9097: 'snatch',\n",
       " 9260: \"miyazaki's\",\n",
       " 25264: 'absorbs',\n",
       " 40970: \"koltai's\",\n",
       " 64027: 'tingled',\n",
       " 19511: 'crossroads',\n",
       " 16121: 'rehab',\n",
       " 52389: 'falworth',\n",
       " 52390: 'sequals',\n",
       " ...}"
      ]
     },
     "execution_count": 4,
     "metadata": {},
     "output_type": "execute_result"
    }
   ],
   "source": [
    "index_word = { v:k for k,v in imdb.get_word_index().items()}\n",
    "index_word"
   ]
  },
  {
   "cell_type": "code",
   "execution_count": 5,
   "id": "c12bbb67-f4ca-484a-9eb7-6a8b919e16db",
   "metadata": {},
   "outputs": [
    {
     "data": {
      "text/plain": [
       "array([ 1, 14, 22, 16, 43,  2,  2,  2,  2, 65,  2,  2, 66,  2,  4,  2, 36,\n",
       "        2,  5, 25,  2, 43,  2,  2, 50,  2,  2,  9, 35,  2,  2,  5,  2,  4,\n",
       "        2,  2,  2,  2,  2,  2, 39,  4,  2,  2,  2, 17,  2, 38, 13,  2,  4,\n",
       "        2, 50, 16,  6,  2,  2, 19, 14, 22,  4,  2,  2,  2,  4, 22, 71, 87,\n",
       "       12, 16, 43,  2, 38, 76, 15, 13,  2,  4, 22, 17,  2, 17, 12, 16,  2,\n",
       "       18,  2,  5, 62,  2, 12,  8,  2,  8,  2,  5,  4,  2,  2, 16,  2, 66,\n",
       "        2, 33,  4,  2, 12, 16, 38,  2,  5, 25,  2, 51, 36,  2, 48, 25,  2,\n",
       "       33,  6, 22, 12,  2, 28, 77, 52,  5, 14,  2, 16, 82,  2,  8,  4,  2,\n",
       "        2,  2, 15,  2,  4,  2,  7,  2,  5,  2, 36, 71, 43,  2,  2, 26,  2,\n",
       "        2, 46,  7,  4,  2,  2, 13,  2, 88,  4,  2, 15,  2, 98, 32,  2, 56,\n",
       "       26,  2,  6,  2,  2, 18,  4,  2, 22, 21,  2,  2, 26,  2,  5,  2, 30,\n",
       "        2, 18, 51, 36, 28,  2, 92, 25,  2,  4,  2, 65, 16, 38,  2, 88, 12,\n",
       "       16,  2,  5, 16,  2,  2,  2, 32, 15, 16,  2, 19,  2, 32])"
      ]
     },
     "execution_count": 5,
     "metadata": {},
     "output_type": "execute_result"
    }
   ],
   "source": [
    "np.array(X_train[0])"
   ]
  },
  {
   "cell_type": "code",
   "execution_count": 6,
   "id": "e37a9865-96ea-426a-8cef-8aabfe453f98",
   "metadata": {},
   "outputs": [
    {
     "data": {
      "text/plain": [
       "' the as you with out and and and and their and and had and of and from and to have and out and and more and and it so and and to and of and and and and and and or of and and and movie and her was and of and more with is and and film as you of and and and of you than him that with out and her get for was and of you movie and movie that with and but and to story and that in and in and to of and and with and had and they of and that with her and to have and when from and what have and they is you that and one will very to as and with other and in of and and and for and of and br and to and from than out and and he and and some br of and and was and most of and for and any an and she he and is and and but of and you not and and he and to and at and but when from one and then have and of and their with her and most that with and to with and and and an for with and film and an'"
      ]
     },
     "execution_count": 6,
     "metadata": {},
     "output_type": "execute_result"
    }
   ],
   "source": [
    "sentence = ''\n",
    "for i in X_train[0]:\n",
    "    sentence += ' '+index_word.get(i)\n",
    "sentence"
   ]
  },
  {
   "cell_type": "code",
   "execution_count": 7,
   "id": "8515b3c8-6f0a-4363-86c5-6f3f847a6cfa",
   "metadata": {},
   "outputs": [],
   "source": [
    "test = pd.Series(X_train).apply(lambda x : x[:10])"
   ]
  },
  {
   "cell_type": "code",
   "execution_count": 8,
   "id": "9481a1e9-216c-4393-a4d6-82edb778268c",
   "metadata": {},
   "outputs": [
    {
     "data": {
      "text/plain": [
       "0    [1, 14, 22, 16, 43, 2, 2, 2, 2, 65]\n",
       "1        [1, 2, 2, 2, 2, 78, 2, 5, 6, 2]\n",
       "dtype: object"
      ]
     },
     "execution_count": 8,
     "metadata": {},
     "output_type": "execute_result"
    }
   ],
   "source": [
    "test[0:2]"
   ]
  },
  {
   "cell_type": "code",
   "execution_count": 9,
   "id": "0e7c321f-f8c2-4531-aceb-6e15c4ea7231",
   "metadata": {},
   "outputs": [],
   "source": [
    "dt = pd.Series([sentence1,sentence2])"
   ]
  },
  {
   "cell_type": "code",
   "execution_count": 10,
   "id": "275f3a02-73b2-4461-9cd8-b1e60fd9b6c6",
   "metadata": {},
   "outputs": [],
   "source": [
    "dt = pd.DataFrame(dt)"
   ]
  },
  {
   "cell_type": "code",
   "execution_count": 11,
   "id": "302a1ab7-302e-4fdd-9b6a-48c8dcdca3be",
   "metadata": {},
   "outputs": [],
   "source": [
    "dt['mood'] = [0,1]"
   ]
  },
  {
   "cell_type": "code",
   "execution_count": 12,
   "id": "9e6ad27e-6c48-484a-a27c-17c316d54378",
   "metadata": {},
   "outputs": [
    {
     "data": {
      "text/html": [
       "<div>\n",
       "<style scoped>\n",
       "    .dataframe tbody tr th:only-of-type {\n",
       "        vertical-align: middle;\n",
       "    }\n",
       "\n",
       "    .dataframe tbody tr th {\n",
       "        vertical-align: top;\n",
       "    }\n",
       "\n",
       "    .dataframe thead th {\n",
       "        text-align: right;\n",
       "    }\n",
       "</style>\n",
       "<table border=\"1\" class=\"dataframe\">\n",
       "  <thead>\n",
       "    <tr style=\"text-align: right;\">\n",
       "      <th></th>\n",
       "      <th>0</th>\n",
       "      <th>mood</th>\n",
       "    </tr>\n",
       "  </thead>\n",
       "  <tbody>\n",
       "    <tr>\n",
       "      <th>0</th>\n",
       "      <td>\\n(강릉=연합뉴스) 강태현 기자 = 강원 강릉에서 11일 발생한 대형산불이 8시간...</td>\n",
       "      <td>0</td>\n",
       "    </tr>\n",
       "    <tr>\n",
       "      <th>1</th>\n",
       "      <td>\\n산림 당국은 이날 오전 6시께 임차 헬기 1대를 투입해 산불 현장 전반을 살피고...</td>\n",
       "      <td>1</td>\n",
       "    </tr>\n",
       "  </tbody>\n",
       "</table>\n",
       "</div>"
      ],
      "text/plain": [
       "                                                   0  mood\n",
       "0  \\n(강릉=연합뉴스) 강태현 기자 = 강원 강릉에서 11일 발생한 대형산불이 8시간...     0\n",
       "1  \\n산림 당국은 이날 오전 6시께 임차 헬기 1대를 투입해 산불 현장 전반을 살피고...     1"
      ]
     },
     "execution_count": 12,
     "metadata": {},
     "output_type": "execute_result"
    }
   ],
   "source": [
    "dt"
   ]
  },
  {
   "cell_type": "code",
   "execution_count": 13,
   "id": "e8e5a087-a03d-4379-bd0e-a1dc860c2b4e",
   "metadata": {},
   "outputs": [],
   "source": [
    "X = dt.iloc[:,0]\n",
    "y = dt.iloc[:,1]"
   ]
  },
  {
   "cell_type": "code",
   "execution_count": 14,
   "id": "6b92a053-8e0b-44e0-9bd8-4666a4197086",
   "metadata": {},
   "outputs": [
    {
     "data": {
      "text/plain": [
       "(2,)"
      ]
     },
     "execution_count": 14,
     "metadata": {},
     "output_type": "execute_result"
    }
   ],
   "source": [
    "X.values.shape"
   ]
  },
  {
   "cell_type": "code",
   "execution_count": 15,
   "id": "a574dc6d-d1b7-4d02-b806-47581deede80",
   "metadata": {},
   "outputs": [
    {
     "data": {
      "text/plain": [
       "0    0\n",
       "1    1\n",
       "Name: mood, dtype: int64"
      ]
     },
     "execution_count": 15,
     "metadata": {},
     "output_type": "execute_result"
    }
   ],
   "source": [
    "y"
   ]
  },
  {
   "cell_type": "code",
   "execution_count": 16,
   "id": "7d4ffbbb-8b3f-46f9-8e76-6026a78fe2de",
   "metadata": {},
   "outputs": [],
   "source": [
    "word = []\n",
    "for i in X_train:\n",
    "    word.extend(i)"
   ]
  },
  {
   "cell_type": "code",
   "execution_count": 17,
   "id": "20414202-5026-48ba-a235-fe2f07b582ff",
   "metadata": {},
   "outputs": [],
   "source": [
    "word = list(set(word))"
   ]
  },
  {
   "cell_type": "code",
   "execution_count": 18,
   "id": "5549fdce-87eb-4e8b-bd00-305075e0dc9b",
   "metadata": {},
   "outputs": [],
   "source": [
    "test = X_train[:1000]"
   ]
  },
  {
   "cell_type": "code",
   "execution_count": 19,
   "id": "27d0277c-e6a0-4f94-b7f0-883c35f1a1af",
   "metadata": {},
   "outputs": [],
   "source": [
    "x = np.zeros((1000,100))\n",
    "for i,v in enumerate(test):\n",
    "    for j in v:\n",
    "        x[i,j-1] += 1"
   ]
  },
  {
   "cell_type": "code",
   "execution_count": 20,
   "id": "8858d199-a6b1-4641-b9d5-aa33f5396dd7",
   "metadata": {},
   "outputs": [],
   "source": [
    "y = y_train[:1000]"
   ]
  },
  {
   "cell_type": "code",
   "execution_count": 21,
   "id": "ebcca646-e3b8-4fb9-8bdb-39ce9f66ff2d",
   "metadata": {},
   "outputs": [],
   "source": [
    "y = y.reshape(-1,1)"
   ]
  },
  {
   "cell_type": "code",
   "execution_count": 22,
   "id": "5acc62fa-4fd4-4a5d-a539-948a46f28db9",
   "metadata": {},
   "outputs": [
    {
     "data": {
      "text/plain": [
       "((1000, 100), (1000, 1))"
      ]
     },
     "execution_count": 22,
     "metadata": {},
     "output_type": "execute_result"
    }
   ],
   "source": [
    "x.shape, y.shape"
   ]
  },
  {
   "cell_type": "code",
   "execution_count": 23,
   "id": "ab2e8b9e-cfa4-4db8-9bf5-d547226290a5",
   "metadata": {},
   "outputs": [],
   "source": [
    "from tensorflow.keras.models import Sequential\n",
    "from tensorflow.keras.layers import Dense"
   ]
  },
  {
   "cell_type": "code",
   "execution_count": 24,
   "id": "c701b3d0-24b3-413e-a3b2-13cf08096a6c",
   "metadata": {},
   "outputs": [],
   "source": [
    "model = Sequential(\n",
    "    [\n",
    "        Dense(256,activation='relu',input_shape=[100]),\n",
    "        Dense(128,activation='relu'),\n",
    "        Dense(1,activation='sigmoid')\n",
    "    ]\n",
    ")"
   ]
  },
  {
   "cell_type": "code",
   "execution_count": 25,
   "id": "62087460-62c4-4899-8bbd-cf3dd81a08ef",
   "metadata": {},
   "outputs": [
    {
     "name": "stdout",
     "output_type": "stream",
     "text": [
      "Model: \"sequential\"\n",
      "_________________________________________________________________\n",
      " Layer (type)                Output Shape              Param #   \n",
      "=================================================================\n",
      " dense (Dense)               (None, 256)               25856     \n",
      "                                                                 \n",
      " dense_1 (Dense)             (None, 128)               32896     \n",
      "                                                                 \n",
      " dense_2 (Dense)             (None, 1)                 129       \n",
      "                                                                 \n",
      "=================================================================\n",
      "Total params: 58,881\n",
      "Trainable params: 58,881\n",
      "Non-trainable params: 0\n",
      "_________________________________________________________________\n"
     ]
    }
   ],
   "source": [
    "model.summary()"
   ]
  },
  {
   "cell_type": "code",
   "execution_count": 26,
   "id": "c0ac3735-1c7f-42e5-bc3c-d4829c1cc975",
   "metadata": {},
   "outputs": [],
   "source": [
    "model.compile(optimizer='rmsprop',\n",
    "              loss='binary_crossentropy',\n",
    "              metrics=['accuracy']\n",
    "             )"
   ]
  },
  {
   "cell_type": "code",
   "execution_count": 27,
   "id": "ee28ffd8-3605-4112-b98f-7391ff658fe0",
   "metadata": {},
   "outputs": [
    {
     "name": "stdout",
     "output_type": "stream",
     "text": [
      "Epoch 1/20\n",
      "32/32 [==============================] - 1s 2ms/step - loss: 2.7730 - accuracy: 0.5360\n",
      "Epoch 2/20\n",
      "32/32 [==============================] - 0s 2ms/step - loss: 1.7613 - accuracy: 0.5310\n",
      "Epoch 3/20\n",
      "32/32 [==============================] - 0s 2ms/step - loss: 1.4598 - accuracy: 0.5560\n",
      "Epoch 4/20\n",
      "32/32 [==============================] - 0s 2ms/step - loss: 1.3527 - accuracy: 0.5650\n",
      "Epoch 5/20\n",
      "32/32 [==============================] - 0s 2ms/step - loss: 1.1019 - accuracy: 0.6310\n",
      "Epoch 6/20\n",
      "32/32 [==============================] - 0s 2ms/step - loss: 0.9465 - accuracy: 0.6490\n",
      "Epoch 7/20\n",
      "32/32 [==============================] - 0s 2ms/step - loss: 1.0085 - accuracy: 0.6410\n",
      "Epoch 8/20\n",
      "32/32 [==============================] - 0s 2ms/step - loss: 0.7811 - accuracy: 0.6730\n",
      "Epoch 9/20\n",
      "32/32 [==============================] - 0s 2ms/step - loss: 0.7630 - accuracy: 0.6870\n",
      "Epoch 10/20\n",
      "32/32 [==============================] - 0s 2ms/step - loss: 0.8280 - accuracy: 0.6900\n",
      "Epoch 11/20\n",
      "32/32 [==============================] - 0s 2ms/step - loss: 0.7213 - accuracy: 0.7270\n",
      "Epoch 12/20\n",
      "32/32 [==============================] - 0s 2ms/step - loss: 0.7153 - accuracy: 0.7160\n",
      "Epoch 13/20\n",
      "32/32 [==============================] - 0s 2ms/step - loss: 0.5747 - accuracy: 0.7590\n",
      "Epoch 14/20\n",
      "32/32 [==============================] - 0s 2ms/step - loss: 0.6100 - accuracy: 0.7580\n",
      "Epoch 15/20\n",
      "32/32 [==============================] - 0s 2ms/step - loss: 0.5622 - accuracy: 0.7580\n",
      "Epoch 16/20\n",
      "32/32 [==============================] - 0s 2ms/step - loss: 0.5186 - accuracy: 0.7980\n",
      "Epoch 17/20\n",
      "32/32 [==============================] - 0s 2ms/step - loss: 0.5235 - accuracy: 0.7650\n",
      "Epoch 18/20\n",
      "32/32 [==============================] - 0s 2ms/step - loss: 0.4852 - accuracy: 0.7960\n",
      "Epoch 19/20\n",
      "32/32 [==============================] - 0s 2ms/step - loss: 0.4185 - accuracy: 0.8380\n",
      "Epoch 20/20\n",
      "32/32 [==============================] - 0s 2ms/step - loss: 0.4513 - accuracy: 0.8250\n"
     ]
    },
    {
     "data": {
      "text/plain": [
       "<keras.callbacks.History at 0x2d8efa14d30>"
      ]
     },
     "execution_count": 27,
     "metadata": {},
     "output_type": "execute_result"
    }
   ],
   "source": [
    "model.fit(x,y,epochs=20)"
   ]
  },
  {
   "cell_type": "code",
   "execution_count": 28,
   "id": "2b6d3179-fe67-4023-b558-186bad3baab5",
   "metadata": {},
   "outputs": [],
   "source": [
    "test1 = X_test[:500]"
   ]
  },
  {
   "cell_type": "code",
   "execution_count": 29,
   "id": "ccaf2597-4f74-4810-a0de-444f2dd73b52",
   "metadata": {},
   "outputs": [],
   "source": [
    "x = np.zeros((500,100))\n",
    "for i,v in enumerate(test1):\n",
    "    for j in v:\n",
    "        x[i,j-1] += 1"
   ]
  },
  {
   "cell_type": "code",
   "execution_count": 30,
   "id": "2ddc6a76-9e96-497b-9989-47ec71230757",
   "metadata": {},
   "outputs": [
    {
     "data": {
      "text/plain": [
       "(500, 100)"
      ]
     },
     "execution_count": 30,
     "metadata": {},
     "output_type": "execute_result"
    }
   ],
   "source": [
    "x.shape"
   ]
  },
  {
   "cell_type": "code",
   "execution_count": 31,
   "id": "e94ce8d8-b2cc-4e64-93e1-7886ce8ccec1",
   "metadata": {},
   "outputs": [
    {
     "name": "stdout",
     "output_type": "stream",
     "text": [
      "16/16 [==============================] - 0s 1ms/step\n"
     ]
    },
    {
     "data": {
      "text/plain": [
       "(500, 1)"
      ]
     },
     "execution_count": 31,
     "metadata": {},
     "output_type": "execute_result"
    }
   ],
   "source": [
    "model.predict(x).shape"
   ]
  },
  {
   "cell_type": "code",
   "execution_count": 32,
   "id": "da93d27c-d501-492b-8053-a988eb3d8eb4",
   "metadata": {},
   "outputs": [
    {
     "name": "stdout",
     "output_type": "stream",
     "text": [
      "16/16 [==============================] - 0s 2ms/step\n"
     ]
    },
    {
     "data": {
      "text/plain": [
       "0.616"
      ]
     },
     "execution_count": 32,
     "metadata": {},
     "output_type": "execute_result"
    }
   ],
   "source": [
    "np.sum(np.where(model.predict(x)>.5,1,0) == y_test[:500].reshape(-1,1))/500"
   ]
  },
  {
   "cell_type": "code",
   "execution_count": 33,
   "id": "d025f8df-4e9a-45cc-be85-711f80f139cd",
   "metadata": {},
   "outputs": [
    {
     "data": {
      "text/plain": [
       "(500,)"
      ]
     },
     "execution_count": 33,
     "metadata": {},
     "output_type": "execute_result"
    }
   ],
   "source": [
    "y_test[:500].shape"
   ]
  },
  {
   "cell_type": "code",
   "execution_count": 34,
   "id": "d49099d6-243f-4562-bf66-2300531053ad",
   "metadata": {},
   "outputs": [],
   "source": [
    "from tensorflow.keras.datasets import reuters"
   ]
  },
  {
   "cell_type": "code",
   "execution_count": 35,
   "id": "eff1a7d8-a70e-404f-9768-85c9c6c0f0d2",
   "metadata": {},
   "outputs": [
    {
     "name": "stdout",
     "output_type": "stream",
     "text": [
      "Downloading data from https://storage.googleapis.com/tensorflow/tf-keras-datasets/reuters.npz\n",
      "2110848/2110848 [==============================] - 1s 1us/step\n"
     ]
    }
   ],
   "source": [
    "(X_train, y_train),(X_test,y_test) = reuters.load_data()"
   ]
  },
  {
   "cell_type": "code",
   "execution_count": 36,
   "id": "1d16e732-0a7c-492f-9160-769008591ac9",
   "metadata": {},
   "outputs": [
    {
     "data": {
      "text/plain": [
       "array([ 0,  1,  2,  3,  4,  5,  6,  7,  8,  9, 10, 11, 12, 13, 14, 15, 16,\n",
       "       17, 18, 19, 20, 21, 22, 23, 24, 25, 26, 27, 28, 29, 30, 31, 32, 33,\n",
       "       34, 35, 36, 37, 38, 39, 40, 41, 42, 43, 44, 45], dtype=int64)"
      ]
     },
     "execution_count": 36,
     "metadata": {},
     "output_type": "execute_result"
    }
   ],
   "source": [
    "np.unique(y_train)"
   ]
  },
  {
   "cell_type": "code",
   "execution_count": 37,
   "id": "bbe10137-5888-4fe6-b539-3314eb285fcd",
   "metadata": {},
   "outputs": [
    {
     "data": {
      "text/plain": [
       "3"
      ]
     },
     "execution_count": 37,
     "metadata": {},
     "output_type": "execute_result"
    }
   ],
   "source": [
    "y_train[0]"
   ]
  },
  {
   "cell_type": "code",
   "execution_count": 38,
   "id": "8f42471c-8211-4905-9170-003a25606cb6",
   "metadata": {},
   "outputs": [
    {
     "name": "stdout",
     "output_type": "stream",
     "text": [
      "Downloading data from https://storage.googleapis.com/tensorflow/tf-keras-datasets/reuters_word_index.json\n",
      "550378/550378 [==============================] - 0s 1us/step\n"
     ]
    }
   ],
   "source": [
    "word_index = reuters.get_word_index()\n",
    "index_word = { v:k for k, v in word_index.items()}"
   ]
  },
  {
   "cell_type": "code",
   "execution_count": 39,
   "id": "65c85350-a84d-4fd8-8901-92d83dcb03dd",
   "metadata": {},
   "outputs": [
    {
     "data": {
      "text/plain": [
       "30979"
      ]
     },
     "execution_count": 39,
     "metadata": {},
     "output_type": "execute_result"
    }
   ],
   "source": [
    "max(index_word.keys())"
   ]
  },
  {
   "cell_type": "code",
   "execution_count": 40,
   "id": "2775f946-68d2-4f73-81f7-80a83c274c44",
   "metadata": {},
   "outputs": [],
   "source": [
    "sentence = ''\n",
    "for i in X_train[0]:\n",
    "    sentence += ' '+index_word.get(i)"
   ]
  },
  {
   "cell_type": "code",
   "execution_count": 41,
   "id": "c4474bd3-8783-4cb7-88e5-626e36e0e489",
   "metadata": {},
   "outputs": [
    {
     "data": {
      "text/plain": [
       "' the wattie nondiscriminatory mln loss for plc said at only ended said commonwealth could 1 traders now april 0 a after said from 1985 and from foreign 000 april 0 prices its account year a but in this mln home an states earlier and rise and revs vs 000 its 16 vs 000 a but 3 psbr oils several and shareholders and dividend vs 000 its all 4 vs 000 1 mln agreed largely april 0 are 2 states will billion total and against 000 pct dlrs'"
      ]
     },
     "execution_count": 41,
     "metadata": {},
     "output_type": "execute_result"
    }
   ],
   "source": [
    "sentence"
   ]
  },
  {
   "cell_type": "code",
   "execution_count": 42,
   "id": "ccbae1c0-919d-4078-9e34-51e5906ca7d2",
   "metadata": {},
   "outputs": [
    {
     "data": {
      "text/plain": [
       "(8982,)"
      ]
     },
     "execution_count": 42,
     "metadata": {},
     "output_type": "execute_result"
    }
   ],
   "source": [
    "X_train.shape"
   ]
  },
  {
   "cell_type": "code",
   "execution_count": 43,
   "id": "a1326ec2-9d55-4311-86a5-64f1e23dc4d7",
   "metadata": {},
   "outputs": [],
   "source": [
    "X = np.zeros((8982,30979))"
   ]
  },
  {
   "cell_type": "code",
   "execution_count": 44,
   "id": "6aacf3c1-4204-4adb-b09f-a6f868225e29",
   "metadata": {},
   "outputs": [],
   "source": [
    "del X"
   ]
  },
  {
   "cell_type": "code",
   "execution_count": 45,
   "id": "761bc92c-7f76-467f-8d24-41e1ad760f17",
   "metadata": {},
   "outputs": [],
   "source": [
    "from tensorflow.keras.datasets import reuters\n",
    "from tensorflow.keras.models import Sequential\n",
    "from tensorflow.keras.layers import Dense\n",
    "from tensorflow.keras.utils import to_categorical\n",
    "from sklearn.ensemble import RandomForestClassifier"
   ]
  },
  {
   "cell_type": "code",
   "execution_count": 46,
   "id": "e7b433c1-0d4a-486f-80eb-d49f9e1d6f56",
   "metadata": {},
   "outputs": [],
   "source": [
    "(X_train,y_train),(X_test,y_test) = reuters.load_data(num_words=2000)"
   ]
  },
  {
   "cell_type": "code",
   "execution_count": 47,
   "id": "becaaed3-8ab0-4a4d-8117-58175aa0850d",
   "metadata": {},
   "outputs": [],
   "source": [
    "word_index = reuters.get_word_index()\n",
    "index_word = { v:k for k, v in word_index.items()}"
   ]
  },
  {
   "cell_type": "code",
   "execution_count": 48,
   "id": "53cc66b0-ee4d-4c53-ad8f-303411bbf0c5",
   "metadata": {},
   "outputs": [],
   "source": [
    "X_train_trans = np.zeros((8982,2000))\n",
    "for i, v in enumerate(X_train):\n",
    "    for j in v:\n",
    "        X_train_trans[i,j] += 1"
   ]
  },
  {
   "cell_type": "code",
   "execution_count": 49,
   "id": "c0ac064b-0131-4171-8e53-e90b570e7fd9",
   "metadata": {},
   "outputs": [],
   "source": [
    "y_train_trans = to_categorical(y_train)"
   ]
  },
  {
   "cell_type": "code",
   "execution_count": 50,
   "id": "4973642b-ab1a-4743-8d74-d3e31e95dbda",
   "metadata": {},
   "outputs": [
    {
     "data": {
      "text/plain": [
       "(8982, 46)"
      ]
     },
     "execution_count": 50,
     "metadata": {},
     "output_type": "execute_result"
    }
   ],
   "source": [
    "y_train_trans.shape"
   ]
  },
  {
   "cell_type": "code",
   "execution_count": 51,
   "id": "2aaeac71-d6e7-4887-9b86-2fbd09ab4e2f",
   "metadata": {},
   "outputs": [],
   "source": [
    "model = Sequential(\n",
    "    [\n",
    "        Dense(256,activation='relu',input_shape=[2000]),\n",
    "        Dense(128,activation='relu'),\n",
    "        Dense(46,activation='softmax'),\n",
    "    ]\n",
    ")"
   ]
  },
  {
   "cell_type": "code",
   "execution_count": 52,
   "id": "806d9a89-1143-4963-b813-d25ffd1cfab2",
   "metadata": {},
   "outputs": [],
   "source": [
    "optimizer='rmsprop'\n",
    "loss = 'categorical_crossentropy'\n",
    "metrics = ['accuracy']\n",
    "model.compile(optimizer=optimizer,\n",
    "             loss=loss,\n",
    "             metrics=metrics)"
   ]
  },
  {
   "cell_type": "code",
   "execution_count": 53,
   "id": "999ac403-aeeb-442c-91cb-915248f528fa",
   "metadata": {},
   "outputs": [
    {
     "name": "stdout",
     "output_type": "stream",
     "text": [
      "Epoch 1/20\n",
      "281/281 [==============================] - 2s 5ms/step - loss: 1.3313 - accuracy: 0.7201\n",
      "Epoch 2/20\n",
      "281/281 [==============================] - 1s 5ms/step - loss: 0.7056 - accuracy: 0.8445\n",
      "Epoch 3/20\n",
      "281/281 [==============================] - 1s 5ms/step - loss: 0.4859 - accuracy: 0.8893\n",
      "Epoch 4/20\n",
      "281/281 [==============================] - 1s 5ms/step - loss: 0.3564 - accuracy: 0.9181\n",
      "Epoch 5/20\n",
      "281/281 [==============================] - 1s 5ms/step - loss: 0.2922 - accuracy: 0.9306\n",
      "Epoch 6/20\n",
      "281/281 [==============================] - 1s 5ms/step - loss: 0.2504 - accuracy: 0.9390\n",
      "Epoch 7/20\n",
      "281/281 [==============================] - 1s 5ms/step - loss: 0.2252 - accuracy: 0.9449\n",
      "Epoch 8/20\n",
      "281/281 [==============================] - 1s 5ms/step - loss: 0.2093 - accuracy: 0.9496\n",
      "Epoch 9/20\n",
      "281/281 [==============================] - 2s 6ms/step - loss: 0.1957 - accuracy: 0.9492\n",
      "Epoch 10/20\n",
      "281/281 [==============================] - 2s 5ms/step - loss: 0.1881 - accuracy: 0.9497\n",
      "Epoch 11/20\n",
      "281/281 [==============================] - 1s 5ms/step - loss: 0.1867 - accuracy: 0.9505\n",
      "Epoch 12/20\n",
      "281/281 [==============================] - 1s 5ms/step - loss: 0.1734 - accuracy: 0.9515\n",
      "Epoch 13/20\n",
      "281/281 [==============================] - 1s 5ms/step - loss: 0.1696 - accuracy: 0.9528\n",
      "Epoch 14/20\n",
      "281/281 [==============================] - 2s 6ms/step - loss: 0.1650 - accuracy: 0.9534\n",
      "Epoch 15/20\n",
      "281/281 [==============================] - 2s 6ms/step - loss: 0.1640 - accuracy: 0.9526\n",
      "Epoch 16/20\n",
      "281/281 [==============================] - 2s 6ms/step - loss: 0.1617 - accuracy: 0.9528\n",
      "Epoch 17/20\n",
      "281/281 [==============================] - 2s 6ms/step - loss: 0.1503 - accuracy: 0.9541\n",
      "Epoch 18/20\n",
      "281/281 [==============================] - 2s 6ms/step - loss: 0.1696 - accuracy: 0.9522\n",
      "Epoch 19/20\n",
      "281/281 [==============================] - 1s 5ms/step - loss: 0.1515 - accuracy: 0.9544\n",
      "Epoch 20/20\n",
      "281/281 [==============================] - 1s 5ms/step - loss: 0.1579 - accuracy: 0.9550\n"
     ]
    },
    {
     "data": {
      "text/plain": [
       "<keras.callbacks.History at 0x2d887a8ae50>"
      ]
     },
     "execution_count": 53,
     "metadata": {},
     "output_type": "execute_result"
    }
   ],
   "source": [
    "model.fit(X_train_trans,\n",
    "         y_train_trans,\n",
    "         epochs=20)"
   ]
  },
  {
   "cell_type": "code",
   "execution_count": 54,
   "id": "880713f4-a5d4-4201-970f-ec91479c60d7",
   "metadata": {},
   "outputs": [],
   "source": [
    "X_test_trans = np.zeros((len(X_test),2000))\n",
    "for i, v in enumerate(X_test):\n",
    "    for j in v:\n",
    "        X_test_trans[i,j] += 1"
   ]
  },
  {
   "cell_type": "code",
   "execution_count": 55,
   "id": "9588b704-714f-494d-9c58-fe529af24ffc",
   "metadata": {},
   "outputs": [
    {
     "name": "stdout",
     "output_type": "stream",
     "text": [
      "71/71 [==============================] - 0s 2ms/step\n"
     ]
    },
    {
     "data": {
      "text/plain": [
       "array([ True,  True,  True, ...,  True, False,  True])"
      ]
     },
     "execution_count": 55,
     "metadata": {},
     "output_type": "execute_result"
    }
   ],
   "source": [
    "np.argmax(model.predict(X_test_trans),axis=1) == y_test"
   ]
  },
  {
   "cell_type": "code",
   "execution_count": 56,
   "id": "01e54c95-1053-4e1a-86c7-1e5b1b52d4d4",
   "metadata": {},
   "outputs": [
    {
     "name": "stdout",
     "output_type": "stream",
     "text": [
      "71/71 [==============================] - 0s 2ms/step\n"
     ]
    },
    {
     "data": {
      "text/plain": [
       "0.7831700801424755"
      ]
     },
     "execution_count": 56,
     "metadata": {},
     "output_type": "execute_result"
    }
   ],
   "source": [
    "np.sum(np.argmax(model.predict(X_test_trans),axis=1) == y_test)/2246"
   ]
  },
  {
   "cell_type": "code",
   "execution_count": 57,
   "id": "decc45bd-db97-4cdb-b54b-81d4795a40c6",
   "metadata": {},
   "outputs": [
    {
     "data": {
      "text/plain": [
       "(2246,)"
      ]
     },
     "execution_count": 57,
     "metadata": {},
     "output_type": "execute_result"
    }
   ],
   "source": [
    "y_test.shape"
   ]
  },
  {
   "cell_type": "code",
   "execution_count": 58,
   "id": "1b10ef46-3b99-489e-902c-cb703ccfd6c5",
   "metadata": {},
   "outputs": [],
   "source": [
    "rf = RandomForestClassifier()"
   ]
  },
  {
   "cell_type": "code",
   "execution_count": 59,
   "id": "951414cb-54dc-4aba-9167-b7d374bdd3d7",
   "metadata": {},
   "outputs": [
    {
     "data": {
      "text/html": [
       "<style>#sk-container-id-1 {color: black;background-color: white;}#sk-container-id-1 pre{padding: 0;}#sk-container-id-1 div.sk-toggleable {background-color: white;}#sk-container-id-1 label.sk-toggleable__label {cursor: pointer;display: block;width: 100%;margin-bottom: 0;padding: 0.3em;box-sizing: border-box;text-align: center;}#sk-container-id-1 label.sk-toggleable__label-arrow:before {content: \"▸\";float: left;margin-right: 0.25em;color: #696969;}#sk-container-id-1 label.sk-toggleable__label-arrow:hover:before {color: black;}#sk-container-id-1 div.sk-estimator:hover label.sk-toggleable__label-arrow:before {color: black;}#sk-container-id-1 div.sk-toggleable__content {max-height: 0;max-width: 0;overflow: hidden;text-align: left;background-color: #f0f8ff;}#sk-container-id-1 div.sk-toggleable__content pre {margin: 0.2em;color: black;border-radius: 0.25em;background-color: #f0f8ff;}#sk-container-id-1 input.sk-toggleable__control:checked~div.sk-toggleable__content {max-height: 200px;max-width: 100%;overflow: auto;}#sk-container-id-1 input.sk-toggleable__control:checked~label.sk-toggleable__label-arrow:before {content: \"▾\";}#sk-container-id-1 div.sk-estimator input.sk-toggleable__control:checked~label.sk-toggleable__label {background-color: #d4ebff;}#sk-container-id-1 div.sk-label input.sk-toggleable__control:checked~label.sk-toggleable__label {background-color: #d4ebff;}#sk-container-id-1 input.sk-hidden--visually {border: 0;clip: rect(1px 1px 1px 1px);clip: rect(1px, 1px, 1px, 1px);height: 1px;margin: -1px;overflow: hidden;padding: 0;position: absolute;width: 1px;}#sk-container-id-1 div.sk-estimator {font-family: monospace;background-color: #f0f8ff;border: 1px dotted black;border-radius: 0.25em;box-sizing: border-box;margin-bottom: 0.5em;}#sk-container-id-1 div.sk-estimator:hover {background-color: #d4ebff;}#sk-container-id-1 div.sk-parallel-item::after {content: \"\";width: 100%;border-bottom: 1px solid gray;flex-grow: 1;}#sk-container-id-1 div.sk-label:hover label.sk-toggleable__label {background-color: #d4ebff;}#sk-container-id-1 div.sk-serial::before {content: \"\";position: absolute;border-left: 1px solid gray;box-sizing: border-box;top: 0;bottom: 0;left: 50%;z-index: 0;}#sk-container-id-1 div.sk-serial {display: flex;flex-direction: column;align-items: center;background-color: white;padding-right: 0.2em;padding-left: 0.2em;position: relative;}#sk-container-id-1 div.sk-item {position: relative;z-index: 1;}#sk-container-id-1 div.sk-parallel {display: flex;align-items: stretch;justify-content: center;background-color: white;position: relative;}#sk-container-id-1 div.sk-item::before, #sk-container-id-1 div.sk-parallel-item::before {content: \"\";position: absolute;border-left: 1px solid gray;box-sizing: border-box;top: 0;bottom: 0;left: 50%;z-index: -1;}#sk-container-id-1 div.sk-parallel-item {display: flex;flex-direction: column;z-index: 1;position: relative;background-color: white;}#sk-container-id-1 div.sk-parallel-item:first-child::after {align-self: flex-end;width: 50%;}#sk-container-id-1 div.sk-parallel-item:last-child::after {align-self: flex-start;width: 50%;}#sk-container-id-1 div.sk-parallel-item:only-child::after {width: 0;}#sk-container-id-1 div.sk-dashed-wrapped {border: 1px dashed gray;margin: 0 0.4em 0.5em 0.4em;box-sizing: border-box;padding-bottom: 0.4em;background-color: white;}#sk-container-id-1 div.sk-label label {font-family: monospace;font-weight: bold;display: inline-block;line-height: 1.2em;}#sk-container-id-1 div.sk-label-container {text-align: center;}#sk-container-id-1 div.sk-container {/* jupyter's `normalize.less` sets `[hidden] { display: none; }` but bootstrap.min.css set `[hidden] { display: none !important; }` so we also need the `!important` here to be able to override the default hidden behavior on the sphinx rendered scikit-learn.org. See: https://github.com/scikit-learn/scikit-learn/issues/21755 */display: inline-block !important;position: relative;}#sk-container-id-1 div.sk-text-repr-fallback {display: none;}</style><div id=\"sk-container-id-1\" class=\"sk-top-container\"><div class=\"sk-text-repr-fallback\"><pre>RandomForestClassifier()</pre><b>In a Jupyter environment, please rerun this cell to show the HTML representation or trust the notebook. <br />On GitHub, the HTML representation is unable to render, please try loading this page with nbviewer.org.</b></div><div class=\"sk-container\" hidden><div class=\"sk-item\"><div class=\"sk-estimator sk-toggleable\"><input class=\"sk-toggleable__control sk-hidden--visually\" id=\"sk-estimator-id-1\" type=\"checkbox\" checked><label for=\"sk-estimator-id-1\" class=\"sk-toggleable__label sk-toggleable__label-arrow\">RandomForestClassifier</label><div class=\"sk-toggleable__content\"><pre>RandomForestClassifier()</pre></div></div></div></div></div>"
      ],
      "text/plain": [
       "RandomForestClassifier()"
      ]
     },
     "execution_count": 59,
     "metadata": {},
     "output_type": "execute_result"
    }
   ],
   "source": [
    "rf.fit(X_train_trans, y_train_trans)"
   ]
  },
  {
   "cell_type": "code",
   "execution_count": 60,
   "id": "d60081d3-da65-4b88-a60f-3bb78b98c04e",
   "metadata": {},
   "outputs": [
    {
     "data": {
      "text/plain": [
       "0.9575818303273214"
      ]
     },
     "execution_count": 60,
     "metadata": {},
     "output_type": "execute_result"
    }
   ],
   "source": [
    "rf.score(X_train_trans,y_train_trans)"
   ]
  },
  {
   "cell_type": "code",
   "execution_count": 61,
   "id": "a3f30a81-6eba-40bd-8162-46479991d9ae",
   "metadata": {},
   "outputs": [
    {
     "data": {
      "text/plain": [
       "0.5970614425645592"
      ]
     },
     "execution_count": 61,
     "metadata": {},
     "output_type": "execute_result"
    }
   ],
   "source": [
    "rf.score(X_test_trans, to_categorical(y_test))"
   ]
  },
  {
   "cell_type": "code",
   "execution_count": 62,
   "id": "12fd4f71-f664-4739-84e3-4ee82cd30005",
   "metadata": {},
   "outputs": [
    {
     "data": {
      "text/plain": [
       "' the of of mln loss for plc said at only ended said of could 1 traders now april 0 a after said from 1985 and from foreign 000 april 0 prices its account year a but in this mln home an states earlier and rise and revs vs 000 its 16 vs 000 a but 3 of oils several and shareholders and dividend vs 000 its all 4 vs 000 1 mln agreed largely april 0 are 2 states will billion total and against 000 pct dlrs'"
      ]
     },
     "execution_count": 62,
     "metadata": {},
     "output_type": "execute_result"
    }
   ],
   "source": [
    "sentence = ''\n",
    "for i in X_train[0]:\n",
    "    sentence += ' '+index_word.get(i)\n",
    "sentence"
   ]
  },
  {
   "cell_type": "code",
   "execution_count": 63,
   "id": "f042552e-7957-4ee5-a82a-e1ffd395290f",
   "metadata": {},
   "outputs": [
    {
     "data": {
      "text/html": [
       "<div>\n",
       "<style scoped>\n",
       "    .dataframe tbody tr th:only-of-type {\n",
       "        vertical-align: middle;\n",
       "    }\n",
       "\n",
       "    .dataframe tbody tr th {\n",
       "        vertical-align: top;\n",
       "    }\n",
       "\n",
       "    .dataframe thead th {\n",
       "        text-align: right;\n",
       "    }\n",
       "</style>\n",
       "<table border=\"1\" class=\"dataframe\">\n",
       "  <thead>\n",
       "    <tr style=\"text-align: right;\">\n",
       "      <th></th>\n",
       "      <th>0</th>\n",
       "      <th>1</th>\n",
       "      <th>2</th>\n",
       "      <th>3</th>\n",
       "      <th>4</th>\n",
       "      <th>5</th>\n",
       "      <th>6</th>\n",
       "      <th>7</th>\n",
       "      <th>8</th>\n",
       "      <th>9</th>\n",
       "      <th>...</th>\n",
       "      <th>1990</th>\n",
       "      <th>1991</th>\n",
       "      <th>1992</th>\n",
       "      <th>1993</th>\n",
       "      <th>1994</th>\n",
       "      <th>1995</th>\n",
       "      <th>1996</th>\n",
       "      <th>1997</th>\n",
       "      <th>1998</th>\n",
       "      <th>1999</th>\n",
       "    </tr>\n",
       "  </thead>\n",
       "  <tbody>\n",
       "    <tr>\n",
       "      <th>0</th>\n",
       "      <td>0.0</td>\n",
       "      <td>1.0</td>\n",
       "      <td>4.0</td>\n",
       "      <td>0.0</td>\n",
       "      <td>1.0</td>\n",
       "      <td>3.0</td>\n",
       "      <td>6.0</td>\n",
       "      <td>3.0</td>\n",
       "      <td>3.0</td>\n",
       "      <td>1.0</td>\n",
       "      <td>...</td>\n",
       "      <td>0.0</td>\n",
       "      <td>0.0</td>\n",
       "      <td>0.0</td>\n",
       "      <td>0.0</td>\n",
       "      <td>0.0</td>\n",
       "      <td>0.0</td>\n",
       "      <td>0.0</td>\n",
       "      <td>0.0</td>\n",
       "      <td>0.0</td>\n",
       "      <td>0.0</td>\n",
       "    </tr>\n",
       "  </tbody>\n",
       "</table>\n",
       "<p>1 rows × 2000 columns</p>\n",
       "</div>"
      ],
      "text/plain": [
       "   0     1     2     3     4     5     6     7     8     9     ...  1990  \\\n",
       "0   0.0   1.0   4.0   0.0   1.0   3.0   6.0   3.0   3.0   1.0  ...   0.0   \n",
       "\n",
       "   1991  1992  1993  1994  1995  1996  1997  1998  1999  \n",
       "0   0.0   0.0   0.0   0.0   0.0   0.0   0.0   0.0   0.0  \n",
       "\n",
       "[1 rows x 2000 columns]"
      ]
     },
     "execution_count": 63,
     "metadata": {},
     "output_type": "execute_result"
    }
   ],
   "source": [
    "pd.DataFrame(X_train_trans[[0]])"
   ]
  },
  {
   "cell_type": "code",
   "execution_count": 64,
   "id": "721dbb0a-e5d2-4614-a88a-4ff985582893",
   "metadata": {},
   "outputs": [
    {
     "data": {
      "text/plain": [
       "0        87\n",
       "1        56\n",
       "2       139\n",
       "3       224\n",
       "4       101\n",
       "       ... \n",
       "8977    197\n",
       "8978    214\n",
       "8979     77\n",
       "8980    119\n",
       "8981    105\n",
       "Length: 8982, dtype: int64"
      ]
     },
     "execution_count": 64,
     "metadata": {},
     "output_type": "execute_result"
    }
   ],
   "source": [
    "pd.Series(X_train).apply(len)\n",
    "## length 맞춘 padding "
   ]
  },
  {
   "cell_type": "code",
   "execution_count": 65,
   "id": "19066495-96c1-4c6f-a5e4-95cd731831db",
   "metadata": {},
   "outputs": [],
   "source": [
    "from tensorflow.keras.utils import pad_sequences"
   ]
  },
  {
   "cell_type": "code",
   "execution_count": 66,
   "id": "f50a4215-9c08-4d8e-8c39-07e1edeed658",
   "metadata": {},
   "outputs": [
    {
     "data": {
      "text/plain": [
       "array([[  0,   0,   0, ...,  15,  17,  12],\n",
       "       [  0,   0,   0, ..., 505,  17,  12],\n",
       "       [ 19, 758,  15, ...,  11,  17,  12],\n",
       "       ...,\n",
       "       [  0,   0,   0, ..., 407,  17,  12],\n",
       "       [ 88,   2,  72, ..., 364,  17,  12],\n",
       "       [125,   2,  21, ..., 113,  17,  12]])"
      ]
     },
     "execution_count": 66,
     "metadata": {},
     "output_type": "execute_result"
    }
   ],
   "source": [
    "pad_sequences(X_train,100)"
   ]
  },
  {
   "cell_type": "code",
   "execution_count": 67,
   "id": "16a01185-1e07-494a-81cb-404e613e9cbd",
   "metadata": {},
   "outputs": [],
   "source": [
    "from tensorflow.keras.layers import Embedding, Flatten\n",
    "from tensorflow.keras.layers import Conv2D, Conv1D\n",
    "from tensorflow.keras.layers import MaxPooling2D, MaxPooling1D"
   ]
  },
  {
   "cell_type": "code",
   "execution_count": 68,
   "id": "7968225f-a48e-446e-be11-3b43f1f9ca52",
   "metadata": {},
   "outputs": [],
   "source": [
    "model = Sequential(\n",
    "            [\n",
    "                Embedding(2000,20,input_length=100),\n",
    "                Conv1D(10,5,activation='relu'),\n",
    "                MaxPooling1D(3),\n",
    "                Flatten(),\n",
    "                Dense(256,activation='relu'),\n",
    "                Dense(46,activation='softmax')\n",
    "            ]\n",
    "        )"
   ]
  },
  {
   "cell_type": "code",
   "execution_count": 69,
   "id": "72927f2b-741b-423f-b52e-21cff8939849",
   "metadata": {},
   "outputs": [
    {
     "name": "stdout",
     "output_type": "stream",
     "text": [
      "Model: \"sequential_2\"\n",
      "_________________________________________________________________\n",
      " Layer (type)                Output Shape              Param #   \n",
      "=================================================================\n",
      " embedding (Embedding)       (None, 100, 20)           40000     \n",
      "                                                                 \n",
      " conv1d (Conv1D)             (None, 96, 10)            1010      \n",
      "                                                                 \n",
      " max_pooling1d (MaxPooling1D  (None, 32, 10)           0         \n",
      " )                                                               \n",
      "                                                                 \n",
      " flatten (Flatten)           (None, 320)               0         \n",
      "                                                                 \n",
      " dense_6 (Dense)             (None, 256)               82176     \n",
      "                                                                 \n",
      " dense_7 (Dense)             (None, 46)                11822     \n",
      "                                                                 \n",
      "=================================================================\n",
      "Total params: 135,008\n",
      "Trainable params: 135,008\n",
      "Non-trainable params: 0\n",
      "_________________________________________________________________\n"
     ]
    }
   ],
   "source": [
    "model.summary()"
   ]
  },
  {
   "cell_type": "code",
   "execution_count": 70,
   "id": "a4c12c68-4677-4fd2-8aeb-23440cd366f0",
   "metadata": {},
   "outputs": [
    {
     "data": {
      "text/plain": [
       "array([[   0,    0,    0,    0,    0,    0,    0,    0,    0,    0,    0,\n",
       "           0,    0,    1,    2,    2,    8,   43,   10,  447,    5,   25,\n",
       "         207,  270,    5,    2,  111,   16,  369,  186,   90,   67,    7,\n",
       "          89,    5,   19,  102,    6,   19,  124,   15,   90,   67,   84,\n",
       "          22,  482,   26,    7,   48,    4,   49,    8,  864,   39,  209,\n",
       "         154,    6,  151,    6,   83,   11,   15,   22,  155,   11,   15,\n",
       "           7,   48,    9,    2, 1005,  504,    6,  258,    6,  272,   11,\n",
       "          15,   22,  134,   44,   11,   15,   16,    8,  197, 1245,   90,\n",
       "          67,   52,   29,  209,   30,   32,  132,    6,  109,   15,   17,\n",
       "          12]])"
      ]
     },
     "execution_count": 70,
     "metadata": {},
     "output_type": "execute_result"
    }
   ],
   "source": [
    "pad_sequences(X_train,100)[[0]]"
   ]
  },
  {
   "cell_type": "code",
   "execution_count": 71,
   "id": "0ccaa926-86b5-4a65-a2a9-4162b6f2d9fd",
   "metadata": {},
   "outputs": [
    {
     "name": "stdout",
     "output_type": "stream",
     "text": [
      "1/1 [==============================] - 0s 92ms/step\n"
     ]
    },
    {
     "data": {
      "text/plain": [
       "(1, 46)"
      ]
     },
     "execution_count": 71,
     "metadata": {},
     "output_type": "execute_result"
    }
   ],
   "source": [
    "model.predict(pad_sequences(X_train,100)[[0]]).shape"
   ]
  },
  {
   "cell_type": "code",
   "execution_count": 72,
   "id": "7b72c32e-4f97-460b-9050-d7ba66bd3e82",
   "metadata": {},
   "outputs": [],
   "source": [
    "model = Sequential(\n",
    "    [\n",
    "        Embedding(2000,100,input_length=100),\n",
    "        Flatten(),\n",
    "        Dense(256,activation='relu'),\n",
    "        Dense(46,activation='softmax')\n",
    "    ]\n",
    ")"
   ]
  },
  {
   "cell_type": "code",
   "execution_count": 73,
   "id": "fddd1359-4aa8-4b82-b1a4-46a2821c6619",
   "metadata": {},
   "outputs": [],
   "source": [
    "X_train_trans = pad_sequences(X_train,100)\n",
    "X_test_trans = pad_sequences(X_test,100)\n",
    "y_train_trans = to_categorical(y_train)\n",
    "y_test_trans = to_categorical(y_test)"
   ]
  },
  {
   "cell_type": "code",
   "execution_count": 74,
   "id": "6185af65-b9e9-44c4-a5f9-41682774f3fe",
   "metadata": {},
   "outputs": [],
   "source": [
    "model.compile(optimizer='rmsprop',\n",
    "             loss='categorical_crossentropy',\n",
    "             metrics=['accuracy'])"
   ]
  },
  {
   "cell_type": "code",
   "execution_count": 75,
   "id": "7bb5138f-5929-4d2b-b892-f2b263ef5740",
   "metadata": {},
   "outputs": [
    {
     "name": "stdout",
     "output_type": "stream",
     "text": [
      "Epoch 1/20\n",
      "281/281 [==============================] - 5s 18ms/step - loss: 1.6403 - accuracy: 0.5907 - val_loss: 1.3631 - val_accuracy: 0.6687\n",
      "Epoch 2/20\n",
      "281/281 [==============================] - 5s 18ms/step - loss: 0.7807 - accuracy: 0.8164 - val_loss: 1.3349 - val_accuracy: 0.6852\n",
      "Epoch 3/20\n",
      "281/281 [==============================] - 5s 19ms/step - loss: 0.3306 - accuracy: 0.9377 - val_loss: 1.4438 - val_accuracy: 0.6941\n",
      "Epoch 4/20\n",
      "281/281 [==============================] - 5s 19ms/step - loss: 0.2314 - accuracy: 0.9490 - val_loss: 1.5110 - val_accuracy: 0.6861\n",
      "Epoch 5/20\n",
      "281/281 [==============================] - 5s 19ms/step - loss: 0.1824 - accuracy: 0.9519 - val_loss: 1.6130 - val_accuracy: 0.6883\n",
      "Epoch 6/20\n",
      "281/281 [==============================] - 5s 19ms/step - loss: 0.1535 - accuracy: 0.9529 - val_loss: 1.8189 - val_accuracy: 0.6879\n",
      "Epoch 7/20\n",
      "281/281 [==============================] - 5s 18ms/step - loss: 0.1392 - accuracy: 0.9541 - val_loss: 1.9128 - val_accuracy: 0.6861\n",
      "Epoch 8/20\n",
      "281/281 [==============================] - 5s 18ms/step - loss: 0.1207 - accuracy: 0.9521 - val_loss: 2.0416 - val_accuracy: 0.6892\n",
      "Epoch 9/20\n",
      "281/281 [==============================] - 6s 20ms/step - loss: 0.1130 - accuracy: 0.9525 - val_loss: 2.2350 - val_accuracy: 0.6852\n",
      "Epoch 10/20\n",
      "281/281 [==============================] - 7s 24ms/step - loss: 0.1066 - accuracy: 0.9531 - val_loss: 2.2773 - val_accuracy: 0.6754\n",
      "Epoch 11/20\n",
      "281/281 [==============================] - 7s 23ms/step - loss: 0.1060 - accuracy: 0.9549 - val_loss: 2.3719 - val_accuracy: 0.6732\n",
      "Epoch 12/20\n",
      "281/281 [==============================] - 6s 23ms/step - loss: 0.1010 - accuracy: 0.9525 - val_loss: 2.5935 - val_accuracy: 0.6754\n",
      "Epoch 13/20\n",
      "281/281 [==============================] - 7s 24ms/step - loss: 0.1022 - accuracy: 0.9552 - val_loss: 2.6007 - val_accuracy: 0.6723\n",
      "Epoch 14/20\n",
      "281/281 [==============================] - 7s 23ms/step - loss: 0.1009 - accuracy: 0.9547 - val_loss: 2.6706 - val_accuracy: 0.6679\n",
      "Epoch 15/20\n",
      "281/281 [==============================] - 6s 21ms/step - loss: 0.0998 - accuracy: 0.9540 - val_loss: 2.8445 - val_accuracy: 0.6674\n",
      "Epoch 16/20\n",
      "281/281 [==============================] - 6s 21ms/step - loss: 0.0990 - accuracy: 0.9548 - val_loss: 2.8619 - val_accuracy: 0.6598\n",
      "Epoch 17/20\n",
      "281/281 [==============================] - 6s 20ms/step - loss: 0.0996 - accuracy: 0.9557 - val_loss: 3.0904 - val_accuracy: 0.6581\n",
      "Epoch 18/20\n",
      "281/281 [==============================] - 6s 20ms/step - loss: 0.0999 - accuracy: 0.9542 - val_loss: 3.1159 - val_accuracy: 0.6554\n",
      "Epoch 19/20\n",
      "281/281 [==============================] - 5s 19ms/step - loss: 0.0977 - accuracy: 0.9554 - val_loss: 3.3845 - val_accuracy: 0.6523\n",
      "Epoch 20/20\n",
      "281/281 [==============================] - 5s 19ms/step - loss: 0.1036 - accuracy: 0.9552 - val_loss: 3.1200 - val_accuracy: 0.6505\n"
     ]
    },
    {
     "data": {
      "text/plain": [
       "<keras.callbacks.History at 0x2d883829820>"
      ]
     },
     "execution_count": 75,
     "metadata": {},
     "output_type": "execute_result"
    }
   ],
   "source": [
    "model.fit(\n",
    "    X_train_trans,\n",
    "    y_train_trans,\n",
    "    epochs=20,\n",
    "    validation_data=(X_test_trans,y_test_trans)\n",
    ")"
   ]
  },
  {
   "cell_type": "code",
   "execution_count": 76,
   "id": "6f22159e-a3aa-4bc7-bd4c-3862268c4132",
   "metadata": {},
   "outputs": [
    {
     "name": "stdout",
     "output_type": "stream",
     "text": [
      "71/71 [==============================] - 0s 4ms/step - loss: 3.1200 - accuracy: 0.6505\n"
     ]
    },
    {
     "data": {
      "text/plain": [
       "[3.1199729442596436, 0.6504897475242615]"
      ]
     },
     "execution_count": 76,
     "metadata": {},
     "output_type": "execute_result"
    }
   ],
   "source": [
    "model.evaluate(X_test_trans,y_test_trans)"
   ]
  },
  {
   "cell_type": "code",
   "execution_count": 77,
   "id": "f097521d-82ab-4d64-ba5f-0d413d1f3a14",
   "metadata": {},
   "outputs": [
    {
     "data": {
      "text/plain": [
       "((8982, 100), (8982, 46))"
      ]
     },
     "execution_count": 77,
     "metadata": {},
     "output_type": "execute_result"
    }
   ],
   "source": [
    "X_train_trans.shape, y_train_trans.shape"
   ]
  },
  {
   "cell_type": "code",
   "execution_count": 78,
   "id": "8e65c4d7-3363-450c-8f42-f6c9976c6940",
   "metadata": {},
   "outputs": [],
   "source": [
    "from tensorflow.keras.layers import BatchNormalization\n",
    "model = Sequential(\n",
    "    [\n",
    "        Embedding(2000,100,input_length=100),\n",
    "        Conv1D(50,6,activation='relu'),\n",
    "        BatchNormalization(),\n",
    "        MaxPooling1D(5),\n",
    "        Flatten(),\n",
    "        Dense(256,activation='relu'),\n",
    "        BatchNormalization(),\n",
    "        Dense(46,activation='softmax')\n",
    "    ]\n",
    ")"
   ]
  },
  {
   "cell_type": "code",
   "execution_count": 79,
   "id": "2ea7d9e6-106c-42d5-98e8-192d56925bd1",
   "metadata": {
    "tags": []
   },
   "outputs": [
    {
     "name": "stdout",
     "output_type": "stream",
     "text": [
      "Model: \"sequential_4\"\n",
      "_________________________________________________________________\n",
      " Layer (type)                Output Shape              Param #   \n",
      "=================================================================\n",
      " embedding_2 (Embedding)     (None, 100, 100)          200000    \n",
      "                                                                 \n",
      " conv1d_1 (Conv1D)           (None, 95, 50)            30050     \n",
      "                                                                 \n",
      " batch_normalization (BatchN  (None, 95, 50)           200       \n",
      " ormalization)                                                   \n",
      "                                                                 \n",
      " max_pooling1d_1 (MaxPooling  (None, 19, 50)           0         \n",
      " 1D)                                                             \n",
      "                                                                 \n",
      " flatten_2 (Flatten)         (None, 950)               0         \n",
      "                                                                 \n",
      " dense_10 (Dense)            (None, 256)               243456    \n",
      "                                                                 \n",
      " batch_normalization_1 (Batc  (None, 256)              1024      \n",
      " hNormalization)                                                 \n",
      "                                                                 \n",
      " dense_11 (Dense)            (None, 46)                11822     \n",
      "                                                                 \n",
      "=================================================================\n",
      "Total params: 486,552\n",
      "Trainable params: 485,940\n",
      "Non-trainable params: 612\n",
      "_________________________________________________________________\n"
     ]
    }
   ],
   "source": [
    "model.summary()"
   ]
  },
  {
   "cell_type": "code",
   "execution_count": 80,
   "id": "9ae88775-6a5f-4802-8ce6-4bb14b32b7b5",
   "metadata": {},
   "outputs": [],
   "source": [
    "model.compile(optimizer='adam',\n",
    "             loss='categorical_crossentropy',\n",
    "             metrics=['accuracy'])"
   ]
  },
  {
   "cell_type": "code",
   "execution_count": 81,
   "id": "51ae90ff-dd1e-408c-954e-b23529cf2a24",
   "metadata": {},
   "outputs": [
    {
     "data": {
      "text/plain": [
       "((8982, 100), (8982, 46), (2246, 100), (2246, 46))"
      ]
     },
     "execution_count": 81,
     "metadata": {},
     "output_type": "execute_result"
    }
   ],
   "source": [
    "X_train_trans.shape, y_train_trans.shape, X_test_trans.shape, y_test_trans.shape "
   ]
  },
  {
   "cell_type": "code",
   "execution_count": 82,
   "id": "17fc7249-5b32-417f-900a-77c6ea1bfd79",
   "metadata": {},
   "outputs": [
    {
     "name": "stdout",
     "output_type": "stream",
     "text": [
      "Epoch 1/20\n",
      "281/281 [==============================] - 6s 16ms/step - loss: 1.9395 - accuracy: 0.5731 - val_loss: 3.2584 - val_accuracy: 0.2284\n",
      "Epoch 2/20\n",
      "281/281 [==============================] - 5s 18ms/step - loss: 0.8523 - accuracy: 0.7994 - val_loss: 1.7723 - val_accuracy: 0.6095\n",
      "Epoch 3/20\n",
      "281/281 [==============================] - 4s 16ms/step - loss: 0.4449 - accuracy: 0.9187 - val_loss: 1.4928 - val_accuracy: 0.6812\n",
      "Epoch 4/20\n",
      "281/281 [==============================] - 5s 17ms/step - loss: 0.3236 - accuracy: 0.9420 - val_loss: 1.5154 - val_accuracy: 0.6741\n",
      "Epoch 5/20\n",
      "281/281 [==============================] - 5s 17ms/step - loss: 0.2687 - accuracy: 0.9480 - val_loss: 1.4710 - val_accuracy: 0.6892\n",
      "Epoch 6/20\n",
      "281/281 [==============================] - 5s 18ms/step - loss: 0.2346 - accuracy: 0.9520 - val_loss: 1.4765 - val_accuracy: 0.6977\n",
      "Epoch 7/20\n",
      "281/281 [==============================] - 7s 24ms/step - loss: 0.2173 - accuracy: 0.9518 - val_loss: 1.4591 - val_accuracy: 0.6928\n",
      "Epoch 8/20\n",
      "281/281 [==============================] - 7s 24ms/step - loss: 0.1995 - accuracy: 0.9506 - val_loss: 1.4986 - val_accuracy: 0.6897\n",
      "Epoch 9/20\n",
      "281/281 [==============================] - 7s 24ms/step - loss: 0.1897 - accuracy: 0.9507 - val_loss: 1.4773 - val_accuracy: 0.7030\n",
      "Epoch 10/20\n",
      "281/281 [==============================] - 7s 23ms/step - loss: 0.1704 - accuracy: 0.9528 - val_loss: 1.4762 - val_accuracy: 0.6986\n",
      "Epoch 11/20\n",
      "281/281 [==============================] - 5s 18ms/step - loss: 0.1636 - accuracy: 0.9529 - val_loss: 1.4905 - val_accuracy: 0.7124\n",
      "Epoch 12/20\n",
      "281/281 [==============================] - 5s 16ms/step - loss: 0.1524 - accuracy: 0.9534 - val_loss: 1.6668 - val_accuracy: 0.6794\n",
      "Epoch 13/20\n",
      "281/281 [==============================] - 5s 17ms/step - loss: 0.1452 - accuracy: 0.9547 - val_loss: 1.6741 - val_accuracy: 0.6937\n",
      "Epoch 14/20\n",
      "281/281 [==============================] - 5s 18ms/step - loss: 0.1443 - accuracy: 0.9532 - val_loss: 1.8016 - val_accuracy: 0.6808\n",
      "Epoch 15/20\n",
      "281/281 [==============================] - 5s 17ms/step - loss: 0.1451 - accuracy: 0.9536 - val_loss: 1.7158 - val_accuracy: 0.6834\n",
      "Epoch 16/20\n",
      "281/281 [==============================] - 5s 16ms/step - loss: 0.1348 - accuracy: 0.9549 - val_loss: 1.8288 - val_accuracy: 0.6972\n",
      "Epoch 17/20\n",
      "281/281 [==============================] - 5s 17ms/step - loss: 0.1397 - accuracy: 0.9544 - val_loss: 1.9636 - val_accuracy: 0.6803\n",
      "Epoch 18/20\n",
      "281/281 [==============================] - 5s 17ms/step - loss: 0.1418 - accuracy: 0.9532 - val_loss: 1.7748 - val_accuracy: 0.6946\n",
      "Epoch 19/20\n",
      "281/281 [==============================] - 5s 17ms/step - loss: 0.1327 - accuracy: 0.9548 - val_loss: 1.8370 - val_accuracy: 0.6919\n",
      "Epoch 20/20\n",
      "281/281 [==============================] - 5s 17ms/step - loss: 0.1213 - accuracy: 0.9548 - val_loss: 1.8618 - val_accuracy: 0.6923\n"
     ]
    },
    {
     "data": {
      "text/plain": [
       "<keras.callbacks.History at 0x2d885671d90>"
      ]
     },
     "execution_count": 82,
     "metadata": {},
     "output_type": "execute_result"
    }
   ],
   "source": [
    "model.fit(X_train_trans,\n",
    "         y_train_trans,\n",
    "         epochs=20,\n",
    "         validation_data=(X_test_trans,y_test_trans))"
   ]
  },
  {
   "cell_type": "code",
   "execution_count": 83,
   "id": "117b95eb-9c87-4ac4-8963-3fab96cf22c7",
   "metadata": {},
   "outputs": [],
   "source": [
    "X_test_trans = np.zeros((len(X_test),2000))\n",
    "for i, v in enumerate(X_test):\n",
    "    for j in v:\n",
    "        X_test_trans[i,j] += 1"
   ]
  },
  {
   "cell_type": "code",
   "execution_count": 85,
   "id": "4809d5b3-351c-4981-a2a0-63a077d0cb8f",
   "metadata": {},
   "outputs": [
    {
     "ename": "ValueError",
     "evalue": "in user code:\n\n    File \"C:\\Users\\bjlov\\anaconda3\\lib\\site-packages\\keras\\engine\\training.py\", line 2041, in predict_function  *\n        return step_function(self, iterator)\n    File \"C:\\Users\\bjlov\\anaconda3\\lib\\site-packages\\keras\\engine\\training.py\", line 2027, in step_function  **\n        outputs = model.distribute_strategy.run(run_step, args=(data,))\n    File \"C:\\Users\\bjlov\\anaconda3\\lib\\site-packages\\keras\\engine\\training.py\", line 2015, in run_step  **\n        outputs = model.predict_step(data)\n    File \"C:\\Users\\bjlov\\anaconda3\\lib\\site-packages\\keras\\engine\\training.py\", line 1983, in predict_step\n        return self(x, training=False)\n    File \"C:\\Users\\bjlov\\anaconda3\\lib\\site-packages\\keras\\utils\\traceback_utils.py\", line 70, in error_handler\n        raise e.with_traceback(filtered_tb) from None\n    File \"C:\\Users\\bjlov\\anaconda3\\lib\\site-packages\\keras\\engine\\input_spec.py\", line 295, in assert_input_compatibility\n        raise ValueError(\n\n    ValueError: Input 0 of layer \"sequential_4\" is incompatible with the layer: expected shape=(None, 100), found shape=(None, 2000)\n",
     "output_type": "error",
     "traceback": [
      "\u001b[1;31m---------------------------------------------------------------------------\u001b[0m",
      "\u001b[1;31mValueError\u001b[0m                                Traceback (most recent call last)",
      "Cell \u001b[1;32mIn[85], line 1\u001b[0m\n\u001b[1;32m----> 1\u001b[0m np\u001b[38;5;241m.\u001b[39margmax(\u001b[43mmodel\u001b[49m\u001b[38;5;241;43m.\u001b[39;49m\u001b[43mpredict\u001b[49m\u001b[43m(\u001b[49m\u001b[43mX_test_trans\u001b[49m\u001b[43m)\u001b[49m,axis\u001b[38;5;241m=\u001b[39m\u001b[38;5;241m1\u001b[39m) \u001b[38;5;241m==\u001b[39m y_test\n",
      "File \u001b[1;32m~\\anaconda3\\lib\\site-packages\\keras\\utils\\traceback_utils.py:70\u001b[0m, in \u001b[0;36mfilter_traceback.<locals>.error_handler\u001b[1;34m(*args, **kwargs)\u001b[0m\n\u001b[0;32m     67\u001b[0m     filtered_tb \u001b[38;5;241m=\u001b[39m _process_traceback_frames(e\u001b[38;5;241m.\u001b[39m__traceback__)\n\u001b[0;32m     68\u001b[0m     \u001b[38;5;66;03m# To get the full stack trace, call:\u001b[39;00m\n\u001b[0;32m     69\u001b[0m     \u001b[38;5;66;03m# `tf.debugging.disable_traceback_filtering()`\u001b[39;00m\n\u001b[1;32m---> 70\u001b[0m     \u001b[38;5;28;01mraise\u001b[39;00m e\u001b[38;5;241m.\u001b[39mwith_traceback(filtered_tb) \u001b[38;5;28;01mfrom\u001b[39;00m \u001b[38;5;28mNone\u001b[39m\n\u001b[0;32m     71\u001b[0m \u001b[38;5;28;01mfinally\u001b[39;00m:\n\u001b[0;32m     72\u001b[0m     \u001b[38;5;28;01mdel\u001b[39;00m filtered_tb\n",
      "File \u001b[1;32m~\\AppData\\Local\\Temp\\__autograph_generated_filej660khfn.py:15\u001b[0m, in \u001b[0;36mouter_factory.<locals>.inner_factory.<locals>.tf__predict_function\u001b[1;34m(iterator)\u001b[0m\n\u001b[0;32m     13\u001b[0m \u001b[38;5;28;01mtry\u001b[39;00m:\n\u001b[0;32m     14\u001b[0m     do_return \u001b[38;5;241m=\u001b[39m \u001b[38;5;28;01mTrue\u001b[39;00m\n\u001b[1;32m---> 15\u001b[0m     retval_ \u001b[38;5;241m=\u001b[39m ag__\u001b[38;5;241m.\u001b[39mconverted_call(ag__\u001b[38;5;241m.\u001b[39mld(step_function), (ag__\u001b[38;5;241m.\u001b[39mld(\u001b[38;5;28mself\u001b[39m), ag__\u001b[38;5;241m.\u001b[39mld(iterator)), \u001b[38;5;28;01mNone\u001b[39;00m, fscope)\n\u001b[0;32m     16\u001b[0m \u001b[38;5;28;01mexcept\u001b[39;00m:\n\u001b[0;32m     17\u001b[0m     do_return \u001b[38;5;241m=\u001b[39m \u001b[38;5;28;01mFalse\u001b[39;00m\n",
      "\u001b[1;31mValueError\u001b[0m: in user code:\n\n    File \"C:\\Users\\bjlov\\anaconda3\\lib\\site-packages\\keras\\engine\\training.py\", line 2041, in predict_function  *\n        return step_function(self, iterator)\n    File \"C:\\Users\\bjlov\\anaconda3\\lib\\site-packages\\keras\\engine\\training.py\", line 2027, in step_function  **\n        outputs = model.distribute_strategy.run(run_step, args=(data,))\n    File \"C:\\Users\\bjlov\\anaconda3\\lib\\site-packages\\keras\\engine\\training.py\", line 2015, in run_step  **\n        outputs = model.predict_step(data)\n    File \"C:\\Users\\bjlov\\anaconda3\\lib\\site-packages\\keras\\engine\\training.py\", line 1983, in predict_step\n        return self(x, training=False)\n    File \"C:\\Users\\bjlov\\anaconda3\\lib\\site-packages\\keras\\utils\\traceback_utils.py\", line 70, in error_handler\n        raise e.with_traceback(filtered_tb) from None\n    File \"C:\\Users\\bjlov\\anaconda3\\lib\\site-packages\\keras\\engine\\input_spec.py\", line 295, in assert_input_compatibility\n        raise ValueError(\n\n    ValueError: Input 0 of layer \"sequential_4\" is incompatible with the layer: expected shape=(None, 100), found shape=(None, 2000)\n"
     ]
    }
   ],
   "source": [
    "np.argmax(model.predict(X_test_trans),axis=1) == y_test"
   ]
  },
  {
   "cell_type": "code",
   "execution_count": 86,
   "id": "d64ac299-59b6-4775-8dda-f5c3cbbd9bc8",
   "metadata": {},
   "outputs": [
    {
     "ename": "ValueError",
     "evalue": "in user code:\n\n    File \"C:\\Users\\bjlov\\anaconda3\\lib\\site-packages\\keras\\engine\\training.py\", line 2041, in predict_function  *\n        return step_function(self, iterator)\n    File \"C:\\Users\\bjlov\\anaconda3\\lib\\site-packages\\keras\\engine\\training.py\", line 2027, in step_function  **\n        outputs = model.distribute_strategy.run(run_step, args=(data,))\n    File \"C:\\Users\\bjlov\\anaconda3\\lib\\site-packages\\keras\\engine\\training.py\", line 2015, in run_step  **\n        outputs = model.predict_step(data)\n    File \"C:\\Users\\bjlov\\anaconda3\\lib\\site-packages\\keras\\engine\\training.py\", line 1983, in predict_step\n        return self(x, training=False)\n    File \"C:\\Users\\bjlov\\anaconda3\\lib\\site-packages\\keras\\utils\\traceback_utils.py\", line 70, in error_handler\n        raise e.with_traceback(filtered_tb) from None\n    File \"C:\\Users\\bjlov\\anaconda3\\lib\\site-packages\\keras\\engine\\input_spec.py\", line 295, in assert_input_compatibility\n        raise ValueError(\n\n    ValueError: Input 0 of layer \"sequential_4\" is incompatible with the layer: expected shape=(None, 100), found shape=(None, 2000)\n",
     "output_type": "error",
     "traceback": [
      "\u001b[1;31m---------------------------------------------------------------------------\u001b[0m",
      "\u001b[1;31mValueError\u001b[0m                                Traceback (most recent call last)",
      "Cell \u001b[1;32mIn[86], line 1\u001b[0m\n\u001b[1;32m----> 1\u001b[0m np\u001b[38;5;241m.\u001b[39msum(np\u001b[38;5;241m.\u001b[39margmax(\u001b[43mmodel\u001b[49m\u001b[38;5;241;43m.\u001b[39;49m\u001b[43mpredict\u001b[49m\u001b[43m(\u001b[49m\u001b[43mX_test_trans\u001b[49m\u001b[43m)\u001b[49m,axis\u001b[38;5;241m=\u001b[39m\u001b[38;5;241m1\u001b[39m) \u001b[38;5;241m==\u001b[39m y_test)\u001b[38;5;241m/\u001b[39m\u001b[38;5;241m2246\u001b[39m\n",
      "File \u001b[1;32m~\\anaconda3\\lib\\site-packages\\keras\\utils\\traceback_utils.py:70\u001b[0m, in \u001b[0;36mfilter_traceback.<locals>.error_handler\u001b[1;34m(*args, **kwargs)\u001b[0m\n\u001b[0;32m     67\u001b[0m     filtered_tb \u001b[38;5;241m=\u001b[39m _process_traceback_frames(e\u001b[38;5;241m.\u001b[39m__traceback__)\n\u001b[0;32m     68\u001b[0m     \u001b[38;5;66;03m# To get the full stack trace, call:\u001b[39;00m\n\u001b[0;32m     69\u001b[0m     \u001b[38;5;66;03m# `tf.debugging.disable_traceback_filtering()`\u001b[39;00m\n\u001b[1;32m---> 70\u001b[0m     \u001b[38;5;28;01mraise\u001b[39;00m e\u001b[38;5;241m.\u001b[39mwith_traceback(filtered_tb) \u001b[38;5;28;01mfrom\u001b[39;00m \u001b[38;5;28mNone\u001b[39m\n\u001b[0;32m     71\u001b[0m \u001b[38;5;28;01mfinally\u001b[39;00m:\n\u001b[0;32m     72\u001b[0m     \u001b[38;5;28;01mdel\u001b[39;00m filtered_tb\n",
      "File \u001b[1;32m~\\AppData\\Local\\Temp\\__autograph_generated_filej660khfn.py:15\u001b[0m, in \u001b[0;36mouter_factory.<locals>.inner_factory.<locals>.tf__predict_function\u001b[1;34m(iterator)\u001b[0m\n\u001b[0;32m     13\u001b[0m \u001b[38;5;28;01mtry\u001b[39;00m:\n\u001b[0;32m     14\u001b[0m     do_return \u001b[38;5;241m=\u001b[39m \u001b[38;5;28;01mTrue\u001b[39;00m\n\u001b[1;32m---> 15\u001b[0m     retval_ \u001b[38;5;241m=\u001b[39m ag__\u001b[38;5;241m.\u001b[39mconverted_call(ag__\u001b[38;5;241m.\u001b[39mld(step_function), (ag__\u001b[38;5;241m.\u001b[39mld(\u001b[38;5;28mself\u001b[39m), ag__\u001b[38;5;241m.\u001b[39mld(iterator)), \u001b[38;5;28;01mNone\u001b[39;00m, fscope)\n\u001b[0;32m     16\u001b[0m \u001b[38;5;28;01mexcept\u001b[39;00m:\n\u001b[0;32m     17\u001b[0m     do_return \u001b[38;5;241m=\u001b[39m \u001b[38;5;28;01mFalse\u001b[39;00m\n",
      "\u001b[1;31mValueError\u001b[0m: in user code:\n\n    File \"C:\\Users\\bjlov\\anaconda3\\lib\\site-packages\\keras\\engine\\training.py\", line 2041, in predict_function  *\n        return step_function(self, iterator)\n    File \"C:\\Users\\bjlov\\anaconda3\\lib\\site-packages\\keras\\engine\\training.py\", line 2027, in step_function  **\n        outputs = model.distribute_strategy.run(run_step, args=(data,))\n    File \"C:\\Users\\bjlov\\anaconda3\\lib\\site-packages\\keras\\engine\\training.py\", line 2015, in run_step  **\n        outputs = model.predict_step(data)\n    File \"C:\\Users\\bjlov\\anaconda3\\lib\\site-packages\\keras\\engine\\training.py\", line 1983, in predict_step\n        return self(x, training=False)\n    File \"C:\\Users\\bjlov\\anaconda3\\lib\\site-packages\\keras\\utils\\traceback_utils.py\", line 70, in error_handler\n        raise e.with_traceback(filtered_tb) from None\n    File \"C:\\Users\\bjlov\\anaconda3\\lib\\site-packages\\keras\\engine\\input_spec.py\", line 295, in assert_input_compatibility\n        raise ValueError(\n\n    ValueError: Input 0 of layer \"sequential_4\" is incompatible with the layer: expected shape=(None, 100), found shape=(None, 2000)\n"
     ]
    }
   ],
   "source": [
    "np.sum(np.argmax(model.predict(X_test_trans),axis=1) == y_test)/2246"
   ]
  },
  {
   "cell_type": "code",
   "execution_count": 87,
   "id": "28a44081-ee31-46c8-b91d-0a98f4a8b42a",
   "metadata": {},
   "outputs": [
    {
     "data": {
      "text/plain": [
       "(2246,)"
      ]
     },
     "execution_count": 87,
     "metadata": {},
     "output_type": "execute_result"
    }
   ],
   "source": [
    "y_test.shape"
   ]
  },
  {
   "cell_type": "code",
   "execution_count": 88,
   "id": "89f87c56-92e6-4db8-a8d5-10da4f830101",
   "metadata": {},
   "outputs": [],
   "source": [
    "rf = RandomForestClassifier()"
   ]
  },
  {
   "cell_type": "code",
   "execution_count": 89,
   "id": "7dbf45df-aca7-4077-9f64-f4fc85722379",
   "metadata": {},
   "outputs": [
    {
     "data": {
      "text/html": [
       "<style>#sk-container-id-2 {color: black;background-color: white;}#sk-container-id-2 pre{padding: 0;}#sk-container-id-2 div.sk-toggleable {background-color: white;}#sk-container-id-2 label.sk-toggleable__label {cursor: pointer;display: block;width: 100%;margin-bottom: 0;padding: 0.3em;box-sizing: border-box;text-align: center;}#sk-container-id-2 label.sk-toggleable__label-arrow:before {content: \"▸\";float: left;margin-right: 0.25em;color: #696969;}#sk-container-id-2 label.sk-toggleable__label-arrow:hover:before {color: black;}#sk-container-id-2 div.sk-estimator:hover label.sk-toggleable__label-arrow:before {color: black;}#sk-container-id-2 div.sk-toggleable__content {max-height: 0;max-width: 0;overflow: hidden;text-align: left;background-color: #f0f8ff;}#sk-container-id-2 div.sk-toggleable__content pre {margin: 0.2em;color: black;border-radius: 0.25em;background-color: #f0f8ff;}#sk-container-id-2 input.sk-toggleable__control:checked~div.sk-toggleable__content {max-height: 200px;max-width: 100%;overflow: auto;}#sk-container-id-2 input.sk-toggleable__control:checked~label.sk-toggleable__label-arrow:before {content: \"▾\";}#sk-container-id-2 div.sk-estimator input.sk-toggleable__control:checked~label.sk-toggleable__label {background-color: #d4ebff;}#sk-container-id-2 div.sk-label input.sk-toggleable__control:checked~label.sk-toggleable__label {background-color: #d4ebff;}#sk-container-id-2 input.sk-hidden--visually {border: 0;clip: rect(1px 1px 1px 1px);clip: rect(1px, 1px, 1px, 1px);height: 1px;margin: -1px;overflow: hidden;padding: 0;position: absolute;width: 1px;}#sk-container-id-2 div.sk-estimator {font-family: monospace;background-color: #f0f8ff;border: 1px dotted black;border-radius: 0.25em;box-sizing: border-box;margin-bottom: 0.5em;}#sk-container-id-2 div.sk-estimator:hover {background-color: #d4ebff;}#sk-container-id-2 div.sk-parallel-item::after {content: \"\";width: 100%;border-bottom: 1px solid gray;flex-grow: 1;}#sk-container-id-2 div.sk-label:hover label.sk-toggleable__label {background-color: #d4ebff;}#sk-container-id-2 div.sk-serial::before {content: \"\";position: absolute;border-left: 1px solid gray;box-sizing: border-box;top: 0;bottom: 0;left: 50%;z-index: 0;}#sk-container-id-2 div.sk-serial {display: flex;flex-direction: column;align-items: center;background-color: white;padding-right: 0.2em;padding-left: 0.2em;position: relative;}#sk-container-id-2 div.sk-item {position: relative;z-index: 1;}#sk-container-id-2 div.sk-parallel {display: flex;align-items: stretch;justify-content: center;background-color: white;position: relative;}#sk-container-id-2 div.sk-item::before, #sk-container-id-2 div.sk-parallel-item::before {content: \"\";position: absolute;border-left: 1px solid gray;box-sizing: border-box;top: 0;bottom: 0;left: 50%;z-index: -1;}#sk-container-id-2 div.sk-parallel-item {display: flex;flex-direction: column;z-index: 1;position: relative;background-color: white;}#sk-container-id-2 div.sk-parallel-item:first-child::after {align-self: flex-end;width: 50%;}#sk-container-id-2 div.sk-parallel-item:last-child::after {align-self: flex-start;width: 50%;}#sk-container-id-2 div.sk-parallel-item:only-child::after {width: 0;}#sk-container-id-2 div.sk-dashed-wrapped {border: 1px dashed gray;margin: 0 0.4em 0.5em 0.4em;box-sizing: border-box;padding-bottom: 0.4em;background-color: white;}#sk-container-id-2 div.sk-label label {font-family: monospace;font-weight: bold;display: inline-block;line-height: 1.2em;}#sk-container-id-2 div.sk-label-container {text-align: center;}#sk-container-id-2 div.sk-container {/* jupyter's `normalize.less` sets `[hidden] { display: none; }` but bootstrap.min.css set `[hidden] { display: none !important; }` so we also need the `!important` here to be able to override the default hidden behavior on the sphinx rendered scikit-learn.org. See: https://github.com/scikit-learn/scikit-learn/issues/21755 */display: inline-block !important;position: relative;}#sk-container-id-2 div.sk-text-repr-fallback {display: none;}</style><div id=\"sk-container-id-2\" class=\"sk-top-container\"><div class=\"sk-text-repr-fallback\"><pre>RandomForestClassifier()</pre><b>In a Jupyter environment, please rerun this cell to show the HTML representation or trust the notebook. <br />On GitHub, the HTML representation is unable to render, please try loading this page with nbviewer.org.</b></div><div class=\"sk-container\" hidden><div class=\"sk-item\"><div class=\"sk-estimator sk-toggleable\"><input class=\"sk-toggleable__control sk-hidden--visually\" id=\"sk-estimator-id-2\" type=\"checkbox\" checked><label for=\"sk-estimator-id-2\" class=\"sk-toggleable__label sk-toggleable__label-arrow\">RandomForestClassifier</label><div class=\"sk-toggleable__content\"><pre>RandomForestClassifier()</pre></div></div></div></div></div>"
      ],
      "text/plain": [
       "RandomForestClassifier()"
      ]
     },
     "execution_count": 89,
     "metadata": {},
     "output_type": "execute_result"
    }
   ],
   "source": [
    "rf.fit(X_train_trans, y_train_trans)"
   ]
  },
  {
   "cell_type": "code",
   "execution_count": 90,
   "id": "f65df331-ed09-466e-af35-f938aa531edc",
   "metadata": {},
   "outputs": [
    {
     "data": {
      "text/html": [
       "<style>#sk-container-id-3 {color: black;background-color: white;}#sk-container-id-3 pre{padding: 0;}#sk-container-id-3 div.sk-toggleable {background-color: white;}#sk-container-id-3 label.sk-toggleable__label {cursor: pointer;display: block;width: 100%;margin-bottom: 0;padding: 0.3em;box-sizing: border-box;text-align: center;}#sk-container-id-3 label.sk-toggleable__label-arrow:before {content: \"▸\";float: left;margin-right: 0.25em;color: #696969;}#sk-container-id-3 label.sk-toggleable__label-arrow:hover:before {color: black;}#sk-container-id-3 div.sk-estimator:hover label.sk-toggleable__label-arrow:before {color: black;}#sk-container-id-3 div.sk-toggleable__content {max-height: 0;max-width: 0;overflow: hidden;text-align: left;background-color: #f0f8ff;}#sk-container-id-3 div.sk-toggleable__content pre {margin: 0.2em;color: black;border-radius: 0.25em;background-color: #f0f8ff;}#sk-container-id-3 input.sk-toggleable__control:checked~div.sk-toggleable__content {max-height: 200px;max-width: 100%;overflow: auto;}#sk-container-id-3 input.sk-toggleable__control:checked~label.sk-toggleable__label-arrow:before {content: \"▾\";}#sk-container-id-3 div.sk-estimator input.sk-toggleable__control:checked~label.sk-toggleable__label {background-color: #d4ebff;}#sk-container-id-3 div.sk-label input.sk-toggleable__control:checked~label.sk-toggleable__label {background-color: #d4ebff;}#sk-container-id-3 input.sk-hidden--visually {border: 0;clip: rect(1px 1px 1px 1px);clip: rect(1px, 1px, 1px, 1px);height: 1px;margin: -1px;overflow: hidden;padding: 0;position: absolute;width: 1px;}#sk-container-id-3 div.sk-estimator {font-family: monospace;background-color: #f0f8ff;border: 1px dotted black;border-radius: 0.25em;box-sizing: border-box;margin-bottom: 0.5em;}#sk-container-id-3 div.sk-estimator:hover {background-color: #d4ebff;}#sk-container-id-3 div.sk-parallel-item::after {content: \"\";width: 100%;border-bottom: 1px solid gray;flex-grow: 1;}#sk-container-id-3 div.sk-label:hover label.sk-toggleable__label {background-color: #d4ebff;}#sk-container-id-3 div.sk-serial::before {content: \"\";position: absolute;border-left: 1px solid gray;box-sizing: border-box;top: 0;bottom: 0;left: 50%;z-index: 0;}#sk-container-id-3 div.sk-serial {display: flex;flex-direction: column;align-items: center;background-color: white;padding-right: 0.2em;padding-left: 0.2em;position: relative;}#sk-container-id-3 div.sk-item {position: relative;z-index: 1;}#sk-container-id-3 div.sk-parallel {display: flex;align-items: stretch;justify-content: center;background-color: white;position: relative;}#sk-container-id-3 div.sk-item::before, #sk-container-id-3 div.sk-parallel-item::before {content: \"\";position: absolute;border-left: 1px solid gray;box-sizing: border-box;top: 0;bottom: 0;left: 50%;z-index: -1;}#sk-container-id-3 div.sk-parallel-item {display: flex;flex-direction: column;z-index: 1;position: relative;background-color: white;}#sk-container-id-3 div.sk-parallel-item:first-child::after {align-self: flex-end;width: 50%;}#sk-container-id-3 div.sk-parallel-item:last-child::after {align-self: flex-start;width: 50%;}#sk-container-id-3 div.sk-parallel-item:only-child::after {width: 0;}#sk-container-id-3 div.sk-dashed-wrapped {border: 1px dashed gray;margin: 0 0.4em 0.5em 0.4em;box-sizing: border-box;padding-bottom: 0.4em;background-color: white;}#sk-container-id-3 div.sk-label label {font-family: monospace;font-weight: bold;display: inline-block;line-height: 1.2em;}#sk-container-id-3 div.sk-label-container {text-align: center;}#sk-container-id-3 div.sk-container {/* jupyter's `normalize.less` sets `[hidden] { display: none; }` but bootstrap.min.css set `[hidden] { display: none !important; }` so we also need the `!important` here to be able to override the default hidden behavior on the sphinx rendered scikit-learn.org. See: https://github.com/scikit-learn/scikit-learn/issues/21755 */display: inline-block !important;position: relative;}#sk-container-id-3 div.sk-text-repr-fallback {display: none;}</style><div id=\"sk-container-id-3\" class=\"sk-top-container\"><div class=\"sk-text-repr-fallback\"><pre>RandomForestClassifier()</pre><b>In a Jupyter environment, please rerun this cell to show the HTML representation or trust the notebook. <br />On GitHub, the HTML representation is unable to render, please try loading this page with nbviewer.org.</b></div><div class=\"sk-container\" hidden><div class=\"sk-item\"><div class=\"sk-estimator sk-toggleable\"><input class=\"sk-toggleable__control sk-hidden--visually\" id=\"sk-estimator-id-3\" type=\"checkbox\" checked><label for=\"sk-estimator-id-3\" class=\"sk-toggleable__label sk-toggleable__label-arrow\">RandomForestClassifier</label><div class=\"sk-toggleable__content\"><pre>RandomForestClassifier()</pre></div></div></div></div></div>"
      ],
      "text/plain": [
       "RandomForestClassifier()"
      ]
     },
     "execution_count": 90,
     "metadata": {},
     "output_type": "execute_result"
    }
   ],
   "source": [
    "rf.fit(X_train_trans, y_train_trans)"
   ]
  },
  {
   "cell_type": "code",
   "execution_count": 91,
   "id": "8f94a14d-9a29-480c-a932-2a961d6b52dd",
   "metadata": {},
   "outputs": [
    {
     "data": {
      "text/plain": [
       "' the of of mln loss for plc said at only ended said of could 1 traders now april 0 a after said from 1985 and from foreign 000 april 0 prices its account year a but in this mln home an states earlier and rise and revs vs 000 its 16 vs 000 a but 3 of oils several and shareholders and dividend vs 000 its all 4 vs 000 1 mln agreed largely april 0 are 2 states will billion total and against 000 pct dlrs'"
      ]
     },
     "execution_count": 91,
     "metadata": {},
     "output_type": "execute_result"
    }
   ],
   "source": [
    "sentence = ''\n",
    "for i in X_train[0]:\n",
    "    sentence += ' '+index_word.get(i)\n",
    "sentence"
   ]
  },
  {
   "cell_type": "code",
   "execution_count": 92,
   "id": "1b913189-68f3-4f00-bfa5-948ee5ba5e9a",
   "metadata": {},
   "outputs": [
    {
     "data": {
      "text/html": [
       "<div>\n",
       "<style scoped>\n",
       "    .dataframe tbody tr th:only-of-type {\n",
       "        vertical-align: middle;\n",
       "    }\n",
       "\n",
       "    .dataframe tbody tr th {\n",
       "        vertical-align: top;\n",
       "    }\n",
       "\n",
       "    .dataframe thead th {\n",
       "        text-align: right;\n",
       "    }\n",
       "</style>\n",
       "<table border=\"1\" class=\"dataframe\">\n",
       "  <thead>\n",
       "    <tr style=\"text-align: right;\">\n",
       "      <th></th>\n",
       "      <th>0</th>\n",
       "      <th>1</th>\n",
       "      <th>2</th>\n",
       "      <th>3</th>\n",
       "      <th>4</th>\n",
       "      <th>5</th>\n",
       "      <th>6</th>\n",
       "      <th>7</th>\n",
       "      <th>8</th>\n",
       "      <th>9</th>\n",
       "      <th>...</th>\n",
       "      <th>90</th>\n",
       "      <th>91</th>\n",
       "      <th>92</th>\n",
       "      <th>93</th>\n",
       "      <th>94</th>\n",
       "      <th>95</th>\n",
       "      <th>96</th>\n",
       "      <th>97</th>\n",
       "      <th>98</th>\n",
       "      <th>99</th>\n",
       "    </tr>\n",
       "  </thead>\n",
       "  <tbody>\n",
       "    <tr>\n",
       "      <th>0</th>\n",
       "      <td>0</td>\n",
       "      <td>0</td>\n",
       "      <td>0</td>\n",
       "      <td>0</td>\n",
       "      <td>0</td>\n",
       "      <td>0</td>\n",
       "      <td>0</td>\n",
       "      <td>0</td>\n",
       "      <td>0</td>\n",
       "      <td>0</td>\n",
       "      <td>...</td>\n",
       "      <td>29</td>\n",
       "      <td>209</td>\n",
       "      <td>30</td>\n",
       "      <td>32</td>\n",
       "      <td>132</td>\n",
       "      <td>6</td>\n",
       "      <td>109</td>\n",
       "      <td>15</td>\n",
       "      <td>17</td>\n",
       "      <td>12</td>\n",
       "    </tr>\n",
       "  </tbody>\n",
       "</table>\n",
       "<p>1 rows × 100 columns</p>\n",
       "</div>"
      ],
      "text/plain": [
       "   0   1   2   3   4   5   6   7   8   9   ...  90   91  92  93   94  95   96  \\\n",
       "0   0   0   0   0   0   0   0   0   0   0  ...  29  209  30  32  132   6  109   \n",
       "\n",
       "   97  98  99  \n",
       "0  15  17  12  \n",
       "\n",
       "[1 rows x 100 columns]"
      ]
     },
     "execution_count": 92,
     "metadata": {},
     "output_type": "execute_result"
    }
   ],
   "source": [
    "pd.DataFrame(X_train_trans[[0]])"
   ]
  },
  {
   "cell_type": "code",
   "execution_count": 93,
   "id": "c69823b7-a722-4773-be63-64fcd1f55ec9",
   "metadata": {},
   "outputs": [
    {
     "data": {
      "text/plain": [
       "0        87\n",
       "1        56\n",
       "2       139\n",
       "3       224\n",
       "4       101\n",
       "       ... \n",
       "8977    197\n",
       "8978    214\n",
       "8979     77\n",
       "8980    119\n",
       "8981    105\n",
       "Length: 8982, dtype: int64"
      ]
     },
     "execution_count": 93,
     "metadata": {},
     "output_type": "execute_result"
    }
   ],
   "source": [
    "pd.Series(X_train).apply(len)\n",
    "## length 맞춘 padding "
   ]
  },
  {
   "cell_type": "code",
   "execution_count": 94,
   "id": "a35387b3-3064-4de6-bc36-30230cf0da0e",
   "metadata": {},
   "outputs": [],
   "source": [
    "from tensorflow.keras.utils import pad_sequences"
   ]
  },
  {
   "cell_type": "code",
   "execution_count": 95,
   "id": "5c85031c-408b-454d-aff1-ce675a6b34c1",
   "metadata": {},
   "outputs": [
    {
     "data": {
      "text/plain": [
       "array([[  0,   0,   0, ...,  15,  17,  12],\n",
       "       [  0,   0,   0, ..., 505,  17,  12],\n",
       "       [ 19, 758,  15, ...,  11,  17,  12],\n",
       "       ...,\n",
       "       [  0,   0,   0, ..., 407,  17,  12],\n",
       "       [ 88,   2,  72, ..., 364,  17,  12],\n",
       "       [125,   2,  21, ..., 113,  17,  12]])"
      ]
     },
     "execution_count": 95,
     "metadata": {},
     "output_type": "execute_result"
    }
   ],
   "source": [
    "pad_sequences(X_train,100)"
   ]
  },
  {
   "cell_type": "code",
   "execution_count": 96,
   "id": "cd8e3180-cc56-4dde-a764-991c7c802680",
   "metadata": {},
   "outputs": [],
   "source": [
    "from tensorflow.keras.layers import Embedding, Flatten\n",
    "from tensorflow.keras.layers import Conv2D, Conv1D\n",
    "from tensorflow.keras.layers import MaxPooling2D, MaxPooling1D"
   ]
  },
  {
   "cell_type": "code",
   "execution_count": 97,
   "id": "931009b8-f848-4695-9f26-554cef49f6b0",
   "metadata": {},
   "outputs": [],
   "source": [
    "model = Sequential(\n",
    "            [\n",
    "                Embedding(2000,20,input_length=100),\n",
    "                Conv1D(10,5,activation='relu'),\n",
    "                MaxPooling1D(3),\n",
    "                Flatten(),\n",
    "                Dense(256,activation='relu'),\n",
    "                Dense(46,activation='softmax')\n",
    "            ]\n",
    "        )"
   ]
  },
  {
   "cell_type": "code",
   "execution_count": 98,
   "id": "de5f0c76-0188-432f-907e-dd7d32a74e96",
   "metadata": {},
   "outputs": [
    {
     "name": "stdout",
     "output_type": "stream",
     "text": [
      "Model: \"sequential_5\"\n",
      "_________________________________________________________________\n",
      " Layer (type)                Output Shape              Param #   \n",
      "=================================================================\n",
      " embedding_3 (Embedding)     (None, 100, 20)           40000     \n",
      "                                                                 \n",
      " conv1d_2 (Conv1D)           (None, 96, 10)            1010      \n",
      "                                                                 \n",
      " max_pooling1d_2 (MaxPooling  (None, 32, 10)           0         \n",
      " 1D)                                                             \n",
      "                                                                 \n",
      " flatten_3 (Flatten)         (None, 320)               0         \n",
      "                                                                 \n",
      " dense_12 (Dense)            (None, 256)               82176     \n",
      "                                                                 \n",
      " dense_13 (Dense)            (None, 46)                11822     \n",
      "                                                                 \n",
      "=================================================================\n",
      "Total params: 135,008\n",
      "Trainable params: 135,008\n",
      "Non-trainable params: 0\n",
      "_________________________________________________________________\n"
     ]
    }
   ],
   "source": [
    "model.summary()"
   ]
  },
  {
   "cell_type": "code",
   "execution_count": 99,
   "id": "1530876c-2ec4-4cb2-8d2b-c282ce38766c",
   "metadata": {},
   "outputs": [
    {
     "data": {
      "text/plain": [
       "array([[   0,    0,    0,    0,    0,    0,    0,    0,    0,    0,    0,\n",
       "           0,    0,    1,    2,    2,    8,   43,   10,  447,    5,   25,\n",
       "         207,  270,    5,    2,  111,   16,  369,  186,   90,   67,    7,\n",
       "          89,    5,   19,  102,    6,   19,  124,   15,   90,   67,   84,\n",
       "          22,  482,   26,    7,   48,    4,   49,    8,  864,   39,  209,\n",
       "         154,    6,  151,    6,   83,   11,   15,   22,  155,   11,   15,\n",
       "           7,   48,    9,    2, 1005,  504,    6,  258,    6,  272,   11,\n",
       "          15,   22,  134,   44,   11,   15,   16,    8,  197, 1245,   90,\n",
       "          67,   52,   29,  209,   30,   32,  132,    6,  109,   15,   17,\n",
       "          12]])"
      ]
     },
     "execution_count": 99,
     "metadata": {},
     "output_type": "execute_result"
    }
   ],
   "source": [
    "pad_sequences(X_train,100)[[0]]"
   ]
  },
  {
   "cell_type": "code",
   "execution_count": 100,
   "id": "ed09543e-c55d-48d4-9a4a-66989c86261a",
   "metadata": {},
   "outputs": [
    {
     "name": "stdout",
     "output_type": "stream",
     "text": [
      "1/1 [==============================] - 0s 68ms/step\n"
     ]
    },
    {
     "data": {
      "text/plain": [
       "(1, 46)"
      ]
     },
     "execution_count": 100,
     "metadata": {},
     "output_type": "execute_result"
    }
   ],
   "source": [
    "model.predict(pad_sequences(X_train,100)[[0]]).shape"
   ]
  },
  {
   "cell_type": "code",
   "execution_count": 101,
   "id": "afc2d9e3-8fa6-461b-b12a-68c3ab471bdb",
   "metadata": {},
   "outputs": [],
   "source": [
    "model = Sequential(\n",
    "    [\n",
    "        Embedding(2000,100,input_length=100),\n",
    "        Flatten(),\n",
    "        Dense(256,activation='relu'),\n",
    "        Dense(46,activation='softmax')\n",
    "    ]\n",
    ")"
   ]
  },
  {
   "cell_type": "code",
   "execution_count": 102,
   "id": "ac2ae91e-e2fa-44eb-a192-e58650a363cd",
   "metadata": {},
   "outputs": [],
   "source": [
    "X_train_trans = pad_sequences(X_train,100)\n",
    "X_test_trans = pad_sequences(X_test,100)\n",
    "y_train_trans = to_categorical(y_train)\n",
    "y_test_trans = to_categorical(y_test)"
   ]
  },
  {
   "cell_type": "code",
   "execution_count": 103,
   "id": "0ce662e6-b201-472f-a2c7-7556cbc790df",
   "metadata": {},
   "outputs": [],
   "source": [
    "model.compile(optimizer='rmsprop',\n",
    "             loss='categorical_crossentropy',\n",
    "             metrics=['accuracy'])"
   ]
  },
  {
   "cell_type": "code",
   "execution_count": 104,
   "id": "740dba71-ac17-4ade-8a9f-f2bf5daab37d",
   "metadata": {},
   "outputs": [
    {
     "name": "stdout",
     "output_type": "stream",
     "text": [
      "Epoch 1/20\n",
      "281/281 [==============================] - 6s 19ms/step - loss: 1.6566 - accuracy: 0.5898 - val_loss: 1.3469 - val_accuracy: 0.6714\n",
      "Epoch 2/20\n",
      "281/281 [==============================] - 5s 17ms/step - loss: 0.7702 - accuracy: 0.8182 - val_loss: 1.3004 - val_accuracy: 0.6910\n",
      "Epoch 3/20\n",
      "281/281 [==============================] - 5s 18ms/step - loss: 0.3267 - accuracy: 0.9365 - val_loss: 1.4053 - val_accuracy: 0.6932\n",
      "Epoch 4/20\n",
      "281/281 [==============================] - 5s 19ms/step - loss: 0.2293 - accuracy: 0.9498 - val_loss: 1.4690 - val_accuracy: 0.6941\n",
      "Epoch 5/20\n",
      "281/281 [==============================] - 6s 20ms/step - loss: 0.1796 - accuracy: 0.9503 - val_loss: 1.5751 - val_accuracy: 0.6990\n",
      "Epoch 6/20\n",
      "281/281 [==============================] - 6s 21ms/step - loss: 0.1532 - accuracy: 0.9511 - val_loss: 1.7374 - val_accuracy: 0.6950\n",
      "Epoch 7/20\n",
      "281/281 [==============================] - 6s 21ms/step - loss: 0.1316 - accuracy: 0.9502 - val_loss: 2.0019 - val_accuracy: 0.6937\n",
      "Epoch 8/20\n",
      "281/281 [==============================] - 6s 21ms/step - loss: 0.1171 - accuracy: 0.9529 - val_loss: 2.1018 - val_accuracy: 0.6915\n",
      "Epoch 9/20\n",
      "281/281 [==============================] - 6s 20ms/step - loss: 0.1117 - accuracy: 0.9544 - val_loss: 2.1250 - val_accuracy: 0.6901\n",
      "Epoch 10/20\n",
      "281/281 [==============================] - 6s 23ms/step - loss: 0.1018 - accuracy: 0.9542 - val_loss: 2.3812 - val_accuracy: 0.6866\n",
      "Epoch 11/20\n",
      "281/281 [==============================] - 7s 24ms/step - loss: 0.1048 - accuracy: 0.9555 - val_loss: 2.3929 - val_accuracy: 0.6799\n",
      "Epoch 12/20\n",
      "281/281 [==============================] - 6s 21ms/step - loss: 0.1000 - accuracy: 0.9542 - val_loss: 2.5654 - val_accuracy: 0.6803\n",
      "Epoch 13/20\n",
      "281/281 [==============================] - 6s 21ms/step - loss: 0.1018 - accuracy: 0.9527 - val_loss: 2.5972 - val_accuracy: 0.6803\n",
      "Epoch 14/20\n",
      "281/281 [==============================] - 6s 21ms/step - loss: 0.0999 - accuracy: 0.9555 - val_loss: 2.6390 - val_accuracy: 0.6794\n",
      "Epoch 15/20\n",
      "281/281 [==============================] - 6s 21ms/step - loss: 0.0976 - accuracy: 0.9539 - val_loss: 2.8577 - val_accuracy: 0.6692\n",
      "Epoch 16/20\n",
      "281/281 [==============================] - 6s 21ms/step - loss: 0.0997 - accuracy: 0.9550 - val_loss: 2.8574 - val_accuracy: 0.6759\n",
      "Epoch 17/20\n",
      "281/281 [==============================] - 7s 23ms/step - loss: 0.0972 - accuracy: 0.9537 - val_loss: 3.1801 - val_accuracy: 0.6616\n",
      "Epoch 18/20\n",
      "281/281 [==============================] - 6s 23ms/step - loss: 0.1017 - accuracy: 0.9559 - val_loss: 3.1033 - val_accuracy: 0.6589\n",
      "Epoch 19/20\n",
      "281/281 [==============================] - 6s 22ms/step - loss: 0.1018 - accuracy: 0.9569 - val_loss: 3.1641 - val_accuracy: 0.6665\n",
      "Epoch 20/20\n",
      "281/281 [==============================] - 6s 22ms/step - loss: 0.0973 - accuracy: 0.9575 - val_loss: 3.3133 - val_accuracy: 0.6598\n"
     ]
    },
    {
     "data": {
      "text/plain": [
       "<keras.callbacks.History at 0x2d883b3f2b0>"
      ]
     },
     "execution_count": 104,
     "metadata": {},
     "output_type": "execute_result"
    }
   ],
   "source": [
    "model.fit(\n",
    "    X_train_trans,\n",
    "    y_train_trans,\n",
    "    epochs=20,\n",
    "    validation_data=(X_test_trans,y_test_trans)\n",
    ")"
   ]
  },
  {
   "cell_type": "code",
   "execution_count": 105,
   "id": "f693f35d-c8c1-433a-ae01-88b9ae2d33f2",
   "metadata": {},
   "outputs": [
    {
     "name": "stdout",
     "output_type": "stream",
     "text": [
      "Epoch 1/20\n",
      "281/281 [==============================] - 6s 21ms/step - loss: 0.0959 - accuracy: 0.9556 - val_loss: 3.4690 - val_accuracy: 0.6647\n",
      "Epoch 2/20\n",
      "281/281 [==============================] - 6s 21ms/step - loss: 0.0939 - accuracy: 0.9570 - val_loss: 3.6637 - val_accuracy: 0.6585\n",
      "Epoch 3/20\n",
      "281/281 [==============================] - 8s 29ms/step - loss: 0.0960 - accuracy: 0.9565 - val_loss: 3.6570 - val_accuracy: 0.6585\n",
      "Epoch 4/20\n",
      "281/281 [==============================] - 9s 31ms/step - loss: 0.0985 - accuracy: 0.9551 - val_loss: 4.0515 - val_accuracy: 0.6514\n",
      "Epoch 5/20\n",
      "281/281 [==============================] - 6s 23ms/step - loss: 0.0960 - accuracy: 0.9547 - val_loss: 3.9260 - val_accuracy: 0.6500\n",
      "Epoch 6/20\n",
      "281/281 [==============================] - 6s 22ms/step - loss: 0.0964 - accuracy: 0.9574 - val_loss: 3.8501 - val_accuracy: 0.6465\n",
      "Epoch 7/20\n",
      "281/281 [==============================] - 6s 22ms/step - loss: 0.0940 - accuracy: 0.9570 - val_loss: 4.1845 - val_accuracy: 0.6487\n",
      "Epoch 8/20\n",
      "281/281 [==============================] - 7s 24ms/step - loss: 0.0954 - accuracy: 0.9572 - val_loss: 4.1995 - val_accuracy: 0.6425\n",
      "Epoch 9/20\n",
      "281/281 [==============================] - 7s 25ms/step - loss: 0.0895 - accuracy: 0.9569 - val_loss: 4.2027 - val_accuracy: 0.6394\n",
      "Epoch 10/20\n",
      "281/281 [==============================] - 7s 23ms/step - loss: 0.0952 - accuracy: 0.9566 - val_loss: 4.2780 - val_accuracy: 0.6416\n",
      "Epoch 11/20\n",
      "281/281 [==============================] - 7s 24ms/step - loss: 0.0913 - accuracy: 0.9561 - val_loss: 4.1428 - val_accuracy: 0.6349\n",
      "Epoch 12/20\n",
      "281/281 [==============================] - 6s 23ms/step - loss: 0.0876 - accuracy: 0.9565 - val_loss: 4.2658 - val_accuracy: 0.6492\n",
      "Epoch 13/20\n",
      "281/281 [==============================] - 6s 21ms/step - loss: 0.0984 - accuracy: 0.9566 - val_loss: 4.8354 - val_accuracy: 0.6380\n",
      "Epoch 14/20\n",
      "281/281 [==============================] - 6s 21ms/step - loss: 0.0916 - accuracy: 0.9560 - val_loss: 4.5034 - val_accuracy: 0.6407\n",
      "Epoch 15/20\n",
      "281/281 [==============================] - 7s 23ms/step - loss: 0.0943 - accuracy: 0.9561 - val_loss: 4.8378 - val_accuracy: 0.6371\n",
      "Epoch 16/20\n",
      "281/281 [==============================] - 7s 26ms/step - loss: 0.0926 - accuracy: 0.9589 - val_loss: 5.1064 - val_accuracy: 0.6327\n",
      "Epoch 17/20\n",
      "281/281 [==============================] - 7s 24ms/step - loss: 0.0961 - accuracy: 0.9574 - val_loss: 5.0027 - val_accuracy: 0.6305\n",
      "Epoch 18/20\n",
      "281/281 [==============================] - 7s 24ms/step - loss: 0.0941 - accuracy: 0.9558 - val_loss: 5.0852 - val_accuracy: 0.6358\n",
      "Epoch 19/20\n",
      "281/281 [==============================] - 7s 24ms/step - loss: 0.0955 - accuracy: 0.9591 - val_loss: 4.8973 - val_accuracy: 0.6269\n",
      "Epoch 20/20\n",
      "281/281 [==============================] - 6s 22ms/step - loss: 0.0951 - accuracy: 0.9556 - val_loss: 5.0288 - val_accuracy: 0.6340\n"
     ]
    },
    {
     "data": {
      "text/plain": [
       "<keras.callbacks.History at 0x2d8f1e14cd0>"
      ]
     },
     "execution_count": 105,
     "metadata": {},
     "output_type": "execute_result"
    }
   ],
   "source": [
    "model.fit(\n",
    "    X_train_trans,\n",
    "    y_train_trans,\n",
    "    epochs=20,\n",
    "    validation_data=(X_test_trans,y_test_trans)\n",
    ")"
   ]
  },
  {
   "cell_type": "code",
   "execution_count": 106,
   "id": "313c48f2-fddc-47e8-bdd6-ccee65c72782",
   "metadata": {},
   "outputs": [
    {
     "name": "stdout",
     "output_type": "stream",
     "text": [
      "71/71 [==============================] - 0s 5ms/step - loss: 5.0288 - accuracy: 0.6340\n"
     ]
    },
    {
     "data": {
      "text/plain": [
       "[5.028804779052734, 0.6340160369873047]"
      ]
     },
     "execution_count": 106,
     "metadata": {},
     "output_type": "execute_result"
    }
   ],
   "source": [
    "model.evaluate(X_test_trans,y_test_trans)"
   ]
  },
  {
   "cell_type": "code",
   "execution_count": 107,
   "id": "d8f67647-87a9-4bf4-85a9-414276a30049",
   "metadata": {},
   "outputs": [
    {
     "data": {
      "text/plain": [
       "((8982, 100), (8982, 46))"
      ]
     },
     "execution_count": 107,
     "metadata": {},
     "output_type": "execute_result"
    }
   ],
   "source": [
    "X_train_trans.shape, y_train_trans.shape"
   ]
  },
  {
   "cell_type": "code",
   "execution_count": 108,
   "id": "1b71c9b3-afd2-4606-9a86-74a407d2432b",
   "metadata": {},
   "outputs": [],
   "source": [
    "from tensorflow.keras.layers import BatchNormalization\n",
    "model = Sequential(\n",
    "    [\n",
    "        Embedding(2000,100,input_length=100),\n",
    "        Conv1D(50,6,activation='relu'),\n",
    "        BatchNormalization(),\n",
    "        MaxPooling1D(5),\n",
    "        Flatten(),\n",
    "        Dense(256,activation='relu'),\n",
    "        BatchNormalization(),\n",
    "        Dense(46,activation='softmax')\n",
    "    ]\n",
    ")"
   ]
  },
  {
   "cell_type": "code",
   "execution_count": 109,
   "id": "2c5823f7-db2f-4d96-ab53-abd1e74eccfa",
   "metadata": {},
   "outputs": [
    {
     "name": "stdout",
     "output_type": "stream",
     "text": [
      "Model: \"sequential_7\"\n",
      "_________________________________________________________________\n",
      " Layer (type)                Output Shape              Param #   \n",
      "=================================================================\n",
      " embedding_5 (Embedding)     (None, 100, 100)          200000    \n",
      "                                                                 \n",
      " conv1d_3 (Conv1D)           (None, 95, 50)            30050     \n",
      "                                                                 \n",
      " batch_normalization_2 (Batc  (None, 95, 50)           200       \n",
      " hNormalization)                                                 \n",
      "                                                                 \n",
      " max_pooling1d_3 (MaxPooling  (None, 19, 50)           0         \n",
      " 1D)                                                             \n",
      "                                                                 \n",
      " flatten_5 (Flatten)         (None, 950)               0         \n",
      "                                                                 \n",
      " dense_16 (Dense)            (None, 256)               243456    \n",
      "                                                                 \n",
      " batch_normalization_3 (Batc  (None, 256)              1024      \n",
      " hNormalization)                                                 \n",
      "                                                                 \n",
      " dense_17 (Dense)            (None, 46)                11822     \n",
      "                                                                 \n",
      "=================================================================\n",
      "Total params: 486,552\n",
      "Trainable params: 485,940\n",
      "Non-trainable params: 612\n",
      "_________________________________________________________________\n"
     ]
    }
   ],
   "source": [
    "model.summary()"
   ]
  },
  {
   "cell_type": "code",
   "execution_count": 110,
   "id": "69b585d1-3e85-4d6e-9846-7fbdf839c814",
   "metadata": {},
   "outputs": [],
   "source": [
    "model.compile(optimizer='adam',\n",
    "             loss='categorical_crossentropy',\n",
    "             metrics=['accuracy'])"
   ]
  },
  {
   "cell_type": "code",
   "execution_count": 111,
   "id": "a76ce216-3694-4e38-91dd-2a3dc00b7232",
   "metadata": {},
   "outputs": [
    {
     "data": {
      "text/plain": [
       "((8982, 100), (8982, 46), (2246, 100), (2246, 46))"
      ]
     },
     "execution_count": 111,
     "metadata": {},
     "output_type": "execute_result"
    }
   ],
   "source": [
    "X_train_trans.shape, y_train_trans.shape, X_test_trans.shape, y_test_trans.shape"
   ]
  },
  {
   "cell_type": "code",
   "execution_count": 112,
   "id": "d872f4a9-5226-449c-8924-b3945f8d5d15",
   "metadata": {},
   "outputs": [
    {
     "name": "stdout",
     "output_type": "stream",
     "text": [
      "Epoch 1/20\n",
      "281/281 [==============================] - 8s 22ms/step - loss: 1.9986 - accuracy: 0.5586 - val_loss: 2.7925 - val_accuracy: 0.3664\n",
      "Epoch 2/20\n",
      "281/281 [==============================] - 9s 30ms/step - loss: 0.8777 - accuracy: 0.7961 - val_loss: 1.6288 - val_accuracy: 0.5882\n",
      "Epoch 3/20\n",
      "281/281 [==============================] - 8s 30ms/step - loss: 0.4510 - accuracy: 0.9148 - val_loss: 1.4673 - val_accuracy: 0.6687\n",
      "Epoch 4/20\n",
      "281/281 [==============================] - 6s 22ms/step - loss: 0.3139 - accuracy: 0.9432 - val_loss: 1.5297 - val_accuracy: 0.6834\n",
      "Epoch 5/20\n",
      "281/281 [==============================] - 5s 17ms/step - loss: 0.2818 - accuracy: 0.9469 - val_loss: 1.5342 - val_accuracy: 0.6821\n",
      "Epoch 6/20\n",
      "281/281 [==============================] - 5s 17ms/step - loss: 0.2352 - accuracy: 0.9516 - val_loss: 1.4703 - val_accuracy: 0.6870\n",
      "Epoch 7/20\n",
      "281/281 [==============================] - 5s 17ms/step - loss: 0.2221 - accuracy: 0.9497 - val_loss: 1.4686 - val_accuracy: 0.6928\n",
      "Epoch 8/20\n",
      "281/281 [==============================] - 5s 18ms/step - loss: 0.2028 - accuracy: 0.9500 - val_loss: 1.4950 - val_accuracy: 0.7017\n",
      "Epoch 9/20\n",
      "281/281 [==============================] - 5s 17ms/step - loss: 0.1838 - accuracy: 0.9530 - val_loss: 1.4956 - val_accuracy: 0.7008\n",
      "Epoch 10/20\n",
      "281/281 [==============================] - 5s 18ms/step - loss: 0.1727 - accuracy: 0.9545 - val_loss: 1.5893 - val_accuracy: 0.7004\n",
      "Epoch 11/20\n",
      "281/281 [==============================] - 5s 17ms/step - loss: 0.1747 - accuracy: 0.9516 - val_loss: 1.5292 - val_accuracy: 0.7021\n",
      "Epoch 12/20\n",
      "281/281 [==============================] - 5s 18ms/step - loss: 0.1578 - accuracy: 0.9528 - val_loss: 1.6686 - val_accuracy: 0.7004\n",
      "Epoch 13/20\n",
      "281/281 [==============================] - 5s 18ms/step - loss: 0.1484 - accuracy: 0.9536 - val_loss: 1.6451 - val_accuracy: 0.7026\n",
      "Epoch 14/20\n",
      "281/281 [==============================] - 5s 19ms/step - loss: 0.1421 - accuracy: 0.9556 - val_loss: 1.8435 - val_accuracy: 0.6701\n",
      "Epoch 15/20\n",
      "281/281 [==============================] - 5s 17ms/step - loss: 0.1418 - accuracy: 0.9534 - val_loss: 1.7231 - val_accuracy: 0.6910\n",
      "Epoch 16/20\n",
      "281/281 [==============================] - 7s 23ms/step - loss: 0.1389 - accuracy: 0.9537 - val_loss: 1.7194 - val_accuracy: 0.6906\n",
      "Epoch 17/20\n",
      "281/281 [==============================] - 6s 23ms/step - loss: 0.1282 - accuracy: 0.9574 - val_loss: 1.7716 - val_accuracy: 0.7057\n",
      "Epoch 18/20\n",
      "281/281 [==============================] - 6s 21ms/step - loss: 0.1290 - accuracy: 0.9545 - val_loss: 1.7502 - val_accuracy: 0.7066\n",
      "Epoch 19/20\n",
      "281/281 [==============================] - 6s 21ms/step - loss: 0.1238 - accuracy: 0.9544 - val_loss: 1.9433 - val_accuracy: 0.6728\n",
      "Epoch 20/20\n",
      "281/281 [==============================] - 8s 27ms/step - loss: 0.1325 - accuracy: 0.9529 - val_loss: 1.8255 - val_accuracy: 0.7008\n"
     ]
    },
    {
     "data": {
      "text/plain": [
       "<keras.callbacks.History at 0x2d88503c5e0>"
      ]
     },
     "execution_count": 112,
     "metadata": {},
     "output_type": "execute_result"
    }
   ],
   "source": [
    "model.fit(X_train_trans,\n",
    "         y_train_trans,\n",
    "         epochs=20,\n",
    "         validation_data=(X_test_trans,y_test_trans))"
   ]
  },
  {
   "cell_type": "code",
   "execution_count": 113,
   "id": "283e57ae-ec2a-4947-8267-1168b7ee3d77",
   "metadata": {},
   "outputs": [
    {
     "data": {
      "text/plain": [
       "3.0000000000000015e-10"
      ]
     },
     "execution_count": 113,
     "metadata": {},
     "output_type": "execute_result"
    }
   ],
   "source": [
    "(0.1)**10 * 3"
   ]
  },
  {
   "cell_type": "code",
   "execution_count": 114,
   "id": "8c34f988-f7e8-4599-9c72-052e955dce7b",
   "metadata": {},
   "outputs": [],
   "source": [
    "def sigmoid(x):\n",
    "    return 1/(1+np.exp(-x))"
   ]
  },
  {
   "cell_type": "code",
   "execution_count": 115,
   "id": "a80038e8-4712-489d-9a30-cb4953caf406",
   "metadata": {},
   "outputs": [
    {
     "data": {
      "text/plain": [
       "array([[  1.,  33.,   0., ...,   0.,   0.,   0.],\n",
       "       [  1., 128.,   0., ...,   0.,   0.,   0.],\n",
       "       [  1., 310.,   0., ...,   5.,   0.,   0.],\n",
       "       ...,\n",
       "       [  1.,  20.,   0., ...,   0.,   0.,   0.],\n",
       "       [  1., 225.,   0., ...,   0.,   0.,   0.],\n",
       "       [  1.,  51.,   0., ...,   1.,   0.,   0.]])"
      ]
     },
     "execution_count": 115,
     "metadata": {},
     "output_type": "execute_result"
    }
   ],
   "source": [
    "x"
   ]
  },
  {
   "cell_type": "code",
   "execution_count": 116,
   "id": "89b562bf-5dd1-4fec-be8c-fb61f2f0657a",
   "metadata": {},
   "outputs": [
    {
     "data": {
      "text/plain": [
       "[<matplotlib.lines.Line2D at 0x2d883b187f0>]"
      ]
     },
     "execution_count": 116,
     "metadata": {},
     "output_type": "execute_result"
    },
    {
     "data": {
      "image/png": "[encoded data removed]",
      "text/plain": [
       "<Figure size 640x480 with 1 Axes>"
      ]
     },
     "metadata": {},
     "output_type": "display_data"
    }
   ],
   "source": [
    "import matplotlib.pyplot as plt\n",
    "x = np.linspace(-5,5,100)\n",
    "y = []\n",
    "for i in x:\n",
    "    y.append(sigmoid(i)*(1-sigmoid(i)))\n",
    "plt.plot(x,y)"
   ]
  },
  {
   "cell_type": "code",
   "execution_count": 117,
   "id": "73278448-88ba-442a-a571-558f14b0de54",
   "metadata": {},
   "outputs": [],
   "source": [
    "from tensorflow.keras.layers import SimpleRNN"
   ]
  },
  {
   "cell_type": "code",
   "execution_count": 118,
   "id": "5e9f87ff-9b55-4315-b284-2e174a6f013b",
   "metadata": {},
   "outputs": [
    {
     "data": {
      "text/plain": [
       "\u001b[1;31mInit signature:\u001b[0m\n",
       "\u001b[0mSimpleRNN\u001b[0m\u001b[1;33m(\u001b[0m\u001b[1;33m\n",
       "\u001b[0m    \u001b[0munits\u001b[0m\u001b[1;33m,\u001b[0m\u001b[1;33m\n",
       "\u001b[0m    \u001b[0mactivation\u001b[0m\u001b[1;33m=\u001b[0m\u001b[1;34m'tanh'\u001b[0m\u001b[1;33m,\u001b[0m\u001b[1;33m\n",
       "\u001b[0m    \u001b[0muse_bias\u001b[0m\u001b[1;33m=\u001b[0m\u001b[1;32mTrue\u001b[0m\u001b[1;33m,\u001b[0m\u001b[1;33m\n",
       "\u001b[0m    \u001b[0mkernel_initializer\u001b[0m\u001b[1;33m=\u001b[0m\u001b[1;34m'glorot_uniform'\u001b[0m\u001b[1;33m,\u001b[0m\u001b[1;33m\n",
       "\u001b[0m    \u001b[0mrecurrent_initializer\u001b[0m\u001b[1;33m=\u001b[0m\u001b[1;34m'orthogonal'\u001b[0m\u001b[1;33m,\u001b[0m\u001b[1;33m\n",
       "\u001b[0m    \u001b[0mbias_initializer\u001b[0m\u001b[1;33m=\u001b[0m\u001b[1;34m'zeros'\u001b[0m\u001b[1;33m,\u001b[0m\u001b[1;33m\n",
       "\u001b[0m    \u001b[0mkernel_regularizer\u001b[0m\u001b[1;33m=\u001b[0m\u001b[1;32mNone\u001b[0m\u001b[1;33m,\u001b[0m\u001b[1;33m\n",
       "\u001b[0m    \u001b[0mrecurrent_regularizer\u001b[0m\u001b[1;33m=\u001b[0m\u001b[1;32mNone\u001b[0m\u001b[1;33m,\u001b[0m\u001b[1;33m\n",
       "\u001b[0m    \u001b[0mbias_regularizer\u001b[0m\u001b[1;33m=\u001b[0m\u001b[1;32mNone\u001b[0m\u001b[1;33m,\u001b[0m\u001b[1;33m\n",
       "\u001b[0m    \u001b[0mactivity_regularizer\u001b[0m\u001b[1;33m=\u001b[0m\u001b[1;32mNone\u001b[0m\u001b[1;33m,\u001b[0m\u001b[1;33m\n",
       "\u001b[0m    \u001b[0mkernel_constraint\u001b[0m\u001b[1;33m=\u001b[0m\u001b[1;32mNone\u001b[0m\u001b[1;33m,\u001b[0m\u001b[1;33m\n",
       "\u001b[0m    \u001b[0mrecurrent_constraint\u001b[0m\u001b[1;33m=\u001b[0m\u001b[1;32mNone\u001b[0m\u001b[1;33m,\u001b[0m\u001b[1;33m\n",
       "\u001b[0m    \u001b[0mbias_constraint\u001b[0m\u001b[1;33m=\u001b[0m\u001b[1;32mNone\u001b[0m\u001b[1;33m,\u001b[0m\u001b[1;33m\n",
       "\u001b[0m    \u001b[0mdropout\u001b[0m\u001b[1;33m=\u001b[0m\u001b[1;36m0.0\u001b[0m\u001b[1;33m,\u001b[0m\u001b[1;33m\n",
       "\u001b[0m    \u001b[0mrecurrent_dropout\u001b[0m\u001b[1;33m=\u001b[0m\u001b[1;36m0.0\u001b[0m\u001b[1;33m,\u001b[0m\u001b[1;33m\n",
       "\u001b[0m    \u001b[0mreturn_sequences\u001b[0m\u001b[1;33m=\u001b[0m\u001b[1;32mFalse\u001b[0m\u001b[1;33m,\u001b[0m\u001b[1;33m\n",
       "\u001b[0m    \u001b[0mreturn_state\u001b[0m\u001b[1;33m=\u001b[0m\u001b[1;32mFalse\u001b[0m\u001b[1;33m,\u001b[0m\u001b[1;33m\n",
       "\u001b[0m    \u001b[0mgo_backwards\u001b[0m\u001b[1;33m=\u001b[0m\u001b[1;32mFalse\u001b[0m\u001b[1;33m,\u001b[0m\u001b[1;33m\n",
       "\u001b[0m    \u001b[0mstateful\u001b[0m\u001b[1;33m=\u001b[0m\u001b[1;32mFalse\u001b[0m\u001b[1;33m,\u001b[0m\u001b[1;33m\n",
       "\u001b[0m    \u001b[0munroll\u001b[0m\u001b[1;33m=\u001b[0m\u001b[1;32mFalse\u001b[0m\u001b[1;33m,\u001b[0m\u001b[1;33m\n",
       "\u001b[0m    \u001b[1;33m**\u001b[0m\u001b[0mkwargs\u001b[0m\u001b[1;33m,\u001b[0m\u001b[1;33m\n",
       "\u001b[0m\u001b[1;33m)\u001b[0m\u001b[1;33m\u001b[0m\u001b[1;33m\u001b[0m\u001b[0m\n",
       "\u001b[1;31mSource:\u001b[0m        \n",
       "\u001b[1;33m@\u001b[0m\u001b[0mkeras_export\u001b[0m\u001b[1;33m(\u001b[0m\u001b[1;34m\"keras.layers.SimpleRNN\"\u001b[0m\u001b[1;33m)\u001b[0m\u001b[1;33m\n",
       "\u001b[0m\u001b[1;32mclass\u001b[0m \u001b[0mSimpleRNN\u001b[0m\u001b[1;33m(\u001b[0m\u001b[0mRNN\u001b[0m\u001b[1;33m)\u001b[0m\u001b[1;33m:\u001b[0m\u001b[1;33m\n",
       "\u001b[0m    \u001b[1;34m\"\"\"Fully-connected RNN where the output is to be fed back to input.\n",
       "\n",
       "    See [the Keras RNN API guide](https://www.tensorflow.org/guide/keras/rnn)\n",
       "    for details about the usage of RNN API.\n",
       "\n",
       "    Args:\n",
       "      units: Positive integer, dimensionality of the output space.\n",
       "      activation: Activation function to use.\n",
       "        Default: hyperbolic tangent (`tanh`).\n",
       "        If you pass None, no activation is applied\n",
       "        (ie. \"linear\" activation: `a(x) = x`).\n",
       "      use_bias: Boolean, (default `True`), whether the layer uses a bias vector.\n",
       "      kernel_initializer: Initializer for the `kernel` weights matrix,\n",
       "        used for the linear transformation of the inputs. Default:\n",
       "        `glorot_uniform`.\n",
       "      recurrent_initializer: Initializer for the `recurrent_kernel`\n",
       "        weights matrix, used for the linear transformation of the recurrent\n",
       "        state.  Default: `orthogonal`.\n",
       "      bias_initializer: Initializer for the bias vector. Default: `zeros`.\n",
       "      kernel_regularizer: Regularizer function applied to the `kernel` weights\n",
       "        matrix. Default: `None`.\n",
       "      recurrent_regularizer: Regularizer function applied to the\n",
       "        `recurrent_kernel` weights matrix. Default: `None`.\n",
       "      bias_regularizer: Regularizer function applied to the bias vector.\n",
       "        Default: `None`.\n",
       "      activity_regularizer: Regularizer function applied to the output of the\n",
       "        layer (its \"activation\"). Default: `None`.\n",
       "      kernel_constraint: Constraint function applied to the `kernel` weights\n",
       "        matrix. Default: `None`.\n",
       "      recurrent_constraint: Constraint function applied to the\n",
       "        `recurrent_kernel` weights matrix.  Default: `None`.\n",
       "      bias_constraint: Constraint function applied to the bias vector. Default:\n",
       "        `None`.\n",
       "      dropout: Float between 0 and 1.\n",
       "        Fraction of the units to drop for the linear transformation of the\n",
       "        inputs. Default: 0.\n",
       "      recurrent_dropout: Float between 0 and 1.\n",
       "        Fraction of the units to drop for the linear transformation of the\n",
       "        recurrent state. Default: 0.\n",
       "      return_sequences: Boolean. Whether to return the last output\n",
       "        in the output sequence, or the full sequence. Default: `False`.\n",
       "      return_state: Boolean. Whether to return the last state\n",
       "        in addition to the output. Default: `False`\n",
       "      go_backwards: Boolean (default False).\n",
       "        If True, process the input sequence backwards and return the\n",
       "        reversed sequence.\n",
       "      stateful: Boolean (default False). If True, the last state\n",
       "        for each sample at index i in a batch will be used as initial\n",
       "        state for the sample of index i in the following batch.\n",
       "      unroll: Boolean (default False).\n",
       "        If True, the network will be unrolled,\n",
       "        else a symbolic loop will be used.\n",
       "        Unrolling can speed-up a RNN,\n",
       "        although it tends to be more memory-intensive.\n",
       "        Unrolling is only suitable for short sequences.\n",
       "\n",
       "    Call arguments:\n",
       "      inputs: A 3D tensor, with shape `[batch, timesteps, feature]`.\n",
       "      mask: Binary tensor of shape `[batch, timesteps]` indicating whether\n",
       "        a given timestep should be masked. An individual `True` entry indicates\n",
       "        that the corresponding timestep should be utilized, while a `False`\n",
       "        entry indicates that the corresponding timestep should be ignored.\n",
       "      training: Python boolean indicating whether the layer should behave in\n",
       "        training mode or in inference mode. This argument is passed to the cell\n",
       "        when calling it. This is only relevant if `dropout` or\n",
       "        `recurrent_dropout` is used.\n",
       "      initial_state: List of initial state tensors to be passed to the first\n",
       "        call of the cell.\n",
       "\n",
       "    Examples:\n",
       "\n",
       "    ```python\n",
       "    inputs = np.random.random([32, 10, 8]).astype(np.float32)\n",
       "    simple_rnn = tf.keras.layers.SimpleRNN(4)\n",
       "\n",
       "    output = simple_rnn(inputs)  # The output has shape `[32, 4]`.\n",
       "\n",
       "    simple_rnn = tf.keras.layers.SimpleRNN(\n",
       "        4, return_sequences=True, return_state=True)\n",
       "\n",
       "    # whole_sequence_output has shape `[32, 10, 4]`.\n",
       "    # final_state has shape `[32, 4]`.\n",
       "    whole_sequence_output, final_state = simple_rnn(inputs)\n",
       "    ```\n",
       "    \"\"\"\u001b[0m\u001b[1;33m\n",
       "\u001b[0m\u001b[1;33m\n",
       "\u001b[0m    \u001b[1;32mdef\u001b[0m \u001b[0m__init__\u001b[0m\u001b[1;33m(\u001b[0m\u001b[1;33m\n",
       "\u001b[0m        \u001b[0mself\u001b[0m\u001b[1;33m,\u001b[0m\u001b[1;33m\n",
       "\u001b[0m        \u001b[0munits\u001b[0m\u001b[1;33m,\u001b[0m\u001b[1;33m\n",
       "\u001b[0m        \u001b[0mactivation\u001b[0m\u001b[1;33m=\u001b[0m\u001b[1;34m\"tanh\"\u001b[0m\u001b[1;33m,\u001b[0m\u001b[1;33m\n",
       "\u001b[0m        \u001b[0muse_bias\u001b[0m\u001b[1;33m=\u001b[0m\u001b[1;32mTrue\u001b[0m\u001b[1;33m,\u001b[0m\u001b[1;33m\n",
       "\u001b[0m        \u001b[0mkernel_initializer\u001b[0m\u001b[1;33m=\u001b[0m\u001b[1;34m\"glorot_uniform\"\u001b[0m\u001b[1;33m,\u001b[0m\u001b[1;33m\n",
       "\u001b[0m        \u001b[0mrecurrent_initializer\u001b[0m\u001b[1;33m=\u001b[0m\u001b[1;34m\"orthogonal\"\u001b[0m\u001b[1;33m,\u001b[0m\u001b[1;33m\n",
       "\u001b[0m        \u001b[0mbias_initializer\u001b[0m\u001b[1;33m=\u001b[0m\u001b[1;34m\"zeros\"\u001b[0m\u001b[1;33m,\u001b[0m\u001b[1;33m\n",
       "\u001b[0m        \u001b[0mkernel_regularizer\u001b[0m\u001b[1;33m=\u001b[0m\u001b[1;32mNone\u001b[0m\u001b[1;33m,\u001b[0m\u001b[1;33m\n",
       "\u001b[0m        \u001b[0mrecurrent_regularizer\u001b[0m\u001b[1;33m=\u001b[0m\u001b[1;32mNone\u001b[0m\u001b[1;33m,\u001b[0m\u001b[1;33m\n",
       "\u001b[0m        \u001b[0mbias_regularizer\u001b[0m\u001b[1;33m=\u001b[0m\u001b[1;32mNone\u001b[0m\u001b[1;33m,\u001b[0m\u001b[1;33m\n",
       "\u001b[0m        \u001b[0mactivity_regularizer\u001b[0m\u001b[1;33m=\u001b[0m\u001b[1;32mNone\u001b[0m\u001b[1;33m,\u001b[0m\u001b[1;33m\n",
       "\u001b[0m        \u001b[0mkernel_constraint\u001b[0m\u001b[1;33m=\u001b[0m\u001b[1;32mNone\u001b[0m\u001b[1;33m,\u001b[0m\u001b[1;33m\n",
       "\u001b[0m        \u001b[0mrecurrent_constraint\u001b[0m\u001b[1;33m=\u001b[0m\u001b[1;32mNone\u001b[0m\u001b[1;33m,\u001b[0m\u001b[1;33m\n",
       "\u001b[0m        \u001b[0mbias_constraint\u001b[0m\u001b[1;33m=\u001b[0m\u001b[1;32mNone\u001b[0m\u001b[1;33m,\u001b[0m\u001b[1;33m\n",
       "\u001b[0m        \u001b[0mdropout\u001b[0m\u001b[1;33m=\u001b[0m\u001b[1;36m0.0\u001b[0m\u001b[1;33m,\u001b[0m\u001b[1;33m\n",
       "\u001b[0m        \u001b[0mrecurrent_dropout\u001b[0m\u001b[1;33m=\u001b[0m\u001b[1;36m0.0\u001b[0m\u001b[1;33m,\u001b[0m\u001b[1;33m\n",
       "\u001b[0m        \u001b[0mreturn_sequences\u001b[0m\u001b[1;33m=\u001b[0m\u001b[1;32mFalse\u001b[0m\u001b[1;33m,\u001b[0m\u001b[1;33m\n",
       "\u001b[0m        \u001b[0mreturn_state\u001b[0m\u001b[1;33m=\u001b[0m\u001b[1;32mFalse\u001b[0m\u001b[1;33m,\u001b[0m\u001b[1;33m\n",
       "\u001b[0m        \u001b[0mgo_backwards\u001b[0m\u001b[1;33m=\u001b[0m\u001b[1;32mFalse\u001b[0m\u001b[1;33m,\u001b[0m\u001b[1;33m\n",
       "\u001b[0m        \u001b[0mstateful\u001b[0m\u001b[1;33m=\u001b[0m\u001b[1;32mFalse\u001b[0m\u001b[1;33m,\u001b[0m\u001b[1;33m\n",
       "\u001b[0m        \u001b[0munroll\u001b[0m\u001b[1;33m=\u001b[0m\u001b[1;32mFalse\u001b[0m\u001b[1;33m,\u001b[0m\u001b[1;33m\n",
       "\u001b[0m        \u001b[1;33m**\u001b[0m\u001b[0mkwargs\u001b[0m\u001b[1;33m,\u001b[0m\u001b[1;33m\n",
       "\u001b[0m    \u001b[1;33m)\u001b[0m\u001b[1;33m:\u001b[0m\u001b[1;33m\n",
       "\u001b[0m        \u001b[1;32mif\u001b[0m \u001b[1;34m\"implementation\"\u001b[0m \u001b[1;32min\u001b[0m \u001b[0mkwargs\u001b[0m\u001b[1;33m:\u001b[0m\u001b[1;33m\n",
       "\u001b[0m            \u001b[0mkwargs\u001b[0m\u001b[1;33m.\u001b[0m\u001b[0mpop\u001b[0m\u001b[1;33m(\u001b[0m\u001b[1;34m\"implementation\"\u001b[0m\u001b[1;33m)\u001b[0m\u001b[1;33m\n",
       "\u001b[0m            \u001b[0mlogging\u001b[0m\u001b[1;33m.\u001b[0m\u001b[0mwarning\u001b[0m\u001b[1;33m(\u001b[0m\u001b[1;33m\n",
       "\u001b[0m                \u001b[1;34m\"The `implementation` argument \"\u001b[0m\u001b[1;33m\n",
       "\u001b[0m                \u001b[1;34m\"in `SimpleRNN` has been deprecated. \"\u001b[0m\u001b[1;33m\n",
       "\u001b[0m                \u001b[1;34m\"Please remove it from your layer call.\"\u001b[0m\u001b[1;33m\n",
       "\u001b[0m            \u001b[1;33m)\u001b[0m\u001b[1;33m\n",
       "\u001b[0m        \u001b[1;32mif\u001b[0m \u001b[1;34m\"enable_caching_device\"\u001b[0m \u001b[1;32min\u001b[0m \u001b[0mkwargs\u001b[0m\u001b[1;33m:\u001b[0m\u001b[1;33m\n",
       "\u001b[0m            \u001b[0mcell_kwargs\u001b[0m \u001b[1;33m=\u001b[0m \u001b[1;33m{\u001b[0m\u001b[1;33m\n",
       "\u001b[0m                \u001b[1;34m\"enable_caching_device\"\u001b[0m\u001b[1;33m:\u001b[0m \u001b[0mkwargs\u001b[0m\u001b[1;33m.\u001b[0m\u001b[0mpop\u001b[0m\u001b[1;33m(\u001b[0m\u001b[1;34m\"enable_caching_device\"\u001b[0m\u001b[1;33m)\u001b[0m\u001b[1;33m\n",
       "\u001b[0m            \u001b[1;33m}\u001b[0m\u001b[1;33m\n",
       "\u001b[0m        \u001b[1;32melse\u001b[0m\u001b[1;33m:\u001b[0m\u001b[1;33m\n",
       "\u001b[0m            \u001b[0mcell_kwargs\u001b[0m \u001b[1;33m=\u001b[0m \u001b[1;33m{\u001b[0m\u001b[1;33m}\u001b[0m\u001b[1;33m\n",
       "\u001b[0m        \u001b[0mcell\u001b[0m \u001b[1;33m=\u001b[0m \u001b[0mSimpleRNNCell\u001b[0m\u001b[1;33m(\u001b[0m\u001b[1;33m\n",
       "\u001b[0m            \u001b[0munits\u001b[0m\u001b[1;33m,\u001b[0m\u001b[1;33m\n",
       "\u001b[0m            \u001b[0mactivation\u001b[0m\u001b[1;33m=\u001b[0m\u001b[0mactivation\u001b[0m\u001b[1;33m,\u001b[0m\u001b[1;33m\n",
       "\u001b[0m            \u001b[0muse_bias\u001b[0m\u001b[1;33m=\u001b[0m\u001b[0muse_bias\u001b[0m\u001b[1;33m,\u001b[0m\u001b[1;33m\n",
       "\u001b[0m            \u001b[0mkernel_initializer\u001b[0m\u001b[1;33m=\u001b[0m\u001b[0mkernel_initializer\u001b[0m\u001b[1;33m,\u001b[0m\u001b[1;33m\n",
       "\u001b[0m            \u001b[0mrecurrent_initializer\u001b[0m\u001b[1;33m=\u001b[0m\u001b[0mrecurrent_initializer\u001b[0m\u001b[1;33m,\u001b[0m\u001b[1;33m\n",
       "\u001b[0m            \u001b[0mbias_initializer\u001b[0m\u001b[1;33m=\u001b[0m\u001b[0mbias_initializer\u001b[0m\u001b[1;33m,\u001b[0m\u001b[1;33m\n",
       "\u001b[0m            \u001b[0mkernel_regularizer\u001b[0m\u001b[1;33m=\u001b[0m\u001b[0mkernel_regularizer\u001b[0m\u001b[1;33m,\u001b[0m\u001b[1;33m\n",
       "\u001b[0m            \u001b[0mrecurrent_regularizer\u001b[0m\u001b[1;33m=\u001b[0m\u001b[0mrecurrent_regularizer\u001b[0m\u001b[1;33m,\u001b[0m\u001b[1;33m\n",
       "\u001b[0m            \u001b[0mbias_regularizer\u001b[0m\u001b[1;33m=\u001b[0m\u001b[0mbias_regularizer\u001b[0m\u001b[1;33m,\u001b[0m\u001b[1;33m\n",
       "\u001b[0m            \u001b[0mkernel_constraint\u001b[0m\u001b[1;33m=\u001b[0m\u001b[0mkernel_constraint\u001b[0m\u001b[1;33m,\u001b[0m\u001b[1;33m\n",
       "\u001b[0m            \u001b[0mrecurrent_constraint\u001b[0m\u001b[1;33m=\u001b[0m\u001b[0mrecurrent_constraint\u001b[0m\u001b[1;33m,\u001b[0m\u001b[1;33m\n",
       "\u001b[0m            \u001b[0mbias_constraint\u001b[0m\u001b[1;33m=\u001b[0m\u001b[0mbias_constraint\u001b[0m\u001b[1;33m,\u001b[0m\u001b[1;33m\n",
       "\u001b[0m            \u001b[0mdropout\u001b[0m\u001b[1;33m=\u001b[0m\u001b[0mdropout\u001b[0m\u001b[1;33m,\u001b[0m\u001b[1;33m\n",
       "\u001b[0m            \u001b[0mrecurrent_dropout\u001b[0m\u001b[1;33m=\u001b[0m\u001b[0mrecurrent_dropout\u001b[0m\u001b[1;33m,\u001b[0m\u001b[1;33m\n",
       "\u001b[0m            \u001b[0mdtype\u001b[0m\u001b[1;33m=\u001b[0m\u001b[0mkwargs\u001b[0m\u001b[1;33m.\u001b[0m\u001b[0mget\u001b[0m\u001b[1;33m(\u001b[0m\u001b[1;34m\"dtype\"\u001b[0m\u001b[1;33m)\u001b[0m\u001b[1;33m,\u001b[0m\u001b[1;33m\n",
       "\u001b[0m            \u001b[0mtrainable\u001b[0m\u001b[1;33m=\u001b[0m\u001b[0mkwargs\u001b[0m\u001b[1;33m.\u001b[0m\u001b[0mget\u001b[0m\u001b[1;33m(\u001b[0m\u001b[1;34m\"trainable\"\u001b[0m\u001b[1;33m,\u001b[0m \u001b[1;32mTrue\u001b[0m\u001b[1;33m)\u001b[0m\u001b[1;33m,\u001b[0m\u001b[1;33m\n",
       "\u001b[0m            \u001b[1;33m**\u001b[0m\u001b[0mcell_kwargs\u001b[0m\u001b[1;33m,\u001b[0m\u001b[1;33m\n",
       "\u001b[0m        \u001b[1;33m)\u001b[0m\u001b[1;33m\n",
       "\u001b[0m        \u001b[0msuper\u001b[0m\u001b[1;33m(\u001b[0m\u001b[1;33m)\u001b[0m\u001b[1;33m.\u001b[0m\u001b[0m__init__\u001b[0m\u001b[1;33m(\u001b[0m\u001b[1;33m\n",
       "\u001b[0m            \u001b[0mcell\u001b[0m\u001b[1;33m,\u001b[0m\u001b[1;33m\n",
       "\u001b[0m            \u001b[0mreturn_sequences\u001b[0m\u001b[1;33m=\u001b[0m\u001b[0mreturn_sequences\u001b[0m\u001b[1;33m,\u001b[0m\u001b[1;33m\n",
       "\u001b[0m            \u001b[0mreturn_state\u001b[0m\u001b[1;33m=\u001b[0m\u001b[0mreturn_state\u001b[0m\u001b[1;33m,\u001b[0m\u001b[1;33m\n",
       "\u001b[0m            \u001b[0mgo_backwards\u001b[0m\u001b[1;33m=\u001b[0m\u001b[0mgo_backwards\u001b[0m\u001b[1;33m,\u001b[0m\u001b[1;33m\n",
       "\u001b[0m            \u001b[0mstateful\u001b[0m\u001b[1;33m=\u001b[0m\u001b[0mstateful\u001b[0m\u001b[1;33m,\u001b[0m\u001b[1;33m\n",
       "\u001b[0m            \u001b[0munroll\u001b[0m\u001b[1;33m=\u001b[0m\u001b[0munroll\u001b[0m\u001b[1;33m,\u001b[0m\u001b[1;33m\n",
       "\u001b[0m            \u001b[1;33m**\u001b[0m\u001b[0mkwargs\u001b[0m\u001b[1;33m,\u001b[0m\u001b[1;33m\n",
       "\u001b[0m        \u001b[1;33m)\u001b[0m\u001b[1;33m\n",
       "\u001b[0m        \u001b[0mself\u001b[0m\u001b[1;33m.\u001b[0m\u001b[0mactivity_regularizer\u001b[0m \u001b[1;33m=\u001b[0m \u001b[0mregularizers\u001b[0m\u001b[1;33m.\u001b[0m\u001b[0mget\u001b[0m\u001b[1;33m(\u001b[0m\u001b[0mactivity_regularizer\u001b[0m\u001b[1;33m)\u001b[0m\u001b[1;33m\n",
       "\u001b[0m        \u001b[0mself\u001b[0m\u001b[1;33m.\u001b[0m\u001b[0minput_spec\u001b[0m \u001b[1;33m=\u001b[0m \u001b[1;33m[\u001b[0m\u001b[0mInputSpec\u001b[0m\u001b[1;33m(\u001b[0m\u001b[0mndim\u001b[0m\u001b[1;33m=\u001b[0m\u001b[1;36m3\u001b[0m\u001b[1;33m)\u001b[0m\u001b[1;33m]\u001b[0m\u001b[1;33m\n",
       "\u001b[0m\u001b[1;33m\n",
       "\u001b[0m    \u001b[1;32mdef\u001b[0m \u001b[0mcall\u001b[0m\u001b[1;33m(\u001b[0m\u001b[0mself\u001b[0m\u001b[1;33m,\u001b[0m \u001b[0minputs\u001b[0m\u001b[1;33m,\u001b[0m \u001b[0mmask\u001b[0m\u001b[1;33m=\u001b[0m\u001b[1;32mNone\u001b[0m\u001b[1;33m,\u001b[0m \u001b[0mtraining\u001b[0m\u001b[1;33m=\u001b[0m\u001b[1;32mNone\u001b[0m\u001b[1;33m,\u001b[0m \u001b[0minitial_state\u001b[0m\u001b[1;33m=\u001b[0m\u001b[1;32mNone\u001b[0m\u001b[1;33m)\u001b[0m\u001b[1;33m:\u001b[0m\u001b[1;33m\n",
       "\u001b[0m        \u001b[1;32mreturn\u001b[0m \u001b[0msuper\u001b[0m\u001b[1;33m(\u001b[0m\u001b[1;33m)\u001b[0m\u001b[1;33m.\u001b[0m\u001b[0mcall\u001b[0m\u001b[1;33m(\u001b[0m\u001b[1;33m\n",
       "\u001b[0m            \u001b[0minputs\u001b[0m\u001b[1;33m,\u001b[0m \u001b[0mmask\u001b[0m\u001b[1;33m=\u001b[0m\u001b[0mmask\u001b[0m\u001b[1;33m,\u001b[0m \u001b[0mtraining\u001b[0m\u001b[1;33m=\u001b[0m\u001b[0mtraining\u001b[0m\u001b[1;33m,\u001b[0m \u001b[0minitial_state\u001b[0m\u001b[1;33m=\u001b[0m\u001b[0minitial_state\u001b[0m\u001b[1;33m\n",
       "\u001b[0m        \u001b[1;33m)\u001b[0m\u001b[1;33m\n",
       "\u001b[0m\u001b[1;33m\n",
       "\u001b[0m    \u001b[1;33m@\u001b[0m\u001b[0mproperty\u001b[0m\u001b[1;33m\n",
       "\u001b[0m    \u001b[1;32mdef\u001b[0m \u001b[0munits\u001b[0m\u001b[1;33m(\u001b[0m\u001b[0mself\u001b[0m\u001b[1;33m)\u001b[0m\u001b[1;33m:\u001b[0m\u001b[1;33m\n",
       "\u001b[0m        \u001b[1;32mreturn\u001b[0m \u001b[0mself\u001b[0m\u001b[1;33m.\u001b[0m\u001b[0mcell\u001b[0m\u001b[1;33m.\u001b[0m\u001b[0munits\u001b[0m\u001b[1;33m\n",
       "\u001b[0m\u001b[1;33m\n",
       "\u001b[0m    \u001b[1;33m@\u001b[0m\u001b[0mproperty\u001b[0m\u001b[1;33m\n",
       "\u001b[0m    \u001b[1;32mdef\u001b[0m \u001b[0mactivation\u001b[0m\u001b[1;33m(\u001b[0m\u001b[0mself\u001b[0m\u001b[1;33m)\u001b[0m\u001b[1;33m:\u001b[0m\u001b[1;33m\n",
       "\u001b[0m        \u001b[1;32mreturn\u001b[0m \u001b[0mself\u001b[0m\u001b[1;33m.\u001b[0m\u001b[0mcell\u001b[0m\u001b[1;33m.\u001b[0m\u001b[0mactivation\u001b[0m\u001b[1;33m\n",
       "\u001b[0m\u001b[1;33m\n",
       "\u001b[0m    \u001b[1;33m@\u001b[0m\u001b[0mproperty\u001b[0m\u001b[1;33m\n",
       "\u001b[0m    \u001b[1;32mdef\u001b[0m \u001b[0muse_bias\u001b[0m\u001b[1;33m(\u001b[0m\u001b[0mself\u001b[0m\u001b[1;33m)\u001b[0m\u001b[1;33m:\u001b[0m\u001b[1;33m\n",
       "\u001b[0m        \u001b[1;32mreturn\u001b[0m \u001b[0mself\u001b[0m\u001b[1;33m.\u001b[0m\u001b[0mcell\u001b[0m\u001b[1;33m.\u001b[0m\u001b[0muse_bias\u001b[0m\u001b[1;33m\n",
       "\u001b[0m\u001b[1;33m\n",
       "\u001b[0m    \u001b[1;33m@\u001b[0m\u001b[0mproperty\u001b[0m\u001b[1;33m\n",
       "\u001b[0m    \u001b[1;32mdef\u001b[0m \u001b[0mkernel_initializer\u001b[0m\u001b[1;33m(\u001b[0m\u001b[0mself\u001b[0m\u001b[1;33m)\u001b[0m\u001b[1;33m:\u001b[0m\u001b[1;33m\n",
       "\u001b[0m        \u001b[1;32mreturn\u001b[0m \u001b[0mself\u001b[0m\u001b[1;33m.\u001b[0m\u001b[0mcell\u001b[0m\u001b[1;33m.\u001b[0m\u001b[0mkernel_initializer\u001b[0m\u001b[1;33m\n",
       "\u001b[0m\u001b[1;33m\n",
       "\u001b[0m    \u001b[1;33m@\u001b[0m\u001b[0mproperty\u001b[0m\u001b[1;33m\n",
       "\u001b[0m    \u001b[1;32mdef\u001b[0m \u001b[0mrecurrent_initializer\u001b[0m\u001b[1;33m(\u001b[0m\u001b[0mself\u001b[0m\u001b[1;33m)\u001b[0m\u001b[1;33m:\u001b[0m\u001b[1;33m\n",
       "\u001b[0m        \u001b[1;32mreturn\u001b[0m \u001b[0mself\u001b[0m\u001b[1;33m.\u001b[0m\u001b[0mcell\u001b[0m\u001b[1;33m.\u001b[0m\u001b[0mrecurrent_initializer\u001b[0m\u001b[1;33m\n",
       "\u001b[0m\u001b[1;33m\n",
       "\u001b[0m    \u001b[1;33m@\u001b[0m\u001b[0mproperty\u001b[0m\u001b[1;33m\n",
       "\u001b[0m    \u001b[1;32mdef\u001b[0m \u001b[0mbias_initializer\u001b[0m\u001b[1;33m(\u001b[0m\u001b[0mself\u001b[0m\u001b[1;33m)\u001b[0m\u001b[1;33m:\u001b[0m\u001b[1;33m\n",
       "\u001b[0m        \u001b[1;32mreturn\u001b[0m \u001b[0mself\u001b[0m\u001b[1;33m.\u001b[0m\u001b[0mcell\u001b[0m\u001b[1;33m.\u001b[0m\u001b[0mbias_initializer\u001b[0m\u001b[1;33m\n",
       "\u001b[0m\u001b[1;33m\n",
       "\u001b[0m    \u001b[1;33m@\u001b[0m\u001b[0mproperty\u001b[0m\u001b[1;33m\n",
       "\u001b[0m    \u001b[1;32mdef\u001b[0m \u001b[0mkernel_regularizer\u001b[0m\u001b[1;33m(\u001b[0m\u001b[0mself\u001b[0m\u001b[1;33m)\u001b[0m\u001b[1;33m:\u001b[0m\u001b[1;33m\n",
       "\u001b[0m        \u001b[1;32mreturn\u001b[0m \u001b[0mself\u001b[0m\u001b[1;33m.\u001b[0m\u001b[0mcell\u001b[0m\u001b[1;33m.\u001b[0m\u001b[0mkernel_regularizer\u001b[0m\u001b[1;33m\n",
       "\u001b[0m\u001b[1;33m\n",
       "\u001b[0m    \u001b[1;33m@\u001b[0m\u001b[0mproperty\u001b[0m\u001b[1;33m\n",
       "\u001b[0m    \u001b[1;32mdef\u001b[0m \u001b[0mrecurrent_regularizer\u001b[0m\u001b[1;33m(\u001b[0m\u001b[0mself\u001b[0m\u001b[1;33m)\u001b[0m\u001b[1;33m:\u001b[0m\u001b[1;33m\n",
       "\u001b[0m        \u001b[1;32mreturn\u001b[0m \u001b[0mself\u001b[0m\u001b[1;33m.\u001b[0m\u001b[0mcell\u001b[0m\u001b[1;33m.\u001b[0m\u001b[0mrecurrent_regularizer\u001b[0m\u001b[1;33m\n",
       "\u001b[0m\u001b[1;33m\n",
       "\u001b[0m    \u001b[1;33m@\u001b[0m\u001b[0mproperty\u001b[0m\u001b[1;33m\n",
       "\u001b[0m    \u001b[1;32mdef\u001b[0m \u001b[0mbias_regularizer\u001b[0m\u001b[1;33m(\u001b[0m\u001b[0mself\u001b[0m\u001b[1;33m)\u001b[0m\u001b[1;33m:\u001b[0m\u001b[1;33m\n",
       "\u001b[0m        \u001b[1;32mreturn\u001b[0m \u001b[0mself\u001b[0m\u001b[1;33m.\u001b[0m\u001b[0mcell\u001b[0m\u001b[1;33m.\u001b[0m\u001b[0mbias_regularizer\u001b[0m\u001b[1;33m\n",
       "\u001b[0m\u001b[1;33m\n",
       "\u001b[0m    \u001b[1;33m@\u001b[0m\u001b[0mproperty\u001b[0m\u001b[1;33m\n",
       "\u001b[0m    \u001b[1;32mdef\u001b[0m \u001b[0mkernel_constraint\u001b[0m\u001b[1;33m(\u001b[0m\u001b[0mself\u001b[0m\u001b[1;33m)\u001b[0m\u001b[1;33m:\u001b[0m\u001b[1;33m\n",
       "\u001b[0m        \u001b[1;32mreturn\u001b[0m \u001b[0mself\u001b[0m\u001b[1;33m.\u001b[0m\u001b[0mcell\u001b[0m\u001b[1;33m.\u001b[0m\u001b[0mkernel_constraint\u001b[0m\u001b[1;33m\n",
       "\u001b[0m\u001b[1;33m\n",
       "\u001b[0m    \u001b[1;33m@\u001b[0m\u001b[0mproperty\u001b[0m\u001b[1;33m\n",
       "\u001b[0m    \u001b[1;32mdef\u001b[0m \u001b[0mrecurrent_constraint\u001b[0m\u001b[1;33m(\u001b[0m\u001b[0mself\u001b[0m\u001b[1;33m)\u001b[0m\u001b[1;33m:\u001b[0m\u001b[1;33m\n",
       "\u001b[0m        \u001b[1;32mreturn\u001b[0m \u001b[0mself\u001b[0m\u001b[1;33m.\u001b[0m\u001b[0mcell\u001b[0m\u001b[1;33m.\u001b[0m\u001b[0mrecurrent_constraint\u001b[0m\u001b[1;33m\n",
       "\u001b[0m\u001b[1;33m\n",
       "\u001b[0m    \u001b[1;33m@\u001b[0m\u001b[0mproperty\u001b[0m\u001b[1;33m\n",
       "\u001b[0m    \u001b[1;32mdef\u001b[0m \u001b[0mbias_constraint\u001b[0m\u001b[1;33m(\u001b[0m\u001b[0mself\u001b[0m\u001b[1;33m)\u001b[0m\u001b[1;33m:\u001b[0m\u001b[1;33m\n",
       "\u001b[0m        \u001b[1;32mreturn\u001b[0m \u001b[0mself\u001b[0m\u001b[1;33m.\u001b[0m\u001b[0mcell\u001b[0m\u001b[1;33m.\u001b[0m\u001b[0mbias_constraint\u001b[0m\u001b[1;33m\n",
       "\u001b[0m\u001b[1;33m\n",
       "\u001b[0m    \u001b[1;33m@\u001b[0m\u001b[0mproperty\u001b[0m\u001b[1;33m\n",
       "\u001b[0m    \u001b[1;32mdef\u001b[0m \u001b[0mdropout\u001b[0m\u001b[1;33m(\u001b[0m\u001b[0mself\u001b[0m\u001b[1;33m)\u001b[0m\u001b[1;33m:\u001b[0m\u001b[1;33m\n",
       "\u001b[0m        \u001b[1;32mreturn\u001b[0m \u001b[0mself\u001b[0m\u001b[1;33m.\u001b[0m\u001b[0mcell\u001b[0m\u001b[1;33m.\u001b[0m\u001b[0mdropout\u001b[0m\u001b[1;33m\n",
       "\u001b[0m\u001b[1;33m\n",
       "\u001b[0m    \u001b[1;33m@\u001b[0m\u001b[0mproperty\u001b[0m\u001b[1;33m\n",
       "\u001b[0m    \u001b[1;32mdef\u001b[0m \u001b[0mrecurrent_dropout\u001b[0m\u001b[1;33m(\u001b[0m\u001b[0mself\u001b[0m\u001b[1;33m)\u001b[0m\u001b[1;33m:\u001b[0m\u001b[1;33m\n",
       "\u001b[0m        \u001b[1;32mreturn\u001b[0m \u001b[0mself\u001b[0m\u001b[1;33m.\u001b[0m\u001b[0mcell\u001b[0m\u001b[1;33m.\u001b[0m\u001b[0mrecurrent_dropout\u001b[0m\u001b[1;33m\n",
       "\u001b[0m\u001b[1;33m\n",
       "\u001b[0m    \u001b[1;32mdef\u001b[0m \u001b[0mget_config\u001b[0m\u001b[1;33m(\u001b[0m\u001b[0mself\u001b[0m\u001b[1;33m)\u001b[0m\u001b[1;33m:\u001b[0m\u001b[1;33m\n",
       "\u001b[0m        \u001b[0mconfig\u001b[0m \u001b[1;33m=\u001b[0m \u001b[1;33m{\u001b[0m\u001b[1;33m\n",
       "\u001b[0m            \u001b[1;34m\"units\"\u001b[0m\u001b[1;33m:\u001b[0m \u001b[0mself\u001b[0m\u001b[1;33m.\u001b[0m\u001b[0munits\u001b[0m\u001b[1;33m,\u001b[0m\u001b[1;33m\n",
       "\u001b[0m            \u001b[1;34m\"activation\"\u001b[0m\u001b[1;33m:\u001b[0m \u001b[0mactivations\u001b[0m\u001b[1;33m.\u001b[0m\u001b[0mserialize\u001b[0m\u001b[1;33m(\u001b[0m\u001b[0mself\u001b[0m\u001b[1;33m.\u001b[0m\u001b[0mactivation\u001b[0m\u001b[1;33m)\u001b[0m\u001b[1;33m,\u001b[0m\u001b[1;33m\n",
       "\u001b[0m            \u001b[1;34m\"use_bias\"\u001b[0m\u001b[1;33m:\u001b[0m \u001b[0mself\u001b[0m\u001b[1;33m.\u001b[0m\u001b[0muse_bias\u001b[0m\u001b[1;33m,\u001b[0m\u001b[1;33m\n",
       "\u001b[0m            \u001b[1;34m\"kernel_initializer\"\u001b[0m\u001b[1;33m:\u001b[0m \u001b[0minitializers\u001b[0m\u001b[1;33m.\u001b[0m\u001b[0mserialize\u001b[0m\u001b[1;33m(\u001b[0m\u001b[1;33m\n",
       "\u001b[0m                \u001b[0mself\u001b[0m\u001b[1;33m.\u001b[0m\u001b[0mkernel_initializer\u001b[0m\u001b[1;33m\n",
       "\u001b[0m            \u001b[1;33m)\u001b[0m\u001b[1;33m,\u001b[0m\u001b[1;33m\n",
       "\u001b[0m            \u001b[1;34m\"recurrent_initializer\"\u001b[0m\u001b[1;33m:\u001b[0m \u001b[0minitializers\u001b[0m\u001b[1;33m.\u001b[0m\u001b[0mserialize\u001b[0m\u001b[1;33m(\u001b[0m\u001b[1;33m\n",
       "\u001b[0m                \u001b[0mself\u001b[0m\u001b[1;33m.\u001b[0m\u001b[0mrecurrent_initializer\u001b[0m\u001b[1;33m\n",
       "\u001b[0m            \u001b[1;33m)\u001b[0m\u001b[1;33m,\u001b[0m\u001b[1;33m\n",
       "\u001b[0m            \u001b[1;34m\"bias_initializer\"\u001b[0m\u001b[1;33m:\u001b[0m \u001b[0minitializers\u001b[0m\u001b[1;33m.\u001b[0m\u001b[0mserialize\u001b[0m\u001b[1;33m(\u001b[0m\u001b[0mself\u001b[0m\u001b[1;33m.\u001b[0m\u001b[0mbias_initializer\u001b[0m\u001b[1;33m)\u001b[0m\u001b[1;33m,\u001b[0m\u001b[1;33m\n",
       "\u001b[0m            \u001b[1;34m\"kernel_regularizer\"\u001b[0m\u001b[1;33m:\u001b[0m \u001b[0mregularizers\u001b[0m\u001b[1;33m.\u001b[0m\u001b[0mserialize\u001b[0m\u001b[1;33m(\u001b[0m\u001b[1;33m\n",
       "\u001b[0m                \u001b[0mself\u001b[0m\u001b[1;33m.\u001b[0m\u001b[0mkernel_regularizer\u001b[0m\u001b[1;33m\n",
       "\u001b[0m            \u001b[1;33m)\u001b[0m\u001b[1;33m,\u001b[0m\u001b[1;33m\n",
       "\u001b[0m            \u001b[1;34m\"recurrent_regularizer\"\u001b[0m\u001b[1;33m:\u001b[0m \u001b[0mregularizers\u001b[0m\u001b[1;33m.\u001b[0m\u001b[0mserialize\u001b[0m\u001b[1;33m(\u001b[0m\u001b[1;33m\n",
       "\u001b[0m                \u001b[0mself\u001b[0m\u001b[1;33m.\u001b[0m\u001b[0mrecurrent_regularizer\u001b[0m\u001b[1;33m\n",
       "\u001b[0m            \u001b[1;33m)\u001b[0m\u001b[1;33m,\u001b[0m\u001b[1;33m\n",
       "\u001b[0m            \u001b[1;34m\"bias_regularizer\"\u001b[0m\u001b[1;33m:\u001b[0m \u001b[0mregularizers\u001b[0m\u001b[1;33m.\u001b[0m\u001b[0mserialize\u001b[0m\u001b[1;33m(\u001b[0m\u001b[0mself\u001b[0m\u001b[1;33m.\u001b[0m\u001b[0mbias_regularizer\u001b[0m\u001b[1;33m)\u001b[0m\u001b[1;33m,\u001b[0m\u001b[1;33m\n",
       "\u001b[0m            \u001b[1;34m\"activity_regularizer\"\u001b[0m\u001b[1;33m:\u001b[0m \u001b[0mregularizers\u001b[0m\u001b[1;33m.\u001b[0m\u001b[0mserialize\u001b[0m\u001b[1;33m(\u001b[0m\u001b[1;33m\n",
       "\u001b[0m                \u001b[0mself\u001b[0m\u001b[1;33m.\u001b[0m\u001b[0mactivity_regularizer\u001b[0m\u001b[1;33m\n",
       "\u001b[0m            \u001b[1;33m)\u001b[0m\u001b[1;33m,\u001b[0m\u001b[1;33m\n",
       "\u001b[0m            \u001b[1;34m\"kernel_constraint\"\u001b[0m\u001b[1;33m:\u001b[0m \u001b[0mconstraints\u001b[0m\u001b[1;33m.\u001b[0m\u001b[0mserialize\u001b[0m\u001b[1;33m(\u001b[0m\u001b[0mself\u001b[0m\u001b[1;33m.\u001b[0m\u001b[0mkernel_constraint\u001b[0m\u001b[1;33m)\u001b[0m\u001b[1;33m,\u001b[0m\u001b[1;33m\n",
       "\u001b[0m            \u001b[1;34m\"recurrent_constraint\"\u001b[0m\u001b[1;33m:\u001b[0m \u001b[0mconstraints\u001b[0m\u001b[1;33m.\u001b[0m\u001b[0mserialize\u001b[0m\u001b[1;33m(\u001b[0m\u001b[1;33m\n",
       "\u001b[0m                \u001b[0mself\u001b[0m\u001b[1;33m.\u001b[0m\u001b[0mrecurrent_constraint\u001b[0m\u001b[1;33m\n",
       "\u001b[0m            \u001b[1;33m)\u001b[0m\u001b[1;33m,\u001b[0m\u001b[1;33m\n",
       "\u001b[0m            \u001b[1;34m\"bias_constraint\"\u001b[0m\u001b[1;33m:\u001b[0m \u001b[0mconstraints\u001b[0m\u001b[1;33m.\u001b[0m\u001b[0mserialize\u001b[0m\u001b[1;33m(\u001b[0m\u001b[0mself\u001b[0m\u001b[1;33m.\u001b[0m\u001b[0mbias_constraint\u001b[0m\u001b[1;33m)\u001b[0m\u001b[1;33m,\u001b[0m\u001b[1;33m\n",
       "\u001b[0m            \u001b[1;34m\"dropout\"\u001b[0m\u001b[1;33m:\u001b[0m \u001b[0mself\u001b[0m\u001b[1;33m.\u001b[0m\u001b[0mdropout\u001b[0m\u001b[1;33m,\u001b[0m\u001b[1;33m\n",
       "\u001b[0m            \u001b[1;34m\"recurrent_dropout\"\u001b[0m\u001b[1;33m:\u001b[0m \u001b[0mself\u001b[0m\u001b[1;33m.\u001b[0m\u001b[0mrecurrent_dropout\u001b[0m\u001b[1;33m,\u001b[0m\u001b[1;33m\n",
       "\u001b[0m        \u001b[1;33m}\u001b[0m\u001b[1;33m\n",
       "\u001b[0m        \u001b[0mbase_config\u001b[0m \u001b[1;33m=\u001b[0m \u001b[0msuper\u001b[0m\u001b[1;33m(\u001b[0m\u001b[1;33m)\u001b[0m\u001b[1;33m.\u001b[0m\u001b[0mget_config\u001b[0m\u001b[1;33m(\u001b[0m\u001b[1;33m)\u001b[0m\u001b[1;33m\n",
       "\u001b[0m        \u001b[0mconfig\u001b[0m\u001b[1;33m.\u001b[0m\u001b[0mupdate\u001b[0m\u001b[1;33m(\u001b[0m\u001b[0mrnn_utils\u001b[0m\u001b[1;33m.\u001b[0m\u001b[0mconfig_for_enable_caching_device\u001b[0m\u001b[1;33m(\u001b[0m\u001b[0mself\u001b[0m\u001b[1;33m.\u001b[0m\u001b[0mcell\u001b[0m\u001b[1;33m)\u001b[0m\u001b[1;33m)\u001b[0m\u001b[1;33m\n",
       "\u001b[0m        \u001b[1;32mdel\u001b[0m \u001b[0mbase_config\u001b[0m\u001b[1;33m[\u001b[0m\u001b[1;34m\"cell\"\u001b[0m\u001b[1;33m]\u001b[0m\u001b[1;33m\n",
       "\u001b[0m        \u001b[1;32mreturn\u001b[0m \u001b[0mdict\u001b[0m\u001b[1;33m(\u001b[0m\u001b[0mlist\u001b[0m\u001b[1;33m(\u001b[0m\u001b[0mbase_config\u001b[0m\u001b[1;33m.\u001b[0m\u001b[0mitems\u001b[0m\u001b[1;33m(\u001b[0m\u001b[1;33m)\u001b[0m\u001b[1;33m)\u001b[0m \u001b[1;33m+\u001b[0m \u001b[0mlist\u001b[0m\u001b[1;33m(\u001b[0m\u001b[0mconfig\u001b[0m\u001b[1;33m.\u001b[0m\u001b[0mitems\u001b[0m\u001b[1;33m(\u001b[0m\u001b[1;33m)\u001b[0m\u001b[1;33m)\u001b[0m\u001b[1;33m)\u001b[0m\u001b[1;33m\n",
       "\u001b[0m\u001b[1;33m\n",
       "\u001b[0m    \u001b[1;33m@\u001b[0m\u001b[0mclassmethod\u001b[0m\u001b[1;33m\n",
       "\u001b[0m    \u001b[1;32mdef\u001b[0m \u001b[0mfrom_config\u001b[0m\u001b[1;33m(\u001b[0m\u001b[0mcls\u001b[0m\u001b[1;33m,\u001b[0m \u001b[0mconfig\u001b[0m\u001b[1;33m)\u001b[0m\u001b[1;33m:\u001b[0m\u001b[1;33m\n",
       "\u001b[0m        \u001b[1;32mif\u001b[0m \u001b[1;34m\"implementation\"\u001b[0m \u001b[1;32min\u001b[0m \u001b[0mconfig\u001b[0m\u001b[1;33m:\u001b[0m\u001b[1;33m\n",
       "\u001b[0m            \u001b[0mconfig\u001b[0m\u001b[1;33m.\u001b[0m\u001b[0mpop\u001b[0m\u001b[1;33m(\u001b[0m\u001b[1;34m\"implementation\"\u001b[0m\u001b[1;33m)\u001b[0m\u001b[1;33m\n",
       "\u001b[0m        \u001b[1;32mreturn\u001b[0m \u001b[0mcls\u001b[0m\u001b[1;33m(\u001b[0m\u001b[1;33m**\u001b[0m\u001b[0mconfig\u001b[0m\u001b[1;33m)\u001b[0m\u001b[1;33m\u001b[0m\u001b[1;33m\u001b[0m\u001b[0m\n",
       "\u001b[1;31mFile:\u001b[0m           c:\\users\\bjlov\\anaconda3\\lib\\site-packages\\keras\\layers\\rnn\\simple_rnn.py\n",
       "\u001b[1;31mType:\u001b[0m           type\n",
       "\u001b[1;31mSubclasses:\u001b[0m     "
      ]
     },
     "metadata": {},
     "output_type": "display_data"
    }
   ],
   "source": [
    "SimpleRNN??"
   ]
  },
  {
   "cell_type": "code",
   "execution_count": 119,
   "id": "2db445de-ab51-47d1-960a-99bb0585933c",
   "metadata": {},
   "outputs": [],
   "source": [
    "model = Sequential(\n",
    "    Embedding(2000,32,input_length=100),\n",
    "    \n",
    ")"
   ]
  },
  {
   "cell_type": "code",
   "execution_count": 120,
   "id": "4dab2cd3-bfe5-4530-99fd-94664eb3a2ed",
   "metadata": {},
   "outputs": [],
   "source": [
    "def tanh(x):\n",
    "    return (np.exp(x)-np.exp(-x))/(np.exp(x)+np.exp(-x))"
   ]
  },
  {
   "cell_type": "code",
   "execution_count": 121,
   "id": "a242a871-19d2-442d-81ae-986f6c7d97fa",
   "metadata": {},
   "outputs": [
    {
     "data": {
      "text/plain": [
       "-0.00018161620940215784"
      ]
     },
     "execution_count": 121,
     "metadata": {},
     "output_type": "execute_result"
    }
   ],
   "source": [
    "1-(1/tanh(x[0]))**2"
   ]
  },
  {
   "cell_type": "code",
   "execution_count": 125,
   "id": "bf9f1a67-7fc3-4650-89be-cd83d3ae4561",
   "metadata": {},
   "outputs": [
    {
     "data": {
      "text/plain": [
       "[<matplotlib.lines.Line2D at 0x2d884a37a30>]"
      ]
     },
     "execution_count": 125,
     "metadata": {},
     "output_type": "execute_result"
    },
    {
     "data": {
      "image/png": "[encoded data removed]",
      "text/plain": [
       "<Figure size 640x480 with 1 Axes>"
      ]
     },
     "metadata": {},
     "output_type": "display_data"
    }
   ],
   "source": [
    "x = np.linspace(-5,5,100)\n",
    "plt.plot(x,(1-tanh(x)**2))"
   ]
  },
  {
   "cell_type": "code",
   "execution_count": 126,
   "id": "a856afab-82d1-483f-86a2-91dfc416ac8f",
   "metadata": {},
   "outputs": [],
   "source": [
    "from tensorflow.keras.layers import LSTM"
   ]
  },
  {
   "cell_type": "code",
   "execution_count": 127,
   "id": "dd5cc985-05f4-47bb-ad26-10e29afa10f6",
   "metadata": {},
   "outputs": [],
   "source": [
    "model = Sequential(\n",
    "    [\n",
    "        Embedding(2000,32,input_length=100),\n",
    "        LSTM(64,return_sequences=True),\n",
    "        BatchNormalization(),\n",
    "        Flatten(),\n",
    "        Dense(2048,activation='tanh'),\n",
    "        BatchNormalization(),\n",
    "        Dense(1024,activation='relu'),\n",
    "        Dense(46,activation='softmax')\n",
    "    ]\n",
    ")"
   ]
  },
  {
   "cell_type": "code",
   "execution_count": 128,
   "id": "1d7b4eb7-f4af-4a41-930a-ce277f4b2f51",
   "metadata": {},
   "outputs": [
    {
     "name": "stdout",
     "output_type": "stream",
     "text": [
      "Model: \"sequential_9\"\n",
      "_________________________________________________________________\n",
      " Layer (type)                Output Shape              Param #   \n",
      "=================================================================\n",
      " embedding_9 (Embedding)     (None, 100, 32)           64000     \n",
      "                                                                 \n",
      " lstm (LSTM)                 (None, 100, 64)           24832     \n",
      "                                                                 \n",
      " batch_normalization_4 (Batc  (None, 100, 64)          256       \n",
      " hNormalization)                                                 \n",
      "                                                                 \n",
      " flatten_6 (Flatten)         (None, 6400)              0         \n",
      "                                                                 \n",
      " dense_18 (Dense)            (None, 2048)              13109248  \n",
      "                                                                 \n",
      " batch_normalization_5 (Batc  (None, 2048)             8192      \n",
      " hNormalization)                                                 \n",
      "                                                                 \n",
      " dense_19 (Dense)            (None, 1024)              2098176   \n",
      "                                                                 \n",
      " dense_20 (Dense)            (None, 46)                47150     \n",
      "                                                                 \n",
      "=================================================================\n",
      "Total params: 15,351,854\n",
      "Trainable params: 15,347,630\n",
      "Non-trainable params: 4,224\n",
      "_________________________________________________________________\n"
     ]
    }
   ],
   "source": [
    "model.summary()"
   ]
  },
  {
   "cell_type": "code",
   "execution_count": 129,
   "id": "d40f6787-af2d-4c53-9f7b-e37b5e1dc949",
   "metadata": {},
   "outputs": [],
   "source": [
    "model.compile(optimizer='rmsprop',\n",
    "             loss='categorical_crossentropy',\n",
    "             metrics=['accurac'])"
   ]
  },
  {
   "cell_type": "code",
   "execution_count": 1,
   "id": "ec83a870-f0f4-4102-a063-826490b00086",
   "metadata": {},
   "outputs": [],
   "source": [
    "from konlpy.tag import Okt"
   ]
  },
  {
   "cell_type": "code",
   "execution_count": 2,
   "id": "547d9af7-e235-4db9-ac12-b148152e22aa",
   "metadata": {},
   "outputs": [],
   "source": [
    "okt = Okt()"
   ]
  },
  {
   "cell_type": "code",
   "execution_count": 3,
   "id": "2742c45a-9402-4255-b3b2-f7374729dc42",
   "metadata": {},
   "outputs": [
    {
     "data": {
      "text/plain": [
       "[('아버지', 'Noun'), ('가방', 'Noun'), ('에', 'Josa'), ('들어가신다', 'Verb')]"
      ]
     },
     "execution_count": 3,
     "metadata": {},
     "output_type": "execute_result"
    }
   ],
   "source": [
    "sentence = '아버지가방에들어가신다'\n",
    "okt.pos(sentence)"
   ]
  },
  {
   "cell_type": "code",
   "execution_count": null,
   "id": "6ef5e4db-8c04-4e29-8752-0553d307bf6d",
   "metadata": {},
   "outputs": [],
   "source": []
  },
  {
   "cell_type": "code",
   "execution_count": null,
   "id": "769e940a-4d49-48d3-a2a2-cca36ef8df7e",
   "metadata": {},
   "outputs": [],
   "source": []
  },
  {
   "cell_type": "code",
   "execution_count": null,
   "id": "a480e56b-5557-448d-af2d-549177b4ba7a",
   "metadata": {},
   "outputs": [],
   "source": []
  },
  {
   "cell_type": "code",
   "execution_count": null,
   "id": "2b08ddd8-1260-4208-849e-13c03047b53c",
   "metadata": {},
   "outputs": [],
   "source": []
  },
  {
   "cell_type": "code",
   "execution_count": null,
   "id": "c3bf2e99-a3ef-4899-9904-deddf5418f21",
   "metadata": {},
   "outputs": [],
   "source": []
  },
  {
   "cell_type": "code",
   "execution_count": null,
   "id": "c7853183-2a64-44c9-acab-c1a07d29f729",
   "metadata": {},
   "outputs": [],
   "source": []
  },
  {
   "cell_type": "code",
   "execution_count": null,
   "id": "1ea8eace-d3ba-47c1-854c-9b6e1d760577",
   "metadata": {},
   "outputs": [],
   "source": []
  },
  {
   "cell_type": "code",
   "execution_count": null,
   "id": "bfb25e3f-a31d-43a2-af46-bbd7e00ff13e",
   "metadata": {},
   "outputs": [],
   "source": []
  },
  {
   "cell_type": "code",
   "execution_count": null,
   "id": "67d23a89-4bf8-4496-a380-68f088fe0875",
   "metadata": {},
   "outputs": [],
   "source": []
  },
  {
   "cell_type": "code",
   "execution_count": null,
   "id": "5cd0c28c-25a2-44f6-9997-78bc3ef591d8",
   "metadata": {},
   "outputs": [],
   "source": []
  },
  {
   "cell_type": "code",
   "execution_count": null,
   "id": "94c8a754-2c6f-4672-9228-9016da90e698",
   "metadata": {},
   "outputs": [],
   "source": []
  },
  {
   "cell_type": "code",
   "execution_count": null,
   "id": "afc325a5-fae1-4e57-a9ec-2ca9228e5f3e",
   "metadata": {},
   "outputs": [],
   "source": []
  },
  {
   "cell_type": "code",
   "execution_count": null,
   "id": "828c4f0e-43b6-4ee4-beb0-a5d041abacab",
   "metadata": {},
   "outputs": [],
   "source": []
  },
  {
   "cell_type": "code",
   "execution_count": null,
   "id": "566d5d83-fc96-4ffc-9405-5b54cc044b14",
   "metadata": {},
   "outputs": [],
   "source": []
  },
  {
   "cell_type": "code",
   "execution_count": null,
   "id": "7b4ce1a5-3b25-403f-82fe-a0cd5fcf0254",
   "metadata": {},
   "outputs": [],
   "source": []
  },
  {
   "cell_type": "code",
   "execution_count": null,
   "id": "4a7e2b49-5d57-4c81-b719-62c6e95e76fc",
   "metadata": {},
   "outputs": [],
   "source": []
  }
 ],
 "metadata": {
  "kernelspec": {
   "display_name": "Python 3 (ipykernel)",
   "language": "python",
   "name": "python3"
  },
  "language_info": {
   "codemirror_mode": {
    "name": "ipython",
    "version": 3
   },
   "file_extension": ".py",
   "mimetype": "text/x-python",
   "name": "python",
   "nbconvert_exporter": "python",
   "pygments_lexer": "ipython3",
   "version": "3.9.13"
  }
 },
 "nbformat": 4,
 "nbformat_minor": 5
}
