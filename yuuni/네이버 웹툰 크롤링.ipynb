{
 "cells": [
  {
   "cell_type": "code",
   "execution_count": 1,
   "id": "bf7acba0-0fa6-449a-88cd-23e559a88e77",
   "metadata": {},
   "outputs": [
    {
     "data": {
      "text/plain": [
       "'C:\\\\Users\\\\bjlov\\\\anaconda3\\\\python.exe'"
      ]
     },
     "execution_count": 1,
     "metadata": {},
     "output_type": "execute_result"
    }
   ],
   "source": [
    "import sys\n",
    "sys.executable"
   ]
  },
  {
   "cell_type": "code",
   "execution_count": 2,
   "id": "3277fe4b-6844-4332-9083-a136d276a8b9",
   "metadata": {},
   "outputs": [],
   "source": [
    "def writer(header, data, filename, option):\n",
    "        with open (filename, \"w\", newline = \"\") as csvfile:\n",
    "            if option == \"write\":\n",
    "\n",
    "                movies = csv.writer(csvfile)\n",
    "                movies.writerow(header)\n",
    "                for x in data:\n",
    "                    movies.writerow(x)\n",
    "            elif option == \"update\":\n",
    "                writer = csv.DictWriter(csvfile, fieldnames = header)\n",
    "                writer.writeheader()\n",
    "                writer.writerows(data)\n",
    "            else:\n",
    "                print(\"Option is not known\")"
   ]
  },
  {
   "cell_type": "code",
   "execution_count": 17,
   "id": "e873e1f8-ad20-4d29-b7b8-b387662af13e",
   "metadata": {},
   "outputs": [
    {
     "name": "stdout",
     "output_type": "stream",
     "text": [
      "      series_id         series_title          author  is_adult  star_score  \\\n",
      "0        805931  소녀의 디딤돌 : 희망, 함께 날다             모랑지     False     9.95512   \n",
      "1        758676              조선여우스캔들  문종호 / 정후 / 차소희     False     9.93272   \n",
      "2        776656                 최면학교             박은혁     False     9.68211   \n",
      "3        769747              아찔한 전남편   마풍각 / 여백 / 별규     False     9.88835   \n",
      "4        791847       스치면 인연 스며들면 사랑              을승     False     9.94149   \n",
      "...         ...                  ...             ...       ...         ...   \n",
      "1681      20762                   AA          선정, 지숙     False     9.68347   \n",
      "1682      15439                 사랑in             전세훈     False     9.50592   \n",
      "1683      22073                   까뱅          X-TEAM     False     8.83796   \n",
      "1684      15938                  와탕카             우주인     False     9.63391   \n",
      "1685      15569                   타투             노지현     False     9.20138   \n",
      "\n",
      "      favorite_count genre  epi_cnt completed_date  \n",
      "0              12048    감성      8.0       23.03.22  \n",
      "1              77846   로맨스    112.0       23.03.18  \n",
      "2             136865    개그     85.0       23.03.17  \n",
      "3             110222   로맨스    101.0       23.03.16  \n",
      "4              47255   로맨스     53.0       23.03.16  \n",
      "...              ...   ...      ...            ...  \n",
      "1681            1070   로맨스     56.0       07.08.02  \n",
      "1682             730   로맨스     89.0       05.12.16  \n",
      "1683             216    개그     32.0       07.02.23  \n",
      "1684            4820    개그    706.0       06.12.28  \n",
      "1685             730   드라마     31.0       06.08.03  \n",
      "\n",
      "[1686 rows x 9 columns]\n",
      "\n"
     ]
    }
   ],
   "source": [
    "import pandas as pd\n",
    "import os\n",
    " \n",
    " \n",
    "readData = pd.read_excel(\"./네이버웹툰_완결작.xlsx\")\n",
    "print(readData)\n",
    "print()"
   ]
  },
  {
   "cell_type": "code",
   "execution_count": null,
   "id": "7e1993fb-fc0c-4da1-b537-e09e7b4cf203",
   "metadata": {},
   "outputs": [],
   "source": []
  }
 ],
 "metadata": {
  "kernelspec": {
   "display_name": "yuuni",
   "language": "python",
   "name": "yuuni"
  },
  "language_info": {
   "codemirror_mode": {
    "name": "ipython",
    "version": 3
   },
   "file_extension": ".py",
   "mimetype": "text/x-python",
   "name": "python",
   "nbconvert_exporter": "python",
   "pygments_lexer": "ipython3",
   "version": "3.9.13"
  }
 },
 "nbformat": 4,
 "nbformat_minor": 5
}
