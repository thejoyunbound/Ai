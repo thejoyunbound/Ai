{
 "cells": [
  {
   "cell_type": "code",
   "execution_count": 1,
   "id": "f8e850ba-6048-4e5a-ac6b-fa3a2d796272",
   "metadata": {
    "tags": []
   },
   "outputs": [],
   "source": [
    "# 일차방정식 y =a*x\n",
    "# err(cost) = y - y_hat\n",
    "# 보정 y_hat - a_hat*x\n",
    "# err = y - (a_hat)*x"
   ]
  },
  {
   "cell_type": "code",
   "execution_count": 1,
   "id": "af6bb3d1-a8d1-46ba-8d29-b57f7523ad44",
   "metadata": {
    "tags": []
   },
   "outputs": [],
   "source": [
    "import numpy as np"
   ]
  },
  {
   "cell_type": "code",
   "execution_count": 2,
   "id": "87489951-2b04-4aea-8785-e0e0eb5374a6",
   "metadata": {
    "tags": []
   },
   "outputs": [],
   "source": [
    "x = np.random.randn(10)\n",
    "y = 3 * x"
   ]
  },
  {
   "cell_type": "code",
   "execution_count": 3,
   "id": "1f2a7638-e206-4161-8822-660c102e0e7c",
   "metadata": {
    "tags": []
   },
   "outputs": [],
   "source": [
    "import matplotlib.pyplot as plt"
   ]
  },
  {
   "cell_type": "code",
   "execution_count": 4,
   "id": "bc391103-a1a8-4a6a-b9dc-716bf3f9d524",
   "metadata": {
    "tags": []
   },
   "outputs": [
    {
     "data": {
      "text/plain": [
       "35.25368367166578"
      ]
     },
     "execution_count": 4,
     "metadata": {},
     "output_type": "execute_result"
    }
   ],
   "source": [
    "a_hat =10\n",
    "y_hat = a_hat*x\n",
    "\n",
    "err = np.sum((y - y_hat)**2) / y.size\n",
    "err = np.mean((y-y_hat)**2)\n",
    "err"
   ]
  },
  {
   "cell_type": "code",
   "execution_count": 5,
   "id": "9112c9be-7fad-41dc-8dbd-5b62cb1b8deb",
   "metadata": {
    "tags": []
   },
   "outputs": [],
   "source": [
    "a_hat = np.linspace(-3,7,30)\n",
    "errors = []\n",
    "for i in a_hat:\n",
    "    y_hat = i*x\n",
    "    err = np.mean((y-y_hat)**2)\n",
    "    errors.append(err)"
   ]
  },
  {
   "cell_type": "code",
   "execution_count": 6,
   "id": "e1a44ee1-9bef-457b-9cb6-b4536e492a86",
   "metadata": {
    "tags": []
   },
   "outputs": [
    {
     "data": {
      "text/plain": [
       "[<matplotlib.lines.Line2D at 0x2b84e535370>]"
      ]
     },
     "execution_count": 6,
     "metadata": {},
     "output_type": "execute_result"
    },
    {
     "data": {
      "image/png": "[encoded data removed]",
      "text/plain": [
       "<Figure size 640x480 with 1 Axes>"
      ]
     },
     "metadata": {},
     "output_type": "display_data"
    }
   ],
   "source": [
    "plt.plot(a_hat,errors)"
   ]
  },
  {
   "cell_type": "code",
   "execution_count": 7,
   "id": "31137c96-24aa-4254-8f2f-35c63e2f1216",
   "metadata": {
    "tags": []
   },
   "outputs": [],
   "source": [
    "real_a = np.random.randint(100)"
   ]
  },
  {
   "cell_type": "code",
   "execution_count": 8,
   "id": "91c75506-4006-4b06-b6d8-2f4a6e95c481",
   "metadata": {
    "tags": []
   },
   "outputs": [],
   "source": [
    "X = np.random.randn(100)\n",
    "y = X*real_a"
   ]
  },
  {
   "cell_type": "code",
   "execution_count": 9,
   "id": "71175cbf-35a3-4fe6-9836-550f1c909201",
   "metadata": {
    "tags": []
   },
   "outputs": [
    {
     "ename": "TypeError",
     "evalue": "'int' object is not iterable",
     "output_type": "error",
     "traceback": [
      "\u001b[1;31m---------------------------------------------------------------------------\u001b[0m",
      "\u001b[1;31mTypeError\u001b[0m                                 Traceback (most recent call last)",
      "\u001b[1;32m~\\AppData\\Local\\Temp\\ipykernel_4996\\3287027498.py\u001b[0m in \u001b[0;36m<module>\u001b[1;34m\u001b[0m\n\u001b[0;32m      1\u001b[0m \u001b[0ma_hat\u001b[0m \u001b[1;33m=\u001b[0m\u001b[1;36m500\u001b[0m\u001b[1;33m\u001b[0m\u001b[1;33m\u001b[0m\u001b[0m\n\u001b[0;32m      2\u001b[0m \u001b[0mepochs\u001b[0m \u001b[1;33m=\u001b[0m \u001b[1;36m10000\u001b[0m\u001b[1;33m\u001b[0m\u001b[1;33m\u001b[0m\u001b[0m\n\u001b[1;32m----> 3\u001b[1;33m \u001b[1;32mfor\u001b[0m \u001b[0mi\u001b[0m \u001b[1;32min\u001b[0m \u001b[1;33m(\u001b[0m\u001b[0mepochs\u001b[0m\u001b[1;33m)\u001b[0m\u001b[1;33m:\u001b[0m\u001b[1;33m\u001b[0m\u001b[1;33m\u001b[0m\u001b[0m\n\u001b[0m\u001b[0;32m      4\u001b[0m     \u001b[0my_hat\u001b[0m \u001b[1;33m=\u001b[0m \u001b[0mX\u001b[0m\u001b[1;33m*\u001b[0m\u001b[0ma_hat\u001b[0m\u001b[1;33m\u001b[0m\u001b[1;33m\u001b[0m\u001b[0m\n\u001b[0;32m      5\u001b[0m     \u001b[0merr\u001b[0m \u001b[1;33m=\u001b[0m \u001b[1;33m(\u001b[0m\u001b[1;33m(\u001b[0m\u001b[0my_hat\u001b[0m \u001b[1;33m-\u001b[0m \u001b[0my\u001b[0m\u001b[1;33m)\u001b[0m\u001b[1;33m**\u001b[0m\u001b[1;36m2\u001b[0m\u001b[1;33m)\u001b[0m\u001b[1;33m.\u001b[0m\u001b[0mmean\u001b[0m\u001b[1;33m(\u001b[0m\u001b[1;33m)\u001b[0m\u001b[1;33m\u001b[0m\u001b[1;33m\u001b[0m\u001b[0m\n",
      "\u001b[1;31mTypeError\u001b[0m: 'int' object is not iterable"
     ]
    }
   ],
   "source": [
    "a_hat =500\n",
    "epochs = 10000\n",
    "for i in (epochs):\n",
    "    y_hat = X*a_hat\n",
    "    err = ((y_hat - y)**2).mean()\n",
    "    derr = (2*X*(y_hat - y)).mean()\n",
    "    a_hat = a_hat \n"
   ]
  },
  {
   "cell_type": "code",
   "execution_count": null,
   "id": "46f27f44-5084-407e-8b9e-76ab34a47913",
   "metadata": {},
   "outputs": [],
   "source": [
    "a_hat"
   ]
  },
  {
   "cell_type": "code",
   "execution_count": 10,
   "id": "63d23de4-a08e-40dd-9224-369fb05da3b1",
   "metadata": {
    "tags": []
   },
   "outputs": [
    {
     "ename": "NameError",
     "evalue": "name 'derr' is not defined",
     "output_type": "error",
     "traceback": [
      "\u001b[1;31m---------------------------------------------------------------------------\u001b[0m",
      "\u001b[1;31mNameError\u001b[0m                                 Traceback (most recent call last)",
      "\u001b[1;32m~\\AppData\\Local\\Temp\\ipykernel_4996\\1800442396.py\u001b[0m in \u001b[0;36m<module>\u001b[1;34m\u001b[0m\n\u001b[1;32m----> 1\u001b[1;33m \u001b[0mderr\u001b[0m\u001b[1;33m\u001b[0m\u001b[1;33m\u001b[0m\u001b[0m\n\u001b[0m",
      "\u001b[1;31mNameError\u001b[0m: name 'derr' is not defined"
     ]
    }
   ],
   "source": [
    "derr"
   ]
  },
  {
   "cell_type": "code",
   "execution_count": 11,
   "id": "57f7d84e-7893-4b7a-a1c8-a6cfc56e3336",
   "metadata": {
    "tags": []
   },
   "outputs": [],
   "source": [
    "real_a = np.random.randint(1000)\n",
    "real_b = np.random.randint(1000)\n",
    "X = np.random.randn(100)\n",
    "y = real_a*X + real_b"
   ]
  },
  {
   "cell_type": "code",
   "execution_count": 12,
   "id": "4c7d1850-c8d2-4ed9-aa42-3971d96ea195",
   "metadata": {
    "tags": []
   },
   "outputs": [],
   "source": [
    "a_hat = np.random.randn(1)\n",
    "b_hat = 0\n",
    "epochs = 100000\n",
    "learning_rate = 1e-4\n",
    "for epoch in range(epochs):\n",
    "    y_hat = X*a_hat + b_hat\n",
    "    a_hat -= learning_rate*(2*X*(y_hat - y)).mean()\n",
    "    b_hat -= learning_rate*(2*(y_hat - y)).mean()\n",
    "    "
   ]
  },
  {
   "cell_type": "code",
   "execution_count": 13,
   "id": "7b5ac4cb-b779-4f3e-b1eb-06161e090756",
   "metadata": {
    "tags": []
   },
   "outputs": [
    {
     "data": {
      "text/plain": [
       "3.2197807892419e-12"
      ]
     },
     "execution_count": 13,
     "metadata": {},
     "output_type": "execute_result"
    }
   ],
   "source": [
    "err = ((y_hat-y)**2).mean()\n",
    "err"
   ]
  },
  {
   "cell_type": "code",
   "execution_count": 14,
   "id": "93aaa7d4-f6ec-40f0-a94c-57891c33d04b",
   "metadata": {
    "tags": []
   },
   "outputs": [],
   "source": [
    "x1 = np.random.randint(1,30,100)\n",
    "x2 = np.random.randint(7,50,100)"
   ]
  },
  {
   "cell_type": "code",
   "execution_count": 15,
   "id": "d07f939b-353c-44f1-a700-cb136b62b895",
   "metadata": {
    "tags": []
   },
   "outputs": [],
   "source": [
    "real_a1 = np.random.randint(10000,90000,1)\n",
    "real_a2 = np.random.randint(1000,9000,1)\n",
    "real_b = np.random.randint(1000,90000,1)"
   ]
  },
  {
   "cell_type": "code",
   "execution_count": 16,
   "id": "c7bfacc5-2f98-41d9-9643-043cf963565b",
   "metadata": {
    "tags": []
   },
   "outputs": [],
   "source": [
    "y = real_a1*x1 + real_a2*x2 + real_b"
   ]
  },
  {
   "cell_type": "code",
   "execution_count": 17,
   "id": "d1022831-7e86-4d46-b149-58738ab227d5",
   "metadata": {
    "tags": []
   },
   "outputs": [],
   "source": [
    "a1_hat = np.random.randn(1)\n",
    "a2_hat = np.random.randn(1)\n",
    "b_hat = 0\n",
    "epochs = 100000\n",
    "lr = 1e-6\n",
    "for epoch in range(epochs):\n",
    "    y_hat = a_hat*x1 + b_hat*x2 + b_hat\n",
    "    a1_hat -= lr*(2*x1*(y_hat - y)).mean()\n",
    "    a2_hat -= lr*(2*x2*(y_hat - y)).mean()\n",
    "    b_hat -= lr*(2*(y_hat - y)).mean()"
   ]
  },
  {
   "cell_type": "code",
   "execution_count": 18,
   "id": "0fb181c5-14f8-456b-9dfe-304a6f7740f7",
   "metadata": {
    "tags": []
   },
   "outputs": [
    {
     "data": {
      "text/plain": [
       "array([468406.36563803])"
      ]
     },
     "execution_count": 18,
     "metadata": {},
     "output_type": "execute_result"
    }
   ],
   "source": [
    "a1_hat"
   ]
  },
  {
   "cell_type": "code",
   "execution_count": 52,
   "id": "e3f5aedb-947e-40d7-bb77-f7b54e368759",
   "metadata": {
    "tags": []
   },
   "outputs": [],
   "source": [
    "a1 = 10\n",
    "a2 = 20\n",
    "x1 = np.array([1,2,3,4,5])\n",
    "x2 = np.array([4,5,6,7,8])\n",
    "y= a1*x1 + a2*x2"
   ]
  },
  {
   "cell_type": "code",
   "execution_count": 53,
   "id": "97d66b48-c248-4b1f-853f-8d289e7a434e",
   "metadata": {
    "tags": []
   },
   "outputs": [
    {
     "data": {
      "text/plain": [
       "array([ 90, 120, 150, 180, 210])"
      ]
     },
     "execution_count": 53,
     "metadata": {},
     "output_type": "execute_result"
    }
   ],
   "source": [
    "y"
   ]
  },
  {
   "cell_type": "code",
   "execution_count": 54,
   "id": "8abe0dd3-a8fc-45f0-a380-ceb510218501",
   "metadata": {
    "tags": []
   },
   "outputs": [],
   "source": [
    "X = np.c_[x1,x2]"
   ]
  },
  {
   "cell_type": "code",
   "execution_count": 55,
   "id": "fdea92d4-0112-4c72-adbd-b9e92a6c67d3",
   "metadata": {
    "tags": []
   },
   "outputs": [
    {
     "data": {
      "text/plain": [
       "array([[1, 4],\n",
       "       [2, 5],\n",
       "       [3, 6],\n",
       "       [4, 7],\n",
       "       [5, 8]])"
      ]
     },
     "execution_count": 55,
     "metadata": {},
     "output_type": "execute_result"
    }
   ],
   "source": [
    "X"
   ]
  },
  {
   "cell_type": "code",
   "execution_count": 56,
   "id": "3f57409f-bd4d-4b63-96ce-37e0ba626616",
   "metadata": {
    "tags": []
   },
   "outputs": [],
   "source": [
    "a1 = 10\n",
    "a2 = 20\n",
    "a3 = 15\n",
    "x1 = np.array([1,2,3,4,5])\n",
    "x2 = np.array([4,5,6,4,8])\n",
    "x3 = np.array([1,2,3,4,5])\n",
    "y = a1*x1 + a2*x2 + a3*x3"
   ]
  },
  {
   "cell_type": "code",
   "execution_count": 57,
   "id": "3273c970-d39e-4868-a1c2-ada1a786606a",
   "metadata": {
    "tags": []
   },
   "outputs": [
    {
     "data": {
      "text/plain": [
       "array([105, 150, 195, 180, 285])"
      ]
     },
     "execution_count": 57,
     "metadata": {},
     "output_type": "execute_result"
    }
   ],
   "source": [
    "y"
   ]
  },
  {
   "cell_type": "code",
   "execution_count": 58,
   "id": "05f300d9-173c-4ad3-bebe-5120e70809fb",
   "metadata": {
    "tags": []
   },
   "outputs": [],
   "source": [
    "# X = np.c_[x1,x2,x3]\n",
    "# a = np.array\n",
    "# # 어디갔니"
   ]
  },
  {
   "cell_type": "code",
   "execution_count": 59,
   "id": "80f444cf-dc7a-4d17-b1b1-022ca8b6631c",
   "metadata": {
    "tags": []
   },
   "outputs": [],
   "source": [
    "x1 = np.random.randn(100)\n",
    "x2 = np.random.randn(100)\n",
    "X = np.c_[x1,x2]"
   ]
  },
  {
   "cell_type": "code",
   "execution_count": 60,
   "id": "e0854fc9-fbfd-48a0-bba1-9a87844d61c7",
   "metadata": {
    "tags": []
   },
   "outputs": [],
   "source": [
    "real_a = np.random.randn(2,1)"
   ]
  },
  {
   "cell_type": "code",
   "execution_count": 61,
   "id": "43a80e4f-f248-463e-a1c1-5525e1bb15ee",
   "metadata": {
    "tags": []
   },
   "outputs": [],
   "source": [
    "y = np.dot(X,real_a)"
   ]
  },
  {
   "cell_type": "code",
   "execution_count": 62,
   "id": "b3d71a47-6a98-48d3-a15c-01f3e522bec4",
   "metadata": {
    "tags": []
   },
   "outputs": [],
   "source": [
    "a_hat = np.random.randn(2,1)\n",
    "b_hat = 0\n",
    "epochs = 100000\n",
    "lr = 1e-6\n",
    "for epoch in range(epochs):\n",
    "    y_hat = np.dot(X,a_hat)\n",
    "    a_hat -= lr*(2*np.dot(X.T,(y_hat - y)))\n",
    "    b_hat -= lr*(2*(y_hat - y)).mean()"
   ]
  },
  {
   "cell_type": "code",
   "execution_count": 63,
   "id": "0ed13148-70bb-47c3-ba08-8783842e1dea",
   "metadata": {
    "tags": []
   },
   "outputs": [
    {
     "data": {
      "text/plain": [
       "array([[0.92515305],\n",
       "       [0.16333086]])"
      ]
     },
     "execution_count": 63,
     "metadata": {},
     "output_type": "execute_result"
    }
   ],
   "source": [
    "a_hat"
   ]
  },
  {
   "cell_type": "code",
   "execution_count": 64,
   "id": "0425a178-18c6-44b6-ab21-30718d830d76",
   "metadata": {
    "tags": []
   },
   "outputs": [
    {
     "data": {
      "text/plain": [
       "-0.00032680580486269873"
      ]
     },
     "execution_count": 64,
     "metadata": {},
     "output_type": "execute_result"
    }
   ],
   "source": [
    "b_hat"
   ]
  },
  {
   "cell_type": "code",
   "execution_count": 65,
   "id": "bef65ccc-19da-4d18-9730-619c08c19642",
   "metadata": {
    "tags": []
   },
   "outputs": [
    {
     "data": {
      "text/plain": [
       "array([[ 1.02321773],\n",
       "       [-1.27777103],\n",
       "       [-1.11887005],\n",
       "       [-1.02670185],\n",
       "       [ 0.03421488],\n",
       "       [-0.81775984],\n",
       "       [-0.56983519],\n",
       "       [-0.33257524],\n",
       "       [-0.32388669],\n",
       "       [ 0.85718803],\n",
       "       [-0.84263377],\n",
       "       [ 0.27452314],\n",
       "       [-1.39164952],\n",
       "       [ 0.16833672],\n",
       "       [-0.88502129],\n",
       "       [ 1.84659257],\n",
       "       [ 0.08761353],\n",
       "       [-1.26111939],\n",
       "       [-0.55020753],\n",
       "       [-1.61976664],\n",
       "       [ 0.38596864],\n",
       "       [-0.02217688],\n",
       "       [-0.17959672],\n",
       "       [-0.32827808],\n",
       "       [ 0.34874523],\n",
       "       [ 1.09762879],\n",
       "       [ 0.86431851],\n",
       "       [ 2.20140175],\n",
       "       [ 0.38988206],\n",
       "       [-0.42383708],\n",
       "       [-0.28554629],\n",
       "       [ 0.48744285],\n",
       "       [ 1.63711783],\n",
       "       [ 0.29450034],\n",
       "       [-0.73531347],\n",
       "       [ 1.13891746],\n",
       "       [-0.17168998],\n",
       "       [-0.60315953],\n",
       "       [-0.49898176],\n",
       "       [-0.35283464],\n",
       "       [-0.4712976 ],\n",
       "       [ 0.80846218],\n",
       "       [-0.11867466],\n",
       "       [-1.47217106],\n",
       "       [ 0.41236749],\n",
       "       [ 0.84176816],\n",
       "       [ 0.07275675],\n",
       "       [ 0.37814759],\n",
       "       [ 0.05201913],\n",
       "       [ 0.57001871],\n",
       "       [-0.23334534],\n",
       "       [ 0.48878743],\n",
       "       [-0.46468603],\n",
       "       [-0.59247909],\n",
       "       [-0.48387115],\n",
       "       [-0.37204459],\n",
       "       [ 0.59416605],\n",
       "       [-0.21709984],\n",
       "       [-1.48159815],\n",
       "       [ 1.5495451 ],\n",
       "       [ 0.44033047],\n",
       "       [ 1.73767794],\n",
       "       [ 0.33536093],\n",
       "       [-0.72576955],\n",
       "       [-1.29113576],\n",
       "       [ 0.59925927],\n",
       "       [-1.86883831],\n",
       "       [-0.30535395],\n",
       "       [-1.86670037],\n",
       "       [ 0.76841208],\n",
       "       [-0.24080118],\n",
       "       [ 0.42439194],\n",
       "       [-0.66655412],\n",
       "       [-0.35216221],\n",
       "       [-0.08878728],\n",
       "       [-0.82738334],\n",
       "       [ 0.84845012],\n",
       "       [ 0.98102345],\n",
       "       [-0.86815244],\n",
       "       [ 1.46283495],\n",
       "       [ 0.86476807],\n",
       "       [-0.22808768],\n",
       "       [ 0.69119617],\n",
       "       [ 0.18674428],\n",
       "       [ 0.51597813],\n",
       "       [-0.79769605],\n",
       "       [-0.31813848],\n",
       "       [ 0.46440547],\n",
       "       [ 0.44264775],\n",
       "       [ 0.12417845],\n",
       "       [-1.1125398 ],\n",
       "       [ 0.00234005],\n",
       "       [-1.08299579],\n",
       "       [-1.08723419],\n",
       "       [-0.39288923],\n",
       "       [-0.9507095 ],\n",
       "       [ 0.14260318],\n",
       "       [-0.372089  ],\n",
       "       [-1.10733405],\n",
       "       [-0.61738987]])"
      ]
     },
     "execution_count": 65,
     "metadata": {},
     "output_type": "execute_result"
    }
   ],
   "source": [
    "y_hat"
   ]
  },
  {
   "cell_type": "code",
   "execution_count": null,
   "id": "acf891f1-fa60-4f19-a6ec-921d65b26269",
   "metadata": {},
   "outputs": [],
   "source": []
  },
  {
   "cell_type": "code",
   "execution_count": 66,
   "id": "c79b4ecc-63a5-478e-9875-940a96c03228",
   "metadata": {
    "tags": []
   },
   "outputs": [],
   "source": [
    "X =np.random.randn(100,2)\n",
    "err = np.random.randn(100,1)"
   ]
  },
  {
   "cell_type": "code",
   "execution_count": 68,
   "id": "93ded033-74b9-4d6d-98f5-248595f008d0",
   "metadata": {
    "tags": []
   },
   "outputs": [
    {
     "data": {
      "text/plain": [
       "array([[ 5.89353729],\n",
       "       [-9.29206846]])"
      ]
     },
     "execution_count": 68,
     "metadata": {},
     "output_type": "execute_result"
    }
   ],
   "source": [
    "np.dot(X.T,err)"
   ]
  },
  {
   "cell_type": "code",
   "execution_count": 71,
   "id": "6cbe2308-9c05-407f-92c1-aecd5452b9af",
   "metadata": {
    "tags": []
   },
   "outputs": [],
   "source": [
    "from sklearn.tree import DecisionTreeClassifier\n",
    "from sklearn.svm import SVC\n",
    "from sklearn.model_selection import train_test_split\n",
    "from sklearn.datasets import load_wine"
   ]
  },
  {
   "cell_type": "code",
   "execution_count": 72,
   "id": "0c118574-0e56-4c80-9971-f21d3d4f78a4",
   "metadata": {
    "tags": []
   },
   "outputs": [],
   "source": [
    "X = load_wine().data\n",
    "y = load_wine().target"
   ]
  },
  {
   "cell_type": "code",
   "execution_count": 74,
   "id": "102c9b51-dfb5-4c15-b178-4a4d9b403996",
   "metadata": {
    "tags": []
   },
   "outputs": [],
   "source": [
    "tree_clf = DecisionTreeClassifier()\n",
    "svc_clf = SVC()"
   ]
  },
  {
   "cell_type": "code",
   "execution_count": 75,
   "id": "fbda46a3-21fd-445b-9b55-591e606085b2",
   "metadata": {
    "tags": []
   },
   "outputs": [],
   "source": [
    "X_train, X_test, y_train, y_test = train_test_split(X,y,test_size=0.2)"
   ]
  },
  {
   "cell_type": "code",
   "execution_count": 76,
   "id": "316e57fe-35c7-4bf6-a5a6-298cd81138da",
   "metadata": {
    "tags": []
   },
   "outputs": [
    {
     "data": {
      "text/plain": [
       "0.6901408450704225"
      ]
     },
     "execution_count": 76,
     "metadata": {},
     "output_type": "execute_result"
    }
   ],
   "source": [
    "svc_clf.fit(X_train,y_train)\n",
    "svc_clf.score(X_train,y_train)"
   ]
  },
  {
   "cell_type": "code",
   "execution_count": 78,
   "id": "0b0f840c-2d76-45e7-9a98-1d7d4efa65f7",
   "metadata": {
    "tags": []
   },
   "outputs": [],
   "source": [
    "from sklearn.linear_model import LinearRegression"
   ]
  },
  {
   "cell_type": "code",
   "execution_count": 79,
   "id": "1fd59b1b-c3ed-464a-bbf7-4933501dd3f1",
   "metadata": {
    "tags": []
   },
   "outputs": [],
   "source": [
    "import sklearn.datasets"
   ]
  },
  {
   "cell_type": "code",
   "execution_count": 80,
   "id": "2d40ab9e-b3d5-4652-860a-bb91a898fb43",
   "metadata": {
    "tags": []
   },
   "outputs": [
    {
     "name": "stderr",
     "output_type": "stream",
     "text": [
      "C:\\Users\\bjlov\\anaconda3\\lib\\site-packages\\sklearn\\utils\\deprecation.py:87: FutureWarning: Function load_boston is deprecated; `load_boston` is deprecated in 1.0 and will be removed in 1.2.\n",
      "\n",
      "    The Boston housing prices dataset has an ethical problem. You can refer to\n",
      "    the documentation of this function for further details.\n",
      "\n",
      "    The scikit-learn maintainers therefore strongly discourage the use of this\n",
      "    dataset unless the purpose of the code is to study and educate about\n",
      "    ethical issues in data science and machine learning.\n",
      "\n",
      "    In this special case, you can fetch the dataset from the original\n",
      "    source::\n",
      "\n",
      "        import pandas as pd\n",
      "        import numpy as np\n",
      "\n",
      "\n",
      "        data_url = \"http://lib.stat.cmu.edu/datasets/boston\"\n",
      "        raw_df = pd.read_csv(data_url, sep=\"\\s+\", skiprows=22, header=None)\n",
      "        data = np.hstack([raw_df.values[::2, :], raw_df.values[1::2, :2]])\n",
      "        target = raw_df.values[1::2, 2]\n",
      "\n",
      "    Alternative datasets include the California housing dataset (i.e.\n",
      "    :func:`~sklearn.datasets.fetch_california_housing`) and the Ames housing\n",
      "    dataset. You can load the datasets as follows::\n",
      "\n",
      "        from sklearn.datasets import fetch_california_housing\n",
      "        housing = fetch_california_housing()\n",
      "\n",
      "    for the California housing dataset and::\n",
      "\n",
      "        from sklearn.datasets import fetch_openml\n",
      "        housing = fetch_openml(name=\"house_prices\", as_frame=True)\n",
      "\n",
      "    for the Ames housing dataset.\n",
      "    \n",
      "  warnings.warn(msg, category=FutureWarning)\n"
     ]
    }
   ],
   "source": [
    "X = sklearn.datasets.load_boston().data\n",
    "y = sklearn.datasets.load_boston().target"
   ]
  },
  {
   "cell_type": "code",
   "execution_count": 81,
   "id": "46118b85-6ac3-409a-a92d-e73e21794140",
   "metadata": {
    "tags": []
   },
   "outputs": [
    {
     "ename": "SyntaxError",
     "evalue": "invalid syntax (76877524.py, line 2)",
     "output_type": "error",
     "traceback": [
      "\u001b[1;36m  File \u001b[1;32m\"C:\\Users\\bjlov\\AppData\\Local\\Temp\\ipykernel_15464\\76877524.py\"\u001b[1;36m, line \u001b[1;32m2\u001b[0m\n\u001b[1;33m    X_train,X_test,y_train,y_test =\u001b[0m\n\u001b[1;37m                                    ^\u001b[0m\n\u001b[1;31mSyntaxError\u001b[0m\u001b[1;31m:\u001b[0m invalid syntax\n"
     ]
    }
   ],
   "source": [
    "Ir_model = LinearRegression()\n",
    "X_train,X_test,y_train,y_test = \n",
    "Ir_model.score(X_test,y_test)"
   ]
  },
  {
   "cell_type": "code",
   "execution_count": 82,
   "id": "641d5698-a0ca-43d4-af2c-b2c53a401a3b",
   "metadata": {
    "tags": []
   },
   "outputs": [
    {
     "ename": "SyntaxError",
     "evalue": "invalid syntax (2297410541.py, line 2)",
     "output_type": "error",
     "traceback": [
      "\u001b[1;36m  File \u001b[1;32m\"C:\\Users\\bjlov\\AppData\\Local\\Temp\\ipykernel_15464\\2297410541.py\"\u001b[1;36m, line \u001b[1;32m2\u001b[0m\n\u001b[1;33m    Ir_model =\u001b[0m\n\u001b[1;37m              ^\u001b[0m\n\u001b[1;31mSyntaxError\u001b[0m\u001b[1;31m:\u001b[0m invalid syntax\n"
     ]
    }
   ],
   "source": [
    "Ir_model = LinearRegression\n",
    "Ir_model =\n",
    "Ir_mode.score(X,y)"
   ]
  },
  {
   "cell_type": "code",
   "execution_count": 83,
   "id": "2ea6b516-06ee-4f21-abdb-6304cfa6ca15",
   "metadata": {
    "tags": []
   },
   "outputs": [],
   "source": [
    "from sklearn.datasets import load_wine"
   ]
  },
  {
   "cell_type": "code",
   "execution_count": 84,
   "id": "2c61a4f2-64f6-4874-b17e-36a3160795c7",
   "metadata": {
    "tags": []
   },
   "outputs": [],
   "source": [
    "X = load_wine().data"
   ]
  },
  {
   "cell_type": "code",
   "execution_count": 87,
   "id": "c047de9b-30ec-4864-a4f6-907d2fe3bde2",
   "metadata": {
    "tags": []
   },
   "outputs": [],
   "source": [
    "from sklearn.cluster import KMeans"
   ]
  },
  {
   "cell_type": "code",
   "execution_count": 89,
   "id": "abc34191-4d32-487c-a699-124f2463d679",
   "metadata": {
    "tags": []
   },
   "outputs": [],
   "source": [
    "km =KMeans(3)"
   ]
  },
  {
   "cell_type": "code",
   "execution_count": 92,
   "id": "e5568ee8-3e49-45b8-bf24-f7538db9d0d9",
   "metadata": {
    "tags": []
   },
   "outputs": [
    {
     "data": {
      "text/plain": [
       "KMeans(n_clusters=3)"
      ]
     },
     "execution_count": 92,
     "metadata": {},
     "output_type": "execute_result"
    }
   ],
   "source": [
    "km.fit(X)"
   ]
  },
  {
   "cell_type": "code",
   "execution_count": 94,
   "id": "a4030425-fb4b-4989-9d9c-729aee83a7ae",
   "metadata": {
    "tags": []
   },
   "outputs": [],
   "source": [
    "old = np.array([50,48,24,25,25,26,30]).reshape(-1,1)"
   ]
  },
  {
   "cell_type": "code",
   "execution_count": 96,
   "id": "2c701a52-fc4e-4dd5-a00f-e3ea993d7619",
   "metadata": {
    "tags": []
   },
   "outputs": [
    {
     "data": {
      "text/plain": [
       "KMeans(n_clusters=2)"
      ]
     },
     "execution_count": 96,
     "metadata": {},
     "output_type": "execute_result"
    }
   ],
   "source": [
    "km = KMeans(2)\n",
    "km.fit(old)"
   ]
  },
  {
   "cell_type": "code",
   "execution_count": null,
   "id": "fb8d9a2a-9556-44ba-8965-191fec4e5de4",
   "metadata": {
    "tags": []
   },
   "outputs": [],
   "source": [
    "km.labels_"
   ]
  },
  {
   "cell_type": "code",
   "execution_count": null,
   "id": "cf1a95d8-c123-435e-8efd-4145162aa5da",
   "metadata": {},
   "outputs": [],
   "source": []
  },
  {
   "cell_type": "code",
   "execution_count": null,
   "id": "db453d0b-04b6-4d66-a0c1-343ec77e2511",
   "metadata": {},
   "outputs": [],
   "source": []
  },
  {
   "cell_type": "code",
   "execution_count": null,
   "id": "c2e6f284-568b-4305-94b8-649c91f2164e",
   "metadata": {},
   "outputs": [],
   "source": []
  },
  {
   "cell_type": "code",
   "execution_count": null,
   "id": "b8885b12-ab6c-43e7-9f65-de6cac395bf9",
   "metadata": {},
   "outputs": [],
   "source": []
  },
  {
   "cell_type": "code",
   "execution_count": null,
   "id": "66e9d95a-3efd-4b95-88fc-6515342016a6",
   "metadata": {},
   "outputs": [],
   "source": []
  },
  {
   "cell_type": "markdown",
   "id": "c4b76d72-8dd8-41b6-977e-f0df6611da34",
   "metadata": {},
   "source": [
    "## 그냥 연습"
   ]
  },
  {
   "cell_type": "code",
   "execution_count": 5,
   "id": "b78fc940-ceb5-489b-bb8b-6f0b90466869",
   "metadata": {},
   "outputs": [
    {
     "name": "stdout",
     "output_type": "stream",
     "text": [
      "1 2 3\n"
     ]
    }
   ],
   "source": [
    "print(1,2,3)"
   ]
  },
  {
   "cell_type": "code",
   "execution_count": 6,
   "id": "b815ef96-551b-4dea-846a-a540ce1cc187",
   "metadata": {
    "tags": []
   },
   "outputs": [
    {
     "name": "stdout",
     "output_type": "stream",
     "text": [
      "1\n",
      "2\n",
      "3\n"
     ]
    }
   ],
   "source": [
    "print('1\\n2\\n3')"
   ]
  },
  {
   "cell_type": "code",
   "execution_count": 13,
   "id": "b09f7fec-53f0-4377-85a9-ee980ca1a9ba",
   "metadata": {
    "tags": []
   },
   "outputs": [
    {
     "name": "stdout",
     "output_type": "stream",
     "text": [
      "16 9:"
     ]
    }
   ],
   "source": [
    "print(16,9,end=':')"
   ]
  },
  {
   "cell_type": "code",
   "execution_count": 14,
   "id": "8e42968f-d633-4f50-ab24-4fd97ebfbbd3",
   "metadata": {
    "tags": []
   },
   "outputs": [
    {
     "ename": "SyntaxError",
     "evalue": "unexpected EOF while parsing (3348469206.py, line 5)",
     "output_type": "error",
     "traceback": [
      "\u001b[1;36m  File \u001b[1;32m\"C:\\Users\\bjlov\\AppData\\Local\\Temp\\ipykernel_15464\\3348469206.py\"\u001b[1;36m, line \u001b[1;32m5\u001b[0m\n\u001b[1;33m    print('Hello', '\\n', 'Python', sep=''\u001b[0m\n\u001b[1;37m                                         ^\u001b[0m\n\u001b[1;31mSyntaxError\u001b[0m\u001b[1;31m:\u001b[0m unexpected EOF while parsing\n"
     ]
    }
   ],
   "source": [
    "print('Hello', 'Python')\n",
    "print('Hello\\nPython')\n",
    "print('Hello', 'Python', end='\\n')\n",
    "print('Hello', 'Python', sep='\\n')\n",
    "print('Hello', '\\n', 'Python', sep=''"
   ]
  },
  {
   "cell_type": "code",
   "execution_count": 15,
   "id": "097e3746-3284-42e1-93db-d25ce6303ec5",
   "metadata": {
    "tags": []
   },
   "outputs": [
    {
     "name": "stdout",
     "output_type": "stream",
     "text": [
      "Hello Python\n"
     ]
    }
   ],
   "source": [
    "print('Hello', 'Python', end='\\n')"
   ]
  },
  {
   "cell_type": "code",
   "execution_count": 26,
   "id": "8d1e47e0-112a-4dc5-9821-83aa447bfe62",
   "metadata": {
    "tags": []
   },
   "outputs": [],
   "source": [
    "import sklearn.datasets"
   ]
  },
  {
   "cell_type": "code",
   "execution_count": 27,
   "id": "ef2e29fe-3856-4aa4-8e58-f695bc0f9774",
   "metadata": {
    "tags": []
   },
   "outputs": [],
   "source": [
    "X = sklearn.datasets.load_wine().data\n",
    "y = sklearn.datasets.load_wine().target"
   ]
  },
  {
   "cell_type": "code",
   "execution_count": 28,
   "id": "10a726a5-b873-42e6-8932-fd04b10c656a",
   "metadata": {
    "tags": []
   },
   "outputs": [
    {
     "data": {
      "text/plain": [
       "(178,)"
      ]
     },
     "execution_count": 28,
     "metadata": {},
     "output_type": "execute_result"
    }
   ],
   "source": [
    "y.shape"
   ]
  },
  {
   "cell_type": "code",
   "execution_count": 29,
   "id": "59065a3a-802e-4bf3-8ebd-1aa759415e65",
   "metadata": {
    "tags": []
   },
   "outputs": [],
   "source": [
    "from sklearn.tree import DecisionTreeClassifier"
   ]
  },
  {
   "cell_type": "code",
   "execution_count": 30,
   "id": "9a883c9d-0d2e-4298-9bd7-833e5d77b2bd",
   "metadata": {
    "tags": []
   },
   "outputs": [],
   "source": [
    "tree_clf = DecisionTreeClassifier()"
   ]
  },
  {
   "cell_type": "code",
   "execution_count": 31,
   "id": "1a320e2a-729e-4c0f-8211-c8e890ee236e",
   "metadata": {
    "tags": []
   },
   "outputs": [
    {
     "ename": "AttributeError",
     "evalue": "'numpy.ndarray' object has no attribute 'y'",
     "output_type": "error",
     "traceback": [
      "\u001b[1;31m---------------------------------------------------------------------------\u001b[0m",
      "\u001b[1;31mAttributeError\u001b[0m                            Traceback (most recent call last)",
      "\u001b[1;32m~\\AppData\\Local\\Temp\\ipykernel_15464\\3669359320.py\u001b[0m in \u001b[0;36m<module>\u001b[1;34m\u001b[0m\n\u001b[1;32m----> 1\u001b[1;33m \u001b[0mtree_clf\u001b[0m\u001b[1;33m.\u001b[0m\u001b[0mfit\u001b[0m\u001b[1;33m(\u001b[0m\u001b[0mX\u001b[0m\u001b[1;33m.\u001b[0m\u001b[0my\u001b[0m\u001b[1;33m)\u001b[0m\u001b[1;33m\u001b[0m\u001b[1;33m\u001b[0m\u001b[0m\n\u001b[0m",
      "\u001b[1;31mAttributeError\u001b[0m: 'numpy.ndarray' object has no attribute 'y'"
     ]
    }
   ],
   "source": [
    "tree_clf.fit(X.y)"
   ]
  },
  {
   "cell_type": "code",
   "execution_count": 52,
   "id": "1cd30a58-4328-4894-bc51-ba8ff8311439",
   "metadata": {},
   "outputs": [],
   "source": [
    "##모듈임포트\n",
    "import numpy as np\n",
    "import pandas as pd\n",
    "import matplotlib.pyplot as plt\n",
    "import seaborn as sns\n",
    "\n",
    "from sklearn.model_selection import train_test_split\n",
    "from sklearn.linear_model import LinearRegression\n",
    "from sklearn.tree import DecisionTreeClassifier\n",
    "import sklearn.metrics\n",
    "from sklearn.preprocessing import MinMaxScaler"
   ]
  },
  {
   "cell_type": "code",
   "execution_count": 53,
   "id": "73414b52-df38-4d27-8895-f686af4514cc",
   "metadata": {
    "tags": []
   },
   "outputs": [],
   "source": [
    "# 데이터 셋\n",
    "from sklearn.datasets import load_iris\n",
    "## 데이터 셋 불러오기\n",
    "X = load_iris().data ##numpy \n",
    "y = load_iris().target ##numpy\n",
    "## EDA\n",
    "#\n",
    "## train test set 분리\n",
    "X_train, X_test, y_train, y_test = train_test_split(X,y,test_size=.2)"
   ]
  },
  {
   "cell_type": "code",
   "execution_count": 7,
   "id": "359b85c7-525b-4879-bc4e-cdca4425d83e",
   "metadata": {
    "tags": []
   },
   "outputs": [],
   "source": [
    "## 모델설정\n",
    "data_split = train_test_split\n",
    "tree_clf = DecisionTreeClassifier()"
   ]
  },
  {
   "cell_type": "code",
   "execution_count": 8,
   "id": "25ad0083-db86-4556-8212-f2067d911ebd",
   "metadata": {
    "tags": []
   },
   "outputs": [
    {
     "data": {
      "text/plain": [
       "DecisionTreeClassifier()"
      ]
     },
     "execution_count": 55,
     "metadata": {},
     "output_type": "execute_result"
    }
   ],
   "source": [
    "# 모델학습\n",
    "tree_clf.fit(X_train, y_train)"
   ]
  },
  {
   "cell_type": "code",
   "execution_count": 12,
   "id": "5075b7a4-9c5a-4aac-b2dd-98bc7ba29b99",
   "metadata": {
    "tags": []
   },
   "outputs": [],
   "source": [
    "#모델평가\n",
    "# test 데이터 사용\n",
    "#스코어 내는 절차\n",
    "pred_result = tree_clf.predict(X_test)\n",
    "np.sum(pred_result ==y_test)/y_test.size\n",
    "#모델 메소드를 사용해서 score \n",
    "tree_clf.score(X_test,y_test)\n",
    "# sklearn 제공하는 score 함수를 사용 스코어 계산\n",
    "accuracy_score = (tree_clf.predict(X_test),y_test) "
   ]
  },
  {
   "cell_type": "code",
   "execution_count": 13,
   "id": "ada2253e-7a8e-49ea-917b-304a61d33d1c",
   "metadata": {
    "tags": []
   },
   "outputs": [
    {
     "ename": "ValueError",
     "evalue": "X has 8 features, but DecisionTreeClassifier is expecting 4 features as input.",
     "output_type": "error",
     "traceback": [
      "\u001b[1;31m---------------------------------------------------------------------------\u001b[0m",
      "\u001b[1;31mValueError\u001b[0m                                Traceback (most recent call last)",
      "\u001b[1;32m~\\AppData\\Local\\Temp\\ipykernel_15400\\3549541691.py\u001b[0m in \u001b[0;36m<module>\u001b[1;34m\u001b[0m\n\u001b[0;32m      1\u001b[0m \u001b[0mnew_data\u001b[0m \u001b[1;33m=\u001b[0m \u001b[0mnp\u001b[0m\u001b[1;33m.\u001b[0m\u001b[0marray\u001b[0m\u001b[1;33m(\u001b[0m\u001b[1;33m[\u001b[0m\u001b[1;36m6\u001b[0m\u001b[1;33m,\u001b[0m\u001b[1;36m2\u001b[0m\u001b[1;33m,\u001b[0m\u001b[1;36m2\u001b[0m\u001b[1;33m,\u001b[0m\u001b[1;36m7\u001b[0m\u001b[1;33m,\u001b[0m\u001b[1;36m3\u001b[0m\u001b[1;33m,\u001b[0m\u001b[1;36m2\u001b[0m\u001b[1;33m,\u001b[0m\u001b[1;36m0\u001b[0m\u001b[1;33m,\u001b[0m\u001b[1;36m7\u001b[0m\u001b[1;33m]\u001b[0m\u001b[1;33m)\u001b[0m\u001b[1;33m.\u001b[0m\u001b[0mreshape\u001b[0m\u001b[1;33m(\u001b[0m\u001b[1;36m1\u001b[0m\u001b[1;33m,\u001b[0m\u001b[1;33m-\u001b[0m\u001b[1;36m1\u001b[0m\u001b[1;33m)\u001b[0m\u001b[1;33m\u001b[0m\u001b[1;33m\u001b[0m\u001b[0m\n\u001b[1;32m----> 2\u001b[1;33m \u001b[0mtree_clf\u001b[0m\u001b[1;33m.\u001b[0m\u001b[0mpredict\u001b[0m\u001b[1;33m(\u001b[0m\u001b[0mnew_data\u001b[0m\u001b[1;33m)\u001b[0m\u001b[1;33m\u001b[0m\u001b[1;33m\u001b[0m\u001b[0m\n\u001b[0m",
      "\u001b[1;32m~\\anaconda3\\lib\\site-packages\\sklearn\\tree\\_classes.py\u001b[0m in \u001b[0;36mpredict\u001b[1;34m(self, X, check_input)\u001b[0m\n\u001b[0;32m    465\u001b[0m         \"\"\"\n\u001b[0;32m    466\u001b[0m         \u001b[0mcheck_is_fitted\u001b[0m\u001b[1;33m(\u001b[0m\u001b[0mself\u001b[0m\u001b[1;33m)\u001b[0m\u001b[1;33m\u001b[0m\u001b[1;33m\u001b[0m\u001b[0m\n\u001b[1;32m--> 467\u001b[1;33m         \u001b[0mX\u001b[0m \u001b[1;33m=\u001b[0m \u001b[0mself\u001b[0m\u001b[1;33m.\u001b[0m\u001b[0m_validate_X_predict\u001b[0m\u001b[1;33m(\u001b[0m\u001b[0mX\u001b[0m\u001b[1;33m,\u001b[0m \u001b[0mcheck_input\u001b[0m\u001b[1;33m)\u001b[0m\u001b[1;33m\u001b[0m\u001b[1;33m\u001b[0m\u001b[0m\n\u001b[0m\u001b[0;32m    468\u001b[0m         \u001b[0mproba\u001b[0m \u001b[1;33m=\u001b[0m \u001b[0mself\u001b[0m\u001b[1;33m.\u001b[0m\u001b[0mtree_\u001b[0m\u001b[1;33m.\u001b[0m\u001b[0mpredict\u001b[0m\u001b[1;33m(\u001b[0m\u001b[0mX\u001b[0m\u001b[1;33m)\u001b[0m\u001b[1;33m\u001b[0m\u001b[1;33m\u001b[0m\u001b[0m\n\u001b[0;32m    469\u001b[0m         \u001b[0mn_samples\u001b[0m \u001b[1;33m=\u001b[0m \u001b[0mX\u001b[0m\u001b[1;33m.\u001b[0m\u001b[0mshape\u001b[0m\u001b[1;33m[\u001b[0m\u001b[1;36m0\u001b[0m\u001b[1;33m]\u001b[0m\u001b[1;33m\u001b[0m\u001b[1;33m\u001b[0m\u001b[0m\n",
      "\u001b[1;32m~\\anaconda3\\lib\\site-packages\\sklearn\\tree\\_classes.py\u001b[0m in \u001b[0;36m_validate_X_predict\u001b[1;34m(self, X, check_input)\u001b[0m\n\u001b[0;32m    431\u001b[0m         \u001b[1;34m\"\"\"Validate the training data on predict (probabilities).\"\"\"\u001b[0m\u001b[1;33m\u001b[0m\u001b[1;33m\u001b[0m\u001b[0m\n\u001b[0;32m    432\u001b[0m         \u001b[1;32mif\u001b[0m \u001b[0mcheck_input\u001b[0m\u001b[1;33m:\u001b[0m\u001b[1;33m\u001b[0m\u001b[1;33m\u001b[0m\u001b[0m\n\u001b[1;32m--> 433\u001b[1;33m             \u001b[0mX\u001b[0m \u001b[1;33m=\u001b[0m \u001b[0mself\u001b[0m\u001b[1;33m.\u001b[0m\u001b[0m_validate_data\u001b[0m\u001b[1;33m(\u001b[0m\u001b[0mX\u001b[0m\u001b[1;33m,\u001b[0m \u001b[0mdtype\u001b[0m\u001b[1;33m=\u001b[0m\u001b[0mDTYPE\u001b[0m\u001b[1;33m,\u001b[0m \u001b[0maccept_sparse\u001b[0m\u001b[1;33m=\u001b[0m\u001b[1;34m\"csr\"\u001b[0m\u001b[1;33m,\u001b[0m \u001b[0mreset\u001b[0m\u001b[1;33m=\u001b[0m\u001b[1;32mFalse\u001b[0m\u001b[1;33m)\u001b[0m\u001b[1;33m\u001b[0m\u001b[1;33m\u001b[0m\u001b[0m\n\u001b[0m\u001b[0;32m    434\u001b[0m             if issparse(X) and (\n\u001b[0;32m    435\u001b[0m                 \u001b[0mX\u001b[0m\u001b[1;33m.\u001b[0m\u001b[0mindices\u001b[0m\u001b[1;33m.\u001b[0m\u001b[0mdtype\u001b[0m \u001b[1;33m!=\u001b[0m \u001b[0mnp\u001b[0m\u001b[1;33m.\u001b[0m\u001b[0mintc\u001b[0m \u001b[1;32mor\u001b[0m \u001b[0mX\u001b[0m\u001b[1;33m.\u001b[0m\u001b[0mindptr\u001b[0m\u001b[1;33m.\u001b[0m\u001b[0mdtype\u001b[0m \u001b[1;33m!=\u001b[0m \u001b[0mnp\u001b[0m\u001b[1;33m.\u001b[0m\u001b[0mintc\u001b[0m\u001b[1;33m\u001b[0m\u001b[1;33m\u001b[0m\u001b[0m\n",
      "\u001b[1;32m~\\anaconda3\\lib\\site-packages\\sklearn\\base.py\u001b[0m in \u001b[0;36m_validate_data\u001b[1;34m(self, X, y, reset, validate_separately, **check_params)\u001b[0m\n\u001b[0;32m    583\u001b[0m \u001b[1;33m\u001b[0m\u001b[0m\n\u001b[0;32m    584\u001b[0m         \u001b[1;32mif\u001b[0m \u001b[1;32mnot\u001b[0m \u001b[0mno_val_X\u001b[0m \u001b[1;32mand\u001b[0m \u001b[0mcheck_params\u001b[0m\u001b[1;33m.\u001b[0m\u001b[0mget\u001b[0m\u001b[1;33m(\u001b[0m\u001b[1;34m\"ensure_2d\"\u001b[0m\u001b[1;33m,\u001b[0m \u001b[1;32mTrue\u001b[0m\u001b[1;33m)\u001b[0m\u001b[1;33m:\u001b[0m\u001b[1;33m\u001b[0m\u001b[1;33m\u001b[0m\u001b[0m\n\u001b[1;32m--> 585\u001b[1;33m             \u001b[0mself\u001b[0m\u001b[1;33m.\u001b[0m\u001b[0m_check_n_features\u001b[0m\u001b[1;33m(\u001b[0m\u001b[0mX\u001b[0m\u001b[1;33m,\u001b[0m \u001b[0mreset\u001b[0m\u001b[1;33m=\u001b[0m\u001b[0mreset\u001b[0m\u001b[1;33m)\u001b[0m\u001b[1;33m\u001b[0m\u001b[1;33m\u001b[0m\u001b[0m\n\u001b[0m\u001b[0;32m    586\u001b[0m \u001b[1;33m\u001b[0m\u001b[0m\n\u001b[0;32m    587\u001b[0m         \u001b[1;32mreturn\u001b[0m \u001b[0mout\u001b[0m\u001b[1;33m\u001b[0m\u001b[1;33m\u001b[0m\u001b[0m\n",
      "\u001b[1;32m~\\anaconda3\\lib\\site-packages\\sklearn\\base.py\u001b[0m in \u001b[0;36m_check_n_features\u001b[1;34m(self, X, reset)\u001b[0m\n\u001b[0;32m    398\u001b[0m \u001b[1;33m\u001b[0m\u001b[0m\n\u001b[0;32m    399\u001b[0m         \u001b[1;32mif\u001b[0m \u001b[0mn_features\u001b[0m \u001b[1;33m!=\u001b[0m \u001b[0mself\u001b[0m\u001b[1;33m.\u001b[0m\u001b[0mn_features_in_\u001b[0m\u001b[1;33m:\u001b[0m\u001b[1;33m\u001b[0m\u001b[1;33m\u001b[0m\u001b[0m\n\u001b[1;32m--> 400\u001b[1;33m             raise ValueError(\n\u001b[0m\u001b[0;32m    401\u001b[0m                 \u001b[1;34mf\"X has {n_features} features, but {self.__class__.__name__} \"\u001b[0m\u001b[1;33m\u001b[0m\u001b[1;33m\u001b[0m\u001b[0m\n\u001b[0;32m    402\u001b[0m                 \u001b[1;34mf\"is expecting {self.n_features_in_} features as input.\"\u001b[0m\u001b[1;33m\u001b[0m\u001b[1;33m\u001b[0m\u001b[0m\n",
      "\u001b[1;31mValueError\u001b[0m: X has 8 features, but DecisionTreeClassifier is expecting 4 features as input."
     ]
    }
   ],
   "source": [
    "new_data = np.array([6,2,2,7,3,2,0,7]).reshape(1,-1)\n",
    "tree_clf.predict(new_data)"
   ]
  },
  {
   "cell_type": "code",
   "execution_count": 14,
   "id": "8defd269-53e2-4afb-9f49-2f909de28347",
   "metadata": {
    "tags": []
   },
   "outputs": [],
   "source": [
    "from sklearn.tree import plot_tree"
   ]
  },
  {
   "cell_type": "code",
   "execution_count": 15,
   "id": "daac9033-b591-4aa3-a898-7f56f7fb9c04",
   "metadata": {
    "tags": []
   },
   "outputs": [],
   "source": [
    "tree_model = DecisionTreeClassifier(criterion='entropy')"
   ]
  },
  {
   "cell_type": "code",
   "execution_count": 24,
   "id": "dbbdfc5b-3838-4f61-9500-30eefcfb4421",
   "metadata": {
    "tags": []
   },
   "outputs": [
    {
     "ename": "SyntaxError",
     "evalue": "invalid syntax (987687469.py, line 2)",
     "output_type": "error",
     "traceback": [
      "\u001b[1;36m  File \u001b[1;32m\"C:\\Users\\bjlov\\AppData\\Local\\Temp\\ipykernel_15400\\987687469.py\"\u001b[1;36m, line \u001b[1;32m2\u001b[0m\n\u001b[1;33m    'criterion' = 'girl',\u001b[0m\n\u001b[1;37m                ^\u001b[0m\n\u001b[1;31mSyntaxError\u001b[0m\u001b[1;31m:\u001b[0m invalid syntax\n"
     ]
    }
   ],
   "source": [
    "params = {\n",
    "    'criterion' = 'girl',\n",
    "    'mx_depth' = 4,\n",
    "}\n",
    "tree_model = DecisionTreeClassifier(**params)"
   ]
  },
  {
   "cell_type": "markdown",
   "id": "3a10b456-103e-449a-a9c3-abe774b1e9e5",
   "metadata": {},
   "source": [
    "##"
   ]
  },
  {
   "cell_type": "code",
   "execution_count": 18,
   "id": "e30844c6-9610-487d-8605-4755f33bc08e",
   "metadata": {
    "tags": []
   },
   "outputs": [],
   "source": [
    "import sklearn.ensemble"
   ]
  },
  {
   "cell_type": "code",
   "execution_count": 19,
   "id": "a3f161f0-2cc4-46fe-acab-bf7ab063e854",
   "metadata": {
    "tags": []
   },
   "outputs": [],
   "source": [
    "X = np.random.randn(1000,3)\n",
    "y = np.array([1]*999 + [0])"
   ]
  },
  {
   "cell_type": "code",
   "execution_count": 50,
   "id": "e9d6a148-c7bc-458d-8416-6ce9f6e1f83f",
   "metadata": {
    "tags": []
   },
   "outputs": [
    {
     "data": {
      "text/plain": [
       "DecisionTreeClassifier()"
      ]
     },
     "execution_count": 63,
     "metadata": {},
     "output_type": "execute_result"
    }
   ],
   "source": [
    "tree_clf = DecisionTreeClassifier()\n",
    "tree_clf.fit(X,y)"
   ]
  },
  {
   "cell_type": "code",
   "execution_count": 51,
   "id": "447b66b1-bcdd-4ddb-a7de-34786c8ad9dc",
   "metadata": {
    "tags": []
   },
   "outputs": [],
   "source": [
    "linear_model = LinearRegression()"
   ]
  },
  {
   "cell_type": "code",
   "execution_count": 48,
   "id": "8c4f948d-d245-4b2d-8202-ad81b9502d47",
   "metadata": {
    "tags": []
   },
   "outputs": [
    {
     "data": {
      "text/plain": [
       "LinearRegression()"
      ]
     },
     "execution_count": 65,
     "metadata": {},
     "output_type": "execute_result"
    }
   ],
   "source": [
    "linear_model.fit(X,y)"
   ]
  },
  {
   "cell_type": "code",
   "execution_count": 67,
   "id": "97f3f3c4-2ee6-4269-97e2-2c93b1a447c6",
   "metadata": {
    "tags": []
   },
   "outputs": [
    {
     "ename": "TypeError",
     "evalue": "where() takes from 1 to 3 positional arguments but 4 were given",
     "output_type": "error",
     "traceback": [
      "\u001b[1;31m---------------------------------------------------------------------------\u001b[0m",
      "\u001b[1;31mTypeError\u001b[0m                                 Traceback (most recent call last)",
      "\u001b[1;32m~\\AppData\\Local\\Temp\\ipykernel_15400\\1973257542.py\u001b[0m in \u001b[0;36m<module>\u001b[1;34m\u001b[0m\n\u001b[1;32m----> 1\u001b[1;33m \u001b[0maccuracy_score\u001b[0m\u001b[1;33m(\u001b[0m\u001b[0mnp\u001b[0m\u001b[1;33m.\u001b[0m\u001b[0mwhere\u001b[0m\u001b[1;33m(\u001b[0m\u001b[0mlinear_model\u001b[0m\u001b[1;33m.\u001b[0m\u001b[0mpredict\u001b[0m\u001b[1;33m(\u001b[0m\u001b[0mX\u001b[0m\u001b[1;33m)\u001b[0m \u001b[1;33m>\u001b[0m \u001b[1;36m0\u001b[0m\u001b[1;33m,\u001b[0m\u001b[1;36m5\u001b[0m\u001b[1;33m,\u001b[0m\u001b[1;36m1\u001b[0m\u001b[1;33m,\u001b[0m\u001b[1;36m0\u001b[0m\u001b[1;33m)\u001b[0m\u001b[1;33m,\u001b[0m\u001b[0my\u001b[0m\u001b[1;33m)\u001b[0m\u001b[1;33m\u001b[0m\u001b[1;33m\u001b[0m\u001b[0m\n\u001b[0m",
      "\u001b[1;32m<__array_function__ internals>\u001b[0m in \u001b[0;36mwhere\u001b[1;34m(*args, **kwargs)\u001b[0m\n",
      "\u001b[1;31mTypeError\u001b[0m: where() takes from 1 to 3 positional arguments but 4 were given"
     ]
    }
   ],
   "source": [
    "accuracy_score(np.where(linear_model.predict(X) > 0,5,1,0),y)"
   ]
  },
  {
   "cell_type": "code",
   "execution_count": null,
   "id": "853d22a3-98d6-4691-907c-a78eedb81106",
   "metadata": {},
   "outputs": [],
   "source": []
  }
 ],
 "metadata": {
  "kernelspec": {
   "display_name": "yuuni",
   "language": "python",
   "name": "yuuni"
  },
  "language_info": {
   "codemirror_mode": {
    "name": "ipython",
    "version": 3
   },
   "file_extension": ".py",
   "mimetype": "text/x-python",
   "name": "python",
   "nbconvert_exporter": "python",
   "pygments_lexer": "ipython3",
   "version": "3.9.13"
  }
 },
 "nbformat": 4,
 "nbformat_minor": 5
}
