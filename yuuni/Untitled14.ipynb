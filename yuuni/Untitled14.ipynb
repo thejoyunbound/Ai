{
 "cells": [
  {
   "cell_type": "markdown",
   "id": "d3fc4ab3-a003-451c-8b46-52eff05d0fac",
   "metadata": {},
   "source": [
    "# 네이버웹툰크롤링"
   ]
  },
  {
   "cell_type": "code",
   "execution_count": 6,
   "id": "14039cc2-86c6-4e8d-8f99-998161b198e1",
   "metadata": {},
   "outputs": [],
   "source": [
    "import numpy as np\n",
    "import pandas as pd\n",
    "from selenium import webdriver\n",
    "from selenium.webdriver.common.by import By\n",
    "from selenium.webdriver.common.keys import Keys\n",
    "from urllib.request import urlretrieve\n",
    "import time"
   ]
  },
  {
   "cell_type": "code",
   "execution_count": 7,
   "id": "cfcd429f-8b9c-4a22-826f-c6a51afe9f80",
   "metadata": {},
   "outputs": [
    {
     "name": "stderr",
     "output_type": "stream",
     "text": [
      "C:\\Users\\bjlov\\AppData\\Local\\Temp\\ipykernel_12212\\3414340639.py:6: DeprecationWarning: executable_path has been deprecated, please pass in a Service object\n",
      "  driver = webdriver.Chrome(chromedriver_url)\n"
     ]
    }
   ],
   "source": [
    "from selenium import webdriver\n",
    "\n",
    "# 네이버 웹툰 페이지 열기\n",
    "nw_url = 'https://comic.naver.com/webtoon/weekday'\n",
    "chromedriver_url = '다운받은 폴더/chromedriver'\n",
    "driver = webdriver.Chrome(chromedriver_url)\n",
    "driver.get(nw_url)"
   ]
  },
  {
   "cell_type": "code",
   "execution_count": 8,
   "id": "6d7038d3-b220-4925-b75f-ea44e3eb57f1",
   "metadata": {},
   "outputs": [],
   "source": [
    "# 클릭할 수 있는 제목 리스트 가져오기\n",
    "titles = driver.find_elements(By.CLASS_NAME, \"title\")\n"
   ]
  },
  {
   "cell_type": "code",
   "execution_count": null,
   "id": "d2d0f76c-2fd9-40d8-8eee-2cd085ddf318",
   "metadata": {},
   "outputs": [],
   "source": []
  }
 ],
 "metadata": {
  "kernelspec": {
   "display_name": "yuuni",
   "language": "python",
   "name": "yuuni"
  },
  "language_info": {
   "codemirror_mode": {
    "name": "ipython",
    "version": 3
   },
   "file_extension": ".py",
   "mimetype": "text/x-python",
   "name": "python",
   "nbconvert_exporter": "python",
   "pygments_lexer": "ipython3",
   "version": "3.9.13"
  }
 },
 "nbformat": 4,
 "nbformat_minor": 5
}
