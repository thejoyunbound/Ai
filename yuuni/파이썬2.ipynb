{
 "cells": [
  {
   "cell_type": "code",
   "execution_count": 1,
   "id": "1052d4bb-8389-48a0-8f42-a30937c86e61",
   "metadata": {},
   "outputs": [],
   "source": [
    "a = [1,2,3]"
   ]
  },
  {
   "cell_type": "code",
   "execution_count": 2,
   "id": "c3cf5982-0251-48e0-9e92-3a9c557c053e",
   "metadata": {},
   "outputs": [
    {
     "data": {
      "text/plain": [
       "3"
      ]
     },
     "execution_count": 2,
     "metadata": {},
     "output_type": "execute_result"
    }
   ],
   "source": [
    "len(a)"
   ]
  },
  {
   "cell_type": "code",
   "execution_count": 3,
   "id": "c79780bc-cf18-442c-92db-92dfd80ed3e1",
   "metadata": {},
   "outputs": [],
   "source": [
    "len = 27"
   ]
  },
  {
   "cell_type": "code",
   "execution_count": 4,
   "id": "1361557d-b75c-4752-87a5-770871fb36f7",
   "metadata": {},
   "outputs": [
    {
     "ename": "TypeError",
     "evalue": "'int' object is not callable",
     "output_type": "error",
     "traceback": [
      "\u001b[1;31m----------------------------------------------------------------\u001b[0m",
      "\u001b[1;31mTypeError\u001b[0m                      Traceback (most recent call last)",
      "\u001b[1;32m~\\AppData\\Local\\Temp\\ipykernel_8864\\398956367.py\u001b[0m in \u001b[0;36m<module>\u001b[1;34m\u001b[0m\n\u001b[1;32m----> 1\u001b[1;33m \u001b[0mlen\u001b[0m\u001b[1;33m(\u001b[0m\u001b[0ma\u001b[0m\u001b[1;33m)\u001b[0m\u001b[1;33m\u001b[0m\u001b[1;33m\u001b[0m\u001b[0m\n\u001b[0m",
      "\u001b[1;31mTypeError\u001b[0m: 'int' object is not callable"
     ]
    }
   ],
   "source": [
    "len(a)"
   ]
  },
  {
   "cell_type": "code",
   "execution_count": 5,
   "id": "56426660-51c7-410b-a60a-5a306c79810c",
   "metadata": {},
   "outputs": [],
   "source": [
    "del len"
   ]
  },
  {
   "cell_type": "code",
   "execution_count": 6,
   "id": "5f4d2519-482f-4901-870c-0fd66fb5e555",
   "metadata": {},
   "outputs": [
    {
     "data": {
      "text/plain": [
       "3"
      ]
     },
     "execution_count": 6,
     "metadata": {},
     "output_type": "execute_result"
    }
   ],
   "source": [
    "len(a)"
   ]
  },
  {
   "cell_type": "code",
   "execution_count": 10,
   "id": "a231b190-f564-4eb1-b6a0-e2d5db8d5cdb",
   "metadata": {},
   "outputs": [
    {
     "name": "stdout",
     "output_type": "stream",
     "text": [
      "hello\n",
      "hello\n"
     ]
    }
   ],
   "source": [
    "import time\n",
    "time.sleep(10)\n",
    "print('hello')\n",
    "time.sleep(5)\n",
    "print('hello')"
   ]
  },
  {
   "cell_type": "code",
   "execution_count": 11,
   "id": "9f90c78d-537d-47bf-b703-37d8576198ca",
   "metadata": {},
   "outputs": [
    {
     "data": {
      "text/plain": [
       "273"
      ]
     },
     "execution_count": 11,
     "metadata": {},
     "output_type": "execute_result"
    }
   ],
   "source": [
    "273"
   ]
  },
  {
   "cell_type": "code",
   "execution_count": 12,
   "id": "551fcffd-6a32-41d3-85ae-1271898b29f6",
   "metadata": {},
   "outputs": [
    {
     "data": {
      "text/plain": [
       "60"
      ]
     },
     "execution_count": 12,
     "metadata": {},
     "output_type": "execute_result"
    }
   ],
   "source": [
    "10+20+30"
   ]
  },
  {
   "cell_type": "code",
   "execution_count": 14,
   "id": "c182c005-b616-4afb-aae4-343133d5ba79",
   "metadata": {},
   "outputs": [
    {
     "data": {
      "text/plain": [
       "1"
      ]
     },
     "execution_count": 14,
     "metadata": {},
     "output_type": "execute_result"
    }
   ],
   "source": [
    "(10+20 > 30) + (30 < 50)"
   ]
  },
  {
   "cell_type": "code",
   "execution_count": 16,
   "id": "9fc95116-2d4c-4acb-973a-3d01cf094bf1",
   "metadata": {},
   "outputs": [
    {
     "data": {
      "text/plain": [
       "10"
      ]
     },
     "execution_count": 16,
     "metadata": {},
     "output_type": "execute_result"
    }
   ],
   "source": [
    "len(a) + 7"
   ]
  },
  {
   "cell_type": "code",
   "execution_count": 17,
   "id": "099bf0bb-6ad8-46f5-9913-483989e5fa45",
   "metadata": {},
   "outputs": [
    {
     "ename": "TypeError",
     "evalue": "unsupported operand type(s) for +: 'NoneType' and 'int'",
     "output_type": "error",
     "traceback": [
      "\u001b[1;31m----------------------------------------------------------------\u001b[0m",
      "\u001b[1;31mTypeError\u001b[0m                      Traceback (most recent call last)",
      "\u001b[1;32m~\\AppData\\Local\\Temp\\ipykernel_8864\\1556368998.py\u001b[0m in \u001b[0;36m<module>\u001b[1;34m\u001b[0m\n\u001b[1;32m----> 1\u001b[1;33m \u001b[0mtime\u001b[0m\u001b[1;33m.\u001b[0m\u001b[0msleep\u001b[0m\u001b[1;33m(\u001b[0m\u001b[1;36m5\u001b[0m\u001b[1;33m)\u001b[0m \u001b[1;33m+\u001b[0m \u001b[1;36m7\u001b[0m\u001b[1;33m\u001b[0m\u001b[1;33m\u001b[0m\u001b[0m\n\u001b[0m",
      "\u001b[1;31mTypeError\u001b[0m: unsupported operand type(s) for +: 'NoneType' and 'int'"
     ]
    }
   ],
   "source": [
    "time.sleep(5) + 7"
   ]
  },
  {
   "cell_type": "code",
   "execution_count": 19,
   "id": "96cc03a9-6e3f-4ff1-af80-d54fc25741b3",
   "metadata": {},
   "outputs": [
    {
     "name": "stdout",
     "output_type": "stream",
     "text": [
      "10\n"
     ]
    },
    {
     "ename": "TypeError",
     "evalue": "unsupported operand type(s) for +: 'NoneType' and 'int'",
     "output_type": "error",
     "traceback": [
      "\u001b[1;31m----------------------------------------------------------------\u001b[0m",
      "\u001b[1;31mTypeError\u001b[0m                      Traceback (most recent call last)",
      "\u001b[1;32m~\\AppData\\Local\\Temp\\ipykernel_8864\\3951261709.py\u001b[0m in \u001b[0;36m<module>\u001b[1;34m\u001b[0m\n\u001b[1;32m----> 1\u001b[1;33m \u001b[0mprint\u001b[0m\u001b[1;33m(\u001b[0m\u001b[1;36m10\u001b[0m\u001b[1;33m)\u001b[0m \u001b[1;33m+\u001b[0m \u001b[1;36m3\u001b[0m\u001b[1;33m\u001b[0m\u001b[1;33m\u001b[0m\u001b[0m\n\u001b[0m",
      "\u001b[1;31mTypeError\u001b[0m: unsupported operand type(s) for +: 'NoneType' and 'int'"
     ]
    }
   ],
   "source": [
    "print(10) + 3"
   ]
  },
  {
   "cell_type": "code",
   "execution_count": 24,
   "id": "1cee69a1-fd58-4fbe-a5b5-66955601edd5",
   "metadata": {},
   "outputs": [
    {
     "data": {
      "text/plain": [
       "1"
      ]
     },
     "execution_count": 24,
     "metadata": {},
     "output_type": "execute_result"
    }
   ],
   "source": [
    "len([(10+20 > 30) + (30 < 50)])"
   ]
  },
  {
   "cell_type": "code",
   "execution_count": 21,
   "id": "d7159430-c87e-41f3-b1d3-eda4d4d80a3f",
   "metadata": {},
   "outputs": [
    {
     "name": "stdout",
     "output_type": "stream",
     "text": [
      "Python Programing\n"
     ]
    }
   ],
   "source": [
    "print(\"Python Programing\")"
   ]
  },
  {
   "cell_type": "code",
   "execution_count": 25,
   "id": "a90a4d26-41e5-4ef4-bed4-43bbd1f8d501",
   "metadata": {},
   "outputs": [
    {
     "data": {
      "text/plain": [
       "17"
      ]
     },
     "execution_count": 25,
     "metadata": {},
     "output_type": "execute_result"
    }
   ],
   "source": [
    "len(\"Python Programing\")"
   ]
  },
  {
   "cell_type": "code",
   "execution_count": 26,
   "id": "41e9ee27-0802-4f4a-8f42-7e15ddf6d55d",
   "metadata": {},
   "outputs": [
    {
     "data": {
      "text/plain": [
       "7"
      ]
     },
     "execution_count": 26,
     "metadata": {},
     "output_type": "execute_result"
    }
   ],
   "source": [
    "4+3"
   ]
  },
  {
   "cell_type": "code",
   "execution_count": 27,
   "id": "c32fa35d-018d-4bc9-bf10-62fe409c00d8",
   "metadata": {},
   "outputs": [
    {
     "name": "stdout",
     "output_type": "stream",
     "text": [
      "Python Programming\n"
     ]
    }
   ],
   "source": [
    "print(\"Python Programming\")"
   ]
  },
  {
   "cell_type": "code",
   "execution_count": 28,
   "id": "eb83fbb0-d1b9-4605-b33e-753b7309b040",
   "metadata": {},
   "outputs": [
    {
     "data": {
      "text/plain": [
       "['__all__',\n",
       " '__builtins__',\n",
       " '__cached__',\n",
       " '__doc__',\n",
       " '__file__',\n",
       " '__loader__',\n",
       " '__name__',\n",
       " '__package__',\n",
       " '__spec__',\n",
       " 'iskeyword',\n",
       " 'issoftkeyword',\n",
       " 'kwlist',\n",
       " 'softkwlist']"
      ]
     },
     "execution_count": 28,
     "metadata": {},
     "output_type": "execute_result"
    }
   ],
   "source": [
    "import keyword\n",
    "dir(keyword)"
   ]
  },
  {
   "cell_type": "code",
   "execution_count": 37,
   "id": "e03f6d4c-4add-49c7-abf1-819398d65f5c",
   "metadata": {},
   "outputs": [
    {
     "data": {
      "text/plain": [
       "4"
      ]
     },
     "execution_count": 37,
     "metadata": {},
     "output_type": "execute_result"
    }
   ],
   "source": [
    "a = ['and','or','xx','False','True','kwlee']\n",
    "s = 0\n",
    "for i in a:\n",
    "    s += keyword.iskeyword(i)\n",
    "s"
   ]
  },
  {
   "cell_type": "code",
   "execution_count": 38,
   "id": "5255cba5-8e24-4b62-b3ba-b0563f4f4e9c",
   "metadata": {},
   "outputs": [
    {
     "data": {
      "text/plain": [
       "False"
      ]
     },
     "execution_count": 38,
     "metadata": {},
     "output_type": "execute_result"
    }
   ],
   "source": [
    "keyword.iskeyword('list')"
   ]
  },
  {
   "cell_type": "code",
   "execution_count": 44,
   "id": "f9362ea7-1388-4374-9844-2e94d232a2be",
   "metadata": {},
   "outputs": [],
   "source": [
    "a = 9"
   ]
  },
  {
   "cell_type": "code",
   "execution_count": 45,
   "id": "9b6cfa68-bf06-41e0-a711-b44044f6e97f",
   "metadata": {},
   "outputs": [],
   "source": [
    "b = a"
   ]
  },
  {
   "cell_type": "code",
   "execution_count": 46,
   "id": "fce806ef-38db-4494-9711-9a318d5d7618",
   "metadata": {},
   "outputs": [
    {
     "data": {
      "text/plain": [
       "9"
      ]
     },
     "execution_count": 46,
     "metadata": {},
     "output_type": "execute_result"
    }
   ],
   "source": [
    "a"
   ]
  },
  {
   "cell_type": "code",
   "execution_count": 47,
   "id": "1bac2ed4-7d72-4a8e-b4f0-f90978f2b190",
   "metadata": {},
   "outputs": [
    {
     "data": {
      "text/plain": [
       "9"
      ]
     },
     "execution_count": 47,
     "metadata": {},
     "output_type": "execute_result"
    }
   ],
   "source": [
    "b"
   ]
  },
  {
   "cell_type": "code",
   "execution_count": 54,
   "id": "41c7b1c3-d769-48b6-ba4c-056393544802",
   "metadata": {},
   "outputs": [
    {
     "name": "stdout",
     "output_type": "stream",
     "text": [
      "<class 'int'>\n",
      "<class 'float'>\n"
     ]
    }
   ],
   "source": [
    "a = 11\n",
    "b = 1\n",
    "print(type(a))\n",
    "a = a/b\n",
    "print(type(a))"
   ]
  },
  {
   "cell_type": "code",
   "execution_count": 53,
   "id": "bd9e44ca-f442-42dd-9cbc-e151a7dd2846",
   "metadata": {},
   "outputs": [
    {
     "data": {
      "text/plain": [
       "float"
      ]
     },
     "execution_count": 53,
     "metadata": {},
     "output_type": "execute_result"
    }
   ],
   "source": [
    "+,\n",
    "-,\n",
    "*,\n",
    "/\n",
    "\n",
    "==\n",
    "!=\n",
    ">\n",
    "<\n",
    ">=\n",
    "<=\n",
    "\n",
    "and \n",
    "or\n",
    "not\n",
    "\n",
    "&\n",
    "|\n"
   ]
  },
  {
   "cell_type": "code",
   "execution_count": 59,
   "id": "e7b434ca-14a4-47b6-95c3-242870b47ae7",
   "metadata": {},
   "outputs": [
    {
     "data": {
      "text/plain": [
       "int"
      ]
     },
     "execution_count": 59,
     "metadata": {},
     "output_type": "execute_result"
    }
   ],
   "source": [
    "type(5*1)"
   ]
  },
  {
   "cell_type": "code",
   "execution_count": 60,
   "id": "0b816c7a-1d15-469d-b1e7-7b798994d0ea",
   "metadata": {},
   "outputs": [],
   "source": [
    "right_side = 10\n",
    "left_side = 7"
   ]
  },
  {
   "cell_type": "code",
   "execution_count": 74,
   "id": "d2d1a229-6c73-4e57-a63b-317ccc64cbe6",
   "metadata": {},
   "outputs": [
    {
     "name": "stdout",
     "output_type": "stream",
     "text": [
      "hello\n"
     ]
    }
   ],
   "source": [
    "print('hello',)"
   ]
  },
  {
   "cell_type": "code",
   "execution_count": 75,
   "id": "a7349927-067a-4493-8e48-9e8c5d5da44b",
   "metadata": {},
   "outputs": [],
   "source": [
    "def add(x,y):\n",
    "    return x+y"
   ]
  },
  {
   "cell_type": "code",
   "execution_count": 76,
   "id": "400b7984-664b-4ea2-9f04-b92baaaca97c",
   "metadata": {},
   "outputs": [
    {
     "data": {
      "text/plain": [
       "7"
      ]
     },
     "execution_count": 76,
     "metadata": {},
     "output_type": "execute_result"
    }
   ],
   "source": [
    "obj1 = 3\n",
    "obj2 = 4\n",
    "add(obj1,obj2)"
   ]
  },
  {
   "cell_type": "code",
   "execution_count": 79,
   "id": "f42acce9-09c4-4ce9-91fe-b6055808a6c8",
   "metadata": {},
   "outputs": [
    {
     "name": "stdout",
     "output_type": "stream",
     "text": [
      "52 \n",
      " 273 \n",
      " hello\n"
     ]
    }
   ],
   "source": [
    "print(52,'\\n',273,'\\n','hello')"
   ]
  },
  {
   "cell_type": "code",
   "execution_count": 83,
   "id": "8d490756-5368-488f-82e1-be1825c085d1",
   "metadata": {},
   "outputs": [
    {
     "name": "stdout",
     "output_type": "stream",
     "text": [
      "이강욱의 고향은 대전입니다\n"
     ]
    }
   ],
   "source": [
    "name = '이강욱'\n",
    "country = '대전'\n",
    "\n",
    "print(f'{name}의 고향은 {country}입니다')"
   ]
  },
  {
   "cell_type": "code",
   "execution_count": 84,
   "id": "e0a4f549-0066-42a9-8939-f66e6e7c941a",
   "metadata": {},
   "outputs": [],
   "source": [
    "li = [1]"
   ]
  },
  {
   "cell_type": "code",
   "execution_count": 85,
   "id": "20027dac-c9e4-418e-8ac4-8719e1809b00",
   "metadata": {},
   "outputs": [
    {
     "data": {
      "text/plain": [
       "[1, 2]"
      ]
     },
     "execution_count": 85,
     "metadata": {},
     "output_type": "execute_result"
    }
   ],
   "source": [
    "li.append(2)\n",
    "li"
   ]
  },
  {
   "cell_type": "code",
   "execution_count": 86,
   "id": "b4ce6ac9-df29-406e-95f8-2731b75b82f3",
   "metadata": {},
   "outputs": [
    {
     "data": {
      "text/plain": [
       "['__add__',\n",
       " '__class__',\n",
       " '__class_getitem__',\n",
       " '__contains__',\n",
       " '__delattr__',\n",
       " '__delitem__',\n",
       " '__dir__',\n",
       " '__doc__',\n",
       " '__eq__',\n",
       " '__format__',\n",
       " '__ge__',\n",
       " '__getattribute__',\n",
       " '__getitem__',\n",
       " '__gt__',\n",
       " '__hash__',\n",
       " '__iadd__',\n",
       " '__imul__',\n",
       " '__init__',\n",
       " '__init_subclass__',\n",
       " '__iter__',\n",
       " '__le__',\n",
       " '__len__',\n",
       " '__lt__',\n",
       " '__mul__',\n",
       " '__ne__',\n",
       " '__new__',\n",
       " '__reduce__',\n",
       " '__reduce_ex__',\n",
       " '__repr__',\n",
       " '__reversed__',\n",
       " '__rmul__',\n",
       " '__setattr__',\n",
       " '__setitem__',\n",
       " '__sizeof__',\n",
       " '__str__',\n",
       " '__subclasshook__',\n",
       " 'append',\n",
       " 'clear',\n",
       " 'copy',\n",
       " 'count',\n",
       " 'extend',\n",
       " 'index',\n",
       " 'insert',\n",
       " 'pop',\n",
       " 'remove',\n",
       " 'reverse',\n",
       " 'sort']"
      ]
     },
     "execution_count": 86,
     "metadata": {},
     "output_type": "execute_result"
    }
   ],
   "source": [
    "dir(li)"
   ]
  },
  {
   "cell_type": "code",
   "execution_count": 90,
   "id": "05aca848-da25-4019-aebd-8e4b5a605595",
   "metadata": {},
   "outputs": [
    {
     "name": "stdout",
     "output_type": "stream",
     "text": [
      "0 1\n",
      "1 2\n"
     ]
    }
   ],
   "source": [
    "for idx, val in enumerate(li):\n",
    "    print(idx,val)"
   ]
  },
  {
   "cell_type": "code",
   "execution_count": 91,
   "id": "db22aded-b0fa-46e3-9773-b7653a123d5e",
   "metadata": {},
   "outputs": [],
   "source": [
    "li.append([3,4])"
   ]
  },
  {
   "cell_type": "code",
   "execution_count": 92,
   "id": "4af66540-96f6-4a2c-a800-6ccd69627b94",
   "metadata": {},
   "outputs": [
    {
     "data": {
      "text/plain": [
       "[1, 2, [3, 4]]"
      ]
     },
     "execution_count": 92,
     "metadata": {},
     "output_type": "execute_result"
    }
   ],
   "source": [
    "li"
   ]
  },
  {
   "cell_type": "code",
   "execution_count": 93,
   "id": "228fef3a-f383-41f7-8649-9b74a83232c5",
   "metadata": {},
   "outputs": [
    {
     "data": {
      "text/plain": [
       "3"
      ]
     },
     "execution_count": 93,
     "metadata": {},
     "output_type": "execute_result"
    }
   ],
   "source": [
    "len(li)"
   ]
  },
  {
   "cell_type": "code",
   "execution_count": 95,
   "id": "2c9a7876-35dc-46f2-afcd-72f2f61e84b1",
   "metadata": {},
   "outputs": [
    {
     "data": {
      "text/plain": [
       "[2, [3, 4]]"
      ]
     },
     "execution_count": 95,
     "metadata": {},
     "output_type": "execute_result"
    }
   ],
   "source": [
    "li[1:3]"
   ]
  },
  {
   "cell_type": "code",
   "execution_count": 97,
   "id": "0a49d4c9-db25-4802-8240-bad7514b4633",
   "metadata": {},
   "outputs": [
    {
     "data": {
      "text/plain": [
       "[1, [3, 4]]"
      ]
     },
     "execution_count": 97,
     "metadata": {},
     "output_type": "execute_result"
    }
   ],
   "source": [
    "li_ = []\n",
    "for idx,v in enumerate(li):\n",
    "    if idx in [0,2]:\n",
    "        li_.append(v)\n",
    "li_"
   ]
  },
  {
   "cell_type": "code",
   "execution_count": 98,
   "id": "24eacfa0-8f7b-4c35-ad3a-17c8e59741c7",
   "metadata": {},
   "outputs": [],
   "source": [
    "str_li = \"hello python progrmming\"\n",
    "org_li = [1,2,3,4,5,6]"
   ]
  },
  {
   "cell_type": "code",
   "execution_count": 104,
   "id": "2fe7283d-7dea-430f-85c3-40ea2e703170",
   "metadata": {},
   "outputs": [
    {
     "data": {
      "text/plain": [
       "False"
      ]
     },
     "execution_count": 104,
     "metadata": {},
     "output_type": "execute_result"
    }
   ],
   "source": [
    "7 in org_li"
   ]
  },
  {
   "cell_type": "code",
   "execution_count": 106,
   "id": "1b7eaa74-a0ba-40cc-9d26-5a25363f9842",
   "metadata": {},
   "outputs": [
    {
     "data": {
      "text/plain": [
       "True"
      ]
     },
     "execution_count": 106,
     "metadata": {},
     "output_type": "execute_result"
    }
   ],
   "source": [
    "'h' in str_li"
   ]
  },
  {
   "cell_type": "code",
   "execution_count": 100,
   "id": "c3ef793b-3ceb-4bc9-8811-794489a30290",
   "metadata": {},
   "outputs": [
    {
     "data": {
      "text/plain": [
       "23"
      ]
     },
     "execution_count": 100,
     "metadata": {},
     "output_type": "execute_result"
    }
   ],
   "source": [
    "len(str_li)"
   ]
  },
  {
   "cell_type": "code",
   "execution_count": 101,
   "id": "96013cb8-a770-4a5d-8184-2c11ded281ce",
   "metadata": {},
   "outputs": [
    {
     "data": {
      "text/plain": [
       "[2, 3, 4]"
      ]
     },
     "execution_count": 101,
     "metadata": {},
     "output_type": "execute_result"
    }
   ],
   "source": [
    "org_li[1:4]"
   ]
  },
  {
   "cell_type": "code",
   "execution_count": 102,
   "id": "1a7d2029-b792-4e70-968e-373b19ee857f",
   "metadata": {},
   "outputs": [
    {
     "data": {
      "text/plain": [
       "'ell'"
      ]
     },
     "execution_count": 102,
     "metadata": {},
     "output_type": "execute_result"
    }
   ],
   "source": [
    "str_li[1:4]"
   ]
  },
  {
   "cell_type": "code",
   "execution_count": 109,
   "id": "1d375660-e552-4c1a-98fa-6e1a2d4a1b6b",
   "metadata": {},
   "outputs": [
    {
     "data": {
      "text/plain": [
       "True"
      ]
     },
     "execution_count": 109,
     "metadata": {},
     "output_type": "execute_result"
    }
   ],
   "source": [
    "'hello' in str_li.split(' ')"
   ]
  },
  {
   "cell_type": "code",
   "execution_count": 110,
   "id": "646bc664-1d70-4a1c-888b-45baf8045683",
   "metadata": {},
   "outputs": [
    {
     "name": "stdout",
     "output_type": "stream",
     "text": [
      "hello\n",
      "python\n",
      "progrmming\n"
     ]
    }
   ],
   "source": [
    "for i in str_li.split():\n",
    "    print(i)\n",
    "    "
   ]
  },
  {
   "cell_type": "code",
   "execution_count": 119,
   "id": "9acf9c71-9e06-4a81-a5f5-2df24dfd5c67",
   "metadata": {},
   "outputs": [
    {
     "name": "stdout",
     "output_type": "stream",
     "text": [
      "hello\tpython\tprogrmming\n"
     ]
    }
   ],
   "source": [
    "print('\\t'.join(str_li.split()))"
   ]
  },
  {
   "cell_type": "code",
   "execution_count": 115,
   "id": "13d2d2a6-2a03-474a-8ce4-af1bc59bc0f9",
   "metadata": {},
   "outputs": [
    {
     "data": {
      "text/plain": [
       "['hello', 'python', 'progrmming']"
      ]
     },
     "execution_count": 115,
     "metadata": {},
     "output_type": "execute_result"
    }
   ],
   "source": [
    "str_li.split()"
   ]
  },
  {
   "cell_type": "code",
   "execution_count": 120,
   "id": "6011eb6b-0d01-48b5-ba1d-7db5ffbf5c9e",
   "metadata": {},
   "outputs": [],
   "source": [
    "str_ = \"\"\"\n",
    "lkdfalkjfdlkalkflklk\n",
    "lkdjflkadljflajldfjlak\n",
    "jldfljaldlfjjlasdjkflakl\n",
    "\"\"\""
   ]
  },
  {
   "cell_type": "code",
   "execution_count": 126,
   "id": "0f12391e-508e-4523-a8e0-e71d4c03f777",
   "metadata": {},
   "outputs": [
    {
     "data": {
      "text/plain": [
       "'\\nLKDFALKJFDLKALKFLKLK\\nLKDJFLKADLJFLAJLDFJLAK\\nJLDFLJALDLFJJLASDJKFLAKL\\n'"
      ]
     },
     "execution_count": 126,
     "metadata": {},
     "output_type": "execute_result"
    }
   ],
   "source": [
    "str_.upper().lower().upper()"
   ]
  },
  {
   "cell_type": "code",
   "execution_count": null,
   "id": "07233b75-0acc-40c8-a727-93085b8a369a",
   "metadata": {},
   "outputs": [
    {
     "ename": "ValueError",
     "evalue": "invalid literal for int() with base 10: '1324오'",
     "output_type": "error",
     "traceback": [
      "\u001b[1;31m---------------------------------------------------------------------------\u001b[0m",
      "\u001b[1;31mValueError\u001b[0m                                Traceback (most recent call last)",
      "\u001b[1;32m~\\AppData\\Local\\Temp\\ipykernel_6380\\2029799900.py\u001b[0m in \u001b[0;36m<module>\u001b[1;34m\u001b[0m\n\u001b[1;32m----> 1\u001b[1;33m \u001b[0mint\u001b[0m\u001b[1;33m(\u001b[0m\u001b[1;34m'1324오'\u001b[0m\u001b[1;33m)\u001b[0m \u001b[1;33m+\u001b[0m \u001b[1;36m4\u001b[0m\u001b[1;33m\u001b[0m\u001b[1;33m\u001b[0m\u001b[0m\n\u001b[0m",
      "\u001b[1;31mValueError\u001b[0m: invalid literal for int() with base 10: '1324오'"
     ]
    }
   ],
   "source": [
    "int('1324오') + 4"
   ]
  },
  {
   "cell_type": "code",
   "execution_count": null,
   "id": "e639f219-5c2f-4a1b-a88a-b87abcd6ead7",
   "metadata": {},
   "outputs": [],
   "source": [
    "str_ = \"hello python\""
   ]
  },
  {
   "cell_type": "code",
   "execution_count": null,
   "id": "4c24c5b7-3463-472c-85d1-a85f417c3afa",
   "metadata": {},
   "outputs": [
    {
     "data": {
      "text/plain": [
       "str"
      ]
     },
     "execution_count": 4,
     "metadata": {},
     "output_type": "execute_result"
    }
   ],
   "source": [
    "type(str_)"
   ]
  },
  {
   "cell_type": "code",
   "execution_count": 9,
   "id": "8190164e-93f8-45d5-bd4c-1616581041d9",
   "metadata": {},
   "outputs": [
    {
     "data": {
      "text/plain": [
       "['__add__',\n",
       " '__class__',\n",
       " '__contains__',\n",
       " '__delattr__',\n",
       " '__dir__',\n",
       " '__doc__',\n",
       " '__eq__',\n",
       " '__format__',\n",
       " '__ge__',\n",
       " '__getattribute__',\n",
       " '__getitem__',\n",
       " '__getnewargs__',\n",
       " '__gt__',\n",
       " '__hash__',\n",
       " '__init__',\n",
       " '__init_subclass__',\n",
       " '__iter__',\n",
       " '__le__',\n",
       " '__len__',\n",
       " '__lt__',\n",
       " '__mod__',\n",
       " '__mul__',\n",
       " '__ne__',\n",
       " '__new__',\n",
       " '__reduce__',\n",
       " '__reduce_ex__',\n",
       " '__repr__',\n",
       " '__rmod__',\n",
       " '__rmul__',\n",
       " '__setattr__',\n",
       " '__sizeof__',\n",
       " '__str__',\n",
       " '__subclasshook__',\n",
       " 'capitalize',\n",
       " 'casefold',\n",
       " 'center',\n",
       " 'count',\n",
       " 'encode',\n",
       " 'endswith',\n",
       " 'expandtabs',\n",
       " 'find',\n",
       " 'format',\n",
       " 'format_map',\n",
       " 'index',\n",
       " 'isalnum',\n",
       " 'isalpha',\n",
       " 'isascii',\n",
       " 'isdecimal',\n",
       " 'isdigit',\n",
       " 'isidentifier',\n",
       " 'islower',\n",
       " 'isnumeric',\n",
       " 'isprintable',\n",
       " 'isspace',\n",
       " 'istitle',\n",
       " 'isupper',\n",
       " 'join',\n",
       " 'ljust',\n",
       " 'lower',\n",
       " 'lstrip',\n",
       " 'maketrans',\n",
       " 'partition',\n",
       " 'removeprefix',\n",
       " 'removesuffix',\n",
       " 'replace',\n",
       " 'rfind',\n",
       " 'rindex',\n",
       " 'rjust',\n",
       " 'rpartition',\n",
       " 'rsplit',\n",
       " 'rstrip',\n",
       " 'split',\n",
       " 'splitlines',\n",
       " 'startswith',\n",
       " 'strip',\n",
       " 'swapcase',\n",
       " 'title',\n",
       " 'translate',\n",
       " 'upper',\n",
       " 'zfill']"
      ]
     },
     "execution_count": 5,
     "metadata": {},
     "output_type": "execute_result"
    }
   ],
   "source": [
    "dir(str_)"
   ]
  },
  {
   "cell_type": "code",
   "execution_count": 5,
   "id": "cf7ef8aa-379e-44d2-aef6-3beaacb8df3a",
   "metadata": {},
   "outputs": [
    {
     "data": {
      "text/plain": [
       "'Hello python'"
      ]
     },
     "execution_count": 6,
     "metadata": {},
     "output_type": "execute_result"
    }
   ],
   "source": [
    "str_.capitalize()"
   ]
  },
  {
   "cell_type": "code",
   "execution_count": 8,
   "id": "eea90900-6170-4084-a334-2d0eadb1e190",
   "metadata": {},
   "outputs": [
    {
     "data": {
      "text/plain": [
       "True"
      ]
     },
     "execution_count": 7,
     "metadata": {},
     "output_type": "execute_result"
    }
   ],
   "source": [
    "str_.islower()"
   ]
  },
  {
   "cell_type": "code",
   "execution_count": 8,
   "id": "cf3c95a3-768d-4dc4-af63-b701bced0ca6",
   "metadata": {},
   "outputs": [
    {
     "data": {
      "text/plain": [
       "True"
      ]
     },
     "execution_count": 8,
     "metadata": {},
     "output_type": "execute_result"
    }
   ],
   "source": [
    "'ddfa'>'ccc'"
   ]
  },
  {
   "cell_type": "code",
   "execution_count": 9,
   "id": "42b96c09-67ad-4057-a048-549cc1bdaf81",
   "metadata": {},
   "outputs": [],
   "source": [
    "# "
   ]
  },
  {
   "cell_type": "code",
   "execution_count": 10,
   "id": "82b74908-d42c-440c-bacc-a851e5373c65",
   "metadata": {},
   "outputs": [
    {
     "data": {
      "text/plain": [
       "'ddddd'"
      ]
     },
     "execution_count": 10,
     "metadata": {},
     "output_type": "execute_result"
    }
   ],
   "source": [
    "'dd'+'ddd'"
   ]
  },
  {
   "cell_type": "code",
   "execution_count": 12,
   "id": "ca62c1a4-8aca-439b-84b1-a825c8a8d0fd",
   "metadata": {},
   "outputs": [
    {
     "data": {
      "text/plain": [
       "'dddddd'"
      ]
     },
     "execution_count": 12,
     "metadata": {},
     "output_type": "execute_result"
    }
   ],
   "source": [
    "\"dd\" * 3"
   ]
  },
  {
   "cell_type": "code",
   "execution_count": 13,
   "id": "172bea18-8141-44bc-ab63-17145f62320f",
   "metadata": {},
   "outputs": [
    {
     "data": {
      "text/plain": [
       "[1, 2, 3, 3]"
      ]
     },
     "execution_count": 13,
     "metadata": {},
     "output_type": "execute_result"
    }
   ],
   "source": [
    "[1,2,3] + [3]"
   ]
  },
  {
   "cell_type": "code",
   "execution_count": 14,
   "id": "05788903-74a8-43b3-bdf2-a28b71616731",
   "metadata": {},
   "outputs": [],
   "source": [
    "# 이건 안됨 str이랑 같음"
   ]
  },
  {
   "cell_type": "code",
   "execution_count": 29,
   "id": "429d634a-f613-4809-afc7-3201cf4c4316",
   "metadata": {},
   "outputs": [],
   "source": [
    "str_ = \"hello world\""
   ]
  },
  {
   "cell_type": "code",
   "execution_count": 25,
   "id": "1456d81f-46fe-4944-830d-0c800642bb70",
   "metadata": {},
   "outputs": [],
   "source": [
    "numeric_ = 10"
   ]
  },
  {
   "cell_type": "code",
   "execution_count": 26,
   "id": "23e10ff1-b151-4885-9f29-3f382694f509",
   "metadata": {},
   "outputs": [
    {
     "data": {
      "text/plain": [
       "['__add__',\n",
       " '__class__',\n",
       " '__contains__',\n",
       " '__delattr__',\n",
       " '__dir__',\n",
       " '__doc__',\n",
       " '__eq__',\n",
       " '__format__',\n",
       " '__ge__',\n",
       " '__getattribute__',\n",
       " '__getitem__',\n",
       " '__getnewargs__',\n",
       " '__gt__',\n",
       " '__hash__',\n",
       " '__init__',\n",
       " '__init_subclass__',\n",
       " '__iter__',\n",
       " '__le__',\n",
       " '__len__',\n",
       " '__lt__',\n",
       " '__mod__',\n",
       " '__mul__',\n",
       " '__ne__',\n",
       " '__new__',\n",
       " '__reduce__',\n",
       " '__reduce_ex__',\n",
       " '__repr__',\n",
       " '__rmod__',\n",
       " '__rmul__',\n",
       " '__setattr__',\n",
       " '__sizeof__',\n",
       " '__str__',\n",
       " '__subclasshook__',\n",
       " 'capitalize',\n",
       " 'casefold',\n",
       " 'center',\n",
       " 'count',\n",
       " 'encode',\n",
       " 'endswith',\n",
       " 'expandtabs',\n",
       " 'find',\n",
       " 'format',\n",
       " 'format_map',\n",
       " 'index',\n",
       " 'isalnum',\n",
       " 'isalpha',\n",
       " 'isascii',\n",
       " 'isdecimal',\n",
       " 'isdigit',\n",
       " 'isidentifier',\n",
       " 'islower',\n",
       " 'isnumeric',\n",
       " 'isprintable',\n",
       " 'isspace',\n",
       " 'istitle',\n",
       " 'isupper',\n",
       " 'join',\n",
       " 'ljust',\n",
       " 'lower',\n",
       " 'lstrip',\n",
       " 'maketrans',\n",
       " 'partition',\n",
       " 'removeprefix',\n",
       " 'removesuffix',\n",
       " 'replace',\n",
       " 'rfind',\n",
       " 'rindex',\n",
       " 'rjust',\n",
       " 'rpartition',\n",
       " 'rsplit',\n",
       " 'rstrip',\n",
       " 'split',\n",
       " 'splitlines',\n",
       " 'startswith',\n",
       " 'strip',\n",
       " 'swapcase',\n",
       " 'title',\n",
       " 'translate',\n",
       " 'upper',\n",
       " 'zfill']"
      ]
     },
     "execution_count": 26,
     "metadata": {},
     "output_type": "execute_result"
    }
   ],
   "source": [
    "dir(str_)"
   ]
  },
  {
   "cell_type": "code",
   "execution_count": 30,
   "id": "4fc602c6-8fa7-4aa3-a03a-5d5fba26a12e",
   "metadata": {},
   "outputs": [
    {
     "data": {
      "text/plain": [
       "'hel'"
      ]
     },
     "execution_count": 30,
     "metadata": {},
     "output_type": "execute_result"
    }
   ],
   "source": [
    "str_[0:3]"
   ]
  },
  {
   "cell_type": "code",
   "execution_count": 31,
   "id": "3b0c3a70-a257-4aac-a3d3-833b771e0054",
   "metadata": {},
   "outputs": [
    {
     "data": {
      "text/plain": [
       "'h'"
      ]
     },
     "execution_count": 31,
     "metadata": {},
     "output_type": "execute_result"
    }
   ],
   "source": [
    "str_[-len(str_)]"
   ]
  },
  {
   "cell_type": "code",
   "execution_count": 33,
   "id": "d3085519-dd3e-4394-8ecb-c11932529b6b",
   "metadata": {},
   "outputs": [
    {
     "name": "stdout",
     "output_type": "stream",
     "text": [
      "kwiee\n"
     ]
    }
   ],
   "source": [
    "if True:\n",
    "    print('kwiee')\n",
    "else:\n",
    "    print('------')"
   ]
  },
  {
   "cell_type": "code",
   "execution_count": 35,
   "id": "af7d90ce-9b42-4d55-a4f0-ee7bf3690919",
   "metadata": {},
   "outputs": [
    {
     "name": "stdout",
     "output_type": "stream",
     "text": [
      "a\n"
     ]
    }
   ],
   "source": [
    "condition1 = True\n",
    "condition2 = False\n",
    "if condition1:\n",
    "    print('a')\n",
    "elif condition2:\n",
    "    print('b')\n",
    "else:\n",
    "    print('c')\n",
    "#     condition 2가 true 여도 a 안 나옴 첫번쨰가 true면 그 이상 실행 x"
   ]
  },
  {
   "cell_type": "code",
   "execution_count": 38,
   "id": "a1817fad-2767-4171-b782-f7827ed59033",
   "metadata": {},
   "outputs": [
    {
     "name": "stdout",
     "output_type": "stream",
     "text": [
      "b\n"
     ]
    }
   ],
   "source": [
    "score = 87\n",
    "if score >=80 and score <90:\n",
    "    print('b')"
   ]
  },
  {
   "cell_type": "code",
   "execution_count": 39,
   "id": "e5e5af5f-a636-4441-b148-468f71b7250a",
   "metadata": {},
   "outputs": [],
   "source": [
    "# 성적이 90이사이면 A\n",
    "# 성적이 80이상 90이하면 B\n",
    "# 성적이 70이상 80이하면 C\n",
    "# 성적이 70미만이면 D\n"
   ]
  },
  {
   "cell_type": "code",
   "execution_count": 46,
   "id": "e35f3f55-e577-47a7-880c-caf9be7ec1aa",
   "metadata": {},
   "outputs": [
    {
     "name": "stdout",
     "output_type": "stream",
     "text": [
      "A\n"
     ]
    }
   ],
   "source": [
    "score = 90\n",
    "\n",
    "if score >= 90:\n",
    "    print('A')\n",
    "if score >= 80 and score < 90:\n",
    "    print('B')\n",
    "if score >= 70 and score < 80:\n",
    "    print('C')\n",
    "if score < 70:\n",
    "    print('D')\n",
    "#     eles elif 밑이랑 비교 if+else = elif"
   ]
  },
  {
   "cell_type": "code",
   "execution_count": 47,
   "id": "68c4792b-708e-41d8-9f04-274c3692e975",
   "metadata": {},
   "outputs": [
    {
     "name": "stdout",
     "output_type": "stream",
     "text": [
      "A\n"
     ]
    }
   ],
   "source": [
    "score = 90\n",
    "\n",
    "if score >= 90:\n",
    "    print('A')\n",
    "elif score >= 80 and score < 90:\n",
    "    print('B')\n",
    "elif score >= 70 and score < 80:\n",
    "    print('C')\n",
    "elif score < 70:\n",
    "    print('D')"
   ]
  },
  {
   "cell_type": "code",
   "execution_count": 54,
   "id": "3f8aed91-3410-4e49-b4f5-49ba7325fe2e",
   "metadata": {},
   "outputs": [
    {
     "name": "stdout",
     "output_type": "stream",
     "text": [
      "fail\n"
     ]
    }
   ],
   "source": [
    "# 이중구문\n",
    "\n",
    "# score가 90이상\n",
    "# grade가 'B'인 사람은 pass\n",
    "# 나머지 사람은 fail\n",
    "\n",
    "# score = 90, 80\n",
    "# grade = 'A' 'B'\n",
    "\n",
    "score = 80\n",
    "grade = 'B'\n",
    "if grade == 'B':\n",
    "    if score >= 90:\n",
    "        print('pass')\n",
    "    else:\n",
    "        print('fail')\n",
    "else:\n",
    "    print('fail')"
   ]
  },
  {
   "cell_type": "code",
   "execution_count": 56,
   "id": "29c406c7-23d3-42c8-8fe9-55f609bc737b",
   "metadata": {},
   "outputs": [
    {
     "name": "stdout",
     "output_type": "stream",
     "text": [
      "fail\n"
     ]
    }
   ],
   "source": [
    "score = 80\n",
    "grade = 'B'\n",
    "\n",
    "if grade == 'B' and score >= 90:\n",
    "    print('pass')\n",
    "else:\n",
    "    print('fail')"
   ]
  },
  {
   "cell_type": "code",
   "execution_count": 67,
   "id": "d809d2fb-3ed8-4bd2-9641-f443d87c05ab",
   "metadata": {},
   "outputs": [],
   "source": [
    "from datetime import datetime"
   ]
  },
  {
   "cell_type": "code",
   "execution_count": 72,
   "id": "d7aa9a31-015b-447e-9834-cfb7ceb64632",
   "metadata": {},
   "outputs": [
    {
     "data": {
      "text/plain": [
       "datetime.datetime(2023, 3, 6, 11, 32, 4, 717108)"
      ]
     },
     "execution_count": 72,
     "metadata": {},
     "output_type": "execute_result"
    }
   ],
   "source": [
    "datetime.now()"
   ]
  },
  {
   "cell_type": "code",
   "execution_count": 70,
   "id": "2ea1b0cb-e148-41ba-84af-ec44465d7673",
   "metadata": {},
   "outputs": [
    {
     "name": "stdout",
     "output_type": "stream",
     "text": [
      "2023-03-06 11:31:56.544356\n"
     ]
    }
   ],
   "source": [
    "import time\n",
    "now_before = datetime.now()\n",
    "time.sleep(10)\n",
    "now_after = datetime.now()\n",
    "\n",
    "print(datetime.now())"
   ]
  },
  {
   "cell_type": "code",
   "execution_count": 75,
   "id": "9cdb4d47-5809-4148-98d2-52220b5f6060",
   "metadata": {},
   "outputs": [
    {
     "data": {
      "text/plain": [
       "56"
      ]
     },
     "execution_count": 75,
     "metadata": {},
     "output_type": "execute_result"
    }
   ],
   "source": [
    "now_before.minute\n",
    "now_after.minute\n",
    "now_before.second\n",
    "now_after.second"
   ]
  },
  {
   "cell_type": "code",
   "execution_count": 76,
   "id": "e2cb7eaf-1bf5-4a6f-8f37-2156402b2d6f",
   "metadata": {},
   "outputs": [],
   "source": [
    "import datetime"
   ]
  },
  {
   "cell_type": "code",
   "execution_count": 84,
   "id": "e5ab4b77-9afe-426d-a2fa-3ee5f1362b06",
   "metadata": {},
   "outputs": [
    {
     "name": "stdout",
     "output_type": "stream",
     "text": [
      "현재시간은 오전 11시 입니다.\n"
     ]
    }
   ],
   "source": [
    "current_hour = datetime.datetime.now().hour\n",
    "\n",
    "if current_hour > 12:\n",
    "    print(f'현재시각은 오후 {current_hour-12}시 입니다.')\n",
    "else:\n",
    "    print(f'현재시간은 오전 {current_hour}시 입니다.')"
   ]
  },
  {
   "cell_type": "code",
   "execution_count": 85,
   "id": "2de42e51-dd48-481e-ab49-99aae77192a9",
   "metadata": {},
   "outputs": [
    {
     "name": "stdout",
     "output_type": "stream",
     "text": [
      "Spring\n"
     ]
    }
   ],
   "source": [
    "season = datetime.datetime.now().month\n",
    "if season >= 3 and season <=5:\n",
    "    print('Spring')\n",
    "elif season >= 6 and season <=8:\n",
    "    print('Summer')\n",
    "elif season >= 9 and season <=11:\n",
    "    print('Fail')\n",
    "else:\n",
    "    print('Winter')"
   ]
  },
  {
   "cell_type": "code",
   "execution_count": 86,
   "id": "4574eab2-d254-48c2-bbc6-26ad94358f06",
   "metadata": {},
   "outputs": [
    {
     "name": "stdout",
     "output_type": "stream",
     "text": [
      "what the hell\n"
     ]
    }
   ],
   "source": [
    "print('what the hell')"
   ]
  },
  {
   "cell_type": "code",
   "execution_count": 13,
   "id": "ce6291d1-a022-4943-9eb6-db2c44fc5be0",
   "metadata": {},
   "outputs": [],
   "source": [
    "import datetime"
   ]
  },
  {
   "cell_type": "code",
   "execution_count": 14,
   "id": "e4157d18-104b-4b24-932e-c7d9c8ef8b5a",
   "metadata": {},
   "outputs": [
    {
     "name": "stdout",
     "output_type": "stream",
     "text": [
      "spring\n"
     ]
    }
   ],
   "source": [
    "season = datetime.datetime.now().month\n",
    "\n",
    "season = 3\n",
    "\n",
    "if season <= 2:\n",
    "    print('winter')\n",
    "elif season <= 5:\n",
    "    print('spring')\n",
    "elif season <= 8:\n",
    "    print('summer')\n",
    "elif season <= 11:\n",
    "    print('fall')\n",
    "else:\n",
    "    print('winter')"
   ]
  },
  {
   "cell_type": "code",
   "execution_count": 32,
   "id": "bf66341e-6284-4a48-b232-1fb64ba3d40b",
   "metadata": {},
   "outputs": [
    {
     "name": "stdin",
     "output_type": "stream",
     "text": [
      "숫자를 입력하시오 10\n"
     ]
    },
    {
     "name": "stdout",
     "output_type": "stream",
     "text": [
      "짝수입니다\n"
     ]
    }
   ],
   "source": [
    "x = input('숫자를 입력하시오')\n",
    "if '.' in x:\n",
    "    x = float(x)\n",
    "    x = int(x)\n",
    "else:\n",
    "    x = int(x)\n",
    "    \n",
    "if x % 2 == 1:\n",
    "    print('홀수입니다')\n",
    "else:\n",
    "    print('짝수입니다')"
   ]
  },
  {
   "cell_type": "code",
   "execution_count": 12,
   "id": "c3c91fe3-8c66-44cc-a4ce-c2dc51013f6e",
   "metadata": {},
   "outputs": [],
   "source": [
    "# 소수점 숫자는 문자로 나타난다 isdigit "
   ]
  },
  {
   "cell_type": "code",
   "execution_count": 33,
   "id": "cae3563b-a747-48b4-a7c3-33f02e574081",
   "metadata": {},
   "outputs": [
    {
     "name": "stdin",
     "output_type": "stream",
     "text": [
      "input number 123\n"
     ]
    },
    {
     "name": "stdout",
     "output_type": "stream",
     "text": [
      "odd\n"
     ]
    }
   ],
   "source": [
    "x = input('input number')\n",
    "if x[-1] in '02468':\n",
    "    print('even')\n",
    "else:\n",
    "    print('odd')"
   ]
  },
  {
   "cell_type": "code",
   "execution_count": 34,
   "id": "99b5c833-efd9-425d-89ab-98c4c9c844af",
   "metadata": {},
   "outputs": [
    {
     "data": {
      "text/plain": [
       "False"
      ]
     },
     "execution_count": 34,
     "metadata": {},
     "output_type": "execute_result"
    }
   ],
   "source": [
    "'2' in [0,2,4,6,8]"
   ]
  },
  {
   "cell_type": "code",
   "execution_count": 35,
   "id": "94c5d7c9-207e-4531-999d-e00c6338426c",
   "metadata": {},
   "outputs": [
    {
     "name": "stdin",
     "output_type": "stream",
     "text": [
      ">1번째 숫자 : 10\n",
      ">2번째 숫자 : 11\n"
     ]
    },
    {
     "name": "stdout",
     "output_type": "stream",
     "text": [
      "두번째 입력했던 11가 10보다 큽니다\n"
     ]
    }
   ],
   "source": [
    "a = int(input(\">1번째 숫자 :\"))\n",
    "b = int(input(\">2번째 숫자 :\"))\n",
    "\n",
    "if a > b:\n",
    "    print(\"처음 입력했던 {}가 {}보다 큽니다\".format(a,b))\n",
    "    \n",
    "if b > a:\n",
    "    print(\"두번째 입력했던 {}가 {}보다 큽니다\".format(b,a))"
   ]
  },
  {
   "cell_type": "code",
   "execution_count": 17,
   "id": "9e1cbd4c-9430-4b9e-80b3-7ab08d65b334",
   "metadata": {},
   "outputs": [],
   "source": [
    "# 앞에껀 연산 리스트는 파이썬 최상위 '중요하다네요'"
   ]
  },
  {
   "cell_type": "code",
   "execution_count": 26,
   "id": "f4fb51c8-2599-4e10-87d8-395e3e91535c",
   "metadata": {},
   "outputs": [],
   "source": [
    "li = [1,2,3,4,5,6]"
   ]
  },
  {
   "cell_type": "code",
   "execution_count": 27,
   "id": "fa8ea507-ec89-4afe-b85d-6921e34ddefd",
   "metadata": {},
   "outputs": [],
   "source": [
    "r = range(1,7)"
   ]
  },
  {
   "cell_type": "code",
   "execution_count": 28,
   "id": "91fb0e1b-6554-481a-9b24-7d33189428a9",
   "metadata": {},
   "outputs": [
    {
     "name": "stdout",
     "output_type": "stream",
     "text": [
      "1\n",
      "2\n",
      "3\n",
      "4\n",
      "5\n",
      "6\n"
     ]
    }
   ],
   "source": [
    "for i in li:\n",
    "    print(i)"
   ]
  },
  {
   "cell_type": "code",
   "execution_count": 29,
   "id": "6bc0d944-7f3f-4739-a5c7-3471f91386ea",
   "metadata": {},
   "outputs": [
    {
     "name": "stdout",
     "output_type": "stream",
     "text": [
      "1\n",
      "2\n",
      "3\n",
      "4\n",
      "5\n",
      "6\n"
     ]
    }
   ],
   "source": [
    "for i in li:\n",
    "    print(i)"
   ]
  },
  {
   "cell_type": "code",
   "execution_count": 93,
   "id": "3e34ec7f-5d9a-46f8-9c80-428594f72468",
   "metadata": {},
   "outputs": [
    {
     "data": {
      "text/plain": [
       "[1, 2, 3, 4, 5, 6]"
      ]
     },
     "execution_count": 93,
     "metadata": {},
     "output_type": "execute_result"
    }
   ],
   "source": [
    "list(r)"
   ]
  },
  {
   "cell_type": "code",
   "execution_count": 94,
   "id": "e6156351-8c91-4140-9db7-987522b52edd",
   "metadata": {},
   "outputs": [
    {
     "data": {
      "text/plain": [
       "False"
      ]
     },
     "execution_count": 94,
     "metadata": {},
     "output_type": "execute_result"
    }
   ],
   "source": [
    "r == li"
   ]
  },
  {
   "cell_type": "code",
   "execution_count": 95,
   "id": "7cc3767e-b837-4b70-9488-9cb31b880cd9",
   "metadata": {},
   "outputs": [],
   "source": [
    "li = [i for i in r]"
   ]
  },
  {
   "cell_type": "code",
   "execution_count": 96,
   "id": "72648bcb-347c-41d0-ad6c-69d92262187e",
   "metadata": {},
   "outputs": [],
   "source": [
    "li2 = list(r)"
   ]
  },
  {
   "cell_type": "code",
   "execution_count": 97,
   "id": "660a984f-5e84-4f66-b22f-418bf5ac3477",
   "metadata": {},
   "outputs": [],
   "source": [
    "li = [1,2,3,[1,2]]"
   ]
  },
  {
   "cell_type": "code",
   "execution_count": 98,
   "id": "60b32237-d625-4704-833b-f449a285d0f2",
   "metadata": {},
   "outputs": [],
   "source": [
    "li.append(10)"
   ]
  },
  {
   "cell_type": "code",
   "execution_count": 99,
   "id": "9cc599b4-48b0-48c9-9c77-476e1e556912",
   "metadata": {},
   "outputs": [],
   "source": [
    "li.append([[1,2,3]])"
   ]
  },
  {
   "cell_type": "code",
   "execution_count": 100,
   "id": "9ea81f19-07a2-4732-b1ef-0d52d02374ba",
   "metadata": {},
   "outputs": [
    {
     "data": {
      "text/plain": [
       "[1, 2, 3, [1, 2], 10, [[1, 2, 3]]]"
      ]
     },
     "execution_count": 100,
     "metadata": {},
     "output_type": "execute_result"
    }
   ],
   "source": [
    "li"
   ]
  },
  {
   "cell_type": "code",
   "execution_count": 101,
   "id": "094412ae-b37e-464d-b98f-55cc85935558",
   "metadata": {},
   "outputs": [
    {
     "data": {
      "text/plain": [
       "int"
      ]
     },
     "execution_count": 101,
     "metadata": {},
     "output_type": "execute_result"
    }
   ],
   "source": [
    "type(li[3][0])"
   ]
  },
  {
   "cell_type": "code",
   "execution_count": 102,
   "id": "cea37f52-4a43-4ad0-a191-17880c45977e",
   "metadata": {},
   "outputs": [],
   "source": [
    "li1 = [1,2,3]"
   ]
  },
  {
   "cell_type": "code",
   "execution_count": 103,
   "id": "0154ec3a-40dd-45ae-8549-ea728b2d06e8",
   "metadata": {},
   "outputs": [
    {
     "data": {
      "text/plain": [
       "[1, 2, 3]"
      ]
     },
     "execution_count": 103,
     "metadata": {},
     "output_type": "execute_result"
    }
   ],
   "source": [
    "li1"
   ]
  },
  {
   "cell_type": "code",
   "execution_count": 104,
   "id": "de0cbfe0-e84c-49ac-8c26-15bd69656a3e",
   "metadata": {},
   "outputs": [
    {
     "data": {
      "text/plain": [
       "[1, 2, 3, 4, 5, 6]"
      ]
     },
     "execution_count": 104,
     "metadata": {},
     "output_type": "execute_result"
    }
   ],
   "source": [
    "li2"
   ]
  },
  {
   "cell_type": "code",
   "execution_count": 105,
   "id": "c8a785e7-0688-4b05-bb92-d82603d45901",
   "metadata": {},
   "outputs": [
    {
     "data": {
      "text/plain": [
       "([1, 2, 3], [1, 2, 3, 4, 5, 6])"
      ]
     },
     "execution_count": 105,
     "metadata": {},
     "output_type": "execute_result"
    }
   ],
   "source": [
    "li1, li2"
   ]
  },
  {
   "cell_type": "code",
   "execution_count": 106,
   "id": "dd3f9834-286c-4a93-88c2-832485ab2e10",
   "metadata": {},
   "outputs": [],
   "source": [
    "li1.append(4)"
   ]
  },
  {
   "cell_type": "code",
   "execution_count": 107,
   "id": "31084108-2b67-43aa-a928-1270ba7d7154",
   "metadata": {},
   "outputs": [
    {
     "data": {
      "text/plain": [
       "([1, 2, 3, 4], [1, 2, 3, 4, 5, 6])"
      ]
     },
     "execution_count": 107,
     "metadata": {},
     "output_type": "execute_result"
    }
   ],
   "source": [
    "li1, li2"
   ]
  },
  {
   "cell_type": "code",
   "execution_count": 108,
   "id": "ea312d52-ebc0-4da5-9c33-5e84f693879c",
   "metadata": {},
   "outputs": [
    {
     "data": {
      "text/plain": [
       "['__add__',\n",
       " '__class__',\n",
       " '__class_getitem__',\n",
       " '__contains__',\n",
       " '__delattr__',\n",
       " '__delitem__',\n",
       " '__dir__',\n",
       " '__doc__',\n",
       " '__eq__',\n",
       " '__format__',\n",
       " '__ge__',\n",
       " '__getattribute__',\n",
       " '__getitem__',\n",
       " '__gt__',\n",
       " '__hash__',\n",
       " '__iadd__',\n",
       " '__imul__',\n",
       " '__init__',\n",
       " '__init_subclass__',\n",
       " '__iter__',\n",
       " '__le__',\n",
       " '__len__',\n",
       " '__lt__',\n",
       " '__mul__',\n",
       " '__ne__',\n",
       " '__new__',\n",
       " '__reduce__',\n",
       " '__reduce_ex__',\n",
       " '__repr__',\n",
       " '__reversed__',\n",
       " '__rmul__',\n",
       " '__setattr__',\n",
       " '__setitem__',\n",
       " '__sizeof__',\n",
       " '__str__',\n",
       " '__subclasshook__',\n",
       " 'append',\n",
       " 'clear',\n",
       " 'copy',\n",
       " 'count',\n",
       " 'extend',\n",
       " 'index',\n",
       " 'insert',\n",
       " 'pop',\n",
       " 'remove',\n",
       " 'reverse',\n",
       " 'sort']"
      ]
     },
     "execution_count": 108,
     "metadata": {},
     "output_type": "execute_result"
    }
   ],
   "source": [
    "dir(li1)"
   ]
  },
  {
   "cell_type": "code",
   "execution_count": 109,
   "id": "76b3f43a-74d6-4e7a-a6e8-bfa1c586ee03",
   "metadata": {},
   "outputs": [],
   "source": [
    "a = 10"
   ]
  },
  {
   "cell_type": "code",
   "execution_count": 110,
   "id": "511d63b0-5cb4-476e-95cc-276690cab3a4",
   "metadata": {},
   "outputs": [],
   "source": [
    "b = a"
   ]
  },
  {
   "cell_type": "code",
   "execution_count": 111,
   "id": "29362192-1837-4dc5-8b7e-529e151924be",
   "metadata": {},
   "outputs": [
    {
     "data": {
      "text/plain": [
       "(10, 10)"
      ]
     },
     "execution_count": 111,
     "metadata": {},
     "output_type": "execute_result"
    }
   ],
   "source": [
    "a, b"
   ]
  },
  {
   "cell_type": "code",
   "execution_count": 112,
   "id": "e7adbf86-3101-4aba-9eeb-3d1feaefbdc4",
   "metadata": {},
   "outputs": [],
   "source": [
    "a=11"
   ]
  },
  {
   "cell_type": "code",
   "execution_count": 113,
   "id": "ea7999a5-e0cc-496e-a734-663cfe83f403",
   "metadata": {},
   "outputs": [
    {
     "data": {
      "text/plain": [
       "(11, 10)"
      ]
     },
     "execution_count": 113,
     "metadata": {},
     "output_type": "execute_result"
    }
   ],
   "source": [
    "a, b"
   ]
  },
  {
   "cell_type": "code",
   "execution_count": 114,
   "id": "cf913e93-a9d6-4b3f-b92e-62eda8ae4730",
   "metadata": {},
   "outputs": [
    {
     "data": {
      "text/plain": [
       "([1, 2, 3, 4], [1, 2, 3, 4, 5, 6])"
      ]
     },
     "execution_count": 114,
     "metadata": {},
     "output_type": "execute_result"
    }
   ],
   "source": [
    "li1, li2"
   ]
  },
  {
   "cell_type": "code",
   "execution_count": 115,
   "id": "60622514-214c-493b-8bc7-b112d26b103a",
   "metadata": {},
   "outputs": [],
   "source": [
    "li3 = li1.copy()"
   ]
  },
  {
   "cell_type": "code",
   "execution_count": 116,
   "id": "8ab07184-9dc1-4f43-b782-dd62cf7868a0",
   "metadata": {},
   "outputs": [],
   "source": [
    "li1.append(5)"
   ]
  },
  {
   "cell_type": "code",
   "execution_count": 117,
   "id": "15848169-c47f-49ad-a1d4-b341ee722ffd",
   "metadata": {},
   "outputs": [
    {
     "data": {
      "text/plain": [
       "([1, 2, 3, 4, 5], [1, 2, 3, 4, 5, 6], [1, 2, 3, 4])"
      ]
     },
     "execution_count": 117,
     "metadata": {},
     "output_type": "execute_result"
    }
   ],
   "source": [
    "li1, li2, li3"
   ]
  },
  {
   "cell_type": "code",
   "execution_count": 118,
   "id": "9d9a4b43-dc4d-4670-b7a9-74c07dbfc633",
   "metadata": {},
   "outputs": [],
   "source": [
    "li1[0] = 10"
   ]
  },
  {
   "cell_type": "code",
   "execution_count": 119,
   "id": "8b3d64fb-a8f4-4803-9bbc-c9cccb913bea",
   "metadata": {},
   "outputs": [
    {
     "data": {
      "text/plain": [
       "([10, 2, 3, 4, 5], [1, 2, 3, 4, 5, 6], [1, 2, 3, 4])"
      ]
     },
     "execution_count": 119,
     "metadata": {},
     "output_type": "execute_result"
    }
   ],
   "source": [
    "li1, li2, li3"
   ]
  },
  {
   "cell_type": "code",
   "execution_count": 120,
   "id": "c088e383-50e6-4b89-a672-03eac3a55506",
   "metadata": {},
   "outputs": [],
   "source": [
    "li1.insert(0,11)"
   ]
  },
  {
   "cell_type": "code",
   "execution_count": 124,
   "id": "7fba4649-04f6-415c-90e1-92c4ec61ce0b",
   "metadata": {},
   "outputs": [],
   "source": [
    "li1.insert(2,13)"
   ]
  },
  {
   "cell_type": "code",
   "execution_count": 125,
   "id": "e3facb05-a809-4460-906a-d6753b2245e1",
   "metadata": {},
   "outputs": [
    {
     "data": {
      "text/plain": [
       "[11, 10, 13, 2, 3, 4, 5]"
      ]
     },
     "execution_count": 125,
     "metadata": {},
     "output_type": "execute_result"
    }
   ],
   "source": [
    "li1"
   ]
  },
  {
   "cell_type": "code",
   "execution_count": 126,
   "id": "91f77852-1cbb-4c3a-94e2-88f20f8689ce",
   "metadata": {},
   "outputs": [],
   "source": [
    "li1.append([6,7])"
   ]
  },
  {
   "cell_type": "code",
   "execution_count": 127,
   "id": "b4b93aed-c63d-4527-a541-455af9179795",
   "metadata": {},
   "outputs": [],
   "source": [
    "li1.extend([8,9])"
   ]
  },
  {
   "cell_type": "code",
   "execution_count": 128,
   "id": "85982331-67ca-4afd-a952-7cb9ebbd2b0b",
   "metadata": {},
   "outputs": [
    {
     "data": {
      "text/plain": [
       "[11, 10, 13, 2, 3, 4, 5, [6, 7], 8, 9]"
      ]
     },
     "execution_count": 128,
     "metadata": {},
     "output_type": "execute_result"
    }
   ],
   "source": [
    "li1"
   ]
  },
  {
   "cell_type": "code",
   "execution_count": 129,
   "id": "81daa5a3-38a6-43ec-bbc9-49744e2a79d8",
   "metadata": {},
   "outputs": [],
   "source": [
    "li1.remove([6,7])"
   ]
  },
  {
   "cell_type": "code",
   "execution_count": 131,
   "id": "e5edeeac-af61-4d4d-b83c-03bcc2a9bde9",
   "metadata": {},
   "outputs": [
    {
     "data": {
      "text/plain": [
       "[11, 10, 13, 2, 3, 4, 5, 8, 9]"
      ]
     },
     "execution_count": 131,
     "metadata": {},
     "output_type": "execute_result"
    }
   ],
   "source": [
    "li1"
   ]
  },
  {
   "cell_type": "code",
   "execution_count": 135,
   "id": "12bde10a-7fa2-49ce-91e3-6c4e7616dc7f",
   "metadata": {},
   "outputs": [],
   "source": [
    "li1.insert(8,7)"
   ]
  },
  {
   "cell_type": "code",
   "execution_count": 136,
   "id": "4461cb61-eb68-4b85-a574-c50fbcf810be",
   "metadata": {},
   "outputs": [],
   "source": [
    "li1.insert(8,6)"
   ]
  },
  {
   "cell_type": "code",
   "execution_count": 137,
   "id": "bacf0374-0666-468e-a904-1eb74f0347fe",
   "metadata": {},
   "outputs": [
    {
     "data": {
      "text/plain": [
       "[11, 10, 13, 2, 3, 4, 5, 8, 6, 7, 6, 7, 9]"
      ]
     },
     "execution_count": 137,
     "metadata": {},
     "output_type": "execute_result"
    }
   ],
   "source": [
    "li1"
   ]
  },
  {
   "cell_type": "code",
   "execution_count": 151,
   "id": "3a663b06-f78d-4c16-b818-53063c9c0b5e",
   "metadata": {},
   "outputs": [
    {
     "name": "stdout",
     "output_type": "stream",
     "text": [
      "11\n",
      "10\n",
      "13\n",
      "2\n",
      "3\n",
      "4\n",
      "5\n",
      "8\n",
      "6\n",
      "7\n",
      "6\n",
      "7\n",
      "9\n",
      "Success!!\n"
     ]
    }
   ],
   "source": [
    "for i in range(100):\n",
    "    if i < len(li1):\n",
    "        print(li1[i])\n",
    "    else:\n",
    "        pass\n",
    "print('Success!!')"
   ]
  },
  {
   "cell_type": "code",
   "execution_count": 150,
   "id": "3deb700c-34a0-4521-9d17-c703c0ba1122",
   "metadata": {},
   "outputs": [
    {
     "name": "stdout",
     "output_type": "stream",
     "text": [
      "11\n",
      "10\n",
      "13\n",
      "2\n",
      "3\n",
      "4\n",
      "5\n",
      "8\n",
      "6\n",
      "7\n",
      "6\n",
      "7\n",
      "9\n",
      "Success!!\n"
     ]
    }
   ],
   "source": [
    "j = 0\n",
    "for i in li1:\n",
    "    print(li1[j])\n",
    "    j += 1\n",
    "print('Success!!')"
   ]
  },
  {
   "cell_type": "code",
   "execution_count": null,
   "id": "1a326cbb-04b5-48db-91b9-8524bb2bf2e3",
   "metadata": {},
   "outputs": [],
   "source": [
    "li1.inster(0,10)"
   ]
  },
  {
   "cell_type": "code",
   "execution_count": 152,
   "id": "8f9e826d-9960-4da0-b502-958d9c668674",
   "metadata": {},
   "outputs": [],
   "source": [
    "x = (11, 12)\n",
    "c, d = x"
   ]
  },
  {
   "cell_type": "code",
   "execution_count": 153,
   "id": "fb971c4d-70ad-4d94-847d-0c1a2e73b726",
   "metadata": {},
   "outputs": [
    {
     "data": {
      "text/plain": [
       "12"
      ]
     },
     "execution_count": 153,
     "metadata": {},
     "output_type": "execute_result"
    }
   ],
   "source": [
    "d"
   ]
  },
  {
   "cell_type": "code",
   "execution_count": 156,
   "id": "f4b1abac-f8bd-459e-a6a9-1b0f26150892",
   "metadata": {},
   "outputs": [],
   "source": [
    "x = (11, 12)\n",
    "_, c = x"
   ]
  },
  {
   "cell_type": "code",
   "execution_count": 157,
   "id": "0f779532-bba8-4599-a20a-639a7a9b4516",
   "metadata": {},
   "outputs": [
    {
     "data": {
      "text/plain": [
       "12"
      ]
     },
     "execution_count": 157,
     "metadata": {},
     "output_type": "execute_result"
    }
   ],
   "source": [
    "c"
   ]
  },
  {
   "cell_type": "code",
   "execution_count": 162,
   "id": "6c365e65-044f-49df-ae6b-9b7e16fd05ec",
   "metadata": {},
   "outputs": [
    {
     "name": "stdout",
     "output_type": "stream",
     "text": [
      "11\n",
      "10\n",
      "13\n",
      "2\n",
      "3\n",
      "4\n",
      "5\n",
      "8\n",
      "6\n",
      "7\n",
      "6\n",
      "7\n",
      "9\n",
      "Success\n"
     ]
    }
   ],
   "source": [
    "for i,_ in enumerate(li1):\n",
    "    print(li1[i])\n",
    "    \n",
    "print('Success')"
   ]
  },
  {
   "cell_type": "code",
   "execution_count": 163,
   "id": "0b3a9d87-fb7e-4460-9c4a-2a3250a5b68d",
   "metadata": {},
   "outputs": [
    {
     "name": "stdout",
     "output_type": "stream",
     "text": [
      "중요한건 꺾이지 않는 마음\n"
     ]
    }
   ],
   "source": [
    "print('중요한건 꺾이지 않는 마음')"
   ]
  },
  {
   "cell_type": "code",
   "execution_count": 164,
   "id": "cfb92d86-33ab-4887-b8b1-6451e9ad07bb",
   "metadata": {},
   "outputs": [
    {
     "data": {
      "text/plain": [
       "[11, 10, 13, 2, 3, 4, 5, 8, 6, 7, 6, 7, 9]"
      ]
     },
     "execution_count": 164,
     "metadata": {},
     "output_type": "execute_result"
    }
   ],
   "source": [
    "li1"
   ]
  },
  {
   "cell_type": "code",
   "execution_count": 165,
   "id": "7e316b65-702a-4271-8ccf-c50750c9e2f8",
   "metadata": {},
   "outputs": [],
   "source": [
    "li1 = [1,2,3]\n",
    "li2 = [3,4,5]"
   ]
  },
  {
   "cell_type": "code",
   "execution_count": 166,
   "id": "5c2c9c4a-0709-4802-af92-d6e1b56e877b",
   "metadata": {},
   "outputs": [
    {
     "data": {
      "text/plain": [
       "[1, 2, 3, 3, 4, 5]"
      ]
     },
     "execution_count": 166,
     "metadata": {},
     "output_type": "execute_result"
    }
   ],
   "source": [
    "li1 + li2"
   ]
  },
  {
   "cell_type": "code",
   "execution_count": 167,
   "id": "856e065d-f03d-48c2-8f9a-3ffe5843b665",
   "metadata": {},
   "outputs": [
    {
     "data": {
      "text/plain": [
       "[1, 2, 3, 3, 4, 5, 3]"
      ]
     },
     "execution_count": 167,
     "metadata": {},
     "output_type": "execute_result"
    }
   ],
   "source": [
    "li1 + li2 + [3]"
   ]
  },
  {
   "cell_type": "code",
   "execution_count": 168,
   "id": "f91e6624-c4c1-43b5-a0ce-2e3fcc086360",
   "metadata": {},
   "outputs": [
    {
     "data": {
      "text/plain": [
       "[1, 2, 3, 1, 2, 3, 1, 2, 3]"
      ]
     },
     "execution_count": 168,
     "metadata": {},
     "output_type": "execute_result"
    }
   ],
   "source": [
    "li1 * 3"
   ]
  },
  {
   "cell_type": "code",
   "execution_count": 170,
   "id": "99269355-67d3-4899-85c3-1ab315288298",
   "metadata": {},
   "outputs": [],
   "source": [
    "l = [1,2,3,4,5]"
   ]
  },
  {
   "cell_type": "code",
   "execution_count": 171,
   "id": "54b31e34-e289-41df-b9db-b563a33bd07a",
   "metadata": {},
   "outputs": [
    {
     "data": {
      "text/plain": [
       "1"
      ]
     },
     "execution_count": 171,
     "metadata": {},
     "output_type": "execute_result"
    }
   ],
   "source": [
    "l.pop(0)"
   ]
  },
  {
   "cell_type": "code",
   "execution_count": 172,
   "id": "c68e7265-9134-46ee-8e58-8ef615b23967",
   "metadata": {},
   "outputs": [
    {
     "data": {
      "text/plain": [
       "[2, 3, 4, 5]"
      ]
     },
     "execution_count": 172,
     "metadata": {},
     "output_type": "execute_result"
    }
   ],
   "source": [
    "l"
   ]
  },
  {
   "cell_type": "code",
   "execution_count": 173,
   "id": "b6f116a3-502e-49ea-b15d-559dfa9c4176",
   "metadata": {},
   "outputs": [],
   "source": [
    "del l[0]"
   ]
  },
  {
   "cell_type": "code",
   "execution_count": 174,
   "id": "3944f96c-08a3-4a38-8f87-769eb118f229",
   "metadata": {},
   "outputs": [
    {
     "data": {
      "text/plain": [
       "[3, 4, 5]"
      ]
     },
     "execution_count": 174,
     "metadata": {},
     "output_type": "execute_result"
    }
   ],
   "source": [
    "l"
   ]
  },
  {
   "cell_type": "code",
   "execution_count": 175,
   "id": "dcaecaae-2d2f-4c8b-9144-50346911ce01",
   "metadata": {},
   "outputs": [],
   "source": [
    "l = [1,2,1,2,2]"
   ]
  },
  {
   "cell_type": "code",
   "execution_count": 176,
   "id": "7cf5f881-26dd-4f16-a172-57afc4fd31f9",
   "metadata": {},
   "outputs": [],
   "source": [
    "l.remove(2)"
   ]
  },
  {
   "cell_type": "code",
   "execution_count": 177,
   "id": "f3f8ffa0-eb33-4a9f-8e8a-8e1f00aaf341",
   "metadata": {},
   "outputs": [],
   "source": [
    "l.remove(2)"
   ]
  },
  {
   "cell_type": "code",
   "execution_count": 178,
   "id": "ffdcd352-9a50-4b79-b3d4-c59c03871098",
   "metadata": {},
   "outputs": [],
   "source": [
    "l.clear()"
   ]
  },
  {
   "cell_type": "code",
   "execution_count": 179,
   "id": "d22a75f8-f77b-491e-840c-a1020cbda95e",
   "metadata": {},
   "outputs": [
    {
     "data": {
      "text/plain": [
       "[]"
      ]
     },
     "execution_count": 179,
     "metadata": {},
     "output_type": "execute_result"
    }
   ],
   "source": [
    "l"
   ]
  },
  {
   "cell_type": "code",
   "execution_count": 180,
   "id": "98a4de03-4aa6-4b22-8ba8-3ef699b72ee9",
   "metadata": {},
   "outputs": [],
   "source": [
    "l = [1,2,3]"
   ]
  },
  {
   "cell_type": "code",
   "execution_count": 181,
   "id": "c788a71f-5475-4ed6-a273-7209568816af",
   "metadata": {},
   "outputs": [
    {
     "data": {
      "text/plain": [
       "False"
      ]
     },
     "execution_count": 181,
     "metadata": {},
     "output_type": "execute_result"
    }
   ],
   "source": [
    "1 not in l "
   ]
  },
  {
   "cell_type": "code",
   "execution_count": 182,
   "id": "01eb8cbf-280d-4cba-b6a9-0c482726a3d5",
   "metadata": {},
   "outputs": [
    {
     "data": {
      "text/plain": [
       "False"
      ]
     },
     "execution_count": 182,
     "metadata": {},
     "output_type": "execute_result"
    }
   ],
   "source": [
    "not(1 in l)"
   ]
  },
  {
   "cell_type": "code",
   "execution_count": 183,
   "id": "a928a4dc-10ec-4477-911a-79f13b61e153",
   "metadata": {},
   "outputs": [
    {
     "data": {
      "text/plain": [
       "range(0, 10)"
      ]
     },
     "execution_count": 183,
     "metadata": {},
     "output_type": "execute_result"
    }
   ],
   "source": [
    "range(10)"
   ]
  },
  {
   "cell_type": "code",
   "execution_count": 184,
   "id": "949e17f0-af58-48e4-a725-1d4f45a7294a",
   "metadata": {},
   "outputs": [
    {
     "data": {
      "text/plain": [
       "[0, 1, 2, 3, 4, 5, 6, 7, 8, 9]"
      ]
     },
     "execution_count": 184,
     "metadata": {},
     "output_type": "execute_result"
    }
   ],
   "source": [
    "list(range(10))"
   ]
  },
  {
   "cell_type": "code",
   "execution_count": 186,
   "id": "ab51cec0-c0ef-4d47-8527-057b9f2095f2",
   "metadata": {},
   "outputs": [
    {
     "data": {
      "text/plain": [
       "[10, 9, 8, 7, 6, 5, 4, 3, 2, 1]"
      ]
     },
     "execution_count": 186,
     "metadata": {},
     "output_type": "execute_result"
    }
   ],
   "source": [
    "list(range(10,0,-1))"
   ]
  },
  {
   "cell_type": "code",
   "execution_count": 187,
   "id": "9e1c7957-f5f8-4434-9675-42e156150f25",
   "metadata": {},
   "outputs": [
    {
     "name": "stdout",
     "output_type": "stream",
     "text": [
      "10\n",
      "10\n",
      "10\n",
      "10\n",
      "10\n"
     ]
    }
   ],
   "source": [
    "j = 10\n",
    "for i in [1,2,3,4,5]:\n",
    "    print(j)"
   ]
  },
  {
   "cell_type": "code",
   "execution_count": 200,
   "id": "18bbfb73-7d77-4908-81f0-e18d73415b24",
   "metadata": {},
   "outputs": [],
   "source": [
    "# 1~100까지 더하기\n",
    "s = 0\n",
    "for i in range(1,101):\n",
    "    s += i"
   ]
  },
  {
   "cell_type": "code",
   "execution_count": 201,
   "id": "3134e854-7c88-4c96-8709-ad54c76e1301",
   "metadata": {},
   "outputs": [
    {
     "data": {
      "text/plain": [
       "5050"
      ]
     },
     "execution_count": 201,
     "metadata": {},
     "output_type": "execute_result"
    }
   ],
   "source": [
    "s"
   ]
  },
  {
   "cell_type": "code",
   "execution_count": 202,
   "id": "893e92eb-744e-4c7e-b24d-2ad354422eea",
   "metadata": {},
   "outputs": [],
   "source": [
    "# 짝수만 더하기\n",
    "s1 = 0\n",
    "for i in list(range(0,101,2)):\n",
    "    s1 += i"
   ]
  },
  {
   "cell_type": "code",
   "execution_count": 203,
   "id": "a25bff09-82a1-4e1b-980a-dfb759d50f8b",
   "metadata": {},
   "outputs": [
    {
     "data": {
      "text/plain": [
       "2550"
      ]
     },
     "execution_count": 203,
     "metadata": {},
     "output_type": "execute_result"
    }
   ],
   "source": [
    "s1"
   ]
  },
  {
   "cell_type": "code",
   "execution_count": 204,
   "id": "22b79244-5fe1-493a-ac3c-cf55757eeb19",
   "metadata": {},
   "outputs": [],
   "source": [
    "s2 = 0\n",
    "for i in range(100):\n",
    "    if str(i)[-1] in ['1', '3', '5', '7', '9']:\n",
    "        s2 +=i"
   ]
  },
  {
   "cell_type": "code",
   "execution_count": 205,
   "id": "65edd1eb-c4fa-479f-9df5-9289e4395eac",
   "metadata": {},
   "outputs": [
    {
     "data": {
      "text/plain": [
       "2500"
      ]
     },
     "execution_count": 205,
     "metadata": {},
     "output_type": "execute_result"
    }
   ],
   "source": [
    "s2"
   ]
  },
  {
   "cell_type": "code",
   "execution_count": 206,
   "id": "2092c59f-453f-4042-9e7a-b13fc0570f23",
   "metadata": {},
   "outputs": [
    {
     "data": {
      "text/plain": [
       "5050"
      ]
     },
     "execution_count": 206,
     "metadata": {},
     "output_type": "execute_result"
    }
   ],
   "source": [
    "s1 + s2"
   ]
  },
  {
   "cell_type": "code",
   "execution_count": 213,
   "id": "a97ae74a-fde2-4457-bf3a-bcf9631f9527",
   "metadata": {},
   "outputs": [],
   "source": [
    "# 단하나도 모르겠는걸? \n",
    "# 0~99까지 숫자 중에서\n",
    "# 2의 2를 곱해서 더하고 3의 배수이면 3을 곱해서 더하고\n",
    "# 6의 배수이면 6을 곱해서 뺴기\n",
    "s = 0\n",
    "for i in range(100):\n",
    "    if i % 6 ==0:\n",
    "        s -= 6*i\n",
    "    elif i % 2 == 0:\n",
    "        s += 2*i\n",
    "    elif i % 3 == 0:\n",
    "        s += 3*i"
   ]
  },
  {
   "cell_type": "code",
   "execution_count": 214,
   "id": "8342f5a2-7f36-404c-8f10-9d0361a32652",
   "metadata": {},
   "outputs": [
    {
     "data": {
      "text/plain": [
       "973"
      ]
     },
     "execution_count": 214,
     "metadata": {},
     "output_type": "execute_result"
    }
   ],
   "source": [
    "s"
   ]
  },
  {
   "cell_type": "code",
   "execution_count": 215,
   "id": "53349143-e1f8-4a92-b933-c321b49335d0",
   "metadata": {},
   "outputs": [],
   "source": [
    "# 새로운 list - l1\n",
    "# 0~99 range 함수 사용해서\n",
    "# l1 = list(range(99))\n",
    "# for 구문을 사용하여 l1을 만들기"
   ]
  },
  {
   "cell_type": "code",
   "execution_count": 220,
   "id": "5a2e2668-7e65-4b70-9f8a-2819881bc278",
   "metadata": {},
   "outputs": [],
   "source": [
    "l1 = []\n",
    "for i in range(100):\n",
    "    l1.append(i)"
   ]
  },
  {
   "cell_type": "code",
   "execution_count": 221,
   "id": "cf8ab19c-d0ba-4fd4-ad52-c9d6295b6a7f",
   "metadata": {},
   "outputs": [
    {
     "data": {
      "text/plain": [
       "[0,\n",
       " 1,\n",
       " 2,\n",
       " 3,\n",
       " 4,\n",
       " 5,\n",
       " 6,\n",
       " 7,\n",
       " 8,\n",
       " 9,\n",
       " 10,\n",
       " 11,\n",
       " 12,\n",
       " 13,\n",
       " 14,\n",
       " 15,\n",
       " 16,\n",
       " 17,\n",
       " 18,\n",
       " 19,\n",
       " 20,\n",
       " 21,\n",
       " 22,\n",
       " 23,\n",
       " 24,\n",
       " 25,\n",
       " 26,\n",
       " 27,\n",
       " 28,\n",
       " 29,\n",
       " 30,\n",
       " 31,\n",
       " 32,\n",
       " 33,\n",
       " 34,\n",
       " 35,\n",
       " 36,\n",
       " 37,\n",
       " 38,\n",
       " 39,\n",
       " 40,\n",
       " 41,\n",
       " 42,\n",
       " 43,\n",
       " 44,\n",
       " 45,\n",
       " 46,\n",
       " 47,\n",
       " 48,\n",
       " 49,\n",
       " 50,\n",
       " 51,\n",
       " 52,\n",
       " 53,\n",
       " 54,\n",
       " 55,\n",
       " 56,\n",
       " 57,\n",
       " 58,\n",
       " 59,\n",
       " 60,\n",
       " 61,\n",
       " 62,\n",
       " 63,\n",
       " 64,\n",
       " 65,\n",
       " 66,\n",
       " 67,\n",
       " 68,\n",
       " 69,\n",
       " 70,\n",
       " 71,\n",
       " 72,\n",
       " 73,\n",
       " 74,\n",
       " 75,\n",
       " 76,\n",
       " 77,\n",
       " 78,\n",
       " 79,\n",
       " 80,\n",
       " 81,\n",
       " 82,\n",
       " 83,\n",
       " 84,\n",
       " 85,\n",
       " 86,\n",
       " 87,\n",
       " 88,\n",
       " 89,\n",
       " 90,\n",
       " 91,\n",
       " 92,\n",
       " 93,\n",
       " 94,\n",
       " 95,\n",
       " 96,\n",
       " 97,\n",
       " 98,\n",
       " 99]"
      ]
     },
     "execution_count": 221,
     "metadata": {},
     "output_type": "execute_result"
    }
   ],
   "source": [
    "l1"
   ]
  },
  {
   "cell_type": "code",
   "execution_count": 224,
   "id": "e4d84de5-64e7-487e-8f8f-82cc187dd32e",
   "metadata": {},
   "outputs": [],
   "source": [
    "# l2는 l1의 데이터 짝수만\n",
    "# l3는 l1 데이터의 홀수만 \n",
    "l2 = []\n",
    "l3 = []\n",
    "for i in l1:\n",
    "    if i % 2 == 0:\n",
    "        l2.append(i)\n",
    "    else:\n",
    "        l3.append(i)"
   ]
  },
  {
   "cell_type": "code",
   "execution_count": 227,
   "id": "92562c27-f6c4-44fa-8b09-75c17caa94b9",
   "metadata": {},
   "outputs": [],
   "source": [
    "import numpy as np\n",
    "np.random.seed(100)\n",
    "li = list(np.random.randint(1,100,50))"
   ]
  },
  {
   "cell_type": "code",
   "execution_count": 230,
   "id": "ec576632-e0ae-4e8b-9386-b3ae3e618346",
   "metadata": {},
   "outputs": [],
   "source": [
    "max_ = li[0]\n",
    "for i in li:\n",
    "    if max_ <= i:\n",
    "        max_ = i"
   ]
  },
  {
   "cell_type": "code",
   "execution_count": 231,
   "id": "31e0468a-fa70-442d-adaa-8495471e1d5c",
   "metadata": {},
   "outputs": [
    {
     "data": {
      "text/plain": [
       "99"
      ]
     },
     "execution_count": 231,
     "metadata": {},
     "output_type": "execute_result"
    }
   ],
   "source": [
    "max_"
   ]
  },
  {
   "cell_type": "code",
   "execution_count": 232,
   "id": "493052f8-d727-46d1-9889-7d71225bd04d",
   "metadata": {},
   "outputs": [
    {
     "data": {
      "text/plain": [
       "True"
      ]
     },
     "execution_count": 232,
     "metadata": {},
     "output_type": "execute_result"
    }
   ],
   "source": [
    "'h' in 'hello yuuni yuuni'"
   ]
  },
  {
   "cell_type": "code",
   "execution_count": 237,
   "id": "47ceb847-9819-4c01-9179-64d87f75445a",
   "metadata": {},
   "outputs": [
    {
     "data": {
      "text/plain": [
       "False"
      ]
     },
     "execution_count": 237,
     "metadata": {},
     "output_type": "execute_result"
    }
   ],
   "source": [
    "str_ = 'h'\n",
    "# logic = False\n",
    "for i in 'hello yuuni':\n",
    "    if str_ == i:\n",
    "        logic = True\n",
    "    else:\n",
    "        logic = False\n",
    "logic"
   ]
  },
  {
   "cell_type": "code",
   "execution_count": 238,
   "id": "1a0b2a3e-75b9-40a5-9f5b-3c74acb09dc7",
   "metadata": {},
   "outputs": [
    {
     "data": {
      "text/plain": [
       "1"
      ]
     },
     "execution_count": 238,
     "metadata": {},
     "output_type": "execute_result"
    }
   ],
   "source": [
    "'hello yuuni'.find('e')"
   ]
  },
  {
   "cell_type": "code",
   "execution_count": 244,
   "id": "4242ca5f-a14e-4a80-b09e-685604df3111",
   "metadata": {},
   "outputs": [],
   "source": [
    "str_ = 'y'\n",
    "for i in 'hello yuuni':\n",
    "    if i != str_:\n",
    "        j += 1\n",
    "    else:\n",
    "        break\n",
    "    "
   ]
  },
  {
   "cell_type": "code",
   "execution_count": 247,
   "id": "b15728f9-f190-4d7f-89dd-31ae7c701e67",
   "metadata": {},
   "outputs": [
    {
     "data": {
      "text/plain": [
       "27"
      ]
     },
     "execution_count": 247,
     "metadata": {},
     "output_type": "execute_result"
    }
   ],
   "source": [
    "j"
   ]
  },
  {
   "cell_type": "code",
   "execution_count": 249,
   "id": "5c5072fa-f123-4770-a503-90832a3166e2",
   "metadata": {},
   "outputs": [
    {
     "ename": "SyntaxError",
     "evalue": "invalid syntax (2909197551.py, line 2)",
     "output_type": "error",
     "traceback": [
      "\u001b[1;36m  File \u001b[1;32m\"C:\\Users\\bjlov\\AppData\\Local\\Temp\\ipykernel_4776\\2909197551.py\"\u001b[1;36m, line \u001b[1;32m2\u001b[0m\n\u001b[1;33m    for i, v 'enumertae':\u001b[0m\n\u001b[1;37m             ^\u001b[0m\n\u001b[1;31mSyntaxError\u001b[0m\u001b[1;31m:\u001b[0m invalid syntax\n"
     ]
    }
   ],
   "source": [
    "str_ = 'y'\n",
    "for i, v 'enumertae':\n",
    "    if v != str_:\n",
    "        pass\n",
    "    else:\n",
    "        break\n",
    "i"
   ]
  },
  {
   "cell_type": "code",
   "execution_count": 260,
   "id": "36dc04ce-af29-4608-ae48-5bf2ea441c68",
   "metadata": {},
   "outputs": [
    {
     "name": "stdout",
     "output_type": "stream",
     "text": [
      "2 x 1 = 2\n",
      "2 x 2 = 4\n",
      "2 x 3 = 6\n",
      "2 x 4 = 8\n",
      "2 x 5 = 10\n",
      "2 x 6 = 12\n",
      "2 x 7 = 14\n",
      "2 x 8 = 16\n",
      "2 x 9 = 18\n",
      "3 x 1 = 3\n",
      "3 x 2 = 6\n",
      "3 x 3 = 9\n",
      "3 x 4 = 12\n",
      "3 x 5 = 15\n",
      "3 x 6 = 18\n",
      "3 x 7 = 21\n",
      "3 x 8 = 24\n",
      "3 x 9 = 27\n",
      "4 x 1 = 4\n",
      "4 x 2 = 8\n",
      "4 x 3 = 12\n",
      "4 x 4 = 16\n",
      "4 x 5 = 20\n",
      "4 x 6 = 24\n",
      "4 x 7 = 28\n",
      "4 x 8 = 32\n",
      "4 x 9 = 36\n",
      "5 x 1 = 5\n",
      "5 x 2 = 10\n",
      "5 x 3 = 15\n",
      "5 x 4 = 20\n",
      "5 x 5 = 25\n",
      "5 x 6 = 30\n",
      "5 x 7 = 35\n",
      "5 x 8 = 40\n",
      "5 x 9 = 45\n",
      "6 x 1 = 6\n",
      "6 x 2 = 12\n",
      "6 x 3 = 18\n",
      "6 x 4 = 24\n",
      "6 x 5 = 30\n",
      "6 x 6 = 36\n",
      "6 x 7 = 42\n",
      "6 x 8 = 48\n",
      "6 x 9 = 54\n",
      "7 x 1 = 7\n",
      "7 x 2 = 14\n",
      "7 x 3 = 21\n",
      "7 x 4 = 28\n",
      "7 x 5 = 35\n",
      "7 x 6 = 42\n",
      "7 x 7 = 49\n",
      "7 x 8 = 56\n",
      "7 x 9 = 63\n",
      "8 x 1 = 8\n",
      "8 x 2 = 16\n",
      "8 x 3 = 24\n",
      "8 x 4 = 32\n",
      "8 x 5 = 40\n",
      "8 x 6 = 48\n",
      "8 x 7 = 56\n",
      "8 x 8 = 64\n",
      "8 x 9 = 72\n",
      "9 x 1 = 9\n",
      "9 x 2 = 18\n",
      "9 x 3 = 27\n",
      "9 x 4 = 36\n",
      "9 x 5 = 45\n",
      "9 x 6 = 54\n",
      "9 x 7 = 63\n",
      "9 x 8 = 72\n",
      "9 x 9 = 81\n"
     ]
    }
   ],
   "source": [
    "# 이중 for 구구단\n",
    "for i in range(2,10):\n",
    "    for j in range(1,10):\n",
    "        print(i,'x',j,'=',i*j)\n",
    "        "
   ]
  },
  {
   "cell_type": "code",
   "execution_count": 261,
   "id": "ea90da7b-c1a6-407c-a0d2-64d3f3affdf4",
   "metadata": {},
   "outputs": [
    {
     "name": "stdout",
     "output_type": "stream",
     "text": [
      "2단 입니다.===\n",
      "2 x 1 = 2\n",
      "2 x 2 = 4\n",
      "2 x 3 = 6\n",
      "2 x 4 = 8\n",
      "2 x 5 = 10\n",
      "2 x 6 = 12\n",
      "2 x 7 = 14\n",
      "2 x 8 = 16\n",
      "2 x 9 = 18\n",
      "3단 입니다.===\n",
      "3 x 1 = 3\n",
      "3 x 2 = 6\n",
      "3 x 3 = 9\n",
      "3 x 4 = 12\n",
      "3 x 5 = 15\n",
      "3 x 6 = 18\n",
      "3 x 7 = 21\n",
      "3 x 8 = 24\n",
      "3 x 9 = 27\n",
      "4단 입니다.===\n",
      "4 x 1 = 4\n",
      "4 x 2 = 8\n",
      "4 x 3 = 12\n",
      "4 x 4 = 16\n",
      "4 x 5 = 20\n",
      "4 x 6 = 24\n",
      "4 x 7 = 28\n",
      "4 x 8 = 32\n",
      "4 x 9 = 36\n",
      "5단 입니다.===\n",
      "5 x 1 = 5\n",
      "5 x 2 = 10\n",
      "5 x 3 = 15\n",
      "5 x 4 = 20\n",
      "5 x 5 = 25\n",
      "5 x 6 = 30\n",
      "5 x 7 = 35\n",
      "5 x 8 = 40\n",
      "5 x 9 = 45\n",
      "6단 입니다.===\n",
      "6 x 1 = 6\n",
      "6 x 2 = 12\n",
      "6 x 3 = 18\n",
      "6 x 4 = 24\n",
      "6 x 5 = 30\n",
      "6 x 6 = 36\n",
      "6 x 7 = 42\n",
      "6 x 8 = 48\n",
      "6 x 9 = 54\n",
      "7단 입니다.===\n",
      "7 x 1 = 7\n",
      "7 x 2 = 14\n",
      "7 x 3 = 21\n",
      "7 x 4 = 28\n",
      "7 x 5 = 35\n",
      "7 x 6 = 42\n",
      "7 x 7 = 49\n",
      "7 x 8 = 56\n",
      "7 x 9 = 63\n",
      "8단 입니다.===\n",
      "8 x 1 = 8\n",
      "8 x 2 = 16\n",
      "8 x 3 = 24\n",
      "8 x 4 = 32\n",
      "8 x 5 = 40\n",
      "8 x 6 = 48\n",
      "8 x 7 = 56\n",
      "8 x 8 = 64\n",
      "8 x 9 = 72\n",
      "9단 입니다.===\n",
      "9 x 1 = 9\n",
      "9 x 2 = 18\n",
      "9 x 3 = 27\n",
      "9 x 4 = 36\n",
      "9 x 5 = 45\n",
      "9 x 6 = 54\n",
      "9 x 7 = 63\n",
      "9 x 8 = 72\n",
      "9 x 9 = 81\n"
     ]
    }
   ],
   "source": [
    "for i in range(2,10):\n",
    "    print(f'{i}단 입니다.===')\n",
    "    for j in range(1,10):\n",
    "        \n",
    "        print(f'{i} x {j} = {i*j}')"
   ]
  },
  {
   "cell_type": "code",
   "execution_count": 262,
   "id": "1d3b32ba-005f-4f9a-a073-2ccbaee158dd",
   "metadata": {},
   "outputs": [],
   "source": [
    "li = [[1,2,3],\n",
    "     [4,5,6,7],\n",
    "     [8,9]]"
   ]
  },
  {
   "cell_type": "markdown",
   "id": "912c3a70-5dd5-465b-9c99-9f2bfa16c5dd",
   "metadata": {},
   "source": [
    "# for i in li:\n",
    "    for j in i:\n",
    "        print(j)\n",
    "#         맞네예 알고보니 개쉽네 "
   ]
  },
  {
   "cell_type": "code",
   "execution_count": 270,
   "id": "9a09e5b1-785e-4a41-9b9f-b26094198495",
   "metadata": {},
   "outputs": [],
   "source": [
    "import numpy as np\n",
    "np.random.seed(100)\n",
    "li = list(np.random.randint(20,100,100))"
   ]
  },
  {
   "cell_type": "code",
   "execution_count": 274,
   "id": "54a5a534-526a-4fb5-827a-ecb17b4ae066",
   "metadata": {},
   "outputs": [],
   "source": [
    "li.sort()"
   ]
  },
  {
   "cell_type": "code",
   "execution_count": 276,
   "id": "500cbad3-047c-499f-aaae-17106cccbd3f",
   "metadata": {},
   "outputs": [
    {
     "data": {
      "text/plain": [
       "[20,\n",
       " 20,\n",
       " 21,\n",
       " 22,\n",
       " 22,\n",
       " 23,\n",
       " 23,\n",
       " 23,\n",
       " 24,\n",
       " 24,\n",
       " 25,\n",
       " 27,\n",
       " 28,\n",
       " 29,\n",
       " 29,\n",
       " 30,\n",
       " 30,\n",
       " 33,\n",
       " 33,\n",
       " 33,\n",
       " 34,\n",
       " 34,\n",
       " 35,\n",
       " 36,\n",
       " 37,\n",
       " 37,\n",
       " 38,\n",
       " 39,\n",
       " 39,\n",
       " 41,\n",
       " 42,\n",
       " 43,\n",
       " 44,\n",
       " 44,\n",
       " 45,\n",
       " 47,\n",
       " 47,\n",
       " 50,\n",
       " 50,\n",
       " 51,\n",
       " 53,\n",
       " 54,\n",
       " 54,\n",
       " 55,\n",
       " 56,\n",
       " 58,\n",
       " 58,\n",
       " 59,\n",
       " 62,\n",
       " 62,\n",
       " 63,\n",
       " 64,\n",
       " 67,\n",
       " 67,\n",
       " 68,\n",
       " 68,\n",
       " 68,\n",
       " 68,\n",
       " 69,\n",
       " 70,\n",
       " 70,\n",
       " 72,\n",
       " 72,\n",
       " 73,\n",
       " 73,\n",
       " 73,\n",
       " 73,\n",
       " 73,\n",
       " 73,\n",
       " 75,\n",
       " 75,\n",
       " 76,\n",
       " 76,\n",
       " 77,\n",
       " 78,\n",
       " 78,\n",
       " 79,\n",
       " 80,\n",
       " 80,\n",
       " 81,\n",
       " 82,\n",
       " 83,\n",
       " 84,\n",
       " 85,\n",
       " 86,\n",
       " 87,\n",
       " 87,\n",
       " 88,\n",
       " 88,\n",
       " 88,\n",
       " 90,\n",
       " 91,\n",
       " 91,\n",
       " 92,\n",
       " 94,\n",
       " 96,\n",
       " 96,\n",
       " 98,\n",
       " 99,\n",
       " 99]"
      ]
     },
     "execution_count": 276,
     "metadata": {},
     "output_type": "execute_result"
    }
   ],
   "source": [
    "li"
   ]
  },
  {
   "cell_type": "code",
   "execution_count": 284,
   "id": "27b78262-0756-41e9-94be-7eb5442f26ea",
   "metadata": {},
   "outputs": [
    {
     "data": {
      "text/plain": [
       "<function list.reverse()>"
      ]
     },
     "execution_count": 284,
     "metadata": {},
     "output_type": "execute_result"
    }
   ],
   "source": [
    "li.reverse"
   ]
  },
  {
   "cell_type": "code",
   "execution_count": 285,
   "id": "22a9e5ce-910a-4981-91ea-264c50dd3ea8",
   "metadata": {},
   "outputs": [],
   "source": [
    "import numpy as np\n",
    "np.random.seed(100)\n",
    "li = list(np.random.randint(20,100,100))"
   ]
  },
  {
   "cell_type": "code",
   "execution_count": 286,
   "id": "4816cabe-ed61-4d50-8762-35ab81d766e0",
   "metadata": {},
   "outputs": [
    {
     "data": {
      "text/plain": [
       "[28,\n",
       " 44,\n",
       " 87,\n",
       " 99,\n",
       " 68,\n",
       " 30,\n",
       " 72,\n",
       " 73,\n",
       " 86,\n",
       " 34,\n",
       " 54,\n",
       " 44,\n",
       " 35,\n",
       " 80,\n",
       " 78,\n",
       " 36,\n",
       " 29,\n",
       " 22,\n",
       " 47,\n",
       " 24,\n",
       " 51,\n",
       " 21,\n",
       " 33,\n",
       " 24,\n",
       " 79,\n",
       " 87,\n",
       " 27,\n",
       " 69,\n",
       " 67,\n",
       " 85,\n",
       " 81,\n",
       " 34,\n",
       " 75,\n",
       " 91,\n",
       " 22,\n",
       " 39,\n",
       " 83,\n",
       " 73,\n",
       " 47,\n",
       " 76,\n",
       " 50,\n",
       " 68,\n",
       " 67,\n",
       " 59,\n",
       " 58,\n",
       " 64,\n",
       " 38,\n",
       " 84,\n",
       " 76,\n",
       " 54,\n",
       " 73,\n",
       " 94,\n",
       " 37,\n",
       " 92,\n",
       " 33,\n",
       " 50,\n",
       " 37,\n",
       " 73,\n",
       " 88,\n",
       " 70,\n",
       " 73,\n",
       " 98,\n",
       " 20,\n",
       " 33,\n",
       " 77,\n",
       " 96,\n",
       " 23,\n",
       " 90,\n",
       " 23,\n",
       " 99,\n",
       " 30,\n",
       " 80,\n",
       " 23,\n",
       " 68,\n",
       " 72,\n",
       " 63,\n",
       " 56,\n",
       " 25,\n",
       " 91,\n",
       " 58,\n",
       " 62,\n",
       " 96,\n",
       " 53,\n",
       " 78,\n",
       " 62,\n",
       " 42,\n",
       " 20,\n",
       " 75,\n",
       " 39,\n",
       " 73,\n",
       " 88,\n",
       " 82,\n",
       " 70,\n",
       " 88,\n",
       " 55,\n",
       " 43,\n",
       " 29,\n",
       " 68,\n",
       " 41,\n",
       " 45]"
      ]
     },
     "execution_count": 286,
     "metadata": {},
     "output_type": "execute_result"
    }
   ],
   "source": [
    "li"
   ]
  },
  {
   "cell_type": "code",
   "execution_count": 287,
   "id": "619a75c7-40ac-4f12-82f4-8c835dbc2b70",
   "metadata": {},
   "outputs": [],
   "source": [
    "li[1], li[0] = li[0], li[1]\n",
    "# 순서 바꾸는 법 편한기능이라네요 "
   ]
  },
  {
   "cell_type": "code",
   "execution_count": 288,
   "id": "72997f6f-61c5-47a2-a082-c02ac24ed22b",
   "metadata": {},
   "outputs": [
    {
     "data": {
      "text/plain": [
       "[44,\n",
       " 28,\n",
       " 87,\n",
       " 99,\n",
       " 68,\n",
       " 30,\n",
       " 72,\n",
       " 73,\n",
       " 86,\n",
       " 34,\n",
       " 54,\n",
       " 44,\n",
       " 35,\n",
       " 80,\n",
       " 78,\n",
       " 36,\n",
       " 29,\n",
       " 22,\n",
       " 47,\n",
       " 24,\n",
       " 51,\n",
       " 21,\n",
       " 33,\n",
       " 24,\n",
       " 79,\n",
       " 87,\n",
       " 27,\n",
       " 69,\n",
       " 67,\n",
       " 85,\n",
       " 81,\n",
       " 34,\n",
       " 75,\n",
       " 91,\n",
       " 22,\n",
       " 39,\n",
       " 83,\n",
       " 73,\n",
       " 47,\n",
       " 76,\n",
       " 50,\n",
       " 68,\n",
       " 67,\n",
       " 59,\n",
       " 58,\n",
       " 64,\n",
       " 38,\n",
       " 84,\n",
       " 76,\n",
       " 54,\n",
       " 73,\n",
       " 94,\n",
       " 37,\n",
       " 92,\n",
       " 33,\n",
       " 50,\n",
       " 37,\n",
       " 73,\n",
       " 88,\n",
       " 70,\n",
       " 73,\n",
       " 98,\n",
       " 20,\n",
       " 33,\n",
       " 77,\n",
       " 96,\n",
       " 23,\n",
       " 90,\n",
       " 23,\n",
       " 99,\n",
       " 30,\n",
       " 80,\n",
       " 23,\n",
       " 68,\n",
       " 72,\n",
       " 63,\n",
       " 56,\n",
       " 25,\n",
       " 91,\n",
       " 58,\n",
       " 62,\n",
       " 96,\n",
       " 53,\n",
       " 78,\n",
       " 62,\n",
       " 42,\n",
       " 20,\n",
       " 75,\n",
       " 39,\n",
       " 73,\n",
       " 88,\n",
       " 82,\n",
       " 70,\n",
       " 88,\n",
       " 55,\n",
       " 43,\n",
       " 29,\n",
       " 68,\n",
       " 41,\n",
       " 45]"
      ]
     },
     "execution_count": 288,
     "metadata": {},
     "output_type": "execute_result"
    }
   ],
   "source": [
    "li"
   ]
  },
  {
   "cell_type": "code",
   "execution_count": 289,
   "id": "db4d387a-8ccd-4052-9aac-ddf2a0e2b523",
   "metadata": {},
   "outputs": [
    {
     "ename": "NameError",
     "evalue": "name 'key1' is not defined",
     "output_type": "error",
     "traceback": [
      "\u001b[1;31m---------------------------------------------------------------------------\u001b[0m",
      "\u001b[1;31mNameError\u001b[0m                                 Traceback (most recent call last)",
      "\u001b[1;32m~\\AppData\\Local\\Temp\\ipykernel_4776\\3641500874.py\u001b[0m in \u001b[0;36m<module>\u001b[1;34m\u001b[0m\n\u001b[0;32m      1\u001b[0m dic = {\n\u001b[1;32m----> 2\u001b[1;33m     \u001b[0mkey1\u001b[0m\u001b[1;33m:\u001b[0m\u001b[0mvalue1\u001b[0m\u001b[1;33m,\u001b[0m\u001b[1;33m\u001b[0m\u001b[1;33m\u001b[0m\u001b[0m\n\u001b[0m\u001b[0;32m      3\u001b[0m     \u001b[0mkey2\u001b[0m\u001b[1;33m:\u001b[0m\u001b[0mvalue2\u001b[0m\u001b[1;33m,\u001b[0m\u001b[1;33m\u001b[0m\u001b[1;33m\u001b[0m\u001b[0m\n\u001b[0;32m      4\u001b[0m }\n\u001b[0;32m      5\u001b[0m \u001b[1;31m# 리스트 [] 딕셔너리 {}\u001b[0m\u001b[1;33m\u001b[0m\u001b[1;33m\u001b[0m\u001b[0m\n",
      "\u001b[1;31mNameError\u001b[0m: name 'key1' is not defined"
     ]
    }
   ],
   "source": [
    "dic = {\n",
    "    key1:value1,\n",
    "    key2:value2,\n",
    "}\n",
    "# 리스트 [] 딕셔너리 {}"
   ]
  },
  {
   "cell_type": "code",
   "execution_count": 290,
   "id": "d89a5f81-12df-4969-9f79-2896c3469608",
   "metadata": {},
   "outputs": [],
   "source": [
    "name_a = '유니유니'\n",
    "type_a = '버튜버'\n",
    "dic_a = {\n",
    "    'name':name_a,\n",
    "    'type':type_a,\n",
    "}"
   ]
  },
  {
   "cell_type": "code",
   "execution_count": 291,
   "id": "2f2a66bf-f097-45ec-8195-0631c40d267f",
   "metadata": {},
   "outputs": [
    {
     "data": {
      "text/plain": [
       "'버튜버'"
      ]
     },
     "execution_count": 291,
     "metadata": {},
     "output_type": "execute_result"
    }
   ],
   "source": [
    "dic_a.get('type')"
   ]
  },
  {
   "cell_type": "code",
   "execution_count": 292,
   "id": "9d17d801-ca82-43ad-8b6b-a6ebda37645a",
   "metadata": {},
   "outputs": [],
   "source": [
    "dic_a['type'] = '로맨틱'"
   ]
  },
  {
   "cell_type": "code",
   "execution_count": 293,
   "id": "3a838bfd-9b44-4c3c-950d-0f31f6be3225",
   "metadata": {},
   "outputs": [],
   "source": [
    "dic_a['type2'] = type_a"
   ]
  },
  {
   "cell_type": "code",
   "execution_count": 310,
   "id": "3060162b-7743-4e03-ad96-1f3114e6228b",
   "metadata": {},
   "outputs": [
    {
     "data": {
      "text/plain": [
       "{'name': '유니유니', 'type': '로맨틱', 'type2': '버튜버'}"
      ]
     },
     "execution_count": 310,
     "metadata": {},
     "output_type": "execute_result"
    }
   ],
   "source": [
    "dic_a"
   ]
  },
  {
   "cell_type": "code",
   "execution_count": 295,
   "id": "413a6ec1-59ad-40d4-a3bd-4d9586be3041",
   "metadata": {},
   "outputs": [
    {
     "data": {
      "text/plain": [
       "dict_keys(['name', 'type', 'type2'])"
      ]
     },
     "execution_count": 295,
     "metadata": {},
     "output_type": "execute_result"
    }
   ],
   "source": [
    "dic_a.keys()"
   ]
  },
  {
   "cell_type": "code",
   "execution_count": 296,
   "id": "db31338a-bd66-4d69-9156-ba207fc8dd3d",
   "metadata": {},
   "outputs": [
    {
     "data": {
      "text/plain": [
       "dict_values(['유니유니', '로맨틱', '버튜버'])"
      ]
     },
     "execution_count": 296,
     "metadata": {},
     "output_type": "execute_result"
    }
   ],
   "source": [
    "dic_a.values()"
   ]
  },
  {
   "cell_type": "code",
   "execution_count": 313,
   "id": "70a28627-61e9-4ba2-9469-15caa24ac548",
   "metadata": {},
   "outputs": [
    {
     "data": {
      "text/plain": [
       "dict_items([('name', '유니유니'), ('type', '로맨틱'), ('type2', '버튜버')])"
      ]
     },
     "execution_count": 313,
     "metadata": {},
     "output_type": "execute_result"
    }
   ],
   "source": [
    "dic_a.items()"
   ]
  },
  {
   "cell_type": "code",
   "execution_count": null,
   "id": "0ed23653-54f8-4123-8292-bfeec502ba09",
   "metadata": {},
   "outputs": [],
   "source": [
    "# dic_ = {\n",
    "    # key1:value,\n",
    "    # key2:value,\n",
    "# }"
   ]
  },
  {
   "cell_type": "code",
   "execution_count": 303,
   "id": "5354d133-2869-4403-9b76-74ed9f03030d",
   "metadata": {},
   "outputs": [
    {
     "data": {
      "text/plain": [
       "['name', 'type', 'type2']"
      ]
     },
     "execution_count": 303,
     "metadata": {},
     "output_type": "execute_result"
    }
   ],
   "source": [
    "list(dic_a.keys())"
   ]
  },
  {
   "cell_type": "code",
   "execution_count": 305,
   "id": "9ddb22c9-b565-4b19-b3ce-b1085cedbd12",
   "metadata": {},
   "outputs": [
    {
     "data": {
      "text/plain": [
       "['유니유니', '로맨틱', '버튜버']"
      ]
     },
     "execution_count": 305,
     "metadata": {},
     "output_type": "execute_result"
    }
   ],
   "source": [
    "list(dic_a.values())"
   ]
  },
  {
   "cell_type": "code",
   "execution_count": 306,
   "id": "7baa0f02-9251-4820-a2bc-85c8cc0fa8b2",
   "metadata": {},
   "outputs": [],
   "source": [
    "key = list(dic_a.keys())\n",
    "value = list(dic_a.values())"
   ]
  },
  {
   "cell_type": "code",
   "execution_count": 312,
   "id": "96cf6c34-b510-49f4-96f8-6f8b79180502",
   "metadata": {},
   "outputs": [
    {
     "name": "stdout",
     "output_type": "stream",
     "text": [
      "name 유니유니\n",
      "type 로맨틱\n",
      "type2 버튜버\n"
     ]
    }
   ],
   "source": [
    "for k,v in dict(zip(key,value)).items():\n",
    "    print(k,v)"
   ]
  },
  {
   "cell_type": "code",
   "execution_count": 316,
   "id": "cfcba55c-4063-41b4-8406-5c2e2898b41d",
   "metadata": {},
   "outputs": [],
   "source": [
    "dic_a = {\n",
    "    'name':'망고1',\n",
    "    'type':'당절임',\n",
    "    'ind':['망고', '설탕'],\n",
    "    'orgin':'필리핀'\n",
    "}"
   ]
  },
  {
   "cell_type": "code",
   "execution_count": 326,
   "id": "68927106-c7f2-4249-8d37-c7ca16e29aa2",
   "metadata": {},
   "outputs": [],
   "source": [
    "dic_b = {\n",
    "    'name':'망고1',\n",
    "    'type':'당절임',\n",
    "    'ind':{'주재료':'망고','부재료':'설탕'},\n",
    "    'orgin':'타이완',\n",
    "}"
   ]
  },
  {
   "cell_type": "code",
   "execution_count": 327,
   "id": "52a1c67f-b370-49c1-a5a0-5ac9469c6385",
   "metadata": {},
   "outputs": [],
   "source": [
    "dic = {\n",
    "    'product1':dic_a,\n",
    "    'product2':dic_b,\n",
    "}"
   ]
  },
  {
   "cell_type": "code",
   "execution_count": 328,
   "id": "45570ca5-68f7-4a80-92be-4dca6a0abae1",
   "metadata": {},
   "outputs": [
    {
     "data": {
      "text/plain": [
       "{'product1': {'name': '망고1',\n",
       "  'type': '당절임',\n",
       "  'ind': ['망고', '설탕'],\n",
       "  'orgin': '타이완'},\n",
       " 'product2': {'name': '망고1',\n",
       "  'type': '당절임',\n",
       "  'ind': {'주재료': '망고', '부재료': '설탕'},\n",
       "  'orgin': '타이완'}}"
      ]
     },
     "execution_count": 328,
     "metadata": {},
     "output_type": "execute_result"
    }
   ],
   "source": [
    "dic"
   ]
  },
  {
   "cell_type": "code",
   "execution_count": 329,
   "id": "75cf0c85-2386-423c-92da-9ed417a32d12",
   "metadata": {},
   "outputs": [
    {
     "data": {
      "text/plain": [
       "'망고'"
      ]
     },
     "execution_count": 329,
     "metadata": {},
     "output_type": "execute_result"
    }
   ],
   "source": [
    "dic['product1']['ind'][0]"
   ]
  },
  {
   "cell_type": "code",
   "execution_count": 330,
   "id": "5058ebf7-1476-4410-acb1-fa61ff7ee688",
   "metadata": {},
   "outputs": [
    {
     "data": {
      "text/plain": [
       "{'name': '망고1',\n",
       " 'type': '당절임',\n",
       " 'ind': {'주재료': '망고', '부재료': '설탕'},\n",
       " 'orgin': '타이완'}"
      ]
     },
     "execution_count": 330,
     "metadata": {},
     "output_type": "execute_result"
    }
   ],
   "source": [
    "dic['product2']"
   ]
  },
  {
   "cell_type": "code",
   "execution_count": 332,
   "id": "f9f12e65-3ea4-45a9-9ed9-f5085e518b25",
   "metadata": {},
   "outputs": [],
   "source": [
    "dic['product2'] = dic_b"
   ]
  },
  {
   "cell_type": "code",
   "execution_count": 333,
   "id": "63188a09-a835-44f9-973c-759d332b6043",
   "metadata": {},
   "outputs": [
    {
     "data": {
      "text/plain": [
       "'설탕'"
      ]
     },
     "execution_count": 333,
     "metadata": {},
     "output_type": "execute_result"
    }
   ],
   "source": [
    "dic['product2']['ind']['부재료']"
   ]
  },
  {
   "cell_type": "code",
   "execution_count": 336,
   "id": "5c2768c3-b7c4-467c-b64a-f0b53f2acedf",
   "metadata": {},
   "outputs": [
    {
     "data": {
      "text/plain": [
       "True"
      ]
     },
     "execution_count": 336,
     "metadata": {},
     "output_type": "execute_result"
    }
   ],
   "source": [
    "'product1' in dic"
   ]
  },
  {
   "cell_type": "code",
   "execution_count": 338,
   "id": "09fd2252-30c2-4807-886e-0ef816736b5b",
   "metadata": {},
   "outputs": [
    {
     "data": {
      "text/plain": [
       "{'name': '망고1',\n",
       " 'type': '당절임',\n",
       " 'ind': {'주재료': '망고', '부재료': '설탕'},\n",
       " 'orgin': '타이완'}"
      ]
     },
     "execution_count": 338,
     "metadata": {},
     "output_type": "execute_result"
    }
   ],
   "source": [
    "dic['product2']"
   ]
  },
  {
   "cell_type": "code",
   "execution_count": 1,
   "id": "7cd68f1d-3d4b-4e45-8410-1181f1b62f04",
   "metadata": {},
   "outputs": [],
   "source": [
    "dic_test = {\n",
    "    1:'one',\n",
    "    2:'two',\n",
    "    3:'three',\n",
    "    4:'four'\n",
    "}"
   ]
  },
  {
   "cell_type": "code",
   "execution_count": 2,
   "id": "821ad860-0124-4d07-b543-c10e90dfe212",
   "metadata": {},
   "outputs": [],
   "source": [
    "dk = [1,2,3,4,5,3,6]\n",
    "dt = ['일', '이', '삼', '사', '오', '육', '육']"
   ]
  },
  {
   "cell_type": "code",
   "execution_count": 3,
   "id": "a7f4fe49-6a81-45a2-b2e3-12f9fe283003",
   "metadata": {},
   "outputs": [],
   "source": [
    "new_dic = dict(zip(dk,dt))"
   ]
  },
  {
   "cell_type": "code",
   "execution_count": 4,
   "id": "678ca143-4b69-42e2-851a-46c3f2c832c1",
   "metadata": {},
   "outputs": [
    {
     "data": {
      "text/plain": [
       "{1: '일', 2: '이', 3: '육', 4: '사', 5: '오', 6: '육'}"
      ]
     },
     "execution_count": 4,
     "metadata": {},
     "output_type": "execute_result"
    }
   ],
   "source": [
    "new_dic"
   ]
  },
  {
   "cell_type": "code",
   "execution_count": 11,
   "id": "9e441a13-7369-4e82-b72b-e47c9f05e3f3",
   "metadata": {},
   "outputs": [],
   "source": [
    "for k, v in new_dic.items():\n",
    "    if dic_test.get(k) != None:\n",
    "        dic_test[k] = v"
   ]
  },
  {
   "cell_type": "code",
   "execution_count": 12,
   "id": "8439844d-750c-4e97-8ca6-e6f50fb43771",
   "metadata": {},
   "outputs": [
    {
     "data": {
      "text/plain": [
       "{1: '일', 2: '이', 3: '육', 4: '사'}"
      ]
     },
     "execution_count": 12,
     "metadata": {},
     "output_type": "execute_result"
    }
   ],
   "source": [
    "dic_test"
   ]
  },
  {
   "cell_type": "code",
   "execution_count": 13,
   "id": "b023acf0-2401-444a-9d82-315d8cbb68be",
   "metadata": {},
   "outputs": [
    {
     "data": {
      "text/plain": [
       "{'일': 1, '이': 2, '육': 3, '사': 4}"
      ]
     },
     "execution_count": 13,
     "metadata": {},
     "output_type": "execute_result"
    }
   ],
   "source": [
    "dict(zip(dic_test.values(), dic_test.keys()))"
   ]
  },
  {
   "cell_type": "code",
   "execution_count": 19,
   "id": "8f785f5c-9f4b-46f3-a6bc-af1546149ed7",
   "metadata": {},
   "outputs": [],
   "source": [
    "import numpy as np\n",
    "np.random.seed(100)\n",
    "x = list(np.random.randint(10,50,200))"
   ]
  },
  {
   "cell_type": "code",
   "execution_count": 20,
   "id": "c0ad0a02-7d78-4022-b503-310fff90d187",
   "metadata": {},
   "outputs": [
    {
     "data": {
      "text/plain": [
       "[18,\n",
       " 34,\n",
       " 13,\n",
       " 49,\n",
       " 33,\n",
       " 25,\n",
       " 20,\n",
       " 40,\n",
       " 44,\n",
       " 12,\n",
       " 44,\n",
       " 24,\n",
       " 44,\n",
       " 34,\n",
       " 25,\n",
       " 46,\n",
       " 26,\n",
       " 19,\n",
       " 39,\n",
       " 32,\n",
       " 12,\n",
       " 37,\n",
       " 14,\n",
       " 41,\n",
       " 11,\n",
       " 23,\n",
       " 29,\n",
       " 46,\n",
       " 14,\n",
       " 37,\n",
       " 13,\n",
       " 17,\n",
       " 11,\n",
       " 24,\n",
       " 17,\n",
       " 26,\n",
       " 12,\n",
       " 40,\n",
       " 29,\n",
       " 44,\n",
       " 37,\n",
       " 40,\n",
       " 49,\n",
       " 48,\n",
       " 28,\n",
       " 10,\n",
       " 44,\n",
       " 20,\n",
       " 27,\n",
       " 18,\n",
       " 23,\n",
       " 40,\n",
       " 27,\n",
       " 14,\n",
       " 37,\n",
       " 37,\n",
       " 29,\n",
       " 24,\n",
       " 10,\n",
       " 23,\n",
       " 22,\n",
       " 13,\n",
       " 16,\n",
       " 13,\n",
       " 30,\n",
       " 25,\n",
       " 20,\n",
       " 33,\n",
       " 13,\n",
       " 46,\n",
       " 15,\n",
       " 17,\n",
       " 48,\n",
       " 32,\n",
       " 40,\n",
       " 44,\n",
       " 30,\n",
       " 41,\n",
       " 22,\n",
       " 43,\n",
       " 48,\n",
       " 32,\n",
       " 10,\n",
       " 44,\n",
       " 29,\n",
       " 14,\n",
       " 14,\n",
       " 45,\n",
       " 33,\n",
       " 19,\n",
       " 31,\n",
       " 35,\n",
       " 16,\n",
       " 47,\n",
       " 48,\n",
       " 49,\n",
       " 40,\n",
       " 40,\n",
       " 12,\n",
       " 34,\n",
       " 27,\n",
       " 47,\n",
       " 35,\n",
       " 45,\n",
       " 26,\n",
       " 22,\n",
       " 32,\n",
       " 28,\n",
       " 13,\n",
       " 38,\n",
       " 41,\n",
       " 30,\n",
       " 20,\n",
       " 18,\n",
       " 35,\n",
       " 18,\n",
       " 40,\n",
       " 22,\n",
       " 28,\n",
       " 39,\n",
       " 38,\n",
       " 10,\n",
       " 19,\n",
       " 38,\n",
       " 12,\n",
       " 26,\n",
       " 15,\n",
       " 36,\n",
       " 44,\n",
       " 13,\n",
       " 40,\n",
       " 24,\n",
       " 23,\n",
       " 30,\n",
       " 11,\n",
       " 24,\n",
       " 43,\n",
       " 30,\n",
       " 34,\n",
       " 39,\n",
       " 38,\n",
       " 28,\n",
       " 28,\n",
       " 17,\n",
       " 40,\n",
       " 12,\n",
       " 12,\n",
       " 33,\n",
       " 27,\n",
       " 36,\n",
       " 39,\n",
       " 42,\n",
       " 20,\n",
       " 40,\n",
       " 13,\n",
       " 38,\n",
       " 47,\n",
       " 28,\n",
       " 48,\n",
       " 27,\n",
       " 20,\n",
       " 23,\n",
       " 27,\n",
       " 35,\n",
       " 12,\n",
       " 25,\n",
       " 21,\n",
       " 47,\n",
       " 48,\n",
       " 32,\n",
       " 33,\n",
       " 27,\n",
       " 11,\n",
       " 39,\n",
       " 26,\n",
       " 29,\n",
       " 46,\n",
       " 47,\n",
       " 26,\n",
       " 45,\n",
       " 12,\n",
       " 45,\n",
       " 27,\n",
       " 26,\n",
       " 16,\n",
       " 44,\n",
       " 42,\n",
       " 19,\n",
       " 44,\n",
       " 13,\n",
       " 48,\n",
       " 21,\n",
       " 39,\n",
       " 46,\n",
       " 39,\n",
       " 13,\n",
       " 36,\n",
       " 46,\n",
       " 19,\n",
       " 41]"
      ]
     },
     "execution_count": 20,
     "metadata": {},
     "output_type": "execute_result"
    }
   ],
   "source": [
    "x"
   ]
  },
  {
   "cell_type": "code",
   "execution_count": null,
   "id": "0c00dddf-cea7-4073-9a9f-de6bd3b4ea2c",
   "metadata": {},
   "outputs": [],
   "source": [
    "for i in x:\n",
    "    "
   ]
  }
 ],
 "metadata": {
  "kernelspec": {
   "display_name": "yuuni",
   "language": "python",
   "name": "yuuni"
  },
  "language_info": {
   "codemirror_mode": {
    "name": "ipython",
    "version": 3
   },
   "file_extension": ".py",
   "mimetype": "text/x-python",
   "name": "python",
   "nbconvert_exporter": "python",
   "pygments_lexer": "ipython3",
   "version": "3.9.13"
  }
 },
 "nbformat": 4,
 "nbformat_minor": 5
}
