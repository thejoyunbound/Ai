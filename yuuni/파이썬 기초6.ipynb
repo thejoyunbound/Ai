{
 "cells": [
  {
   "cell_type": "code",
   "execution_count": 163,
   "id": "b0013667-56ec-449f-955f-2982828232db",
   "metadata": {},
   "outputs": [],
   "source": [
    "student = [\n",
    "    {'name':'윤인성','korean':87,'math':98,'english':88,'science':95},\n",
    "    {'name':'연하진','korean':92,'math':98,'english':96,'science':98},\n",
    "    {'name':'구지연','korean':76,'math':96,'english':94,'science':90},\n",
    "    {'name':'나선주','korean':98,'math':92,'english':96,'science':92},\n",
    "    {'name':'윤아린','korean':95,'math':98,'english':98,'science':98},\n",
    "    {'name':'윤명월','korean':64,'math':88,'english':92,'science':76},\n",
    "]"
   ]
  },
  {
   "cell_type": "code",
   "execution_count": 164,
   "id": "53ffc6d9-0e36-46ef-bc1c-6c0a2a5d8cf8",
   "metadata": {},
   "outputs": [
    {
     "name": "stdout",
     "output_type": "stream",
     "text": [
      "이름 윤인성 총점 368, 평균 92.0\n",
      "이름 연하진 총점 384, 평균 96.0\n",
      "이름 구지연 총점 356, 평균 89.0\n",
      "이름 나선주 총점 378, 평균 94.5\n",
      "이름 윤아린 총점 389, 평균 97.25\n",
      "이름 윤명월 총점 320, 평균 80.0\n"
     ]
    }
   ],
   "source": [
    "# 학생을 한명씩 반복 \n",
    "for i in student:\n",
    "    name = i['name']\n",
    "    total = i['korean']+i['math']+i['english']+i['science']\n",
    "    avg = total/4  \n",
    "    print(f'이름 {name} 총점 {total}, 평균 {avg}')"
   ]
  },
  {
   "cell_type": "code",
   "execution_count": 165,
   "id": "897687c2-adff-4812-b1f7-bfbad0b18b5a",
   "metadata": {},
   "outputs": [],
   "source": [
    "def student_info(name,korean,math,english,science):\n",
    "    name = name\n",
    "    total = korean+math+english+science\n",
    "    avg = total/4\n",
    "    print(f'이름 {name} 총점 {total}, 평균 {avg}')"
   ]
  },
  {
   "cell_type": "code",
   "execution_count": 166,
   "id": "b14f53ac-1fe7-4aab-959f-de0127360620",
   "metadata": {},
   "outputs": [
    {
     "data": {
      "text/plain": [
       "{'name': '윤명월', 'korean': 64, 'math': 88, 'english': 92, 'science': 76}"
      ]
     },
     "execution_count": 166,
     "metadata": {},
     "output_type": "execute_result"
    }
   ],
   "source": [
    "student[-1]"
   ]
  },
  {
   "cell_type": "code",
   "execution_count": 167,
   "id": "0e456aac-a3d9-4ba5-b9b9-0ed9a7c0ea55",
   "metadata": {},
   "outputs": [
    {
     "name": "stdout",
     "output_type": "stream",
     "text": [
      "이름 윤명월 총점 320, 평균 80.0\n"
     ]
    }
   ],
   "source": [
    "student_info('윤명월',64,88,92,76)"
   ]
  },
  {
   "cell_type": "code",
   "execution_count": 168,
   "id": "39e79c46-28d8-40f9-8d4c-bcdfc14bfecf",
   "metadata": {},
   "outputs": [
    {
     "name": "stdout",
     "output_type": "stream",
     "text": [
      "이름 윤인성 총점 368, 평균 92.0\n"
     ]
    }
   ],
   "source": [
    "student_info(**student[0])"
   ]
  },
  {
   "cell_type": "code",
   "execution_count": 169,
   "id": "d885eed9-f8a3-4679-86e6-34c76da7676f",
   "metadata": {},
   "outputs": [],
   "source": [
    "def create_student(name,korean,math,english,science):\n",
    "    result = {\n",
    "        'name':name,\n",
    "        'korean':korean,\n",
    "        'math':math,\n",
    "        'english':english,\n",
    "        'science':science,\n",
    "    }\n",
    "    return result"
   ]
  },
  {
   "cell_type": "code",
   "execution_count": 170,
   "id": "c642d262-1751-4f8c-abaa-fb61d6b641fa",
   "metadata": {},
   "outputs": [],
   "source": [
    "def total_sum(student):\n",
    "    return student['korean']+student['math']+student['english']+student['science']"
   ]
  },
  {
   "cell_type": "code",
   "execution_count": 171,
   "id": "5d83cafc-9e84-4ba9-aff5-d975985d4ae1",
   "metadata": {},
   "outputs": [],
   "source": [
    "def total_avg(student):\n",
    "    result = student['korean']+student['math']+student['english']+student['science']\n",
    "    result = result/4\n",
    "    return result"
   ]
  },
  {
   "cell_type": "code",
   "execution_count": 172,
   "id": "b0f25fd0-7d20-4e2d-8b25-c01381848940",
   "metadata": {},
   "outputs": [],
   "source": [
    "def student_print(name,total,avg):\n",
    "    result = f'이름 {name} 총점 {total} 평균 {avg}'\n",
    "    return result"
   ]
  },
  {
   "cell_type": "code",
   "execution_count": 173,
   "id": "45b4b03f-fbca-40d5-8e23-16678e2b91c5",
   "metadata": {},
   "outputs": [],
   "source": [
    "student = create_student('윤인성',87,98,88,95)\n",
    "name = student.pop('name')"
   ]
  },
  {
   "cell_type": "code",
   "execution_count": 174,
   "id": "e629e628-cb3b-4a89-bf9d-84253fb10b32",
   "metadata": {},
   "outputs": [],
   "source": [
    "total = total_sum(student)"
   ]
  },
  {
   "cell_type": "code",
   "execution_count": 175,
   "id": "dde3b35b-fc4d-491b-965f-c5b6ec969d52",
   "metadata": {},
   "outputs": [],
   "source": [
    "avg = total_avg(student)"
   ]
  },
  {
   "cell_type": "code",
   "execution_count": 176,
   "id": "1ecd6547-3ea8-43f8-bd60-b27be3de83e7",
   "metadata": {},
   "outputs": [
    {
     "data": {
      "text/plain": [
       "'이름 윤인성 총점 368 평균 92.0'"
      ]
     },
     "execution_count": 176,
     "metadata": {},
     "output_type": "execute_result"
    }
   ],
   "source": [
    "student_print(name,total,avg)"
   ]
  },
  {
   "cell_type": "code",
   "execution_count": 177,
   "id": "c384a469-6d3a-4776-b88c-aafa7d650c65",
   "metadata": {},
   "outputs": [
    {
     "data": {
      "text/plain": [
       "({'name': '연하진', 'korean': 92, 'math': 98, 'english': 96, 'science': 98},)"
      ]
     },
     "execution_count": 177,
     "metadata": {},
     "output_type": "execute_result"
    }
   ],
   "source": [
    "{'name':'연하진','korean':92,\n",
    " 'math':98,'english':96,\n",
    " 'science':98},"
   ]
  },
  {
   "cell_type": "code",
   "execution_count": 178,
   "id": "2c31162e-2635-46be-afea-e176cdbd89af",
   "metadata": {},
   "outputs": [
    {
     "data": {
      "text/plain": [
       "'이름 이강욱 총점 269 평균 67.25'"
      ]
     },
     "execution_count": 178,
     "metadata": {},
     "output_type": "execute_result"
    }
   ],
   "source": [
    "student = create_student('이강욱',80,70,69,50)\n",
    "name = student.pop('name')\n",
    "total = total_sum(student)\n",
    "avg = total_avg(student)\n",
    "student_print(name,total,avg)"
   ]
  },
  {
   "cell_type": "code",
   "execution_count": 179,
   "id": "65545a4f-b6cc-425c-af33-3962c6858f42",
   "metadata": {},
   "outputs": [],
   "source": [
    "#함수 def\n",
    "#클래스 class\n",
    "class First:\n",
    "    pass"
   ]
  },
  {
   "cell_type": "code",
   "execution_count": 180,
   "id": "33426037-10a7-477d-96df-fb62030a9f90",
   "metadata": {},
   "outputs": [],
   "source": [
    "first = First()"
   ]
  },
  {
   "cell_type": "code",
   "execution_count": 181,
   "id": "5735efd1-5095-402a-b1d4-e25915a46753",
   "metadata": {},
   "outputs": [],
   "source": [
    "class Second:\n",
    "    def __init__(self,x):\n",
    "        self.value = x\n",
    "        self.result = None\n",
    "    \n",
    "    def add(self,x):\n",
    "        self.result = self.value + x\n",
    "        return self.result\n",
    "        "
   ]
  },
  {
   "cell_type": "code",
   "execution_count": 182,
   "id": "7dd85d6a-9006-4bef-a77f-8c5b4da5b783",
   "metadata": {},
   "outputs": [],
   "source": [
    "second1 = Second(10)"
   ]
  },
  {
   "cell_type": "code",
   "execution_count": 183,
   "id": "0391351b-7605-416c-8083-3e72aacda7c5",
   "metadata": {},
   "outputs": [
    {
     "data": {
      "text/plain": [
       "17"
      ]
     },
     "execution_count": 183,
     "metadata": {},
     "output_type": "execute_result"
    }
   ],
   "source": [
    "second1.add(7)"
   ]
  },
  {
   "cell_type": "code",
   "execution_count": 184,
   "id": "02b32475-32f7-4bfb-b339-daac4ae15c67",
   "metadata": {},
   "outputs": [
    {
     "data": {
      "text/plain": [
       "17"
      ]
     },
     "execution_count": 184,
     "metadata": {},
     "output_type": "execute_result"
    }
   ],
   "source": [
    "second1.result"
   ]
  },
  {
   "cell_type": "code",
   "execution_count": 185,
   "id": "20d87b84-778c-4f3c-a738-86f4ba2eda68",
   "metadata": {},
   "outputs": [],
   "source": [
    "second2 = Second(20)"
   ]
  },
  {
   "cell_type": "code",
   "execution_count": 186,
   "id": "501ad413-c71e-4646-be9d-3a11087e45d0",
   "metadata": {},
   "outputs": [
    {
     "data": {
      "text/plain": [
       "['__class__',\n",
       " '__delattr__',\n",
       " '__dict__',\n",
       " '__dir__',\n",
       " '__doc__',\n",
       " '__eq__',\n",
       " '__format__',\n",
       " '__ge__',\n",
       " '__getattribute__',\n",
       " '__gt__',\n",
       " '__hash__',\n",
       " '__init__',\n",
       " '__init_subclass__',\n",
       " '__le__',\n",
       " '__lt__',\n",
       " '__module__',\n",
       " '__ne__',\n",
       " '__new__',\n",
       " '__reduce__',\n",
       " '__reduce_ex__',\n",
       " '__repr__',\n",
       " '__setattr__',\n",
       " '__sizeof__',\n",
       " '__str__',\n",
       " '__subclasshook__',\n",
       " '__weakref__',\n",
       " 'add',\n",
       " 'result',\n",
       " 'value']"
      ]
     },
     "execution_count": 186,
     "metadata": {},
     "output_type": "execute_result"
    }
   ],
   "source": [
    "dir(second2)"
   ]
  },
  {
   "cell_type": "code",
   "execution_count": 187,
   "id": "c66b83e0-aeae-4eac-b51f-2f4a8b6e816c",
   "metadata": {},
   "outputs": [],
   "source": [
    "second2.result"
   ]
  },
  {
   "cell_type": "code",
   "execution_count": 188,
   "id": "746af181-7c0f-47f5-9008-479db5b14c5b",
   "metadata": {},
   "outputs": [],
   "source": [
    "class Calc:\n",
    "    def __init__(self):\n",
    "        pass\n",
    "    def add(self,x,y):\n",
    "        self.x = x\n",
    "        self.y = y\n",
    "        self.add_result = self.x + self.y\n",
    "        return self.add_result"
   ]
  },
  {
   "cell_type": "code",
   "execution_count": 189,
   "id": "ef474a56-ae6d-4f48-bab9-f92b1a3c9ab7",
   "metadata": {},
   "outputs": [],
   "source": [
    "a = Calc()"
   ]
  },
  {
   "cell_type": "code",
   "execution_count": 190,
   "id": "dcd28374-8c06-4ada-8eef-78f785920b95",
   "metadata": {},
   "outputs": [
    {
     "data": {
      "text/plain": [
       "9"
      ]
     },
     "execution_count": 190,
     "metadata": {},
     "output_type": "execute_result"
    }
   ],
   "source": [
    "a.add(4,5)"
   ]
  },
  {
   "cell_type": "code",
   "execution_count": 191,
   "id": "80181b24-d65b-490e-81c9-93c3f5c40994",
   "metadata": {},
   "outputs": [
    {
     "data": {
      "text/plain": [
       "4"
      ]
     },
     "execution_count": 191,
     "metadata": {},
     "output_type": "execute_result"
    }
   ],
   "source": [
    "a.x"
   ]
  },
  {
   "cell_type": "code",
   "execution_count": 192,
   "id": "18abaa6b-25b2-4e6e-8943-ff305396623e",
   "metadata": {},
   "outputs": [
    {
     "data": {
      "text/plain": [
       "5"
      ]
     },
     "execution_count": 192,
     "metadata": {},
     "output_type": "execute_result"
    }
   ],
   "source": [
    "a.y"
   ]
  },
  {
   "cell_type": "code",
   "execution_count": 193,
   "id": "08fe8ad9-3d83-4265-812f-ab2e72d96ecc",
   "metadata": {},
   "outputs": [
    {
     "data": {
      "text/plain": [
       "9"
      ]
     },
     "execution_count": 193,
     "metadata": {},
     "output_type": "execute_result"
    }
   ],
   "source": [
    "a.add_result"
   ]
  },
  {
   "cell_type": "code",
   "execution_count": 194,
   "id": "c24d00c8-e566-4b04-9c19-317b4dd1fd5e",
   "metadata": {},
   "outputs": [],
   "source": [
    "class Calc:\n",
    "    def __init__(self,x,y):\n",
    "        self.x = x\n",
    "        self.y = y\n",
    "        \n",
    "    def add(self):\n",
    "        self.add_result = self.x + self.y\n",
    "        return self.add_result\n",
    "    \n",
    "    def sub(self):\n",
    "        self.sub_result = self.x - self.y\n",
    "        return self.sub_result\n",
    "    \n",
    "    def mul(self):\n",
    "        self.mul_result = self.x * self.y\n",
    "        return self.mul_result\n",
    "    \n",
    "    def div(self):\n",
    "        self.div_result = self.x / self.y\n",
    "        return self.div_result\n",
    "    \n",
    "    def power(self):\n",
    "        self.power_result = self.x ** self.y\n",
    "        return self.power_result"
   ]
  },
  {
   "cell_type": "code",
   "execution_count": 195,
   "id": "370b2d01-4edb-4f5a-9b26-35374ab775cc",
   "metadata": {},
   "outputs": [],
   "source": [
    "a = Calc(3,4)"
   ]
  },
  {
   "cell_type": "code",
   "execution_count": 196,
   "id": "db4e015d-228d-4305-b76b-35c88cc56897",
   "metadata": {},
   "outputs": [
    {
     "data": {
      "text/plain": [
       "7"
      ]
     },
     "execution_count": 196,
     "metadata": {},
     "output_type": "execute_result"
    }
   ],
   "source": [
    "a.add()"
   ]
  },
  {
   "cell_type": "code",
   "execution_count": 197,
   "id": "1a23ed0e-db9b-4f92-a7d8-94422755d224",
   "metadata": {},
   "outputs": [
    {
     "data": {
      "text/plain": [
       "-1"
      ]
     },
     "execution_count": 197,
     "metadata": {},
     "output_type": "execute_result"
    }
   ],
   "source": [
    "a.sub()"
   ]
  },
  {
   "cell_type": "code",
   "execution_count": 198,
   "id": "f7525fea-d24b-4d1b-8776-e43c07c2a7cc",
   "metadata": {},
   "outputs": [
    {
     "data": {
      "text/plain": [
       "12"
      ]
     },
     "execution_count": 198,
     "metadata": {},
     "output_type": "execute_result"
    }
   ],
   "source": [
    "a.mul()"
   ]
  },
  {
   "cell_type": "code",
   "execution_count": 199,
   "id": "7a121b0f-3547-46c9-b752-a4ad644ab0b8",
   "metadata": {},
   "outputs": [
    {
     "data": {
      "text/plain": [
       "0.75"
      ]
     },
     "execution_count": 199,
     "metadata": {},
     "output_type": "execute_result"
    }
   ],
   "source": [
    "a.div()"
   ]
  },
  {
   "cell_type": "code",
   "execution_count": 200,
   "id": "dd07776f-68ca-4781-a57c-aeca74c23747",
   "metadata": {},
   "outputs": [
    {
     "data": {
      "text/plain": [
       "81"
      ]
     },
     "execution_count": 200,
     "metadata": {},
     "output_type": "execute_result"
    }
   ],
   "source": [
    "a.power()"
   ]
  },
  {
   "cell_type": "code",
   "execution_count": 201,
   "id": "3a9093d3-8650-4d47-aa94-a1358760bdfb",
   "metadata": {},
   "outputs": [],
   "source": [
    "class Calc:\n",
    "    def __init__(self,x,y):\n",
    "        self.x = x\n",
    "        self.y = y\n",
    "        print(f'입력하신 x:{x},y:{y} 입니다')\n",
    "    def add(self):\n",
    "        self.add_result = self.x + self.y\n",
    "    def sub(self):\n",
    "        self.sub_result = self.x - self.y\n",
    "    def mul(self):\n",
    "        self.mul_result = self.x * self.y\n",
    "    def div(self):\n",
    "        self.div_result = self.x / self.y\n",
    "    def power(self):\n",
    "        self.power_result = self.x**self.y\n",
    "    def total_calc(self):\n",
    "        self.add()\n",
    "        self.sub()\n",
    "        self.div()\n",
    "        self.mul()\n",
    "        self.power()\n",
    "    def show_result(self):\n",
    "        self.total_calc()\n",
    "        x = self.x\n",
    "        y = self.y\n",
    "        print(f'{x}와 {y}의 더하기 결과값은 {self.add_result}')\n",
    "        print(f'{x}와 {y}의 빼기 결과값은 {self.sub_result}')\n",
    "        print(f'{x}와 {y}의 곱하기 결과값은 {self.mul_result}')\n",
    "        print(f'{x}와 {y}의 나누기 결과값은 {self.div_result}')\n",
    "        print(f'{x}와 {y}의 지수승 결과값은 {self.power_result}')\n",
    "        "
   ]
  },
  {
   "cell_type": "code",
   "execution_count": 202,
   "id": "b9222c6b-9183-4d5a-91f3-6bbe4ca76621",
   "metadata": {},
   "outputs": [
    {
     "name": "stdout",
     "output_type": "stream",
     "text": [
      "입력하신 x:3,y:4 입니다\n"
     ]
    }
   ],
   "source": [
    "a = Calc(3,4)"
   ]
  },
  {
   "cell_type": "code",
   "execution_count": 203,
   "id": "6b268d04-e390-4dc3-844e-770b44edd50a",
   "metadata": {},
   "outputs": [
    {
     "name": "stdout",
     "output_type": "stream",
     "text": [
      "3와 4의 더하기 결과값은 7\n",
      "3와 4의 빼기 결과값은 -1\n",
      "3와 4의 곱하기 결과값은 12\n",
      "3와 4의 나누기 결과값은 0.75\n",
      "3와 4의 지수승 결과값은 81\n"
     ]
    }
   ],
   "source": [
    "a.show_result()"
   ]
  },
  {
   "cell_type": "code",
   "execution_count": 204,
   "id": "a30fc0da-c6f7-4978-a42e-1666b2d469fa",
   "metadata": {},
   "outputs": [],
   "source": [
    "class Student:\n",
    "    def __init__(self,name,korean,math,english,science):\n",
    "        self.name = name\n",
    "        self.korean = korean\n",
    "        self.math = math\n",
    "        self.english = english\n",
    "        self.science = science\n",
    "    def student_total(self):\n",
    "        self.total = self.korean + self.english + self.math + self.science\n",
    "        return self.total\n",
    "    def student_avg(self):\n",
    "        self.avg = self.total/4\n",
    "        return self.avg\n",
    "    def student_print(self):\n",
    "        self.student_total()\n",
    "        self.student_avg()\n",
    "        print(f'{self.name}은 총점 {self.total} 평균은 {self.avg}')\n",
    "    "
   ]
  },
  {
   "cell_type": "code",
   "execution_count": 205,
   "id": "b0e71b95-65fb-49db-93b6-a6f032e7d045",
   "metadata": {},
   "outputs": [],
   "source": [
    "student = Student('윤인성',80,70,88,90)"
   ]
  },
  {
   "cell_type": "code",
   "execution_count": 206,
   "id": "f8f63b59-ab7b-43fd-9179-9853def529df",
   "metadata": {},
   "outputs": [
    {
     "name": "stdout",
     "output_type": "stream",
     "text": [
      "윤인성은 총점 328 평균은 82.0\n"
     ]
    }
   ],
   "source": [
    "student.student_print()"
   ]
  },
  {
   "cell_type": "code",
   "execution_count": 247,
   "id": "868a725c-87a4-41bd-8c80-5604256ab578",
   "metadata": {},
   "outputs": [
    {
     "ename": "SyntaxError",
     "evalue": "invalid syntax (1441549880.py, line 4)",
     "output_type": "error",
     "traceback": [
      "\u001b[1;36m  File \u001b[1;32m\"C:\\Users\\bjlov\\AppData\\Local\\Temp\\ipykernel_13264\\1441549880.py\"\u001b[1;36m, line \u001b[1;32m4\u001b[0m\n\u001b[1;33m    if self.id_ == 'admin' and\u001b[0m\n\u001b[1;37m                               ^\u001b[0m\n\u001b[1;31mSyntaxError\u001b[0m\u001b[1;31m:\u001b[0m invalid syntax\n"
     ]
    }
   ],
   "source": [
    "# \n",
    "class Student_score:\n",
    "    def __init__(self):\n",
    "        self.member = {}\n",
    "        self.login()\n",
    "        \n",
    "    def login(self):\n",
    "        self.id_ = input('아이디를 입력하세요')\n",
    "        self.password = input('비밀번호를 입력하세요')\n",
    "        self.student_manage()\n",
    "    \n",
    "    def student_manage(self):\n",
    "        if self.id_ == 'admin':\n",
    "            if self.password == '0000':\n",
    "                check = 1\n",
    "            else:\n",
    "                check = 2\n",
    "        else:\n",
    "            check = 3\n",
    "                    \n",
    " \n",
    "        information = \"\"\"\n",
    "        메뉴\n",
    "        ================\n",
    "        성적 조회 : 1 \n",
    "        성적 입력 : 2\n",
    "        학번 조회 : 3\n",
    "        ================\n",
    "        \"\"\"\n",
    "        print(information)\n",
    "        \n",
    "        if check == 1: \n",
    "            method = input('작업을 선택하세요')\n",
    "            if method == '1':\n",
    "                search = input('전체조회는 0, 학번조회는 해당이름을 입력하세요')\n",
    "\n",
    "                if search == '0':\n",
    "                    self.check_no()\n",
    "                else:\n",
    "                    self.check_no(search)\n",
    "\n",
    "            elif method == '2':\n",
    "                member = 0\n",
    "                while True:\n",
    "                    name = input('이름을 입력하세요')\n",
    "                    korean = input('국어 성적을 입력하세요')\n",
    "                    english = input('영어 성적을 입력하세요')\n",
    "                    math = input('수학성적을 입력하세요')\n",
    "                    self.student_add(name, int(korean), int(english),int(math))\n",
    "                    member += 1\n",
    "                    x = input('계속하시려면 엔터키를 치시고 끝내시려면 아무 문자나 입력하세요')\n",
    "                    if x != '':\n",
    "                        print(f'{member}명의 입력이 완료 되었습니다')\n",
    "                        break\n",
    "\n",
    "\n",
    "            elif method == '3':\n",
    "                search = input('전체조회는 0번 학번조회는 학번을 입력하세요')\n",
    "                search = int(search)\n",
    "                if search == 0:\n",
    "                    self.student_print()\n",
    "                else:\n",
    "                    self.student_print(search)\n",
    "                    \n",
    "        elif check == 2:\n",
    "            self.login()   \n",
    "        elif check == 3:\n",
    "            self.id_\n",
    "                \n",
    "                \n",
    "                \n",
    "    def student_add(self,name,korean,english,math):\n",
    "        key = len(self.member.keys())+1\n",
    "        new_student = {'name':name,\n",
    "                       'korean':korean,\n",
    "                       'english':english,\n",
    "                       'math':math\n",
    "                      }\n",
    "        self.member[key] = new_student\n",
    "    def student_print(self,x=0):\n",
    "        if len(self.member) == 0:\n",
    "            print('아직 아무 학생도 입력이 되지 않았습니다')\n",
    "            print('메뉴 화면으로 돌아 갑니다 2번을 입력하여')\n",
    "            print('학생을 먼저 입력하도록 하세요')\n",
    "            self.student_manage()\n",
    "        if x == 0:\n",
    "            for v in self.member.values():\n",
    "                name = v['name']\n",
    "                total = v['korean'] + v['english'] + v['math']\n",
    "                avg = total/3\n",
    "                print(f'이름 : {name} 총점 {total} 평균 {avg}')\n",
    "        else:\n",
    "            name = self.member[x]['name']\n",
    "            korean = self.member[x]['korean']\n",
    "            english = self.member[x]['english']\n",
    "            math = self.member[x]['math']\n",
    "            total = korean+english+math\n",
    "            avg = total/3\n",
    "            print(f'{name}의 성적은 총점{total} 평균{avg}입니다')\n",
    "    \n",
    "    def subject_total(self):\n",
    "        korean = 0\n",
    "        english = 0\n",
    "        math = 0\n",
    "        members = 0\n",
    "        for v in self.member.values():\n",
    "            members += 1\n",
    "            korean += v['korean']\n",
    "            english += v['english']\n",
    "            math += v['math']\n",
    "        korean_avg = korean/members\n",
    "        english_avg = english/members\n",
    "        math_avg = math/members\n",
    "        print('korean 성적 합계',korean)\n",
    "        print('english 성적 합계',english)\n",
    "        print('math 성적 합계',math)\n",
    "        print('korean 성적 평균',korean_avg)\n",
    "        print('english 성적 평균',english_avg)\n",
    "        print('math 성적 평균',math_avg)\n",
    "    \n",
    "    def check_no(self,x=0):\n",
    "        if x == 0:\n",
    "            for i in self.member:\n",
    "                print('학번:',i,'이름 :',self.member[i]['name'])\n",
    "        else:\n",
    "            dic = {}\n",
    "            for k,v in student.member.items():\n",
    "                dic[v['name']] = k\n",
    "            print(f'학번은 {dic[x]}입니다')"
   ]
  },
  {
   "cell_type": "code",
   "execution_count": null,
   "id": "a6f2ad37-8bcc-4de1-bbca-3f474d58de9f",
   "metadata": {},
   "outputs": [],
   "source": [
    "student = student_score('1','1111')"
   ]
  },
  {
   "cell_type": "code",
   "execution_count": 248,
   "id": "05a39601-c1d9-49ff-8fcf-e39cf6f7919a",
   "metadata": {},
   "outputs": [],
   "source": [
    "student = Student_score()"
   ]
  },
  {
   "cell_type": "code",
   "execution_count": 209,
   "id": "17742913-18a8-4320-91cb-52a786d4625e",
   "metadata": {},
   "outputs": [],
   "source": [
    "student.student_add('이현오',90,100,100)\n",
    "student.student_add('이재은',92,99,100)\n",
    "student.student_add('곽세희',99,99,99)\n",
    "student.student_add('김수현',78,100,100)\n",
    "student.student_add('이강욱',90,78,90)"
   ]
  },
  {
   "cell_type": "code",
   "execution_count": 210,
   "id": "06da8453-8131-4ea5-877c-5e7bab23a0d4",
   "metadata": {},
   "outputs": [
    {
     "name": "stdout",
     "output_type": "stream",
     "text": [
      "학번은 9입니다\n"
     ]
    }
   ],
   "source": [
    "student.check_no('곽세희')"
   ]
  },
  {
   "cell_type": "code",
   "execution_count": 211,
   "id": "57682ce1-6610-4987-a7c4-0b9b5c1e1eed",
   "metadata": {},
   "outputs": [
    {
     "name": "stdout",
     "output_type": "stream",
     "text": [
      "곽세희의 성적은 총점297 평균99.0입니다\n"
     ]
    }
   ],
   "source": [
    "student.student_print(3)"
   ]
  },
  {
   "cell_type": "code",
   "execution_count": 212,
   "id": "936a00d0-ce32-43f6-a87c-8fc061a00f67",
   "metadata": {},
   "outputs": [
    {
     "name": "stdout",
     "output_type": "stream",
     "text": [
      "korean 성적 합계 988\n",
      "english 성적 합계 1042\n",
      "math 성적 합계 1078\n",
      "korean 성적 평균 89.81818181818181\n",
      "english 성적 평균 94.72727272727273\n",
      "math 성적 평균 98.0\n"
     ]
    }
   ],
   "source": [
    "student.subject_total()"
   ]
  },
  {
   "cell_type": "code",
   "execution_count": 213,
   "id": "69ab4dc6-45f6-4777-83fe-462642c2f02f",
   "metadata": {},
   "outputs": [
    {
     "data": {
      "text/plain": [
       "{'이현오': 7, '이재은': 8, '곽세희': 9, '김수현': 10, '이강욱': 11}"
      ]
     },
     "execution_count": 230,
     "metadata": {},
     "output_type": "execute_result"
    }
   ],
   "source": [
    "dic = {}\n",
    "for k,v in student.member.items():\n",
    "    dic[v['name']] = k\n",
    "dic"
   ]
  },
  {
   "cell_type": "code",
   "execution_count": 214,
   "id": "8616c7d2-6edd-4392-9f7e-80d5f23dfcea",
   "metadata": {},
   "outputs": [
    {
     "data": {
      "text/plain": [
       "9"
      ]
     },
     "execution_count": 231,
     "metadata": {},
     "output_type": "execute_result"
    }
   ],
   "source": [
    "dic['곽세희']"
   ]
  },
  {
   "cell_type": "code",
   "execution_count": 215,
   "id": "a2daf727-518b-4084-abe1-f5853e4ec758",
   "metadata": {},
   "outputs": [],
   "source": [
    "student.student_add('이재은',90,100,100)"
   ]
  },
  {
   "cell_type": "code",
   "execution_count": 216,
   "id": "8095f8e3-6a11-4cd8-ae99-2ee7b9167673",
   "metadata": {},
   "outputs": [
    {
     "name": "stdout",
     "output_type": "stream",
     "text": [
      "이름은이현오 총점 290 평균 96.66666666666667\n",
      "이름은이재은 총점 291 평균 97.0\n",
      "이름은곽세희 총점 297 평균 99.0\n",
      "이름은김수현 총점 278 평균 92.66666666666667\n",
      "이름은이강욱 총점 258 평균 86.0\n",
      "이름은이현오 총점 280 평균 93.33333333333333\n",
      "이름은이현오 총점 290 평균 96.66666666666667\n",
      "이름은이재은 총점 291 평균 97.0\n",
      "이름은곽세희 총점 297 평균 99.0\n",
      "이름은김수현 총점 278 평균 92.66666666666667\n",
      "이름은이강욱 총점 258 평균 86.0\n",
      "이름은이재은 총점 290 평균 96.66666666666667\n"
     ]
    }
   ],
   "source": [
    "for v in student.member.values():\n",
    "    name = v['name']\n",
    "    total = v['korean']+v['english']+v['math']\n",
    "    avg = total/3\n",
    "    print(f'이름은{name} 총점 {total} 평균 {avg}')"
   ]
  },
  {
   "cell_type": "code",
   "execution_count": 217,
   "id": "52f1ddc3-cd42-4e79-a7ca-894308a82df0",
   "metadata": {},
   "outputs": [],
   "source": [
    "korean = 0\n",
    "english = 0\n",
    "math = 0\n",
    "members = 0\n",
    "for i in student.member.values():\n",
    "    members += 1\n",
    "    korean +=  i['korean']\n",
    "    english += i['english']\n",
    "    math += i['math']\n",
    "korean_avg = korean/members\n",
    "math_avg = math/members\n",
    "english_avg = english/members"
   ]
  },
  {
   "cell_type": "code",
   "execution_count": 218,
   "id": "3df57196-32d5-4f13-85b3-dfe2e7dd84b4",
   "metadata": {},
   "outputs": [
    {
     "data": {
      "text/plain": [
       "98.16666666666667"
      ]
     },
     "execution_count": 235,
     "metadata": {},
     "output_type": "execute_result"
    }
   ],
   "source": [
    "math_avg"
   ]
  },
  {
   "cell_type": "code",
   "execution_count": 219,
   "id": "84d91f5e-7331-4002-a175-6197bfd3ae93",
   "metadata": {},
   "outputs": [],
   "source": [
    "student = Student_score()"
   ]
  },
  {
   "cell_type": "code",
   "execution_count": 220,
   "id": "76bfeeec-b9f2-40b2-8a60-4ab7a56b50cc",
   "metadata": {},
   "outputs": [],
   "source": [
    "student.student_add('이현오',90,100,100)\n",
    "student.student_add('이재은',92,99,100)\n",
    "student.student_add('곽세희',99,99,99)\n",
    "student.student_add('김수현',78,100,100)\n",
    "student.student_add('이강욱',90,78,90)"
   ]
  },
  {
   "cell_type": "code",
   "execution_count": 221,
   "id": "1225fe7b-fbc8-4bee-adf3-0dbd18b2b8ab",
   "metadata": {},
   "outputs": [
    {
     "ename": "KeyboardInterrupt",
     "evalue": "Interrupted by user",
     "output_type": "error",
     "traceback": [
      "\u001b[1;31m---------------------------------------------------------------------------\u001b[0m",
      "\u001b[1;31mKeyboardInterrupt\u001b[0m                         Traceback (most recent call last)",
      "\u001b[1;32m~\\AppData\\Local\\Temp\\ipykernel_13264\\2435796894.py\u001b[0m in \u001b[0;36m<module>\u001b[1;34m\u001b[0m\n\u001b[1;32m----> 1\u001b[1;33m \u001b[0mstudent\u001b[0m\u001b[1;33m.\u001b[0m\u001b[0mstudent_manage\u001b[0m\u001b[1;33m(\u001b[0m\u001b[1;33m)\u001b[0m\u001b[1;33m\u001b[0m\u001b[1;33m\u001b[0m\u001b[0m\n\u001b[0m",
      "\u001b[1;32m~\\AppData\\Local\\Temp\\ipykernel_13264\\3382782725.py\u001b[0m in \u001b[0;36mstudent_manage\u001b[1;34m(self)\u001b[0m\n\u001b[0;32m     12\u001b[0m \u001b[1;33m\u001b[0m\u001b[0m\n\u001b[0;32m     13\u001b[0m     \u001b[1;32mdef\u001b[0m \u001b[0mstudent_manage\u001b[0m\u001b[1;33m(\u001b[0m\u001b[0mself\u001b[0m\u001b[1;33m)\u001b[0m\u001b[1;33m:\u001b[0m\u001b[1;33m\u001b[0m\u001b[1;33m\u001b[0m\u001b[0m\n\u001b[1;32m---> 14\u001b[1;33m         \u001b[0mmethod\u001b[0m \u001b[1;33m=\u001b[0m \u001b[0minput\u001b[0m\u001b[1;33m(\u001b[0m\u001b[1;34m'작업을 선택하세요'\u001b[0m\u001b[1;33m)\u001b[0m\u001b[1;33m\u001b[0m\u001b[1;33m\u001b[0m\u001b[0m\n\u001b[0m\u001b[0;32m     15\u001b[0m         \u001b[1;32mif\u001b[0m \u001b[0mmethod\u001b[0m \u001b[1;33m==\u001b[0m \u001b[1;34m'1'\u001b[0m\u001b[1;33m:\u001b[0m\u001b[1;33m\u001b[0m\u001b[1;33m\u001b[0m\u001b[0m\n\u001b[0;32m     16\u001b[0m             \u001b[0msearch\u001b[0m \u001b[1;33m=\u001b[0m \u001b[0minput\u001b[0m\u001b[1;33m(\u001b[0m\u001b[1;34m'전체조회는 0, 학번조회는 해당이름을 입력하세요'\u001b[0m\u001b[1;33m)\u001b[0m\u001b[1;33m\u001b[0m\u001b[1;33m\u001b[0m\u001b[0m\n",
      "\u001b[1;32m~\\anaconda3\\lib\\site-packages\\ipykernel\\kernelbase.py\u001b[0m in \u001b[0;36mraw_input\u001b[1;34m(self, prompt)\u001b[0m\n\u001b[0;32m   1175\u001b[0m                 \u001b[1;34m\"raw_input was called, but this frontend does not support input requests.\"\u001b[0m\u001b[1;33m\u001b[0m\u001b[1;33m\u001b[0m\u001b[0m\n\u001b[0;32m   1176\u001b[0m             )\n\u001b[1;32m-> 1177\u001b[1;33m         return self._input_request(\n\u001b[0m\u001b[0;32m   1178\u001b[0m             \u001b[0mstr\u001b[0m\u001b[1;33m(\u001b[0m\u001b[0mprompt\u001b[0m\u001b[1;33m)\u001b[0m\u001b[1;33m,\u001b[0m\u001b[1;33m\u001b[0m\u001b[1;33m\u001b[0m\u001b[0m\n\u001b[0;32m   1179\u001b[0m             \u001b[0mself\u001b[0m\u001b[1;33m.\u001b[0m\u001b[0m_parent_ident\u001b[0m\u001b[1;33m[\u001b[0m\u001b[1;34m\"shell\"\u001b[0m\u001b[1;33m]\u001b[0m\u001b[1;33m,\u001b[0m\u001b[1;33m\u001b[0m\u001b[1;33m\u001b[0m\u001b[0m\n",
      "\u001b[1;32m~\\anaconda3\\lib\\site-packages\\ipykernel\\kernelbase.py\u001b[0m in \u001b[0;36m_input_request\u001b[1;34m(self, prompt, ident, parent, password)\u001b[0m\n\u001b[0;32m   1217\u001b[0m             \u001b[1;32mexcept\u001b[0m \u001b[0mKeyboardInterrupt\u001b[0m\u001b[1;33m:\u001b[0m\u001b[1;33m\u001b[0m\u001b[1;33m\u001b[0m\u001b[0m\n\u001b[0;32m   1218\u001b[0m                 \u001b[1;31m# re-raise KeyboardInterrupt, to truncate traceback\u001b[0m\u001b[1;33m\u001b[0m\u001b[1;33m\u001b[0m\u001b[0m\n\u001b[1;32m-> 1219\u001b[1;33m                 \u001b[1;32mraise\u001b[0m \u001b[0mKeyboardInterrupt\u001b[0m\u001b[1;33m(\u001b[0m\u001b[1;34m\"Interrupted by user\"\u001b[0m\u001b[1;33m)\u001b[0m \u001b[1;32mfrom\u001b[0m \u001b[1;32mNone\u001b[0m\u001b[1;33m\u001b[0m\u001b[1;33m\u001b[0m\u001b[0m\n\u001b[0m\u001b[0;32m   1220\u001b[0m             \u001b[1;32mexcept\u001b[0m \u001b[0mException\u001b[0m\u001b[1;33m:\u001b[0m\u001b[1;33m\u001b[0m\u001b[1;33m\u001b[0m\u001b[0m\n\u001b[0;32m   1221\u001b[0m                 \u001b[0mself\u001b[0m\u001b[1;33m.\u001b[0m\u001b[0mlog\u001b[0m\u001b[1;33m.\u001b[0m\u001b[0mwarning\u001b[0m\u001b[1;33m(\u001b[0m\u001b[1;34m\"Invalid Message:\"\u001b[0m\u001b[1;33m,\u001b[0m \u001b[0mexc_info\u001b[0m\u001b[1;33m=\u001b[0m\u001b[1;32mTrue\u001b[0m\u001b[1;33m)\u001b[0m\u001b[1;33m\u001b[0m\u001b[1;33m\u001b[0m\u001b[0m\n",
      "\u001b[1;31mKeyboardInterrupt\u001b[0m: Interrupted by user"
     ]
    }
   ],
   "source": [
    "student.student_manage()"
   ]
  },
  {
   "cell_type": "code",
   "execution_count": null,
   "id": "21292fbb-0250-4cc4-b25f-37ddcbddc246",
   "metadata": {},
   "outputs": [],
   "source": []
  },
  {
   "cell_type": "code",
   "execution_count": null,
   "id": "2f03e616-1e77-438a-99b5-1ba00276a1b6",
   "metadata": {},
   "outputs": [],
   "source": []
  },
  {
   "cell_type": "code",
   "execution_count": null,
   "id": "b07b8fb1-f550-4cbf-9aa3-282655d9cc5e",
   "metadata": {},
   "outputs": [],
   "source": []
  },
  {
   "cell_type": "code",
   "execution_count": null,
   "id": "8a7c2da4-faad-420d-a57f-29edd4d870bd",
   "metadata": {},
   "outputs": [],
   "source": []
  }
 ],
 "metadata": {
  "kernelspec": {
   "display_name": "yuuni",
   "language": "python",
   "name": "yuuni"
  },
  "language_info": {
   "codemirror_mode": {
    "name": "ipython",
    "version": 3
   },
   "file_extension": ".py",
   "mimetype": "text/x-python",
   "name": "python",
   "nbconvert_exporter": "python",
   "pygments_lexer": "ipython3",
   "version": "3.9.13"
  }
 },
 "nbformat": 4,
 "nbformat_minor": 5
}
