{
 "cells": [
  {
   "cell_type": "code",
   "execution_count": 1,
   "id": "0921f033-f3b6-472a-bd2b-b1a38a6370a9",
   "metadata": {},
   "outputs": [],
   "source": [
    "from selenium import webdriver\n",
    "from selenium.webdriver.common.keys import Keys\n",
    "from urllib.request import urlretrieve\n",
    "import time"
   ]
  },
  {
   "cell_type": "code",
   "execution_count": 2,
   "id": "06db73e5-b727-4cf7-95bf-ba21dc2c6036",
   "metadata": {},
   "outputs": [],
   "source": [
    "import numpy as np\n",
    "import pandas as pd\n",
    "from selenium import webdriver\n",
    "from selenium.webdriver.common.by import By\n",
    "from selenium.webdriver.common.keys import Keys\n",
    "from urllib.request import urlretrieve\n",
    "import time"
   ]
  },
  {
   "cell_type": "code",
   "execution_count": 3,
   "id": "ed352063-a211-4b4b-8006-5ea35a082c55",
   "metadata": {},
   "outputs": [
    {
     "name": "stderr",
     "output_type": "stream",
     "text": [
      "C:\\Users\\bjlov\\AppData\\Local\\Temp\\ipykernel_14796\\530843676.py:1: DeprecationWarning: executable_path has been deprecated, please pass in a Service object\n",
      "  driver = webdriver.Chrome('chromedriver.exe')\n"
     ]
    }
   ],
   "source": [
    "driver = webdriver.Chrome('chromedriver.exe')"
   ]
  },
  {
   "cell_type": "code",
   "execution_count": 4,
   "id": "480b782b-fccd-425a-a49d-ed6bceb1700a",
   "metadata": {},
   "outputs": [],
   "source": [
    "url = \"https://www.google.co.kr/imghp?hl=ko&ogbl\"\n",
    "driver.get(url)"
   ]
  },
  {
   "cell_type": "code",
   "execution_count": 5,
   "id": "dcf92d39-3679-4d2f-9ea0-05b0151ebcb9",
   "metadata": {},
   "outputs": [],
   "source": [
    "elem = driver.find_element(By.NAME, 'q')"
   ]
  },
  {
   "cell_type": "code",
   "execution_count": 6,
   "id": "9ea250d1-cbbc-4b19-98a2-f886327bc2b3",
   "metadata": {},
   "outputs": [],
   "source": [
    "search_img = '고양이'\n",
    "elem.send_keys(search_img)\n",
    "\n",
    "elem.send_keys(Keys.RETURN)"
   ]
  },
  {
   "cell_type": "code",
   "execution_count": 7,
   "id": "a73bb137-0c5a-4fdb-966f-906734564eeb",
   "metadata": {},
   "outputs": [
    {
     "data": {
      "text/plain": [
       "('mycat2.jpg', <email.message.Message at 0x24d07c88460>)"
      ]
     },
     "execution_count": 7,
     "metadata": {},
     "output_type": "execute_result"
    }
   ],
   "source": [
    "driver.find_elements(By.CSS_SELECTOR,'.rg_i.Q4LuWd')[3].click()\n",
    "img_url = driver.find_element(By.CSS_SELECTOR, '.n3VNCb').get_attribute('src')\n",
    "urlretrieve(img_url,'mycat2.jpg')"
   ]
  },
  {
   "cell_type": "code",
   "execution_count": 8,
   "id": "a8ae381d-e3bd-433e-b969-0bcfe50ae1a0",
   "metadata": {},
   "outputs": [
    {
     "name": "stderr",
     "output_type": "stream",
     "text": [
      "C:\\Users\\bjlov\\AppData\\Local\\Temp\\ipykernel_14796\\528402400.py:1: DeprecationWarning: executable_path has been deprecated, please pass in a Service object\n",
      "  driver = webdriver.Chrome('chromedriver.exe')\n"
     ]
    }
   ],
   "source": [
    "driver = webdriver.Chrome('chromedriver.exe')\n",
    "url = \"https://www.google.co.kr/imghp?hl=ko&ogbl\"\n",
    "driver.get(url)\n",
    "elem = driver.find_element(By.NAME, 'q')\n",
    "search_img = '고양이'\n",
    "elem.send_keys(search_img)\n",
    "elem.send_keys(Keys.RETURN)\n",
    "driver.implicitly_wait(1)\n",
    "images = driver.find_elements(By.CSS_SELECTOR,'.rg_i.Q4LuWd')\n",
    "cnt = 1\n",
    "for image in images:\n",
    "    image.click()\n",
    "    driver.implicitly_wait(1)\n",
    "    try:\n",
    "        img_url = driver.find_element(By.CSS_SELECTOR, '.n3VNCb').get_attribute('src')\n",
    "        urlretrieve(img_url,'mycat'+str(cnt)+'.jpg')\n",
    "        cnt += 1\n",
    "    except:\n",
    "        pass\n",
    "driver.close()"
   ]
  },
  {
   "cell_type": "code",
   "execution_count": 13,
   "id": "5b6723b2-a4b7-409d-a277-561ed891c92e",
   "metadata": {},
   "outputs": [
    {
     "name": "stderr",
     "output_type": "stream",
     "text": [
      "C:\\Users\\bjlov\\AppData\\Local\\Temp\\ipykernel_14796\\3716605470.py:1: DeprecationWarning: executable_path has been deprecated, please pass in a Service object\n",
      "  driver = webdriver.Chrome('chromedriver.exe')\n"
     ]
    }
   ],
   "source": [
    "driver = webdriver.Chrome('chromedriver.exe')\n",
    "url = \"https://www.google.co.kr/imghp?hl=ko&ogbl\"\n",
    "driver.get(url)\n",
    "elem = driver.find_element(By.NAME, 'q')\n",
    "search_img = '고양이'\n",
    "elem.send_keys(search_img)\n",
    "elem.send_keys(Keys.RETURN)\n",
    "last_height = driver.execute_script(\"return document.body.scrollHeight;\")"
   ]
  },
  {
   "cell_type": "code",
   "execution_count": 14,
   "id": "24219c10-d244-4f4f-a06c-3d63b6cc2002",
   "metadata": {},
   "outputs": [
    {
     "name": "stderr",
     "output_type": "stream",
     "text": [
      "C:\\Users\\bjlov\\AppData\\Local\\Temp\\ipykernel_14796\\3437658591.py:1: DeprecationWarning: executable_path has been deprecated, please pass in a Service object\n",
      "  driver = webdriver.Chrome('chromedriver.exe')\n"
     ]
    }
   ],
   "source": [
    "driver = webdriver.Chrome('chromedriver.exe')\n",
    "url = \"https://www.google.co.kr/imghp?hl=ko&ogbl\"\n",
    "driver.get(url)\n",
    "elem = driver.find_element(By.NAME, 'q')\n",
    "search_img = '고양이'\n",
    "elem.send_keys(search_img)\n",
    "elem.send_keys(Keys.RETURN)\n",
    "last_height = driver.execute_script(\"return document.body.scrollHeight;\")\n",
    "while True:\n",
    "    driver.execute_script(\"window.scrollTo(0,document.body.scrollHeight);\")\n",
    "    \n",
    "    time.sleep(2)\n",
    "    new_height = driver.execute_script(\"return document.body.scrollHeight;\")\n",
    "    if new_height == last_height:\n",
    "        try:\n",
    "            driver.find_element(By.CSS_SELECTOR,'.mye4qd').click()\n",
    "        except:\n",
    "            break\n",
    "    last_height = new_height\n",
    "\n",
    "driver.implicitly_wait(1)\n",
    "images = driver.find_elements(By.CSS_SELECTOR,'.rg_i.Q4LuWd')\n",
    "cnt = 1\n",
    "for image in images:\n",
    "    try:\n",
    "        image.click()\n",
    "        driver.implicitly_wait(1)\n",
    "        img_url = driver.find_element(By.CSS_SELECTOR, '.n3VNCb').get_attribute('src')\n",
    "        urlretrieve(img_url,'mycat'+str(cnt)+'.jpg')\n",
    "        cnt += 1\n",
    "    except:\n",
    "        pass\n",
    "driver.close()"
   ]
  },
  {
   "cell_type": "code",
   "execution_count": 10,
   "id": "f67286de-2027-4736-b162-ba7140390e32",
   "metadata": {},
   "outputs": [
    {
     "data": {
      "text/plain": [
       "3268"
      ]
     },
     "execution_count": 10,
     "metadata": {},
     "output_type": "execute_result"
    }
   ],
   "source": [
    "last_height"
   ]
  },
  {
   "cell_type": "code",
   "execution_count": 11,
   "id": "0dc2bd41-d178-4b0d-94d8-a4cc3a5f7694",
   "metadata": {},
   "outputs": [
    {
     "name": "stderr",
     "output_type": "stream",
     "text": [
      "C:\\Users\\bjlov\\AppData\\Local\\Temp\\ipykernel_14796\\2220242093.py:1: DeprecationWarning: executable_path has been deprecated, please pass in a Service object\n",
      "  driver = webdriver.Chrome('./chromedriver')\n"
     ]
    },
    {
     "ename": "AttributeError",
     "evalue": "'WebDriver' object has no attribute 'find_element_by_name'",
     "output_type": "error",
     "traceback": [
      "\u001b[1;31m---------------------------------------------------------------------------\u001b[0m",
      "\u001b[1;31mAttributeError\u001b[0m                            Traceback (most recent call last)",
      "\u001b[1;32m~\\AppData\\Local\\Temp\\ipykernel_14796\\2220242093.py\u001b[0m in \u001b[0;36m<module>\u001b[1;34m\u001b[0m\n\u001b[0;32m      2\u001b[0m \u001b[0murl\u001b[0m \u001b[1;33m=\u001b[0m \u001b[1;34m\"https://www.google.co.kr/imghp?hl=ko&ogbl\"\u001b[0m\u001b[1;33m\u001b[0m\u001b[1;33m\u001b[0m\u001b[0m\n\u001b[0;32m      3\u001b[0m \u001b[0mdriver\u001b[0m\u001b[1;33m.\u001b[0m\u001b[0mget\u001b[0m\u001b[1;33m(\u001b[0m\u001b[0murl\u001b[0m\u001b[1;33m)\u001b[0m\u001b[1;33m\u001b[0m\u001b[1;33m\u001b[0m\u001b[0m\n\u001b[1;32m----> 4\u001b[1;33m \u001b[0melem\u001b[0m \u001b[1;33m=\u001b[0m \u001b[0mdriver\u001b[0m\u001b[1;33m.\u001b[0m\u001b[0mfind_element_by_name\u001b[0m\u001b[1;33m(\u001b[0m\u001b[1;34m'q'\u001b[0m\u001b[1;33m)\u001b[0m\u001b[1;33m\u001b[0m\u001b[1;33m\u001b[0m\u001b[0m\n\u001b[0m\u001b[0;32m      5\u001b[0m \u001b[0melem\u001b[0m\u001b[1;33m.\u001b[0m\u001b[0msend_keys\u001b[0m\u001b[1;33m(\u001b[0m\u001b[1;34m'고양이'\u001b[0m\u001b[1;33m)\u001b[0m\u001b[1;33m\u001b[0m\u001b[1;33m\u001b[0m\u001b[0m\n\u001b[0;32m      6\u001b[0m \u001b[0melem\u001b[0m\u001b[1;33m.\u001b[0m\u001b[0msend_keys\u001b[0m\u001b[1;33m(\u001b[0m\u001b[0mKeys\u001b[0m\u001b[1;33m.\u001b[0m\u001b[0mRETURN\u001b[0m\u001b[1;33m)\u001b[0m\u001b[1;33m\u001b[0m\u001b[1;33m\u001b[0m\u001b[0m\n",
      "\u001b[1;31mAttributeError\u001b[0m: 'WebDriver' object has no attribute 'find_element_by_name'"
     ]
    }
   ],
   "source": [
    "driver = webdriver.Chrome('./chromedriver')\n",
    "url = \"https://www.google.co.kr/imghp?hl=ko&ogbl\"\n",
    "driver.get(url)\n",
    "elem = driver.find_element_by_name('q')\n",
    "elem.send_keys('고양이')\n",
    "elem.send_keys(Keys.RETURN)\n",
    "image = driver.find_elements_by_css_selector('.rg_i.Q4LuWd')[0].click()\n",
    "driver.implicitly_wait(5)\n",
    "\n",
    "image = driver.find_element_by_css_selector('.n3VNCb').get_attribute('src')\n",
    "urlretrieve(image,'cat.jpg')"
   ]
  },
  {
   "cell_type": "code",
   "execution_count": 12,
   "id": "44871d53-cf40-4a2c-8780-c2b8e52ec0b1",
   "metadata": {},
   "outputs": [
    {
     "name": "stderr",
     "output_type": "stream",
     "text": [
      "C:\\Users\\bjlov\\AppData\\Local\\Temp\\ipykernel_14796\\2226334643.py:1: DeprecationWarning: executable_path has been deprecated, please pass in a Service object\n",
      "  driver = webdriver.Chrome('./chromedriver')\n"
     ]
    },
    {
     "ename": "AttributeError",
     "evalue": "'WebDriver' object has no attribute 'find_element_by_name'",
     "output_type": "error",
     "traceback": [
      "\u001b[1;31m---------------------------------------------------------------------------\u001b[0m",
      "\u001b[1;31mAttributeError\u001b[0m                            Traceback (most recent call last)",
      "\u001b[1;32m~\\AppData\\Local\\Temp\\ipykernel_14796\\2226334643.py\u001b[0m in \u001b[0;36m<module>\u001b[1;34m\u001b[0m\n\u001b[0;32m      2\u001b[0m \u001b[0murl\u001b[0m \u001b[1;33m=\u001b[0m \u001b[1;34m\"https://www.google.co.kr/imghp?hl=ko&ogbl\"\u001b[0m\u001b[1;33m\u001b[0m\u001b[1;33m\u001b[0m\u001b[0m\n\u001b[0;32m      3\u001b[0m \u001b[0mdriver\u001b[0m\u001b[1;33m.\u001b[0m\u001b[0mget\u001b[0m\u001b[1;33m(\u001b[0m\u001b[0murl\u001b[0m\u001b[1;33m)\u001b[0m\u001b[1;33m\u001b[0m\u001b[1;33m\u001b[0m\u001b[0m\n\u001b[1;32m----> 4\u001b[1;33m \u001b[0melem\u001b[0m \u001b[1;33m=\u001b[0m \u001b[0mdriver\u001b[0m\u001b[1;33m.\u001b[0m\u001b[0mfind_element_by_name\u001b[0m\u001b[1;33m(\u001b[0m\u001b[1;34m'q'\u001b[0m\u001b[1;33m)\u001b[0m\u001b[1;33m\u001b[0m\u001b[1;33m\u001b[0m\u001b[0m\n\u001b[0m\u001b[0;32m      5\u001b[0m \u001b[0melem\u001b[0m\u001b[1;33m.\u001b[0m\u001b[0msend_keys\u001b[0m\u001b[1;33m(\u001b[0m\u001b[1;34m'고양이'\u001b[0m\u001b[1;33m)\u001b[0m\u001b[1;33m\u001b[0m\u001b[1;33m\u001b[0m\u001b[0m\n\u001b[0;32m      6\u001b[0m \u001b[0melem\u001b[0m\u001b[1;33m.\u001b[0m\u001b[0msend_keys\u001b[0m\u001b[1;33m(\u001b[0m\u001b[0mKeys\u001b[0m\u001b[1;33m.\u001b[0m\u001b[0mRETURN\u001b[0m\u001b[1;33m)\u001b[0m\u001b[1;33m\u001b[0m\u001b[1;33m\u001b[0m\u001b[0m\n",
      "\u001b[1;31mAttributeError\u001b[0m: 'WebDriver' object has no attribute 'find_element_by_name'"
     ]
    }
   ],
   "source": [
    "driver = webdriver.Chrome('./chromedriver')\n",
    "url = \"https://www.google.co.kr/imghp?hl=ko&ogbl\"\n",
    "driver.get(url)\n",
    "elem = driver.find_element_by_name('q')\n",
    "elem.send_keys('고양이')\n",
    "elem.send_keys(Keys.RETURN)\n",
    "images = driver.find_elements_by_css_selector('.rg_i.Q4LuWd')\n",
    "cnt = 1\n",
    "for image in images:\n",
    "    image.click()\n",
    "    driver.implicitly_wait(5)\n",
    "    image = driver.find_element_by_css_selector('.n3VNCb').get_attribute('src')\n",
    "    urlretrieve(image,'cat'+str(cnt)+'.jpg')\n",
    "    cnt += 1"
   ]
  },
  {
   "cell_type": "code",
   "execution_count": null,
   "id": "c64bc04a-9c54-4692-b175-d575f93c319b",
   "metadata": {},
   "outputs": [],
   "source": [
    "last_height = driver.execute_script(\"return document.body.scrollHeight;\")\n",
    "while True:\n",
    "    driver.execute_script(\"window.scrollTo(0,document.body.scrollHeight);\")\n",
    "    time.sleep(1)\n",
    "    new_height = driver.execute_script(\"return document.body.scrollHeight;\")\n",
    "    if new_height == last_height:\n",
    "        break\n",
    "    last_height = new_height\n",
    "    "
   ]
  },
  {
   "cell_type": "code",
   "execution_count": null,
   "id": "fa29af09-7b4f-49d5-a56c-75d5f16cc108",
   "metadata": {},
   "outputs": [],
   "source": [
    "last_height = driver.execute_script(\"return document.body.scrollHeight;\")\n",
    "while True:\n",
    "    driver.execute_script(\"window.scrollTo(0,document.body.scrollHeight);\")\n",
    "    time.sleep(1)\n",
    "    new_height = driver.execute_script(\"return document.body.scrollHeight;\")\n",
    "    if new_height == last_height:\n",
    "        try:\n",
    "            driver.find_element_by_css('.mye4qd').click()\n",
    "        except:\n",
    "            break\n",
    "    last_height = new_height"
   ]
  },
  {
   "cell_type": "code",
   "execution_count": null,
   "id": "260f5657-ae2d-4ed9-a361-ed15418368be",
   "metadata": {},
   "outputs": [],
   "source": []
  }
 ],
 "metadata": {
  "kernelspec": {
   "display_name": "yuuni",
   "language": "python",
   "name": "yuuni"
  },
  "language_info": {
   "codemirror_mode": {
    "name": "ipython",
    "version": 3
   },
   "file_extension": ".py",
   "mimetype": "text/x-python",
   "name": "python",
   "nbconvert_exporter": "python",
   "pygments_lexer": "ipython3",
   "version": "3.9.13"
  }
 },
 "nbformat": 4,
 "nbformat_minor": 5
}
