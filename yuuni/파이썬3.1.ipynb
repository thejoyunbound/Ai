{
 "cells": [
  {
   "cell_type": "code",
   "execution_count": 6,
   "id": "999e6545-ee45-486b-aee3-56e5deb8ee98",
   "metadata": {},
   "outputs": [
    {
     "data": {
      "text/plain": [
       "1678162754.429436"
      ]
     },
     "execution_count": 6,
     "metadata": {},
     "output_type": "execute_result"
    }
   ],
   "source": [
    "import time\n",
    "time.time()"
   ]
  },
  {
   "cell_type": "code",
   "execution_count": 7,
   "id": "8496adbb-0edd-4be5-a66c-795aef3ea183",
   "metadata": {},
   "outputs": [
    {
     "data": {
      "text/plain": [
       "1678162759.578079"
      ]
     },
     "execution_count": 7,
     "metadata": {},
     "output_type": "execute_result"
    }
   ],
   "source": [
    "time.time() + 5"
   ]
  },
  {
   "cell_type": "code",
   "execution_count": 8,
   "id": "3aea5ac0-7a24-4dee-9be9-bc864ee5dec3",
   "metadata": {},
   "outputs": [
    {
     "data": {
      "text/plain": [
       "36034974"
      ]
     },
     "execution_count": 8,
     "metadata": {},
     "output_type": "execute_result"
    }
   ],
   "source": [
    "cnt = 0\n",
    "after_time = time.time() + 5\n",
    "while time.time() < after_time:\n",
    "    cnt += 1\n",
    "cnt"
   ]
  },
  {
   "cell_type": "code",
   "execution_count": 10,
   "id": "0e6f3069-6085-4183-ad53-f34c033826b7",
   "metadata": {},
   "outputs": [
    {
     "name": "stdout",
     "output_type": "stream",
     "text": [
      "1번째 방문입니다\n"
     ]
    },
    {
     "name": "stdin",
     "output_type": "stream",
     "text": [
      "반복을 종료하시겠습니까? Y\n"
     ]
    },
    {
     "name": "stdout",
     "output_type": "stream",
     "text": [
      "2번째 방문하셨습니다 이상 반복을 종료합니다\n"
     ]
    }
   ],
   "source": [
    "i = 1 \n",
    "while True:\n",
    "    print(f'{i}번째 방문입니다')\n",
    "    text = input('반복을 종료하시겠습니까?')\n",
    "    text = text.upper()\n",
    "    i += 1\n",
    "    if text == 'Y':\n",
    "        print(f'{i}번째 방문하셨습니다 이상 반복을 종료합니다')\n",
    "        break"
   ]
  },
  {
   "cell_type": "code",
   "execution_count": 25,
   "id": "f6f2164e-ab16-449d-8ba2-848fdfc668b4",
   "metadata": {},
   "outputs": [
    {
     "data": {
      "text/plain": [
       "'Y'"
      ]
     },
     "execution_count": 25,
     "metadata": {},
     "output_type": "execute_result"
    }
   ],
   "source": [
    "text"
   ]
  },
  {
   "cell_type": "code",
   "execution_count": 26,
   "id": "65bff5f8-f359-4831-bd8e-587c9054ce3e",
   "metadata": {},
   "outputs": [],
   "source": [
    "number = [2,20,15,3,7,10]"
   ]
  },
  {
   "cell_type": "code",
   "execution_count": 27,
   "id": "ec693fbd-418d-458a-9f8e-14378a1e20eb",
   "metadata": {},
   "outputs": [
    {
     "name": "stdout",
     "output_type": "stream",
     "text": [
      "20\n",
      "15\n",
      "10\n"
     ]
    }
   ],
   "source": [
    "for number in number:\n",
    "    if number < 10:\n",
    "        continue\n",
    "    print(number)"
   ]
  },
  {
   "cell_type": "code",
   "execution_count": 28,
   "id": "2c994361-828d-4b2a-ad6b-f6f93cc0d6fa",
   "metadata": {},
   "outputs": [
    {
     "data": {
      "text/plain": [
       "[4, 5]"
      ]
     },
     "execution_count": 28,
     "metadata": {},
     "output_type": "execute_result"
    }
   ],
   "source": [
    "list(range(4,6))"
   ]
  },
  {
   "cell_type": "code",
   "execution_count": 37,
   "id": "4873c392-3ee5-478d-95d1-0a6a1b8f41bb",
   "metadata": {},
   "outputs": [
    {
     "data": {
      "text/plain": [
       "[7, 6, 5, 4, 3, 2, 1]"
      ]
     },
     "execution_count": 37,
     "metadata": {},
     "output_type": "execute_result"
    }
   ],
   "source": [
    "list(range(7,0,-1))"
   ]
  },
  {
   "cell_type": "code",
   "execution_count": 38,
   "id": "5f4a87d6-c5d9-49b4-9c4b-b5582c84ddb8",
   "metadata": {},
   "outputs": [
    {
     "data": {
      "text/plain": [
       "[3, 6, 9]"
      ]
     },
     "execution_count": 38,
     "metadata": {},
     "output_type": "execute_result"
    }
   ],
   "source": [
    "list(range(3,10,3))"
   ]
  },
  {
   "cell_type": "code",
   "execution_count": 42,
   "id": "342ace77-b413-4120-8ef0-44c9c3e46433",
   "metadata": {},
   "outputs": [],
   "source": [
    "key_list = ['name','hp','mp','level']\n",
    "value_list = ['기사',200,30,5]"
   ]
  },
  {
   "cell_type": "code",
   "execution_count": 43,
   "id": "3d93ce86-9660-462a-b6f9-b8b61808ad57",
   "metadata": {},
   "outputs": [],
   "source": [
    "sample = {\n",
    "    'name':'기사',\n",
    "    'hp':200,\n",
    "    'mp':30,\n",
    "    'level':5,\n",
    "}"
   ]
  },
  {
   "cell_type": "code",
   "execution_count": 49,
   "id": "447d02f7-ec6b-4590-ba13-93090c8d562f",
   "metadata": {},
   "outputs": [
    {
     "data": {
      "text/plain": [
       "{'name': '기사', 'hp': 200, 'mp': 30, 'level': 5}"
      ]
     },
     "execution_count": 49,
     "metadata": {},
     "output_type": "execute_result"
    }
   ],
   "source": [
    "charater = {}\n",
    "# for i in range(len(key_list)):\n",
    "charater['name'] = '기사'\n",
    "charater['hp'] = 200\n",
    "charater['mp'] = 30\n",
    "charater['level'] = 5\n",
    "charater\n",
    "# 밑이랑 이어서 보기"
   ]
  },
  {
   "cell_type": "code",
   "execution_count": 50,
   "id": "d02d1f0e-7a52-4125-a7db-fd17c5dd225f",
   "metadata": {},
   "outputs": [
    {
     "name": "stdout",
     "output_type": "stream",
     "text": [
      "{'name': '기사'}\n",
      "{'name': '기사', 'hp': 200}\n",
      "{'name': '기사', 'hp': 200, 'mp': 30}\n",
      "{'name': '기사', 'hp': 200, 'mp': 30, 'level': 5}\n"
     ]
    }
   ],
   "source": [
    "charater = {}\n",
    "# for i in range(len(key_list)):\n",
    "charater[key_list[0]] = value_list[0]\n",
    "print(charater)\n",
    "charater[key_list[1]] = value_list[1]\n",
    "print(charater)\n",
    "charater[key_list[2]] = value_list[2]\n",
    "print(charater)\n",
    "charater[key_list[3]] = value_list[3]\n",
    "print(charater)\n",
    "# 밑이랑 이어서 보기"
   ]
  },
  {
   "cell_type": "code",
   "execution_count": 51,
   "id": "c558a5a5-a710-402a-8523-90eeed929446",
   "metadata": {},
   "outputs": [
    {
     "name": "stdout",
     "output_type": "stream",
     "text": [
      "{}\n",
      "{'name': '기사'}\n",
      "{'name': '기사', 'hp': 200}\n",
      "{'name': '기사', 'hp': 200, 'mp': 30}\n",
      "{'name': '기사', 'hp': 200, 'mp': 30, 'level': 5}\n"
     ]
    }
   ],
   "source": [
    "character = {}\n",
    "print(character)\n",
    "for i in range(len(key_list)):\n",
    "    character[key_list[i]] = value_list[i]\n",
    "    print(character)"
   ]
  },
  {
   "cell_type": "code",
   "execution_count": 54,
   "id": "8f13c3ae-af55-4805-81fc-d1ff67fb96da",
   "metadata": {},
   "outputs": [],
   "source": [
    "character1 = dict(zip(key_list,value_list))"
   ]
  },
  {
   "cell_type": "code",
   "execution_count": 55,
   "id": "ba857baf-aea4-45f8-a05e-8e8be0fae20f",
   "metadata": {},
   "outputs": [
    {
     "data": {
      "text/plain": [
       "{'name': '기사', 'hp': 200, 'mp': 30, 'level': 5}"
      ]
     },
     "execution_count": 55,
     "metadata": {},
     "output_type": "execute_result"
    }
   ],
   "source": [
    "dict(zip(key_list,value_list))"
   ]
  },
  {
   "cell_type": "code",
   "execution_count": 101,
   "id": "7e54fd40-1cee-4a81-aca9-b6618fc356e1",
   "metadata": {},
   "outputs": [
    {
     "name": "stdout",
     "output_type": "stream",
     "text": [
      "2 1\n",
      "3 3\n",
      "4 6\n",
      "5 10\n",
      "6 15\n",
      "7 21\n",
      "8 28\n",
      "9 36\n",
      "10 45\n",
      "11 55\n",
      "12 66\n",
      "13 78\n",
      "14 91\n",
      "15 105\n",
      "16 120\n",
      "17 136\n",
      "18 153\n",
      "19 171\n",
      "20 190\n",
      "21 210\n",
      "22 231\n",
      "23 253\n",
      "24 276\n",
      "25 300\n",
      "26 325\n",
      "27 351\n",
      "28 378\n",
      "29 406\n",
      "30 435\n",
      "31 465\n",
      "32 496\n",
      "33 528\n",
      "34 561\n",
      "35 595\n",
      "36 630\n",
      "37 666\n",
      "38 703\n",
      "39 741\n",
      "40 780\n",
      "41 820\n",
      "42 861\n",
      "43 903\n",
      "44 946\n",
      "45 990\n",
      "46 1035\n"
     ]
    }
   ],
   "source": [
    "s = 0\n",
    "number = 1\n",
    "while s < 1000:\n",
    "    s = 0\n",
    "    for i in range(1,number+1):\n",
    "        s += i\n",
    "    number += 1\n",
    "    \n",
    "# 사실 이해한게 아니였고 고수들 개많네요 \n",
    "    print(number,s)"
   ]
  },
  {
   "cell_type": "code",
   "execution_count": 78,
   "id": "5296fd6e-6f20-4b62-8714-cfb29570446b",
   "metadata": {},
   "outputs": [
    {
     "name": "stdout",
     "output_type": "stream",
     "text": [
      "142를 더할때 1000을 넘으면 그 값은 10011입니다\n"
     ]
    }
   ],
   "source": [
    "s = 0\n",
    "number = 1\n",
    "while s < 10000:\n",
    "    s = 0\n",
    "    for i in range(1,number+1):\n",
    "        s += i\n",
    "    number += 1\n",
    "    \n",
    "print(f'{number}를 더할때 1000을 넘으면 그 값은 {s}입니다')"
   ]
  },
  {
   "cell_type": "code",
   "execution_count": 79,
   "id": "d6472609-61dd-4cb1-99f7-02cf928545a1",
   "metadata": {},
   "outputs": [],
   "source": [
    "fac3=6*5*4*3*2*1\n",
    "n10=10**6"
   ]
  },
  {
   "cell_type": "code",
   "execution_count": 100,
   "id": "13f5018f-a569-4047-b7b1-855bebb41c06",
   "metadata": {},
   "outputs": [
    {
     "data": {
      "text/plain": [
       "6227020800"
      ]
     },
     "execution_count": 100,
     "metadata": {},
     "output_type": "execute_result"
    }
   ],
   "source": [
    "f = 1\n",
    "for i in range(1,14):\n",
    "    f *= i\n",
    "f"
   ]
  },
  {
   "cell_type": "code",
   "execution_count": 84,
   "id": "a9402471-fb7e-4369-9124-078e0109683b",
   "metadata": {},
   "outputs": [],
   "source": [
    "n = 10**13"
   ]
  },
  {
   "cell_type": "code",
   "execution_count": 85,
   "id": "c6fc3d17-b9d3-4f60-b7c8-de70e9e76a4c",
   "metadata": {},
   "outputs": [
    {
     "data": {
      "text/plain": [
       "10000000000000"
      ]
     },
     "execution_count": 85,
     "metadata": {},
     "output_type": "execute_result"
    }
   ],
   "source": [
    "n"
   ]
  },
  {
   "cell_type": "code",
   "execution_count": 88,
   "id": "7740a71f-d5af-4a8f-83a8-82461082c7f5",
   "metadata": {},
   "outputs": [
    {
     "ename": "SyntaxError",
     "evalue": "invalid syntax (578026140.py, line 1)",
     "output_type": "error",
     "traceback": [
      "\u001b[1;36m  File \u001b[1;32m\"C:\\Users\\bjlov\\AppData\\Local\\Temp\\ipykernel_13896\\578026140.py\"\u001b[1;36m, line \u001b[1;32m1\u001b[0m\n\u001b[1;33m    factorial 2 = 1*2\u001b[0m\n\u001b[1;37m              ^\u001b[0m\n\u001b[1;31mSyntaxError\u001b[0m\u001b[1;31m:\u001b[0m invalid syntax\n"
     ]
    }
   ],
   "source": [
    "factorial 2 = 1*2\n",
    "factorial 3 = 1*2*3\n",
    "n! > 10**n\n",
    "# ? "
   ]
  },
  {
   "cell_type": "code",
   "execution_count": 96,
   "id": "db74bd53-84c4-4820-810f-471a14a5126c",
   "metadata": {},
   "outputs": [
    {
     "name": "stdout",
     "output_type": "stream",
     "text": [
      "1 1 10\n",
      "2 2 100\n",
      "3 6 1000\n",
      "4 24 10000\n",
      "5 120 100000\n",
      "6 720 1000000\n",
      "7 5040 10000000\n",
      "8 40320 100000000\n",
      "9 362880 1000000000\n",
      "10 3628800 10000000000\n",
      "11 39916800 100000000000\n",
      "12 479001600 1000000000000\n",
      "13 6227020800 10000000000000\n",
      "14 87178291200 100000000000000\n",
      "15 1307674368000 1000000000000000\n",
      "16 20922789888000 10000000000000000\n",
      "17 355687428096000 100000000000000000\n",
      "18 6402373705728000 1000000000000000000\n",
      "19 121645100408832000 10000000000000000000\n",
      "20 2432902008176640000 100000000000000000000\n",
      "21 51090942171709440000 1000000000000000000000\n",
      "22 1124000727777607680000 10000000000000000000000\n",
      "23 25852016738884976640000 100000000000000000000000\n",
      "24 620448401733239439360000 1000000000000000000000000\n",
      "25 15511210043330985984000000 10000000000000000000000000\n"
     ]
    }
   ],
   "source": [
    "factorial = 1\n",
    "_10n = 10\n",
    "number = 1\n",
    "while factorial < _10n:\n",
    "    \n",
    "    factorial = 1\n",
    "    for i in range(1,number+1):\n",
    "        factorial = factorial*i\n",
    "    \n",
    "    _10n = 10**number\n",
    "    number += 1\n",
    "    print(number-1, factorial, _10n)\n",
    "    "
   ]
  },
  {
   "cell_type": "code",
   "execution_count": null,
   "id": "4e18174c-1808-44bc-be44-7408a6d61ced",
   "metadata": {},
   "outputs": [
    {
     "name": "stdout",
     "output_type": "stream",
     "text": [
      "25 15511210043330985984000000 10000000000000000000000000\n"
     ]
    }
   ],
   "source": [
    "for number in range(1,10000):\n",
    "    fac = 1\n",
    "    _10 = 10\n",
    "    for i in range(1,number+1):\n",
    "        fac *= i\n",
    "    _10 = _10**number\n",
    "    if fac > _10:\n",
    "        print(number,fac,_10)\n",
    "        break\n",
    "#         정보) 무슨 개소린지 이건 좀 헷갈린다 "
   ]
  },
  {
   "cell_type": "code",
   "execution_count": 109,
   "id": "581df738-a3da-4d5d-989e-9c8b79033452",
   "metadata": {},
   "outputs": [],
   "source": [
    "li = [10,20,30]"
   ]
  },
  {
   "cell_type": "code",
   "execution_count": 110,
   "id": "e4546dad-ae76-471b-aef7-70ed77454057",
   "metadata": {},
   "outputs": [
    {
     "data": {
      "text/plain": [
       "10"
      ]
     },
     "execution_count": 110,
     "metadata": {},
     "output_type": "execute_result"
    }
   ],
   "source": [
    "min(li)"
   ]
  },
  {
   "cell_type": "code",
   "execution_count": 111,
   "id": "dea34b3e-e7e5-4cc4-b671-5658904edb79",
   "metadata": {},
   "outputs": [
    {
     "data": {
      "text/plain": [
       "60"
      ]
     },
     "execution_count": 111,
     "metadata": {},
     "output_type": "execute_result"
    }
   ],
   "source": [
    "sum(li)"
   ]
  },
  {
   "cell_type": "code",
   "execution_count": 112,
   "id": "577550c6-1f4d-4341-9d4e-18e99c500ecd",
   "metadata": {},
   "outputs": [
    {
     "data": {
      "text/plain": [
       "30"
      ]
     },
     "execution_count": 112,
     "metadata": {},
     "output_type": "execute_result"
    }
   ],
   "source": [
    "max(li)"
   ]
  },
  {
   "cell_type": "code",
   "execution_count": 113,
   "id": "ca10c0ba-38a9-42d1-91be-91df129c8188",
   "metadata": {},
   "outputs": [],
   "source": [
    "li = [1,3,2,5,4]"
   ]
  },
  {
   "cell_type": "code",
   "execution_count": 114,
   "id": "d3c5f9c9-5edc-4de7-96fb-f1542722cf50",
   "metadata": {},
   "outputs": [
    {
     "data": {
      "text/plain": [
       "[4, 5, 2, 3, 1]"
      ]
     },
     "execution_count": 114,
     "metadata": {},
     "output_type": "execute_result"
    }
   ],
   "source": [
    "list(reversed(li))"
   ]
  },
  {
   "cell_type": "code",
   "execution_count": 115,
   "id": "4ca5b29e-dc0b-4a92-a1bb-af02db86b1b8",
   "metadata": {},
   "outputs": [],
   "source": [
    "li.sort()"
   ]
  },
  {
   "cell_type": "code",
   "execution_count": 120,
   "id": "25c2b5d6-fa7f-4261-9092-c9ab2195810d",
   "metadata": {},
   "outputs": [
    {
     "data": {
      "text/plain": [
       "[1, 2, 3, 4, 5]"
      ]
     },
     "execution_count": 120,
     "metadata": {},
     "output_type": "execute_result"
    }
   ],
   "source": [
    "li"
   ]
  },
  {
   "cell_type": "code",
   "execution_count": 122,
   "id": "e176a41e-26a7-4de1-9d26-2362513f48bb",
   "metadata": {},
   "outputs": [
    {
     "data": {
      "text/plain": [
       "[1, 2, 3, 4]"
      ]
     },
     "execution_count": 122,
     "metadata": {},
     "output_type": "execute_result"
    }
   ],
   "source": [
    "li[:-1]"
   ]
  },
  {
   "cell_type": "code",
   "execution_count": 119,
   "id": "80c43d13-2d4d-45d8-a4dc-6d9a1f2d4ab7",
   "metadata": {},
   "outputs": [
    {
     "data": {
      "text/plain": [
       "[5, 4, 3, 2, 1]"
      ]
     },
     "execution_count": 119,
     "metadata": {},
     "output_type": "execute_result"
    }
   ],
   "source": [
    "li[::-1]"
   ]
  },
  {
   "cell_type": "code",
   "execution_count": 124,
   "id": "37a2dc8c-aa21-40c7-869e-b54079dbaa4e",
   "metadata": {},
   "outputs": [
    {
     "name": "stdout",
     "output_type": "stream",
     "text": [
      "0 1\n",
      "1 2\n",
      "2 3\n",
      "3 4\n",
      "4 5\n"
     ]
    }
   ],
   "source": [
    "for i,_ in enumerate(li):\n",
    "    print(i,li[i])"
   ]
  },
  {
   "cell_type": "code",
   "execution_count": 125,
   "id": "2f09623c-ec25-4e60-9e64-c7a0b4783434",
   "metadata": {},
   "outputs": [
    {
     "name": "stdout",
     "output_type": "stream",
     "text": [
      "0 1\n",
      "1 2\n",
      "2 3\n",
      "3 4\n",
      "4 5\n"
     ]
    }
   ],
   "source": [
    "j = 0\n",
    "for i in li:\n",
    "    print(j,li[j])\n",
    "    j += 1"
   ]
  },
  {
   "cell_type": "code",
   "execution_count": 127,
   "id": "d3a454c0-3503-4d33-bd5c-ac6429250286",
   "metadata": {},
   "outputs": [],
   "source": [
    "example = {\n",
    "    '키A':'값A',\n",
    "    '키B':'값B',\n",
    "    '키C':'값C',\n",
    "}"
   ]
  },
  {
   "cell_type": "code",
   "execution_count": 129,
   "id": "a2dccab9-ad00-4a56-87b3-0f8415ca1539",
   "metadata": {},
   "outputs": [
    {
     "name": "stdout",
     "output_type": "stream",
     "text": [
      "키A 값A\n",
      "키B 값B\n",
      "키C 값C\n"
     ]
    }
   ],
   "source": [
    "for k,v in example.items():\n",
    "    print(k,v)"
   ]
  },
  {
   "cell_type": "code",
   "execution_count": 131,
   "id": "cd41c98e-f026-4f51-9e5f-509fea3e34c2",
   "metadata": {},
   "outputs": [
    {
     "name": "stdout",
     "output_type": "stream",
     "text": [
      "값A\n",
      "값B\n",
      "값C\n"
     ]
    }
   ],
   "source": [
    "for i in example.values():\n",
    "    print(i)"
   ]
  },
  {
   "cell_type": "code",
   "execution_count": 249,
   "id": "7e160fc4-8e42-43e7-9626-29905264a668",
   "metadata": {},
   "outputs": [],
   "source": [
    "li = [1,2,3,4,5]"
   ]
  },
  {
   "cell_type": "code",
   "execution_count": 250,
   "id": "1584a84b-7833-49db-aff1-a7400838e0b6",
   "metadata": {},
   "outputs": [],
   "source": [
    "# 리스트에 각각 3씩 더하기 \n",
    "li1 = []\n",
    "for i in li:\n",
    "    li1.append(i+3)"
   ]
  },
  {
   "cell_type": "code",
   "execution_count": 251,
   "id": "83b4fd5c-2348-42a5-9c91-25f8ce7258c1",
   "metadata": {},
   "outputs": [],
   "source": [
    "# li[0] = li[0:+3]\n",
    "# li1\n",
    "# 걍 해봄"
   ]
  },
  {
   "cell_type": "code",
   "execution_count": 252,
   "id": "01b05abd-0f3f-4084-bea5-a299e2207895",
   "metadata": {},
   "outputs": [],
   "source": [
    "# li[0] = li[0]+3\n",
    "# li[1] = li[1]+3\n",
    "# 한무반복하면 4 5 6 7 8 나옴 \n"
   ]
  },
  {
   "cell_type": "code",
   "execution_count": 253,
   "id": "b627e938-0ee5-4635-953c-92681bf146e5",
   "metadata": {},
   "outputs": [
    {
     "data": {
      "text/plain": [
       "[4, 5, 6, 7, 8]"
      ]
     },
     "execution_count": 290,
     "metadata": {},
     "output_type": "execute_result"
    }
   ],
   "source": [
    "# for 구분 리스트에 각각 3씩 더하기\n",
    "for i in range(len(li)):\n",
    "    li[i] = li[i] + 3\n",
    "li"
   ]
  },
  {
   "cell_type": "code",
   "execution_count": 254,
   "id": "254aa3ff-4a6b-4627-b44c-3f19c4ac6273",
   "metadata": {},
   "outputs": [
    {
     "data": {
      "text/plain": [
       "[4, 5, 6, 7, 8]"
      ]
     },
     "execution_count": 291,
     "metadata": {},
     "output_type": "execute_result"
    }
   ],
   "source": [
    "li1 = []\n",
    "for i in li:\n",
    "    li1.append(i+3)\n",
    "li"
   ]
  },
  {
   "cell_type": "code",
   "execution_count": 255,
   "id": "cd2b2ed2-2511-4c95-a72e-888d61dc8ff9",
   "metadata": {},
   "outputs": [
    {
     "data": {
      "text/plain": [
       "{0: 4, 1: 5, 2: 6, 3: 7, 4: 8}"
      ]
     },
     "execution_count": 292,
     "metadata": {},
     "output_type": "execute_result"
    }
   ],
   "source": [
    "{ i:v for i,v in enumerate(li) }"
   ]
  },
  {
   "cell_type": "code",
   "execution_count": 280,
   "id": "39ad97b6-ce1e-418e-ba2e-c3d5f25541d0",
   "metadata": {},
   "outputs": [],
   "source": [
    "li = ['1','2','3','4']"
   ]
  },
  {
   "cell_type": "code",
   "execution_count": 281,
   "id": "a1b0ec0e-e3b7-4266-8a1c-2b137e983c96",
   "metadata": {},
   "outputs": [],
   "source": [
    "li[0] = int(li[0])\n",
    "li[1] = int(li[1])\n",
    "li[2] = int(li[2])\n",
    "li[3] = int(li[3])"
   ]
  },
  {
   "cell_type": "code",
   "execution_count": 317,
   "id": "641b82b5-36f5-4490-8f7f-54ff3145297c",
   "metadata": {},
   "outputs": [],
   "source": [
    "li = ['1','2','3','4']"
   ]
  },
  {
   "cell_type": "code",
   "execution_count": 318,
   "id": "9f7ff73a-a160-4b40-908c-ba825ff61486",
   "metadata": {},
   "outputs": [
    {
     "name": "stdout",
     "output_type": "stream",
     "text": [
      "['1', '2', '3', '4']\n",
      "[1, 2, 3, 4]\n"
     ]
    }
   ],
   "source": [
    "print(li)\n",
    "print([ int(i) for i in li])\n",
    "# 이거 왜이럼 시발"
   ]
  },
  {
   "cell_type": "code",
   "execution_count": 319,
   "id": "8e0f3368-4f50-4fc1-bd0f-f12c4a4e55a7",
   "metadata": {},
   "outputs": [
    {
     "data": {
      "text/plain": [
       "10"
      ]
     },
     "execution_count": 319,
     "metadata": {},
     "output_type": "execute_result"
    }
   ],
   "source": [
    "for i,_ in enumerate(li):\n",
    "    li[i] = int(li[i])\n",
    "sum(li)"
   ]
  },
  {
   "cell_type": "code",
   "execution_count": 316,
   "id": "6edf859b-c325-49f9-8132-0a1ecd05fb21",
   "metadata": {},
   "outputs": [],
   "source": [
    "li = [1,2,3,4,5]"
   ]
  },
  {
   "cell_type": "code",
   "execution_count": 265,
   "id": "40fd98e0-e26d-4f44-86ea-06a2b1119a2c",
   "metadata": {},
   "outputs": [
    {
     "data": {
      "text/plain": [
       "['a', 'a', 'a', 'a', 'a']"
      ]
     },
     "execution_count": 299,
     "metadata": {},
     "output_type": "execute_result"
    }
   ],
   "source": [
    "['a' for i in li]"
   ]
  },
  {
   "cell_type": "code",
   "execution_count": 266,
   "id": "0fa12824-8111-4f8d-a7ff-3e37dfb92f96",
   "metadata": {},
   "outputs": [
    {
     "data": {
      "text/plain": [
       "['a1', 'a2', 'a3', 'a4', 'a5']"
      ]
     },
     "execution_count": 300,
     "metadata": {},
     "output_type": "execute_result"
    }
   ],
   "source": [
    "['a'+str(i) for i in li]"
   ]
  },
  {
   "cell_type": "code",
   "execution_count": 267,
   "id": "2e4cdaf2-8c7c-4c6b-8c7b-fa012d281721",
   "metadata": {},
   "outputs": [],
   "source": [
    "li = ['사과','자두','초콜렛','바나나','체리']"
   ]
  },
  {
   "cell_type": "code",
   "execution_count": 268,
   "id": "5cbe081a-d666-48dd-bb10-e13392bac49a",
   "metadata": {},
   "outputs": [],
   "source": [
    "li1 = []\n",
    "for i in li:\n",
    "    if i != '초콜렛':\n",
    "        li1.append(i)"
   ]
  },
  {
   "cell_type": "code",
   "execution_count": 269,
   "id": "7e31fe57-3693-48df-b1e4-b218b8ad7fc6",
   "metadata": {},
   "outputs": [],
   "source": [
    "li2 = [ i for i in li if i != '초콜렛']"
   ]
  },
  {
   "cell_type": "code",
   "execution_count": 271,
   "id": "1e8f1c09-f329-4e2a-b088-7dce7209137d",
   "metadata": {},
   "outputs": [
    {
     "data": {
      "text/plain": [
       "{'사과': 0, '자두': 1, '바나나': 2, '체리': 3}"
      ]
     },
     "execution_count": 304,
     "metadata": {},
     "output_type": "execute_result"
    }
   ],
   "source": [
    "{\n",
    "    '사과':0,\n",
    "    '자두':1,\n",
    "    '바나나':2,\n",
    "    '체리':3,\n",
    "}"
   ]
  },
  {
   "cell_type": "code",
   "execution_count": 272,
   "id": "8ff5028d-c410-4233-b4c8-dfa001cb7672",
   "metadata": {},
   "outputs": [],
   "source": [
    "dic_ = { v:k for k,v in enumerate(li) if v != '초콜렛'}"
   ]
  },
  {
   "cell_type": "code",
   "execution_count": 273,
   "id": "2431c8a1-ef9b-4e02-9f93-177b4162f12f",
   "metadata": {},
   "outputs": [
    {
     "data": {
      "text/plain": [
       "0"
      ]
     },
     "execution_count": 306,
     "metadata": {},
     "output_type": "execute_result"
    }
   ],
   "source": [
    "dic_['사과']"
   ]
  },
  {
   "cell_type": "code",
   "execution_count": 330,
   "id": "11d500a6-1762-4d6f-8e49-a5ebf3f79be8",
   "metadata": {},
   "outputs": [
    {
     "data": {
      "text/plain": [
       "5"
      ]
     },
     "execution_count": 330,
     "metadata": {},
     "output_type": "execute_result"
    }
   ],
   "source": [
    "int(\"0101\",2)"
   ]
  },
  {
   "cell_type": "code",
   "execution_count": 344,
   "id": "9880cca5-2e38-464e-aeb5-9a88eca51a32",
   "metadata": {},
   "outputs": [
    {
     "data": {
      "text/plain": [
       "100"
      ]
     },
     "execution_count": 344,
     "metadata": {},
     "output_type": "execute_result"
    }
   ],
   "source": [
    "int(\"{:b}\".format(100),2) "
   ]
  },
  {
   "cell_type": "code",
   "execution_count": 345,
   "id": "d394c5b0-6dde-406b-bdf0-e036823b15b4",
   "metadata": {},
   "outputs": [],
   "source": [
    "trans_b = \"{:b}\".format(100)\n",
    "reverse_decimal = int(trans_b,2)"
   ]
  },
  {
   "cell_type": "code",
   "execution_count": 346,
   "id": "ee0f51ec-3896-43a3-8668-c91b670444cc",
   "metadata": {},
   "outputs": [],
   "source": [
    "outputs = [ \"{:b}\".format(i) for i in range(1,101)]"
   ]
  },
  {
   "cell_type": "code",
   "execution_count": 352,
   "id": "20853510-484f-4f6a-bd5c-9b733a0e00a9",
   "metadata": {},
   "outputs": [
    {
     "name": "stdout",
     "output_type": "stream",
     "text": [
      "합계:539\n"
     ]
    }
   ],
   "source": [
    "# i = 1\n",
    "s = 0\n",
    "for output in outputs:\n",
    "    if output.count('0') == 1:\n",
    "        # print(i,output)\n",
    "        s += int(output,2) \n",
    "    i += 1\n",
    "print(f'합계:{s}')"
   ]
  },
  {
   "cell_type": "code",
   "execution_count": 353,
   "id": "22c6b421-c4d6-4918-ac78-f9d77a11be12",
   "metadata": {},
   "outputs": [
    {
     "data": {
      "text/plain": [
       "'합계 : 539'"
      ]
     },
     "execution_count": 353,
     "metadata": {},
     "output_type": "execute_result"
    }
   ],
   "source": [
    "f'합계 : {sum([ int(output,2) for output in outputs if output.count(\"0\") == 1])}'"
   ]
  },
  {
   "cell_type": "code",
   "execution_count": 363,
   "id": "c711ce81-71ef-4650-9d5f-36d4eedbb7e7",
   "metadata": {},
   "outputs": [
    {
     "data": {
      "text/plain": [
       "1683"
      ]
     },
     "execution_count": 363,
     "metadata": {},
     "output_type": "execute_result"
    }
   ],
   "source": [
    "# 3의 배수의 합\n",
    "s = 0\n",
    "for output in outputs:\n",
    "    output = int(output,2)\n",
    "    if output % 3 == 0:\n",
    "        s += output\n",
    "s"
   ]
  },
  {
   "cell_type": "code",
   "execution_count": 358,
   "id": "3d30177e-f8e4-4ca5-af88-33c048ec9378",
   "metadata": {},
   "outputs": [],
   "source": [
    "del s"
   ]
  },
  {
   "cell_type": "code",
   "execution_count": 368,
   "id": "901eee74-647a-4067-bf80-d0d3fb8d9666",
   "metadata": {},
   "outputs": [
    {
     "data": {
      "text/plain": [
       "1683"
      ]
     },
     "execution_count": 368,
     "metadata": {},
     "output_type": "execute_result"
    }
   ],
   "source": [
    "sum([int(output,2) for output in outputs if int(output,2)%3 == 0])\n",
    "#  문자열에서 한번 바꾸고 계산을 떙기면 된다. 근데 모르겠는걸 ?\n"
   ]
  },
  {
   "cell_type": "code",
   "execution_count": 369,
   "id": "e10e88ff-f3bc-4d11-8f3c-a900c2f507ed",
   "metadata": {},
   "outputs": [
    {
     "name": "stdout",
     "output_type": "stream",
     "text": [
      "집에가고 싶다집에가고 싶다집에가고 싶다집에가고 싶다집에가고 싶다\n"
     ]
    }
   ],
   "source": [
    "print('집에가고 싶다'*5)"
   ]
  },
  {
   "cell_type": "code",
   "execution_count": 375,
   "id": "09ad6043-7f56-4223-bf53-9aa9a735fbca",
   "metadata": {},
   "outputs": [
    {
     "name": "stdout",
     "output_type": "stream",
     "text": [
      "집에 가고 싶다\n",
      "집에 가고 싶다\n",
      "집에 가고 싶다\n",
      "집에 가고 싶다\n",
      "집에 가고 싶다\n"
     ]
    }
   ],
   "source": [
    "for i in range(5):\n",
    "    print('집에 가고 싶다')"
   ]
  },
  {
   "cell_type": "code",
   "execution_count": 396,
   "id": "7dd5bbcd-2d43-44e7-a43d-9afa42e97e13",
   "metadata": {},
   "outputs": [],
   "source": [
    "def print_hello():\n",
    "    print('집에가고싶다')\n",
    "    print('집에가고싶다')\n",
    "    print('집에가고싶다')"
   ]
  },
  {
   "cell_type": "code",
   "execution_count": 397,
   "id": "05612f72-c750-403f-9254-98e1c5e7fc94",
   "metadata": {},
   "outputs": [
    {
     "name": "stdout",
     "output_type": "stream",
     "text": [
      "집에가고싶다\n",
      "집에가고싶다\n",
      "집에가고싶다\n"
     ]
    }
   ],
   "source": [
    "print_hello()"
   ]
  },
  {
   "cell_type": "code",
   "execution_count": 421,
   "id": "0475f42a-1806-40a3-90d3-92d1326b03c4",
   "metadata": {},
   "outputs": [],
   "source": [
    "def print_hello(x):\n",
    "    for i in range(x):\n",
    "        print('집에가고싶다')"
   ]
  },
  {
   "cell_type": "code",
   "execution_count": 422,
   "id": "064532fe-93a4-48e8-a550-8ef8845bed2b",
   "metadata": {},
   "outputs": [
    {
     "name": "stdout",
     "output_type": "stream",
     "text": [
      "집에가고싶다\n",
      "집에가고싶다\n",
      "집에가고싶다\n",
      "집에가고싶다\n",
      "집에가고싶다\n"
     ]
    }
   ],
   "source": [
    "print_hello(5)"
   ]
  },
  {
   "cell_type": "code",
   "execution_count": 423,
   "id": "5592246e-29ca-4235-9529-c2d483180cd1",
   "metadata": {},
   "outputs": [],
   "source": [
    "print_hello(0)"
   ]
  },
  {
   "cell_type": "code",
   "execution_count": 424,
   "id": "62dc5514-dbcf-426b-844a-7de394b7f285",
   "metadata": {},
   "outputs": [],
   "source": [
    "def print_hello(x,y):\n",
    "    for i in range(x):\n",
    "        print(y)"
   ]
  },
  {
   "cell_type": "code",
   "execution_count": 425,
   "id": "2c21b8bc-a1fd-405d-835a-4233b9a553fb",
   "metadata": {},
   "outputs": [],
   "source": [
    "# 오."
   ]
  },
  {
   "cell_type": "code",
   "execution_count": 457,
   "id": "5ef9b5d0-8a25-4d8b-9d4e-9924ad39468b",
   "metadata": {},
   "outputs": [
    {
     "name": "stdout",
     "output_type": "stream",
     "text": [
      "ddd\n",
      "ddd\n",
      "ddd\n",
      "ddd\n",
      "ddd\n"
     ]
    }
   ],
   "source": [
    "print_hello(5,'ddd') "
   ]
  },
  {
   "cell_type": "code",
   "execution_count": 458,
   "id": "c568e48e-5172-40fc-b1d3-a4e5d9561667",
   "metadata": {},
   "outputs": [
    {
     "name": "stdout",
     "output_type": "stream",
     "text": [
      "Good Evening\n",
      "Good Evening\n",
      "Good Evening\n",
      "Good Evening\n",
      "Good Evening\n"
     ]
    }
   ],
   "source": [
    "a = {\n",
    "    'x':5,\n",
    "    'y':'Good Evening',\n",
    "}\n",
    "print_hello(**a)"
   ]
  },
  {
   "cell_type": "code",
   "execution_count": 593,
   "id": "ed9cf884-f0d9-408a-8d08-f5f01cbf0446",
   "metadata": {},
   "outputs": [],
   "source": [
    "def print_ntimes(*greetings,n):\n",
    "    for i in range(n):\n",
    "        for j in greetings:\n",
    "            print(j)"
   ]
  },
  {
   "cell_type": "code",
   "execution_count": 594,
   "id": "e281f20a-1f7f-4a44-8be8-1ba857df8045",
   "metadata": {},
   "outputs": [
    {
     "ename": "TypeError",
     "evalue": "print_ntimes() missing 1 required keyword-only argument: 'n'",
     "output_type": "error",
     "traceback": [
      "\u001b[1;31m---------------------------------------------------------------------------\u001b[0m",
      "\u001b[1;31mTypeError\u001b[0m                                 Traceback (most recent call last)",
      "\u001b[1;32m~\\AppData\\Local\\Temp\\ipykernel_13896\\3952170282.py\u001b[0m in \u001b[0;36m<module>\u001b[1;34m\u001b[0m\n\u001b[1;32m----> 1\u001b[1;33m \u001b[0mprint_ntimes\u001b[0m\u001b[1;33m(\u001b[0m\u001b[1;36m2\u001b[0m\u001b[1;33m,\u001b[0m\u001b[1;34m'yuuni'\u001b[0m\u001b[1;33m,\u001b[0m\u001b[1;34m'안녕'\u001b[0m\u001b[1;33m,\u001b[0m\u001b[1;34m'하세요'\u001b[0m\u001b[1;33m)\u001b[0m\u001b[1;33m\u001b[0m\u001b[1;33m\u001b[0m\u001b[0m\n\u001b[0m",
      "\u001b[1;31mTypeError\u001b[0m: print_ntimes() missing 1 required keyword-only argument: 'n'"
     ]
    }
   ],
   "source": [
    "print_ntimes(2,'yuuni','안녕','하세요')"
   ]
  },
  {
   "cell_type": "code",
   "execution_count": 595,
   "id": "12d5d38d-fa4b-4277-afe0-4b2faae38335",
   "metadata": {},
   "outputs": [],
   "source": [
    "def add(x,y):\n",
    "    print(x+y)\n"
   ]
  },
  {
   "cell_type": "code",
   "execution_count": 450,
   "id": "a13b51da-1dbf-441e-b093-ce83f7f3492c",
   "metadata": {},
   "outputs": [],
   "source": [
    "def add(*values):\n",
    "    result = 0\n",
    "    for i in values:\n",
    "        result += i\n",
    "    return result"
   ]
  },
  {
   "cell_type": "code",
   "execution_count": 441,
   "id": "91fd1dc9-8783-4cdc-8174-1b9b97606392",
   "metadata": {},
   "outputs": [
    {
     "data": {
      "text/plain": [
       "18"
      ]
     },
     "execution_count": 441,
     "metadata": {},
     "output_type": "execute_result"
    }
   ],
   "source": [
    "add(5,6,7)"
   ]
  },
  {
   "cell_type": "code",
   "execution_count": 537,
   "id": "edcfbf89-5608-4a1d-90d9-693e451853fd",
   "metadata": {},
   "outputs": [],
   "source": [
    "def add(x,*values):\n",
    "    result = x\n",
    "    for value in values:\n",
    "        result += value\n",
    "    return result\n",
    "# 더하기"
   ]
  },
  {
   "cell_type": "code",
   "execution_count": 538,
   "id": "3f7ac766-7191-43aa-b366-4b77f54ef9ab",
   "metadata": {},
   "outputs": [],
   "source": [
    "def sub(x, *values):\n",
    "    result = x\n",
    "    for value in values:\n",
    "        result -= value\n",
    "    return result\n",
    "# 빼기"
   ]
  },
  {
   "cell_type": "code",
   "execution_count": 539,
   "id": "945e0d5d-e8e0-467b-b657-347cb5bd9389",
   "metadata": {},
   "outputs": [],
   "source": [
    "def calc(method,x,*values):\n",
    "    result = x\n",
    "    if method == 'add':\n",
    "        for value in values:\n",
    "            result += value\n",
    "    else:\n",
    "        for value in values:\n",
    "            result -= value\n",
    "    return result"
   ]
  },
  {
   "cell_type": "code",
   "execution_count": 540,
   "id": "5a1e5597-c120-4d00-aece-be8f5c9d3bcc",
   "metadata": {},
   "outputs": [
    {
     "data": {
      "text/plain": [
       "-2"
      ]
     },
     "execution_count": 540,
     "metadata": {},
     "output_type": "execute_result"
    }
   ],
   "source": [
    "calc('sub',10,2,3,7)"
   ]
  },
  {
   "cell_type": "code",
   "execution_count": 541,
   "id": "8667c98d-32b8-45c2-9c5d-1f8571dfe8b8",
   "metadata": {},
   "outputs": [
    {
     "data": {
      "text/plain": [
       "7"
      ]
     },
     "execution_count": 541,
     "metadata": {},
     "output_type": "execute_result"
    }
   ],
   "source": [
    "eval('3+4')"
   ]
  },
  {
   "cell_type": "code",
   "execution_count": 542,
   "id": "5ec747cd-440b-491d-927b-60f2ab2f4462",
   "metadata": {},
   "outputs": [],
   "source": [
    "def calc(method,x,*values):\n",
    "    result = x\n",
    "    oper = {\n",
    "        'add':'+',\n",
    "        'sub':'-',\n",
    "        'multi':'*',\n",
    "        'div':'/'\n",
    "    }\n",
    "    for value in values:\n",
    "        result = eval('result' +oper[method]+ 'value')\n",
    "    return result"
   ]
  },
  {
   "cell_type": "code",
   "execution_count": 543,
   "id": "08a7a232-7476-49ac-b7da-13d514939a63",
   "metadata": {},
   "outputs": [
    {
     "data": {
      "text/plain": [
       "7"
      ]
     },
     "execution_count": 543,
     "metadata": {},
     "output_type": "execute_result"
    }
   ],
   "source": [
    "eval('3+4')"
   ]
  },
  {
   "cell_type": "code",
   "execution_count": 544,
   "id": "40b38fc2-76d6-4c3f-99ca-461a6c5e5237",
   "metadata": {},
   "outputs": [
    {
     "data": {
      "text/plain": [
       "22"
      ]
     },
     "execution_count": 544,
     "metadata": {},
     "output_type": "execute_result"
    }
   ],
   "source": [
    "calc('add',10,2,3,7)"
   ]
  },
  {
   "cell_type": "code",
   "execution_count": 565,
   "id": "d36ba104-57fa-4ca4-85bf-bae687f32ad9",
   "metadata": {},
   "outputs": [],
   "source": [
    "def add(x,*values):\n",
    "    result = x\n",
    "    for value in values:\n",
    "        result += value\n",
    "    return result"
   ]
  },
  {
   "cell_type": "code",
   "execution_count": 566,
   "id": "90c69a68-7545-4768-b188-746838d2fca1",
   "metadata": {},
   "outputs": [],
   "source": [
    "def add(x,*values):\n",
    "    result = x\n",
    "    for value in values:\n",
    "        result -= value\n",
    "    return result"
   ]
  },
  {
   "cell_type": "code",
   "execution_count": 567,
   "id": "07023aa5-7ddd-4f94-a355-0b7d708ebc47",
   "metadata": {},
   "outputs": [],
   "source": [
    "def calc(method,x,*values):\n",
    "    if method == 'add':\n",
    "        result = add(x,*values)\n",
    "    elif method == 'sub':\n",
    "        result = sub(x,*values)\n",
    "    return result"
   ]
  },
  {
   "cell_type": "code",
   "execution_count": 577,
   "id": "1a51bb93-4c09-46f6-a62d-89105aea60e3",
   "metadata": {},
   "outputs": [
    {
     "ename": "NameError",
     "evalue": "name 'multi' is not defined",
     "output_type": "error",
     "traceback": [
      "\u001b[1;31m---------------------------------------------------------------------------\u001b[0m",
      "\u001b[1;31mNameError\u001b[0m                                 Traceback (most recent call last)",
      "\u001b[1;32m~\\AppData\\Local\\Temp\\ipykernel_13896\\2890145989.py\u001b[0m in \u001b[0;36m<module>\u001b[1;34m\u001b[0m\n\u001b[1;32m----> 1\u001b[1;33m \u001b[0mcalc\u001b[0m\u001b[1;33m(\u001b[0m\u001b[1;34m'add'\u001b[0m\u001b[1;33m,\u001b[0m\u001b[1;36m10\u001b[0m\u001b[1;33m,\u001b[0m\u001b[1;36m2\u001b[0m\u001b[1;33m,\u001b[0m\u001b[1;36m3\u001b[0m\u001b[1;33m,\u001b[0m\u001b[1;36m4\u001b[0m\u001b[1;33m,\u001b[0m\u001b[1;36m5\u001b[0m\u001b[1;33m)\u001b[0m\u001b[1;33m\u001b[0m\u001b[1;33m\u001b[0m\u001b[0m\n\u001b[0m",
      "\u001b[1;32m~\\AppData\\Local\\Temp\\ipykernel_13896\\643706121.py\u001b[0m in \u001b[0;36mcalc\u001b[1;34m(method, x, *values)\u001b[0m\n\u001b[0;32m      3\u001b[0m         \u001b[1;34m'add'\u001b[0m\u001b[1;33m:\u001b[0m\u001b[0madd\u001b[0m\u001b[1;33m,\u001b[0m\u001b[1;33m\u001b[0m\u001b[1;33m\u001b[0m\u001b[0m\n\u001b[0;32m      4\u001b[0m         \u001b[1;34m'sub'\u001b[0m\u001b[1;33m:\u001b[0m\u001b[0msub\u001b[0m\u001b[1;33m,\u001b[0m\u001b[1;33m\u001b[0m\u001b[1;33m\u001b[0m\u001b[0m\n\u001b[1;32m----> 5\u001b[1;33m         \u001b[1;34m'mutil'\u001b[0m\u001b[1;33m:\u001b[0m\u001b[0mmulti\u001b[0m\u001b[1;33m,\u001b[0m\u001b[1;33m\u001b[0m\u001b[1;33m\u001b[0m\u001b[0m\n\u001b[0m\u001b[0;32m      6\u001b[0m         \u001b[1;34m'div'\u001b[0m\u001b[1;33m:\u001b[0m\u001b[0mdiv\u001b[0m\u001b[1;33m,\u001b[0m\u001b[1;33m\u001b[0m\u001b[1;33m\u001b[0m\u001b[0m\n\u001b[0;32m      7\u001b[0m     }\n",
      "\u001b[1;31mNameError\u001b[0m: name 'multi' is not defined"
     ]
    }
   ],
   "source": [
    "calc('add',10,2,3,4,5)"
   ]
  },
  {
   "cell_type": "code",
   "execution_count": 569,
   "id": "af4580d1-094b-4d25-8705-31e97abc8c54",
   "metadata": {},
   "outputs": [
    {
     "data": {
      "text/plain": [
       "-2"
      ]
     },
     "execution_count": 569,
     "metadata": {},
     "output_type": "execute_result"
    }
   ],
   "source": [
    "calc('sub',10,2,3,7)"
   ]
  },
  {
   "cell_type": "code",
   "execution_count": 582,
   "id": "3d78ac3a-f03f-4e49-82ec-b2701648f949",
   "metadata": {},
   "outputs": [],
   "source": [
    "def calc(method,x,*values):\n",
    "    oper = {\n",
    "        'add':add,\n",
    "        'sub':sub,\n",
    "        'multi':multi,\n",
    "        'div':div,\n",
    "    }\n",
    "    f = oper[method]\n",
    "    result = f(x,*values)\n",
    "    return result\n",
    "# 왜이럼 시발; "
   ]
  },
  {
   "cell_type": "code",
   "execution_count": 584,
   "id": "21317c9b-113c-4972-9d22-6796e7959fe2",
   "metadata": {},
   "outputs": [
    {
     "ename": "NameError",
     "evalue": "name 'multi' is not defined",
     "output_type": "error",
     "traceback": [
      "\u001b[1;31m---------------------------------------------------------------------------\u001b[0m",
      "\u001b[1;31mNameError\u001b[0m                                 Traceback (most recent call last)",
      "\u001b[1;32m~\\AppData\\Local\\Temp\\ipykernel_13896\\1558389608.py\u001b[0m in \u001b[0;36m<module>\u001b[1;34m\u001b[0m\n\u001b[1;32m----> 1\u001b[1;33m \u001b[0mcalc\u001b[0m\u001b[1;33m(\u001b[0m\u001b[1;34m'div'\u001b[0m\u001b[1;33m,\u001b[0m\u001b[1;36m10\u001b[0m\u001b[1;33m,\u001b[0m\u001b[1;36m2\u001b[0m\u001b[1;33m,\u001b[0m\u001b[1;36m3\u001b[0m\u001b[1;33m,\u001b[0m\u001b[1;36m7\u001b[0m\u001b[1;33m)\u001b[0m\u001b[1;33m\u001b[0m\u001b[1;33m\u001b[0m\u001b[0m\n\u001b[0m",
      "\u001b[1;32m~\\AppData\\Local\\Temp\\ipykernel_13896\\3555602285.py\u001b[0m in \u001b[0;36mcalc\u001b[1;34m(method, x, *values)\u001b[0m\n\u001b[0;32m      3\u001b[0m         \u001b[1;34m'add'\u001b[0m\u001b[1;33m:\u001b[0m\u001b[0madd\u001b[0m\u001b[1;33m,\u001b[0m\u001b[1;33m\u001b[0m\u001b[1;33m\u001b[0m\u001b[0m\n\u001b[0;32m      4\u001b[0m         \u001b[1;34m'sub'\u001b[0m\u001b[1;33m:\u001b[0m\u001b[0msub\u001b[0m\u001b[1;33m,\u001b[0m\u001b[1;33m\u001b[0m\u001b[1;33m\u001b[0m\u001b[0m\n\u001b[1;32m----> 5\u001b[1;33m         \u001b[1;34m'multi'\u001b[0m\u001b[1;33m:\u001b[0m\u001b[0mmulti\u001b[0m\u001b[1;33m,\u001b[0m\u001b[1;33m\u001b[0m\u001b[1;33m\u001b[0m\u001b[0m\n\u001b[0m\u001b[0;32m      6\u001b[0m         \u001b[1;34m'div'\u001b[0m\u001b[1;33m:\u001b[0m\u001b[0mdiv\u001b[0m\u001b[1;33m,\u001b[0m\u001b[1;33m\u001b[0m\u001b[1;33m\u001b[0m\u001b[0m\n\u001b[0;32m      7\u001b[0m     }\n",
      "\u001b[1;31mNameError\u001b[0m: name 'multi' is not defined"
     ]
    }
   ],
   "source": [
    "calc('div',10,2,3,7)"
   ]
  },
  {
   "cell_type": "code",
   "execution_count": 572,
   "id": "da01006f-9e0e-4112-9ac1-b2f58c60a852",
   "metadata": {},
   "outputs": [],
   "source": [
    "a = \"{1:'a',2:'b',}\""
   ]
  },
  {
   "cell_type": "code",
   "execution_count": 573,
   "id": "d8a1aa2e-98c2-4bc3-a0ab-6874855d6663",
   "metadata": {},
   "outputs": [],
   "source": [
    "def greetings(greeting,n=1):\n",
    "    for i in range(n):\n",
    "        print(greeting)"
   ]
  },
  {
   "cell_type": "code",
   "execution_count": 574,
   "id": "3186d898-9e15-4d2f-99b8-729ffa96441e",
   "metadata": {},
   "outputs": [
    {
     "name": "stdout",
     "output_type": "stream",
     "text": [
      "안녕하세요\n"
     ]
    }
   ],
   "source": [
    "greetings('안녕하세요')"
   ]
  },
  {
   "cell_type": "code",
   "execution_count": 586,
   "id": "b782f49b-dff8-4997-ba44-684473dcf0b4",
   "metadata": {},
   "outputs": [],
   "source": [
    "def greet(n=2,*values):\n",
    "    for i in range(n):\n",
    "        for value in values:\n",
    "            print(value)       "
   ]
  },
  {
   "cell_type": "code",
   "execution_count": 588,
   "id": "4dad3d27-6541-4d9d-b31d-3b3b1132f61d",
   "metadata": {},
   "outputs": [
    {
     "name": "stdout",
     "output_type": "stream",
     "text": [
      "a\n",
      "b\n",
      "c\n",
      "a\n",
      "b\n",
      "c\n"
     ]
    }
   ],
   "source": [
    "greet(2,'a','b','c')"
   ]
  },
  {
   "cell_type": "code",
   "execution_count": null,
   "id": "0ce8451a-7cce-4950-91cf-8697101e7535",
   "metadata": {},
   "outputs": [],
   "source": []
  }
 ],
 "metadata": {
  "kernelspec": {
   "display_name": "yuuni",
   "language": "python",
   "name": "yuuni"
  },
  "language_info": {
   "codemirror_mode": {
    "name": "ipython",
    "version": 3
   },
   "file_extension": ".py",
   "mimetype": "text/x-python",
   "name": "python",
   "nbconvert_exporter": "python",
   "pygments_lexer": "ipython3",
   "version": "3.9.13"
  }
 },
 "nbformat": 4,
 "nbformat_minor": 5
}
