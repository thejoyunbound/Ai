{
 "cells": [
  {
   "cell_type": "code",
   "execution_count": 7,
   "id": "c339e6e2-7062-4f93-8ff3-514383a76888",
   "metadata": {},
   "outputs": [],
   "source": [
    "import numpy as np"
   ]
  },
  {
   "cell_type": "code",
   "execution_count": 8,
   "id": "a8b6a565-292c-4952-a728-f1fcc745a576",
   "metadata": {},
   "outputs": [],
   "source": [
    "X = np.random.randn(100)\n",
    "y = X*3 +4"
   ]
  },
  {
   "cell_type": "code",
   "execution_count": 9,
   "id": "f4c70091-3cdf-4bbf-aee8-1a9eb44a4ef3",
   "metadata": {},
   "outputs": [
    {
     "data": {
      "text/plain": [
       "array([[-0.80553584,  1.58339248],\n",
       "       [ 0.94139052,  6.82417156],\n",
       "       [ 1.03929768,  7.11789305],\n",
       "       [-1.40149137, -0.20447412],\n",
       "       [-0.11559405,  3.65321786],\n",
       "       [ 0.72147019,  6.16441056],\n",
       "       [ 1.13637022,  7.40911066],\n",
       "       [-3.69535774, -7.08607322],\n",
       "       [ 0.01177258,  4.03531774],\n",
       "       [ 1.45207578,  8.35622733],\n",
       "       [-0.31038104,  3.06885688],\n",
       "       [ 0.1052259 ,  4.31567769],\n",
       "       [ 1.82023818,  9.46071455],\n",
       "       [ 0.4258989 ,  5.2776967 ],\n",
       "       [-1.01310524,  0.96068428],\n",
       "       [-1.30902912,  0.07291263],\n",
       "       [-2.07025994, -2.21077982],\n",
       "       [ 0.72293958,  6.16881875],\n",
       "       [ 1.21211996,  7.63635989],\n",
       "       [-0.14631362,  3.56105915],\n",
       "       [-0.42615183,  2.7215445 ],\n",
       "       [-0.37366933,  2.87899201],\n",
       "       [ 0.23387218,  4.70161654],\n",
       "       [ 2.21902356, 10.65707068],\n",
       "       [ 0.35177294,  5.05531882],\n",
       "       [ 0.86915358,  6.60746074],\n",
       "       [-0.70779439,  1.87661684],\n",
       "       [-0.90530719,  1.28407843],\n",
       "       [ 0.96135194,  6.88405581],\n",
       "       [ 0.5680737 ,  5.7042211 ],\n",
       "       [-0.74537882,  1.76386355],\n",
       "       [-0.90665297,  1.2800411 ],\n",
       "       [-1.14734383,  0.55796851],\n",
       "       [ 1.12959918,  7.38879754],\n",
       "       [ 0.62169457,  5.86508372],\n",
       "       [-1.8199212 , -1.45976359],\n",
       "       [-1.65918296, -0.97754889],\n",
       "       [-0.23574421,  3.29276738],\n",
       "       [ 0.619353  ,  5.85805899],\n",
       "       [ 1.05861161,  7.17583483],\n",
       "       [ 1.52954902,  8.58864705],\n",
       "       [-1.89174697, -1.67524091],\n",
       "       [-1.28044813,  0.1586556 ],\n",
       "       [ 0.22583172,  4.67749515],\n",
       "       [-0.23228602,  3.30314195],\n",
       "       [ 0.68038281,  6.04114844],\n",
       "       [ 1.10795   ,  7.32384999],\n",
       "       [-0.02086364,  3.93740909],\n",
       "       [ 0.09038282,  4.27114845],\n",
       "       [-0.30489925,  3.08530224],\n",
       "       [-0.65665637,  2.0300309 ],\n",
       "       [ 2.12762112, 10.38286337],\n",
       "       [-0.0824729 ,  3.75258131],\n",
       "       [-0.74712795,  1.75861616],\n",
       "       [-1.65037006, -0.95111017],\n",
       "       [ 0.41071346,  5.23214038],\n",
       "       [ 0.55320599,  5.65961797],\n",
       "       [-0.18727853,  3.43816441],\n",
       "       [ 0.24618989,  4.73856968],\n",
       "       [-0.97740333,  1.06779001],\n",
       "       [ 1.17171128,  7.51513385],\n",
       "       [-1.113629  ,  0.65911299],\n",
       "       [-0.48825806,  2.53522582],\n",
       "       [-0.72069039,  1.83792883],\n",
       "       [ 1.66765376,  9.00296129],\n",
       "       [-0.37669259,  2.86992222],\n",
       "       [ 0.10603085,  4.31809255],\n",
       "       [ 1.76017112,  9.28051336],\n",
       "       [-0.37603522,  2.87189435],\n",
       "       [ 0.53608629,  5.60825887],\n",
       "       [ 1.06027616,  7.18082848],\n",
       "       [-0.66677366,  1.99967901],\n",
       "       [-0.15797987,  3.5260604 ],\n",
       "       [-0.27925931,  3.16222207],\n",
       "       [-0.05889517,  3.82331449],\n",
       "       [ 1.58073778,  8.74221333],\n",
       "       [-2.30418753, -2.9125626 ],\n",
       "       [-0.53527395,  2.39417816],\n",
       "       [-0.12652227,  3.62043318],\n",
       "       [ 0.85867561,  6.57602683],\n",
       "       [ 1.89550466,  9.68651398],\n",
       "       [ 0.03182283,  4.0954685 ],\n",
       "       [ 0.82724406,  6.48173218],\n",
       "       [-0.06318748,  3.81043755],\n",
       "       [-0.14783492,  3.55649524],\n",
       "       [-0.10618847,  3.6814346 ],\n",
       "       [-0.5734499 ,  2.27965029],\n",
       "       [-1.98461787, -1.95385362],\n",
       "       [ 0.09440728,  4.28322185],\n",
       "       [ 1.02489432,  7.07468297],\n",
       "       [ 1.28873697,  7.86621091],\n",
       "       [ 0.28234292,  4.84702875],\n",
       "       [ 1.03184519,  7.09553557],\n",
       "       [ 0.5111801 ,  5.53354029],\n",
       "       [ 0.61670157,  5.85010472],\n",
       "       [-0.10486146,  3.68541562],\n",
       "       [ 0.65130832,  5.95392497],\n",
       "       [ 1.00843308,  7.02529923],\n",
       "       [-1.24726898,  0.25819307],\n",
       "       [ 0.19654691,  4.58964074]])"
      ]
     },
     "execution_count": 9,
     "metadata": {},
     "output_type": "execute_result"
    }
   ],
   "source": [
    "np.c_[X,y]"
   ]
  },
  {
   "cell_type": "code",
   "execution_count": 10,
   "id": "5eb620c2-7849-4c8e-907f-679f7a0955df",
   "metadata": {},
   "outputs": [
    {
     "ename": "NameError",
     "evalue": "name 'a' is not defined",
     "output_type": "error",
     "traceback": [
      "\u001b[1;31m---------------------------------------------------------------------------\u001b[0m",
      "\u001b[1;31mNameError\u001b[0m                                 Traceback (most recent call last)",
      "Cell \u001b[1;32mIn[10], line 2\u001b[0m\n\u001b[0;32m      1\u001b[0m \u001b[38;5;28;01mfor\u001b[39;00m i \u001b[38;5;129;01min\u001b[39;00m \u001b[38;5;28mrange\u001b[39m(\u001b[38;5;241m10000\u001b[39m):\n\u001b[1;32m----> 2\u001b[0m     y_hat \u001b[38;5;241m=\u001b[39m \u001b[43ma\u001b[49m\u001b[38;5;241m*\u001b[39mX \u001b[38;5;241m+\u001b[39m b\n\u001b[0;32m      3\u001b[0m     loss \u001b[38;5;241m=\u001b[39m np\u001b[38;5;241m.\u001b[39mmean((y\u001b[38;5;241m-\u001b[39my_hat)\u001b[38;5;241m*\u001b[39m\u001b[38;5;241m*\u001b[39m\u001b[38;5;241m2\u001b[39m)\n\u001b[0;32m      4\u001b[0m     da \u001b[38;5;241m=\u001b[39m np\u001b[38;5;241m.\u001b[39mmean(\u001b[38;5;241m2\u001b[39m\u001b[38;5;241m*\u001b[39mX\u001b[38;5;241m*\u001b[39m(y_hat\u001b[38;5;241m-\u001b[39my))\n",
      "\u001b[1;31mNameError\u001b[0m: name 'a' is not defined"
     ]
    }
   ],
   "source": [
    "for i in range(10000):\n",
    "    y_hat = a*X + b\n",
    "    loss = np.mean((y-y_hat)**2)\n",
    "    da = np.mean(2*X*(y_hat-y))\n",
    "    db = np.mean((y_hat-y))\n",
    "    a = a - 1e-3*da\n",
    "    b = b - 1e-3*db"
   ]
  },
  {
   "cell_type": "code",
   "execution_count": 11,
   "id": "a5e34a4c-8d56-4c1c-881d-51ca91688a8f",
   "metadata": {},
   "outputs": [],
   "source": [
    "X = np.random.randn(100,2)\n",
    "x1 = X[:,0]\n",
    "x2 = X[:,1]\n",
    "y = x1*8 + x2*3 + 10"
   ]
  },
  {
   "cell_type": "code",
   "execution_count": 12,
   "id": "e0fe7291-8b69-477a-9917-efde9793a149",
   "metadata": {},
   "outputs": [],
   "source": [
    "a1 = 100\n",
    "a2 = -3\n",
    "b = 0"
   ]
  },
  {
   "cell_type": "code",
   "execution_count": 13,
   "id": "7c37a1b5-9775-4cfd-9546-1d814b7fab2f",
   "metadata": {},
   "outputs": [],
   "source": [
    "for i in range(100000):\n",
    "    y_hat = a1*x1 + a2*x2 + b\n",
    "    loss = np.mean((y_hat-y)**2)\n",
    "    da1 = np.mean(2*x1*(y_hat-y))\n",
    "    da2 = np.mean(2*x2*(y_hat-y))\n",
    "    db = np.mean(2*(y_hat-y))\n",
    "    a1 = a1 - 1e-3*da1\n",
    "    a2 = a2 - 1e-3*da2\n",
    "    b = b - 1e-3*db"
   ]
  },
  {
   "cell_type": "code",
   "execution_count": 14,
   "id": "d266c651-e18d-4918-a4ad-1f6a7c74282c",
   "metadata": {},
   "outputs": [
    {
     "data": {
      "text/plain": [
       "(8.000000000000508, 2.99999999999983, 10.000000000000464)"
      ]
     },
     "execution_count": 14,
     "metadata": {},
     "output_type": "execute_result"
    }
   ],
   "source": [
    "a1, a2, b"
   ]
  },
  {
   "cell_type": "code",
   "execution_count": 15,
   "id": "81244ec9-63fb-4458-8dcc-bd5bd3b3932c",
   "metadata": {},
   "outputs": [],
   "source": [
    "# 위 식을 행렬식으로 바꿈\n",
    "X = np.random.randn(100,3)\n",
    "W = np.array([[100],[7],[-20]])\n",
    "y = np.dot(X,W) + 80\n",
    "y = y.reshape(-1,1)"
   ]
  },
  {
   "cell_type": "code",
   "execution_count": 16,
   "id": "6d093087-9cf5-4049-8fbe-7d5a8f34f016",
   "metadata": {},
   "outputs": [],
   "source": [
    "W = np.random.randn(3,1)\n",
    "b = 0"
   ]
  },
  {
   "cell_type": "code",
   "execution_count": 17,
   "id": "110ad0e2-42d2-4d56-b888-10abb633b35e",
   "metadata": {},
   "outputs": [],
   "source": [
    "W = np.random.randn(3,1)\n",
    "b = 0\n",
    "y_hat = np.dot(X,W) + b\n",
    "loss = np.mean((y_hat-y)**2)\n",
    "dw = np.mean(2*np.dot(X.T,(y_hat-y)))\n",
    "db = np.mean(2*(y_hat-y))\n",
    "W = W - 1e-3*dw\n",
    "b = b - 1e-3*db"
   ]
  },
  {
   "cell_type": "code",
   "execution_count": 18,
   "id": "0e480caf-8b5f-41f0-8e80-2316cf99ca8b",
   "metadata": {},
   "outputs": [
    {
     "data": {
      "text/plain": [
       "array([[-10444.31899457],\n",
       "       [   341.86437022],\n",
       "       [  2005.26264697]])"
      ]
     },
     "execution_count": 18,
     "metadata": {},
     "output_type": "execute_result"
    }
   ],
   "source": [
    "np.dot(X.T,(y_hat-y))"
   ]
  },
  {
   "cell_type": "code",
   "execution_count": 19,
   "id": "24e2972f-15a5-4eb5-84a5-b81d498fe211",
   "metadata": {},
   "outputs": [],
   "source": [
    "for i in range(10000):\n",
    "    y_hat = np.dot(X,W) + b\n",
    "    loss = np.mean((y_hat-y)**2)\n",
    "    dw = 2*np.dot(X.T,(y_hat-y))\n",
    "    db = np.mean(2*(y_hat-y))\n",
    "    W = W - 1e-4*dw\n",
    "    b = b - 1e-4*db"
   ]
  },
  {
   "cell_type": "code",
   "execution_count": 20,
   "id": "baeac446-fe39-4ce3-9dfd-dbb52108d4bb",
   "metadata": {},
   "outputs": [
    {
     "data": {
      "text/plain": [
       "(100, 1)"
      ]
     },
     "execution_count": 20,
     "metadata": {},
     "output_type": "execute_result"
    }
   ],
   "source": [
    "(y_hat - y.reshape(100,1)).shape"
   ]
  },
  {
   "cell_type": "code",
   "execution_count": 21,
   "id": "477781c9-c6b8-42a6-a7da-2fa0f4c491ec",
   "metadata": {},
   "outputs": [],
   "source": [
    "X = np.random.randn(100,20)\n",
    "y = np.dot(X,np.random.randn(20,1)) + 100"
   ]
  },
  {
   "cell_type": "code",
   "execution_count": 22,
   "id": "8162cd0e-746f-4736-8272-68e3272e76c1",
   "metadata": {},
   "outputs": [],
   "source": [
    "W = np.random.randn(20,1)\n",
    "b = 0\n",
    "for i in range(10000):\n",
    "    y_hat = np.dot(X,W) + b\n",
    "    loss = np.mean((y_hat-y)**2)\n",
    "    dw = np.dot(X.T,(y_hat-y))\n",
    "    db = np.mean(2*(y_hat-y))\n",
    "    W = W - 1e-4*dw\n",
    "    b = b - 1e-4*db"
   ]
  },
  {
   "cell_type": "code",
   "execution_count": 23,
   "id": "f7df16ff-bf8c-4412-b8ba-0f862047b2ce",
   "metadata": {},
   "outputs": [],
   "source": [
    "X = np.around(np.random.randn(100),2)\n",
    "y = X*3"
   ]
  },
  {
   "cell_type": "code",
   "execution_count": 24,
   "id": "a40089a4-ea64-42ce-a285-f881cf65120b",
   "metadata": {},
   "outputs": [],
   "source": [
    "##1 가설함수\n",
    "##2 loss function\n",
    "##3 loss 미분(미분식, [수치적방법])\n",
    "##4 미분값을 가설함수의 변수값 빼주면 (최적화)\n",
    "##5 학습 (2~4)까지 반복\n",
    "w = np.random.randn(1)\n",
    "b = 0\n",
    "h = 1e-4\n",
    "for i in range(10000):\n",
    "    y_hat = w*X + b\n",
    "    loss = np.mean((y_hat-y)**2)\n",
    "    fx = np.mean((y_hat-y)**2)\n",
    "    y_hat_tmp = (w+h)*X + b\n",
    "    fxh = np.mean((y_hat_tmp -y)**2)\n",
    "    dw = (fxh-fx)/h\n",
    "    fx = np.mean((y_hat-y)**2)\n",
    "    y_hat_tmp = w*X +(b+h)\n",
    "    fxh = np.mean((y_hat_tmp-y)**2)\n",
    "    db = (fxh-fx)/h\n",
    "    w = w - 1e-3*dw\n",
    "    b = b - 1e-3*db"
   ]
  },
  {
   "cell_type": "code",
   "execution_count": 25,
   "id": "f8f06ed9-aaf3-4d21-839c-ae324dd5b9b0",
   "metadata": {},
   "outputs": [],
   "source": [
    "X = np.random.randn(100)\n",
    "y = X*7"
   ]
  },
  {
   "cell_type": "code",
   "execution_count": 26,
   "id": "93f745d3-1b4f-4fec-8086-3bc856e82360",
   "metadata": {},
   "outputs": [],
   "source": [
    "# 예측함수\n",
    "# 비용함수\n",
    "# 미분함수\n",
    "#1 예측함수\n",
    "def predict(w):\n",
    "    return X*w\n",
    "#2 비용 함수\n",
    "def loss(w):\n",
    "    return np.mean((predict(w)-y)**2)\n",
    "#3 미분함수\n",
    "def grad(w):\n",
    "    h = 1e-4\n",
    "    fx = loss(w)\n",
    "    fxh = loss(w+h)\n",
    "    grad = (fxh-fx)/h\n",
    "    return grad \n",
    "#4 경사하강\n",
    "def descent_grad(w):\n",
    "    w = w - 1e-3*grad(w)"
   ]
  },
  {
   "cell_type": "code",
   "execution_count": 27,
   "id": "fe043ebc-1562-4605-a417-064204b0f43b",
   "metadata": {},
   "outputs": [],
   "source": [
    "w = np.random.randn(1)"
   ]
  },
  {
   "cell_type": "code",
   "execution_count": 28,
   "id": "71932a07-ec7c-41b0-8649-05961a476eb6",
   "metadata": {
    "tags": []
   },
   "outputs": [
    {
     "data": {
      "text/plain": [
       "array([-1.98109786])"
      ]
     },
     "execution_count": 28,
     "metadata": {},
     "output_type": "execute_result"
    }
   ],
   "source": [
    "w"
   ]
  },
  {
   "cell_type": "code",
   "execution_count": 29,
   "id": "35a7c6ef-22b3-4804-9830-a9d3957df591",
   "metadata": {},
   "outputs": [
    {
     "name": "stdout",
     "output_type": "stream",
     "text": [
      "[-1.98109786]\n",
      "[-1.98109786]\n"
     ]
    }
   ],
   "source": [
    "print(w)\n",
    "descent_grad(w)\n",
    "print(w)"
   ]
  },
  {
   "cell_type": "code",
   "execution_count": 30,
   "id": "cd7809e9-353e-40cc-85b7-f522e678d8d0",
   "metadata": {},
   "outputs": [],
   "source": [
    "X = np.random.randn(100)\n",
    "y = X*100 -70"
   ]
  },
  {
   "cell_type": "code",
   "execution_count": 31,
   "id": "748afc90-eb3d-4448-aeae-71ec9e88037f",
   "metadata": {},
   "outputs": [
    {
     "name": "stderr",
     "output_type": "stream",
     "text": [
      "C:\\Users\\bjlov\\AppData\\Local\\Temp\\ipykernel_15024\\863607374.py:1: VisibleDeprecationWarning: Creating an ndarray from ragged nested sequences (which is a list-or-tuple of lists-or-tuples-or ndarrays with different lengths or shapes) is deprecated. If you meant to do this, you must specify 'dtype=object' when creating the ndarray.\n",
      "  w = np.array((np.random.randn(1),0))\n"
     ]
    }
   ],
   "source": [
    "w = np.array((np.random.randn(1),0))\n"
   ]
  },
  {
   "cell_type": "code",
   "execution_count": 32,
   "id": "252dc053-f6a0-41fc-ab99-bfb5699dbd89",
   "metadata": {},
   "outputs": [],
   "source": [
    "def predict(w):\n",
    "    y_hat = X*w[0] + w[1] \n",
    "    return y_hat\n",
    "def loss(w):\n",
    "    y_hat = predict(w)\n",
    "    return np.mean(2*(y_hat-y)**2)\n",
    "def grad(w):\n",
    "    h = 1e-4\n",
    "    fx = loss(w)\n",
    "    tmp = w[0]\n",
    "    w[0] = tmp+h\n",
    "    fxh = loss(w)\n",
    "    dw = (fxh-fx)/h\n",
    "    w[0] = tmp\n",
    "    tmp = w[1]\n",
    "    fx = loss(w)\n",
    "    w[1] = tmp+h\n",
    "    fxh = loss(w)\n",
    "    db = (fxh-fx)/h\n",
    "    result = np.array((dw,db))\n",
    "    return result"
   ]
  },
  {
   "cell_type": "code",
   "execution_count": 33,
   "id": "6b485348-5a85-4a8b-81e6-6536d3aec7ca",
   "metadata": {},
   "outputs": [
    {
     "data": {
      "text/plain": [
       "array([-452.1899578 ,  224.74477206])"
      ]
     },
     "execution_count": 33,
     "metadata": {},
     "output_type": "execute_result"
    }
   ],
   "source": [
    "grad(w)"
   ]
  },
  {
   "cell_type": "code",
   "execution_count": 34,
   "id": "c98ae381-c58f-4fc9-917b-107d26fe1307",
   "metadata": {},
   "outputs": [],
   "source": [
    "fx = loss(w)"
   ]
  },
  {
   "cell_type": "code",
   "execution_count": 35,
   "id": "420dd7f6-dbe7-4e2d-be4f-480fe4c60292",
   "metadata": {},
   "outputs": [],
   "source": [
    "tmp = w[0]\n",
    "w[0] = tmp+h"
   ]
  },
  {
   "cell_type": "code",
   "execution_count": 36,
   "id": "2cb076c1-aa68-4bc6-b06e-88c8db9b4f75",
   "metadata": {},
   "outputs": [],
   "source": [
    "fxh = loss(w)"
   ]
  },
  {
   "cell_type": "code",
   "execution_count": 37,
   "id": "7b9dae15-17fb-429d-9ba6-dec3ef416e4e",
   "metadata": {},
   "outputs": [
    {
     "data": {
      "text/plain": [
       "array([-0.73502325])"
      ]
     },
     "execution_count": 37,
     "metadata": {},
     "output_type": "execute_result"
    }
   ],
   "source": [
    "w[0]"
   ]
  },
  {
   "cell_type": "code",
   "execution_count": 38,
   "id": "03375eb0-863c-4c32-be62-7ce9bf654997",
   "metadata": {},
   "outputs": [],
   "source": [
    "X = np.random.randn(100,2)\n",
    "W = np.array([[8],[-7]])\n",
    "y = np.dot(X,W) + 1000"
   ]
  },
  {
   "cell_type": "code",
   "execution_count": 39,
   "id": "e4025b4e-d81d-41ae-b3c4-31f491f84607",
   "metadata": {},
   "outputs": [
    {
     "data": {
      "text/plain": [
       "((100, 2), (100, 1))"
      ]
     },
     "execution_count": 39,
     "metadata": {},
     "output_type": "execute_result"
    }
   ],
   "source": [
    "X.shape, y.shape"
   ]
  },
  {
   "cell_type": "code",
   "execution_count": 40,
   "id": "e71f3d36-0f50-4dcf-9f32-2e8ab1fcfac5",
   "metadata": {},
   "outputs": [
    {
     "name": "stderr",
     "output_type": "stream",
     "text": [
      "C:\\Users\\bjlov\\AppData\\Local\\Temp\\ipykernel_15024\\1050238314.py:3: VisibleDeprecationWarning: Creating an ndarray from ragged nested sequences (which is a list-or-tuple of lists-or-tuples-or ndarrays with different lengths or shapes) is deprecated. If you meant to do this, you must specify 'dtype=object' when creating the ndarray.\n",
      "  W = np.array((w,b))\n"
     ]
    }
   ],
   "source": [
    "w = np.random.randn(2,1)\n",
    "b = 0\n",
    "W = np.array((w,b))"
   ]
  },
  {
   "cell_type": "code",
   "execution_count": 41,
   "id": "dd8aea5e-0b78-4aee-bede-43105cf33de6",
   "metadata": {},
   "outputs": [
    {
     "data": {
      "text/plain": [
       "array([array([[-0.34734147],\n",
       "              [-1.59541089]]), 0], dtype=object)"
      ]
     },
     "execution_count": 41,
     "metadata": {},
     "output_type": "execute_result"
    }
   ],
   "source": [
    "W"
   ]
  },
  {
   "cell_type": "code",
   "execution_count": 42,
   "id": "44c5b6dc-8123-4e95-ae3d-e65ae1694d44",
   "metadata": {},
   "outputs": [],
   "source": [
    "def predict(W):\n",
    "    y_hat = np.dot(X,W[0]) + W[1]\n",
    "    return y_hat\n",
    "def loss(W):\n",
    "    y_hat = predict(W)\n",
    "    return np.mean(2*(y_hat-y)**2)\n",
    "def grad(W):\n",
    "    h = 1e-4\n",
    "    tmp = W[0][0]\n",
    "    fx = loss(W)\n",
    "    W[0][0] = tmp + h\n",
    "    fxh = loss(W)\n",
    "    grad_1 = (fxh-fx)/h\n",
    "    W[0][0] = tmp\n",
    "    fx = loss(W)\n",
    "    tmp = W[0][1]\n",
    "    W[0][1] = tmp+h\n",
    "    fxh = loss(W)\n",
    "    grad_2 = (fxh-fx)/h\n",
    "    W[0][1] = tmp\n",
    "    tmp = W[1]\n",
    "    fx = loss(W)\n",
    "    W[1] = tmp + h\n",
    "    fxh = loss(W)\n",
    "    grad_b = (fxh - fx)/h\n",
    "    w_ = np.c_[grad_1, grad_2].T\n",
    "    grad = np.array((w_,grad_b))\n",
    "    return grad"
   ]
  },
  {
   "cell_type": "code",
   "execution_count": 43,
   "id": "2cfe06d2-afdc-44f4-baf4-2573f9c6ce90",
   "metadata": {},
   "outputs": [
    {
     "name": "stderr",
     "output_type": "stream",
     "text": [
      "C:\\Users\\bjlov\\AppData\\Local\\Temp\\ipykernel_15024\\2720279532.py:27: VisibleDeprecationWarning: Creating an ndarray from ragged nested sequences (which is a list-or-tuple of lists-or-tuples-or ndarrays with different lengths or shapes) is deprecated. If you meant to do this, you must specify 'dtype=object' when creating the ndarray.\n",
      "  grad = np.array((w_,grad_b))\n"
     ]
    },
    {
     "data": {
      "text/plain": [
       "array([array([[662.91148076],\n",
       "              [ 39.22496224]]), -3994.3264657631516], dtype=object)"
      ]
     },
     "execution_count": 43,
     "metadata": {},
     "output_type": "execute_result"
    }
   ],
   "source": [
    "grad(W)"
   ]
  },
  {
   "cell_type": "code",
   "execution_count": 44,
   "id": "98b752a1-0625-4d0a-bf06-77b6b1422d24",
   "metadata": {},
   "outputs": [
    {
     "name": "stderr",
     "output_type": "stream",
     "text": [
      "C:\\Users\\bjlov\\AppData\\Local\\Temp\\ipykernel_15024\\2720279532.py:27: VisibleDeprecationWarning: Creating an ndarray from ragged nested sequences (which is a list-or-tuple of lists-or-tuples-or ndarrays with different lengths or shapes) is deprecated. If you meant to do this, you must specify 'dtype=object' when creating the ndarray.\n",
      "  grad = np.array((w_,grad_b))\n"
     ]
    }
   ],
   "source": [
    "for i in range(10000):\n",
    "    W[0] = W[0] - 1e-3*grad(W)[0]\n",
    "    W[1] = W[1] - 1e-3*grad(W)[1]"
   ]
  },
  {
   "cell_type": "code",
   "execution_count": 69,
   "id": "82da66df-6335-4a43-9495-abfd49c87f0c",
   "metadata": {},
   "outputs": [],
   "source": [
    "def grad(W):\n",
    "    h = 1e-4\n",
    "    grad_w = np.zeros_like(W[0])\n",
    "    for i in range(W[0].shape[0]):\n",
    "        for j in range(W[0].shape[1]):\n",
    "            tmp = W[0][i,j]\n",
    "            fx = loss(W)\n",
    "            W[0][i,j] = tmp+h\n",
    "            fxh = loss(W)\n",
    "            grad_w[i,j] = (fxh-fx)/h\n",
    "            W[0][i,j] = tmp\n",
    "    tmp = W[1]\n",
    "    fx = loss(W)\n",
    "    W[1] = tmp+h\n",
    "    fxh = loss(W)\n",
    "    grad_b = (fxh-fx)/h\n",
    "    W[1] = tmp\n",
    "    grad = np.array((grad_w,grad_b))\n",
    "    return grad"
   ]
  },
  {
   "cell_type": "code",
   "execution_count": 70,
   "id": "dfe94dd3-7db3-411d-9e8e-f746ad941a35",
   "metadata": {},
   "outputs": [],
   "source": [
    "X = np.random.randn(100,3)\n",
    "w1 = np.random.randn(3,10)\n",
    "b1 = np.random.randn(1,10)\n",
    "w2 = np.random.randn(10,1)\n",
    "b2 = np.random.randn(1,1)\n",
    "y = np.dot(X,w1) + b1\n",
    "y = np.dot(y,w2) + b2"
   ]
  },
  {
   "cell_type": "code",
   "execution_count": 71,
   "id": "f30a4b98-cb28-47af-ad21-338436d89c51",
   "metadata": {},
   "outputs": [],
   "source": [
    "W = [\n",
    "    [w1,b1],\n",
    "    [w2,b2]\n",
    "]"
   ]
  },
  {
   "cell_type": "code",
   "execution_count": 72,
   "id": "80f96d83-442a-4624-859d-8429a2b22a32",
   "metadata": {},
   "outputs": [],
   "source": [
    "W = [\n",
    "    [w1,b1],\n",
    "    [w2,b2]\n",
    "]"
   ]
  },
  {
   "cell_type": "code",
   "execution_count": 73,
   "id": "a75a25dc-67b5-4b2f-a8b1-cd3680eaafb4",
   "metadata": {},
   "outputs": [],
   "source": [
    "def predict(W):\n",
    "    y_hat = X.copy()\n",
    "    for i in range(len(W)):\n",
    "        y_hat = np.dot(y_hat,W[i][0]) + W[i][1]\n",
    "    return y_hat"
   ]
  },
  {
   "cell_type": "code",
   "execution_count": 74,
   "id": "b7deb6de-b392-43b1-aa20-b4070b610636",
   "metadata": {},
   "outputs": [],
   "source": [
    "def predict(W):\n",
    "    y_hat = X.copy()\n",
    "    for i in range(len(W)):\n",
    "        y_hat = np.dot(y_hat,W[i][0]) + W[i][1]\n",
    "    return y_hat\n",
    "\n",
    "def loss(W):\n",
    "    y_hat = predict(W)\n",
    "    return np.mean((y_hat-y)**2)\n",
    "\n",
    "def grad(W):\n",
    "    h = 1e-4\n",
    "    grad_ = []\n",
    "    for i in range(len(W)):\n",
    "        grad_w = np.zeros_like(W[i][0])\n",
    "        for row in range(W[i][0].shape[0]):\n",
    "            for col in range(W[i][0].shape[1]):\n",
    "                tmp = W[i][0][row,col]\n",
    "                fx = loss(W)\n",
    "                W[i][0][row,col] = tmp+h\n",
    "                fxh = loss(W)\n",
    "                grad_w[row,col] = (fxh-fx)/h\n",
    "                W[i][0][row,col] = tmp\n",
    "        grad_b = []\n",
    "        for row in range(W[i][1].size):\n",
    "            tmp = W[i][1][:,row]\n",
    "            fx = loss(W)\n",
    "            W[i][1][:,row] = tmp+h\n",
    "            fxh = loss(W)\n",
    "            grad_b.append((fxh-fx)/h)\n",
    "            W[i][1][:,row] = tmp\n",
    "        grad_b = np.array(grad_b).reshape(1,-1)\n",
    "        grad_tmp = [grad_w,grad_b]\n",
    "        grad_.append(grad_tmp)\n",
    "    return grad_"
   ]
  },
  {
   "cell_type": "code",
   "execution_count": 75,
   "id": "d57f86f0-ec95-4d97-abda-94eb4ee81d78",
   "metadata": {},
   "outputs": [],
   "source": [
    "for i in range(10):\n",
    "    for j in range(len(W)):\n",
    "        W[j][0] = W[j][0] - 1e-3*grad(W)[j][0]\n",
    "        W[j][1] = W[j][1] - 1e-3*grad(W)[j][1]"
   ]
  },
  {
   "cell_type": "code",
   "execution_count": 76,
   "id": "d5673997-678f-4a3b-ab4b-e0624a490970",
   "metadata": {},
   "outputs": [],
   "source": [
    "X = np.random.randn(10000,200)\n",
    "W = net([30,100,1])"
   ]
  },
  {
   "cell_type": "code",
   "execution_count": 77,
   "id": "75089757-43a7-4b48-b0ed-1868793ba110",
   "metadata": {},
   "outputs": [],
   "source": [
    "y = predict(W)"
   ]
  },
  {
   "cell_type": "code",
   "execution_count": 80,
   "id": "9bb13b65-8b7d-4659-8530-0988f604aef5",
   "metadata": {},
   "outputs": [],
   "source": [
    "W = net([30,100,1])"
   ]
  },
  {
   "cell_type": "code",
   "execution_count": 81,
   "id": "67d3a4be-64bf-4154-bade-fadb5cbea597",
   "metadata": {},
   "outputs": [],
   "source": [
    "def net(values):\n",
    "    net = []\n",
    "    row = X.shape[1]\n",
    "    for value in values: \n",
    "        w = np.random.randn(row,value)\n",
    "        b = np.random.randn(1,value)\n",
    "        row = value\n",
    "        tmp = [w,b]\n",
    "        net.append(tmp)\n",
    "    return net"
   ]
  },
  {
   "cell_type": "code",
   "execution_count": 82,
   "id": "758c5ec8-2bf2-43fb-a385-7fb7c5efaa63",
   "metadata": {},
   "outputs": [
    {
     "ename": "TypeError",
     "evalue": "can't multiply sequence by non-int of type 'float'",
     "output_type": "error",
     "traceback": [
      "\u001b[1;31m---------------------------------------------------------------------------\u001b[0m",
      "\u001b[1;31mTypeError\u001b[0m                                 Traceback (most recent call last)",
      "Cell \u001b[1;32mIn[82], line 2\u001b[0m\n\u001b[0;32m      1\u001b[0m \u001b[38;5;28;01mfor\u001b[39;00m i \u001b[38;5;129;01min\u001b[39;00m \u001b[38;5;28mrange\u001b[39m(\u001b[38;5;241m10000\u001b[39m):\n\u001b[1;32m----> 2\u001b[0m     W[\u001b[38;5;241m0\u001b[39m] \u001b[38;5;241m=\u001b[39m W[\u001b[38;5;241m0\u001b[39m] \u001b[38;5;241m-\u001b[39m \u001b[38;5;241;43m1e-3\u001b[39;49m\u001b[38;5;241;43m*\u001b[39;49m\u001b[43mgrad\u001b[49m\u001b[43m(\u001b[49m\u001b[43mW\u001b[49m\u001b[43m)\u001b[49m\u001b[43m[\u001b[49m\u001b[38;5;241;43m0\u001b[39;49m\u001b[43m]\u001b[49m\n\u001b[0;32m      3\u001b[0m     W[\u001b[38;5;241m1\u001b[39m] \u001b[38;5;241m=\u001b[39m W[\u001b[38;5;241m1\u001b[39m] \u001b[38;5;241m-\u001b[39m \u001b[38;5;241m1e-3\u001b[39m\u001b[38;5;241m*\u001b[39mgrad(W)[\u001b[38;5;241m1\u001b[39m]\n",
      "\u001b[1;31mTypeError\u001b[0m: can't multiply sequence by non-int of type 'float'"
     ]
    }
   ],
   "source": [
    "for i in range(10000):\n",
    "    W[0] = W[0] - 1e-3*grad(W)[0]\n",
    "    W[1] = W[1] - 1e-3*grad(W)[1]"
   ]
  },
  {
   "cell_type": "code",
   "execution_count": null,
   "id": "81d73fa7-a36c-40c6-8757-19ff93b85539",
   "metadata": {},
   "outputs": [],
   "source": []
  }
 ],
 "metadata": {
  "kernelspec": {
   "display_name": "yuuni",
   "language": "python",
   "name": "yuuni"
  },
  "language_info": {
   "codemirror_mode": {
    "name": "ipython",
    "version": 3
   },
   "file_extension": ".py",
   "mimetype": "text/x-python",
   "name": "python",
   "nbconvert_exporter": "python",
   "pygments_lexer": "ipython3",
   "version": "3.9.13"
  }
 },
 "nbformat": 4,
 "nbformat_minor": 5
}
