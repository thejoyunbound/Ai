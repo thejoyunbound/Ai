{
 "cells": [
  {
   "cell_type": "code",
   "execution_count": null,
   "id": "7a09dd2c-a3b5-4827-834f-72afea711df1",
   "metadata": {},
   "outputs": [],
   "source": []
  },
  {
   "cell_type": "code",
   "execution_count": 40,
   "id": "5292e614-f2b6-409c-be1c-b6d6472d6f02",
   "metadata": {},
   "outputs": [],
   "source": [
    "x = [7,6,8,4]"
   ]
  },
  {
   "cell_type": "code",
   "execution_count": 30,
   "id": "f7787de7-9bbc-4350-a897-0636ede08598",
   "metadata": {},
   "outputs": [],
   "source": [
    "if x[0] > x[0+1]:\n",
    "    x[0+1], x[0] = x[0],x[0+1]"
   ]
  },
  {
   "cell_type": "code",
   "execution_count": 31,
   "id": "131b5337-f066-4c91-adee-c10652e88049",
   "metadata": {},
   "outputs": [
    {
     "data": {
      "text/plain": [
       "[6, 7, 8, 4]"
      ]
     },
     "execution_count": 31,
     "metadata": {},
     "output_type": "execute_result"
    }
   ],
   "source": [
    "x"
   ]
  },
  {
   "cell_type": "code",
   "execution_count": 32,
   "id": "9dfe316b-af2a-4a8c-8322-1b61675f3856",
   "metadata": {},
   "outputs": [],
   "source": [
    "if x[0+1] > x[0+2]:\n",
    "    x[0+2], x[0+1] = x[0+1], x[0+2]"
   ]
  },
  {
   "cell_type": "code",
   "execution_count": 33,
   "id": "4d2f596d-511c-412b-8726-9e3fb706be58",
   "metadata": {},
   "outputs": [
    {
     "data": {
      "text/plain": [
       "[6, 7, 8, 4]"
      ]
     },
     "execution_count": 33,
     "metadata": {},
     "output_type": "execute_result"
    }
   ],
   "source": [
    "x"
   ]
  },
  {
   "cell_type": "code",
   "execution_count": 34,
   "id": "831ea8c2-5601-45b9-8c02-b943b82f4202",
   "metadata": {},
   "outputs": [],
   "source": [
    "if x[0+2] > x[0+3]:\n",
    "    x[0+3], x[0+2] = x[0+2],x[0+3]"
   ]
  },
  {
   "cell_type": "code",
   "execution_count": 35,
   "id": "9e3dfbef-5a74-4961-a921-203e39e8098d",
   "metadata": {},
   "outputs": [
    {
     "data": {
      "text/plain": [
       "[6, 7, 4, 8]"
      ]
     },
     "execution_count": 35,
     "metadata": {},
     "output_type": "execute_result"
    }
   ],
   "source": [
    "x"
   ]
  },
  {
   "cell_type": "code",
   "execution_count": 36,
   "id": "088ab376-6249-43f8-a9e5-8de9c3ca88a4",
   "metadata": {},
   "outputs": [],
   "source": [
    "if x[0] > x[0+1]:\n",
    "    x[0+1], x[0] = x[0],x[0+1]\n",
    "if x[0+1] > x[0+2]:\n",
    "    x[0+2], x[0+1] = x[0+1], x[0+2]\n",
    "if x[0+2] > x[0+3]:\n",
    "    x[0+3], x[0+2] = x[0+2],x[0+3]"
   ]
  },
  {
   "cell_type": "code",
   "execution_count": 38,
   "id": "71c16c92-54df-4dc2-90f7-dd69e5b0502e",
   "metadata": {},
   "outputs": [
    {
     "ename": "TypeError",
     "evalue": "'>' not supported between instances of 'int' and 'list'",
     "output_type": "error",
     "traceback": [
      "\u001b[1;31m---------------------------------------------------------------------------\u001b[0m",
      "\u001b[1;31mTypeError\u001b[0m                                 Traceback (most recent call last)",
      "\u001b[1;32m~\\AppData\\Local\\Temp\\ipykernel_12684\\62655320.py\u001b[0m in \u001b[0;36m<module>\u001b[1;34m\u001b[0m\n\u001b[0;32m      1\u001b[0m \u001b[1;32mfor\u001b[0m \u001b[0mj\u001b[0m \u001b[1;32min\u001b[0m \u001b[0mrange\u001b[0m\u001b[1;33m(\u001b[0m\u001b[0mlen\u001b[0m\u001b[1;33m(\u001b[0m\u001b[0mx\u001b[0m\u001b[1;33m)\u001b[0m\u001b[1;33m)\u001b[0m\u001b[1;33m:\u001b[0m\u001b[1;33m\u001b[0m\u001b[1;33m\u001b[0m\u001b[0m\n\u001b[0;32m      2\u001b[0m     \u001b[1;32mfor\u001b[0m \u001b[0mi\u001b[0m \u001b[1;32min\u001b[0m \u001b[0mrange\u001b[0m\u001b[1;33m(\u001b[0m\u001b[0mlen\u001b[0m\u001b[1;33m(\u001b[0m\u001b[0mx\u001b[0m\u001b[1;33m)\u001b[0m \u001b[1;33m-\u001b[0m \u001b[1;36m1\u001b[0m\u001b[1;33m)\u001b[0m\u001b[1;33m:\u001b[0m\u001b[1;33m\u001b[0m\u001b[1;33m\u001b[0m\u001b[0m\n\u001b[1;32m----> 3\u001b[1;33m         \u001b[1;32mif\u001b[0m \u001b[0mx\u001b[0m\u001b[1;33m[\u001b[0m\u001b[0mi\u001b[0m\u001b[1;33m]\u001b[0m \u001b[1;33m>\u001b[0m \u001b[1;33m[\u001b[0m\u001b[0mi\u001b[0m\u001b[1;33m+\u001b[0m\u001b[1;36m1\u001b[0m\u001b[1;33m]\u001b[0m\u001b[1;33m:\u001b[0m\u001b[1;33m\u001b[0m\u001b[1;33m\u001b[0m\u001b[0m\n\u001b[0m\u001b[0;32m      4\u001b[0m             \u001b[0mx\u001b[0m\u001b[1;33m[\u001b[0m\u001b[0mi\u001b[0m\u001b[1;33m+\u001b[0m\u001b[1;36m1\u001b[0m\u001b[1;33m]\u001b[0m\u001b[1;33m,\u001b[0m \u001b[0mx\u001b[0m\u001b[1;33m[\u001b[0m\u001b[0mi\u001b[0m\u001b[1;33m]\u001b[0m \u001b[1;33m=\u001b[0m \u001b[0mx\u001b[0m\u001b[1;33m[\u001b[0m\u001b[0mi\u001b[0m\u001b[1;33m]\u001b[0m\u001b[1;33m,\u001b[0m \u001b[0mx\u001b[0m\u001b[1;33m[\u001b[0m\u001b[0mi\u001b[0m\u001b[1;33m+\u001b[0m\u001b[1;36m1\u001b[0m\u001b[1;33m]\u001b[0m\u001b[1;33m\u001b[0m\u001b[1;33m\u001b[0m\u001b[0m\n",
      "\u001b[1;31mTypeError\u001b[0m: '>' not supported between instances of 'int' and 'list'"
     ]
    }
   ],
   "source": [
    "for j in range(len(x)):\n",
    "    for i in range(len(x) - 1):\n",
    "        if x[i] > [i+1]:\n",
    "            x[i+1], x[i] = x[i], x[i+1]"
   ]
  },
  {
   "cell_type": "code",
   "execution_count": 41,
   "id": "0df8e2b4-ec9e-4dbe-afb0-e698fca6b6d8",
   "metadata": {},
   "outputs": [
    {
     "ename": "NameError",
     "evalue": "name 'l' is not defined",
     "output_type": "error",
     "traceback": [
      "\u001b[1;31m---------------------------------------------------------------------------\u001b[0m",
      "\u001b[1;31mNameError\u001b[0m                                 Traceback (most recent call last)",
      "\u001b[1;32m~\\AppData\\Local\\Temp\\ipykernel_12684\\129906516.py\u001b[0m in \u001b[0;36m<module>\u001b[1;34m\u001b[0m\n\u001b[1;32m----> 1\u001b[1;33m \u001b[0ml\u001b[0m\u001b[1;33m.\u001b[0m\u001b[0minsert_\u001b[0m\u001b[1;33m(\u001b[0m\u001b[1;36m1_11\u001b[0m\u001b[1;33m)\u001b[0m\u001b[1;33m\u001b[0m\u001b[1;33m\u001b[0m\u001b[0m\n\u001b[0m",
      "\u001b[1;31mNameError\u001b[0m: name 'l' is not defined"
     ]
    }
   ],
   "source": [
    "l.insert_(1_11)"
   ]
  },
  {
   "cell_type": "code",
   "execution_count": 42,
   "id": "a777f765-0a5f-412c-aab2-0fd595667d95",
   "metadata": {},
   "outputs": [
    {
     "ename": "NameError",
     "evalue": "name 'l' is not defined",
     "output_type": "error",
     "traceback": [
      "\u001b[1;31m---------------------------------------------------------------------------\u001b[0m",
      "\u001b[1;31mNameError\u001b[0m                                 Traceback (most recent call last)",
      "\u001b[1;32m~\\AppData\\Local\\Temp\\ipykernel_12684\\1285458595.py\u001b[0m in \u001b[0;36m<module>\u001b[1;34m\u001b[0m\n\u001b[1;32m----> 1\u001b[1;33m \u001b[0ml\u001b[0m\u001b[1;33m.\u001b[0m\u001b[0mvalues\u001b[0m\u001b[1;33m\u001b[0m\u001b[1;33m\u001b[0m\u001b[0m\n\u001b[0m",
      "\u001b[1;31mNameError\u001b[0m: name 'l' is not defined"
     ]
    }
   ],
   "source": [
    "l.values"
   ]
  },
  {
   "cell_type": "code",
   "execution_count": 43,
   "id": "a7c561e3-7220-40d3-b374-237c7f35ac0f",
   "metadata": {},
   "outputs": [
    {
     "ename": "NameError",
     "evalue": "name 'l' is not defined",
     "output_type": "error",
     "traceback": [
      "\u001b[1;31m---------------------------------------------------------------------------\u001b[0m",
      "\u001b[1;31mNameError\u001b[0m                                 Traceback (most recent call last)",
      "\u001b[1;32m~\\AppData\\Local\\Temp\\ipykernel_12684\\3647906748.py\u001b[0m in \u001b[0;36m<module>\u001b[1;34m\u001b[0m\n\u001b[1;32m----> 1\u001b[1;33m \u001b[0ml\u001b[0m\u001b[1;33m.\u001b[0m\u001b[0mappend_\u001b[0m\u001b[1;33m(\u001b[0m\u001b[1;36m2\u001b[0m\u001b[1;33m)\u001b[0m\u001b[1;33m\u001b[0m\u001b[1;33m\u001b[0m\u001b[0m\n\u001b[0m",
      "\u001b[1;31mNameError\u001b[0m: name 'l' is not defined"
     ]
    }
   ],
   "source": [
    "l.append_(2)"
   ]
  },
  {
   "cell_type": "code",
   "execution_count": 1,
   "id": "255efb4f-6472-4d58-8840-15409c266d86",
   "metadata": {},
   "outputs": [],
   "source": [
    "import numpy as np"
   ]
  },
  {
   "cell_type": "code",
   "execution_count": 2,
   "id": "20079a9a-172c-43c2-8e58-92d9dc889d90",
   "metadata": {},
   "outputs": [
    {
     "data": {
      "text/plain": [
       "(array([ 5.,  8., 11., 13., 15., 15.,  7., 10.,  8.,  8.]),\n",
       " array([0.07259416, 0.15012098, 0.22764781, 0.30517463, 0.38270146,\n",
       "        0.46022828, 0.53775511, 0.61528193, 0.69280875, 0.77033558,\n",
       "        0.8478624 ]),\n",
       " <BarContainer object of 10 artists>)"
      ]
     },
     "execution_count": 2,
     "metadata": {},
     "output_type": "execute_result"
    },
    {
     "data": {
      "image/png": "[encoded data removed]",
      "text/plain": [
       "<Figure size 640x480 with 1 Axes>"
      ]
     },
     "metadata": {},
     "output_type": "display_data"
    }
   ],
   "source": [
    "import matplotlib.pyplot as plt\n",
    "plt.hist(np.random.beta(3,4,100))"
   ]
  },
  {
   "cell_type": "code",
   "execution_count": 4,
   "id": "21322709-fdd6-4736-bb3c-7982d9e10cda",
   "metadata": {},
   "outputs": [
    {
     "data": {
      "text/plain": [
       "array([ 5,  9,  3,  3,  5,  8,  3,  1,  1,  2,  7,  1,  4,  2,  8,  3,  3,\n",
       "        8,  7,  8, 10,  5,  7, 10,  8,  5,  6,  5, 10,  7,  1, 10,  1,  6,\n",
       "        6,  1, 10,  4,  3,  8,  1,  8,  1,  6,  5,  6,  6,  4,  6,  1,  8,\n",
       "        2,  5,  5,  7,  2,  6,  5,  3,  3,  6,  9, 10,  1,  5,  3,  4,  8,\n",
       "       10,  4,  9, 10,  2,  9,  5,  5,  2,  1,  1, 10,  9,  6,  3,  5,  6,\n",
       "        9, 10,  4,  5,  9,  7,  4,  6,  4,  6,  8,  7,  8,  6,  5])"
      ]
     },
     "execution_count": 4,
     "metadata": {},
     "output_type": "execute_result"
    }
   ],
   "source": [
    "np.random.choice(np.arange(1,11),100)"
   ]
  },
  {
   "cell_type": "code",
   "execution_count": 19,
   "id": "b9d085f9-bdcd-4c2f-b78d-a075c8444943",
   "metadata": {},
   "outputs": [],
   "source": [
    "lotto_number = np.array([12,23,25,30,32,40])"
   ]
  },
  {
   "cell_type": "code",
   "execution_count": 20,
   "id": "c766d094-8650-41b3-a41b-e863b068c2b9",
   "metadata": {},
   "outputs": [
    {
     "data": {
      "text/plain": [
       "array([ 8, 13, 21, 23, 30, 35])"
      ]
     },
     "execution_count": 20,
     "metadata": {},
     "output_type": "execute_result"
    }
   ],
   "source": [
    "bottle = np.arange(1,46)\n",
    "choice_num = np.random.choice(np.arange(1,46),1,replace=False)\n",
    "\n",
    "bottle = np.arange(1,46)\n",
    "np.sort(np.random.choice(bottle,6,replace=False))"
   ]
  },
  {
   "cell_type": "code",
   "execution_count": 23,
   "id": "9f478da2-067e-4f13-b627-657142fe1717",
   "metadata": {},
   "outputs": [
    {
     "name": "stdout",
     "output_type": "stream",
     "text": [
      "23798917번째 당첨되었습니다 [12 23 25 30 32 40]\n"
     ]
    }
   ],
   "source": [
    "lott_number = np.array([12,23,25,30,32,40])\n",
    "bottle = np.arange(1,46)\n",
    "cnt = 0\n",
    "while True:\n",
    "    my_number = np.random.choice(bottle,6,replace=False)\n",
    "    cnt += 1\n",
    "    my_number = np.sort(my_number)\n",
    "    if np.sum(lotto_number == my_number) == 6:\n",
    "        print(f'{cnt}번째 당첨되었습니다 {my_number}')\n",
    "        break"
   ]
  },
  {
   "cell_type": "code",
   "execution_count": null,
   "id": "66366f80-4e5b-4f9d-9364-017de177f0e3",
   "metadata": {},
   "outputs": [],
   "source": [
    "23798917"
   ]
  },
  {
   "cell_type": "code",
   "execution_count": 24,
   "id": "7a1e0a95-c419-452e-a5dd-156e6ff11234",
   "metadata": {},
   "outputs": [
    {
     "data": {
      "text/plain": [
       "118994585000"
      ]
     },
     "execution_count": 24,
     "metadata": {},
     "output_type": "execute_result"
    }
   ],
   "source": [
    "23798917*5000"
   ]
  },
  {
   "cell_type": "code",
   "execution_count": null,
   "id": "dec09f2d-d123-44d8-bf6d-c3485c82ec82",
   "metadata": {},
   "outputs": [],
   "source": []
  }
 ],
 "metadata": {
  "kernelspec": {
   "display_name": "yuuni",
   "language": "python",
   "name": "yuuni"
  },
  "language_info": {
   "codemirror_mode": {
    "name": "ipython",
    "version": 3
   },
   "file_extension": ".py",
   "mimetype": "text/x-python",
   "name": "python",
   "nbconvert_exporter": "python",
   "pygments_lexer": "ipython3",
   "version": "3.9.13"
  }
 },
 "nbformat": 4,
 "nbformat_minor": 5
}
