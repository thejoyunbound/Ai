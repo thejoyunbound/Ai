{
 "cells": [
  {
   "cell_type": "code",
   "execution_count": 4,
   "id": "583ece24-229d-4959-be14-9dcd84d01ec5",
   "metadata": {},
   "outputs": [
    {
     "name": "stdout",
     "output_type": "stream",
     "text": [
      "1 10\n",
      "2 100\n",
      "6 1000\n",
      "24 10000\n",
      "120 100000\n",
      "720 1000000\n",
      "5040 10000000\n",
      "40320 100000000\n",
      "362880 1000000000\n",
      "3628800 10000000000\n",
      "39916800 100000000000\n",
      "479001600 1000000000000\n",
      "6227020800 10000000000000\n",
      "87178291200 100000000000000\n",
      "1307674368000 1000000000000000\n",
      "20922789888000 10000000000000000\n",
      "355687428096000 100000000000000000\n",
      "6402373705728000 1000000000000000000\n",
      "121645100408832000 10000000000000000000\n",
      "2432902008176640000 100000000000000000000\n",
      "51090942171709440000 1000000000000000000000\n",
      "1124000727777607680000 10000000000000000000000\n",
      "25852016738884976640000 100000000000000000000000\n",
      "620448401733239439360000 1000000000000000000000000\n",
      "25    15511210043330985984000000 10000000000000000000000000\n"
     ]
    }
   ],
   "source": [
    "for number in range(1,10000):\n",
    "    fac = 1\n",
    "    _10 = 10\n",
    "    for i in range(1,number+1):\n",
    "        fac *= i\n",
    "    _10 = _10**number\n",
    "    if fac > _10:\n",
    "        print(number,\"  \",fac,_10)\n",
    "        break\n",
    "    print(fac,_10)"
   ]
  },
  {
   "cell_type": "code",
   "execution_count": 55,
   "id": "babdeeef-75de-4d9b-89de-7bebee95eb1b",
   "metadata": {},
   "outputs": [],
   "source": [
    "li = [10,20,30]"
   ]
  },
  {
   "cell_type": "code",
   "execution_count": 56,
   "id": "cc3ed6b6-a8e1-4d91-b163-5f83f46568ae",
   "metadata": {},
   "outputs": [
    {
     "data": {
      "text/plain": [
       "10"
      ]
     },
     "execution_count": 56,
     "metadata": {},
     "output_type": "execute_result"
    }
   ],
   "source": [
    "min(li)"
   ]
  },
  {
   "cell_type": "code",
   "execution_count": 57,
   "id": "8d3cb903-a355-4b8b-8766-bee03a6fccd8",
   "metadata": {},
   "outputs": [
    {
     "data": {
      "text/plain": [
       "30"
      ]
     },
     "execution_count": 57,
     "metadata": {},
     "output_type": "execute_result"
    }
   ],
   "source": [
    "max(li)"
   ]
  },
  {
   "cell_type": "code",
   "execution_count": 58,
   "id": "65c37405-d8ee-4a18-af40-2f9d1c86545d",
   "metadata": {},
   "outputs": [
    {
     "data": {
      "text/plain": [
       "60"
      ]
     },
     "execution_count": 58,
     "metadata": {},
     "output_type": "execute_result"
    }
   ],
   "source": [
    "sum(li)"
   ]
  },
  {
   "cell_type": "code",
   "execution_count": 59,
   "id": "524c0dee-a2f5-42ff-8e4a-8a4b7a513655",
   "metadata": {},
   "outputs": [
    {
     "data": {
      "text/plain": [
       "20.0"
      ]
     },
     "execution_count": 59,
     "metadata": {},
     "output_type": "execute_result"
    }
   ],
   "source": [
    "sum(li)/len(li)"
   ]
  },
  {
   "cell_type": "code",
   "execution_count": 60,
   "id": "126f8405-f37a-4ab0-8c4b-c2ec07ee5eb4",
   "metadata": {},
   "outputs": [],
   "source": [
    "li = ['30','20','10']"
   ]
  },
  {
   "cell_type": "code",
   "execution_count": 61,
   "id": "a115b396-9d88-4a39-9fd8-18ecbaa7aea9",
   "metadata": {},
   "outputs": [
    {
     "ename": "TypeError",
     "evalue": "unsupported operand type(s) for +: 'int' and 'str'",
     "output_type": "error",
     "traceback": [
      "\u001b[1;31m---------------------------------------------------------------------------\u001b[0m",
      "\u001b[1;31mTypeError\u001b[0m                                 Traceback (most recent call last)",
      "\u001b[1;32m~\\AppData\\Local\\Temp\\ipykernel_8160\\927941087.py\u001b[0m in \u001b[0;36m<module>\u001b[1;34m\u001b[0m\n\u001b[1;32m----> 1\u001b[1;33m \u001b[0msum\u001b[0m\u001b[1;33m(\u001b[0m\u001b[0mli\u001b[0m\u001b[1;33m)\u001b[0m\u001b[1;33m\u001b[0m\u001b[1;33m\u001b[0m\u001b[0m\n\u001b[0m",
      "\u001b[1;31mTypeError\u001b[0m: unsupported operand type(s) for +: 'int' and 'str'"
     ]
    }
   ],
   "source": [
    "sum(li)"
   ]
  },
  {
   "cell_type": "code",
   "execution_count": 62,
   "id": "d5ecbd6c-9fd4-4b97-9f1d-da0d03254d37",
   "metadata": {},
   "outputs": [],
   "source": [
    "li = [1,3,2,5,4]"
   ]
  },
  {
   "cell_type": "code",
   "execution_count": 63,
   "id": "51ee9350-27c0-4821-962a-e455778096de",
   "metadata": {},
   "outputs": [
    {
     "data": {
      "text/plain": [
       "[4, 5, 2, 3, 1]"
      ]
     },
     "execution_count": 63,
     "metadata": {},
     "output_type": "execute_result"
    }
   ],
   "source": [
    "list(reversed(li))"
   ]
  },
  {
   "cell_type": "code",
   "execution_count": 64,
   "id": "d2470115-dcd9-433e-b5f7-8a74724b1cf0",
   "metadata": {},
   "outputs": [],
   "source": [
    "li.sort()"
   ]
  },
  {
   "cell_type": "code",
   "execution_count": 65,
   "id": "a15fc143-f421-4cba-aa0c-0f1a2bdcca3b",
   "metadata": {},
   "outputs": [
    {
     "data": {
      "text/plain": [
       "[5, 4, 3, 2, 1]"
      ]
     },
     "execution_count": 65,
     "metadata": {},
     "output_type": "execute_result"
    }
   ],
   "source": [
    "li[::-1]"
   ]
  },
  {
   "cell_type": "code",
   "execution_count": 66,
   "id": "2f152be6-4498-4f5f-a6f1-e89de5218c5e",
   "metadata": {},
   "outputs": [
    {
     "name": "stdout",
     "output_type": "stream",
     "text": [
      "0 1\n",
      "1 2\n",
      "2 3\n",
      "3 4\n",
      "4 5\n"
     ]
    }
   ],
   "source": [
    "for i,_ in enumerate(li):\n",
    "    print(i,li[i])"
   ]
  },
  {
   "cell_type": "code",
   "execution_count": 67,
   "id": "c5e69cb6-336a-4080-8886-37f4b84a0523",
   "metadata": {},
   "outputs": [
    {
     "name": "stdout",
     "output_type": "stream",
     "text": [
      "0 1\n",
      "1 2\n",
      "2 3\n",
      "3 4\n",
      "4 5\n"
     ]
    }
   ],
   "source": [
    "j = 0\n",
    "for i in li:\n",
    "    print(j,li[j])\n",
    "    j += 1"
   ]
  },
  {
   "cell_type": "code",
   "execution_count": 68,
   "id": "9cfb2b26-0727-4dba-a272-6920f124ffa6",
   "metadata": {},
   "outputs": [],
   "source": [
    "example = {\n",
    "    '키A':'값A',\n",
    "    '키B':'값B',\n",
    "    '키C':'값C',\n",
    "}"
   ]
  },
  {
   "cell_type": "code",
   "execution_count": 69,
   "id": "7e9da44e-4d3f-41f7-8715-9290196ff7d5",
   "metadata": {},
   "outputs": [
    {
     "name": "stdout",
     "output_type": "stream",
     "text": [
      "키A 값A\n",
      "키B 값B\n",
      "키C 값C\n"
     ]
    }
   ],
   "source": [
    "for k,v in example.items():\n",
    "    print(k,v)"
   ]
  },
  {
   "cell_type": "code",
   "execution_count": 70,
   "id": "a7f8c49f-ff9b-4e2f-b44a-9c40d3f4d515",
   "metadata": {},
   "outputs": [
    {
     "name": "stdout",
     "output_type": "stream",
     "text": [
      "값A\n",
      "값B\n",
      "값C\n"
     ]
    }
   ],
   "source": [
    "for i in example.values():\n",
    "    print(i)"
   ]
  },
  {
   "cell_type": "code",
   "execution_count": 71,
   "id": "7e681044-cd64-464b-952b-3abd7299f5b4",
   "metadata": {},
   "outputs": [
    {
     "name": "stdout",
     "output_type": "stream",
     "text": [
      "키A\n",
      "키B\n",
      "키C\n"
     ]
    }
   ],
   "source": [
    "for i in example.keys():\n",
    "    print(i)"
   ]
  },
  {
   "cell_type": "code",
   "execution_count": 89,
   "id": "78020644-1049-4e2a-9611-0d10cec03fc6",
   "metadata": {},
   "outputs": [],
   "source": [
    "li = [1,2,3,4,5,]"
   ]
  },
  {
   "cell_type": "code",
   "execution_count": 90,
   "id": "e82d9a27-be74-4850-97d4-9bec0c92ec72",
   "metadata": {},
   "outputs": [],
   "source": [
    "li1 = []\n",
    "for i in li:\n",
    "    li1.append(i+3)"
   ]
  },
  {
   "cell_type": "code",
   "execution_count": 91,
   "id": "34170460-12ca-4a34-ac6c-8a7c1ff0c513",
   "metadata": {},
   "outputs": [],
   "source": [
    "for i in range(len(li)):\n",
    "    li[i] = li[i] + 3"
   ]
  },
  {
   "cell_type": "code",
   "execution_count": 92,
   "id": "8f99306f-ae5a-4306-a393-53563bc14bd6",
   "metadata": {},
   "outputs": [],
   "source": [
    "li1 = []\n",
    "for i in li:\n",
    "    li1.append(i+3)"
   ]
  },
  {
   "cell_type": "code",
   "execution_count": 93,
   "id": "4268b6f7-76c0-4923-85cc-63815a411d0d",
   "metadata": {},
   "outputs": [
    {
     "data": {
      "text/plain": [
       "{0: 4, 1: 5, 2: 6, 3: 7, 4: 8}"
      ]
     },
     "execution_count": 93,
     "metadata": {},
     "output_type": "execute_result"
    }
   ],
   "source": [
    "{ i:v for i,v in enumerate(li) }"
   ]
  },
  {
   "cell_type": "code",
   "execution_count": 94,
   "id": "a9fd3625-1a36-4b22-b6cb-5a9887d03c76",
   "metadata": {},
   "outputs": [],
   "source": [
    "li = ['1','2','3','4']"
   ]
  },
  {
   "cell_type": "code",
   "execution_count": 95,
   "id": "feb10207-7f3f-46ea-9983-243263cdc033",
   "metadata": {},
   "outputs": [
    {
     "data": {
      "text/plain": [
       "10"
      ]
     },
     "execution_count": 95,
     "metadata": {},
     "output_type": "execute_result"
    }
   ],
   "source": [
    "for i,_ in enumerate(li):\n",
    "    li[i] = int(li[i])\n",
    "sum(li)"
   ]
  },
  {
   "cell_type": "code",
   "execution_count": 96,
   "id": "e058d5c1-f72a-4350-a1a9-cb54e7d5c060",
   "metadata": {},
   "outputs": [
    {
     "name": "stdout",
     "output_type": "stream",
     "text": [
      "[1, 2, 3, 4]\n",
      "[1, 2, 3, 4]\n"
     ]
    }
   ],
   "source": [
    "print(li)\n",
    "print([ int(i) for i in li])"
   ]
  },
  {
   "cell_type": "code",
   "execution_count": 97,
   "id": "39e7f92b-3b0b-4da2-be25-8d2d1b743ef5",
   "metadata": {},
   "outputs": [],
   "source": [
    "li = [1,2,3,4,5]"
   ]
  },
  {
   "cell_type": "code",
   "execution_count": 98,
   "id": "09336009-5bed-46cd-a792-6c63dd54de76",
   "metadata": {},
   "outputs": [
    {
     "data": {
      "text/plain": [
       "['a', 'a', 'a', 'a', 'a']"
      ]
     },
     "execution_count": 98,
     "metadata": {},
     "output_type": "execute_result"
    }
   ],
   "source": [
    "['a' for i in li]"
   ]
  },
  {
   "cell_type": "code",
   "execution_count": 99,
   "id": "2dc80b2e-f16f-4bc8-9a3f-583e30acb4d3",
   "metadata": {},
   "outputs": [
    {
     "data": {
      "text/plain": [
       "['a1', 'a2', 'a3', 'a4', 'a5']"
      ]
     },
     "execution_count": 99,
     "metadata": {},
     "output_type": "execute_result"
    }
   ],
   "source": [
    "['a'+str(i) for i in li]"
   ]
  },
  {
   "cell_type": "code",
   "execution_count": 100,
   "id": "e46d06be-62e2-4ef9-b201-7af394d02bcb",
   "metadata": {},
   "outputs": [],
   "source": [
    "li = ['사과','자두','초콜렛','바나나','체리']"
   ]
  },
  {
   "cell_type": "code",
   "execution_count": 101,
   "id": "7ca4b292-7e81-45ff-a5d3-92aae5f97c07",
   "metadata": {},
   "outputs": [],
   "source": [
    "li1 = []\n",
    "for i in li:\n",
    "    if i != '초콜렛':\n",
    "        li1.append(i)"
   ]
  },
  {
   "cell_type": "code",
   "execution_count": 102,
   "id": "734a2ef3-b50a-4dd7-bc75-873a9ee90e07",
   "metadata": {},
   "outputs": [],
   "source": [
    "li2 = [ i for i in li if i != '초콜렛']"
   ]
  },
  {
   "cell_type": "code",
   "execution_count": 103,
   "id": "e1cd75db-88d5-48b8-b13b-1514818d085d",
   "metadata": {},
   "outputs": [
    {
     "data": {
      "text/plain": [
       "{'사과': 0, '자두': 1, '바나나': 2, '체리': 3}"
      ]
     },
     "execution_count": 103,
     "metadata": {},
     "output_type": "execute_result"
    }
   ],
   "source": [
    "{\n",
    "    '사과':0,\n",
    "    '자두':1,\n",
    "    '바나나':2,\n",
    "    '체리':3,\n",
    "}"
   ]
  },
  {
   "cell_type": "code",
   "execution_count": 32,
   "id": "4dea340e-e3b9-471e-9960-f5518290f4d6",
   "metadata": {},
   "outputs": [],
   "source": [
    "dic_ = { k:v }"
   ]
  },
  {
   "cell_type": "code",
   "execution_count": null,
   "id": "22af8e1e-9bf0-4b1c-86b9-ede5dd2c3576",
   "metadata": {},
   "outputs": [],
   "source": []
  },
  {
   "cell_type": "code",
   "execution_count": null,
   "id": "8629f17c-fac7-479c-bbf8-a852ac54b04f",
   "metadata": {},
   "outputs": [],
   "source": []
  },
  {
   "cell_type": "code",
   "execution_count": null,
   "id": "83f47da9-dd89-44d6-9322-708cc5a0a23a",
   "metadata": {},
   "outputs": [],
   "source": []
  },
  {
   "cell_type": "code",
   "execution_count": null,
   "id": "058301d3-3d72-45ca-b68b-e0f8cb70564b",
   "metadata": {},
   "outputs": [],
   "source": [
    "# 이진수 연습문제 "
   ]
  }
 ],
 "metadata": {
  "kernelspec": {
   "display_name": "yuuni",
   "language": "python",
   "name": "yuuni"
  },
  "language_info": {
   "codemirror_mode": {
    "name": "ipython",
    "version": 3
   },
   "file_extension": ".py",
   "mimetype": "text/x-python",
   "name": "python",
   "nbconvert_exporter": "python",
   "pygments_lexer": "ipython3",
   "version": "3.9.13"
  }
 },
 "nbformat": 4,
 "nbformat_minor": 5
}
