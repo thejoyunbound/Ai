{
 "cells": [
  {
   "cell_type": "code",
   "execution_count": 2,
   "id": "0a783b7a-2c88-49ee-ae6a-b9d7d3c55b08",
   "metadata": {},
   "outputs": [],
   "source": [
    "from django.shortcuts import render\n",
    "import pandas as pd\n",
    "\n",
    "# 데이터를 로드하여 데이터프레임으로 저장\n",
    "df = pd.read_excel('C:/Users/bjlov/네이버웹툰_연재_요일연재.xlsx', engine='openpyxl')\n",
    "\n",
    "# 뷰 함수 정의\n",
    "def index(request):\n",
    "    # 데이터에서 검색어가 포함된 행을 찾아내기\n",
    "    keyword = '로맨스'\n",
    "    df_result = df[df['장르'].str.contains(keyword)]\n",
    "    \n",
    "    # HTML 템플릿 렌더링"
   ]
  },
  {
   "cell_type": "code",
   "execution_count": 3,
   "id": "a6b78dbc-664f-4f2d-8e12-b694af4d3424",
   "metadata": {},
   "outputs": [],
   "source": [
    "# 엑셀 파일을 데이터프레임으로 읽어오기\n",
    "df = pd.read_excel('C:/Users/bjlov/네이버웹툰_연재_요일연재.xlsx', engine='openpyxl')\n",
    "\n",
    "# series_id 컬럼을 기준으로 데이터프레임을 오름차순 정렬\n",
    "df = df.sort_values(by=['series_id'], ascending=True)\n",
    "\n",
    "# 데이터프레임을 리스트로 변환하여 Django 템플릿으로 전달할 수 있도록 함\n",
    "data = df.values.tolist()\n"
   ]
  },
  {
   "cell_type": "code",
   "execution_count": null,
   "id": "ec5ef7ca-f64b-4630-bea2-4b890775e375",
   "metadata": {},
   "outputs": [],
   "source": []
  }
 ],
 "metadata": {
  "kernelspec": {
   "display_name": "yuuni",
   "language": "python",
   "name": "yuuni"
  },
  "language_info": {
   "codemirror_mode": {
    "name": "ipython",
    "version": 3
   },
   "file_extension": ".py",
   "mimetype": "text/x-python",
   "name": "python",
   "nbconvert_exporter": "python",
   "pygments_lexer": "ipython3",
   "version": "3.9.13"
  }
 },
 "nbformat": 4,
 "nbformat_minor": 5
}
