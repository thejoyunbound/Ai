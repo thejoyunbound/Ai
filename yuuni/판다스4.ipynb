{
 "cells": [
  {
   "cell_type": "code",
   "execution_count": 1,
   "id": "3dfe70a0-8147-4180-9fde-79692e4f80ec",
   "metadata": {
    "tags": []
   },
   "outputs": [],
   "source": [
    "import numpy as np\n",
    "import pandas as pd\n",
    "import seaborn as sns"
   ]
  },
  {
   "cell_type": "code",
   "execution_count": 3,
   "id": "7415f2cb-035d-4483-83ed-3a4e7cf789c2",
   "metadata": {
    "tags": []
   },
   "outputs": [],
   "source": [
    "df = sns.load_dataset('titanic')"
   ]
  },
  {
   "cell_type": "code",
   "execution_count": 7,
   "id": "f9888bf2-023d-4444-9042-d81ed97aab0d",
   "metadata": {
    "tags": []
   },
   "outputs": [],
   "source": [
    "location = np.argmax(df.groupby(['age']).count().survived.values)"
   ]
  },
  {
   "cell_type": "code",
   "execution_count": 8,
   "id": "0e96caec-a0e3-4188-b810-1891c05b500c",
   "metadata": {
    "tags": []
   },
   "outputs": [],
   "source": [
    "df = pd.read_csv('train.csv')"
   ]
  },
  {
   "cell_type": "code",
   "execution_count": 9,
   "id": "cc451aec-aa47-42d4-a816-aa09b55f344b",
   "metadata": {
    "tags": []
   },
   "outputs": [],
   "source": [
    "##나이가 25세이상인 Mr. 결혼한 사람\n",
    "##호칭이 Mrs. 결혼한 사람\n",
    "## 결혼한 사람의 사망,생존 갯수\n",
    "남자결혼한사람 = (df.Age >= 25) & (df.Name.str.contains('Mr.'))\n",
    "여자결혼한사람 = (df.Name.str.contains('Mrs.'))\n",
    "결혼한사람 = 남자결혼한사람 | 여자결혼한사람\n",
    "결혼하지않은사람 = ~결혼한사람\n",
    "married = np.where(결혼한사람,'married','unmarried')\n"
   ]
  },
  {
   "cell_type": "code",
   "execution_count": 10,
   "id": "c979df7c-1732-4c04-89bd-86f05f7d986c",
   "metadata": {
    "tags": []
   },
   "outputs": [
    {
     "data": {
      "text/plain": [
       "Index(['PassengerId', 'Survived', 'Pclass', 'Name', 'Sex', 'Age', 'SibSp',\n",
       "       'Parch', 'Ticket', 'Fare', 'Cabin', 'Embarked'],\n",
       "      dtype='object')"
      ]
     },
     "execution_count": 10,
     "metadata": {},
     "output_type": "execute_result"
    }
   ],
   "source": [
    "df.columns"
   ]
  },
  {
   "cell_type": "code",
   "execution_count": 11,
   "id": "44c5405b-7a04-49c4-8317-43b727d9a60d",
   "metadata": {
    "tags": []
   },
   "outputs": [],
   "source": [
    "df['married'] = married"
   ]
  },
  {
   "cell_type": "code",
   "execution_count": 12,
   "id": "a9c51565-80b8-4eca-95e2-75c6e1e28b07",
   "metadata": {
    "tags": []
   },
   "outputs": [
    {
     "data": {
      "text/plain": [
       "           Survived\n",
       "married    0           246\n",
       "           1           158\n",
       "unmarried  0           303\n",
       "           1           184\n",
       "Name: Pclass, dtype: int64"
      ]
     },
     "execution_count": 12,
     "metadata": {},
     "output_type": "execute_result"
    }
   ],
   "source": [
    "df.groupby([married,'Survived']).count().Pclass"
   ]
  },
  {
   "cell_type": "code",
   "execution_count": 13,
   "id": "c3a52df4-47e2-46cb-9256-d8ef3b37affc",
   "metadata": {
    "tags": []
   },
   "outputs": [
    {
     "name": "stderr",
     "output_type": "stream",
     "text": [
      "C:\\Users\\bjlov\\AppData\\Local\\Temp\\ipykernel_9008\\4132066079.py:1: FutureWarning: ['Name', 'Sex', 'Ticket', 'Cabin', 'Embarked', 'married'] did not aggregate successfully. If any error is raised this will raise in a future version of pandas. Drop these columns/ops to avoid this warning.\n",
      "  df.groupby([married,'Survived']).agg(['sum','mean','std','count','min']).Fare\n"
     ]
    },
    {
     "data": {
      "text/html": [
       "<div>\n",
       "<style scoped>\n",
       "    .dataframe tbody tr th:only-of-type {\n",
       "        vertical-align: middle;\n",
       "    }\n",
       "\n",
       "    .dataframe tbody tr th {\n",
       "        vertical-align: top;\n",
       "    }\n",
       "\n",
       "    .dataframe thead th {\n",
       "        text-align: right;\n",
       "    }\n",
       "</style>\n",
       "<table border=\"1\" class=\"dataframe\">\n",
       "  <thead>\n",
       "    <tr style=\"text-align: right;\">\n",
       "      <th></th>\n",
       "      <th></th>\n",
       "      <th>sum</th>\n",
       "      <th>mean</th>\n",
       "      <th>std</th>\n",
       "      <th>count</th>\n",
       "      <th>min</th>\n",
       "    </tr>\n",
       "    <tr>\n",
       "      <th></th>\n",
       "      <th>Survived</th>\n",
       "      <th></th>\n",
       "      <th></th>\n",
       "      <th></th>\n",
       "      <th></th>\n",
       "      <th></th>\n",
       "    </tr>\n",
       "  </thead>\n",
       "  <tbody>\n",
       "    <tr>\n",
       "      <th rowspan=\"2\" valign=\"top\">married</th>\n",
       "      <th>0</th>\n",
       "      <td>5706.6954</td>\n",
       "      <td>23.197949</td>\n",
       "      <td>29.953858</td>\n",
       "      <td>246</td>\n",
       "      <td>0.0000</td>\n",
       "    </tr>\n",
       "    <tr>\n",
       "      <th>1</th>\n",
       "      <td>7913.1377</td>\n",
       "      <td>50.083150</td>\n",
       "      <td>67.365605</td>\n",
       "      <td>158</td>\n",
       "      <td>0.0000</td>\n",
       "    </tr>\n",
       "    <tr>\n",
       "      <th rowspan=\"2\" valign=\"top\">unmarried</th>\n",
       "      <th>0</th>\n",
       "      <td>6436.0245</td>\n",
       "      <td>21.241005</td>\n",
       "      <td>32.529055</td>\n",
       "      <td>303</td>\n",
       "      <td>0.0000</td>\n",
       "    </tr>\n",
       "    <tr>\n",
       "      <th>1</th>\n",
       "      <td>8638.0917</td>\n",
       "      <td>46.946151</td>\n",
       "      <td>66.079415</td>\n",
       "      <td>184</td>\n",
       "      <td>7.1417</td>\n",
       "    </tr>\n",
       "  </tbody>\n",
       "</table>\n",
       "</div>"
      ],
      "text/plain": [
       "                          sum       mean        std  count     min\n",
       "          Survived                                                \n",
       "married   0         5706.6954  23.197949  29.953858    246  0.0000\n",
       "          1         7913.1377  50.083150  67.365605    158  0.0000\n",
       "unmarried 0         6436.0245  21.241005  32.529055    303  0.0000\n",
       "          1         8638.0917  46.946151  66.079415    184  7.1417"
      ]
     },
     "execution_count": 13,
     "metadata": {},
     "output_type": "execute_result"
    }
   ],
   "source": [
    "df.groupby([married,'Survived']).agg(['sum','mean','std','count','min']).Fare"
   ]
  },
  {
   "cell_type": "code",
   "execution_count": 15,
   "id": "9134de7c-a5f8-4fd8-a1d4-92186c582d02",
   "metadata": {
    "tags": []
   },
   "outputs": [
    {
     "data": {
      "text/plain": [
       "'오늘의 점심은 뭐먹죠'"
      ]
     },
     "execution_count": 15,
     "metadata": {},
     "output_type": "execute_result"
    }
   ],
   "source": [
    "'오늘의 점심은 뭐먹죠'"
   ]
  },
  {
   "cell_type": "code",
   "execution_count": 17,
   "id": "416ac733-c0b3-4a31-8f47-4dd76f4ef7d0",
   "metadata": {
    "tags": []
   },
   "outputs": [],
   "source": [
    "date = np.datetime64('2022-01-01')\n",
    "date = date + np.arange(365)"
   ]
  },
  {
   "cell_type": "code",
   "execution_count": 18,
   "id": "38dcd2f8-a893-4040-873b-11d55b2d9418",
   "metadata": {
    "tags": []
   },
   "outputs": [],
   "source": [
    "amount = np.random.randint(10,100,date.size)"
   ]
  },
  {
   "cell_type": "code",
   "execution_count": 19,
   "id": "bd95ceeb-743c-4e1a-ae6f-b79ce7c2c89d",
   "metadata": {
    "tags": []
   },
   "outputs": [],
   "source": [
    "location = np.random.choice(['a','b','c','d'],date.size)"
   ]
  },
  {
   "cell_type": "code",
   "execution_count": 22,
   "id": "189e27e7-d47c-4e3b-913f-655db833c134",
   "metadata": {
    "tags": []
   },
   "outputs": [],
   "source": [
    "sales = pd.DataFrame()\n",
    "sales['date'] = date\n",
    "sales['location'] = location\n",
    "sales['amount'] = amount"
   ]
  },
  {
   "cell_type": "code",
   "execution_count": 27,
   "id": "f522749e-8927-47c0-8f32-5f5a853e6236",
   "metadata": {
    "tags": []
   },
   "outputs": [],
   "source": [
    "import warnings\n",
    "warnings.filterwarnings(action='ignore')\n",
    "#월별  얼마나 팔았나?\n",
    "#월별 지점별 얼마나 팔았나\n",
    "#일별 지점별 얼마 팔았나\n",
    "#월별 지점별 평균 얼마:나 팔았나\n",
    "month = sales.date.astype('str').str[5:7]\n",
    "sales.groupby(month).sum().amount #1번\n",
    "sales.groupby([month,'location']).sum().amount #2번\n",
    "day = sales.date.astype('str').str[8:10]\n",
    "sales.groupby(day).sum().amount # 3번\n",
    "sales.groupby([month,'location']).mean().amount #4번\n",
    "## pivot ==> column, row Transpose\n",
    "sales['month'] = month"
   ]
  },
  {
   "cell_type": "code",
   "execution_count": 28,
   "id": "dd4836cd-992d-4cf3-a39e-91063a0739da",
   "metadata": {
    "tags": []
   },
   "outputs": [
    {
     "data": {
      "text/html": [
       "<div>\n",
       "<style scoped>\n",
       "    .dataframe tbody tr th:only-of-type {\n",
       "        vertical-align: middle;\n",
       "    }\n",
       "\n",
       "    .dataframe tbody tr th {\n",
       "        vertical-align: top;\n",
       "    }\n",
       "\n",
       "    .dataframe thead th {\n",
       "        text-align: right;\n",
       "    }\n",
       "</style>\n",
       "<table border=\"1\" class=\"dataframe\">\n",
       "  <thead>\n",
       "    <tr style=\"text-align: right;\">\n",
       "      <th></th>\n",
       "      <th>date</th>\n",
       "      <th>location</th>\n",
       "      <th>amount</th>\n",
       "      <th>month</th>\n",
       "    </tr>\n",
       "  </thead>\n",
       "  <tbody>\n",
       "    <tr>\n",
       "      <th>0</th>\n",
       "      <td>2022-01-01</td>\n",
       "      <td>c</td>\n",
       "      <td>42</td>\n",
       "      <td>01</td>\n",
       "    </tr>\n",
       "    <tr>\n",
       "      <th>1</th>\n",
       "      <td>2022-01-02</td>\n",
       "      <td>c</td>\n",
       "      <td>98</td>\n",
       "      <td>01</td>\n",
       "    </tr>\n",
       "    <tr>\n",
       "      <th>2</th>\n",
       "      <td>2022-01-03</td>\n",
       "      <td>b</td>\n",
       "      <td>32</td>\n",
       "      <td>01</td>\n",
       "    </tr>\n",
       "    <tr>\n",
       "      <th>3</th>\n",
       "      <td>2022-01-04</td>\n",
       "      <td>b</td>\n",
       "      <td>56</td>\n",
       "      <td>01</td>\n",
       "    </tr>\n",
       "    <tr>\n",
       "      <th>4</th>\n",
       "      <td>2022-01-05</td>\n",
       "      <td>a</td>\n",
       "      <td>55</td>\n",
       "      <td>01</td>\n",
       "    </tr>\n",
       "    <tr>\n",
       "      <th>...</th>\n",
       "      <td>...</td>\n",
       "      <td>...</td>\n",
       "      <td>...</td>\n",
       "      <td>...</td>\n",
       "    </tr>\n",
       "    <tr>\n",
       "      <th>360</th>\n",
       "      <td>2022-12-27</td>\n",
       "      <td>d</td>\n",
       "      <td>53</td>\n",
       "      <td>12</td>\n",
       "    </tr>\n",
       "    <tr>\n",
       "      <th>361</th>\n",
       "      <td>2022-12-28</td>\n",
       "      <td>b</td>\n",
       "      <td>48</td>\n",
       "      <td>12</td>\n",
       "    </tr>\n",
       "    <tr>\n",
       "      <th>362</th>\n",
       "      <td>2022-12-29</td>\n",
       "      <td>b</td>\n",
       "      <td>89</td>\n",
       "      <td>12</td>\n",
       "    </tr>\n",
       "    <tr>\n",
       "      <th>363</th>\n",
       "      <td>2022-12-30</td>\n",
       "      <td>a</td>\n",
       "      <td>69</td>\n",
       "      <td>12</td>\n",
       "    </tr>\n",
       "    <tr>\n",
       "      <th>364</th>\n",
       "      <td>2022-12-31</td>\n",
       "      <td>d</td>\n",
       "      <td>78</td>\n",
       "      <td>12</td>\n",
       "    </tr>\n",
       "  </tbody>\n",
       "</table>\n",
       "<p>365 rows × 4 columns</p>\n",
       "</div>"
      ],
      "text/plain": [
       "          date location  amount month\n",
       "0   2022-01-01        c      42    01\n",
       "1   2022-01-02        c      98    01\n",
       "2   2022-01-03        b      32    01\n",
       "3   2022-01-04        b      56    01\n",
       "4   2022-01-05        a      55    01\n",
       "..         ...      ...     ...   ...\n",
       "360 2022-12-27        d      53    12\n",
       "361 2022-12-28        b      48    12\n",
       "362 2022-12-29        b      89    12\n",
       "363 2022-12-30        a      69    12\n",
       "364 2022-12-31        d      78    12\n",
       "\n",
       "[365 rows x 4 columns]"
      ]
     },
     "execution_count": 28,
     "metadata": {},
     "output_type": "execute_result"
    }
   ],
   "source": [
    "sales"
   ]
  },
  {
   "cell_type": "code",
   "execution_count": 38,
   "id": "ce75ac45-3fc3-42c0-940e-4644c6e7e664",
   "metadata": {
    "tags": []
   },
   "outputs": [
    {
     "data": {
      "text/html": [
       "<div>\n",
       "<style scoped>\n",
       "    .dataframe tbody tr th:only-of-type {\n",
       "        vertical-align: middle;\n",
       "    }\n",
       "\n",
       "    .dataframe tbody tr th {\n",
       "        vertical-align: top;\n",
       "    }\n",
       "\n",
       "    .dataframe thead th {\n",
       "        text-align: right;\n",
       "    }\n",
       "</style>\n",
       "<table border=\"1\" class=\"dataframe\">\n",
       "  <thead>\n",
       "    <tr style=\"text-align: right;\">\n",
       "      <th></th>\n",
       "      <th></th>\n",
       "      <th>month</th>\n",
       "      <th>01</th>\n",
       "      <th>02</th>\n",
       "      <th>03</th>\n",
       "      <th>04</th>\n",
       "      <th>05</th>\n",
       "      <th>06</th>\n",
       "      <th>07</th>\n",
       "      <th>08</th>\n",
       "      <th>09</th>\n",
       "      <th>10</th>\n",
       "      <th>11</th>\n",
       "      <th>12</th>\n",
       "    </tr>\n",
       "    <tr>\n",
       "      <th></th>\n",
       "      <th></th>\n",
       "      <th>location</th>\n",
       "      <th></th>\n",
       "      <th></th>\n",
       "      <th></th>\n",
       "      <th></th>\n",
       "      <th></th>\n",
       "      <th></th>\n",
       "      <th></th>\n",
       "      <th></th>\n",
       "      <th></th>\n",
       "      <th></th>\n",
       "      <th></th>\n",
       "      <th></th>\n",
       "    </tr>\n",
       "  </thead>\n",
       "  <tbody>\n",
       "    <tr>\n",
       "      <th rowspan=\"4\" valign=\"top\">sum</th>\n",
       "      <th rowspan=\"4\" valign=\"top\">amount</th>\n",
       "      <th>a</th>\n",
       "      <td>374</td>\n",
       "      <td>658</td>\n",
       "      <td>505</td>\n",
       "      <td>693</td>\n",
       "      <td>584</td>\n",
       "      <td>361</td>\n",
       "      <td>247</td>\n",
       "      <td>693</td>\n",
       "      <td>320</td>\n",
       "      <td>551</td>\n",
       "      <td>463</td>\n",
       "      <td>496</td>\n",
       "    </tr>\n",
       "    <tr>\n",
       "      <th>b</th>\n",
       "      <td>696</td>\n",
       "      <td>123</td>\n",
       "      <td>405</td>\n",
       "      <td>530</td>\n",
       "      <td>439</td>\n",
       "      <td>442</td>\n",
       "      <td>660</td>\n",
       "      <td>473</td>\n",
       "      <td>490</td>\n",
       "      <td>449</td>\n",
       "      <td>474</td>\n",
       "      <td>532</td>\n",
       "    </tr>\n",
       "    <tr>\n",
       "      <th>c</th>\n",
       "      <td>506</td>\n",
       "      <td>558</td>\n",
       "      <td>350</td>\n",
       "      <td>213</td>\n",
       "      <td>370</td>\n",
       "      <td>465</td>\n",
       "      <td>176</td>\n",
       "      <td>186</td>\n",
       "      <td>485</td>\n",
       "      <td>591</td>\n",
       "      <td>385</td>\n",
       "      <td>346</td>\n",
       "    </tr>\n",
       "    <tr>\n",
       "      <th>d</th>\n",
       "      <td>186</td>\n",
       "      <td>329</td>\n",
       "      <td>681</td>\n",
       "      <td>518</td>\n",
       "      <td>405</td>\n",
       "      <td>417</td>\n",
       "      <td>492</td>\n",
       "      <td>292</td>\n",
       "      <td>426</td>\n",
       "      <td>411</td>\n",
       "      <td>342</td>\n",
       "      <td>332</td>\n",
       "    </tr>\n",
       "  </tbody>\n",
       "</table>\n",
       "</div>"
      ],
      "text/plain": [
       "month                 01   02   03   04   05   06   07   08   09   10   11  \\\n",
       "           location                                                          \n",
       "sum amount a         374  658  505  693  584  361  247  693  320  551  463   \n",
       "           b         696  123  405  530  439  442  660  473  490  449  474   \n",
       "           c         506  558  350  213  370  465  176  186  485  591  385   \n",
       "           d         186  329  681  518  405  417  492  292  426  411  342   \n",
       "\n",
       "month                 12  \n",
       "           location       \n",
       "sum amount a         496  \n",
       "           b         532  \n",
       "           c         346  \n",
       "           d         332  "
      ]
     },
     "execution_count": 38,
     "metadata": {},
     "output_type": "execute_result"
    }
   ],
   "source": [
    "sales.pivot_table(index = ['location'],\n",
    "           columns = ['month'],\n",
    "           values = ['amount'],\n",
    "           aggfunc=['mean'])\n",
    "\n",
    "sales.pivot_table(index = ['month'],\n",
    "           columns = ['location'],\n",
    "           values = ['amount'],\n",
    "           aggfunc=['sum'])\n",
    "\n",
    "sales.pivot_table(index = ['month'],\n",
    "           columns = ['location'],\n",
    "           values = ['amount'],\n",
    "           aggfunc=['sum']).T"
   ]
  },
  {
   "cell_type": "code",
   "execution_count": 46,
   "id": "6db626b1-ddca-42f1-bd02-fcf5e7730795",
   "metadata": {
    "tags": []
   },
   "outputs": [
    {
     "data": {
      "text/html": [
       "<div>\n",
       "<style scoped>\n",
       "    .dataframe tbody tr th:only-of-type {\n",
       "        vertical-align: middle;\n",
       "    }\n",
       "\n",
       "    .dataframe tbody tr th {\n",
       "        vertical-align: top;\n",
       "    }\n",
       "\n",
       "    .dataframe thead th {\n",
       "        text-align: right;\n",
       "    }\n",
       "</style>\n",
       "<table border=\"1\" class=\"dataframe\">\n",
       "  <thead>\n",
       "    <tr style=\"text-align: right;\">\n",
       "      <th>location</th>\n",
       "      <th>a</th>\n",
       "      <th>b</th>\n",
       "      <th>c</th>\n",
       "      <th>d</th>\n",
       "    </tr>\n",
       "    <tr>\n",
       "      <th>date</th>\n",
       "      <th></th>\n",
       "      <th></th>\n",
       "      <th></th>\n",
       "      <th></th>\n",
       "    </tr>\n",
       "  </thead>\n",
       "  <tbody>\n",
       "    <tr>\n",
       "      <th>01</th>\n",
       "      <td>374</td>\n",
       "      <td>696</td>\n",
       "      <td>506</td>\n",
       "      <td>186</td>\n",
       "    </tr>\n",
       "    <tr>\n",
       "      <th>02</th>\n",
       "      <td>658</td>\n",
       "      <td>123</td>\n",
       "      <td>558</td>\n",
       "      <td>329</td>\n",
       "    </tr>\n",
       "    <tr>\n",
       "      <th>03</th>\n",
       "      <td>505</td>\n",
       "      <td>405</td>\n",
       "      <td>350</td>\n",
       "      <td>681</td>\n",
       "    </tr>\n",
       "    <tr>\n",
       "      <th>04</th>\n",
       "      <td>693</td>\n",
       "      <td>530</td>\n",
       "      <td>213</td>\n",
       "      <td>518</td>\n",
       "    </tr>\n",
       "    <tr>\n",
       "      <th>05</th>\n",
       "      <td>584</td>\n",
       "      <td>439</td>\n",
       "      <td>370</td>\n",
       "      <td>405</td>\n",
       "    </tr>\n",
       "    <tr>\n",
       "      <th>06</th>\n",
       "      <td>361</td>\n",
       "      <td>442</td>\n",
       "      <td>465</td>\n",
       "      <td>417</td>\n",
       "    </tr>\n",
       "    <tr>\n",
       "      <th>07</th>\n",
       "      <td>247</td>\n",
       "      <td>660</td>\n",
       "      <td>176</td>\n",
       "      <td>492</td>\n",
       "    </tr>\n",
       "    <tr>\n",
       "      <th>08</th>\n",
       "      <td>693</td>\n",
       "      <td>473</td>\n",
       "      <td>186</td>\n",
       "      <td>292</td>\n",
       "    </tr>\n",
       "    <tr>\n",
       "      <th>09</th>\n",
       "      <td>320</td>\n",
       "      <td>490</td>\n",
       "      <td>485</td>\n",
       "      <td>426</td>\n",
       "    </tr>\n",
       "    <tr>\n",
       "      <th>10</th>\n",
       "      <td>551</td>\n",
       "      <td>449</td>\n",
       "      <td>591</td>\n",
       "      <td>411</td>\n",
       "    </tr>\n",
       "    <tr>\n",
       "      <th>11</th>\n",
       "      <td>463</td>\n",
       "      <td>474</td>\n",
       "      <td>385</td>\n",
       "      <td>342</td>\n",
       "    </tr>\n",
       "    <tr>\n",
       "      <th>12</th>\n",
       "      <td>496</td>\n",
       "      <td>532</td>\n",
       "      <td>346</td>\n",
       "      <td>332</td>\n",
       "    </tr>\n",
       "  </tbody>\n",
       "</table>\n",
       "</div>"
      ],
      "text/plain": [
       "location    a    b    c    d\n",
       "date                        \n",
       "01        374  696  506  186\n",
       "02        658  123  558  329\n",
       "03        505  405  350  681\n",
       "04        693  530  213  518\n",
       "05        584  439  370  405\n",
       "06        361  442  465  417\n",
       "07        247  660  176  492\n",
       "08        693  473  186  292\n",
       "09        320  490  485  426\n",
       "10        551  449  591  411\n",
       "11        463  474  385  342\n",
       "12        496  532  346  332"
      ]
     },
     "execution_count": 46,
     "metadata": {},
     "output_type": "execute_result"
    }
   ],
   "source": [
    "sales.groupby([month,'location']).sum().reset_index().pivot_table(index='date',\n",
    "                                                                  columns='location',\n",
    "                                                                  values='amount')"
   ]
  },
  {
   "cell_type": "code",
   "execution_count": 36,
   "id": "4f6b8073-c951-4e8f-bef3-8840d3b06c61",
   "metadata": {
    "tags": []
   },
   "outputs": [
    {
     "data": {
      "text/plain": [
       "48"
      ]
     },
     "execution_count": 36,
     "metadata": {},
     "output_type": "execute_result"
    }
   ],
   "source": [
    "sales.pivot_table(index = ['month'],\n",
    "           columns = ['location'],\n",
    "           values = ['amount'],\n",
    "           aggfunc=['sum']).size"
   ]
  },
  {
   "cell_type": "code",
   "execution_count": null,
   "id": "16a92057-2e8e-4e38-8f44-20ea219d085d",
   "metadata": {},
   "outputs": [],
   "source": [
    "del all\n"
   ]
  }
 ],
 "metadata": {
  "kernelspec": {
   "display_name": "yuuni",
   "language": "python",
   "name": "yuuni"
  },
  "language_info": {
   "codemirror_mode": {
    "name": "ipython",
    "version": 3
   },
   "file_extension": ".py",
   "mimetype": "text/x-python",
   "name": "python",
   "nbconvert_exporter": "python",
   "pygments_lexer": "ipython3",
   "version": "3.9.13"
  }
 },
 "nbformat": 4,
 "nbformat_minor": 5
}
