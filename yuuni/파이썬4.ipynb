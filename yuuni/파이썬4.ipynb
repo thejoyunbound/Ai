{
 "cells": [
  {
   "cell_type": "code",
   "execution_count": 1,
   "id": "8f674a71-f02e-49ff-ab22-e8d58c33fa05",
   "metadata": {},
   "outputs": [
    {
     "data": {
      "text/plain": [
       "45"
      ]
     },
     "execution_count": 1,
     "metadata": {},
     "output_type": "execute_result"
    }
   ],
   "source": [
    "sum(range(1,10))"
   ]
  },
  {
   "cell_type": "code",
   "execution_count": 2,
   "id": "cc50faa3-4d61-4971-9d1d-325f939ef6a5",
   "metadata": {},
   "outputs": [
    {
     "ename": "NameError",
     "evalue": "name 'sum_all' is not defined",
     "output_type": "error",
     "traceback": [
      "\u001b[1;31m---------------------------------------------------------------------------\u001b[0m",
      "\u001b[1;31mNameError\u001b[0m                                 Traceback (most recent call last)",
      "\u001b[1;32m~\\AppData\\Local\\Temp\\ipykernel_5644\\2343460620.py\u001b[0m in \u001b[0;36m<module>\u001b[1;34m\u001b[0m\n\u001b[1;32m----> 1\u001b[1;33m \u001b[0msum_all\u001b[0m\u001b[1;33m(\u001b[0m\u001b[1;36m1\u001b[0m\u001b[1;33m,\u001b[0m\u001b[1;36m10\u001b[0m\u001b[1;33m)\u001b[0m\u001b[1;33m\u001b[0m\u001b[1;33m\u001b[0m\u001b[0m\n\u001b[0m",
      "\u001b[1;31mNameError\u001b[0m: name 'sum_all' is not defined"
     ]
    }
   ],
   "source": [
    "# sum_all(1,10)\n",
    "def sum_all(start,end):\n",
    "    for i in \n",
    "    return result"
   ]
  },
  {
   "cell_type": "code",
   "execution_count": 1,
   "id": "e147ac63-94de-42a1-aadc-5a0ec00faad2",
   "metadata": {},
   "outputs": [
    {
     "data": {
      "text/plain": [
       "22"
      ]
     },
     "execution_count": 1,
     "metadata": {},
     "output_type": "execute_result"
    }
   ],
   "source": [
    "# start, end, step\n",
    "def sum_all(start,end,step=1):\n",
    "    result = 0\n",
    "    for i in range(start,end+1,step):\n",
    "        result += i\n",
    "    return result\n",
    "sum_all(1,10,3)"
   ]
  },
  {
   "cell_type": "code",
   "execution_count": 3,
   "id": "1e10257c-a306-4c44-9004-22c99f9ca730",
   "metadata": {},
   "outputs": [],
   "source": [
    "# 지정된 범위에서 3의 배수의 합만 구하고\n",
    "# 지정된 범위에 3의 배수가 없을 경우는 0 \n",
    "def sum_all(start,end,step=1):\n",
    "    result = 0\n",
    "    for i in range(start,end+1,step):\n",
    "        if i % 3 == 0:\n",
    "            result += i\n",
    "    return result"
   ]
  },
  {
   "cell_type": "code",
   "execution_count": 6,
   "id": "1190861e-dd33-4478-b847-a449111f2097",
   "metadata": {},
   "outputs": [
    {
     "data": {
      "text/plain": [
       "6"
      ]
     },
     "execution_count": 6,
     "metadata": {},
     "output_type": "execute_result"
    }
   ],
   "source": [
    "sum_all(6,7)"
   ]
  },
  {
   "cell_type": "code",
   "execution_count": 7,
   "id": "bab1cf9c-8847-43eb-ac0f-3d684eada3d6",
   "metadata": {},
   "outputs": [],
   "source": [
    "# 지정된 범위에서 3의 배수의 합만 구하고\n",
    "# 지정된 범위에 3의 배수가 없을 경우는 '결과가 없습니다'"
   ]
  },
  {
   "cell_type": "code",
   "execution_count": 24,
   "id": "730eb304-1046-4a74-9621-7f4a8ab2d9f8",
   "metadata": {},
   "outputs": [
    {
     "data": {
      "text/plain": [
       "'결과가 없습니다'"
      ]
     },
     "execution_count": 24,
     "metadata": {},
     "output_type": "execute_result"
    }
   ],
   "source": [
    "def sum_all(start,end,step=1):\n",
    "    result = 0\n",
    "    for i in range(start,end+1,step):\n",
    "        if i % 3 == 0:\n",
    "            result += i\n",
    "    if result == 0:\n",
    "        result = '결과가 없습니다'\n",
    "    return result\n",
    "sum_all(1,2)"
   ]
  },
  {
   "cell_type": "code",
   "execution_count": 22,
   "id": "6d562d75-a0c8-4f04-84b0-26daa4747628",
   "metadata": {},
   "outputs": [
    {
     "data": {
      "text/plain": [
       "'결과가 없습니다'"
      ]
     },
     "execution_count": 22,
     "metadata": {},
     "output_type": "execute_result"
    }
   ],
   "source": [
    "def sum_all(start,end,step=1):\n",
    "    result = 0\n",
    "    for i in range(start,end+1,step):\n",
    "        if i % 3 == 0:\n",
    "            result += i\n",
    "    if result == 0:\n",
    "        result = '결과가 없습니다'\n",
    "    return result\n",
    "sum_all(1,2)"
   ]
  },
  {
   "cell_type": "code",
   "execution_count": 1,
   "id": "93469482-ba58-4919-bd30-b50b365e67d6",
   "metadata": {},
   "outputs": [],
   "source": [
    "# 지정된 범위에서 n의 배수의 합만 구하고\n",
    "# 지정된 범위에 n의 배수가 없을 경우는 '결과가 없습니다'\n",
    "def sum_all(start,end,n,step=1):\n",
    "    result = 0\n",
    "    for i in range(start,end+1,step):\n",
    "        if i % n == 0:\n",
    "            result += i\n",
    "    if result == 0:\n",
    "        result = '결과가 없습니다'\n",
    "    return result"
   ]
  },
  {
   "cell_type": "code",
   "execution_count": 2,
   "id": "8014b6c4-4f26-4c60-b04b-d5143c52c553",
   "metadata": {},
   "outputs": [
    {
     "data": {
      "text/plain": [
       "10"
      ]
     },
     "execution_count": 2,
     "metadata": {},
     "output_type": "execute_result"
    }
   ],
   "source": [
    "sum_all(7,10,5)"
   ]
  },
  {
   "cell_type": "code",
   "execution_count": 3,
   "id": "5717e025-419a-4047-a1c4-e41ea4723647",
   "metadata": {},
   "outputs": [
    {
     "data": {
      "text/plain": [
       "5"
      ]
     },
     "execution_count": 3,
     "metadata": {},
     "output_type": "execute_result"
    }
   ],
   "source": [
    "def f(x):\n",
    "    return 2*x+1\n",
    "f(2)"
   ]
  },
  {
   "cell_type": "code",
   "execution_count": 4,
   "id": "a086f49a-7055-4062-bd31-5dbecc282d54",
   "metadata": {},
   "outputs": [],
   "source": [
    "def f(x):\n",
    "    result = x**2 + 2*x +1\n",
    "    return result"
   ]
  },
  {
   "cell_type": "code",
   "execution_count": 5,
   "id": "e58746a5-d446-4c85-9c09-37133187572f",
   "metadata": {},
   "outputs": [],
   "source": [
    "def f(x):\n",
    "    return (x+1)**2"
   ]
  },
  {
   "cell_type": "code",
   "execution_count": 6,
   "id": "1108977a-3e1e-4d32-94cb-6c50e5665bcb",
   "metadata": {},
   "outputs": [
    {
     "data": {
      "text/plain": [
       "9"
      ]
     },
     "execution_count": 6,
     "metadata": {},
     "output_type": "execute_result"
    }
   ],
   "source": [
    "f(2)"
   ]
  },
  {
   "cell_type": "code",
   "execution_count": 5,
   "id": "cbb07acc-4eaa-4248-a315-213f8dc9fd83",
   "metadata": {},
   "outputs": [],
   "source": [
    "def mul(v):\n",
    "    result = 1\n",
    "    for i in v:\n",
    "        result *= i\n",
    "    return result"
   ]
  },
  {
   "cell_type": "code",
   "execution_count": 6,
   "id": "03d191ce-b094-42ec-b3f4-c1e6cdecad5e",
   "metadata": {},
   "outputs": [
    {
     "data": {
      "text/plain": [
       "3150"
      ]
     },
     "execution_count": 6,
     "metadata": {},
     "output_type": "execute_result"
    }
   ],
   "source": [
    "mul([5,7,9,10])"
   ]
  },
  {
   "cell_type": "code",
   "execution_count": 7,
   "id": "418bab85-5b6d-49f7-8049-20dcd0026914",
   "metadata": {},
   "outputs": [],
   "source": [
    "def mul(x,y):\n",
    "    return x*y"
   ]
  },
  {
   "cell_type": "code",
   "execution_count": 8,
   "id": "a2e4f0cb-119c-4aec-943e-0d709cad6b37",
   "metadata": {},
   "outputs": [
    {
     "data": {
      "text/plain": [
       "12"
      ]
     },
     "execution_count": 8,
     "metadata": {},
     "output_type": "execute_result"
    }
   ],
   "source": [
    "dt = {'x':4,'y':3}\n",
    "mul(**dt)"
   ]
  },
  {
   "cell_type": "code",
   "execution_count": 9,
   "id": "b3077626-318c-4430-a555-26c8c9463672",
   "metadata": {},
   "outputs": [
    {
     "data": {
      "text/plain": [
       "''"
      ]
     },
     "execution_count": 9,
     "metadata": {},
     "output_type": "execute_result"
    }
   ],
   "source": [
    "# 재귀함수 부분"
   ]
  },
  {
   "cell_type": "code",
   "execution_count": 13,
   "id": "6b0590c9-611e-494c-ae40-28a31426acd0",
   "metadata": {},
   "outputs": [],
   "source": [
    "def factorial(n):\n",
    "    result = 1\n",
    "    for i in range(1,n+1):\n",
    "        result *= i\n",
    "#        result = result * i\n",
    "    return result"
   ]
  },
  {
   "cell_type": "code",
   "execution_count": 14,
   "id": "0a36bc36-02a7-41ef-893d-a481780d222b",
   "metadata": {},
   "outputs": [
    {
     "name": "stdout",
     "output_type": "stream",
     "text": [
      "1\n",
      "2\n",
      "6\n",
      "24\n",
      "120\n",
      "720\n",
      "5040\n",
      "40320\n",
      "362880\n",
      "3628800\n"
     ]
    }
   ],
   "source": [
    "for i in range(1,11):\n",
    "    print(factorial(i))"
   ]
  },
  {
   "cell_type": "code",
   "execution_count": 15,
   "id": "d078730d-5295-4054-b350-83d9d7e1d6a0",
   "metadata": {},
   "outputs": [],
   "source": [
    "# 점심뭐먹지가 세상에서 가장 큰 고민 흠 "
   ]
  },
  {
   "cell_type": "code",
   "execution_count": 19,
   "id": "5198a576-6828-4f2c-969d-9fa35c0495ba",
   "metadata": {},
   "outputs": [],
   "source": [
    "# def f(n):\n",
    "#     if n == 0:\n",
    "#         retrn 1\n",
    "#     return n*f(n-1)\n",
    "def f(n):\n",
    "    if n == 0:\n",
    "        return 1\n",
    "    return n*f(n-1)"
   ]
  },
  {
   "cell_type": "code",
   "execution_count": 20,
   "id": "5e1c95cc-8fa4-40c5-a54f-b157bdabbb18",
   "metadata": {},
   "outputs": [],
   "source": [
    "def f(n):\n",
    "    if n == 0:\n",
    "        return 1\n",
    "    return n*f(n-1)"
   ]
  },
  {
   "cell_type": "code",
   "execution_count": 21,
   "id": "d7570500-092d-49da-b841-6537df56dffb",
   "metadata": {},
   "outputs": [],
   "source": [
    "def fibo(n):\n",
    "    if n==1 or n==2:\n",
    "        return 1\n",
    "    else:\n",
    "        return 2"
   ]
  },
  {
   "cell_type": "code",
   "execution_count": 22,
   "id": "87df9b5c-bc5f-4ac8-97b8-56445656c9a2",
   "metadata": {},
   "outputs": [
    {
     "data": {
      "text/plain": [
       "2"
      ]
     },
     "execution_count": 22,
     "metadata": {},
     "output_type": "execute_result"
    }
   ],
   "source": [
    "fibo(122)"
   ]
  },
  {
   "cell_type": "code",
   "execution_count": 23,
   "id": "9f2620cb-040c-4330-bdbb-a995ca702f73",
   "metadata": {},
   "outputs": [],
   "source": [
    "def fibo(n):\n",
    "    if n==1 or n==2:\n",
    "        return 1\n",
    "    return fibo(n-1) + fibo(n-2)"
   ]
  },
  {
   "cell_type": "code",
   "execution_count": 24,
   "id": "d49fb163-a118-4d09-b72d-b087fba639ec",
   "metadata": {},
   "outputs": [
    {
     "data": {
      "text/plain": [
       "55"
      ]
     },
     "execution_count": 24,
     "metadata": {},
     "output_type": "execute_result"
    }
   ],
   "source": [
    "fibo(10)"
   ]
  },
  {
   "cell_type": "code",
   "execution_count": 25,
   "id": "c34d82f3-3cdc-43ef-8bd7-53ebc7ad795f",
   "metadata": {},
   "outputs": [],
   "source": [
    "# 저는 파스타먹고 살아버린 그저 귀족맨 "
   ]
  },
  {
   "cell_type": "code",
   "execution_count": 26,
   "id": "6774c893-328f-48a5-b435-f63ade166199",
   "metadata": {},
   "outputs": [
    {
     "data": {
      "text/plain": [
       "55"
      ]
     },
     "execution_count": 26,
     "metadata": {},
     "output_type": "execute_result"
    }
   ],
   "source": [
    "def add(n):\n",
    "    result = 0\n",
    "    for i in range(1,n+1):\n",
    "        result += i\n",
    "    return result\n",
    "add(10)"
   ]
  },
  {
   "cell_type": "code",
   "execution_count": 29,
   "id": "f23c72cd-2ed9-4cbe-8b23-cb9e894300cb",
   "metadata": {},
   "outputs": [],
   "source": [
    "def add_self(n):\n",
    "    if n == 1:\n",
    "        return 1\n",
    "    return n + add_self(n-1)"
   ]
  },
  {
   "cell_type": "code",
   "execution_count": 30,
   "id": "033be781-2ab5-46af-bae0-f83475c54e35",
   "metadata": {},
   "outputs": [
    {
     "data": {
      "text/plain": [
       "6"
      ]
     },
     "execution_count": 30,
     "metadata": {},
     "output_type": "execute_result"
    }
   ],
   "source": [
    "add_self(3)"
   ]
  },
  {
   "cell_type": "code",
   "execution_count": 31,
   "id": "aba42198-e16c-4c43-80ef-72e75c7e50ba",
   "metadata": {},
   "outputs": [],
   "source": [
    "x = [[1,2,3], [1,2],3,4]"
   ]
  },
  {
   "cell_type": "code",
   "execution_count": 32,
   "id": "5f93415f-6056-4a23-94c1-0b9ad774e158",
   "metadata": {},
   "outputs": [
    {
     "name": "stdout",
     "output_type": "stream",
     "text": [
      "[1, 2, 3]\n",
      "[1, 2]\n",
      "3\n",
      "4\n"
     ]
    }
   ],
   "source": [
    "for i in x:\n",
    "    print(i)"
   ]
  },
  {
   "cell_type": "code",
   "execution_count": 38,
   "id": "98351e0c-99bc-4673-b907-876f2e8931ac",
   "metadata": {},
   "outputs": [
    {
     "data": {
      "text/plain": [
       "[1, 2, 3, 4, 5, 6, 7, 8, 9]"
      ]
     },
     "execution_count": 38,
     "metadata": {},
     "output_type": "execute_result"
    }
   ],
   "source": [
    "li = []\n",
    "for i in x:\n",
    "    if type(i) is list:\n",
    "        li = li + i\n",
    "    else:\n",
    "        li = li + [i]\n",
    "li"
   ]
  },
  {
   "cell_type": "code",
   "execution_count": 58,
   "id": "77ec6a5f-c610-4df6-b14c-73dedd286c86",
   "metadata": {},
   "outputs": [],
   "source": [
    "def flatten(data):\n",
    "    result = []\n",
    "    for i in data:\n",
    "        if type(i) == list:\n",
    "            result = result + flatten(i) \n",
    "        else:\n",
    "            result = result + [i]\n",
    "    return result\n",
    "# 한번 더 해보죠 "
   ]
  },
  {
   "cell_type": "code",
   "execution_count": 56,
   "id": "40f6fe5a-a691-4409-85b4-b433f422479d",
   "metadata": {},
   "outputs": [],
   "source": [
    "# x = [[1,2,3],[4,[[5,6]],7,[8,9]]\n",
    "x = [[1,2,3],[4,[[5,6]]],7,[8,9]]"
   ]
  },
  {
   "cell_type": "code",
   "execution_count": 57,
   "id": "804a3d3a-e07b-4c3d-a32b-a8aa90d660a7",
   "metadata": {},
   "outputs": [
    {
     "data": {
      "text/plain": [
       "[1, 2, 3, 4, 5, 6, 7, 8, 9]"
      ]
     },
     "execution_count": 57,
     "metadata": {},
     "output_type": "execute_result"
    }
   ],
   "source": [
    "flatten(x)"
   ]
  },
  {
   "cell_type": "code",
   "execution_count": 1,
   "id": "0e43daad-3560-49d6-a91c-436943417c3e",
   "metadata": {},
   "outputs": [
    {
     "data": {
      "text/plain": [
       "4"
      ]
     },
     "execution_count": 1,
     "metadata": {},
     "output_type": "execute_result"
    }
   ],
   "source": [
    "# list [element1,element2....]\n",
    "# dictionary {key1:value1, key2:value2 ....}\n",
    "# tuple (element1, element2....)\n",
    "def add(x,y):\n",
    "    return x+y\n",
    "((3,4),(2,3))[0][1]"
   ]
  },
  {
   "cell_type": "code",
   "execution_count": 2,
   "id": "877affa4-1ff3-4bc3-9b6c-3ed34820e270",
   "metadata": {},
   "outputs": [],
   "source": [
    "(a,b) = (10,20)"
   ]
  },
  {
   "cell_type": "code",
   "execution_count": 3,
   "id": "a20bb083-ac97-4560-ba1f-065b034e1a0e",
   "metadata": {},
   "outputs": [
    {
     "data": {
      "text/plain": [
       "10"
      ]
     },
     "execution_count": 3,
     "metadata": {},
     "output_type": "execute_result"
    }
   ],
   "source": [
    "a"
   ]
  },
  {
   "cell_type": "code",
   "execution_count": 4,
   "id": "3f2cc0b3-6d35-4fa7-a69b-31c0d1cd1b09",
   "metadata": {},
   "outputs": [
    {
     "data": {
      "text/plain": [
       "20"
      ]
     },
     "execution_count": 4,
     "metadata": {},
     "output_type": "execute_result"
    }
   ],
   "source": [
    "b"
   ]
  },
  {
   "cell_type": "code",
   "execution_count": 10,
   "id": "b6a22bec-15e9-4247-bcac-23c314659e06",
   "metadata": {},
   "outputs": [],
   "source": [
    "_, b = test()"
   ]
  },
  {
   "cell_type": "code",
   "execution_count": 54,
   "id": "2e1086c8-620b-4246-a6ab-2094fb01ec20",
   "metadata": {},
   "outputs": [],
   "source": [
    "def test():\n",
    "    return (10,20)"
   ]
  },
  {
   "cell_type": "code",
   "execution_count": 55,
   "id": "e3631020-eb57-46fe-9e46-08c51371be72",
   "metadata": {},
   "outputs": [],
   "source": [
    "def call_10_time(f,greeting):\n",
    "    for i in range(10):\n",
    "        f(greeting)"
   ]
  },
  {
   "cell_type": "code",
   "execution_count": 56,
   "id": "44782cb8-c830-4929-bee2-81972d5e8494",
   "metadata": {},
   "outputs": [],
   "source": [
    "def print_yunni(x):\n",
    "    print(x)"
   ]
  },
  {
   "cell_type": "code",
   "execution_count": 58,
   "id": "c7ff1c2d-7aa1-49cc-ba92-8def63a4d612",
   "metadata": {},
   "outputs": [
    {
     "name": "stdout",
     "output_type": "stream",
     "text": [
      "yuuni\n",
      "yuuni\n",
      "yuuni\n",
      "yuuni\n",
      "yuuni\n",
      "yuuni\n",
      "yuuni\n",
      "yuuni\n",
      "yuuni\n",
      "yuuni\n"
     ]
    }
   ],
   "source": [
    "call_10_time(print_yunni,'yuuni')"
   ]
  },
  {
   "cell_type": "code",
   "execution_count": 59,
   "id": "f31922fa-ba82-4434-a3c0-2fd845c505f8",
   "metadata": {},
   "outputs": [
    {
     "data": {
      "text/plain": [
       "[4, 5, 6]"
      ]
     },
     "execution_count": 59,
     "metadata": {},
     "output_type": "execute_result"
    }
   ],
   "source": [
    "li = [1,2,3]\n",
    "li1 = []\n",
    "for i in li:\n",
    "    li1.append(i+3)\n",
    "li1"
   ]
  },
  {
   "cell_type": "code",
   "execution_count": 60,
   "id": "5d1c3ab3-0bd6-4775-a6ea-8b9448d0f6ba",
   "metadata": {},
   "outputs": [
    {
     "data": {
      "text/plain": [
       "[4, 5, 6]"
      ]
     },
     "execution_count": 60,
     "metadata": {},
     "output_type": "execute_result"
    }
   ],
   "source": [
    "[i+3 for i in li]"
   ]
  },
  {
   "cell_type": "code",
   "execution_count": 61,
   "id": "93f17cb3-808a-437b-88a2-041042a9732a",
   "metadata": {},
   "outputs": [],
   "source": [
    "def add_3(x):\n",
    "    return x + 3\n"
   ]
  },
  {
   "cell_type": "code",
   "execution_count": 62,
   "id": "06525b4d-1271-4bac-99dd-f28e6ce54d76",
   "metadata": {},
   "outputs": [
    {
     "data": {
      "text/plain": [
       "6"
      ]
     },
     "execution_count": 62,
     "metadata": {},
     "output_type": "execute_result"
    }
   ],
   "source": [
    "add_3(3)"
   ]
  },
  {
   "cell_type": "code",
   "execution_count": 63,
   "id": "6639e5c3-1013-4fe1-bfa8-4910844476a6",
   "metadata": {},
   "outputs": [
    {
     "data": {
      "text/plain": [
       "[4, 5, 6]"
      ]
     },
     "execution_count": 63,
     "metadata": {},
     "output_type": "execute_result"
    }
   ],
   "source": [
    "list(map(add_3,li))"
   ]
  },
  {
   "cell_type": "code",
   "execution_count": 64,
   "id": "9d28ccf6-5eb2-4d74-a33b-01e51bb50b9d",
   "metadata": {},
   "outputs": [
    {
     "data": {
      "text/plain": [
       "[4, 5, 6]"
      ]
     },
     "execution_count": 64,
     "metadata": {},
     "output_type": "execute_result"
    }
   ],
   "source": [
    "f= lambda x: x+3\n",
    "list(map(f,li))"
   ]
  },
  {
   "cell_type": "code",
   "execution_count": 65,
   "id": "270fb02b-aef7-401d-86e1-e7473bc9ec36",
   "metadata": {},
   "outputs": [
    {
     "data": {
      "text/plain": [
       "[4, 5, 6]"
      ]
     },
     "execution_count": 65,
     "metadata": {},
     "output_type": "execute_result"
    }
   ],
   "source": [
    "list(map(lambda x: x+3,li))"
   ]
  },
  {
   "cell_type": "code",
   "execution_count": 66,
   "id": "84a620ad-b463-4bc0-8e9d-8d61ec0e211b",
   "metadata": {},
   "outputs": [],
   "source": [
    "li = [1,2,3,4,5,6]"
   ]
  },
  {
   "cell_type": "code",
   "execution_count": 67,
   "id": "b56cd8bb-2712-44ac-82c0-0340d2a156dd",
   "metadata": {},
   "outputs": [
    {
     "data": {
      "text/plain": [
       "[1, 2]"
      ]
     },
     "execution_count": 67,
     "metadata": {},
     "output_type": "execute_result"
    }
   ],
   "source": [
    "li1 = []\n",
    "for i in li:\n",
    "    if i <3:\n",
    "        li1.append(i)\n",
    "li1"
   ]
  },
  {
   "cell_type": "code",
   "execution_count": 68,
   "id": "b3fbd826-52f3-4373-a7a3-57a9a9529af2",
   "metadata": {},
   "outputs": [
    {
     "data": {
      "text/plain": [
       "[1, 2]"
      ]
     },
     "execution_count": 68,
     "metadata": {},
     "output_type": "execute_result"
    }
   ],
   "source": [
    "[i for i in li if i < 3]"
   ]
  },
  {
   "cell_type": "code",
   "execution_count": 69,
   "id": "831b8c90-3af3-4888-927a-973f3a94b271",
   "metadata": {},
   "outputs": [
    {
     "data": {
      "text/plain": [
       "[1, 2]"
      ]
     },
     "execution_count": 69,
     "metadata": {},
     "output_type": "execute_result"
    }
   ],
   "source": [
    "list(filter(lambda x: x < 3, li))"
   ]
  },
  {
   "cell_type": "code",
   "execution_count": 70,
   "id": "a4e68b22-5fe6-400d-bce2-de48413cbfde",
   "metadata": {},
   "outputs": [],
   "source": [
    "def under_3(x):\n",
    "    return x < 3"
   ]
  },
  {
   "cell_type": "code",
   "execution_count": 71,
   "id": "255246c6-d746-4187-a71c-41c3f0cd9006",
   "metadata": {},
   "outputs": [
    {
     "data": {
      "text/plain": [
       "True"
      ]
     },
     "execution_count": 71,
     "metadata": {},
     "output_type": "execute_result"
    }
   ],
   "source": [
    "under_3(2)"
   ]
  },
  {
   "cell_type": "code",
   "execution_count": 72,
   "id": "f3b06213-5b73-4621-bdbf-0a7e2c4885d3",
   "metadata": {},
   "outputs": [
    {
     "data": {
      "text/plain": [
       "[1, 2]"
      ]
     },
     "execution_count": 72,
     "metadata": {},
     "output_type": "execute_result"
    }
   ],
   "source": [
    "list(filter(under_3,li))"
   ]
  },
  {
   "cell_type": "code",
   "execution_count": 73,
   "id": "0c466691-bff2-458f-a493-5851ecbf82ed",
   "metadata": {},
   "outputs": [],
   "source": [
    "def under_3(x):\n",
    "    return x < 3"
   ]
  },
  {
   "cell_type": "code",
   "execution_count": 74,
   "id": "7e999cb3-6974-4dda-8853-b14c39d8e2dc",
   "metadata": {},
   "outputs": [
    {
     "data": {
      "text/plain": [
       "[1, 2]"
      ]
     },
     "execution_count": 74,
     "metadata": {},
     "output_type": "execute_result"
    }
   ],
   "source": [
    "list(filter(under_3,li))"
   ]
  },
  {
   "cell_type": "code",
   "execution_count": 76,
   "id": "6fe9f1af-cdb7-40d7-aac0-18ec88937a05",
   "metadata": {},
   "outputs": [],
   "source": [
    "# file 함수 있다는 것만 알아두고 나중에 아무거나 열어보자"
   ]
  },
  {
   "cell_type": "code",
   "execution_count": 77,
   "id": "f9b44e5f-63eb-440b-be2f-a4602e4876cb",
   "metadata": {},
   "outputs": [],
   "source": [
    "# with 구문도 나주에 한번 그냥 보자"
   ]
  },
  {
   "cell_type": "code",
   "execution_count": 78,
   "id": "58ad3d04-2a6f-4542-8bf9-3626ff4f77f8",
   "metadata": {},
   "outputs": [],
   "source": [
    "# csv쪽은 걍 필요없다네요"
   ]
  },
  {
   "cell_type": "code",
   "execution_count": 79,
   "id": "c91877d9-15ae-41ed-b82a-0970cd0ca8b2",
   "metadata": {},
   "outputs": [],
   "source": [
    "# 퇴근하고 운동 가야지 ? "
   ]
  },
  {
   "cell_type": "code",
   "execution_count": 83,
   "id": "619989ca-e1ba-4001-ae03-5d61140ade03",
   "metadata": {},
   "outputs": [
    {
     "data": {
      "text/plain": [
       "'a====b====c'"
      ]
     },
     "execution_count": 83,
     "metadata": {},
     "output_type": "execute_result"
    }
   ],
   "source": [
    "nmber = [1,2,3,4,5,6]\n",
    "'===='.join(['a','b','c'])"
   ]
  },
  {
   "cell_type": "code",
   "execution_count": 84,
   "id": "17b0f321-e9ac-4734-b19d-86eca9517356",
   "metadata": {},
   "outputs": [],
   "source": [
    "number = [1,2,3,4,5,6]"
   ]
  },
  {
   "cell_type": "code",
   "execution_count": 85,
   "id": "afb93d16-7acb-4a49-aada-39199402e58b",
   "metadata": {},
   "outputs": [
    {
     "name": "stdout",
     "output_type": "stream",
     "text": [
      "1::2::3::4::5::6\n"
     ]
    }
   ],
   "source": [
    "print('::'.join([str(i) for i in number]))"
   ]
  },
  {
   "cell_type": "code",
   "execution_count": 89,
   "id": "afe28d1d-0c8f-4434-b2c6-219997cf25c0",
   "metadata": {},
   "outputs": [],
   "source": [
    "def int_str(x):\n",
    "    return str(x)"
   ]
  },
  {
   "cell_type": "code",
   "execution_count": 91,
   "id": "f7faf4ce-564f-4302-9bab-8902fb26e7db",
   "metadata": {},
   "outputs": [
    {
     "data": {
      "text/plain": [
       "['1', '2', '3', '4', '5', '6']"
      ]
     },
     "execution_count": 91,
     "metadata": {},
     "output_type": "execute_result"
    }
   ],
   "source": [
    "list(map(lambda x: str(x),number))"
   ]
  },
  {
   "cell_type": "code",
   "execution_count": 92,
   "id": "1da679cc-3922-4eb3-bb00-8fe1501dcaeb",
   "metadata": {},
   "outputs": [
    {
     "name": "stdout",
     "output_type": "stream",
     "text": [
      "1::2::3::4::5::6\n"
     ]
    }
   ],
   "source": [
    "print('::'.join([str(i) for i in number]))"
   ]
  },
  {
   "cell_type": "code",
   "execution_count": 93,
   "id": "e3194ec1-e4f7-4c4f-bf42-263bfe04db8c",
   "metadata": {},
   "outputs": [
    {
     "data": {
      "text/plain": [
       "[1, 2, 3, 4, 5, 6, 7, 8, 9, 10]"
      ]
     },
     "execution_count": 93,
     "metadata": {},
     "output_type": "execute_result"
    }
   ],
   "source": [
    "numbers = list(range(1,11))\n",
    "numbers"
   ]
  },
  {
   "cell_type": "code",
   "execution_count": 95,
   "id": "75731f32-5fe6-46c7-8f7c-ee1c655f01fc",
   "metadata": {},
   "outputs": [
    {
     "data": {
      "text/plain": [
       "[1, 3, 5, 7, 9]"
      ]
     },
     "execution_count": 95,
     "metadata": {},
     "output_type": "execute_result"
    }
   ],
   "source": [
    "list(filter(lambda x: x % 2 == 1,numbers))"
   ]
  },
  {
   "cell_type": "code",
   "execution_count": 96,
   "id": "8ee4dc85-3dee-4737-b461-21d6cad27c45",
   "metadata": {},
   "outputs": [
    {
     "data": {
      "text/plain": [
       "[1, 3, 5, 7, 9]"
      ]
     },
     "execution_count": 96,
     "metadata": {},
     "output_type": "execute_result"
    }
   ],
   "source": [
    "list(filter(lambda x: x % 2 == 1,numbers))"
   ]
  },
  {
   "cell_type": "code",
   "execution_count": 118,
   "id": "32d4242c-fa26-40e8-ba7f-b78867abce5b",
   "metadata": {},
   "outputs": [
    {
     "data": {
      "text/plain": [
       "[1, 4, 9, 16, 25, 36, 49]"
      ]
     },
     "execution_count": 118,
     "metadata": {},
     "output_type": "execute_result"
    }
   ],
   "source": [
    "list(map(lambda x: x**2,\n",
    "         filter(lambda x: x**2 < 50, numbers)))"
   ]
  },
  {
   "cell_type": "code",
   "execution_count": null,
   "id": "b73c2b23-2593-4c92-a0d4-6bc571c9d959",
   "metadata": {},
   "outputs": [],
   "source": [
    "# 오류의 종류 근데 왜 오류가 안 날까? "
   ]
  },
  {
   "cell_type": "code",
   "execution_count": 116,
   "id": "99d8bdc2-13b6-4e3e-8998-0b7a5276949f",
   "metadata": {},
   "outputs": [],
   "source": [
    "li = []\n",
    "for i in li:\n",
    "    print(li)"
   ]
  },
  {
   "cell_type": "code",
   "execution_count": 117,
   "id": "c56e6121-1788-4788-a059-1d32a8f84a4a",
   "metadata": {},
   "outputs": [],
   "source": [
    "z = 4\n",
    "def add(x,y):\n",
    "    global z\n",
    "    return x+y"
   ]
  },
  {
   "cell_type": "code",
   "execution_count": 110,
   "id": "627f14ed-f593-4d53-9b6e-05699b4e6fde",
   "metadata": {},
   "outputs": [
    {
     "data": {
      "text/plain": [
       "7"
      ]
     },
     "execution_count": 110,
     "metadata": {},
     "output_type": "execute_result"
    }
   ],
   "source": [
    "add(3,4)"
   ]
  },
  {
   "cell_type": "code",
   "execution_count": 121,
   "id": "903f0196-269e-4963-8a8b-638b91bf6c97",
   "metadata": {},
   "outputs": [],
   "source": [
    "li = [1,2,3,4,'5',6]\n",
    "def square(x):\n",
    "    result = []\n",
    "    j = 1\n",
    "    for i in x:\n",
    "        result.append(i**2)\n",
    "        print(j)\n",
    "        j += 1\n",
    "    return result"
   ]
  },
  {
   "cell_type": "code",
   "execution_count": 122,
   "id": "b632fd52-bbce-449c-8da5-dd37477bf4fa",
   "metadata": {},
   "outputs": [],
   "source": [
    "def square(x):\n",
    "    result = []\n",
    "    for i in x:\n",
    "        try:\n",
    "            result.append(i**2)\n",
    "        except:\n",
    "            pass\n",
    "    return result\n",
    "\n",
    "# 에러가 나도 그냥 에러난걸 뱉어내지 말고 그냥 실행을 시킨 구문 "
   ]
  },
  {
   "cell_type": "code",
   "execution_count": 123,
   "id": "1c1b0376-e26e-47f1-a410-5eeafeea03ec",
   "metadata": {},
   "outputs": [],
   "source": [
    "# we go high yeah yeah "
   ]
  },
  {
   "cell_type": "code",
   "execution_count": 125,
   "id": "3e0a0fe7-b904-46c2-af3b-56fbaef700cb",
   "metadata": {},
   "outputs": [
    {
     "data": {
      "text/plain": [
       "[1, 4, 9, 16, 36]"
      ]
     },
     "execution_count": 125,
     "metadata": {},
     "output_type": "execute_result"
    }
   ],
   "source": [
    "square(li)"
   ]
  },
  {
   "cell_type": "code",
   "execution_count": 129,
   "id": "50d0478f-ee9c-465a-a62a-bfa72538d4fc",
   "metadata": {},
   "outputs": [],
   "source": [
    "def square(x):\n",
    "    result = []\n",
    "    for i in x:\n",
    "        try:\n",
    "            result.append(i**2)\n",
    "        except:\n",
    "            result.append(i)\n",
    "    return result\n",
    "# 에러뜨면 excpect 처리를 해버리고 값을 내버린 구문\n",
    "# 솔직히 뭔소리인지는 잘 모르겠다. "
   ]
  },
  {
   "cell_type": "code",
   "execution_count": 130,
   "id": "1ce5934b-2a18-49de-a108-9bb89c5d3f0c",
   "metadata": {},
   "outputs": [
    {
     "data": {
      "text/plain": [
       "[1, 4, 9, 16, '5', 36]"
      ]
     },
     "execution_count": 130,
     "metadata": {},
     "output_type": "execute_result"
    }
   ],
   "source": [
    "square(li)"
   ]
  },
  {
   "cell_type": "code",
   "execution_count": 131,
   "id": "d76b372f-2965-4a05-9865-bf2573a7af7a",
   "metadata": {},
   "outputs": [],
   "source": [
    "li = ['52','273','32','스파이','103']"
   ]
  },
  {
   "cell_type": "code",
   "execution_count": 134,
   "id": "accb401b-60ce-411b-8cb6-4ca24ddfb623",
   "metadata": {},
   "outputs": [],
   "source": [
    "def str_float(x):\n",
    "    result = []\n",
    "    for i in x:\n",
    "        if i.isdigit():\n",
    "            i = float(i)\n",
    "            result.append(i)\n",
    "    return result\n",
    "# 에러뜨면 excpect 처리를 해버리고 값을 내버린 구문\n",
    "# 솔직히 뭔소리인지는 잘 모르겠다. "
   ]
  },
  {
   "cell_type": "code",
   "execution_count": 136,
   "id": "85f6488c-4c56-4edd-a0ca-0b554c20b3d7",
   "metadata": {},
   "outputs": [],
   "source": [
    "def str_float(x):\n",
    "    result = []\n",
    "    for i in x:\n",
    "        try:\n",
    "            i = float(i)\n",
    "            result.append(i)\n",
    "        except:\n",
    "            pass\n",
    "    return result\n",
    "# 에러뜨면 excpect 처리를 해버리고 값을 내버린 구문\n",
    "# 솔직히 뭔소리인지는 잘 모르겠다. "
   ]
  },
  {
   "cell_type": "code",
   "execution_count": 137,
   "id": "50f6c34a-dabb-4deb-90d1-d051dc8b6922",
   "metadata": {},
   "outputs": [
    {
     "data": {
      "text/plain": [
       "[52.0, 273.0, 32.0, 103.0]"
      ]
     },
     "execution_count": 137,
     "metadata": {},
     "output_type": "execute_result"
    }
   ],
   "source": [
    "str_float(li)"
   ]
  },
  {
   "cell_type": "code",
   "execution_count": 140,
   "id": "d2a96ed3-0f68-41bb-9527-6cc5bfd3adaf",
   "metadata": {},
   "outputs": [
    {
     "name": "stdin",
     "output_type": "stream",
     "text": [
      "정수를 입력하세요 yuuni\n"
     ]
    },
    {
     "name": "stdout",
     "output_type": "stream",
     "text": [
      "정수가 아닙니다\n"
     ]
    }
   ],
   "source": [
    "x = input(\"정수를 입력하세요\")\n",
    "try:\n",
    "    x = int(x)\n",
    "    print(f'원의 둘레는 {x*2*3.14}입니다.')\n",
    "except:\n",
    "    print('정수가 아닙니다')"
   ]
  },
  {
   "cell_type": "code",
   "execution_count": 142,
   "id": "9c61878f-0175-46fa-afc1-6cf40acfcb02",
   "metadata": {},
   "outputs": [
    {
     "name": "stdin",
     "output_type": "stream",
     "text": [
      "정수를 입력하세요 yuuni\n"
     ]
    },
    {
     "name": "stdout",
     "output_type": "stream",
     "text": [
      "정수가 아닙니다\n"
     ]
    }
   ],
   "source": [
    "x = input(\"정수를 입력하세요\")\n",
    "try:\n",
    "    x = int(x)\n",
    "except:\n",
    "    print('정수가 아닙니다')\n",
    "else:\n",
    "    print(f'원의 둘레느 {2*x*3.14} 입니다')"
   ]
  },
  {
   "cell_type": "code",
   "execution_count": 144,
   "id": "d0d7ff00-cf3c-4182-a179-fdf15c6499a6",
   "metadata": {},
   "outputs": [
    {
     "name": "stdin",
     "output_type": "stream",
     "text": [
      "정수를 입력하세요 yunni\n"
     ]
    },
    {
     "name": "stdout",
     "output_type": "stream",
     "text": [
      "정수가 아닙니다\n",
      "유니 비질게.\n"
     ]
    }
   ],
   "source": [
    "x = input('정수를 입력하세요')\n",
    "try:\n",
    "    x = int(x)\n",
    "except:\n",
    "    print('정수가 아닙니다')\n",
    "else:\n",
    "    print(f'원의 둘레느 {2*x*3.14} 입니다')\n",
    "finally:\n",
    "    print('유니 비질게.')"
   ]
  },
  {
   "cell_type": "code",
   "execution_count": 164,
   "id": "0937190f-7aee-4706-9ab1-4c275b81b04d",
   "metadata": {},
   "outputs": [],
   "source": [
    "number = [52,273,32,103,90,10,275]"
   ]
  },
  {
   "cell_type": "code",
   "execution_count": 165,
   "id": "9e46deba-3f4f-49b5-a6bd-bfd631bb015e",
   "metadata": {},
   "outputs": [],
   "source": [
    "try:\n",
    "    x = numbers.index(100)\n",
    "except:\n",
    "    x = None"
   ]
  },
  {
   "cell_type": "code",
   "execution_count": 166,
   "id": "d6514e1c-7055-410a-ab72-2eed91e448b8",
   "metadata": {},
   "outputs": [],
   "source": [
    "type(x)"
   ]
  },
  {
   "cell_type": "code",
   "execution_count": 172,
   "id": "c2dc823f-87da-4c53-882f-2bd65758ff29",
   "metadata": {},
   "outputs": [
    {
     "name": "stdout",
     "output_type": "stream",
     "text": [
      "위치에 없습니다\n",
      "정상적으로 종료되었습니다.\n"
     ]
    }
   ],
   "source": [
    "number = 52\n",
    "try:\n",
    "    print(f'{number}는 {number.index(number)} 위치에 있습니다')\n",
    "except:\n",
    "    print('위치에 없습니다')\n",
    "finally:\n",
    "    print('정상적으로 종료되었습니다.')\n",
    "# 앞이랑 좀 꼬여서 뭘 넣어도 안 뜸 근데 구문은 다 맞음"
   ]
  },
  {
   "cell_type": "code",
   "execution_count": 173,
   "id": "86a3fd81-4b89-4c61-9f25-17dc3ab961e7",
   "metadata": {},
   "outputs": [
    {
     "ename": "ValueError",
     "evalue": "invalid literal for int() with base 10: 'd'",
     "output_type": "error",
     "traceback": [
      "\u001b[1;31m---------------------------------------------------------------------------\u001b[0m",
      "\u001b[1;31mValueError\u001b[0m                                Traceback (most recent call last)",
      "\u001b[1;32m~\\AppData\\Local\\Temp\\ipykernel_21584\\2890804116.py\u001b[0m in \u001b[0;36m<module>\u001b[1;34m\u001b[0m\n\u001b[1;32m----> 1\u001b[1;33m \u001b[0mint\u001b[0m\u001b[1;33m(\u001b[0m\u001b[1;34m'd'\u001b[0m\u001b[1;33m)\u001b[0m\u001b[1;33m\u001b[0m\u001b[1;33m\u001b[0m\u001b[0m\n\u001b[0m",
      "\u001b[1;31mValueError\u001b[0m: invalid literal for int() with base 10: 'd'"
     ]
    }
   ],
   "source": [
    "int('d')"
   ]
  },
  {
   "cell_type": "code",
   "execution_count": 174,
   "id": "cbe6ab5a-5349-4771-a697-aba32c3c84f3",
   "metadata": {},
   "outputs": [
    {
     "name": "stdin",
     "output_type": "stream",
     "text": [
      "정수를 입력하세요 3\n"
     ]
    },
    {
     "name": "stdout",
     "output_type": "stream",
     "text": [
      "3\n"
     ]
    }
   ],
   "source": [
    "x = input('정수를 입력하세요')\n",
    "try:\n",
    "    x = int(x)\n",
    "except ValueError:\n",
    "    x = 1\n",
    "finally:\n",
    "    print(x)"
   ]
  },
  {
   "cell_type": "code",
   "execution_count": 175,
   "id": "7b745520-9fd5-4e68-bb83-5b6bb7efaf8b",
   "metadata": {},
   "outputs": [
    {
     "name": "stdin",
     "output_type": "stream",
     "text": [
      "정수를 입력하세요 three\n"
     ]
    },
    {
     "name": "stdout",
     "output_type": "stream",
     "text": [
      "three\n"
     ]
    },
    {
     "ename": "ValueError",
     "evalue": "invalid literal for int() with base 10: 'three'",
     "output_type": "error",
     "traceback": [
      "\u001b[1;31m---------------------------------------------------------------------------\u001b[0m",
      "\u001b[1;31mValueError\u001b[0m                                Traceback (most recent call last)",
      "\u001b[1;32m~\\AppData\\Local\\Temp\\ipykernel_21584\\4117414362.py\u001b[0m in \u001b[0;36m<module>\u001b[1;34m\u001b[0m\n\u001b[0;32m      1\u001b[0m \u001b[0mx\u001b[0m \u001b[1;33m=\u001b[0m \u001b[0minput\u001b[0m\u001b[1;33m(\u001b[0m\u001b[1;34m'정수를 입력하세요'\u001b[0m\u001b[1;33m)\u001b[0m\u001b[1;33m\u001b[0m\u001b[1;33m\u001b[0m\u001b[0m\n\u001b[0;32m      2\u001b[0m \u001b[1;32mtry\u001b[0m\u001b[1;33m:\u001b[0m\u001b[1;33m\u001b[0m\u001b[1;33m\u001b[0m\u001b[0m\n\u001b[1;32m----> 3\u001b[1;33m     \u001b[0mx\u001b[0m \u001b[1;33m=\u001b[0m \u001b[0mint\u001b[0m\u001b[1;33m(\u001b[0m\u001b[0mx\u001b[0m\u001b[1;33m)\u001b[0m\u001b[1;33m\u001b[0m\u001b[1;33m\u001b[0m\u001b[0m\n\u001b[0m\u001b[0;32m      4\u001b[0m \u001b[1;32mexcept\u001b[0m \u001b[0mTypeError\u001b[0m\u001b[1;33m:\u001b[0m\u001b[1;33m\u001b[0m\u001b[1;33m\u001b[0m\u001b[0m\n\u001b[0;32m      5\u001b[0m     \u001b[0mx\u001b[0m \u001b[1;33m=\u001b[0m \u001b[1;36m1\u001b[0m\u001b[1;33m\u001b[0m\u001b[1;33m\u001b[0m\u001b[0m\n",
      "\u001b[1;31mValueError\u001b[0m: invalid literal for int() with base 10: 'three'"
     ]
    }
   ],
   "source": [
    "x = input('정수를 입력하세요')\n",
    "try:\n",
    "    x = int(x)\n",
    "except TypeError:\n",
    "    x = 1\n",
    "finally:\n",
    "    print(x)\n",
    "# 에러 확인용"
   ]
  },
  {
   "cell_type": "code",
   "execution_count": 176,
   "id": "27a528af-ec55-42a6-b076-e3e517f67353",
   "metadata": {},
   "outputs": [
    {
     "name": "stdin",
     "output_type": "stream",
     "text": [
      "정수를 입력하세요 three\n"
     ]
    },
    {
     "name": "stdout",
     "output_type": "stream",
     "text": [
      "2\n"
     ]
    }
   ],
   "source": [
    "x = input('정수를 입력하세요')\n",
    "try:\n",
    "    x = int(x)\n",
    "except TypeError:\n",
    "    x = 1\n",
    "except ValueError:\n",
    "    x = 2\n",
    "finally:\n",
    "    print(x)"
   ]
  },
  {
   "cell_type": "code",
   "execution_count": 178,
   "id": "1dde0b68-40d7-459e-96f9-6643b60283f1",
   "metadata": {},
   "outputs": [],
   "source": [
    "li = [1,2,3]\n",
    "def check_index(value,ind):\n",
    "    try:\n",
    "        result = value[ind]\n",
    "    except IndexError:\n",
    "        return f'해당인덱스가 없습니다.{len(value)-1} 최대 인덱스 입니다'\n",
    "    except TypeError:\n",
    "        return f'{type(ind)} 형태이며 정수를 입력해야 됩니다.'\n",
    "    return result"
   ]
  },
  {
   "cell_type": "code",
   "execution_count": 181,
   "id": "1ee6ec6b-a615-4e0e-9f43-65cccbbc5da7",
   "metadata": {},
   "outputs": [
    {
     "data": {
      "text/plain": [
       "'해당인덱스가 없습니다.2 최대 인덱스 입니다'"
      ]
     },
     "execution_count": 181,
     "metadata": {},
     "output_type": "execute_result"
    }
   ],
   "source": [
    "check_index(li,3)"
   ]
  },
  {
   "cell_type": "code",
   "execution_count": 182,
   "id": "870d1a61-36cd-42db-a8b0-e5d2561751cd",
   "metadata": {},
   "outputs": [],
   "source": [
    "# 음 솔직히 모르겠으니 나중에 좀 보죠"
   ]
  },
  {
   "cell_type": "code",
   "execution_count": 183,
   "id": "845293ca-ef0a-495e-814f-872fdd8c9a5e",
   "metadata": {},
   "outputs": [
    {
     "data": {
      "text/plain": [
       "'.'"
      ]
     },
     "execution_count": 183,
     "metadata": {},
     "output_type": "execute_result"
    }
   ],
   "source": [
    "# 모듈\n",
    "import os\n",
    "os.curdir\n",
    "# os 모듈은 절대경로 상대경로가 있는데 이건 헷갈리니 잘 보자 근데 시발 안 헷갈리는게 없는데 어쩌죠?"
   ]
  },
  {
   "cell_type": "code",
   "execution_count": 184,
   "id": "739f248d-bc8f-466f-967e-5cea0ae595ae",
   "metadata": {},
   "outputs": [
    {
     "data": {
      "text/plain": [
       "'C:\\\\Users\\\\bjlov'"
      ]
     },
     "execution_count": 184,
     "metadata": {},
     "output_type": "execute_result"
    }
   ],
   "source": [
    "os.getcwd()"
   ]
  },
  {
   "cell_type": "code",
   "execution_count": 189,
   "id": "61a6bb7e-8e0f-4b07-8c62-be593c5aa6a2",
   "metadata": {},
   "outputs": [],
   "source": [
    "# dir(os)"
   ]
  },
  {
   "cell_type": "code",
   "execution_count": 193,
   "id": "43c5f580-39f3-46d9-b3d9-5841db7db8b0",
   "metadata": {},
   "outputs": [],
   "source": [
    "os.mkdir('kanna')"
   ]
  },
  {
   "cell_type": "code",
   "execution_count": 195,
   "id": "3e92f3f9-6c94-44f5-8af2-978c0dca382f",
   "metadata": {},
   "outputs": [],
   "source": [
    "os.chdir('./kanna')"
   ]
  },
  {
   "cell_type": "code",
   "execution_count": 197,
   "id": "707cd6eb-7b57-486e-9bca-e9c0a68aea92",
   "metadata": {},
   "outputs": [
    {
     "data": {
      "text/plain": [
       "'C:\\\\Users\\\\bjlov\\\\kanna'"
      ]
     },
     "execution_count": 197,
     "metadata": {},
     "output_type": "execute_result"
    }
   ],
   "source": [
    "os.getcwd()"
   ]
  },
  {
   "cell_type": "code",
   "execution_count": 198,
   "id": "337d1621-bf7d-4562-8fd3-f9f639e5c63c",
   "metadata": {},
   "outputs": [],
   "source": [
    "from glob import glob"
   ]
  },
  {
   "cell_type": "code",
   "execution_count": 200,
   "id": "27a0ea70-2612-481e-8e67-94766591ff15",
   "metadata": {},
   "outputs": [],
   "source": [
    "file_list = glob('*.*')\n",
    "# 모든 것 = ('*.*')"
   ]
  },
  {
   "cell_type": "code",
   "execution_count": 201,
   "id": "a48770b0-6f31-43a1-9d5a-957674e2eea3",
   "metadata": {},
   "outputs": [],
   "source": [
    "os.chdir('../')"
   ]
  },
  {
   "cell_type": "code",
   "execution_count": 202,
   "id": "d05fbdf9-0a30-4964-b3d8-e9913d273d95",
   "metadata": {},
   "outputs": [
    {
     "data": {
      "text/plain": [
       "'C:\\\\Users\\\\bjlov'"
      ]
     },
     "execution_count": 202,
     "metadata": {},
     "output_type": "execute_result"
    }
   ],
   "source": [
    "os.getcwd()"
   ]
  },
  {
   "cell_type": "code",
   "execution_count": 203,
   "id": "cc228af0-4bf8-4793-a74b-3530ba35f0f4",
   "metadata": {},
   "outputs": [],
   "source": [
    "file_list = glob('*.*')"
   ]
  },
  {
   "cell_type": "code",
   "execution_count": 204,
   "id": "19c8c288-4bf2-443f-836e-ae86a79eb102",
   "metadata": {},
   "outputs": [
    {
     "data": {
      "text/plain": [
       "['Cisco Packet Tracer 6.2iv',\n",
       " 'Cisco Packet Tracer 7.2.1',\n",
       " 'jupyter_notebook_config.py',\n",
       " 'KCase.log',\n",
       " 'NTUSER.DAT',\n",
       " 'ntuser.dat.LOG1',\n",
       " 'ntuser.dat.LOG2',\n",
       " 'NTUSER.DAT{9d3f68d3-6a45-11ec-8520-005056c00001}.TM.blf',\n",
       " 'NTUSER.DAT{9d3f68d3-6a45-11ec-8520-005056c00001}.TMContainer00000000000000000001.regtrans-ms',\n",
       " 'NTUSER.DAT{9d3f68d3-6a45-11ec-8520-005056c00001}.TMContainer00000000000000000002.regtrans-ms',\n",
       " 'ntuser.ini',\n",
       " 'Untitled.ipynb',\n",
       " 'untitled.py',\n",
       " 'Untitled1.ipynb',\n",
       " 'Untitled24.ipynb',\n",
       " '파이썬 1.ipynb',\n",
       " '파이썬 3.ipynb',\n",
       " '파이썬2.ipynb',\n",
       " '파이썬3.1.ipynb',\n",
       " '파이썬4.ipynb']"
      ]
     },
     "execution_count": 204,
     "metadata": {},
     "output_type": "execute_result"
    }
   ],
   "source": [
    "file_list"
   ]
  },
  {
   "cell_type": "code",
   "execution_count": 205,
   "id": "06bcc393-eee5-4abb-ba2e-07158a3355bc",
   "metadata": {},
   "outputs": [
    {
     "data": {
      "text/plain": [
       "<module 'ntpath' from 'C:\\\\Users\\\\bjlov\\\\anaconda3\\\\lib\\\\ntpath.py'>"
      ]
     },
     "execution_count": 205,
     "metadata": {},
     "output_type": "execute_result"
    }
   ],
   "source": [
    "os.path"
   ]
  },
  {
   "cell_type": "code",
   "execution_count": 206,
   "id": "ebc91532-723b-4c47-954f-69b04ab7af42",
   "metadata": {},
   "outputs": [],
   "source": [
    "# 모듈 ?"
   ]
  },
  {
   "cell_type": "code",
   "execution_count": 208,
   "id": "e73f6311-ab13-4f56-a643-2f11ea81debf",
   "metadata": {},
   "outputs": [],
   "source": [
    "import tri"
   ]
  },
  {
   "cell_type": "code",
   "execution_count": 209,
   "id": "b40dcd45-9d5a-422c-9f2e-62a95e9a902c",
   "metadata": {},
   "outputs": [
    {
     "data": {
      "text/plain": [
       "27"
      ]
     },
     "execution_count": 209,
     "metadata": {},
     "output_type": "execute_result"
    }
   ],
   "source": [
    "tri.tri_square(3)"
   ]
  },
  {
   "cell_type": "code",
   "execution_count": 210,
   "id": "59c39786-195d-4c64-9f69-5a74a72b2684",
   "metadata": {},
   "outputs": [
    {
     "data": {
      "text/plain": [
       "['__builtins__',\n",
       " '__cached__',\n",
       " '__doc__',\n",
       " '__file__',\n",
       " '__loader__',\n",
       " '__name__',\n",
       " '__package__',\n",
       " '__spec__',\n",
       " 'tri_square']"
      ]
     },
     "execution_count": 210,
     "metadata": {},
     "output_type": "execute_result"
    }
   ],
   "source": [
    "dir(tri)"
   ]
  },
  {
   "cell_type": "code",
   "execution_count": 211,
   "id": "f826e463-0efc-4dc2-8a82-fd983cf1ca4f",
   "metadata": {},
   "outputs": [
    {
     "data": {
      "text/plain": [
       "<module 'ntpath' from 'C:\\\\Users\\\\bjlov\\\\anaconda3\\\\lib\\\\ntpath.py'>"
      ]
     },
     "execution_count": 211,
     "metadata": {},
     "output_type": "execute_result"
    }
   ],
   "source": [
    "os.path"
   ]
  },
  {
   "cell_type": "code",
   "execution_count": 223,
   "id": "e7037929-25bf-42d3-8c94-42a0d1826f57",
   "metadata": {},
   "outputs": [
    {
     "name": "stdout",
     "output_type": "stream",
     "text": [
      "27\n",
      "27\n",
      "27\n"
     ]
    }
   ],
   "source": [
    "import tri\n",
    "print(tri.tri_square(3))\n",
    "\n",
    "from tri import tri_square\n",
    "print(tri_square(3))\n",
    "\n",
    "from tri import tri_square as tr\n",
    "print(tr(3))"
   ]
  },
  {
   "cell_type": "code",
   "execution_count": null,
   "id": "72a20625-c872-42f5-acc1-d5de8641d5b1",
   "metadata": {},
   "outputs": [],
   "source": []
  }
 ],
 "metadata": {
  "kernelspec": {
   "display_name": "yuuni",
   "language": "python",
   "name": "yuuni"
  },
  "language_info": {
   "codemirror_mode": {
    "name": "ipython",
    "version": 3
   },
   "file_extension": ".py",
   "mimetype": "text/x-python",
   "name": "python",
   "nbconvert_exporter": "python",
   "pygments_lexer": "ipython3",
   "version": "3.9.13"
  }
 },
 "nbformat": 4,
 "nbformat_minor": 5
}
