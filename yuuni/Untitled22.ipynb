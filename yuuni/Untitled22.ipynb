{
 "cells": [
  {
   "cell_type": "markdown",
   "id": "268cc688-20fb-47f2-936e-c814158ae0f8",
   "metadata": {},
   "source": [
    "# 오늘 롯데 이겼나요 ?\n"
   ]
  },
  {
   "cell_type": "code",
   "execution_count": null,
   "id": "c0a56956-d23f-4e53-8314-b322ed2c183b",
   "metadata": {},
   "outputs": [],
   "source": [
    "import pandas as pd\n",
    "from flask import Flask, request, render_template\n",
    "\n",
    "app = Flask(__name__)\n",
    "\n",
    "# 엑셀 파일에서 데이터 읽어오기\n",
    "import pandas as pd\n",
    "\n",
    "# 엑셀 파일에서 데이터 읽어오기\n",
    "df = pd.read_excel('C:/Users/bjlov/네이버웹툰_연재_요일연재.xlsx', engine='openpyxl')\n",
    "\n",
    "# Flask 애플리케이션 라우트 등록\n",
    "@app.route('C:\\craw')\n",
    "def index():\n",
    "    # HTML 템플릿 렌더링\n",
    "    return render_template('index.html', tables=[df.to_html(classes='data')], titles=df.columns.values)\n",
    "\n",
    "    # 데이터에서 검색어가 포함된 행을 찾아내기\n",
    "    rows = df.apply(lambda row: row.astype(str).str.contains(keyword).any(), axis=1)\n",
    "    result = df.loc[rows]\n",
    "\n",
    "    # 검색 결과를 HTML 테이블로 변환\n",
    "    html_table = result.to_html(index=False)\n",
    "\n",
    "    return render_template('search.html', keyword=keyword, table=html_table)\n",
    "\n",
    "if __name__ == '__main__':\n",
    "    app.run()\n"
   ]
  },
  {
   "cell_type": "code",
   "execution_count": null,
   "id": "8c6ef990-1c16-49f3-9f09-7fd5345c00a1",
   "metadata": {},
   "outputs": [],
   "source": []
  }
 ],
 "metadata": {
  "kernelspec": {
   "display_name": "yuuni",
   "language": "python",
   "name": "yuuni"
  },
  "language_info": {
   "codemirror_mode": {
    "name": "ipython",
    "version": 3
   },
   "file_extension": ".py",
   "mimetype": "text/x-python",
   "name": "python",
   "nbconvert_exporter": "python",
   "pygments_lexer": "ipython3",
   "version": "3.9.13"
  }
 },
 "nbformat": 4,
 "nbformat_minor": 5
}
