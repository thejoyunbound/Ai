{
 "cells": [
  {
   "cell_type": "markdown",
   "id": "62d518cb-8cd6-46fa-a2fc-78fe02143191",
   "metadata": {},
   "source": [
    "## 형태소 분석기"
   ]
  },
  {
   "cell_type": "code",
   "execution_count": 80,
   "id": "b343f141-33f2-4f11-9cca-b3d9c4f33a2a",
   "metadata": {},
   "outputs": [],
   "source": [
    "from konlpy.tag import Okt, Kkma, Komoran"
   ]
  },
  {
   "cell_type": "code",
   "execution_count": 81,
   "id": "e3d4685c-829d-4117-9d0b-faa6b9df5f07",
   "metadata": {},
   "outputs": [],
   "source": [
    "# 형태소 분석기\n",
    "okt = Okt()\n",
    "Kkma = Kkma()\n",
    "Komoran = Komoran()"
   ]
  },
  {
   "cell_type": "code",
   "execution_count": 82,
   "id": "2d8da024-dfe7-42e2-9dfb-d85d079a83f9",
   "metadata": {},
   "outputs": [],
   "source": [
    "import numpy as np\n",
    "import pandas as pd\n",
    "from tensorflow.keras.utils import pad_sequences, to_categorical "
   ]
  },
  {
   "cell_type": "code",
   "execution_count": 83,
   "id": "7e555c65-d4e1-4034-9141-313197d7c862",
   "metadata": {},
   "outputs": [],
   "source": [
    "df = pd.read_csv('kedi.csv',encoding='cp949')"
   ]
  },
  {
   "cell_type": "code",
   "execution_count": 84,
   "id": "9dba1185-dabd-4315-b15d-c3daa4866232",
   "metadata": {},
   "outputs": [],
   "source": [
    "X = df.프로그램명\n",
    "y = df.소분류"
   ]
  },
  {
   "cell_type": "code",
   "execution_count": 85,
   "id": "dadeb507-29d8-4e7f-bb7c-a3375bb1a74d",
   "metadata": {},
   "outputs": [],
   "source": [
    "x = X[0]"
   ]
  },
  {
   "cell_type": "code",
   "execution_count": 86,
   "id": "2290673a-03c6-4516-b647-81e09050ecaf",
   "metadata": {},
   "outputs": [
    {
     "data": {
      "text/plain": [
       "['명중', '명', '한글맞춤법']"
      ]
     },
     "execution_count": 86,
     "metadata": {},
     "output_type": "execute_result"
    }
   ],
   "source": [
    "okt.nouns(x)"
   ]
  },
  {
   "cell_type": "code",
   "execution_count": 66,
   "id": "c10d0de1-98fd-49e6-b669-a9c1d64aa657",
   "metadata": {},
   "outputs": [
    {
     "data": {
      "text/plain": [
       "['명', '중', '명', '한글', '맞춤법']"
      ]
     },
     "execution_count": 66,
     "metadata": {},
     "output_type": "execute_result"
    }
   ],
   "source": [
    "Komoran.nouns(x)"
   ]
  },
  {
   "cell_type": "code",
   "execution_count": 67,
   "id": "6e887783-884f-41b6-a5de-7a15a58f0540",
   "metadata": {},
   "outputs": [
    {
     "data": {
      "text/plain": [
       "[('10', 'Number'),\n",
       " ('명중', 'Noun'),\n",
       " ('9', 'Number'),\n",
       " ('명', 'Noun'),\n",
       " ('이', 'Josa'),\n",
       " ('틀리는', 'Verb'),\n",
       " ('한글맞춤법', 'Noun')]"
      ]
     },
     "execution_count": 67,
     "metadata": {},
     "output_type": "execute_result"
    }
   ],
   "source": [
    "okt.pos(x)"
   ]
  },
  {
   "cell_type": "code",
   "execution_count": 68,
   "id": "bb124f32-3fb7-4200-ac3b-eda0e3a7f646",
   "metadata": {},
   "outputs": [],
   "source": [
    "data = []\n",
    "for sentence in X[:5]:\n",
    "    data.append(okt.nouns(sentence))"
   ]
  },
  {
   "cell_type": "code",
   "execution_count": 69,
   "id": "e9d52494-8263-422d-a1d9-78cf991f3387",
   "metadata": {},
   "outputs": [
    {
     "data": {
      "text/plain": [
       "[['명중', '명', '한글맞춤법'],\n",
       " ['명중', '명', '한글맞춤법'],\n",
       " ['명중', '명', '한글맞춤법', '참고도서', '전집', '제공'],\n",
       " ['명중', '명', '한글맞춤법', '참고도서', '제공', '스마트러닝'],\n",
       " ['명중', '명', '한글맞춤법', '스마트러닝']]"
      ]
     },
     "execution_count": 69,
     "metadata": {},
     "output_type": "execute_result"
    }
   ],
   "source": [
    "data"
   ]
  },
  {
   "cell_type": "code",
   "execution_count": 70,
   "id": "ee7b9a05-ae83-49d4-be9c-3a3a2abc7a8b",
   "metadata": {},
   "outputs": [],
   "source": [
    "# X를 형태소 분석해서 데이터 1차 가공\n",
    "X = X.apply(okt.nouns)"
   ]
  },
  {
   "cell_type": "code",
   "execution_count": 71,
   "id": "9448564c-2bd7-4b8a-ba25-e31b901072ba",
   "metadata": {},
   "outputs": [],
   "source": [
    "## 문자를 숫자로 바꾸는 작업\n",
    "# 1. 유니크한 값을 정리\n",
    "word_list = []\n",
    "for x in X:\n",
    "    word_list.extend(x)\n",
    "word_list = list(set(word_list))\n",
    "# 2. index_word 구성된 딕셔너리 작성 (dictionary comprehention)\n",
    "index_word = { i+1:v for i,v in enumerate(word_list)}\n",
    "# 3. word_index 구성된 딕셔너리 작성\n",
    "word_index = { v:i for i,v in index_word.items()}"
   ]
  },
  {
   "cell_type": "code",
   "execution_count": 72,
   "id": "58b0e6d8-5870-433f-be61-1387464302ef",
   "metadata": {},
   "outputs": [
    {
     "data": {
      "text/plain": [
       "[[9683, 10808, 5709],\n",
       " [9683, 10808, 5709],\n",
       " [9683, 10808, 5709, 13875, 5658, 1362]]"
      ]
     },
     "execution_count": 72,
     "metadata": {},
     "output_type": "execute_result"
    }
   ],
   "source": [
    "tmp2 = []\n",
    "for i in X[0:3]:\n",
    "    tmp = []\n",
    "    for j in i:\n",
    "        tmp.append(word_index[j])\n",
    "    tmp2.append(tmp)\n",
    "tmp2"
   ]
  },
  {
   "cell_type": "code",
   "execution_count": 73,
   "id": "1ecfdea5-ccdc-469a-af1e-c17a5678e678",
   "metadata": {},
   "outputs": [],
   "source": [
    "# word들을 정수로 변환\n",
    "def trans_word_index(x):\n",
    "    tmp = []\n",
    "    for i in x:\n",
    "        tmp.append(word_index[i])\n",
    "    return tmp\n",
    "def trans_index_word(x):\n",
    "    tmp = []\n",
    "    for i in x:\n",
    "        tmp.append(index_word[i])\n",
    "        return tmp\n",
    "\n",
    "X = X.apply(trans_word_index)"
   ]
  },
  {
   "cell_type": "code",
   "execution_count": 57,
   "id": "c3951808-e3b9-409e-aad6-cea7235c34e4",
   "metadata": {},
   "outputs": [],
   "source": [
    "X_ = X.values"
   ]
  },
  {
   "cell_type": "code",
   "execution_count": 74,
   "id": "710c6771-6a84-4517-b6bf-4b634c77319e",
   "metadata": {},
   "outputs": [],
   "source": [
    "max_length = X.apply(len).max()\n",
    "X_ = pad_sequences(X,maxlen=max_length)"
   ]
  },
  {
   "cell_type": "code",
   "execution_count": 75,
   "id": "d5aaea2a-7a32-4811-ac8c-5b75c070ab51",
   "metadata": {},
   "outputs": [
    {
     "data": {
      "text/plain": [
       "21"
      ]
     },
     "execution_count": 75,
     "metadata": {},
     "output_type": "execute_result"
    }
   ],
   "source": [
    "## 길이 통일 \n",
    "X.apply(len).max()"
   ]
  },
  {
   "cell_type": "code",
   "execution_count": 76,
   "id": "7c6ffcc4-7b1c-47b3-9d4d-f8bac2598e75",
   "metadata": {},
   "outputs": [
    {
     "data": {
      "text/plain": [
       "['멀티미디어',\n",
       " '인문교양',\n",
       " '성악',\n",
       " '조형',\n",
       " '논술·글쓰기',\n",
       " '사회복지',\n",
       " '레저·스포츠',\n",
       " '종교음악',\n",
       " '마케팅',\n",
       " '수화(손언어)',\n",
       " '정치',\n",
       " '철학',\n",
       " '경제',\n",
       " '데이터베이스',\n",
       " '아동발달',\n",
       " '전략·국제경영',\n",
       " '농업·원예',\n",
       " '취업·창업',\n",
       " '건설·건축·토목',\n",
       " '문학이론·문예창작',\n",
       " '전통공예',\n",
       " '마술',\n",
       " '정치학',\n",
       " '생활공예',\n",
       " '논술·구술',\n",
       " '역사',\n",
       " '전통무용',\n",
       " '여성',\n",
       " '기계·금속',\n",
       " '경영정보',\n",
       " '인터넷',\n",
       " '경영이론',\n",
       " '일본어',\n",
       " '영상예술',\n",
       " '통신',\n",
       " '운영체제',\n",
       " '대중음악',\n",
       " '윤리',\n",
       " '언어',\n",
       " '독서',\n",
       " '동·서양문학',\n",
       " '서예·서화',\n",
       " '제2외국어',\n",
       " '의료',\n",
       " '한국어',\n",
       " '디자인이론·교양',\n",
       " '문화',\n",
       " '교육학',\n",
       " '신문·방송·출판',\n",
       " '전기·전자',\n",
       " '실내인테리어',\n",
       " '생활무용',\n",
       " '보건',\n",
       " '한글지도(문해)',\n",
       " '사진·만화',\n",
       " '그림·회화',\n",
       " '아동지도',\n",
       " '응용치료',\n",
       " '일러스트레이션',\n",
       " '한방',\n",
       " '조직관리',\n",
       " '현대무용',\n",
       " '심리·상담',\n",
       " '간호',\n",
       " '프로그래밍',\n",
       " '서양악기',\n",
       " '중국어',\n",
       " '글씨디자인',\n",
       " '한국문학',\n",
       " '사회학',\n",
       " '통계',\n",
       " '미술이론·교양',\n",
       " '국사',\n",
       " '법학',\n",
       " '컴퓨터기초',\n",
       " '국악·민요',\n",
       " '소방·경찰·경호',\n",
       " '생활요리',\n",
       " '행정학',\n",
       " '기타외국어',\n",
       " '무용이론·교양',\n",
       " '생물·화학·물리·천문',\n",
       " '한문',\n",
       " '과학이론·교양',\n",
       " '금융재무',\n",
       " '다도',\n",
       " '생산관리',\n",
       " '전통악기',\n",
       " '재료·정밀',\n",
       " '부동산',\n",
       " '음악',\n",
       " '일반 기타',\n",
       " '과학일반',\n",
       " '수학',\n",
       " '진로교육',\n",
       " '꽃예술',\n",
       " '사회일반',\n",
       " '입시 기타',\n",
       " '음악이론·교양',\n",
       " 'OA',\n",
       " '교통·운송',\n",
       " '결혼·가족·가정',\n",
       " '종교',\n",
       " '환경·지리',\n",
       " '체육이론·교양',\n",
       " '미술',\n",
       " '영어',\n",
       " '레크리에이션',\n",
       " '식생활',\n",
       " '게임',\n",
       " '연극',\n",
       " '관광·호텔',\n",
       " '풍수·사주',\n",
       " '의상디자인',\n",
       " '회계·세무',\n",
       " '건강·미용',\n",
       " '제과제빵']"
      ]
     },
     "execution_count": 76,
     "metadata": {},
     "output_type": "execute_result"
    }
   ],
   "source": [
    "word_list = []\n",
    "for i in y:\n",
    "    word_list.extend([i])\n",
    "word_list = list(set(word_list))\n",
    "word_list"
   ]
  },
  {
   "cell_type": "code",
   "execution_count": 78,
   "id": "4a4002dd-b8ed-4812-afe5-34a0995b16b5",
   "metadata": {},
   "outputs": [],
   "source": [
    "index_word_y = { i:v for i, v in enumerate(word_list)}\n",
    "word_index_y = { v:i for i,v in index_word_y.items()}"
   ]
  },
  {
   "cell_type": "code",
   "execution_count": 79,
   "id": "3b68234d-8276-4743-a2fc-6dd34a12a702",
   "metadata": {},
   "outputs": [],
   "source": [
    "def trans_y(x):\n",
    "    return word_index_y[x]\n",
    "y_ = y.apply(trans_y)"
   ]
  },
  {
   "cell_type": "code",
   "execution_count": null,
   "id": "29a8e234-4344-4b0c-a425-119f9be1e18d",
   "metadata": {},
   "outputs": [],
   "source": []
  }
 ],
 "metadata": {
  "kernelspec": {
   "display_name": "yuuni",
   "language": "python",
   "name": "yuuni"
  },
  "language_info": {
   "codemirror_mode": {
    "name": "ipython",
    "version": 3
   },
   "file_extension": ".py",
   "mimetype": "text/x-python",
   "name": "python",
   "nbconvert_exporter": "python",
   "pygments_lexer": "ipython3",
   "version": "3.9.13"
  }
 },
 "nbformat": 4,
 "nbformat_minor": 5
}
