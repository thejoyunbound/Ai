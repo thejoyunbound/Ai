{
 "cells": [
  {
   "cell_type": "code",
   "execution_count": 2,
   "id": "2da17d53-fc94-4043-bea0-69ef9c0271cb",
   "metadata": {},
   "outputs": [],
   "source": [
    "from tensorflow.keras.applications import VGG19"
   ]
  },
  {
   "cell_type": "code",
   "execution_count": 3,
   "id": "1a2da559-17f3-4ff1-944d-dc50c4f6965a",
   "metadata": {},
   "outputs": [],
   "source": [
    "base = VGG19(\n",
    "    include_top=False\n",
    "    ,input_shape=(100,100,3))"
   ]
  },
  {
   "cell_type": "code",
   "execution_count": 4,
   "id": "a6e223b7-58f9-4946-ad9f-339672ac3758",
   "metadata": {},
   "outputs": [],
   "source": [
    "from tensorflow.keras.layers import Dense\n",
    "from tensorflow.keras.datasets import mnist"
   ]
  },
  {
   "cell_type": "code",
   "execution_count": 5,
   "id": "3cf782e8-c11a-4838-a9c3-087e615ebfe6",
   "metadata": {},
   "outputs": [],
   "source": [
    "(X_train, y_train), (_,_) = mnist.load_data()"
   ]
  },
  {
   "cell_type": "code",
   "execution_count": 6,
   "id": "7f2d4885-30b4-458c-832b-0ed7ebbc8f47",
   "metadata": {},
   "outputs": [],
   "source": [
    "from tensorflow.keras.utils import to_categorical"
   ]
  },
  {
   "cell_type": "code",
   "execution_count": 7,
   "id": "510d9daf-aaeb-4133-a62f-c49af4feb119",
   "metadata": {},
   "outputs": [],
   "source": [
    "y_train = to_categorical(y_train)"
   ]
  },
  {
   "cell_type": "code",
   "execution_count": 8,
   "id": "9ec6aba8-6117-4796-b185-cf889277a116",
   "metadata": {},
   "outputs": [
    {
     "data": {
      "text/plain": [
       "(60000, 28, 28)"
      ]
     },
     "execution_count": 8,
     "metadata": {},
     "output_type": "execute_result"
    }
   ],
   "source": [
    "X_train.shape"
   ]
  },
  {
   "cell_type": "code",
   "execution_count": null,
   "id": "c31cdf61-732c-4e61-bd34-2c6ac919afba",
   "metadata": {},
   "outputs": [],
   "source": [
    "import numpy as np\n",
    "r = np.dot(X_train.reshape(-1,28*28),np.random.randn(28*28,100))"
   ]
  },
  {
   "cell_type": "code",
   "execution_count": null,
   "id": "9b6b319d-2a80-4b91-8f1b-57da048b4616",
   "metadata": {},
   "outputs": [],
   "source": []
  }
 ],
 "metadata": {
  "kernelspec": {
   "display_name": "yuuni",
   "language": "python",
   "name": "yuuni"
  },
  "language_info": {
   "codemirror_mode": {
    "name": "ipython",
    "version": 3
   },
   "file_extension": ".py",
   "mimetype": "text/x-python",
   "name": "python",
   "nbconvert_exporter": "python",
   "pygments_lexer": "ipython3",
   "version": "3.9.13"
  }
 },
 "nbformat": 4,
 "nbformat_minor": 5
}
