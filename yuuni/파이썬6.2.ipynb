{
 "cells": [
  {
   "cell_type": "code",
   "execution_count": 266,
   "id": "949a98bf-b76a-4491-a854-8acff5d4180e",
   "metadata": {},
   "outputs": [],
   "source": [
    "# class List:\n",
    "#     def __init__(self,*x):\n",
    "#         self.values = []\n",
    "#         for value in x:\n",
    "#             self.values.append(value)\n",
    "#         def append_(self,x):\n",
    "#             self.values.append(value)\n",
    "#         def append_(self,x):\n",
    "#             self.values += [x]\n",
    "class List:\n",
    "    def __init__(self,*x):\n",
    "        self.values = []\n",
    "        for value in x:\n",
    "            self.values.append(value)\n",
    "    \n",
    "    def append_(self,x):\n",
    "        self.values += [x]\n",
    "    \n",
    "    def clear_(self):\n",
    "        self.values = []\n",
    "    \n",
    "    def copy_(self):\n",
    "        values = [] \n",
    "        for value in self.values:\n",
    "            values.append(value)\n",
    "        return values\n",
    "    \n",
    "    def count_(self,x):\n",
    "        cnt = 0\n",
    "        for value in self.values:\n",
    "            if value == x:\n",
    "                cnt += 1\n",
    "        return cnt\n",
    "    \n",
    "    def extend_(self,x):\n",
    "        self.values += x\n",
    "    \n",
    "    def index_(self,x):\n",
    "        for idx,value in enumerate(self.values):\n",
    "            if x == value:\n",
    "                break\n",
    "        if idx+1 == len(self.values):\n",
    "            print('값이 없습니다')\n",
    "        return idx\n",
    "    \n",
    "    def insert_(self,idx,value):\n",
    "        self.values = self.values[:idx] + value + self.values[:idx]\n",
    "    \n",
    "    def pop_(self,idx):\n",
    "        result = self.values[idx]\n",
    "        self.values = self.values[:idx] + self.values[idx+1:]\n",
    "        \n",
    "        return self.values[idx]\n",
    "    \n",
    "    \n",
    "    def remove_(self,value):\n",
    "        idx = self.index_(value)\n",
    "        self.values = self.values[:idx]+self.values[idx+1:]\n",
    "        \n",
    "    def reverse_(self):\n",
    "        self.values = self.values[::-1]"
   ]
  },
  {
   "cell_type": "code",
   "execution_count": 267,
   "id": "80819399-536e-4210-92ec-9256cd3f9ebd",
   "metadata": {},
   "outputs": [],
   "source": [
    "li = List(5,6,7,8)"
   ]
  },
  {
   "cell_type": "code",
   "execution_count": 268,
   "id": "b678a3f6-32ce-47a9-87a3-0251e7fd29de",
   "metadata": {},
   "outputs": [],
   "source": [
    "li.reverse_()"
   ]
  },
  {
   "cell_type": "code",
   "execution_count": 269,
   "id": "561268dd-d1da-4e60-918d-d5489ce36cf4",
   "metadata": {},
   "outputs": [
    {
     "data": {
      "text/plain": [
       "[8, 7, 6, 5]"
      ]
     },
     "execution_count": 269,
     "metadata": {},
     "output_type": "execute_result"
    }
   ],
   "source": [
    "li.values"
   ]
  },
  {
   "cell_type": "code",
   "execution_count": null,
   "id": "c5f67731-71cb-4ec9-b3d9-cced82da9a87",
   "metadata": {},
   "outputs": [],
   "source": []
  },
  {
   "cell_type": "code",
   "execution_count": 263,
   "id": "afc5a4ad-b50e-4969-8a70-2be719857bfb",
   "metadata": {},
   "outputs": [
    {
     "data": {
      "text/plain": [
       "[5, 6, 7, 8]"
      ]
     },
     "execution_count": 263,
     "metadata": {},
     "output_type": "execute_result"
    }
   ],
   "source": [
    "li.values"
   ]
  },
  {
   "cell_type": "code",
   "execution_count": 264,
   "id": "8c37e9ec-75d1-4f32-ac01-b12cfb1d8241",
   "metadata": {},
   "outputs": [],
   "source": [
    "li.remove_(7)"
   ]
  },
  {
   "cell_type": "code",
   "execution_count": 265,
   "id": "8915b154-5c25-4724-b8c9-7a8455e137ac",
   "metadata": {},
   "outputs": [
    {
     "data": {
      "text/plain": [
       "[5, 6, 8]"
      ]
     },
     "execution_count": 265,
     "metadata": {},
     "output_type": "execute_result"
    }
   ],
   "source": [
    "li.values"
   ]
  },
  {
   "cell_type": "code",
   "execution_count": null,
   "id": "2a336c1e-1844-48fe-93b6-0063779527a2",
   "metadata": {},
   "outputs": [],
   "source": []
  },
  {
   "cell_type": "code",
   "execution_count": null,
   "id": "8d08f580-21b6-45e8-9788-fd138faac399",
   "metadata": {},
   "outputs": [],
   "source": []
  },
  {
   "cell_type": "code",
   "execution_count": null,
   "id": "c9b05fcc-7b0d-421e-80e0-3576925ec34e",
   "metadata": {},
   "outputs": [],
   "source": []
  },
  {
   "cell_type": "code",
   "execution_count": null,
   "id": "286d3f6a-74fd-4777-b200-b417f2583b4c",
   "metadata": {},
   "outputs": [],
   "source": []
  },
  {
   "cell_type": "code",
   "execution_count": null,
   "id": "45ecc156-f020-4f13-95a2-ad2a0b0c5383",
   "metadata": {},
   "outputs": [],
   "source": []
  },
  {
   "cell_type": "code",
   "execution_count": 230,
   "id": "f0a9f640-3ced-4eb4-a964-cc36587ffa4c",
   "metadata": {},
   "outputs": [],
   "source": [
    "li = list"
   ]
  },
  {
   "cell_type": "code",
   "execution_count": 231,
   "id": "39e33f2d-bafb-441f-8043-310a253aa171",
   "metadata": {},
   "outputs": [],
   "source": [
    "li = List(1,2,3,4)"
   ]
  },
  {
   "cell_type": "code",
   "execution_count": 217,
   "id": "42e75e2d-db83-4448-8859-94343079c5ac",
   "metadata": {},
   "outputs": [
    {
     "data": {
      "text/plain": [
       "[1, 2, 3, 4]"
      ]
     },
     "execution_count": 217,
     "metadata": {},
     "output_type": "execute_result"
    }
   ],
   "source": [
    "li.values"
   ]
  },
  {
   "cell_type": "code",
   "execution_count": 218,
   "id": "6cb25a26-6060-42c7-8b25-018b73d90825",
   "metadata": {},
   "outputs": [
    {
     "data": {
      "text/plain": [
       "[1, 2, 3, 4]"
      ]
     },
     "execution_count": 218,
     "metadata": {},
     "output_type": "execute_result"
    }
   ],
   "source": [
    "l"
   ]
  },
  {
   "cell_type": "code",
   "execution_count": 220,
   "id": "43c8cc43-c5f2-4ebc-9537-654bdb22e3c3",
   "metadata": {},
   "outputs": [
    {
     "data": {
      "text/plain": [
       "3"
      ]
     },
     "execution_count": 220,
     "metadata": {},
     "output_type": "execute_result"
    }
   ],
   "source": [
    "l.pop(2)"
   ]
  },
  {
   "cell_type": "code",
   "execution_count": 222,
   "id": "930f6542-45bf-4345-b7bb-6cecca5f5200",
   "metadata": {},
   "outputs": [
    {
     "data": {
      "text/plain": [
       "[1, 2, 4]"
      ]
     },
     "execution_count": 222,
     "metadata": {},
     "output_type": "execute_result"
    }
   ],
   "source": [
    "l"
   ]
  },
  {
   "cell_type": "code",
   "execution_count": null,
   "id": "d2bb0bfc-8ab9-4995-965b-3582f57e23cd",
   "metadata": {},
   "outputs": [],
   "source": []
  },
  {
   "cell_type": "code",
   "execution_count": 212,
   "id": "14bfc7b4-f268-4c96-b6c0-5e462a6932a4",
   "metadata": {},
   "outputs": [
    {
     "data": {
      "text/plain": [
       "[1, 2, 3, 4]"
      ]
     },
     "execution_count": 212,
     "metadata": {},
     "output_type": "execute_result"
    }
   ],
   "source": [
    "li.values"
   ]
  },
  {
   "cell_type": "code",
   "execution_count": 195,
   "id": "3722e6d3-bff2-46c3-b03c-0eaaf9f6c655",
   "metadata": {},
   "outputs": [],
   "source": [
    "li.append_([6,7])"
   ]
  },
  {
   "cell_type": "code",
   "execution_count": 196,
   "id": "f078cd8a-6abd-4d3b-8b43-305bdb400fce",
   "metadata": {},
   "outputs": [],
   "source": [
    "li.append_(5)"
   ]
  },
  {
   "cell_type": "code",
   "execution_count": 197,
   "id": "2dc9e5c1-2d05-4cc0-91ca-9b4ce1d9374b",
   "metadata": {},
   "outputs": [
    {
     "data": {
      "text/plain": [
       "[1, 2, 3, 4, [6, 7], 5]"
      ]
     },
     "execution_count": 197,
     "metadata": {},
     "output_type": "execute_result"
    }
   ],
   "source": [
    "li.values"
   ]
  },
  {
   "cell_type": "code",
   "execution_count": 198,
   "id": "1e8c5e2c-78b3-4c4c-b43e-0fb7d93b9da3",
   "metadata": {},
   "outputs": [],
   "source": [
    "li.clear_()"
   ]
  },
  {
   "cell_type": "code",
   "execution_count": 199,
   "id": "0ff66443-3256-4c1e-8122-b9e5330a283f",
   "metadata": {},
   "outputs": [
    {
     "data": {
      "text/plain": [
       "[]"
      ]
     },
     "execution_count": 199,
     "metadata": {},
     "output_type": "execute_result"
    }
   ],
   "source": [
    "li.values"
   ]
  },
  {
   "cell_type": "code",
   "execution_count": 200,
   "id": "b06022d0-1056-4603-8ea5-4f9462949852",
   "metadata": {},
   "outputs": [],
   "source": [
    "l = [1,2,3,4]"
   ]
  },
  {
   "cell_type": "code",
   "execution_count": 201,
   "id": "34ce4d08-298d-44e9-b7f5-fe87b6e5af07",
   "metadata": {},
   "outputs": [
    {
     "data": {
      "text/plain": [
       "['__add__',\n",
       " '__class__',\n",
       " '__class_getitem__',\n",
       " '__contains__',\n",
       " '__delattr__',\n",
       " '__delitem__',\n",
       " '__dir__',\n",
       " '__doc__',\n",
       " '__eq__',\n",
       " '__format__',\n",
       " '__ge__',\n",
       " '__getattribute__',\n",
       " '__getitem__',\n",
       " '__gt__',\n",
       " '__hash__',\n",
       " '__iadd__',\n",
       " '__imul__',\n",
       " '__init__',\n",
       " '__init_subclass__',\n",
       " '__iter__',\n",
       " '__le__',\n",
       " '__len__',\n",
       " '__lt__',\n",
       " '__mul__',\n",
       " '__ne__',\n",
       " '__new__',\n",
       " '__reduce__',\n",
       " '__reduce_ex__',\n",
       " '__repr__',\n",
       " '__reversed__',\n",
       " '__rmul__',\n",
       " '__setattr__',\n",
       " '__setitem__',\n",
       " '__sizeof__',\n",
       " '__str__',\n",
       " '__subclasshook__',\n",
       " 'append',\n",
       " 'clear',\n",
       " 'copy',\n",
       " 'count',\n",
       " 'extend',\n",
       " 'index',\n",
       " 'insert',\n",
       " 'pop',\n",
       " 'remove',\n",
       " 'reverse',\n",
       " 'sort']"
      ]
     },
     "execution_count": 201,
     "metadata": {},
     "output_type": "execute_result"
    }
   ],
   "source": [
    "dir(l)"
   ]
  },
  {
   "cell_type": "code",
   "execution_count": 202,
   "id": "74f47615-86bc-4972-b5c4-62e7f167686a",
   "metadata": {},
   "outputs": [],
   "source": [
    "l1 = [1,2,3,4]\n",
    "l2 = l1"
   ]
  },
  {
   "cell_type": "code",
   "execution_count": 203,
   "id": "c2b03b0f-b397-46fc-99b3-29e71a3f683e",
   "metadata": {},
   "outputs": [],
   "source": [
    "l1.append(1)"
   ]
  },
  {
   "cell_type": "code",
   "execution_count": 204,
   "id": "0964f1f2-ab20-4ea5-9446-eb2edee43c9a",
   "metadata": {},
   "outputs": [
    {
     "data": {
      "text/plain": [
       "[1, 2, 3, 4, 1]"
      ]
     },
     "execution_count": 204,
     "metadata": {},
     "output_type": "execute_result"
    }
   ],
   "source": [
    "l1"
   ]
  },
  {
   "cell_type": "code",
   "execution_count": 205,
   "id": "8820b696-678e-41bb-b760-8b5f26e2107f",
   "metadata": {},
   "outputs": [
    {
     "data": {
      "text/plain": [
       "[1, 2, 3, 4, 1]"
      ]
     },
     "execution_count": 205,
     "metadata": {},
     "output_type": "execute_result"
    }
   ],
   "source": [
    "l2"
   ]
  },
  {
   "cell_type": "code",
   "execution_count": 206,
   "id": "096ca9bb-736e-4a01-b1be-4981c1d0f9c6",
   "metadata": {},
   "outputs": [
    {
     "data": {
      "text/plain": [
       "[5]"
      ]
     },
     "execution_count": 206,
     "metadata": {},
     "output_type": "execute_result"
    }
   ],
   "source": [
    "li.append_(5)\n",
    "li.values"
   ]
  },
  {
   "cell_type": "code",
   "execution_count": null,
   "id": "f9804301-eb22-4208-a674-b4e0f0b602a7",
   "metadata": {},
   "outputs": [],
   "source": []
  },
  {
   "cell_type": "code",
   "execution_count": null,
   "id": "c2bc450c-47d4-4dc3-abe1-baf4a38c2e14",
   "metadata": {},
   "outputs": [],
   "source": []
  },
  {
   "cell_type": "code",
   "execution_count": null,
   "id": "1ef3b44b-6706-4beb-9249-75b75def0a7e",
   "metadata": {},
   "outputs": [],
   "source": []
  }
 ],
 "metadata": {
  "kernelspec": {
   "display_name": "yuuni",
   "language": "python",
   "name": "yuuni"
  },
  "language_info": {
   "codemirror_mode": {
    "name": "ipython",
    "version": 3
   },
   "file_extension": ".py",
   "mimetype": "text/x-python",
   "name": "python",
   "nbconvert_exporter": "python",
   "pygments_lexer": "ipython3",
   "version": "3.9.13"
  }
 },
 "nbformat": 4,
 "nbformat_minor": 5
}
