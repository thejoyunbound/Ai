{
 "cells": [
  {
   "cell_type": "code",
   "execution_count": 3,
   "id": "b387f13c-e73f-49c6-b67e-d7b62bfafed5",
   "metadata": {},
   "outputs": [],
   "source": [
    "from tensorflow.keras.applications import VGG19"
   ]
  },
  {
   "cell_type": "code",
   "execution_count": 4,
   "id": "038cdf9d-b4e6-4c07-aec1-2897c2006554",
   "metadata": {},
   "outputs": [],
   "source": [
    "base = VGG19(\n",
    "    include_top=False\n",
    "    ,input_shape=(100,100,3))"
   ]
  },
  {
   "cell_type": "code",
   "execution_count": 5,
   "id": "4ebad394-d823-47b2-8576-5df719895064",
   "metadata": {},
   "outputs": [],
   "source": [
    "from tensorflow.keras.layers import Dense\n",
    "from tensorflow.keras.datasets import mnist"
   ]
  },
  {
   "cell_type": "code",
   "execution_count": 6,
   "id": "cf82292a-4423-404c-b468-7bf5f512e205",
   "metadata": {},
   "outputs": [],
   "source": [
    "(X_train, y_train), (_,_) = mnist.load_data()"
   ]
  },
  {
   "cell_type": "code",
   "execution_count": 7,
   "id": "70739542-af37-485d-b646-74f6a2c72fa8",
   "metadata": {},
   "outputs": [],
   "source": [
    "from tensorflow.keras.utils import to_categorical"
   ]
  },
  {
   "cell_type": "code",
   "execution_count": 8,
   "id": "a59f25f0-3370-47ff-924f-c3967cde3a58",
   "metadata": {},
   "outputs": [],
   "source": [
    "y_train = to_categorical(y_train)"
   ]
  },
  {
   "cell_type": "code",
   "execution_count": 9,
   "id": "1f13814b-7977-4947-a7b1-49d91c9dd3c9",
   "metadata": {},
   "outputs": [
    {
     "data": {
      "text/plain": [
       "(60000, 28, 28)"
      ]
     },
     "execution_count": 9,
     "metadata": {},
     "output_type": "execute_result"
    }
   ],
   "source": [
    "X_train.shape"
   ]
  },
  {
   "cell_type": "code",
   "execution_count": null,
   "id": "cf37843b-b3c3-438f-8499-2410e5672087",
   "metadata": {},
   "outputs": [],
   "source": [
    "import numpy as np\n",
    "r = np.dot(X_train.reshape(-1,28*28),np.random.randn(28*28,100))"
   ]
  },
  {
   "cell_type": "code",
   "execution_count": null,
   "id": "8a5f9544-e285-4619-bee2-2528072fe531",
   "metadata": {},
   "outputs": [],
   "source": [
    "result = np.dot(r,np.random.randn(100,y_train.shape[1]))"
   ]
  },
  {
   "cell_type": "code",
   "execution_count": null,
   "id": "7ed7aeeb-fccb-492f-bc16-1c5aafa0b8e9",
   "metadata": {},
   "outputs": [],
   "source": [
    "result.shape"
   ]
  },
  {
   "cell_type": "code",
   "execution_count": null,
   "id": "016843e6-5cea-47a9-951a-505557d70db4",
   "metadata": {},
   "outputs": [],
   "source": [
    "loss = lambda (x,y) : -np.mean(y*np.log(1-x))\n",
    "loss(result, y_train)"
   ]
  },
  {
   "cell_type": "code",
   "execution_count": null,
   "id": "43bdc6c6-895c-437b-9d5b-83d5ddee7f48",
   "metadata": {},
   "outputs": [],
   "source": []
  },
  {
   "cell_type": "code",
   "execution_count": null,
   "id": "644d326d-da9b-4ef7-8c6c-115df97b5731",
   "metadata": {},
   "outputs": [],
   "source": []
  },
  {
   "cell_type": "code",
   "execution_count": null,
   "id": "f8200f5a-c1f0-4abe-8312-08c6146ae2b6",
   "metadata": {},
   "outputs": [],
   "source": []
  },
  {
   "cell_type": "code",
   "execution_count": null,
   "id": "76909cf0-ac81-4ce4-85eb-60bb154cb6f6",
   "metadata": {},
   "outputs": [],
   "source": []
  },
  {
   "cell_type": "code",
   "execution_count": null,
   "id": "a3e09735-b336-41d0-814c-5d7133be13c1",
   "metadata": {},
   "outputs": [],
   "source": []
  },
  {
   "cell_type": "code",
   "execution_count": null,
   "id": "628c740b-7051-4d0f-8979-1a35f24efd03",
   "metadata": {
    "jupyter": {
     "source_hidden": true
    },
    "tags": []
   },
   "outputs": [],
   "source": []
  }
 ],
 "metadata": {
  "kernelspec": {
   "display_name": "yuuni",
   "language": "python",
   "name": "yuuni"
  },
  "language_info": {
   "codemirror_mode": {
    "name": "ipython",
    "version": 3
   },
   "file_extension": ".py",
   "mimetype": "text/x-python",
   "name": "python",
   "nbconvert_exporter": "python",
   "pygments_lexer": "ipython3",
   "version": "3.9.13"
  }
 },
 "nbformat": 4,
 "nbformat_minor": 5
}
