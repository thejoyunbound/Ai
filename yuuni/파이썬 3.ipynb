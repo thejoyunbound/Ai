{
 "cells": [
  {
   "cell_type": "code",
   "execution_count": 1,
   "id": "ff36e165-b728-4ba0-89b4-e711cac63039",
   "metadata": {},
   "outputs": [],
   "source": [
    "import numpy as np\n",
    "np.random.seed(100)\n",
    "numbers = list(np.random.randint(10,50,200))"
   ]
  },
  {
   "cell_type": "code",
   "execution_count": 9,
   "id": "1e240aba-b52d-471e-86cc-a989879a52e0",
   "metadata": {},
   "outputs": [
    {
     "data": {
      "text/plain": [
       "{18: 4,\n",
       " 34: 4,\n",
       " 13: 10,\n",
       " 49: 3,\n",
       " 33: 5,\n",
       " 25: 4,\n",
       " 20: 6,\n",
       " 40: 11,\n",
       " 44: 10,\n",
       " 12: 9,\n",
       " 24: 5,\n",
       " 46: 6,\n",
       " 26: 7,\n",
       " 19: 5,\n",
       " 39: 7,\n",
       " 32: 5,\n",
       " 37: 5,\n",
       " 14: 5,\n",
       " 41: 4,\n",
       " 11: 4,\n",
       " 23: 5,\n",
       " 29: 5,\n",
       " 17: 4,\n",
       " 48: 7,\n",
       " 28: 6,\n",
       " 10: 4,\n",
       " 27: 8,\n",
       " 22: 4,\n",
       " 16: 3,\n",
       " 30: 5,\n",
       " 15: 2,\n",
       " 43: 2,\n",
       " 45: 4,\n",
       " 31: 1,\n",
       " 35: 4,\n",
       " 47: 5,\n",
       " 38: 5,\n",
       " 36: 3,\n",
       " 42: 2,\n",
       " 21: 2}"
      ]
     },
     "execution_count": 9,
     "metadata": {},
     "output_type": "execute_result"
    }
   ],
   "source": [
    "count = {}\n",
    "for number in numbers:\n",
    "    if count.get(number) == None:\n",
    "        count[number] = 1\n",
    "    else:\n",
    "        count[number] += 1\n",
    "    \n",
    "count"
   ]
  },
  {
   "cell_type": "code",
   "execution_count": 11,
   "id": "775476cc-7392-4622-882e-a1d867ea3056",
   "metadata": {},
   "outputs": [
    {
     "data": {
      "text/plain": [
       "True"
      ]
     },
     "execution_count": 11,
     "metadata": {},
     "output_type": "execute_result"
    }
   ],
   "source": [
    "type(count) is dict"
   ]
  },
  {
   "cell_type": "code",
   "execution_count": 12,
   "id": "bc02aab5-4829-4e71-939a-4cce4f2a269c",
   "metadata": {},
   "outputs": [
    {
     "data": {
      "text/plain": [
       "True"
      ]
     },
     "execution_count": 12,
     "metadata": {},
     "output_type": "execute_result"
    }
   ],
   "source": [
    "type('str_') is str"
   ]
  },
  {
   "cell_type": "code",
   "execution_count": 3,
   "id": "edec6aeb-2840-4e34-b968-3c97dc7a31a6",
   "metadata": {},
   "outputs": [],
   "source": [
    "character = {\n",
    "    'name':'기사',\n",
    "    'level':12,\n",
    "    'items':{\n",
    "        'sword':'불꽃의 검',\n",
    "        'armor':'풀플레이트',\n",
    "    },\n",
    "    'skill':['베기','세게베기','아주세게베기']\n",
    "}"
   ]
  },
  {
   "cell_type": "code",
   "execution_count": 4,
   "id": "d01fc06e-2328-4eab-bb4a-04cd489ea02f",
   "metadata": {},
   "outputs": [
    {
     "data": {
      "text/plain": [
       "{'name': '기사',\n",
       " 'level': 12,\n",
       " 'items': {'sword': '불꽃의 검', 'armor': '풀플레이트'},\n",
       " 'skill': ['베기', '세게베기', '아주세게베기']}"
      ]
     },
     "execution_count": 4,
     "metadata": {},
     "output_type": "execute_result"
    }
   ],
   "source": [
    "character"
   ]
  },
  {
   "cell_type": "code",
   "execution_count": 5,
   "id": "a17f271d-e870-4d1a-8664-ef0b7db5e827",
   "metadata": {},
   "outputs": [
    {
     "name": "stdout",
     "output_type": "stream",
     "text": [
      "name\n",
      "level\n",
      "items\n",
      "skill\n"
     ]
    }
   ],
   "source": [
    "for key in character:\n",
    "    print(key)"
   ]
  },
  {
   "cell_type": "code",
   "execution_count": 13,
   "id": "63fc20c8-1b2a-42b9-82a3-b5542ea5d841",
   "metadata": {},
   "outputs": [
    {
     "name": "stdout",
     "output_type": "stream",
     "text": [
      "name : 기사\n",
      "level : 12\n",
      "sword : 불꽃의 검\n",
      "armor : 풀플레이트\n",
      "skill : 베기\n",
      "skill : 세게베기\n",
      "skill : 아주세게베기\n"
     ]
    }
   ],
   "source": [
    "for key in character:\n",
    "    if (type(character[key]) is str) or (type(character[key]) is int):\n",
    "        print(key,':',character[key])\n",
    "    elif type(character[key]) is dict:\n",
    "        for i in character[key]:\n",
    "            print(i,':',character[key][i])\n",
    "    elif type(character[key]) is list:\n",
    "        for i in character[key]:\n",
    "            print('skill',':',i)"
   ]
  },
  {
   "cell_type": "code",
   "execution_count": 24,
   "id": "2151a712-f9f0-4d1f-884e-556d543f1a4a",
   "metadata": {},
   "outputs": [],
   "source": [
    "# 이거 끝나도 11시네 하와와 하와와아ㅘ와오아 집에 \n",
    "for i in []:\n",
    "    print(a)\n"
   ]
  },
  {
   "cell_type": "code",
   "execution_count": 31,
   "id": "a959ad66-3e3a-4cde-8de8-601aee0253ba",
   "metadata": {},
   "outputs": [
    {
     "data": {
      "text/plain": [
       "range(0, 5)"
      ]
     },
     "execution_count": 31,
     "metadata": {},
     "output_type": "execute_result"
    }
   ],
   "source": [
    "# range 정수 실수 동시 출력은 안 된다 ex) range(0, 10/2)\n",
    "range(0,int(10/2))"
   ]
  },
  {
   "cell_type": "code",
   "execution_count": 50,
   "id": "534436d4-f901-4a93-825a-a02ab93db917",
   "metadata": {},
   "outputs": [
    {
     "name": "stdout",
     "output_type": "stream",
     "text": [
      "1번째 반복2\n",
      "2번째 반복4\n",
      "3번째 반복6\n",
      "4번째 반복8\n"
     ]
    }
   ],
   "source": [
    "j = 1\n",
    "for i in range(2,10,2):\n",
    "    print(str(j)+'번째 반복'+str(i))\n",
    "    j += 1"
   ]
  },
  {
   "cell_type": "code",
   "execution_count": 51,
   "id": "d31c048a-034f-469c-91c3-022edf92b557",
   "metadata": {},
   "outputs": [],
   "source": [
    "array = [273,32,103,57,52]"
   ]
  },
  {
   "cell_type": "code",
   "execution_count": 59,
   "id": "818a946a-b934-4f1f-a6f0-466d040269c4",
   "metadata": {},
   "outputs": [
    {
     "name": "stdout",
     "output_type": "stream",
     "text": [
      "273 == 0 번째\n",
      "32 == 1 번째\n",
      "103 == 2 번째\n",
      "57 == 3 번째\n",
      "52 == 4 번째\n"
     ]
    }
   ],
   "source": [
    "j = 0\n",
    "for i in array:\n",
    "    print(i,'==',j,'번째')\n",
    "    j += 1"
   ]
  },
  {
   "cell_type": "code",
   "execution_count": 61,
   "id": "bac23be2-0f1e-4cba-b044-88e54110702d",
   "metadata": {},
   "outputs": [
    {
     "name": "stdout",
     "output_type": "stream",
     "text": [
      "273 === 0 번째\n",
      "32 === 1 번째\n",
      "103 === 2 번째\n",
      "57 === 3 번째\n",
      "52 === 4 번째\n"
     ]
    }
   ],
   "source": [
    "for i in range(len(array)):\n",
    "    print(array[i],\"===\",i,'번째')"
   ]
  },
  {
   "cell_type": "code",
   "execution_count": 68,
   "id": "44a2fb7a-1e2b-431d-9dc2-d850e5a88947",
   "metadata": {},
   "outputs": [
    {
     "name": "stdout",
     "output_type": "stream",
     "text": [
      "273 === 0 번째\n",
      "32 === 1 번째\n",
      "103 === 2 번째\n",
      "57 === 3 번째\n",
      "52 === 4 번째\n"
     ]
    }
   ],
   "source": [
    "for i,v in enumerate(array):\n",
    "    print(v,'===',i,'번째')"
   ]
  },
  {
   "cell_type": "code",
   "execution_count": 69,
   "id": "2c899b13-c3ab-416c-b7c2-f7473a6a01f3",
   "metadata": {},
   "outputs": [
    {
     "data": {
      "text/plain": [
       "range(0, 10)"
      ]
     },
     "execution_count": 69,
     "metadata": {},
     "output_type": "execute_result"
    }
   ],
   "source": [
    "range(0,10)"
   ]
  },
  {
   "cell_type": "code",
   "execution_count": 71,
   "id": "edf0e725-dee6-45bf-a66f-4c4e04d67bdd",
   "metadata": {},
   "outputs": [
    {
     "name": "stdout",
     "output_type": "stream",
     "text": [
      "0\n",
      "1\n",
      "2\n",
      "3\n",
      "4\n"
     ]
    }
   ],
   "source": [
    "for i in range(10)[:5]:\n",
    "    print(i)"
   ]
  },
  {
   "cell_type": "code",
   "execution_count": 72,
   "id": "e21524a2-736a-45fe-9df0-c477ace4887e",
   "metadata": {},
   "outputs": [
    {
     "data": {
      "text/plain": [
       "5"
      ]
     },
     "execution_count": 72,
     "metadata": {},
     "output_type": "execute_result"
    }
   ],
   "source": [
    "len(range(10)[:5])"
   ]
  },
  {
   "cell_type": "code",
   "execution_count": 73,
   "id": "c7adbea4-7c76-4758-90bb-78047350658e",
   "metadata": {},
   "outputs": [
    {
     "name": "stdout",
     "output_type": "stream",
     "text": [
      "4\n",
      "3\n",
      "2\n",
      "1\n",
      "0\n"
     ]
    }
   ],
   "source": [
    "for i in range(4,0-1,-1):\n",
    "    print(i)"
   ]
  },
  {
   "cell_type": "code",
   "execution_count": 74,
   "id": "9e9f1e27-2107-42e9-9b9b-3ced62dda42e",
   "metadata": {},
   "outputs": [],
   "source": [
    "li = [1,2,3,4,5]"
   ]
  },
  {
   "cell_type": "code",
   "execution_count": 75,
   "id": "1fa3ebde-ddc9-46e8-bb4b-f4b77d9f32af",
   "metadata": {},
   "outputs": [
    {
     "name": "stdout",
     "output_type": "stream",
     "text": [
      "1\n",
      "2\n",
      "3\n",
      "4\n",
      "5\n"
     ]
    }
   ],
   "source": [
    "for i in li:\n",
    "    print(i)"
   ]
  },
  {
   "cell_type": "code",
   "execution_count": 92,
   "id": "765b8221-28ee-41ac-b289-8aba26df0b0d",
   "metadata": {},
   "outputs": [
    {
     "name": "stdout",
     "output_type": "stream",
     "text": [
      "4\n",
      "4\n",
      "4\n",
      "4\n",
      "4\n"
     ]
    }
   ],
   "source": [
    "for i in range(len(li)):\n",
    "    print(li[3])\n",
    "#     ?"
   ]
  },
  {
   "cell_type": "code",
   "execution_count": 77,
   "id": "c1b9ac0e-070f-4f5e-b54f-f8f8bc055dcd",
   "metadata": {},
   "outputs": [
    {
     "name": "stdout",
     "output_type": "stream",
     "text": [
      "5\n",
      "4\n",
      "3\n",
      "2\n",
      "1\n"
     ]
    }
   ],
   "source": [
    "for i in [4,3,2,1,0]:\n",
    "    print(li[i])"
   ]
  },
  {
   "cell_type": "code",
   "execution_count": 78,
   "id": "53c42302-65bf-46c3-9cb7-898750c8b1fb",
   "metadata": {},
   "outputs": [
    {
     "data": {
      "text/plain": [
       "range(0, 5)"
      ]
     },
     "execution_count": 78,
     "metadata": {},
     "output_type": "execute_result"
    }
   ],
   "source": [
    "range(len(li))"
   ]
  },
  {
   "cell_type": "code",
   "execution_count": 84,
   "id": "04a21d8b-625b-4dc3-8d13-323e4656b52b",
   "metadata": {},
   "outputs": [
    {
     "data": {
      "text/plain": [
       "range(4, -1, -1)"
      ]
     },
     "execution_count": 84,
     "metadata": {},
     "output_type": "execute_result"
    }
   ],
   "source": [
    "range(len(li)-1,0-1,-1)"
   ]
  },
  {
   "cell_type": "code",
   "execution_count": 90,
   "id": "941b6cc6-0215-4483-af19-215e2040ac75",
   "metadata": {},
   "outputs": [
    {
     "name": "stdout",
     "output_type": "stream",
     "text": [
      "5\n",
      "4\n",
      "3\n",
      "2\n",
      "1\n"
     ]
    }
   ],
   "source": [
    "for i in range(len(li)):\n",
    "        print(li[len(li)-i-1])"
   ]
  },
  {
   "cell_type": "code",
   "execution_count": 87,
   "id": "7fe9a4b2-19dd-4bbe-a297-f0880a8060f5",
   "metadata": {},
   "outputs": [
    {
     "data": {
      "text/plain": [
       "[1, 2, 3, 4, 5]"
      ]
     },
     "execution_count": 87,
     "metadata": {},
     "output_type": "execute_result"
    }
   ],
   "source": [
    "li"
   ]
  },
  {
   "cell_type": "code",
   "execution_count": 94,
   "id": "81b7ebaa-0197-47c6-ba3a-3edb71c87943",
   "metadata": {},
   "outputs": [
    {
     "name": "stdout",
     "output_type": "stream",
     "text": [
      "5\n",
      "4\n",
      "3\n",
      "2\n",
      "1\n"
     ]
    }
   ],
   "source": [
    "for i in reversed(range(len(li))):\n",
    "    print(li[i])"
   ]
  },
  {
   "cell_type": "code",
   "execution_count": 99,
   "id": "af5cf963-94ef-445a-a29d-d3b5bacb67e0",
   "metadata": {},
   "outputs": [
    {
     "data": {
      "text/plain": [
       "[4, 3, 2, 1, 0]"
      ]
     },
     "execution_count": 99,
     "metadata": {},
     "output_type": "execute_result"
    }
   ],
   "source": [
    "list(reversed(range(len(li))))"
   ]
  },
  {
   "cell_type": "code",
   "execution_count": 101,
   "id": "827c1656-0a92-46b7-a429-d2057273eb6c",
   "metadata": {},
   "outputs": [],
   "source": [
    "r = list(range(len(li)))"
   ]
  },
  {
   "cell_type": "code",
   "execution_count": 104,
   "id": "445bd806-6ebb-4c75-bdf1-0dacf611e452",
   "metadata": {},
   "outputs": [
    {
     "data": {
      "text/plain": [
       "[0, 1, 2, 3, 4]"
      ]
     },
     "execution_count": 104,
     "metadata": {},
     "output_type": "execute_result"
    }
   ],
   "source": [
    "r.reverse()\n",
    "r"
   ]
  },
  {
   "cell_type": "code",
   "execution_count": 105,
   "id": "4b8ab8c9-89c8-4d72-a977-c34675a53e7e",
   "metadata": {},
   "outputs": [],
   "source": [
    "r = list(range(len(li)))"
   ]
  },
  {
   "cell_type": "code",
   "execution_count": 106,
   "id": "ac5772f0-89a8-4aed-b32d-10ff71b97c49",
   "metadata": {},
   "outputs": [],
   "source": [
    "# while이 뭔데 씹덕아?"
   ]
  },
  {
   "cell_type": "code",
   "execution_count": 111,
   "id": "2a3848f9-0bfd-449d-a653-a28afd2d0251",
   "metadata": {},
   "outputs": [
    {
     "name": "stdout",
     "output_type": "stream",
     "text": [
      "xxx -- 0\n",
      "xxx -- 1\n",
      "xxx -- 2\n",
      "xxx -- 3\n",
      "xxx -- 4\n",
      "xxx -- 5\n",
      "xxx -- 6\n"
     ]
    }
   ],
   "source": [
    "condition = 0\n",
    "while condition < 10:\n",
    "    print('xxx','--',condition)\n",
    "    condition = condition +1\n",
    "    if condition %7 == 0:\n",
    "        break"
   ]
  },
  {
   "cell_type": "code",
   "execution_count": 112,
   "id": "e91d2e49-2265-4d36-989f-0430b21536d6",
   "metadata": {},
   "outputs": [],
   "source": [
    "li = [1,2,1,2]"
   ]
  },
  {
   "cell_type": "code",
   "execution_count": 113,
   "id": "b677704b-a7b0-4e99-ba55-0786201cadb0",
   "metadata": {},
   "outputs": [],
   "source": [
    "li.remove(2)"
   ]
  },
  {
   "cell_type": "code",
   "execution_count": 114,
   "id": "db9db216-0b0f-4837-93cc-8c2dbde8b0de",
   "metadata": {},
   "outputs": [
    {
     "data": {
      "text/plain": [
       "[1, 1, 2]"
      ]
     },
     "execution_count": 114,
     "metadata": {},
     "output_type": "execute_result"
    }
   ],
   "source": [
    "li"
   ]
  },
  {
   "cell_type": "code",
   "execution_count": 117,
   "id": "40fc6d67-f020-4926-8623-158983b6a2ea",
   "metadata": {},
   "outputs": [],
   "source": [
    "li.remove(2)"
   ]
  },
  {
   "cell_type": "code",
   "execution_count": 118,
   "id": "d916b304-acec-460e-864d-a2f084bfde02",
   "metadata": {},
   "outputs": [
    {
     "data": {
      "text/plain": [
       "[1, 1]"
      ]
     },
     "execution_count": 118,
     "metadata": {},
     "output_type": "execute_result"
    }
   ],
   "source": [
    "li"
   ]
  },
  {
   "cell_type": "code",
   "execution_count": 142,
   "id": "016e88ee-50b1-4409-a590-535f2147fd44",
   "metadata": {},
   "outputs": [],
   "source": [
    "li = [1,2,1,2,1,2,1,2,1,2,1,2,1,2,1,2]"
   ]
  },
  {
   "cell_type": "code",
   "execution_count": 143,
   "id": "80a7500a-1e69-42a8-8e00-b0d92576d185",
   "metadata": {},
   "outputs": [],
   "source": [
    "for i in range(4):\n",
    "    li.remove(2)\n",
    "    "
   ]
  },
  {
   "cell_type": "code",
   "execution_count": 145,
   "id": "c39230da-cfdb-48e4-a8a0-eddb64bec935",
   "metadata": {},
   "outputs": [
    {
     "data": {
      "text/plain": [
       "[1, 1, 1, 1, 1, 2, 1, 2, 1, 2, 1, 2]"
      ]
     },
     "execution_count": 145,
     "metadata": {},
     "output_type": "execute_result"
    }
   ],
   "source": [
    "li"
   ]
  },
  {
   "cell_type": "code",
   "execution_count": 149,
   "id": "502ded6d-375a-481d-a9c9-d7daaf048608",
   "metadata": {},
   "outputs": [],
   "source": [
    "value = 2\n",
    "while value in li:\n",
    "    li.remove(value)\n",
    "#     확인한번 더 해보죠"
   ]
  },
  {
   "cell_type": "code",
   "execution_count": 148,
   "id": "466cd276-1aaa-457b-8aee-c6ed7a7880cd",
   "metadata": {},
   "outputs": [
    {
     "data": {
      "text/plain": [
       "[1, 1, 1, 1, 1, 1, 1, 1]"
      ]
     },
     "execution_count": 148,
     "metadata": {},
     "output_type": "execute_result"
    }
   ],
   "source": [
    "li"
   ]
  },
  {
   "cell_type": "code",
   "execution_count": 140,
   "id": "4568a358-fa93-43a1-a5b3-b0ef13689bb5",
   "metadata": {},
   "outputs": [
    {
     "data": {
      "text/plain": [
       "1678156849.4290495"
      ]
     },
     "execution_count": 140,
     "metadata": {},
     "output_type": "execute_result"
    }
   ],
   "source": [
    "import time\n",
    "time.time()"
   ]
  },
  {
   "cell_type": "code",
   "execution_count": 141,
   "id": "8d0b6610-e6d8-4627-adf8-d32f3f3500ff",
   "metadata": {},
   "outputs": [
    {
     "data": {
      "text/plain": [
       "1678156873.543396"
      ]
     },
     "execution_count": 141,
     "metadata": {},
     "output_type": "execute_result"
    }
   ],
   "source": [
    "time.time() + 5"
   ]
  },
  {
   "cell_type": "code",
   "execution_count": 153,
   "id": "46f25995-8590-423c-88c8-71181005ada8",
   "metadata": {},
   "outputs": [
    {
     "ename": "KeyboardInterrupt",
     "evalue": "",
     "output_type": "error",
     "traceback": [
      "\u001b[1;31m---------------------------------------------------------------------------\u001b[0m",
      "\u001b[1;31mKeyboardInterrupt\u001b[0m                         Traceback (most recent call last)",
      "\u001b[1;32m~\\AppData\\Local\\Temp\\ipykernel_16228\\3574418732.py\u001b[0m in \u001b[0;36m<module>\u001b[1;34m\u001b[0m\n\u001b[0;32m      2\u001b[0m \u001b[0mafter_time\u001b[0m \u001b[1;33m=\u001b[0m \u001b[0mtime\u001b[0m\u001b[1;33m.\u001b[0m\u001b[0mtime\u001b[0m\u001b[1;33m(\u001b[0m\u001b[1;33m)\u001b[0m \u001b[1;33m+\u001b[0m \u001b[1;36m5\u001b[0m\u001b[1;33m\u001b[0m\u001b[1;33m\u001b[0m\u001b[0m\n\u001b[0;32m      3\u001b[0m \u001b[1;32mwhile\u001b[0m \u001b[0mtime\u001b[0m\u001b[1;33m.\u001b[0m\u001b[0mtime\u001b[0m\u001b[1;33m(\u001b[0m\u001b[1;33m)\u001b[0m \u001b[1;33m<\u001b[0m \u001b[0mafter_time\u001b[0m\u001b[1;33m:\u001b[0m\u001b[1;33m\u001b[0m\u001b[1;33m\u001b[0m\u001b[0m\n\u001b[1;32m----> 4\u001b[1;33m     \u001b[0mcnt\u001b[0m \u001b[1;33m+=\u001b[0m \u001b[1;36m1\u001b[0m\u001b[1;33m\u001b[0m\u001b[1;33m\u001b[0m\u001b[0m\n\u001b[0m\u001b[0;32m      5\u001b[0m \u001b[0mcnt\u001b[0m\u001b[1;33m\u001b[0m\u001b[1;33m\u001b[0m\u001b[0m\n",
      "\u001b[1;31mKeyboardInterrupt\u001b[0m: "
     ]
    }
   ],
   "source": [
    "cnt = 0\n",
    "after_time = time.time() + 5\n",
    "while time.time() < after_time:\n",
    "    cnt += 1\n",
    "cnt"
   ]
  },
  {
   "cell_type": "code",
   "execution_count": null,
   "id": "69124494-cee0-4180-b66a-6e17828e13bb",
   "metadata": {},
   "outputs": [],
   "source": [
    "# 여기부터는 계속 네트워크 오류뜸"
   ]
  },
  {
   "cell_type": "code",
   "execution_count": null,
   "id": "d5d9d30b-5639-4444-8d28-145990e5a178",
   "metadata": {},
   "outputs": [
    {
     "name": "stdout",
     "output_type": "stream",
     "text": [
      "1번째 방문입니다\n"
     ]
    },
    {
     "name": "stdin",
     "output_type": "stream",
     "text": [
      "반복을 종료하시겠습니까 dd\n"
     ]
    },
    {
     "name": "stdout",
     "output_type": "stream",
     "text": [
      "1번째 방문입니다\n"
     ]
    }
   ],
   "source": [
    "i = 1 \n",
    "while True:\n",
    "    print(f'{i}번째 방문입니다')\n",
    "    text = input('반복을 종료하시겠습니까?')\n",
    "    text = text.upper()\n",
    "    i += 1\n",
    "    if text == 'Y':\n",
    "        print(f'{i}번째 방문하셨습니다 이상 반복을 종료합니다')\n",
    "        break"
   ]
  },
  {
   "cell_type": "code",
   "execution_count": null,
   "id": "3339fcee-3984-4ade-87be-bda5ec85cfe6",
   "metadata": {},
   "outputs": [],
   "source": []
  },
  {
   "cell_type": "code",
   "execution_count": null,
   "id": "2180495d-8458-4e09-821e-5430dbe9a6f9",
   "metadata": {},
   "outputs": [],
   "source": []
  }
 ],
 "metadata": {
  "kernelspec": {
   "display_name": "yuuni",
   "language": "python",
   "name": "yuuni"
  },
  "language_info": {
   "codemirror_mode": {
    "name": "ipython",
    "version": 3
   },
   "file_extension": ".py",
   "mimetype": "text/x-python",
   "name": "python",
   "nbconvert_exporter": "python",
   "pygments_lexer": "ipython3",
   "version": "3.9.13"
  }
 },
 "nbformat": 4,
 "nbformat_minor": 5
}
